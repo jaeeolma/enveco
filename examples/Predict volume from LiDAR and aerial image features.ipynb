{
 "cells": [
  {
   "cell_type": "markdown",
   "metadata": {},
   "source": [
    "# Predict volume from LiDAR features"
   ]
  },
  {
   "cell_type": "code",
   "execution_count": 1,
   "metadata": {
    "ExecuteTime": {
     "end_time": "2021-01-21T07:00:10.173371Z",
     "start_time": "2021-01-21T07:00:08.512909Z"
    }
   },
   "outputs": [
    {
     "name": "stderr",
     "output_type": "stream",
     "text": [
      "/home/mayrajeo/miniconda3/envs/enveco/lib/python3.8/site-packages/torch/cuda/__init__.py:52: UserWarning: CUDA initialization: Found no NVIDIA driver on your system. Please check that you have an NVIDIA GPU and installed a driver from http://www.nvidia.com/Download/index.aspx (Triggered internally at  /opt/conda/conda-bld/pytorch_1603729062494/work/c10/cuda/CUDAFunctions.cpp:100.)\n",
      "  return torch._C._cuda_getDeviceCount() > 0\n"
     ]
    }
   ],
   "source": [
    "from fastai.data.all import *\n",
    "from fastai.tabular.all import *\n",
    "from fastai.callback.progress import ShowGraphCallback"
   ]
  },
  {
   "cell_type": "code",
   "execution_count": 2,
   "metadata": {
    "ExecuteTime": {
     "end_time": "2021-01-21T07:00:11.113123Z",
     "start_time": "2021-01-21T07:00:10.175191Z"
    }
   },
   "outputs": [],
   "source": [
    "absolute_path = Path().absolute()\n",
    "sys.path.append(str(absolute_path.parents[0]))\n",
    "\n",
    "from enveco.tabular.preprocessing import *\n",
    "from enveco.interpretation import *\n",
    "from enveco.model.ensemble import *\n",
    "from enveco.metrics import *"
   ]
  },
  {
   "cell_type": "markdown",
   "metadata": {},
   "source": [
    "Run the example workflow for predicting the volume of the field plot from LiDAR-derived features."
   ]
  },
  {
   "cell_type": "markdown",
   "metadata": {},
   "source": [
    "# Read and preprocess data"
   ]
  },
  {
   "cell_type": "code",
   "execution_count": 3,
   "metadata": {
    "ExecuteTime": {
     "end_time": "2021-01-21T07:00:11.924759Z",
     "start_time": "2021-01-21T07:00:11.894124Z"
    }
   },
   "outputs": [],
   "source": [
    "#data_path = Path('../../../andras/ml/AV_leafon/')\n",
    "data_path = Path('../../enveco_data/enveco/')\n",
    "preprocessor = EnvecoPreprocessor(data_path/'AV.leaf.on.train.csv', \n",
    "                                  data_path/'AV.leaf.on.val.csv',\n",
    "                                  data_path/'AV.leaf.on.test.csv')"
   ]
  },
  {
   "cell_type": "markdown",
   "metadata": {},
   "source": [
    "Preprocess dataframes and extract features from them. \n",
    "Also, specify whether to `normalize` data (default: True) or to log-transform target column (default: False)"
   ]
  },
  {
   "cell_type": "code",
   "execution_count": null,
   "metadata": {
    "ExecuteTime": {
     "end_time": "2021-01-20T13:36:32.595891Z",
     "start_time": "2021-01-20T13:36:30.556854Z"
    }
   },
   "outputs": [],
   "source": [
    "trainval_tb, test_tb = preprocessor.preprocess(target_col=['v_lp'], \n",
    "                                               path=data_path,\n",
    "                                               lidar_pref='AV_las',\n",
    "                                               image_pref='AV_tif',\n",
    "                                               mask_plot=False,\n",
    "                                               min_h=1.3,\n",
    "                                               normalize=True,\n",
    "                                               log_y=False,\n",
    "                                               \n",
    "                                               save_path='../../enveco_data'\n",
    "                                              )"
   ]
  },
  {
   "cell_type": "markdown",
   "metadata": {},
   "source": [
    "If all features are already preprocessed, it's possible to use saved features and save a bit of time."
   ]
  },
  {
   "cell_type": "code",
   "execution_count": 282,
   "metadata": {
    "ExecuteTime": {
     "end_time": "2021-01-21T08:19:42.108688Z",
     "start_time": "2021-01-21T08:19:41.787244Z"
    }
   },
   "outputs": [],
   "source": [
    "trainval_tb, test_tb = preprocessor.load_las_image(path='../../enveco_data', target_col=['v'], log_y=False)"
   ]
  },
  {
   "cell_type": "markdown",
   "metadata": {},
   "source": [
    "Previous method returns two `TabularPandas` objects. Put them to dataloaders."
   ]
  },
  {
   "cell_type": "code",
   "execution_count": 283,
   "metadata": {
    "ExecuteTime": {
     "end_time": "2021-01-21T08:19:42.272407Z",
     "start_time": "2021-01-21T08:19:42.253686Z"
    }
   },
   "outputs": [],
   "source": [
    "dls = trainval_tb.dataloaders(bs=64, y_block=RegressionBlock)"
   ]
  },
  {
   "cell_type": "markdown",
   "metadata": {},
   "source": [
    "Check the distribution of the target variable `v`, in order to get limits for `sigmoid_range`."
   ]
  },
  {
   "cell_type": "code",
   "execution_count": 284,
   "metadata": {
    "ExecuteTime": {
     "end_time": "2021-01-21T08:19:42.741836Z",
     "start_time": "2021-01-21T08:19:42.732347Z"
    }
   },
   "outputs": [
    {
     "data": {
      "text/plain": [
       "count    1044.000000\n",
       "mean      145.712250\n",
       "std        86.097336\n",
       "min         2.700000\n",
       "25%        80.927498\n",
       "50%       132.125000\n",
       "75%       191.305000\n",
       "max       867.349976\n",
       "Name: v, dtype: float64"
      ]
     },
     "execution_count": 284,
     "metadata": {},
     "output_type": "execute_result"
    }
   ],
   "source": [
    "trainval_tb.train.y.describe()"
   ]
  },
  {
   "cell_type": "code",
   "execution_count": 285,
   "metadata": {
    "ExecuteTime": {
     "end_time": "2021-01-21T08:19:42.997824Z",
     "start_time": "2021-01-21T08:19:42.987846Z"
    }
   },
   "outputs": [
    {
     "data": {
      "text/plain": [
       "count    225.000000\n",
       "mean     150.768631\n",
       "std       95.610825\n",
       "min        2.310000\n",
       "25%       87.419998\n",
       "50%      133.600006\n",
       "75%      191.639999\n",
       "max      539.479980\n",
       "Name: v, dtype: float64"
      ]
     },
     "execution_count": 285,
     "metadata": {},
     "output_type": "execute_result"
    }
   ],
   "source": [
    "trainval_tb.valid.y.describe()"
   ]
  },
  {
   "cell_type": "code",
   "execution_count": 286,
   "metadata": {
    "ExecuteTime": {
     "end_time": "2021-01-21T08:19:43.304170Z",
     "start_time": "2021-01-21T08:19:43.290928Z"
    }
   },
   "outputs": [
    {
     "data": {
      "text/plain": [
       "count    225.000000\n",
       "mean     152.013641\n",
       "std       97.223846\n",
       "min        7.000000\n",
       "25%       87.820000\n",
       "50%      134.979996\n",
       "75%      192.529999\n",
       "max      550.169983\n",
       "Name: v, dtype: float64"
      ]
     },
     "execution_count": 286,
     "metadata": {},
     "output_type": "execute_result"
    }
   ],
   "source": [
    "test_tb.train.y.describe()"
   ]
  },
  {
   "cell_type": "markdown",
   "metadata": {},
   "source": [
    "# ANN"
   ]
  },
  {
   "cell_type": "markdown",
   "metadata": {},
   "source": [
    "Create `Learner` object. Specify y_range to better control the training, set 1000 m³ as the maximum value for the total volume.\n",
    "\n",
    "Loss function is Mean Squared Error, monitor also Root Mean Squared Error, mean-normalized RMSE, Mean Absolute Error, R2Score, bias and mean-scaled bias. Target variable is log-transformed, so all metrics are log-equivalents (so MSLE, RMSLE...)."
   ]
  },
  {
   "cell_type": "code",
   "execution_count": 287,
   "metadata": {
    "ExecuteTime": {
     "end_time": "2021-01-21T08:19:44.435704Z",
     "start_time": "2021-01-21T08:19:44.404281Z"
    }
   },
   "outputs": [
    {
     "data": {
      "text/html": [],
      "text/plain": [
       "<IPython.core.display.HTML object>"
      ]
     },
     "metadata": {},
     "output_type": "display_data"
    },
    {
     "data": {
      "text/plain": [
       "TabularModel (Input shape: 64 x torch.Size([64, 174]))\n",
       "============================================================================\n",
       "Layer (type)         Output Shape         Param #    Trainable \n",
       "============================================================================\n",
       "                     64 x 174            \n",
       "BatchNorm1d                               348        True      \n",
       "BatchNorm1d                               348        True      \n",
       "____________________________________________________________________________\n",
       "                     64 x 200            \n",
       "Linear                                    34800      True      \n",
       "ReLU                                                           \n",
       "BatchNorm1d                               400        True      \n",
       "____________________________________________________________________________\n",
       "                     64 x 100            \n",
       "Linear                                    20000      True      \n",
       "ReLU                                                           \n",
       "____________________________________________________________________________\n",
       "                     64 x 1              \n",
       "Linear                                    101        True      \n",
       "SigmoidRange                                                   \n",
       "____________________________________________________________________________\n",
       "\n",
       "Total params: 55,997\n",
       "Total trainable params: 55,997\n",
       "Total non-trainable params: 0\n",
       "\n",
       "Optimizer used: <function Adam at 0x7f64e05830d0>\n",
       "Loss function: FlattenedLoss of MSELoss()\n",
       "\n",
       "Callbacks:\n",
       "  - TrainEvalCallback\n",
       "  - Recorder\n",
       "  - ProgressCallback"
      ]
     },
     "execution_count": 287,
     "metadata": {},
     "output_type": "execute_result"
    }
   ],
   "source": [
    "learn = tabular_learner(dls, \n",
    "                        metrics=[rmse, rrmse, mae, bias, bias_pct, R2Score()],\n",
    "                        y_range=(Tensor([0 for _ in range(dls.c)]), Tensor(trainval_tb.train.ys.max().values*1.1))\n",
    "                        #y_range=(0, trainval_tb.train.y.max()*1.1)\n",
    "                       )\n",
    "learn.summary()"
   ]
  },
  {
   "cell_type": "markdown",
   "metadata": {
    "ExecuteTime": {
     "end_time": "2020-11-02T12:15:14.763168Z",
     "start_time": "2020-11-02T12:15:14.758250Z"
    }
   },
   "source": [
    "Find learning rate to use."
   ]
  },
  {
   "cell_type": "code",
   "execution_count": 288,
   "metadata": {
    "ExecuteTime": {
     "end_time": "2021-01-21T08:19:47.499090Z",
     "start_time": "2021-01-21T08:19:45.884140Z"
    }
   },
   "outputs": [
    {
     "data": {
      "text/html": [],
      "text/plain": [
       "<IPython.core.display.HTML object>"
      ]
     },
     "metadata": {},
     "output_type": "display_data"
    },
    {
     "data": {
      "text/plain": [
       "SuggestedLRs(lr_min=0.15848932266235352, lr_steep=0.0020892962347716093)"
      ]
     },
     "execution_count": 288,
     "metadata": {},
     "output_type": "execute_result"
    },
    {
     "data": {
      "image/png": "[encoded data removed]",
      "text/plain": [
       "<Figure size 432x288 with 1 Axes>"
      ]
     },
     "metadata": {
      "needs_background": "light"
     },
     "output_type": "display_data"
    }
   ],
   "source": [
    "learn.lr_find()"
   ]
  },
  {
   "cell_type": "markdown",
   "metadata": {},
   "source": [
    "1e-2 seems to be a good learning rate."
   ]
  },
  {
   "cell_type": "code",
   "execution_count": 289,
   "metadata": {
    "ExecuteTime": {
     "end_time": "2021-01-21T08:20:08.703648Z",
     "start_time": "2021-01-21T08:19:49.381612Z"
    },
    "scrolled": false
   },
   "outputs": [
    {
     "data": {
      "text/html": [
       "<table border=\"1\" class=\"dataframe\">\n",
       "  <thead>\n",
       "    <tr style=\"text-align: left;\">\n",
       "      <th>epoch</th>\n",
       "      <th>train_loss</th>\n",
       "      <th>valid_loss</th>\n",
       "      <th>_rmse</th>\n",
       "      <th>_rrmse</th>\n",
       "      <th>mae</th>\n",
       "      <th>_bias</th>\n",
       "      <th>_bias_pct</th>\n",
       "      <th>r2_score</th>\n",
       "      <th>time</th>\n",
       "    </tr>\n",
       "  </thead>\n",
       "  <tbody>\n",
       "    <tr>\n",
       "      <td>0</td>\n",
       "      <td>66307.445312</td>\n",
       "      <td>48374.171875</td>\n",
       "      <td>219.941315</td>\n",
       "      <td>145.880051</td>\n",
       "      <td>206.993347</td>\n",
       "      <td>200.170258</td>\n",
       "      <td>132.766525</td>\n",
       "      <td>-4.315375</td>\n",
       "      <td>00:00</td>\n",
       "    </tr>\n",
       "    <tr>\n",
       "      <td>1</td>\n",
       "      <td>35044.492188</td>\n",
       "      <td>7691.063477</td>\n",
       "      <td>87.698708</td>\n",
       "      <td>58.167751</td>\n",
       "      <td>62.749500</td>\n",
       "      <td>7.908251</td>\n",
       "      <td>5.245290</td>\n",
       "      <td>0.154903</td>\n",
       "      <td>00:00</td>\n",
       "    </tr>\n",
       "    <tr>\n",
       "      <td>2</td>\n",
       "      <td>21548.779297</td>\n",
       "      <td>7360.833008</td>\n",
       "      <td>85.795303</td>\n",
       "      <td>56.905281</td>\n",
       "      <td>60.684048</td>\n",
       "      <td>1.492041</td>\n",
       "      <td>0.989623</td>\n",
       "      <td>0.191189</td>\n",
       "      <td>00:00</td>\n",
       "    </tr>\n",
       "    <tr>\n",
       "      <td>3</td>\n",
       "      <td>14925.705078</td>\n",
       "      <td>3313.009521</td>\n",
       "      <td>57.558750</td>\n",
       "      <td>38.176876</td>\n",
       "      <td>44.772141</td>\n",
       "      <td>-24.884769</td>\n",
       "      <td>-16.505272</td>\n",
       "      <td>0.635965</td>\n",
       "      <td>00:00</td>\n",
       "    </tr>\n",
       "    <tr>\n",
       "      <td>4</td>\n",
       "      <td>10554.933594</td>\n",
       "      <td>2884.840332</td>\n",
       "      <td>53.710712</td>\n",
       "      <td>35.624596</td>\n",
       "      <td>37.076736</td>\n",
       "      <td>2.927446</td>\n",
       "      <td>1.941681</td>\n",
       "      <td>0.683012</td>\n",
       "      <td>00:00</td>\n",
       "    </tr>\n",
       "    <tr>\n",
       "      <td>5</td>\n",
       "      <td>7788.642090</td>\n",
       "      <td>3023.082520</td>\n",
       "      <td>54.982563</td>\n",
       "      <td>36.468174</td>\n",
       "      <td>35.177189</td>\n",
       "      <td>-7.691835</td>\n",
       "      <td>-5.101748</td>\n",
       "      <td>0.667822</td>\n",
       "      <td>00:00</td>\n",
       "    </tr>\n",
       "    <tr>\n",
       "      <td>6</td>\n",
       "      <td>5888.078125</td>\n",
       "      <td>2919.346680</td>\n",
       "      <td>54.030979</td>\n",
       "      <td>35.837021</td>\n",
       "      <td>36.722858</td>\n",
       "      <td>10.747048</td>\n",
       "      <td>7.128173</td>\n",
       "      <td>0.679221</td>\n",
       "      <td>00:00</td>\n",
       "    </tr>\n",
       "    <tr>\n",
       "      <td>7</td>\n",
       "      <td>4638.389648</td>\n",
       "      <td>2365.543213</td>\n",
       "      <td>48.636848</td>\n",
       "      <td>32.259266</td>\n",
       "      <td>33.222450</td>\n",
       "      <td>-8.958727</td>\n",
       "      <td>-5.942037</td>\n",
       "      <td>0.740073</td>\n",
       "      <td>00:00</td>\n",
       "    </tr>\n",
       "    <tr>\n",
       "      <td>8</td>\n",
       "      <td>3737.895020</td>\n",
       "      <td>1872.387085</td>\n",
       "      <td>43.271088</td>\n",
       "      <td>28.700329</td>\n",
       "      <td>30.753864</td>\n",
       "      <td>-0.224899</td>\n",
       "      <td>-0.149168</td>\n",
       "      <td>0.794261</td>\n",
       "      <td>00:00</td>\n",
       "    </tr>\n",
       "    <tr>\n",
       "      <td>9</td>\n",
       "      <td>3123.400146</td>\n",
       "      <td>2272.327393</td>\n",
       "      <td>47.668938</td>\n",
       "      <td>31.617281</td>\n",
       "      <td>32.544060</td>\n",
       "      <td>10.955029</td>\n",
       "      <td>7.266119</td>\n",
       "      <td>0.750316</td>\n",
       "      <td>00:00</td>\n",
       "    </tr>\n",
       "    <tr>\n",
       "      <td>10</td>\n",
       "      <td>2777.961914</td>\n",
       "      <td>2484.840820</td>\n",
       "      <td>49.848179</td>\n",
       "      <td>33.062702</td>\n",
       "      <td>36.118374</td>\n",
       "      <td>-9.200607</td>\n",
       "      <td>-6.102468</td>\n",
       "      <td>0.726965</td>\n",
       "      <td>00:00</td>\n",
       "    </tr>\n",
       "    <tr>\n",
       "      <td>11</td>\n",
       "      <td>2342.529541</td>\n",
       "      <td>1730.707764</td>\n",
       "      <td>41.601776</td>\n",
       "      <td>27.593126</td>\n",
       "      <td>28.816423</td>\n",
       "      <td>3.156926</td>\n",
       "      <td>2.093888</td>\n",
       "      <td>0.809829</td>\n",
       "      <td>00:00</td>\n",
       "    </tr>\n",
       "    <tr>\n",
       "      <td>12</td>\n",
       "      <td>2029.984497</td>\n",
       "      <td>2138.428467</td>\n",
       "      <td>46.243149</td>\n",
       "      <td>30.671602</td>\n",
       "      <td>32.543880</td>\n",
       "      <td>16.902018</td>\n",
       "      <td>11.210567</td>\n",
       "      <td>0.765029</td>\n",
       "      <td>00:00</td>\n",
       "    </tr>\n",
       "    <tr>\n",
       "      <td>13</td>\n",
       "      <td>1887.950684</td>\n",
       "      <td>2045.006348</td>\n",
       "      <td>45.221748</td>\n",
       "      <td>29.994139</td>\n",
       "      <td>31.530809</td>\n",
       "      <td>5.434203</td>\n",
       "      <td>3.604333</td>\n",
       "      <td>0.775294</td>\n",
       "      <td>00:00</td>\n",
       "    </tr>\n",
       "    <tr>\n",
       "      <td>14</td>\n",
       "      <td>1745.586060</td>\n",
       "      <td>2351.492188</td>\n",
       "      <td>48.492188</td>\n",
       "      <td>32.163315</td>\n",
       "      <td>34.673664</td>\n",
       "      <td>14.929144</td>\n",
       "      <td>9.902024</td>\n",
       "      <td>0.741617</td>\n",
       "      <td>00:00</td>\n",
       "    </tr>\n",
       "    <tr>\n",
       "      <td>15</td>\n",
       "      <td>1600.668457</td>\n",
       "      <td>2305.078125</td>\n",
       "      <td>48.011230</td>\n",
       "      <td>31.844313</td>\n",
       "      <td>32.418549</td>\n",
       "      <td>-12.159394</td>\n",
       "      <td>-8.064938</td>\n",
       "      <td>0.746717</td>\n",
       "      <td>00:00</td>\n",
       "    </tr>\n",
       "    <tr>\n",
       "      <td>16</td>\n",
       "      <td>1533.098511</td>\n",
       "      <td>1648.508911</td>\n",
       "      <td>40.601833</td>\n",
       "      <td>26.929897</td>\n",
       "      <td>29.335461</td>\n",
       "      <td>1.768761</td>\n",
       "      <td>1.173162</td>\n",
       "      <td>0.818861</td>\n",
       "      <td>00:00</td>\n",
       "    </tr>\n",
       "    <tr>\n",
       "      <td>17</td>\n",
       "      <td>1387.241699</td>\n",
       "      <td>2312.872314</td>\n",
       "      <td>48.092327</td>\n",
       "      <td>31.898102</td>\n",
       "      <td>32.956669</td>\n",
       "      <td>20.424095</td>\n",
       "      <td>13.546649</td>\n",
       "      <td>0.745861</td>\n",
       "      <td>00:00</td>\n",
       "    </tr>\n",
       "    <tr>\n",
       "      <td>18</td>\n",
       "      <td>1246.128296</td>\n",
       "      <td>1659.709595</td>\n",
       "      <td>40.739532</td>\n",
       "      <td>27.021229</td>\n",
       "      <td>28.542217</td>\n",
       "      <td>-4.569604</td>\n",
       "      <td>-3.030873</td>\n",
       "      <td>0.817630</td>\n",
       "      <td>00:00</td>\n",
       "    </tr>\n",
       "    <tr>\n",
       "      <td>19</td>\n",
       "      <td>1144.438477</td>\n",
       "      <td>1937.414185</td>\n",
       "      <td>44.016068</td>\n",
       "      <td>29.194450</td>\n",
       "      <td>30.555716</td>\n",
       "      <td>10.561257</td>\n",
       "      <td>7.004944</td>\n",
       "      <td>0.787116</td>\n",
       "      <td>00:00</td>\n",
       "    </tr>\n",
       "    <tr>\n",
       "      <td>20</td>\n",
       "      <td>1110.231567</td>\n",
       "      <td>2556.757812</td>\n",
       "      <td>50.564392</td>\n",
       "      <td>33.537743</td>\n",
       "      <td>36.954071</td>\n",
       "      <td>21.019112</td>\n",
       "      <td>13.941304</td>\n",
       "      <td>0.719062</td>\n",
       "      <td>00:00</td>\n",
       "    </tr>\n",
       "    <tr>\n",
       "      <td>21</td>\n",
       "      <td>1068.659180</td>\n",
       "      <td>1645.787109</td>\n",
       "      <td>40.568302</td>\n",
       "      <td>26.907658</td>\n",
       "      <td>28.911318</td>\n",
       "      <td>-7.459770</td>\n",
       "      <td>-4.947827</td>\n",
       "      <td>0.819160</td>\n",
       "      <td>00:00</td>\n",
       "    </tr>\n",
       "    <tr>\n",
       "      <td>22</td>\n",
       "      <td>937.780090</td>\n",
       "      <td>2006.562866</td>\n",
       "      <td>44.794674</td>\n",
       "      <td>29.710875</td>\n",
       "      <td>28.903440</td>\n",
       "      <td>-6.989524</td>\n",
       "      <td>-4.635928</td>\n",
       "      <td>0.779518</td>\n",
       "      <td>00:00</td>\n",
       "    </tr>\n",
       "    <tr>\n",
       "      <td>23</td>\n",
       "      <td>882.433838</td>\n",
       "      <td>1976.879761</td>\n",
       "      <td>44.462116</td>\n",
       "      <td>29.490297</td>\n",
       "      <td>31.080124</td>\n",
       "      <td>5.431501</td>\n",
       "      <td>3.602541</td>\n",
       "      <td>0.782780</td>\n",
       "      <td>00:00</td>\n",
       "    </tr>\n",
       "    <tr>\n",
       "      <td>24</td>\n",
       "      <td>882.885010</td>\n",
       "      <td>1695.376953</td>\n",
       "      <td>41.174957</td>\n",
       "      <td>27.310032</td>\n",
       "      <td>28.097473</td>\n",
       "      <td>0.534580</td>\n",
       "      <td>0.354570</td>\n",
       "      <td>0.813711</td>\n",
       "      <td>00:00</td>\n",
       "    </tr>\n",
       "    <tr>\n",
       "      <td>25</td>\n",
       "      <td>821.317444</td>\n",
       "      <td>1707.846924</td>\n",
       "      <td>41.326103</td>\n",
       "      <td>27.410284</td>\n",
       "      <td>29.745378</td>\n",
       "      <td>9.699656</td>\n",
       "      <td>6.433472</td>\n",
       "      <td>0.812341</td>\n",
       "      <td>00:00</td>\n",
       "    </tr>\n",
       "    <tr>\n",
       "      <td>26</td>\n",
       "      <td>772.572815</td>\n",
       "      <td>2057.832520</td>\n",
       "      <td>45.363338</td>\n",
       "      <td>30.088053</td>\n",
       "      <td>32.398052</td>\n",
       "      <td>-16.599743</td>\n",
       "      <td>-11.010078</td>\n",
       "      <td>0.773884</td>\n",
       "      <td>00:00</td>\n",
       "    </tr>\n",
       "    <tr>\n",
       "      <td>27</td>\n",
       "      <td>696.568237</td>\n",
       "      <td>1950.278442</td>\n",
       "      <td>44.161957</td>\n",
       "      <td>29.291212</td>\n",
       "      <td>30.077955</td>\n",
       "      <td>7.762762</td>\n",
       "      <td>5.148792</td>\n",
       "      <td>0.785703</td>\n",
       "      <td>00:00</td>\n",
       "    </tr>\n",
       "    <tr>\n",
       "      <td>28</td>\n",
       "      <td>761.933777</td>\n",
       "      <td>2016.493164</td>\n",
       "      <td>44.905380</td>\n",
       "      <td>29.784302</td>\n",
       "      <td>31.723370</td>\n",
       "      <td>-9.681954</td>\n",
       "      <td>-6.421731</td>\n",
       "      <td>0.778427</td>\n",
       "      <td>00:00</td>\n",
       "    </tr>\n",
       "    <tr>\n",
       "      <td>29</td>\n",
       "      <td>744.522400</td>\n",
       "      <td>2488.538818</td>\n",
       "      <td>49.885254</td>\n",
       "      <td>33.087292</td>\n",
       "      <td>32.868168</td>\n",
       "      <td>10.301873</td>\n",
       "      <td>6.832903</td>\n",
       "      <td>0.726558</td>\n",
       "      <td>00:00</td>\n",
       "    </tr>\n",
       "    <tr>\n",
       "      <td>30</td>\n",
       "      <td>742.734436</td>\n",
       "      <td>2001.335449</td>\n",
       "      <td>44.736282</td>\n",
       "      <td>29.672146</td>\n",
       "      <td>32.362759</td>\n",
       "      <td>16.258854</td>\n",
       "      <td>10.783978</td>\n",
       "      <td>0.780092</td>\n",
       "      <td>00:00</td>\n",
       "    </tr>\n",
       "    <tr>\n",
       "      <td>31</td>\n",
       "      <td>722.849060</td>\n",
       "      <td>1577.561768</td>\n",
       "      <td>39.718533</td>\n",
       "      <td>26.344030</td>\n",
       "      <td>28.040979</td>\n",
       "      <td>-6.933527</td>\n",
       "      <td>-4.598786</td>\n",
       "      <td>0.826657</td>\n",
       "      <td>00:00</td>\n",
       "    </tr>\n",
       "    <tr>\n",
       "      <td>32</td>\n",
       "      <td>700.684448</td>\n",
       "      <td>1646.686768</td>\n",
       "      <td>40.579388</td>\n",
       "      <td>26.915010</td>\n",
       "      <td>28.556185</td>\n",
       "      <td>-5.599701</td>\n",
       "      <td>-3.714103</td>\n",
       "      <td>0.819061</td>\n",
       "      <td>00:00</td>\n",
       "    </tr>\n",
       "    <tr>\n",
       "      <td>33</td>\n",
       "      <td>641.796387</td>\n",
       "      <td>1656.804321</td>\n",
       "      <td>40.703861</td>\n",
       "      <td>26.997570</td>\n",
       "      <td>28.208200</td>\n",
       "      <td>-7.688519</td>\n",
       "      <td>-5.099548</td>\n",
       "      <td>0.817950</td>\n",
       "      <td>00:00</td>\n",
       "    </tr>\n",
       "    <tr>\n",
       "      <td>34</td>\n",
       "      <td>579.715881</td>\n",
       "      <td>1700.736084</td>\n",
       "      <td>41.239983</td>\n",
       "      <td>27.353161</td>\n",
       "      <td>28.786076</td>\n",
       "      <td>-8.049556</td>\n",
       "      <td>-5.339013</td>\n",
       "      <td>0.813122</td>\n",
       "      <td>00:00</td>\n",
       "    </tr>\n",
       "    <tr>\n",
       "      <td>35</td>\n",
       "      <td>518.109985</td>\n",
       "      <td>1593.296021</td>\n",
       "      <td>39.916111</td>\n",
       "      <td>26.475080</td>\n",
       "      <td>26.972202</td>\n",
       "      <td>2.473060</td>\n",
       "      <td>1.640302</td>\n",
       "      <td>0.824928</td>\n",
       "      <td>00:00</td>\n",
       "    </tr>\n",
       "    <tr>\n",
       "      <td>36</td>\n",
       "      <td>486.060394</td>\n",
       "      <td>1710.730835</td>\n",
       "      <td>41.360985</td>\n",
       "      <td>27.433418</td>\n",
       "      <td>28.250116</td>\n",
       "      <td>-3.089024</td>\n",
       "      <td>-2.048851</td>\n",
       "      <td>0.812024</td>\n",
       "      <td>00:00</td>\n",
       "    </tr>\n",
       "    <tr>\n",
       "      <td>37</td>\n",
       "      <td>442.394165</td>\n",
       "      <td>1730.087646</td>\n",
       "      <td>41.594322</td>\n",
       "      <td>27.588182</td>\n",
       "      <td>28.622492</td>\n",
       "      <td>7.317742</td>\n",
       "      <td>4.853624</td>\n",
       "      <td>0.809897</td>\n",
       "      <td>00:00</td>\n",
       "    </tr>\n",
       "    <tr>\n",
       "      <td>38</td>\n",
       "      <td>432.232452</td>\n",
       "      <td>1832.440552</td>\n",
       "      <td>42.807018</td>\n",
       "      <td>28.392527</td>\n",
       "      <td>32.332565</td>\n",
       "      <td>15.629313</td>\n",
       "      <td>10.366424</td>\n",
       "      <td>0.798651</td>\n",
       "      <td>00:00</td>\n",
       "    </tr>\n",
       "    <tr>\n",
       "      <td>39</td>\n",
       "      <td>397.063751</td>\n",
       "      <td>1612.613159</td>\n",
       "      <td>40.157356</td>\n",
       "      <td>26.635090</td>\n",
       "      <td>27.534929</td>\n",
       "      <td>-0.955185</td>\n",
       "      <td>-0.633544</td>\n",
       "      <td>0.822805</td>\n",
       "      <td>00:00</td>\n",
       "    </tr>\n",
       "    <tr>\n",
       "      <td>40</td>\n",
       "      <td>370.886414</td>\n",
       "      <td>1629.242798</td>\n",
       "      <td>40.363880</td>\n",
       "      <td>26.772070</td>\n",
       "      <td>28.231018</td>\n",
       "      <td>2.401284</td>\n",
       "      <td>1.592695</td>\n",
       "      <td>0.820978</td>\n",
       "      <td>00:00</td>\n",
       "    </tr>\n",
       "    <tr>\n",
       "      <td>41</td>\n",
       "      <td>372.455231</td>\n",
       "      <td>1912.354736</td>\n",
       "      <td>43.730480</td>\n",
       "      <td>29.005030</td>\n",
       "      <td>29.907059</td>\n",
       "      <td>10.686048</td>\n",
       "      <td>7.087713</td>\n",
       "      <td>0.789870</td>\n",
       "      <td>00:00</td>\n",
       "    </tr>\n",
       "    <tr>\n",
       "      <td>42</td>\n",
       "      <td>350.533051</td>\n",
       "      <td>1654.814087</td>\n",
       "      <td>40.679409</td>\n",
       "      <td>26.981350</td>\n",
       "      <td>27.844175</td>\n",
       "      <td>0.114302</td>\n",
       "      <td>0.075813</td>\n",
       "      <td>0.818168</td>\n",
       "      <td>00:00</td>\n",
       "    </tr>\n",
       "    <tr>\n",
       "      <td>43</td>\n",
       "      <td>325.688995</td>\n",
       "      <td>1735.145386</td>\n",
       "      <td>41.655075</td>\n",
       "      <td>27.628479</td>\n",
       "      <td>27.955469</td>\n",
       "      <td>7.618807</td>\n",
       "      <td>5.053311</td>\n",
       "      <td>0.809341</td>\n",
       "      <td>00:00</td>\n",
       "    </tr>\n",
       "    <tr>\n",
       "      <td>44</td>\n",
       "      <td>309.424133</td>\n",
       "      <td>1612.111938</td>\n",
       "      <td>40.151115</td>\n",
       "      <td>26.630951</td>\n",
       "      <td>27.773355</td>\n",
       "      <td>6.451487</td>\n",
       "      <td>4.279065</td>\n",
       "      <td>0.822860</td>\n",
       "      <td>00:00</td>\n",
       "    </tr>\n",
       "    <tr>\n",
       "      <td>45</td>\n",
       "      <td>273.985870</td>\n",
       "      <td>1597.229248</td>\n",
       "      <td>39.965351</td>\n",
       "      <td>26.507738</td>\n",
       "      <td>27.380747</td>\n",
       "      <td>3.140566</td>\n",
       "      <td>2.083037</td>\n",
       "      <td>0.824496</td>\n",
       "      <td>00:00</td>\n",
       "    </tr>\n",
       "    <tr>\n",
       "      <td>46</td>\n",
       "      <td>263.557587</td>\n",
       "      <td>1592.549316</td>\n",
       "      <td>39.906757</td>\n",
       "      <td>26.468876</td>\n",
       "      <td>27.254475</td>\n",
       "      <td>0.628477</td>\n",
       "      <td>0.416849</td>\n",
       "      <td>0.825010</td>\n",
       "      <td>00:00</td>\n",
       "    </tr>\n",
       "    <tr>\n",
       "      <td>47</td>\n",
       "      <td>253.685089</td>\n",
       "      <td>1624.079590</td>\n",
       "      <td>40.299870</td>\n",
       "      <td>26.729614</td>\n",
       "      <td>27.584824</td>\n",
       "      <td>3.997478</td>\n",
       "      <td>2.651399</td>\n",
       "      <td>0.821545</td>\n",
       "      <td>00:00</td>\n",
       "    </tr>\n",
       "    <tr>\n",
       "      <td>48</td>\n",
       "      <td>245.888260</td>\n",
       "      <td>1609.739746</td>\n",
       "      <td>40.121563</td>\n",
       "      <td>26.611349</td>\n",
       "      <td>27.365421</td>\n",
       "      <td>4.075582</td>\n",
       "      <td>2.703203</td>\n",
       "      <td>0.823121</td>\n",
       "      <td>00:00</td>\n",
       "    </tr>\n",
       "    <tr>\n",
       "      <td>49</td>\n",
       "      <td>240.113693</td>\n",
       "      <td>1627.138062</td>\n",
       "      <td>40.337803</td>\n",
       "      <td>26.754776</td>\n",
       "      <td>27.716591</td>\n",
       "      <td>5.417165</td>\n",
       "      <td>3.593032</td>\n",
       "      <td>0.821209</td>\n",
       "      <td>00:00</td>\n",
       "    </tr>\n",
       "  </tbody>\n",
       "</table>"
      ],
      "text/plain": [
       "<IPython.core.display.HTML object>"
      ]
     },
     "metadata": {},
     "output_type": "display_data"
    },
    {
     "data": {
      "image/png": "[encoded data removed]",
      "text/plain": [
       "<Figure size 432x288 with 1 Axes>"
      ]
     },
     "metadata": {},
     "output_type": "display_data"
    }
   ],
   "source": [
    "learn.fit_one_cycle(50, lr_max=1e-2, cbs=ShowGraphCallback())"
   ]
  },
  {
   "cell_type": "markdown",
   "metadata": {},
   "source": [
    "See validation results"
   ]
  },
  {
   "cell_type": "code",
   "execution_count": 290,
   "metadata": {
    "ExecuteTime": {
     "end_time": "2021-01-21T08:20:10.278443Z",
     "start_time": "2021-01-21T08:20:10.232290Z"
    }
   },
   "outputs": [
    {
     "data": {
      "text/html": [],
      "text/plain": [
       "<IPython.core.display.HTML object>"
      ]
     },
     "metadata": {},
     "output_type": "display_data"
    },
    {
     "data": {
      "text/plain": [
       "(#7) [1627.1380615234375,40.33780288696289,26.754776000976562,27.716590881347656,5.4171648025512695,3.593032121658325,0.8212093512083036]"
      ]
     },
     "execution_count": 290,
     "metadata": {},
     "output_type": "execute_result"
    }
   ],
   "source": [
    "learn.validate()"
   ]
  },
  {
   "cell_type": "code",
   "execution_count": 291,
   "metadata": {
    "ExecuteTime": {
     "end_time": "2021-01-21T08:20:10.572315Z",
     "start_time": "2021-01-21T08:20:10.523932Z"
    }
   },
   "outputs": [
    {
     "data": {
      "text/html": [],
      "text/plain": [
       "<IPython.core.display.HTML object>"
      ]
     },
     "metadata": {},
     "output_type": "display_data"
    }
   ],
   "source": [
    "preds, true = learn.get_preds()"
   ]
  },
  {
   "cell_type": "markdown",
   "metadata": {},
   "source": [
    "`RegressionInterpretation` can be used to plot results."
   ]
  },
  {
   "cell_type": "code",
   "execution_count": 292,
   "metadata": {
    "ExecuteTime": {
     "end_time": "2021-01-21T08:20:11.370288Z",
     "start_time": "2021-01-21T08:20:11.323528Z"
    }
   },
   "outputs": [
    {
     "data": {
      "text/html": [],
      "text/plain": [
       "<IPython.core.display.HTML object>"
      ]
     },
     "metadata": {},
     "output_type": "display_data"
    }
   ],
   "source": [
    "reg_interp = RegressionInterpretation.from_learner(learn)"
   ]
  },
  {
   "cell_type": "code",
   "execution_count": 293,
   "metadata": {
    "ExecuteTime": {
     "end_time": "2021-01-21T08:20:11.912148Z",
     "start_time": "2021-01-21T08:20:11.628518Z"
    }
   },
   "outputs": [
    {
     "data": {
      "image/png": "[encoded data removed]",
      "text/plain": [
       "<Figure size 504x432 with 2 Axes>"
      ]
     },
     "metadata": {
      "needs_background": "light"
     },
     "output_type": "display_data"
    }
   ],
   "source": [
    "reg_interp.plot_results(log_y=False)\n",
    "plt.show()"
   ]
  },
  {
   "cell_type": "markdown",
   "metadata": {},
   "source": [
    "Evaluate test set."
   ]
  },
  {
   "cell_type": "code",
   "execution_count": 294,
   "metadata": {
    "ExecuteTime": {
     "end_time": "2021-01-21T08:20:14.767008Z",
     "start_time": "2021-01-21T08:20:14.748255Z"
    }
   },
   "outputs": [],
   "source": [
    "test_dls = test_tb.dataloaders(y_block=RegressionBlock(), shuffle_train=False, drop_last=False)"
   ]
  },
  {
   "cell_type": "code",
   "execution_count": 295,
   "metadata": {
    "ExecuteTime": {
     "end_time": "2021-01-21T08:20:15.179763Z",
     "start_time": "2021-01-21T08:20:15.123644Z"
    }
   },
   "outputs": [
    {
     "data": {
      "text/html": [],
      "text/plain": [
       "<IPython.core.display.HTML object>"
      ]
     },
     "metadata": {},
     "output_type": "display_data"
    }
   ],
   "source": [
    "test_interp = RegressionInterpretation.from_learner(learn, dl=test_dls.train, ds_idx=0)"
   ]
  },
  {
   "cell_type": "code",
   "execution_count": 296,
   "metadata": {
    "ExecuteTime": {
     "end_time": "2021-01-21T08:20:15.759141Z",
     "start_time": "2021-01-21T08:20:15.476550Z"
    }
   },
   "outputs": [
    {
     "data": {
      "image/png": "[encoded data removed]",
      "text/plain": [
       "<Figure size 504x432 with 2 Axes>"
      ]
     },
     "metadata": {
      "needs_background": "light"
     },
     "output_type": "display_data"
    }
   ],
   "source": [
    "test_interp.plot_results(log_y=False)\n",
    "plt.show()"
   ]
  },
  {
   "cell_type": "code",
   "execution_count": 297,
   "metadata": {
    "ExecuteTime": {
     "end_time": "2021-01-21T08:20:17.792708Z",
     "start_time": "2021-01-21T08:20:17.740854Z"
    }
   },
   "outputs": [
    {
     "data": {
      "text/html": [],
      "text/plain": [
       "<IPython.core.display.HTML object>"
      ]
     },
     "metadata": {},
     "output_type": "display_data"
    }
   ],
   "source": [
    "test_preds = learn.get_preds(dl=test_dls.train)"
   ]
  },
  {
   "cell_type": "markdown",
   "metadata": {},
   "source": [
    "# Ensemble of ANNs"
   ]
  },
  {
   "cell_type": "markdown",
   "metadata": {},
   "source": [
    "Fit several models at once."
   ]
  },
  {
   "cell_type": "code",
   "execution_count": 298,
   "metadata": {
    "ExecuteTime": {
     "end_time": "2021-01-21T08:20:22.784057Z",
     "start_time": "2021-01-21T08:20:22.764185Z"
    }
   },
   "outputs": [],
   "source": [
    "ensemble = Ensemble(dls, learn_func=tabular_learner, ens_dir='ensembles',\n",
    "                    #y_range=(Tensor([0 for _ in range(dls.c)]), Tensor(trainval_tb.train.ys.max().values*1.1)),\n",
    "                    y_range=(0, trainval_tb.train.y.max()*1.1),\n",
    "                    metrics=[rmse, rrmse, bias, bias_pct, mae, R2Score()], \n",
    "                    n_models=10)"
   ]
  },
  {
   "cell_type": "code",
   "execution_count": 299,
   "metadata": {
    "ExecuteTime": {
     "end_time": "2021-01-21T08:22:32.993662Z",
     "start_time": "2021-01-21T08:20:32.966399Z"
    },
    "scrolled": true
   },
   "outputs": [
    {
     "data": {
      "text/html": [],
      "text/plain": [
       "<IPython.core.display.HTML object>"
      ]
     },
     "metadata": {},
     "output_type": "display_data"
    },
    {
     "data": {
      "text/html": [],
      "text/plain": [
       "<IPython.core.display.HTML object>"
      ]
     },
     "metadata": {},
     "output_type": "display_data"
    },
    {
     "data": {
      "text/html": [],
      "text/plain": [
       "<IPython.core.display.HTML object>"
      ]
     },
     "metadata": {},
     "output_type": "display_data"
    },
    {
     "data": {
      "text/html": [],
      "text/plain": [
       "<IPython.core.display.HTML object>"
      ]
     },
     "metadata": {},
     "output_type": "display_data"
    },
    {
     "data": {
      "text/html": [],
      "text/plain": [
       "<IPython.core.display.HTML object>"
      ]
     },
     "metadata": {},
     "output_type": "display_data"
    },
    {
     "data": {
      "text/html": [],
      "text/plain": [
       "<IPython.core.display.HTML object>"
      ]
     },
     "metadata": {},
     "output_type": "display_data"
    },
    {
     "data": {
      "text/html": [],
      "text/plain": [
       "<IPython.core.display.HTML object>"
      ]
     },
     "metadata": {},
     "output_type": "display_data"
    },
    {
     "data": {
      "text/html": [],
      "text/plain": [
       "<IPython.core.display.HTML object>"
      ]
     },
     "metadata": {},
     "output_type": "display_data"
    },
    {
     "data": {
      "text/html": [],
      "text/plain": [
       "<IPython.core.display.HTML object>"
      ]
     },
     "metadata": {},
     "output_type": "display_data"
    },
    {
     "data": {
      "text/html": [],
      "text/plain": [
       "<IPython.core.display.HTML object>"
      ]
     },
     "metadata": {},
     "output_type": "display_data"
    }
   ],
   "source": [
    "ensemble.fit_one_cycle(50, 1e-2)"
   ]
  },
  {
   "cell_type": "code",
   "execution_count": 300,
   "metadata": {
    "ExecuteTime": {
     "end_time": "2021-01-21T08:22:35.784161Z",
     "start_time": "2021-01-21T08:22:35.161414Z"
    }
   },
   "outputs": [
    {
     "data": {
      "text/html": [],
      "text/plain": [
       "<IPython.core.display.HTML object>"
      ]
     },
     "metadata": {},
     "output_type": "display_data"
    },
    {
     "data": {
      "text/html": [],
      "text/plain": [
       "<IPython.core.display.HTML object>"
      ]
     },
     "metadata": {},
     "output_type": "display_data"
    },
    {
     "data": {
      "text/html": [],
      "text/plain": [
       "<IPython.core.display.HTML object>"
      ]
     },
     "metadata": {},
     "output_type": "display_data"
    },
    {
     "data": {
      "text/html": [],
      "text/plain": [
       "<IPython.core.display.HTML object>"
      ]
     },
     "metadata": {},
     "output_type": "display_data"
    },
    {
     "data": {
      "text/html": [],
      "text/plain": [
       "<IPython.core.display.HTML object>"
      ]
     },
     "metadata": {},
     "output_type": "display_data"
    },
    {
     "data": {
      "text/html": [],
      "text/plain": [
       "<IPython.core.display.HTML object>"
      ]
     },
     "metadata": {},
     "output_type": "display_data"
    },
    {
     "data": {
      "text/html": [],
      "text/plain": [
       "<IPython.core.display.HTML object>"
      ]
     },
     "metadata": {},
     "output_type": "display_data"
    },
    {
     "data": {
      "text/html": [],
      "text/plain": [
       "<IPython.core.display.HTML object>"
      ]
     },
     "metadata": {},
     "output_type": "display_data"
    },
    {
     "data": {
      "text/html": [],
      "text/plain": [
       "<IPython.core.display.HTML object>"
      ]
     },
     "metadata": {},
     "output_type": "display_data"
    },
    {
     "data": {
      "text/html": [],
      "text/plain": [
       "<IPython.core.display.HTML object>"
      ]
     },
     "metadata": {},
     "output_type": "display_data"
    },
    {
     "data": {
      "text/html": [],
      "text/plain": [
       "<IPython.core.display.HTML object>"
      ]
     },
     "metadata": {},
     "output_type": "display_data"
    }
   ],
   "source": [
    "res = ensemble.validate()"
   ]
  },
  {
   "cell_type": "markdown",
   "metadata": {},
   "source": [
    "See ensemble validation results."
   ]
  },
  {
   "cell_type": "code",
   "execution_count": 301,
   "metadata": {
    "ExecuteTime": {
     "end_time": "2021-01-21T08:22:36.769227Z",
     "start_time": "2021-01-21T08:22:36.762194Z"
    }
   },
   "outputs": [
    {
     "name": "stdout",
     "output_type": "stream",
     "text": [
      "   model_identifier      _rmse     _rrmse     _bias  _bias_pct        mae  \\\n",
      "0          ensemble  38.566448  25.579891  2.703619   1.793224  26.239254   \n",
      "1               0.0  42.297100  28.054316  1.449576   0.961457  28.234032   \n",
      "2               1.0  40.528133  26.881016  0.182482   0.121034  26.719461   \n",
      "3               2.0  40.306053  26.733715  2.786197   1.847996  27.548197   \n",
      "4               3.0  42.610065  28.261894  4.538857   3.010479  29.125156   \n",
      "5               4.0  35.668705  23.657911  3.288834   2.181378  25.403162   \n",
      "6               5.0  43.306633  28.723904  6.279014   4.164669  28.315331   \n",
      "7               6.0  41.479309  27.511898  0.589621   0.391077  27.855738   \n",
      "8               7.0  38.972057  25.848919  2.089949   1.386196  27.215698   \n",
      "9               8.0  41.532223  27.546995 -0.151247  -0.100317  27.411911   \n",
      "10              9.0  39.538342  26.224518  5.982911   3.968273  27.957951   \n",
      "\n",
      "    r2_score  \n",
      "0   0.836567  \n",
      "1   0.803419  \n",
      "2   0.819518  \n",
      "3   0.821491  \n",
      "4   0.800499  \n",
      "5   0.860204  \n",
      "6   0.793923  \n",
      "7   0.810947  \n",
      "8   0.833111  \n",
      "9   0.810464  \n",
      "10  0.828226  \n"
     ]
    }
   ],
   "source": [
    "for r in res:\n",
    "    print(r)"
   ]
  },
  {
   "cell_type": "code",
   "execution_count": 302,
   "metadata": {
    "ExecuteTime": {
     "end_time": "2021-01-21T08:22:41.004067Z",
     "start_time": "2021-01-21T08:22:40.527349Z"
    }
   },
   "outputs": [
    {
     "data": {
      "text/html": [],
      "text/plain": [
       "<IPython.core.display.HTML object>"
      ]
     },
     "metadata": {},
     "output_type": "display_data"
    },
    {
     "data": {
      "text/html": [],
      "text/plain": [
       "<IPython.core.display.HTML object>"
      ]
     },
     "metadata": {},
     "output_type": "display_data"
    },
    {
     "data": {
      "text/html": [],
      "text/plain": [
       "<IPython.core.display.HTML object>"
      ]
     },
     "metadata": {},
     "output_type": "display_data"
    },
    {
     "data": {
      "text/html": [],
      "text/plain": [
       "<IPython.core.display.HTML object>"
      ]
     },
     "metadata": {},
     "output_type": "display_data"
    },
    {
     "data": {
      "text/html": [],
      "text/plain": [
       "<IPython.core.display.HTML object>"
      ]
     },
     "metadata": {},
     "output_type": "display_data"
    },
    {
     "data": {
      "text/html": [],
      "text/plain": [
       "<IPython.core.display.HTML object>"
      ]
     },
     "metadata": {},
     "output_type": "display_data"
    },
    {
     "data": {
      "text/html": [],
      "text/plain": [
       "<IPython.core.display.HTML object>"
      ]
     },
     "metadata": {},
     "output_type": "display_data"
    },
    {
     "data": {
      "text/html": [],
      "text/plain": [
       "<IPython.core.display.HTML object>"
      ]
     },
     "metadata": {},
     "output_type": "display_data"
    },
    {
     "data": {
      "text/html": [],
      "text/plain": [
       "<IPython.core.display.HTML object>"
      ]
     },
     "metadata": {},
     "output_type": "display_data"
    },
    {
     "data": {
      "text/html": [],
      "text/plain": [
       "<IPython.core.display.HTML object>"
      ]
     },
     "metadata": {},
     "output_type": "display_data"
    }
   ],
   "source": [
    "ens_int = RegressionInterpretation.from_ensemble(ensemble)"
   ]
  },
  {
   "cell_type": "code",
   "execution_count": 303,
   "metadata": {
    "ExecuteTime": {
     "end_time": "2021-01-21T08:22:41.866866Z",
     "start_time": "2021-01-21T08:22:41.494282Z"
    }
   },
   "outputs": [
    {
     "data": {
      "image/png": "[encoded data removed]",
      "text/plain": [
       "<Figure size 504x432 with 2 Axes>"
      ]
     },
     "metadata": {
      "needs_background": "light"
     },
     "output_type": "display_data"
    }
   ],
   "source": [
    "ens_int.plot_results(log_y=False)\n",
    "plt.show()"
   ]
  },
  {
   "cell_type": "markdown",
   "metadata": {},
   "source": [
    "Run test set predictions."
   ]
  },
  {
   "cell_type": "code",
   "execution_count": 304,
   "metadata": {
    "ExecuteTime": {
     "end_time": "2021-01-21T08:22:46.353163Z",
     "start_time": "2021-01-21T08:22:45.886393Z"
    }
   },
   "outputs": [
    {
     "data": {
      "text/html": [],
      "text/plain": [
       "<IPython.core.display.HTML object>"
      ]
     },
     "metadata": {},
     "output_type": "display_data"
    },
    {
     "data": {
      "text/html": [],
      "text/plain": [
       "<IPython.core.display.HTML object>"
      ]
     },
     "metadata": {},
     "output_type": "display_data"
    },
    {
     "data": {
      "text/html": [],
      "text/plain": [
       "<IPython.core.display.HTML object>"
      ]
     },
     "metadata": {},
     "output_type": "display_data"
    },
    {
     "data": {
      "text/html": [],
      "text/plain": [
       "<IPython.core.display.HTML object>"
      ]
     },
     "metadata": {},
     "output_type": "display_data"
    },
    {
     "data": {
      "text/html": [],
      "text/plain": [
       "<IPython.core.display.HTML object>"
      ]
     },
     "metadata": {},
     "output_type": "display_data"
    },
    {
     "data": {
      "text/html": [],
      "text/plain": [
       "<IPython.core.display.HTML object>"
      ]
     },
     "metadata": {},
     "output_type": "display_data"
    },
    {
     "data": {
      "text/html": [],
      "text/plain": [
       "<IPython.core.display.HTML object>"
      ]
     },
     "metadata": {},
     "output_type": "display_data"
    },
    {
     "data": {
      "text/html": [],
      "text/plain": [
       "<IPython.core.display.HTML object>"
      ]
     },
     "metadata": {},
     "output_type": "display_data"
    },
    {
     "data": {
      "text/html": [],
      "text/plain": [
       "<IPython.core.display.HTML object>"
      ]
     },
     "metadata": {},
     "output_type": "display_data"
    },
    {
     "data": {
      "text/html": [],
      "text/plain": [
       "<IPython.core.display.HTML object>"
      ]
     },
     "metadata": {},
     "output_type": "display_data"
    }
   ],
   "source": [
    "ens_preds = ensemble.get_ensemble_preds(dl=test_dls[0])"
   ]
  },
  {
   "cell_type": "code",
   "execution_count": 305,
   "metadata": {
    "ExecuteTime": {
     "end_time": "2021-01-21T08:22:47.247165Z",
     "start_time": "2021-01-21T08:22:46.719515Z"
    }
   },
   "outputs": [
    {
     "data": {
      "text/html": [],
      "text/plain": [
       "<IPython.core.display.HTML object>"
      ]
     },
     "metadata": {},
     "output_type": "display_data"
    },
    {
     "data": {
      "text/html": [],
      "text/plain": [
       "<IPython.core.display.HTML object>"
      ]
     },
     "metadata": {},
     "output_type": "display_data"
    },
    {
     "data": {
      "text/html": [],
      "text/plain": [
       "<IPython.core.display.HTML object>"
      ]
     },
     "metadata": {},
     "output_type": "display_data"
    },
    {
     "data": {
      "text/html": [],
      "text/plain": [
       "<IPython.core.display.HTML object>"
      ]
     },
     "metadata": {},
     "output_type": "display_data"
    },
    {
     "data": {
      "text/html": [],
      "text/plain": [
       "<IPython.core.display.HTML object>"
      ]
     },
     "metadata": {},
     "output_type": "display_data"
    },
    {
     "data": {
      "text/html": [],
      "text/plain": [
       "<IPython.core.display.HTML object>"
      ]
     },
     "metadata": {},
     "output_type": "display_data"
    },
    {
     "data": {
      "text/html": [],
      "text/plain": [
       "<IPython.core.display.HTML object>"
      ]
     },
     "metadata": {},
     "output_type": "display_data"
    },
    {
     "data": {
      "text/html": [],
      "text/plain": [
       "<IPython.core.display.HTML object>"
      ]
     },
     "metadata": {},
     "output_type": "display_data"
    },
    {
     "data": {
      "text/html": [],
      "text/plain": [
       "<IPython.core.display.HTML object>"
      ]
     },
     "metadata": {},
     "output_type": "display_data"
    },
    {
     "data": {
      "text/html": [],
      "text/plain": [
       "<IPython.core.display.HTML object>"
      ]
     },
     "metadata": {},
     "output_type": "display_data"
    }
   ],
   "source": [
    "model_results = []\n",
    "for m in ensemble.models:\n",
    "    model_results.append(m.get_preds(dl=test_dls[0], reorder=False, with_input=True))"
   ]
  },
  {
   "cell_type": "code",
   "execution_count": 306,
   "metadata": {
    "ExecuteTime": {
     "end_time": "2021-01-21T08:22:47.959426Z",
     "start_time": "2021-01-21T08:22:47.374778Z"
    }
   },
   "outputs": [
    {
     "data": {
      "text/html": [],
      "text/plain": [
       "<IPython.core.display.HTML object>"
      ]
     },
     "metadata": {},
     "output_type": "display_data"
    },
    {
     "data": {
      "text/html": [],
      "text/plain": [
       "<IPython.core.display.HTML object>"
      ]
     },
     "metadata": {},
     "output_type": "display_data"
    },
    {
     "data": {
      "text/html": [],
      "text/plain": [
       "<IPython.core.display.HTML object>"
      ]
     },
     "metadata": {},
     "output_type": "display_data"
    },
    {
     "data": {
      "text/html": [],
      "text/plain": [
       "<IPython.core.display.HTML object>"
      ]
     },
     "metadata": {},
     "output_type": "display_data"
    },
    {
     "data": {
      "text/html": [],
      "text/plain": [
       "<IPython.core.display.HTML object>"
      ]
     },
     "metadata": {},
     "output_type": "display_data"
    },
    {
     "data": {
      "text/html": [],
      "text/plain": [
       "<IPython.core.display.HTML object>"
      ]
     },
     "metadata": {},
     "output_type": "display_data"
    },
    {
     "data": {
      "text/html": [],
      "text/plain": [
       "<IPython.core.display.HTML object>"
      ]
     },
     "metadata": {},
     "output_type": "display_data"
    },
    {
     "data": {
      "text/html": [],
      "text/plain": [
       "<IPython.core.display.HTML object>"
      ]
     },
     "metadata": {},
     "output_type": "display_data"
    },
    {
     "data": {
      "text/html": [],
      "text/plain": [
       "<IPython.core.display.HTML object>"
      ]
     },
     "metadata": {},
     "output_type": "display_data"
    },
    {
     "data": {
      "text/html": [],
      "text/plain": [
       "<IPython.core.display.HTML object>"
      ]
     },
     "metadata": {},
     "output_type": "display_data"
    },
    {
     "data": {
      "text/html": [],
      "text/plain": [
       "<IPython.core.display.HTML object>"
      ]
     },
     "metadata": {},
     "output_type": "display_data"
    },
    {
     "data": {
      "text/plain": [
       "[   model_identifier      _rmse     _rrmse     _bias  _bias_pct        mae  \\\n",
       " 0          ensemble  38.640842  25.419325 -1.396182  -0.918458  25.735006   \n",
       " 1               0.0  41.335052  27.191671 -2.198390  -1.446179  26.909134   \n",
       " 2               1.0  40.794205  26.835886 -3.414407  -2.246119  27.068283   \n",
       " 3               2.0  39.858154  26.220116 -1.602346  -1.054080  26.712009   \n",
       " 4               3.0  40.749271  26.806324 -0.819419  -0.539043  27.395975   \n",
       " 5               4.0  42.649616  28.056440 -1.045962  -0.688071  28.972990   \n",
       " 6               5.0  39.770824  26.162668  0.176013   0.115788  27.815868   \n",
       " 7               6.0  38.755703  25.494884 -0.388808  -0.255772  26.461142   \n",
       " 8               7.0  40.495384  26.639309 -1.139628  -0.749688  27.388334   \n",
       " 9               8.0  40.569679  26.688183 -3.351074  -2.204456  26.709154   \n",
       " 10              9.0  39.404339  25.921579 -0.177787  -0.116954  26.714247   \n",
       " \n",
       "     r2_score  \n",
       " 0   0.841335  \n",
       " 1   0.818438  \n",
       " 2   0.823158  \n",
       " 3   0.831180  \n",
       " 4   0.823547  \n",
       " 5   0.806706  \n",
       " 6   0.831919  \n",
       " 7   0.840390  \n",
       " 8   0.825739  \n",
       " 9   0.825099  \n",
       " 10  0.835003  ]"
      ]
     },
     "execution_count": 306,
     "metadata": {},
     "output_type": "execute_result"
    }
   ],
   "source": [
    "test_res = ensemble.validate(dl=test_dls[0])\n",
    "test_res"
   ]
  },
  {
   "cell_type": "code",
   "execution_count": 307,
   "metadata": {
    "ExecuteTime": {
     "end_time": "2021-01-21T08:22:49.002531Z",
     "start_time": "2021-01-21T08:22:48.534198Z"
    }
   },
   "outputs": [
    {
     "data": {
      "text/html": [],
      "text/plain": [
       "<IPython.core.display.HTML object>"
      ]
     },
     "metadata": {},
     "output_type": "display_data"
    },
    {
     "data": {
      "text/html": [],
      "text/plain": [
       "<IPython.core.display.HTML object>"
      ]
     },
     "metadata": {},
     "output_type": "display_data"
    },
    {
     "data": {
      "text/html": [],
      "text/plain": [
       "<IPython.core.display.HTML object>"
      ]
     },
     "metadata": {},
     "output_type": "display_data"
    },
    {
     "data": {
      "text/html": [],
      "text/plain": [
       "<IPython.core.display.HTML object>"
      ]
     },
     "metadata": {},
     "output_type": "display_data"
    },
    {
     "data": {
      "text/html": [],
      "text/plain": [
       "<IPython.core.display.HTML object>"
      ]
     },
     "metadata": {},
     "output_type": "display_data"
    },
    {
     "data": {
      "text/html": [],
      "text/plain": [
       "<IPython.core.display.HTML object>"
      ]
     },
     "metadata": {},
     "output_type": "display_data"
    },
    {
     "data": {
      "text/html": [],
      "text/plain": [
       "<IPython.core.display.HTML object>"
      ]
     },
     "metadata": {},
     "output_type": "display_data"
    },
    {
     "data": {
      "text/html": [],
      "text/plain": [
       "<IPython.core.display.HTML object>"
      ]
     },
     "metadata": {},
     "output_type": "display_data"
    },
    {
     "data": {
      "text/html": [],
      "text/plain": [
       "<IPython.core.display.HTML object>"
      ]
     },
     "metadata": {},
     "output_type": "display_data"
    },
    {
     "data": {
      "text/html": [],
      "text/plain": [
       "<IPython.core.display.HTML object>"
      ]
     },
     "metadata": {},
     "output_type": "display_data"
    }
   ],
   "source": [
    "test_ens_interp = RegressionInterpretation.from_ensemble(ensemble, dl=test_dls[0])"
   ]
  },
  {
   "cell_type": "code",
   "execution_count": 308,
   "metadata": {
    "ExecuteTime": {
     "end_time": "2021-01-21T08:22:49.685069Z",
     "start_time": "2021-01-21T08:22:49.406167Z"
    }
   },
   "outputs": [
    {
     "data": {
      "image/png": "[encoded data removed]",
      "text/plain": [
       "<Figure size 504x432 with 2 Axes>"
      ]
     },
     "metadata": {
      "needs_background": "light"
     },
     "output_type": "display_data"
    }
   ],
   "source": [
    "test_ens_interp.plot_results(log_y=False)\n",
    "plt.show()"
   ]
  },
  {
   "cell_type": "markdown",
   "metadata": {},
   "source": [
    "# Comparison: Random forest"
   ]
  },
  {
   "cell_type": "markdown",
   "metadata": {},
   "source": [
    "`TabularPandas` makes it simple to use sklearn models with the same data and preprocessing."
   ]
  },
  {
   "cell_type": "code",
   "execution_count": 144,
   "metadata": {
    "ExecuteTime": {
     "end_time": "2021-01-20T09:16:49.555486Z",
     "start_time": "2021-01-20T09:16:49.552426Z"
    }
   },
   "outputs": [],
   "source": [
    "from sklearn.ensemble import RandomForestRegressor"
   ]
  },
  {
   "cell_type": "markdown",
   "metadata": {},
   "source": [
    "Below values for `max_features` and `min_samples_leaf` should generally work well."
   ]
  },
  {
   "cell_type": "code",
   "execution_count": 145,
   "metadata": {
    "ExecuteTime": {
     "end_time": "2021-01-20T09:16:49.932274Z",
     "start_time": "2021-01-20T09:16:49.929237Z"
    }
   },
   "outputs": [],
   "source": [
    "rf = RandomForestRegressor(n_estimators=500, max_features=0.5, min_samples_leaf=4, oob_score=True)"
   ]
  },
  {
   "cell_type": "code",
   "execution_count": 146,
   "metadata": {
    "ExecuteTime": {
     "end_time": "2021-01-20T09:17:03.435261Z",
     "start_time": "2021-01-20T09:16:50.105868Z"
    }
   },
   "outputs": [
    {
     "data": {
      "text/plain": [
       "RandomForestRegressor(max_features=0.5, min_samples_leaf=4, n_estimators=500,\n",
       "                      oob_score=True)"
      ]
     },
     "execution_count": 146,
     "metadata": {},
     "output_type": "execute_result"
    }
   ],
   "source": [
    "rf.fit(trainval_tb.train.xs, trainval_tb.train.ys.values.ravel())"
   ]
  },
  {
   "cell_type": "code",
   "execution_count": 147,
   "metadata": {
    "ExecuteTime": {
     "end_time": "2021-01-20T09:17:03.490022Z",
     "start_time": "2021-01-20T09:17:03.436854Z"
    }
   },
   "outputs": [],
   "source": [
    "rf_preds = rf.predict(trainval_tb.valid.xs)"
   ]
  },
  {
   "cell_type": "markdown",
   "metadata": {},
   "source": [
    "Validation results"
   ]
  },
  {
   "cell_type": "code",
   "execution_count": 148,
   "metadata": {
    "ExecuteTime": {
     "end_time": "2021-01-20T09:17:03.828739Z",
     "start_time": "2021-01-20T09:17:03.491828Z"
    }
   },
   "outputs": [
    {
     "data": {
      "image/png": "[encoded data removed]",
      "text/plain": [
       "<Figure size 504x432 with 2 Axes>"
      ]
     },
     "metadata": {
      "needs_background": "light"
     },
     "output_type": "display_data"
    }
   ],
   "source": [
    "plot_sklearn_regression(rf, trainval_tb.valid.xs, trainval_tb.valid.ys, log_y=False)\n",
    "plt.show()"
   ]
  },
  {
   "cell_type": "markdown",
   "metadata": {},
   "source": [
    "Test results"
   ]
  },
  {
   "cell_type": "code",
   "execution_count": 149,
   "metadata": {
    "ExecuteTime": {
     "end_time": "2021-01-20T09:17:04.241907Z",
     "start_time": "2021-01-20T09:17:03.830331Z"
    }
   },
   "outputs": [
    {
     "data": {
      "image/png": "[encoded data removed]",
      "text/plain": [
       "<Figure size 504x432 with 2 Axes>"
      ]
     },
     "metadata": {
      "needs_background": "light"
     },
     "output_type": "display_data"
    }
   ],
   "source": [
    "plot_sklearn_regression(rf, test_tb.train.xs, test_tb.train.ys)\n",
    "plt.show()"
   ]
  },
  {
   "cell_type": "code",
   "execution_count": null,
   "metadata": {},
   "outputs": [],
   "source": []
  },
  {
   "cell_type": "code",
   "execution_count": null,
   "metadata": {},
   "outputs": [],
   "source": []
  }
 ],
 "metadata": {
  "_draft": {
   "nbviewer_url": "https://gist.github.com/dc7eb4d2965a6babe6ed2610b300f7b4"
  },
  "gist": {
   "data": {
    "description": "LiDAR predictions.ipynb",
    "public": true
   },
   "id": "dc7eb4d2965a6babe6ed2610b300f7b4"
  },
  "kernelspec": {
   "display_name": "Python 3",
   "language": "python",
   "name": "python3"
  },
  "language_info": {
   "codemirror_mode": {
    "name": "ipython",
    "version": 3
   },
   "file_extension": ".py",
   "mimetype": "text/x-python",
   "name": "python",
   "nbconvert_exporter": "python",
   "pygments_lexer": "ipython3",
   "version": "3.8.3"
  },
  "latex_envs": {
   "LaTeX_envs_menu_present": true,
   "autoclose": false,
   "autocomplete": true,
   "bibliofile": "biblio.bib",
   "cite_by": "apalike",
   "current_citInitial": 1,
   "eqLabelWithNumbers": true,
   "eqNumInitial": 1,
   "hotkeys": {
    "equation": "Ctrl-E",
    "itemize": "Ctrl-I"
   },
   "labels_anchors": false,
   "latex_user_defs": false,
   "report_style_numbering": false,
   "user_envs_cfg": false
  },
  "toc": {
   "base_numbering": 1,
   "nav_menu": {},
   "number_sections": true,
   "sideBar": true,
   "skip_h1_title": false,
   "title_cell": "Table of Contents",
   "title_sidebar": "Contents",
   "toc_cell": false,
   "toc_position": {
    "height": "calc(100% - 180px)",
    "left": "10px",
    "top": "150px",
    "width": "240px"
   },
   "toc_section_display": true,
   "toc_window_display": true
  }
 },
 "nbformat": 4,
 "nbformat_minor": 4
}
