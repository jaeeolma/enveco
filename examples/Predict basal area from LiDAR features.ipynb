{
 "cells": [
  {
   "cell_type": "markdown",
   "metadata": {},
   "source": [
    "# Predict basal area from LiDAR features"
   ]
  },
  {
   "cell_type": "code",
   "execution_count": 1,
   "metadata": {
    "ExecuteTime": {
     "end_time": "2020-11-06T09:09:29.364737Z",
     "start_time": "2020-11-06T09:09:25.510650Z"
    }
   },
   "outputs": [],
   "source": [
    "from fastai.data.all import *\n",
    "from fastai.tabular.all import *\n",
    "from fastai.callback.progress import ShowGraphCallback"
   ]
  },
  {
   "cell_type": "code",
   "execution_count": 2,
   "metadata": {
    "ExecuteTime": {
     "end_time": "2020-11-06T09:09:29.938546Z",
     "start_time": "2020-11-06T09:09:29.366907Z"
    }
   },
   "outputs": [],
   "source": [
    "absolute_path = Path().absolute()\n",
    "sys.path.append(str(absolute_path.parents[0]))\n",
    "\n",
    "from enveco.tabular import *"
   ]
  },
  {
   "cell_type": "markdown",
   "metadata": {},
   "source": [
    "Run the example workflow for predicting the basal area of the field plot from LiDAR-derived features."
   ]
  },
  {
   "cell_type": "markdown",
   "metadata": {},
   "source": [
    "# Read and preprocess data"
   ]
  },
  {
   "cell_type": "code",
   "execution_count": 3,
   "metadata": {
    "ExecuteTime": {
     "end_time": "2020-11-06T09:09:29.985778Z",
     "start_time": "2020-11-06T09:09:29.942648Z"
    }
   },
   "outputs": [],
   "source": [
    "preprocessor = EnvecoPreprocessor('../../enveco_data/enveco/AV.leaf.on.train.csv', \n",
    "                                  '../../enveco_data/enveco/AV.leaf.on.val.csv',\n",
    "                                  '../../enveco_data/enveco/AV.leaf.on.test.csv')"
   ]
  },
  {
   "cell_type": "markdown",
   "metadata": {},
   "source": [
    "Preprocess dataframes and extract lidar features from them. Specify which features are needed:\n",
    "\n",
    "* height_features\n",
    "* point_features\n",
    "* intensity_features\n",
    "* height_quantiles\n",
    "* point_proportions\n",
    "* canopy_densities\n",
    "\n",
    "Also, specify whether to `normalize` data (default: True) or to log-transform target column (default: False)"
   ]
  },
  {
   "cell_type": "code",
   "execution_count": 4,
   "metadata": {
    "ExecuteTime": {
     "end_time": "2020-11-06T09:09:30.014643Z",
     "start_time": "2020-11-06T09:09:29.987951Z"
    }
   },
   "outputs": [
    {
     "data": {
      "text/html": [
       "<div>\n",
       "<style scoped>\n",
       "    .dataframe tbody tr th:only-of-type {\n",
       "        vertical-align: middle;\n",
       "    }\n",
       "\n",
       "    .dataframe tbody tr th {\n",
       "        vertical-align: top;\n",
       "    }\n",
       "\n",
       "    .dataframe thead th {\n",
       "        text-align: right;\n",
       "    }\n",
       "</style>\n",
       "<table border=\"1\" class=\"dataframe\">\n",
       "  <thead>\n",
       "    <tr style=\"text-align: right;\">\n",
       "      <th></th>\n",
       "      <th>sampleplotid</th>\n",
       "      <th>x</th>\n",
       "      <th>y</th>\n",
       "      <th>measurementdate</th>\n",
       "      <th>g</th>\n",
       "      <th>d</th>\n",
       "      <th>h</th>\n",
       "      <th>v</th>\n",
       "      <th>v_ma</th>\n",
       "      <th>v_ku</th>\n",
       "      <th>v_lp</th>\n",
       "      <th>myear</th>\n",
       "      <th>filename_1</th>\n",
       "      <th>a_date_1</th>\n",
       "      <th>a_window_1</th>\n",
       "      <th>filename_2</th>\n",
       "      <th>a_date_2</th>\n",
       "      <th>a_window_2</th>\n",
       "      <th>v_lp_proc</th>\n",
       "      <th>is_valid</th>\n",
       "    </tr>\n",
       "  </thead>\n",
       "  <tbody>\n",
       "    <tr>\n",
       "      <th>0</th>\n",
       "      <td>901034</td>\n",
       "      <td>313598.50</td>\n",
       "      <td>6888193.46</td>\n",
       "      <td>2013</td>\n",
       "      <td>30.0</td>\n",
       "      <td>25.9</td>\n",
       "      <td>23.9</td>\n",
       "      <td>336.62</td>\n",
       "      <td>50.11</td>\n",
       "      <td>27.73</td>\n",
       "      <td>258.78</td>\n",
       "      <td>2013</td>\n",
       "      <td>/wrk/project_ogiir-csc/mml/laserkeilaus/2008_17_automaattinen/2013/20130114_BLOM_ahtari_block2_kesa/1/N4121B3.laz</td>\n",
       "      <td>2013-07-11</td>\n",
       "      <td>C</td>\n",
       "      <td>NaN</td>\n",
       "      <td>NaN</td>\n",
       "      <td>NaN</td>\n",
       "      <td>77</td>\n",
       "      <td>0</td>\n",
       "    </tr>\n",
       "    <tr>\n",
       "      <th>1</th>\n",
       "      <td>901038</td>\n",
       "      <td>314591.78</td>\n",
       "      <td>6888461.84</td>\n",
       "      <td>2013</td>\n",
       "      <td>18.6</td>\n",
       "      <td>16.0</td>\n",
       "      <td>15.9</td>\n",
       "      <td>146.00</td>\n",
       "      <td>142.50</td>\n",
       "      <td>0.00</td>\n",
       "      <td>3.50</td>\n",
       "      <td>2013</td>\n",
       "      <td>/wrk/project_ogiir-csc/mml/laserkeilaus/2008_17_automaattinen/2013/20130114_BLOM_ahtari_block2_kesa/1/N4121D1.laz</td>\n",
       "      <td>2013-07-11</td>\n",
       "      <td>C</td>\n",
       "      <td>NaN</td>\n",
       "      <td>NaN</td>\n",
       "      <td>NaN</td>\n",
       "      <td>2</td>\n",
       "      <td>0</td>\n",
       "    </tr>\n",
       "    <tr>\n",
       "      <th>2</th>\n",
       "      <td>901044</td>\n",
       "      <td>317890.37</td>\n",
       "      <td>6888182.49</td>\n",
       "      <td>2013</td>\n",
       "      <td>26.8</td>\n",
       "      <td>18.4</td>\n",
       "      <td>18.4</td>\n",
       "      <td>240.46</td>\n",
       "      <td>139.89</td>\n",
       "      <td>81.77</td>\n",
       "      <td>18.79</td>\n",
       "      <td>2013</td>\n",
       "      <td>/wrk/project_ogiir-csc/mml/laserkeilaus/2008_17_automaattinen/2013/20130114_BLOM_ahtari_block2_kesa/1/N4121D3.laz</td>\n",
       "      <td>2013-07-11</td>\n",
       "      <td>C</td>\n",
       "      <td>NaN</td>\n",
       "      <td>NaN</td>\n",
       "      <td>NaN</td>\n",
       "      <td>8</td>\n",
       "      <td>0</td>\n",
       "    </tr>\n",
       "    <tr>\n",
       "      <th>3</th>\n",
       "      <td>901048</td>\n",
       "      <td>318879.42</td>\n",
       "      <td>6888447.55</td>\n",
       "      <td>2013</td>\n",
       "      <td>34.3</td>\n",
       "      <td>20.2</td>\n",
       "      <td>19.3</td>\n",
       "      <td>321.29</td>\n",
       "      <td>72.10</td>\n",
       "      <td>172.35</td>\n",
       "      <td>76.84</td>\n",
       "      <td>2013</td>\n",
       "      <td>/wrk/project_ogiir-csc/mml/laserkeilaus/2008_17_automaattinen/2013/20130114_BLOM_ahtari_block2_kesa/1/N4121D3.laz</td>\n",
       "      <td>2013-07-11</td>\n",
       "      <td>C</td>\n",
       "      <td>NaN</td>\n",
       "      <td>NaN</td>\n",
       "      <td>NaN</td>\n",
       "      <td>24</td>\n",
       "      <td>0</td>\n",
       "    </tr>\n",
       "    <tr>\n",
       "      <th>4</th>\n",
       "      <td>901054</td>\n",
       "      <td>322193.41</td>\n",
       "      <td>6888196.04</td>\n",
       "      <td>2013</td>\n",
       "      <td>13.8</td>\n",
       "      <td>10.0</td>\n",
       "      <td>9.1</td>\n",
       "      <td>67.10</td>\n",
       "      <td>57.40</td>\n",
       "      <td>9.70</td>\n",
       "      <td>0.00</td>\n",
       "      <td>2013</td>\n",
       "      <td>/wrk/project_ogiir-csc/mml/laserkeilaus/2008_17_automaattinen/2013/20130114_BLOM_ahtari_block2_kesa/1/N4121F1.laz</td>\n",
       "      <td>2013-07-11</td>\n",
       "      <td>C</td>\n",
       "      <td>NaN</td>\n",
       "      <td>NaN</td>\n",
       "      <td>NaN</td>\n",
       "      <td>0</td>\n",
       "      <td>0</td>\n",
       "    </tr>\n",
       "  </tbody>\n",
       "</table>\n",
       "</div>"
      ],
      "text/plain": [
       "   sampleplotid          x           y  measurementdate     g     d     h  \\\n",
       "0        901034  313598.50  6888193.46             2013  30.0  25.9  23.9   \n",
       "1        901038  314591.78  6888461.84             2013  18.6  16.0  15.9   \n",
       "2        901044  317890.37  6888182.49             2013  26.8  18.4  18.4   \n",
       "3        901048  318879.42  6888447.55             2013  34.3  20.2  19.3   \n",
       "4        901054  322193.41  6888196.04             2013  13.8  10.0   9.1   \n",
       "\n",
       "        v    v_ma    v_ku    v_lp  myear  \\\n",
       "0  336.62   50.11   27.73  258.78   2013   \n",
       "1  146.00  142.50    0.00    3.50   2013   \n",
       "2  240.46  139.89   81.77   18.79   2013   \n",
       "3  321.29   72.10  172.35   76.84   2013   \n",
       "4   67.10   57.40    9.70    0.00   2013   \n",
       "\n",
       "                                                                                                          filename_1  \\\n",
       "0  /wrk/project_ogiir-csc/mml/laserkeilaus/2008_17_automaattinen/2013/20130114_BLOM_ahtari_block2_kesa/1/N4121B3.laz   \n",
       "1  /wrk/project_ogiir-csc/mml/laserkeilaus/2008_17_automaattinen/2013/20130114_BLOM_ahtari_block2_kesa/1/N4121D1.laz   \n",
       "2  /wrk/project_ogiir-csc/mml/laserkeilaus/2008_17_automaattinen/2013/20130114_BLOM_ahtari_block2_kesa/1/N4121D3.laz   \n",
       "3  /wrk/project_ogiir-csc/mml/laserkeilaus/2008_17_automaattinen/2013/20130114_BLOM_ahtari_block2_kesa/1/N4121D3.laz   \n",
       "4  /wrk/project_ogiir-csc/mml/laserkeilaus/2008_17_automaattinen/2013/20130114_BLOM_ahtari_block2_kesa/1/N4121F1.laz   \n",
       "\n",
       "     a_date_1 a_window_1  filename_2  a_date_2  a_window_2  v_lp_proc  \\\n",
       "0  2013-07-11          C         NaN       NaN         NaN         77   \n",
       "1  2013-07-11          C         NaN       NaN         NaN          2   \n",
       "2  2013-07-11          C         NaN       NaN         NaN          8   \n",
       "3  2013-07-11          C         NaN       NaN         NaN         24   \n",
       "4  2013-07-11          C         NaN       NaN         NaN          0   \n",
       "\n",
       "   is_valid  \n",
       "0         0  \n",
       "1         0  \n",
       "2         0  \n",
       "3         0  \n",
       "4         0  "
      ]
     },
     "execution_count": 4,
     "metadata": {},
     "output_type": "execute_result"
    }
   ],
   "source": [
    "preprocessor.train_df.head()"
   ]
  },
  {
   "cell_type": "code",
   "execution_count": 53,
   "metadata": {
    "ExecuteTime": {
     "end_time": "2020-11-06T12:10:58.471257Z",
     "start_time": "2020-11-06T12:10:58.450033Z"
    }
   },
   "outputs": [
    {
     "data": {
      "text/plain": [
       "     sampleplotid             x          y  measurementdate         g  \\\n",
       "0          901034  313598.50000  6888193.5             2013  3.433987   \n",
       "1          901038  314591.78125  6888462.0             2013  2.975530   \n",
       "2          901044  317890.37500  6888182.5             2013  3.325036   \n",
       "3          901048  318879.40625  6888447.5             2013  3.563883   \n",
       "4          901054  322193.40625  6888196.0             2013  2.694627   \n",
       "..            ...           ...        ...              ...       ...   \n",
       "220        923107  344428.15625  6983045.0             2013  2.965273   \n",
       "221        923124  352291.12500  6982801.0             2013  3.292126   \n",
       "222        923136  357086.46875  6983047.5             2013  1.648659   \n",
       "223        923138  357588.28125  6983052.0             2013  3.421000   \n",
       "224        923142  360885.68750  6982306.0             2013  3.206803   \n",
       "\n",
       "             d          h           v        v_ma        v_ku  ...       d00  \\\n",
       "0    25.900000  23.900000  336.619995   50.110001   27.730000  ... -0.301442   \n",
       "1    16.000000  15.900000  146.000000  142.500000    0.000000  ... -0.391423   \n",
       "2    18.400000  18.400000  240.460007  139.889999   81.769997  ...  0.633126   \n",
       "3    20.200001  19.299999  321.290009   72.099998  172.350006  ... -0.432648   \n",
       "4    10.000000   9.100000   67.099998   57.400002    9.700000  ... -0.710404   \n",
       "..         ...        ...         ...         ...         ...  ...       ...   \n",
       "220  16.799999  16.400000  147.800003   76.550003   23.980000  ... -1.012613   \n",
       "221  12.200000  12.300000  160.470001  101.230003   24.639999  ... -0.745501   \n",
       "222   8.600000   5.600000   14.350000   14.350000    0.000000  ...  1.662333   \n",
       "223  19.200001  17.600000  253.229996  253.229996    0.000000  ... -0.449054   \n",
       "224  20.900000  18.200001  205.440002  143.899994   38.880001  ... -0.826970   \n",
       "\n",
       "          d10       d20       d30       d40       d50       d60       d70  \\\n",
       "0    0.246945  0.070225 -0.369946  0.288596  1.247155  0.686768 -0.319618   \n",
       "1   -0.657771 -0.992872 -0.990615 -0.170077 -1.164713 -0.385327  1.837363   \n",
       "2    0.302642  1.323888 -0.233907 -0.556348 -0.988939 -0.233581  0.094373   \n",
       "3   -0.276971 -0.310967 -0.690583 -0.054775  0.252197  0.031906  0.585361   \n",
       "4   -0.951703  0.643202  2.429001  1.800755  1.471177 -1.672965 -1.044596   \n",
       "..        ...       ...       ...       ...       ...       ...       ...   \n",
       "220 -0.638733 -0.905953 -0.975615 -0.256975  1.129592  0.448354  1.234555   \n",
       "221 -0.667445 -0.708588 -0.582102  0.937179  1.979806  1.447295 -0.187793   \n",
       "222  0.711254 -0.411457  2.341652 -0.364137 -0.158007  0.248386 -1.355868   \n",
       "223 -0.696188  0.899693  1.536790  0.699032  1.363332 -0.541816 -1.175743   \n",
       "224 -1.009980 -0.432957 -0.536858 -0.109627 -0.818838  0.998266  1.347854   \n",
       "\n",
       "          d80       d90  \n",
       "0   -0.721124 -1.045208  \n",
       "1    0.959233  1.573922  \n",
       "2    0.013098 -0.159797  \n",
       "3    0.759819 -0.444361  \n",
       "4   -1.177822 -0.783108  \n",
       "..        ...       ...  \n",
       "220  0.058102  0.206768  \n",
       "221 -0.934739 -1.194029  \n",
       "222 -1.524371 -0.215174  \n",
       "223 -0.814770 -0.768942  \n",
       "224  0.189975  0.433175  \n",
       "\n",
       "[1269 rows x 78 columns]"
      ]
     },
     "execution_count": 53,
     "metadata": {},
     "output_type": "execute_result"
    }
   ],
   "source": [
    "trainval_tb"
   ]
  },
  {
   "cell_type": "code",
   "execution_count": 5,
   "metadata": {
    "ExecuteTime": {
     "end_time": "2020-11-06T09:13:20.111623Z",
     "start_time": "2020-11-06T09:09:30.016779Z"
    }
   },
   "outputs": [
    {
     "name": "stdout",
     "output_type": "stream",
     "text": [
      "Adding height based features\n",
      "Adding point distribution based features\n",
      "Adding intensity based features\n",
      "Adding height quantiles\n",
      "Adding point proportions\n",
      "Adding canopy densities\n"
     ]
    }
   ],
   "source": [
    "trainval_tb, test_tb = preprocessor.preprocess_lidar(target_col='g', path='../../enveco_data/enveco/AV_las/', min_h=1.5,\n",
    "                                                     height_features=True,\n",
    "                                                     point_features=True, \n",
    "                                                     intensity_features=True, \n",
    "                                                     height_quantiles=True,\n",
    "                                                     point_proportions=True, \n",
    "                                                     canopy_densities=True,\n",
    "                                                     normalize=True,\n",
    "                                                     log_y=True)"
   ]
  },
  {
   "cell_type": "markdown",
   "metadata": {},
   "source": [
    "Previous method returns two `TabularPandas` objects. Put them to dataloaders."
   ]
  },
  {
   "cell_type": "code",
   "execution_count": 6,
   "metadata": {
    "ExecuteTime": {
     "end_time": "2020-11-06T09:13:20.128675Z",
     "start_time": "2020-11-06T09:13:20.113185Z"
    }
   },
   "outputs": [],
   "source": [
    "dls = trainval_tb.dataloaders(bs=64, y_block=RegressionBlock())"
   ]
  },
  {
   "cell_type": "markdown",
   "metadata": {},
   "source": [
    "Check the distribution of the target variable `g`, in order to get limits for `sigmoid_range`."
   ]
  },
  {
   "cell_type": "code",
   "execution_count": 7,
   "metadata": {
    "ExecuteTime": {
     "end_time": "2020-11-06T09:13:20.148666Z",
     "start_time": "2020-11-06T09:13:20.131969Z"
    }
   },
   "outputs": [
    {
     "data": {
      "text/plain": [
       "count    1044.000000\n",
       "mean        2.903793\n",
       "std         0.473430\n",
       "min         0.530628\n",
       "25%         2.653242\n",
       "50%         2.954910\n",
       "75%         3.234749\n",
       "max         4.226834\n",
       "Name: g, dtype: float64"
      ]
     },
     "execution_count": 7,
     "metadata": {},
     "output_type": "execute_result"
    }
   ],
   "source": [
    "trainval_tb.train.y.describe()"
   ]
  },
  {
   "cell_type": "code",
   "execution_count": 8,
   "metadata": {
    "ExecuteTime": {
     "end_time": "2020-11-06T09:13:20.165728Z",
     "start_time": "2020-11-06T09:13:20.153449Z"
    }
   },
   "outputs": [
    {
     "data": {
      "text/plain": [
       "count    225.000000\n",
       "mean       2.900115\n",
       "std        0.489632\n",
       "min        0.470004\n",
       "25%        2.646175\n",
       "50%        2.960105\n",
       "75%        3.206803\n",
       "max        3.903991\n",
       "Name: g, dtype: float64"
      ]
     },
     "execution_count": 8,
     "metadata": {},
     "output_type": "execute_result"
    }
   ],
   "source": [
    "trainval_tb.valid.y.describe()"
   ]
  },
  {
   "cell_type": "code",
   "execution_count": 9,
   "metadata": {
    "ExecuteTime": {
     "end_time": "2020-11-06T09:13:20.180818Z",
     "start_time": "2020-11-06T09:13:20.169920Z"
    }
   },
   "outputs": [
    {
     "data": {
      "text/plain": [
       "count    225.000000\n",
       "mean       2.919878\n",
       "std        0.489392\n",
       "min        0.875469\n",
       "25%        2.681021\n",
       "50%        2.970414\n",
       "75%        3.238678\n",
       "max        3.962716\n",
       "Name: g, dtype: float64"
      ]
     },
     "execution_count": 9,
     "metadata": {},
     "output_type": "execute_result"
    }
   ],
   "source": [
    "test_tb.train.y.describe()"
   ]
  },
  {
   "cell_type": "markdown",
   "metadata": {},
   "source": [
    "# ANN"
   ]
  },
  {
   "cell_type": "markdown",
   "metadata": {},
   "source": [
    "Create `Learner` object. Specify y_range to better control the training, set 70 m² as the maximum value for basal area.\n",
    "\n",
    "Loss function is Mean Squared Error, monitor also Root Mean Squared Error, mean-normalized RMSE, Mean Absolute Error, R2Score, bias and mean-scaled bias. Target variable is log-transformed, so all metrics are log-equivalents (so MSLE, RMSLE...)."
   ]
  },
  {
   "cell_type": "code",
   "execution_count": 46,
   "metadata": {
    "ExecuteTime": {
     "end_time": "2020-11-06T09:34:41.057011Z",
     "start_time": "2020-11-06T09:34:41.030735Z"
    }
   },
   "outputs": [
    {
     "data": {
      "text/html": [
       "<table border=\"1\" class=\"dataframe\">\n",
       "  <thead>\n",
       "    <tr style=\"text-align: left;\">\n",
       "      <th>epoch</th>\n",
       "      <th>train_loss</th>\n",
       "      <th>valid_loss</th>\n",
       "      <th>_rmse</th>\n",
       "      <th>_rrmse</th>\n",
       "      <th>_bias</th>\n",
       "      <th>_bias_pct</th>\n",
       "      <th>mae</th>\n",
       "      <th>r2_score</th>\n",
       "      <th>time</th>\n",
       "    </tr>\n",
       "  </thead>\n",
       "  <tbody>\n",
       "    <tr>\n",
       "      <td>0</td>\n",
       "      <td>None</td>\n",
       "      <td>None</td>\n",
       "      <td>None</td>\n",
       "      <td>None</td>\n",
       "      <td>None</td>\n",
       "      <td>None</td>\n",
       "      <td>None</td>\n",
       "      <td>00:00</td>\n",
       "    </tr>\n",
       "  </tbody>\n",
       "</table>"
      ],
      "text/plain": [
       "<IPython.core.display.HTML object>"
      ]
     },
     "metadata": {},
     "output_type": "display_data"
    },
    {
     "data": {
      "text/plain": [
       "TabularModel (Input shape: ['64 x 0', '64 x 58'])\n",
       "================================================================\n",
       "Layer (type)         Output Shape         Param #    Trainable \n",
       "================================================================\n",
       "BatchNorm1d          64 x 58              116        True      \n",
       "________________________________________________________________\n",
       "BatchNorm1d          64 x 58              116        True      \n",
       "________________________________________________________________\n",
       "Linear               64 x 200             11,600     True      \n",
       "________________________________________________________________\n",
       "Mish                 64 x 100             0          False     \n",
       "________________________________________________________________\n",
       "BatchNorm1d          64 x 200             400        True      \n",
       "________________________________________________________________\n",
       "Linear               64 x 100             20,000     True      \n",
       "________________________________________________________________\n",
       "Mish                 64 x 100             0          False     \n",
       "________________________________________________________________\n",
       "Linear               64 x 1               101        True      \n",
       "________________________________________________________________\n",
       "SigmoidRange         64 x 1               0          False     \n",
       "________________________________________________________________\n",
       "\n",
       "Total params: 32,333\n",
       "Total trainable params: 32,333\n",
       "Total non-trainable params: 0\n",
       "\n",
       "Optimizer used: <function Adam at 0x7f271ef395e0>\n",
       "Loss function: FlattenedLoss of MSELoss()\n",
       "\n",
       "Callbacks:\n",
       "  - TrainEvalCallback\n",
       "  - Recorder\n",
       "  - ProgressCallback"
      ]
     },
     "execution_count": 46,
     "metadata": {},
     "output_type": "execute_result"
    }
   ],
   "source": [
    "learn = tabular_learner(dls, metrics=[rmse, rrmse, bias, bias_pct, mae, R2Score()],  y_range=(0,5), config={'act_cls': Mish()})\n",
    "learn.summary()"
   ]
  },
  {
   "cell_type": "markdown",
   "metadata": {
    "ExecuteTime": {
     "end_time": "2020-11-02T12:15:14.763168Z",
     "start_time": "2020-11-02T12:15:14.758250Z"
    }
   },
   "source": [
    "Find learning rate to use."
   ]
  },
  {
   "cell_type": "code",
   "execution_count": 47,
   "metadata": {
    "ExecuteTime": {
     "end_time": "2020-11-06T09:34:43.784361Z",
     "start_time": "2020-11-06T09:34:41.927397Z"
    }
   },
   "outputs": [
    {
     "data": {
      "text/html": [],
      "text/plain": [
       "<IPython.core.display.HTML object>"
      ]
     },
     "metadata": {},
     "output_type": "display_data"
    },
    {
     "data": {
      "text/plain": [
       "SuggestedLRs(lr_min=0.003981071710586548, lr_steep=0.25118863582611084)"
      ]
     },
     "execution_count": 47,
     "metadata": {},
     "output_type": "execute_result"
    },
    {
     "data": {
      "image/png": "[encoded data removed]",
      "text/plain": [
       "<Figure size 432x288 with 1 Axes>"
      ]
     },
     "metadata": {
      "needs_background": "light"
     },
     "output_type": "display_data"
    }
   ],
   "source": [
    "learn.lr_find()"
   ]
  },
  {
   "cell_type": "markdown",
   "metadata": {},
   "source": [
    "1e-2 seems to be a good learning rate."
   ]
  },
  {
   "cell_type": "code",
   "execution_count": 48,
   "metadata": {
    "ExecuteTime": {
     "end_time": "2020-11-06T09:34:49.769657Z",
     "start_time": "2020-11-06T09:34:44.221056Z"
    },
    "scrolled": false
   },
   "outputs": [
    {
     "data": {
      "text/html": [
       "<table border=\"1\" class=\"dataframe\">\n",
       "  <thead>\n",
       "    <tr style=\"text-align: left;\">\n",
       "      <th>epoch</th>\n",
       "      <th>train_loss</th>\n",
       "      <th>valid_loss</th>\n",
       "      <th>_rmse</th>\n",
       "      <th>_rrmse</th>\n",
       "      <th>_bias</th>\n",
       "      <th>_bias_pct</th>\n",
       "      <th>mae</th>\n",
       "      <th>r2_score</th>\n",
       "      <th>time</th>\n",
       "    </tr>\n",
       "  </thead>\n",
       "  <tbody>\n",
       "    <tr>\n",
       "      <td>0</td>\n",
       "      <td>0.346739</td>\n",
       "      <td>0.236155</td>\n",
       "      <td>0.485958</td>\n",
       "      <td>16.756508</td>\n",
       "      <td>-0.374883</td>\n",
       "      <td>-12.926501</td>\n",
       "      <td>0.418289</td>\n",
       "      <td>0.010554</td>\n",
       "      <td>00:00</td>\n",
       "    </tr>\n",
       "    <tr>\n",
       "      <td>1</td>\n",
       "      <td>0.222737</td>\n",
       "      <td>0.063108</td>\n",
       "      <td>0.251214</td>\n",
       "      <td>8.662195</td>\n",
       "      <td>-0.058647</td>\n",
       "      <td>-2.022230</td>\n",
       "      <td>0.189883</td>\n",
       "      <td>0.735588</td>\n",
       "      <td>00:00</td>\n",
       "    </tr>\n",
       "    <tr>\n",
       "      <td>2</td>\n",
       "      <td>0.150830</td>\n",
       "      <td>0.050328</td>\n",
       "      <td>0.224339</td>\n",
       "      <td>7.735511</td>\n",
       "      <td>0.011182</td>\n",
       "      <td>0.385563</td>\n",
       "      <td>0.161912</td>\n",
       "      <td>0.789136</td>\n",
       "      <td>00:00</td>\n",
       "    </tr>\n",
       "    <tr>\n",
       "      <td>3</td>\n",
       "      <td>0.112357</td>\n",
       "      <td>0.045582</td>\n",
       "      <td>0.213500</td>\n",
       "      <td>7.361762</td>\n",
       "      <td>-0.004187</td>\n",
       "      <td>-0.144367</td>\n",
       "      <td>0.151147</td>\n",
       "      <td>0.809020</td>\n",
       "      <td>00:00</td>\n",
       "    </tr>\n",
       "    <tr>\n",
       "      <td>4</td>\n",
       "      <td>0.090735</td>\n",
       "      <td>0.042871</td>\n",
       "      <td>0.207054</td>\n",
       "      <td>7.139509</td>\n",
       "      <td>-0.012681</td>\n",
       "      <td>-0.437258</td>\n",
       "      <td>0.150871</td>\n",
       "      <td>0.820377</td>\n",
       "      <td>00:00</td>\n",
       "    </tr>\n",
       "    <tr>\n",
       "      <td>5</td>\n",
       "      <td>0.075986</td>\n",
       "      <td>0.041673</td>\n",
       "      <td>0.204140</td>\n",
       "      <td>7.039048</td>\n",
       "      <td>0.008505</td>\n",
       "      <td>0.293257</td>\n",
       "      <td>0.148579</td>\n",
       "      <td>0.825396</td>\n",
       "      <td>00:00</td>\n",
       "    </tr>\n",
       "    <tr>\n",
       "      <td>6</td>\n",
       "      <td>0.065080</td>\n",
       "      <td>0.041161</td>\n",
       "      <td>0.202881</td>\n",
       "      <td>6.995621</td>\n",
       "      <td>-0.015103</td>\n",
       "      <td>-0.520778</td>\n",
       "      <td>0.145086</td>\n",
       "      <td>0.827544</td>\n",
       "      <td>00:00</td>\n",
       "    </tr>\n",
       "    <tr>\n",
       "      <td>7</td>\n",
       "      <td>0.056800</td>\n",
       "      <td>0.040634</td>\n",
       "      <td>0.201579</td>\n",
       "      <td>6.950717</td>\n",
       "      <td>0.024737</td>\n",
       "      <td>0.852971</td>\n",
       "      <td>0.140111</td>\n",
       "      <td>0.829751</td>\n",
       "      <td>00:00</td>\n",
       "    </tr>\n",
       "    <tr>\n",
       "      <td>8</td>\n",
       "      <td>0.050762</td>\n",
       "      <td>0.038703</td>\n",
       "      <td>0.196731</td>\n",
       "      <td>6.783571</td>\n",
       "      <td>0.014076</td>\n",
       "      <td>0.485346</td>\n",
       "      <td>0.138579</td>\n",
       "      <td>0.837841</td>\n",
       "      <td>00:00</td>\n",
       "    </tr>\n",
       "    <tr>\n",
       "      <td>9</td>\n",
       "      <td>0.046172</td>\n",
       "      <td>0.038933</td>\n",
       "      <td>0.197313</td>\n",
       "      <td>6.803638</td>\n",
       "      <td>0.008595</td>\n",
       "      <td>0.296384</td>\n",
       "      <td>0.139321</td>\n",
       "      <td>0.836880</td>\n",
       "      <td>00:00</td>\n",
       "    </tr>\n",
       "  </tbody>\n",
       "</table>"
      ],
      "text/plain": [
       "<IPython.core.display.HTML object>"
      ]
     },
     "metadata": {},
     "output_type": "display_data"
    },
    {
     "data": {
      "image/png": "[encoded data removed]",
      "text/plain": [
       "<Figure size 432x288 with 1 Axes>"
      ]
     },
     "metadata": {},
     "output_type": "display_data"
    }
   ],
   "source": [
    "learn.fit_one_cycle(10, max_lr=1e-2, cbs=ShowGraphCallback())"
   ]
  },
  {
   "cell_type": "markdown",
   "metadata": {},
   "source": [
    "See validation results"
   ]
  },
  {
   "cell_type": "code",
   "execution_count": 49,
   "metadata": {
    "ExecuteTime": {
     "end_time": "2020-11-06T09:34:52.911032Z",
     "start_time": "2020-11-06T09:34:52.850703Z"
    }
   },
   "outputs": [
    {
     "data": {
      "text/html": [],
      "text/plain": [
       "<IPython.core.display.HTML object>"
      ]
     },
     "metadata": {},
     "output_type": "display_data"
    },
    {
     "data": {
      "text/plain": [
       "(#7) [0.03893253579735756,0.19731329381465912,6.803638458251953,0.008595479652285576,0.29638418555259705,0.13932137191295624,0.8368798050916748]"
      ]
     },
     "execution_count": 49,
     "metadata": {},
     "output_type": "execute_result"
    }
   ],
   "source": [
    "learn.validate()"
   ]
  },
  {
   "cell_type": "markdown",
   "metadata": {},
   "source": [
    "`RegressionInterpretation` can be used to plot results."
   ]
  },
  {
   "cell_type": "code",
   "execution_count": 50,
   "metadata": {
    "ExecuteTime": {
     "end_time": "2020-11-06T09:34:53.578521Z",
     "start_time": "2020-11-06T09:34:53.521960Z"
    }
   },
   "outputs": [
    {
     "data": {
      "text/html": [],
      "text/plain": [
       "<IPython.core.display.HTML object>"
      ]
     },
     "metadata": {},
     "output_type": "display_data"
    }
   ],
   "source": [
    "reg_interp = RegressionInterpretation.from_learner(learn, ds_idx=1)"
   ]
  },
  {
   "cell_type": "code",
   "execution_count": 51,
   "metadata": {
    "ExecuteTime": {
     "end_time": "2020-11-06T09:34:54.317393Z",
     "start_time": "2020-11-06T09:34:53.966501Z"
    }
   },
   "outputs": [
    {
     "data": {
      "image/png": "[encoded data removed]",
      "text/plain": [
       "<Figure size 504x432 with 2 Axes>"
      ]
     },
     "metadata": {
      "needs_background": "light"
     },
     "output_type": "display_data"
    }
   ],
   "source": [
    "reg_interp.plot_results()\n",
    "plt.show()"
   ]
  },
  {
   "cell_type": "markdown",
   "metadata": {},
   "source": [
    "If target variable is log-transformed, specify `log_y = True` to inverse transformations."
   ]
  },
  {
   "cell_type": "code",
   "execution_count": 52,
   "metadata": {
    "ExecuteTime": {
     "end_time": "2020-11-06T09:34:57.021200Z",
     "start_time": "2020-11-06T09:34:56.596898Z"
    }
   },
   "outputs": [
    {
     "data": {
      "image/png": "[encoded data removed]",
      "text/plain": [
       "<Figure size 504x432 with 2 Axes>"
      ]
     },
     "metadata": {
      "needs_background": "light"
     },
     "output_type": "display_data"
    }
   ],
   "source": [
    "reg_interp.plot_results(log_y=True)\n",
    "plt.show()"
   ]
  },
  {
   "cell_type": "markdown",
   "metadata": {},
   "source": [
    "Evaluate test set."
   ]
  },
  {
   "cell_type": "code",
   "execution_count": 21,
   "metadata": {
    "ExecuteTime": {
     "end_time": "2020-11-06T09:15:37.930629Z",
     "start_time": "2020-11-06T09:15:37.913856Z"
    }
   },
   "outputs": [],
   "source": [
    "test_dls = test_tb.dataloaders(y_block=RegressionBlock(), shuffle_train=False, drop_last=False)"
   ]
  },
  {
   "cell_type": "code",
   "execution_count": 22,
   "metadata": {
    "ExecuteTime": {
     "end_time": "2020-11-06T09:15:38.509672Z",
     "start_time": "2020-11-06T09:15:38.453734Z"
    }
   },
   "outputs": [
    {
     "data": {
      "text/html": [],
      "text/plain": [
       "<IPython.core.display.HTML object>"
      ]
     },
     "metadata": {},
     "output_type": "display_data"
    }
   ],
   "source": [
    "test_interp = RegressionInterpretation.from_learner(learn, dl=test_dls)"
   ]
  },
  {
   "cell_type": "code",
   "execution_count": 23,
   "metadata": {
    "ExecuteTime": {
     "end_time": "2020-11-06T09:15:39.470401Z",
     "start_time": "2020-11-06T09:15:39.121424Z"
    }
   },
   "outputs": [
    {
     "data": {
      "image/png": "[encoded data removed]",
      "text/plain": [
       "<Figure size 504x432 with 2 Axes>"
      ]
     },
     "metadata": {
      "needs_background": "light"
     },
     "output_type": "display_data"
    }
   ],
   "source": [
    "test_interp.plot_results()\n",
    "plt.show()"
   ]
  },
  {
   "cell_type": "code",
   "execution_count": 24,
   "metadata": {
    "ExecuteTime": {
     "end_time": "2020-11-06T09:15:41.562597Z",
     "start_time": "2020-11-06T09:15:41.251282Z"
    }
   },
   "outputs": [
    {
     "data": {
      "image/png": "[encoded data removed]",
      "text/plain": [
       "<Figure size 504x432 with 2 Axes>"
      ]
     },
     "metadata": {
      "needs_background": "light"
     },
     "output_type": "display_data"
    }
   ],
   "source": [
    "test_interp.plot_results(log_y=True)\n",
    "plt.show()"
   ]
  },
  {
   "cell_type": "markdown",
   "metadata": {},
   "source": [
    "# Ensemble of ANNs"
   ]
  },
  {
   "cell_type": "markdown",
   "metadata": {},
   "source": [
    "Fit several models at once."
   ]
  },
  {
   "cell_type": "code",
   "execution_count": 25,
   "metadata": {
    "ExecuteTime": {
     "end_time": "2020-11-06T09:16:33.620974Z",
     "start_time": "2020-11-06T09:16:33.592580Z"
    }
   },
   "outputs": [],
   "source": [
    "ensemble = ANNEnsemble(dls, \n",
    "                       y_range=(0,5), \n",
    "                       metrics=[rmse, rrmse, bias, bias_pct, mae, R2Score()], n_models=10,\n",
    "                      config={'act_cls': Mish()})"
   ]
  },
  {
   "cell_type": "code",
   "execution_count": 26,
   "metadata": {
    "ExecuteTime": {
     "end_time": "2020-11-06T09:17:03.618038Z",
     "start_time": "2020-11-06T09:16:34.784162Z"
    },
    "scrolled": true
   },
   "outputs": [
    {
     "data": {
      "text/html": [
       "<table border=\"1\" class=\"dataframe\">\n",
       "  <thead>\n",
       "    <tr style=\"text-align: left;\">\n",
       "      <th>epoch</th>\n",
       "      <th>train_loss</th>\n",
       "      <th>valid_loss</th>\n",
       "      <th>_rmse</th>\n",
       "      <th>_rrmse</th>\n",
       "      <th>_bias</th>\n",
       "      <th>_bias_pct</th>\n",
       "      <th>mae</th>\n",
       "      <th>r2_score</th>\n",
       "      <th>time</th>\n",
       "    </tr>\n",
       "  </thead>\n",
       "  <tbody>\n",
       "    <tr>\n",
       "      <td>0</td>\n",
       "      <td>0.217649</td>\n",
       "      <td>0.125510</td>\n",
       "      <td>0.354274</td>\n",
       "      <td>12.215858</td>\n",
       "      <td>-0.207201</td>\n",
       "      <td>-7.144591</td>\n",
       "      <td>0.288145</td>\n",
       "      <td>0.474136</td>\n",
       "      <td>00:00</td>\n",
       "    </tr>\n",
       "    <tr>\n",
       "      <td>1</td>\n",
       "      <td>0.148529</td>\n",
       "      <td>0.060692</td>\n",
       "      <td>0.246358</td>\n",
       "      <td>8.494755</td>\n",
       "      <td>-0.015950</td>\n",
       "      <td>-0.549995</td>\n",
       "      <td>0.181704</td>\n",
       "      <td>0.745711</td>\n",
       "      <td>00:00</td>\n",
       "    </tr>\n",
       "    <tr>\n",
       "      <td>2</td>\n",
       "      <td>0.106208</td>\n",
       "      <td>0.048960</td>\n",
       "      <td>0.221269</td>\n",
       "      <td>7.629678</td>\n",
       "      <td>0.007218</td>\n",
       "      <td>0.248889</td>\n",
       "      <td>0.160536</td>\n",
       "      <td>0.794866</td>\n",
       "      <td>00:00</td>\n",
       "    </tr>\n",
       "    <tr>\n",
       "      <td>3</td>\n",
       "      <td>0.085543</td>\n",
       "      <td>0.052175</td>\n",
       "      <td>0.228419</td>\n",
       "      <td>7.876197</td>\n",
       "      <td>0.021298</td>\n",
       "      <td>0.734399</td>\n",
       "      <td>0.164532</td>\n",
       "      <td>0.781396</td>\n",
       "      <td>00:00</td>\n",
       "    </tr>\n",
       "    <tr>\n",
       "      <td>4</td>\n",
       "      <td>0.072127</td>\n",
       "      <td>0.039976</td>\n",
       "      <td>0.199939</td>\n",
       "      <td>6.894188</td>\n",
       "      <td>-0.013773</td>\n",
       "      <td>-0.474913</td>\n",
       "      <td>0.150554</td>\n",
       "      <td>0.832509</td>\n",
       "      <td>00:00</td>\n",
       "    </tr>\n",
       "    <tr>\n",
       "      <td>5</td>\n",
       "      <td>0.063950</td>\n",
       "      <td>0.043286</td>\n",
       "      <td>0.208052</td>\n",
       "      <td>7.173934</td>\n",
       "      <td>-0.004253</td>\n",
       "      <td>-0.146654</td>\n",
       "      <td>0.154309</td>\n",
       "      <td>0.818641</td>\n",
       "      <td>00:00</td>\n",
       "    </tr>\n",
       "    <tr>\n",
       "      <td>6</td>\n",
       "      <td>0.055620</td>\n",
       "      <td>0.043579</td>\n",
       "      <td>0.208755</td>\n",
       "      <td>7.198167</td>\n",
       "      <td>0.000742</td>\n",
       "      <td>0.025589</td>\n",
       "      <td>0.153181</td>\n",
       "      <td>0.817413</td>\n",
       "      <td>00:00</td>\n",
       "    </tr>\n",
       "    <tr>\n",
       "      <td>7</td>\n",
       "      <td>0.049897</td>\n",
       "      <td>0.039975</td>\n",
       "      <td>0.199937</td>\n",
       "      <td>6.894093</td>\n",
       "      <td>0.004793</td>\n",
       "      <td>0.165259</td>\n",
       "      <td>0.146235</td>\n",
       "      <td>0.832514</td>\n",
       "      <td>00:00</td>\n",
       "    </tr>\n",
       "    <tr>\n",
       "      <td>8</td>\n",
       "      <td>0.045788</td>\n",
       "      <td>0.040834</td>\n",
       "      <td>0.202074</td>\n",
       "      <td>6.967783</td>\n",
       "      <td>0.016444</td>\n",
       "      <td>0.567011</td>\n",
       "      <td>0.146757</td>\n",
       "      <td>0.828914</td>\n",
       "      <td>00:00</td>\n",
       "    </tr>\n",
       "    <tr>\n",
       "      <td>9</td>\n",
       "      <td>0.043950</td>\n",
       "      <td>0.040257</td>\n",
       "      <td>0.200642</td>\n",
       "      <td>6.918432</td>\n",
       "      <td>0.010895</td>\n",
       "      <td>0.375685</td>\n",
       "      <td>0.147250</td>\n",
       "      <td>0.831329</td>\n",
       "      <td>00:00</td>\n",
       "    </tr>\n",
       "  </tbody>\n",
       "</table>"
      ],
      "text/plain": [
       "<IPython.core.display.HTML object>"
      ]
     },
     "metadata": {},
     "output_type": "display_data"
    },
    {
     "data": {
      "text/html": [
       "<table border=\"1\" class=\"dataframe\">\n",
       "  <thead>\n",
       "    <tr style=\"text-align: left;\">\n",
       "      <th>epoch</th>\n",
       "      <th>train_loss</th>\n",
       "      <th>valid_loss</th>\n",
       "      <th>_rmse</th>\n",
       "      <th>_rrmse</th>\n",
       "      <th>_bias</th>\n",
       "      <th>_bias_pct</th>\n",
       "      <th>mae</th>\n",
       "      <th>r2_score</th>\n",
       "      <th>time</th>\n",
       "    </tr>\n",
       "  </thead>\n",
       "  <tbody>\n",
       "    <tr>\n",
       "      <td>0</td>\n",
       "      <td>0.340184</td>\n",
       "      <td>0.209336</td>\n",
       "      <td>0.457533</td>\n",
       "      <td>15.776369</td>\n",
       "      <td>-0.331570</td>\n",
       "      <td>-11.432983</td>\n",
       "      <td>0.387664</td>\n",
       "      <td>0.122920</td>\n",
       "      <td>00:00</td>\n",
       "    </tr>\n",
       "    <tr>\n",
       "      <td>1</td>\n",
       "      <td>0.225437</td>\n",
       "      <td>0.086313</td>\n",
       "      <td>0.293791</td>\n",
       "      <td>10.130334</td>\n",
       "      <td>-0.009972</td>\n",
       "      <td>-0.343862</td>\n",
       "      <td>0.219334</td>\n",
       "      <td>0.638363</td>\n",
       "      <td>00:00</td>\n",
       "    </tr>\n",
       "    <tr>\n",
       "      <td>2</td>\n",
       "      <td>0.150810</td>\n",
       "      <td>0.057794</td>\n",
       "      <td>0.240403</td>\n",
       "      <td>8.289428</td>\n",
       "      <td>-0.005735</td>\n",
       "      <td>-0.197755</td>\n",
       "      <td>0.179283</td>\n",
       "      <td>0.757856</td>\n",
       "      <td>00:00</td>\n",
       "    </tr>\n",
       "    <tr>\n",
       "      <td>3</td>\n",
       "      <td>0.112850</td>\n",
       "      <td>0.046421</td>\n",
       "      <td>0.215455</td>\n",
       "      <td>7.429178</td>\n",
       "      <td>-0.014657</td>\n",
       "      <td>-0.505401</td>\n",
       "      <td>0.157130</td>\n",
       "      <td>0.805506</td>\n",
       "      <td>00:00</td>\n",
       "    </tr>\n",
       "    <tr>\n",
       "      <td>4</td>\n",
       "      <td>0.092402</td>\n",
       "      <td>0.048555</td>\n",
       "      <td>0.220352</td>\n",
       "      <td>7.598028</td>\n",
       "      <td>-0.004470</td>\n",
       "      <td>-0.154146</td>\n",
       "      <td>0.163480</td>\n",
       "      <td>0.796564</td>\n",
       "      <td>00:00</td>\n",
       "    </tr>\n",
       "    <tr>\n",
       "      <td>5</td>\n",
       "      <td>0.078634</td>\n",
       "      <td>0.045565</td>\n",
       "      <td>0.213459</td>\n",
       "      <td>7.360362</td>\n",
       "      <td>-0.011302</td>\n",
       "      <td>-0.389718</td>\n",
       "      <td>0.152414</td>\n",
       "      <td>0.809092</td>\n",
       "      <td>00:00</td>\n",
       "    </tr>\n",
       "    <tr>\n",
       "      <td>6</td>\n",
       "      <td>0.067946</td>\n",
       "      <td>0.046281</td>\n",
       "      <td>0.215130</td>\n",
       "      <td>7.417991</td>\n",
       "      <td>0.029901</td>\n",
       "      <td>1.031038</td>\n",
       "      <td>0.154288</td>\n",
       "      <td>0.806091</td>\n",
       "      <td>00:00</td>\n",
       "    </tr>\n",
       "    <tr>\n",
       "      <td>7</td>\n",
       "      <td>0.059512</td>\n",
       "      <td>0.043024</td>\n",
       "      <td>0.207422</td>\n",
       "      <td>7.152217</td>\n",
       "      <td>0.001983</td>\n",
       "      <td>0.068382</td>\n",
       "      <td>0.150227</td>\n",
       "      <td>0.819737</td>\n",
       "      <td>00:00</td>\n",
       "    </tr>\n",
       "    <tr>\n",
       "      <td>8</td>\n",
       "      <td>0.053355</td>\n",
       "      <td>0.043111</td>\n",
       "      <td>0.207632</td>\n",
       "      <td>7.159434</td>\n",
       "      <td>-0.003601</td>\n",
       "      <td>-0.124154</td>\n",
       "      <td>0.148932</td>\n",
       "      <td>0.819373</td>\n",
       "      <td>00:00</td>\n",
       "    </tr>\n",
       "    <tr>\n",
       "      <td>9</td>\n",
       "      <td>0.048417</td>\n",
       "      <td>0.042985</td>\n",
       "      <td>0.207328</td>\n",
       "      <td>7.148955</td>\n",
       "      <td>0.006241</td>\n",
       "      <td>0.215186</td>\n",
       "      <td>0.148195</td>\n",
       "      <td>0.819901</td>\n",
       "      <td>00:00</td>\n",
       "    </tr>\n",
       "  </tbody>\n",
       "</table>"
      ],
      "text/plain": [
       "<IPython.core.display.HTML object>"
      ]
     },
     "metadata": {},
     "output_type": "display_data"
    },
    {
     "data": {
      "text/html": [
       "<table border=\"1\" class=\"dataframe\">\n",
       "  <thead>\n",
       "    <tr style=\"text-align: left;\">\n",
       "      <th>epoch</th>\n",
       "      <th>train_loss</th>\n",
       "      <th>valid_loss</th>\n",
       "      <th>_rmse</th>\n",
       "      <th>_rrmse</th>\n",
       "      <th>_bias</th>\n",
       "      <th>_bias_pct</th>\n",
       "      <th>mae</th>\n",
       "      <th>r2_score</th>\n",
       "      <th>time</th>\n",
       "    </tr>\n",
       "  </thead>\n",
       "  <tbody>\n",
       "    <tr>\n",
       "      <td>0</td>\n",
       "      <td>0.386514</td>\n",
       "      <td>0.277819</td>\n",
       "      <td>0.527085</td>\n",
       "      <td>18.174629</td>\n",
       "      <td>-0.417957</td>\n",
       "      <td>-14.411735</td>\n",
       "      <td>0.460178</td>\n",
       "      <td>-0.164009</td>\n",
       "      <td>00:00</td>\n",
       "    </tr>\n",
       "    <tr>\n",
       "      <td>1</td>\n",
       "      <td>0.261445</td>\n",
       "      <td>0.093289</td>\n",
       "      <td>0.305433</td>\n",
       "      <td>10.531761</td>\n",
       "      <td>-0.122476</td>\n",
       "      <td>-4.223140</td>\n",
       "      <td>0.242278</td>\n",
       "      <td>0.609135</td>\n",
       "      <td>00:00</td>\n",
       "    </tr>\n",
       "    <tr>\n",
       "      <td>2</td>\n",
       "      <td>0.174224</td>\n",
       "      <td>0.047580</td>\n",
       "      <td>0.218129</td>\n",
       "      <td>7.521400</td>\n",
       "      <td>-0.030440</td>\n",
       "      <td>-1.049624</td>\n",
       "      <td>0.165079</td>\n",
       "      <td>0.800647</td>\n",
       "      <td>00:00</td>\n",
       "    </tr>\n",
       "    <tr>\n",
       "      <td>3</td>\n",
       "      <td>0.128217</td>\n",
       "      <td>0.047951</td>\n",
       "      <td>0.218978</td>\n",
       "      <td>7.550677</td>\n",
       "      <td>0.010684</td>\n",
       "      <td>0.368414</td>\n",
       "      <td>0.157179</td>\n",
       "      <td>0.799092</td>\n",
       "      <td>00:00</td>\n",
       "    </tr>\n",
       "    <tr>\n",
       "      <td>4</td>\n",
       "      <td>0.101250</td>\n",
       "      <td>0.041963</td>\n",
       "      <td>0.204848</td>\n",
       "      <td>7.063431</td>\n",
       "      <td>0.005192</td>\n",
       "      <td>0.179026</td>\n",
       "      <td>0.152795</td>\n",
       "      <td>0.824185</td>\n",
       "      <td>00:00</td>\n",
       "    </tr>\n",
       "    <tr>\n",
       "      <td>5</td>\n",
       "      <td>0.082963</td>\n",
       "      <td>0.043062</td>\n",
       "      <td>0.207514</td>\n",
       "      <td>7.155382</td>\n",
       "      <td>-0.006499</td>\n",
       "      <td>-0.224109</td>\n",
       "      <td>0.154067</td>\n",
       "      <td>0.819577</td>\n",
       "      <td>00:00</td>\n",
       "    </tr>\n",
       "    <tr>\n",
       "      <td>6</td>\n",
       "      <td>0.068760</td>\n",
       "      <td>0.042134</td>\n",
       "      <td>0.205265</td>\n",
       "      <td>7.077812</td>\n",
       "      <td>-0.013726</td>\n",
       "      <td>-0.473299</td>\n",
       "      <td>0.152204</td>\n",
       "      <td>0.823468</td>\n",
       "      <td>00:00</td>\n",
       "    </tr>\n",
       "    <tr>\n",
       "      <td>7</td>\n",
       "      <td>0.059354</td>\n",
       "      <td>0.041157</td>\n",
       "      <td>0.202872</td>\n",
       "      <td>6.995297</td>\n",
       "      <td>0.009998</td>\n",
       "      <td>0.344743</td>\n",
       "      <td>0.146806</td>\n",
       "      <td>0.827560</td>\n",
       "      <td>00:00</td>\n",
       "    </tr>\n",
       "    <tr>\n",
       "      <td>8</td>\n",
       "      <td>0.053001</td>\n",
       "      <td>0.039558</td>\n",
       "      <td>0.198891</td>\n",
       "      <td>6.858052</td>\n",
       "      <td>0.001767</td>\n",
       "      <td>0.060922</td>\n",
       "      <td>0.142090</td>\n",
       "      <td>0.834260</td>\n",
       "      <td>00:00</td>\n",
       "    </tr>\n",
       "    <tr>\n",
       "      <td>9</td>\n",
       "      <td>0.048317</td>\n",
       "      <td>0.039669</td>\n",
       "      <td>0.199171</td>\n",
       "      <td>6.867682</td>\n",
       "      <td>0.010887</td>\n",
       "      <td>0.375399</td>\n",
       "      <td>0.140992</td>\n",
       "      <td>0.833794</td>\n",
       "      <td>00:00</td>\n",
       "    </tr>\n",
       "  </tbody>\n",
       "</table>"
      ],
      "text/plain": [
       "<IPython.core.display.HTML object>"
      ]
     },
     "metadata": {},
     "output_type": "display_data"
    },
    {
     "data": {
      "text/html": [
       "<table border=\"1\" class=\"dataframe\">\n",
       "  <thead>\n",
       "    <tr style=\"text-align: left;\">\n",
       "      <th>epoch</th>\n",
       "      <th>train_loss</th>\n",
       "      <th>valid_loss</th>\n",
       "      <th>_rmse</th>\n",
       "      <th>_rrmse</th>\n",
       "      <th>_bias</th>\n",
       "      <th>_bias_pct</th>\n",
       "      <th>mae</th>\n",
       "      <th>r2_score</th>\n",
       "      <th>time</th>\n",
       "    </tr>\n",
       "  </thead>\n",
       "  <tbody>\n",
       "    <tr>\n",
       "      <td>0</td>\n",
       "      <td>0.208667</td>\n",
       "      <td>0.143709</td>\n",
       "      <td>0.379089</td>\n",
       "      <td>13.071531</td>\n",
       "      <td>-0.230709</td>\n",
       "      <td>-7.955157</td>\n",
       "      <td>0.312384</td>\n",
       "      <td>0.397887</td>\n",
       "      <td>00:00</td>\n",
       "    </tr>\n",
       "    <tr>\n",
       "      <td>1</td>\n",
       "      <td>0.138412</td>\n",
       "      <td>0.072101</td>\n",
       "      <td>0.268516</td>\n",
       "      <td>9.258823</td>\n",
       "      <td>-0.075448</td>\n",
       "      <td>-2.601565</td>\n",
       "      <td>0.204974</td>\n",
       "      <td>0.697910</td>\n",
       "      <td>00:00</td>\n",
       "    </tr>\n",
       "    <tr>\n",
       "      <td>2</td>\n",
       "      <td>0.103571</td>\n",
       "      <td>0.042447</td>\n",
       "      <td>0.206027</td>\n",
       "      <td>7.104107</td>\n",
       "      <td>-0.036677</td>\n",
       "      <td>-1.264678</td>\n",
       "      <td>0.157198</td>\n",
       "      <td>0.822154</td>\n",
       "      <td>00:00</td>\n",
       "    </tr>\n",
       "    <tr>\n",
       "      <td>3</td>\n",
       "      <td>0.083259</td>\n",
       "      <td>0.044393</td>\n",
       "      <td>0.210695</td>\n",
       "      <td>7.265071</td>\n",
       "      <td>-0.007428</td>\n",
       "      <td>-0.256143</td>\n",
       "      <td>0.162394</td>\n",
       "      <td>0.814003</td>\n",
       "      <td>00:00</td>\n",
       "    </tr>\n",
       "    <tr>\n",
       "      <td>4</td>\n",
       "      <td>0.072283</td>\n",
       "      <td>0.047409</td>\n",
       "      <td>0.217736</td>\n",
       "      <td>7.507839</td>\n",
       "      <td>-0.005097</td>\n",
       "      <td>-0.175746</td>\n",
       "      <td>0.162274</td>\n",
       "      <td>0.801365</td>\n",
       "      <td>00:00</td>\n",
       "    </tr>\n",
       "    <tr>\n",
       "      <td>5</td>\n",
       "      <td>0.062917</td>\n",
       "      <td>0.042943</td>\n",
       "      <td>0.207227</td>\n",
       "      <td>7.145479</td>\n",
       "      <td>-0.002284</td>\n",
       "      <td>-0.078753</td>\n",
       "      <td>0.154285</td>\n",
       "      <td>0.820077</td>\n",
       "      <td>00:00</td>\n",
       "    </tr>\n",
       "    <tr>\n",
       "      <td>6</td>\n",
       "      <td>0.054851</td>\n",
       "      <td>0.036457</td>\n",
       "      <td>0.190938</td>\n",
       "      <td>6.583811</td>\n",
       "      <td>-0.005884</td>\n",
       "      <td>-0.202896</td>\n",
       "      <td>0.142849</td>\n",
       "      <td>0.847250</td>\n",
       "      <td>00:00</td>\n",
       "    </tr>\n",
       "    <tr>\n",
       "      <td>7</td>\n",
       "      <td>0.049744</td>\n",
       "      <td>0.036583</td>\n",
       "      <td>0.191266</td>\n",
       "      <td>6.595116</td>\n",
       "      <td>-0.011624</td>\n",
       "      <td>-0.400807</td>\n",
       "      <td>0.144249</td>\n",
       "      <td>0.846725</td>\n",
       "      <td>00:00</td>\n",
       "    </tr>\n",
       "    <tr>\n",
       "      <td>8</td>\n",
       "      <td>0.045391</td>\n",
       "      <td>0.036151</td>\n",
       "      <td>0.190135</td>\n",
       "      <td>6.556128</td>\n",
       "      <td>0.006148</td>\n",
       "      <td>0.211989</td>\n",
       "      <td>0.142118</td>\n",
       "      <td>0.848532</td>\n",
       "      <td>00:00</td>\n",
       "    </tr>\n",
       "    <tr>\n",
       "      <td>9</td>\n",
       "      <td>0.041587</td>\n",
       "      <td>0.035080</td>\n",
       "      <td>0.187297</td>\n",
       "      <td>6.458264</td>\n",
       "      <td>0.001620</td>\n",
       "      <td>0.055871</td>\n",
       "      <td>0.139633</td>\n",
       "      <td>0.853020</td>\n",
       "      <td>00:00</td>\n",
       "    </tr>\n",
       "  </tbody>\n",
       "</table>"
      ],
      "text/plain": [
       "<IPython.core.display.HTML object>"
      ]
     },
     "metadata": {},
     "output_type": "display_data"
    },
    {
     "data": {
      "text/html": [
       "<table border=\"1\" class=\"dataframe\">\n",
       "  <thead>\n",
       "    <tr style=\"text-align: left;\">\n",
       "      <th>epoch</th>\n",
       "      <th>train_loss</th>\n",
       "      <th>valid_loss</th>\n",
       "      <th>_rmse</th>\n",
       "      <th>_rrmse</th>\n",
       "      <th>_bias</th>\n",
       "      <th>_bias_pct</th>\n",
       "      <th>mae</th>\n",
       "      <th>r2_score</th>\n",
       "      <th>time</th>\n",
       "    </tr>\n",
       "  </thead>\n",
       "  <tbody>\n",
       "    <tr>\n",
       "      <td>0</td>\n",
       "      <td>0.387256</td>\n",
       "      <td>0.261870</td>\n",
       "      <td>0.511732</td>\n",
       "      <td>17.645231</td>\n",
       "      <td>-0.389414</td>\n",
       "      <td>-13.427545</td>\n",
       "      <td>0.439184</td>\n",
       "      <td>-0.097185</td>\n",
       "      <td>00:00</td>\n",
       "    </tr>\n",
       "    <tr>\n",
       "      <td>1</td>\n",
       "      <td>0.258253</td>\n",
       "      <td>0.098443</td>\n",
       "      <td>0.313756</td>\n",
       "      <td>10.818736</td>\n",
       "      <td>-0.085473</td>\n",
       "      <td>-2.947221</td>\n",
       "      <td>0.238785</td>\n",
       "      <td>0.587543</td>\n",
       "      <td>00:00</td>\n",
       "    </tr>\n",
       "    <tr>\n",
       "      <td>2</td>\n",
       "      <td>0.170886</td>\n",
       "      <td>0.052526</td>\n",
       "      <td>0.229185</td>\n",
       "      <td>7.902629</td>\n",
       "      <td>0.002203</td>\n",
       "      <td>0.075970</td>\n",
       "      <td>0.173006</td>\n",
       "      <td>0.779926</td>\n",
       "      <td>00:00</td>\n",
       "    </tr>\n",
       "    <tr>\n",
       "      <td>3</td>\n",
       "      <td>0.125877</td>\n",
       "      <td>0.051121</td>\n",
       "      <td>0.226099</td>\n",
       "      <td>7.796224</td>\n",
       "      <td>0.023659</td>\n",
       "      <td>0.815785</td>\n",
       "      <td>0.164107</td>\n",
       "      <td>0.785813</td>\n",
       "      <td>00:00</td>\n",
       "    </tr>\n",
       "    <tr>\n",
       "      <td>4</td>\n",
       "      <td>0.098624</td>\n",
       "      <td>0.046351</td>\n",
       "      <td>0.215293</td>\n",
       "      <td>7.423619</td>\n",
       "      <td>-0.031780</td>\n",
       "      <td>-1.095818</td>\n",
       "      <td>0.160910</td>\n",
       "      <td>0.805797</td>\n",
       "      <td>00:00</td>\n",
       "    </tr>\n",
       "    <tr>\n",
       "      <td>5</td>\n",
       "      <td>0.079603</td>\n",
       "      <td>0.045898</td>\n",
       "      <td>0.214238</td>\n",
       "      <td>7.387228</td>\n",
       "      <td>0.013632</td>\n",
       "      <td>0.470063</td>\n",
       "      <td>0.158629</td>\n",
       "      <td>0.807696</td>\n",
       "      <td>00:00</td>\n",
       "    </tr>\n",
       "    <tr>\n",
       "      <td>6</td>\n",
       "      <td>0.066547</td>\n",
       "      <td>0.042151</td>\n",
       "      <td>0.205308</td>\n",
       "      <td>7.079314</td>\n",
       "      <td>0.007436</td>\n",
       "      <td>0.256388</td>\n",
       "      <td>0.147886</td>\n",
       "      <td>0.823393</td>\n",
       "      <td>00:00</td>\n",
       "    </tr>\n",
       "    <tr>\n",
       "      <td>7</td>\n",
       "      <td>0.059169</td>\n",
       "      <td>0.043212</td>\n",
       "      <td>0.207875</td>\n",
       "      <td>7.167809</td>\n",
       "      <td>-0.002411</td>\n",
       "      <td>-0.083134</td>\n",
       "      <td>0.151030</td>\n",
       "      <td>0.818950</td>\n",
       "      <td>00:00</td>\n",
       "    </tr>\n",
       "    <tr>\n",
       "      <td>8</td>\n",
       "      <td>0.051789</td>\n",
       "      <td>0.042029</td>\n",
       "      <td>0.205009</td>\n",
       "      <td>7.068986</td>\n",
       "      <td>0.004620</td>\n",
       "      <td>0.159292</td>\n",
       "      <td>0.148226</td>\n",
       "      <td>0.823908</td>\n",
       "      <td>00:00</td>\n",
       "    </tr>\n",
       "    <tr>\n",
       "      <td>9</td>\n",
       "      <td>0.046924</td>\n",
       "      <td>0.042005</td>\n",
       "      <td>0.204951</td>\n",
       "      <td>7.066996</td>\n",
       "      <td>0.007280</td>\n",
       "      <td>0.251037</td>\n",
       "      <td>0.147424</td>\n",
       "      <td>0.824007</td>\n",
       "      <td>00:00</td>\n",
       "    </tr>\n",
       "  </tbody>\n",
       "</table>"
      ],
      "text/plain": [
       "<IPython.core.display.HTML object>"
      ]
     },
     "metadata": {},
     "output_type": "display_data"
    },
    {
     "data": {
      "text/html": [
       "<table border=\"1\" class=\"dataframe\">\n",
       "  <thead>\n",
       "    <tr style=\"text-align: left;\">\n",
       "      <th>epoch</th>\n",
       "      <th>train_loss</th>\n",
       "      <th>valid_loss</th>\n",
       "      <th>_rmse</th>\n",
       "      <th>_rrmse</th>\n",
       "      <th>_bias</th>\n",
       "      <th>_bias_pct</th>\n",
       "      <th>mae</th>\n",
       "      <th>r2_score</th>\n",
       "      <th>time</th>\n",
       "    </tr>\n",
       "  </thead>\n",
       "  <tbody>\n",
       "    <tr>\n",
       "      <td>0</td>\n",
       "      <td>0.280512</td>\n",
       "      <td>0.197836</td>\n",
       "      <td>0.444788</td>\n",
       "      <td>15.336905</td>\n",
       "      <td>-0.334077</td>\n",
       "      <td>-11.519430</td>\n",
       "      <td>0.379505</td>\n",
       "      <td>0.171103</td>\n",
       "      <td>00:00</td>\n",
       "    </tr>\n",
       "    <tr>\n",
       "      <td>1</td>\n",
       "      <td>0.183505</td>\n",
       "      <td>0.052228</td>\n",
       "      <td>0.228534</td>\n",
       "      <td>7.880185</td>\n",
       "      <td>-0.086765</td>\n",
       "      <td>-2.991763</td>\n",
       "      <td>0.181843</td>\n",
       "      <td>0.781174</td>\n",
       "      <td>00:00</td>\n",
       "    </tr>\n",
       "    <tr>\n",
       "      <td>2</td>\n",
       "      <td>0.130098</td>\n",
       "      <td>0.038492</td>\n",
       "      <td>0.196195</td>\n",
       "      <td>6.765070</td>\n",
       "      <td>-0.022655</td>\n",
       "      <td>-0.781168</td>\n",
       "      <td>0.143965</td>\n",
       "      <td>0.838724</td>\n",
       "      <td>00:00</td>\n",
       "    </tr>\n",
       "    <tr>\n",
       "      <td>3</td>\n",
       "      <td>0.102513</td>\n",
       "      <td>0.038199</td>\n",
       "      <td>0.195447</td>\n",
       "      <td>6.739281</td>\n",
       "      <td>0.003634</td>\n",
       "      <td>0.125298</td>\n",
       "      <td>0.143078</td>\n",
       "      <td>0.839951</td>\n",
       "      <td>00:00</td>\n",
       "    </tr>\n",
       "    <tr>\n",
       "      <td>4</td>\n",
       "      <td>0.082471</td>\n",
       "      <td>0.040042</td>\n",
       "      <td>0.200104</td>\n",
       "      <td>6.899877</td>\n",
       "      <td>0.021410</td>\n",
       "      <td>0.738238</td>\n",
       "      <td>0.145096</td>\n",
       "      <td>0.832232</td>\n",
       "      <td>00:00</td>\n",
       "    </tr>\n",
       "    <tr>\n",
       "      <td>5</td>\n",
       "      <td>0.069322</td>\n",
       "      <td>0.038800</td>\n",
       "      <td>0.196977</td>\n",
       "      <td>6.792034</td>\n",
       "      <td>0.018332</td>\n",
       "      <td>0.632101</td>\n",
       "      <td>0.140971</td>\n",
       "      <td>0.837436</td>\n",
       "      <td>00:00</td>\n",
       "    </tr>\n",
       "    <tr>\n",
       "      <td>6</td>\n",
       "      <td>0.059764</td>\n",
       "      <td>0.037681</td>\n",
       "      <td>0.194116</td>\n",
       "      <td>6.693403</td>\n",
       "      <td>0.000291</td>\n",
       "      <td>0.010034</td>\n",
       "      <td>0.141644</td>\n",
       "      <td>0.842123</td>\n",
       "      <td>00:00</td>\n",
       "    </tr>\n",
       "    <tr>\n",
       "      <td>7</td>\n",
       "      <td>0.052640</td>\n",
       "      <td>0.037243</td>\n",
       "      <td>0.192984</td>\n",
       "      <td>6.654342</td>\n",
       "      <td>0.011364</td>\n",
       "      <td>0.391851</td>\n",
       "      <td>0.141648</td>\n",
       "      <td>0.843960</td>\n",
       "      <td>00:00</td>\n",
       "    </tr>\n",
       "    <tr>\n",
       "      <td>8</td>\n",
       "      <td>0.047477</td>\n",
       "      <td>0.037592</td>\n",
       "      <td>0.193887</td>\n",
       "      <td>6.685501</td>\n",
       "      <td>0.018456</td>\n",
       "      <td>0.636381</td>\n",
       "      <td>0.141774</td>\n",
       "      <td>0.842495</td>\n",
       "      <td>00:00</td>\n",
       "    </tr>\n",
       "    <tr>\n",
       "      <td>9</td>\n",
       "      <td>0.044770</td>\n",
       "      <td>0.037263</td>\n",
       "      <td>0.193036</td>\n",
       "      <td>6.656148</td>\n",
       "      <td>0.018598</td>\n",
       "      <td>0.641274</td>\n",
       "      <td>0.141037</td>\n",
       "      <td>0.843875</td>\n",
       "      <td>00:00</td>\n",
       "    </tr>\n",
       "  </tbody>\n",
       "</table>"
      ],
      "text/plain": [
       "<IPython.core.display.HTML object>"
      ]
     },
     "metadata": {},
     "output_type": "display_data"
    },
    {
     "data": {
      "text/html": [
       "<table border=\"1\" class=\"dataframe\">\n",
       "  <thead>\n",
       "    <tr style=\"text-align: left;\">\n",
       "      <th>epoch</th>\n",
       "      <th>train_loss</th>\n",
       "      <th>valid_loss</th>\n",
       "      <th>_rmse</th>\n",
       "      <th>_rrmse</th>\n",
       "      <th>_bias</th>\n",
       "      <th>_bias_pct</th>\n",
       "      <th>mae</th>\n",
       "      <th>r2_score</th>\n",
       "      <th>time</th>\n",
       "    </tr>\n",
       "  </thead>\n",
       "  <tbody>\n",
       "    <tr>\n",
       "      <td>0</td>\n",
       "      <td>0.311911</td>\n",
       "      <td>0.199760</td>\n",
       "      <td>0.446946</td>\n",
       "      <td>15.411311</td>\n",
       "      <td>-0.298909</td>\n",
       "      <td>-10.306784</td>\n",
       "      <td>0.375278</td>\n",
       "      <td>0.163040</td>\n",
       "      <td>00:00</td>\n",
       "    </tr>\n",
       "    <tr>\n",
       "      <td>1</td>\n",
       "      <td>0.206084</td>\n",
       "      <td>0.074899</td>\n",
       "      <td>0.273676</td>\n",
       "      <td>9.436749</td>\n",
       "      <td>-0.072369</td>\n",
       "      <td>-2.495384</td>\n",
       "      <td>0.214357</td>\n",
       "      <td>0.686188</td>\n",
       "      <td>00:00</td>\n",
       "    </tr>\n",
       "    <tr>\n",
       "      <td>2</td>\n",
       "      <td>0.144537</td>\n",
       "      <td>0.052265</td>\n",
       "      <td>0.228616</td>\n",
       "      <td>7.882991</td>\n",
       "      <td>0.013264</td>\n",
       "      <td>0.457353</td>\n",
       "      <td>0.172918</td>\n",
       "      <td>0.781019</td>\n",
       "      <td>00:00</td>\n",
       "    </tr>\n",
       "    <tr>\n",
       "      <td>3</td>\n",
       "      <td>0.109336</td>\n",
       "      <td>0.041432</td>\n",
       "      <td>0.203548</td>\n",
       "      <td>7.018608</td>\n",
       "      <td>-0.027785</td>\n",
       "      <td>-0.958075</td>\n",
       "      <td>0.151950</td>\n",
       "      <td>0.826409</td>\n",
       "      <td>00:00</td>\n",
       "    </tr>\n",
       "    <tr>\n",
       "      <td>4</td>\n",
       "      <td>0.087327</td>\n",
       "      <td>0.042611</td>\n",
       "      <td>0.206423</td>\n",
       "      <td>7.117761</td>\n",
       "      <td>0.011748</td>\n",
       "      <td>0.405090</td>\n",
       "      <td>0.150864</td>\n",
       "      <td>0.821470</td>\n",
       "      <td>00:00</td>\n",
       "    </tr>\n",
       "    <tr>\n",
       "      <td>5</td>\n",
       "      <td>0.074593</td>\n",
       "      <td>0.047907</td>\n",
       "      <td>0.218877</td>\n",
       "      <td>7.547170</td>\n",
       "      <td>0.036565</td>\n",
       "      <td>1.260814</td>\n",
       "      <td>0.159849</td>\n",
       "      <td>0.799279</td>\n",
       "      <td>00:00</td>\n",
       "    </tr>\n",
       "    <tr>\n",
       "      <td>6</td>\n",
       "      <td>0.064448</td>\n",
       "      <td>0.039781</td>\n",
       "      <td>0.199451</td>\n",
       "      <td>6.877347</td>\n",
       "      <td>0.004391</td>\n",
       "      <td>0.151409</td>\n",
       "      <td>0.142439</td>\n",
       "      <td>0.833326</td>\n",
       "      <td>00:00</td>\n",
       "    </tr>\n",
       "    <tr>\n",
       "      <td>7</td>\n",
       "      <td>0.056118</td>\n",
       "      <td>0.037828</td>\n",
       "      <td>0.194495</td>\n",
       "      <td>6.706458</td>\n",
       "      <td>0.008856</td>\n",
       "      <td>0.305357</td>\n",
       "      <td>0.140212</td>\n",
       "      <td>0.841506</td>\n",
       "      <td>00:00</td>\n",
       "    </tr>\n",
       "    <tr>\n",
       "      <td>8</td>\n",
       "      <td>0.049899</td>\n",
       "      <td>0.036851</td>\n",
       "      <td>0.191967</td>\n",
       "      <td>6.619276</td>\n",
       "      <td>0.006187</td>\n",
       "      <td>0.213343</td>\n",
       "      <td>0.136950</td>\n",
       "      <td>0.845600</td>\n",
       "      <td>00:00</td>\n",
       "    </tr>\n",
       "    <tr>\n",
       "      <td>9</td>\n",
       "      <td>0.046438</td>\n",
       "      <td>0.037035</td>\n",
       "      <td>0.192446</td>\n",
       "      <td>6.635805</td>\n",
       "      <td>-0.005431</td>\n",
       "      <td>-0.187266</td>\n",
       "      <td>0.138123</td>\n",
       "      <td>0.844828</td>\n",
       "      <td>00:00</td>\n",
       "    </tr>\n",
       "  </tbody>\n",
       "</table>"
      ],
      "text/plain": [
       "<IPython.core.display.HTML object>"
      ]
     },
     "metadata": {},
     "output_type": "display_data"
    },
    {
     "data": {
      "text/html": [
       "<table border=\"1\" class=\"dataframe\">\n",
       "  <thead>\n",
       "    <tr style=\"text-align: left;\">\n",
       "      <th>epoch</th>\n",
       "      <th>train_loss</th>\n",
       "      <th>valid_loss</th>\n",
       "      <th>_rmse</th>\n",
       "      <th>_rrmse</th>\n",
       "      <th>_bias</th>\n",
       "      <th>_bias_pct</th>\n",
       "      <th>mae</th>\n",
       "      <th>r2_score</th>\n",
       "      <th>time</th>\n",
       "    </tr>\n",
       "  </thead>\n",
       "  <tbody>\n",
       "    <tr>\n",
       "      <td>0</td>\n",
       "      <td>0.234110</td>\n",
       "      <td>0.170357</td>\n",
       "      <td>0.412743</td>\n",
       "      <td>14.231959</td>\n",
       "      <td>-0.272745</td>\n",
       "      <td>-9.404635</td>\n",
       "      <td>0.338979</td>\n",
       "      <td>0.286236</td>\n",
       "      <td>00:00</td>\n",
       "    </tr>\n",
       "    <tr>\n",
       "      <td>1</td>\n",
       "      <td>0.154316</td>\n",
       "      <td>0.058576</td>\n",
       "      <td>0.242025</td>\n",
       "      <td>8.345351</td>\n",
       "      <td>-0.057553</td>\n",
       "      <td>-1.984500</td>\n",
       "      <td>0.185213</td>\n",
       "      <td>0.754577</td>\n",
       "      <td>00:00</td>\n",
       "    </tr>\n",
       "    <tr>\n",
       "      <td>2</td>\n",
       "      <td>0.112911</td>\n",
       "      <td>0.050238</td>\n",
       "      <td>0.224139</td>\n",
       "      <td>7.728627</td>\n",
       "      <td>0.032042</td>\n",
       "      <td>1.104852</td>\n",
       "      <td>0.169217</td>\n",
       "      <td>0.789511</td>\n",
       "      <td>00:00</td>\n",
       "    </tr>\n",
       "    <tr>\n",
       "      <td>3</td>\n",
       "      <td>0.086540</td>\n",
       "      <td>0.043882</td>\n",
       "      <td>0.209481</td>\n",
       "      <td>7.223206</td>\n",
       "      <td>-0.016503</td>\n",
       "      <td>-0.569044</td>\n",
       "      <td>0.157479</td>\n",
       "      <td>0.816141</td>\n",
       "      <td>00:00</td>\n",
       "    </tr>\n",
       "    <tr>\n",
       "      <td>4</td>\n",
       "      <td>0.072412</td>\n",
       "      <td>0.041355</td>\n",
       "      <td>0.203359</td>\n",
       "      <td>7.012104</td>\n",
       "      <td>-0.017334</td>\n",
       "      <td>-0.597716</td>\n",
       "      <td>0.153657</td>\n",
       "      <td>0.826731</td>\n",
       "      <td>00:00</td>\n",
       "    </tr>\n",
       "    <tr>\n",
       "      <td>5</td>\n",
       "      <td>0.062826</td>\n",
       "      <td>0.045300</td>\n",
       "      <td>0.212838</td>\n",
       "      <td>7.338954</td>\n",
       "      <td>0.014684</td>\n",
       "      <td>0.506335</td>\n",
       "      <td>0.152401</td>\n",
       "      <td>0.810201</td>\n",
       "      <td>00:00</td>\n",
       "    </tr>\n",
       "    <tr>\n",
       "      <td>6</td>\n",
       "      <td>0.056447</td>\n",
       "      <td>0.041711</td>\n",
       "      <td>0.204234</td>\n",
       "      <td>7.042265</td>\n",
       "      <td>-0.007429</td>\n",
       "      <td>-0.256159</td>\n",
       "      <td>0.153569</td>\n",
       "      <td>0.825237</td>\n",
       "      <td>00:00</td>\n",
       "    </tr>\n",
       "    <tr>\n",
       "      <td>7</td>\n",
       "      <td>0.050579</td>\n",
       "      <td>0.041984</td>\n",
       "      <td>0.204900</td>\n",
       "      <td>7.065243</td>\n",
       "      <td>-0.009711</td>\n",
       "      <td>-0.334848</td>\n",
       "      <td>0.151680</td>\n",
       "      <td>0.824094</td>\n",
       "      <td>00:00</td>\n",
       "    </tr>\n",
       "    <tr>\n",
       "      <td>8</td>\n",
       "      <td>0.045966</td>\n",
       "      <td>0.041344</td>\n",
       "      <td>0.203333</td>\n",
       "      <td>7.011196</td>\n",
       "      <td>0.013338</td>\n",
       "      <td>0.459903</td>\n",
       "      <td>0.148935</td>\n",
       "      <td>0.826775</td>\n",
       "      <td>00:00</td>\n",
       "    </tr>\n",
       "    <tr>\n",
       "      <td>9</td>\n",
       "      <td>0.042895</td>\n",
       "      <td>0.041175</td>\n",
       "      <td>0.202917</td>\n",
       "      <td>6.996873</td>\n",
       "      <td>0.014537</td>\n",
       "      <td>0.501270</td>\n",
       "      <td>0.148575</td>\n",
       "      <td>0.827482</td>\n",
       "      <td>00:00</td>\n",
       "    </tr>\n",
       "  </tbody>\n",
       "</table>"
      ],
      "text/plain": [
       "<IPython.core.display.HTML object>"
      ]
     },
     "metadata": {},
     "output_type": "display_data"
    },
    {
     "data": {
      "text/html": [
       "<table border=\"1\" class=\"dataframe\">\n",
       "  <thead>\n",
       "    <tr style=\"text-align: left;\">\n",
       "      <th>epoch</th>\n",
       "      <th>train_loss</th>\n",
       "      <th>valid_loss</th>\n",
       "      <th>_rmse</th>\n",
       "      <th>_rrmse</th>\n",
       "      <th>_bias</th>\n",
       "      <th>_bias_pct</th>\n",
       "      <th>mae</th>\n",
       "      <th>r2_score</th>\n",
       "      <th>time</th>\n",
       "    </tr>\n",
       "  </thead>\n",
       "  <tbody>\n",
       "    <tr>\n",
       "      <td>0</td>\n",
       "      <td>0.215593</td>\n",
       "      <td>0.149617</td>\n",
       "      <td>0.386803</td>\n",
       "      <td>13.337517</td>\n",
       "      <td>-0.239006</td>\n",
       "      <td>-8.241246</td>\n",
       "      <td>0.316671</td>\n",
       "      <td>0.373133</td>\n",
       "      <td>00:00</td>\n",
       "    </tr>\n",
       "    <tr>\n",
       "      <td>1</td>\n",
       "      <td>0.147826</td>\n",
       "      <td>0.064705</td>\n",
       "      <td>0.254372</td>\n",
       "      <td>8.771107</td>\n",
       "      <td>-0.012027</td>\n",
       "      <td>-0.414720</td>\n",
       "      <td>0.195404</td>\n",
       "      <td>0.728897</td>\n",
       "      <td>00:00</td>\n",
       "    </tr>\n",
       "    <tr>\n",
       "      <td>2</td>\n",
       "      <td>0.107369</td>\n",
       "      <td>0.068367</td>\n",
       "      <td>0.261470</td>\n",
       "      <td>9.015855</td>\n",
       "      <td>-0.002181</td>\n",
       "      <td>-0.075205</td>\n",
       "      <td>0.195557</td>\n",
       "      <td>0.713556</td>\n",
       "      <td>00:00</td>\n",
       "    </tr>\n",
       "    <tr>\n",
       "      <td>3</td>\n",
       "      <td>0.088247</td>\n",
       "      <td>0.045480</td>\n",
       "      <td>0.213259</td>\n",
       "      <td>7.353481</td>\n",
       "      <td>0.007763</td>\n",
       "      <td>0.267676</td>\n",
       "      <td>0.157999</td>\n",
       "      <td>0.809449</td>\n",
       "      <td>00:00</td>\n",
       "    </tr>\n",
       "    <tr>\n",
       "      <td>4</td>\n",
       "      <td>0.074187</td>\n",
       "      <td>0.040488</td>\n",
       "      <td>0.201217</td>\n",
       "      <td>6.938258</td>\n",
       "      <td>-0.004905</td>\n",
       "      <td>-0.169134</td>\n",
       "      <td>0.147170</td>\n",
       "      <td>0.830361</td>\n",
       "      <td>00:00</td>\n",
       "    </tr>\n",
       "    <tr>\n",
       "      <td>5</td>\n",
       "      <td>0.062993</td>\n",
       "      <td>0.041154</td>\n",
       "      <td>0.202863</td>\n",
       "      <td>6.995012</td>\n",
       "      <td>0.017252</td>\n",
       "      <td>0.594877</td>\n",
       "      <td>0.148464</td>\n",
       "      <td>0.827574</td>\n",
       "      <td>00:00</td>\n",
       "    </tr>\n",
       "    <tr>\n",
       "      <td>6</td>\n",
       "      <td>0.055872</td>\n",
       "      <td>0.040770</td>\n",
       "      <td>0.201915</td>\n",
       "      <td>6.962302</td>\n",
       "      <td>0.010132</td>\n",
       "      <td>0.349377</td>\n",
       "      <td>0.144895</td>\n",
       "      <td>0.829183</td>\n",
       "      <td>00:00</td>\n",
       "    </tr>\n",
       "    <tr>\n",
       "      <td>7</td>\n",
       "      <td>0.050246</td>\n",
       "      <td>0.040886</td>\n",
       "      <td>0.202202</td>\n",
       "      <td>6.972220</td>\n",
       "      <td>-0.003943</td>\n",
       "      <td>-0.135955</td>\n",
       "      <td>0.145743</td>\n",
       "      <td>0.828696</td>\n",
       "      <td>00:00</td>\n",
       "    </tr>\n",
       "    <tr>\n",
       "      <td>8</td>\n",
       "      <td>0.046168</td>\n",
       "      <td>0.038597</td>\n",
       "      <td>0.196462</td>\n",
       "      <td>6.774279</td>\n",
       "      <td>0.009833</td>\n",
       "      <td>0.339055</td>\n",
       "      <td>0.142546</td>\n",
       "      <td>0.838285</td>\n",
       "      <td>00:00</td>\n",
       "    </tr>\n",
       "    <tr>\n",
       "      <td>9</td>\n",
       "      <td>0.043087</td>\n",
       "      <td>0.038756</td>\n",
       "      <td>0.196866</td>\n",
       "      <td>6.788229</td>\n",
       "      <td>0.016243</td>\n",
       "      <td>0.560077</td>\n",
       "      <td>0.141648</td>\n",
       "      <td>0.837618</td>\n",
       "      <td>00:00</td>\n",
       "    </tr>\n",
       "  </tbody>\n",
       "</table>"
      ],
      "text/plain": [
       "<IPython.core.display.HTML object>"
      ]
     },
     "metadata": {},
     "output_type": "display_data"
    },
    {
     "data": {
      "text/html": [
       "<table border=\"1\" class=\"dataframe\">\n",
       "  <thead>\n",
       "    <tr style=\"text-align: left;\">\n",
       "      <th>epoch</th>\n",
       "      <th>train_loss</th>\n",
       "      <th>valid_loss</th>\n",
       "      <th>_rmse</th>\n",
       "      <th>_rrmse</th>\n",
       "      <th>_bias</th>\n",
       "      <th>_bias_pct</th>\n",
       "      <th>mae</th>\n",
       "      <th>r2_score</th>\n",
       "      <th>time</th>\n",
       "    </tr>\n",
       "  </thead>\n",
       "  <tbody>\n",
       "    <tr>\n",
       "      <td>0</td>\n",
       "      <td>0.354287</td>\n",
       "      <td>0.235115</td>\n",
       "      <td>0.484886</td>\n",
       "      <td>16.719559</td>\n",
       "      <td>-0.377271</td>\n",
       "      <td>-13.008818</td>\n",
       "      <td>0.421405</td>\n",
       "      <td>0.014912</td>\n",
       "      <td>00:00</td>\n",
       "    </tr>\n",
       "    <tr>\n",
       "      <td>1</td>\n",
       "      <td>0.227035</td>\n",
       "      <td>0.073539</td>\n",
       "      <td>0.271181</td>\n",
       "      <td>9.350688</td>\n",
       "      <td>-0.072661</td>\n",
       "      <td>-2.505455</td>\n",
       "      <td>0.213155</td>\n",
       "      <td>0.691885</td>\n",
       "      <td>00:00</td>\n",
       "    </tr>\n",
       "    <tr>\n",
       "      <td>2</td>\n",
       "      <td>0.158600</td>\n",
       "      <td>0.062501</td>\n",
       "      <td>0.250001</td>\n",
       "      <td>8.620391</td>\n",
       "      <td>-0.008176</td>\n",
       "      <td>-0.281903</td>\n",
       "      <td>0.195290</td>\n",
       "      <td>0.738134</td>\n",
       "      <td>00:00</td>\n",
       "    </tr>\n",
       "    <tr>\n",
       "      <td>3</td>\n",
       "      <td>0.119643</td>\n",
       "      <td>0.044431</td>\n",
       "      <td>0.210786</td>\n",
       "      <td>7.268209</td>\n",
       "      <td>0.001668</td>\n",
       "      <td>0.057510</td>\n",
       "      <td>0.160229</td>\n",
       "      <td>0.813843</td>\n",
       "      <td>00:00</td>\n",
       "    </tr>\n",
       "    <tr>\n",
       "      <td>4</td>\n",
       "      <td>0.096571</td>\n",
       "      <td>0.048968</td>\n",
       "      <td>0.221287</td>\n",
       "      <td>7.630278</td>\n",
       "      <td>0.009932</td>\n",
       "      <td>0.342453</td>\n",
       "      <td>0.164989</td>\n",
       "      <td>0.794834</td>\n",
       "      <td>00:00</td>\n",
       "    </tr>\n",
       "    <tr>\n",
       "      <td>5</td>\n",
       "      <td>0.080475</td>\n",
       "      <td>0.041295</td>\n",
       "      <td>0.203212</td>\n",
       "      <td>7.007021</td>\n",
       "      <td>0.015715</td>\n",
       "      <td>0.541867</td>\n",
       "      <td>0.153594</td>\n",
       "      <td>0.826982</td>\n",
       "      <td>00:00</td>\n",
       "    </tr>\n",
       "    <tr>\n",
       "      <td>6</td>\n",
       "      <td>0.068444</td>\n",
       "      <td>0.041186</td>\n",
       "      <td>0.202943</td>\n",
       "      <td>6.997751</td>\n",
       "      <td>-0.004095</td>\n",
       "      <td>-0.141205</td>\n",
       "      <td>0.150214</td>\n",
       "      <td>0.827439</td>\n",
       "      <td>00:00</td>\n",
       "    </tr>\n",
       "    <tr>\n",
       "      <td>7</td>\n",
       "      <td>0.059416</td>\n",
       "      <td>0.042976</td>\n",
       "      <td>0.207306</td>\n",
       "      <td>7.148189</td>\n",
       "      <td>0.017926</td>\n",
       "      <td>0.618123</td>\n",
       "      <td>0.154968</td>\n",
       "      <td>0.819940</td>\n",
       "      <td>00:00</td>\n",
       "    </tr>\n",
       "    <tr>\n",
       "      <td>8</td>\n",
       "      <td>0.052983</td>\n",
       "      <td>0.040954</td>\n",
       "      <td>0.202371</td>\n",
       "      <td>6.978049</td>\n",
       "      <td>0.008465</td>\n",
       "      <td>0.291902</td>\n",
       "      <td>0.150631</td>\n",
       "      <td>0.828409</td>\n",
       "      <td>00:00</td>\n",
       "    </tr>\n",
       "    <tr>\n",
       "      <td>9</td>\n",
       "      <td>0.047791</td>\n",
       "      <td>0.040481</td>\n",
       "      <td>0.201199</td>\n",
       "      <td>6.937620</td>\n",
       "      <td>0.008117</td>\n",
       "      <td>0.279897</td>\n",
       "      <td>0.149456</td>\n",
       "      <td>0.830392</td>\n",
       "      <td>00:00</td>\n",
       "    </tr>\n",
       "  </tbody>\n",
       "</table>"
      ],
      "text/plain": [
       "<IPython.core.display.HTML object>"
      ]
     },
     "metadata": {},
     "output_type": "display_data"
    }
   ],
   "source": [
    "ensemble.fit_one_cycle(10, 1e-2)"
   ]
  },
  {
   "cell_type": "code",
   "execution_count": 27,
   "metadata": {
    "ExecuteTime": {
     "end_time": "2020-11-06T09:17:04.318425Z",
     "start_time": "2020-11-06T09:17:03.620089Z"
    }
   },
   "outputs": [
    {
     "data": {
      "text/html": [],
      "text/plain": [
       "<IPython.core.display.HTML object>"
      ]
     },
     "metadata": {},
     "output_type": "display_data"
    },
    {
     "data": {
      "text/html": [],
      "text/plain": [
       "<IPython.core.display.HTML object>"
      ]
     },
     "metadata": {},
     "output_type": "display_data"
    },
    {
     "data": {
      "text/html": [],
      "text/plain": [
       "<IPython.core.display.HTML object>"
      ]
     },
     "metadata": {},
     "output_type": "display_data"
    },
    {
     "data": {
      "text/html": [],
      "text/plain": [
       "<IPython.core.display.HTML object>"
      ]
     },
     "metadata": {},
     "output_type": "display_data"
    },
    {
     "data": {
      "text/html": [],
      "text/plain": [
       "<IPython.core.display.HTML object>"
      ]
     },
     "metadata": {},
     "output_type": "display_data"
    },
    {
     "data": {
      "text/html": [],
      "text/plain": [
       "<IPython.core.display.HTML object>"
      ]
     },
     "metadata": {},
     "output_type": "display_data"
    },
    {
     "data": {
      "text/html": [],
      "text/plain": [
       "<IPython.core.display.HTML object>"
      ]
     },
     "metadata": {},
     "output_type": "display_data"
    },
    {
     "data": {
      "text/html": [],
      "text/plain": [
       "<IPython.core.display.HTML object>"
      ]
     },
     "metadata": {},
     "output_type": "display_data"
    },
    {
     "data": {
      "text/html": [],
      "text/plain": [
       "<IPython.core.display.HTML object>"
      ]
     },
     "metadata": {},
     "output_type": "display_data"
    },
    {
     "data": {
      "text/html": [],
      "text/plain": [
       "<IPython.core.display.HTML object>"
      ]
     },
     "metadata": {},
     "output_type": "display_data"
    }
   ],
   "source": [
    "res = ensemble.validate()"
   ]
  },
  {
   "cell_type": "markdown",
   "metadata": {},
   "source": [
    "See ensemble validation results."
   ]
  },
  {
   "cell_type": "code",
   "execution_count": 28,
   "metadata": {
    "ExecuteTime": {
     "end_time": "2020-11-06T09:17:04.333800Z",
     "start_time": "2020-11-06T09:17:04.320383Z"
    }
   },
   "outputs": [
    {
     "data": {
      "text/html": [
       "<div>\n",
       "<style scoped>\n",
       "    .dataframe tbody tr th:only-of-type {\n",
       "        vertical-align: middle;\n",
       "    }\n",
       "\n",
       "    .dataframe tbody tr th {\n",
       "        vertical-align: top;\n",
       "    }\n",
       "\n",
       "    .dataframe thead th {\n",
       "        text-align: right;\n",
       "    }\n",
       "</style>\n",
       "<table border=\"1\" class=\"dataframe\">\n",
       "  <thead>\n",
       "    <tr style=\"text-align: right;\">\n",
       "      <th></th>\n",
       "      <th>model_identifier</th>\n",
       "      <th>_rmse</th>\n",
       "      <th>_rrmse</th>\n",
       "      <th>_bias</th>\n",
       "      <th>_bias_pct</th>\n",
       "      <th>mae</th>\n",
       "      <th>r2_score</th>\n",
       "    </tr>\n",
       "  </thead>\n",
       "  <tbody>\n",
       "    <tr>\n",
       "      <th>0</th>\n",
       "      <td>ensemble</td>\n",
       "      <td>0.191600</td>\n",
       "      <td>6.606653</td>\n",
       "      <td>0.008899</td>\n",
       "      <td>0.306843</td>\n",
       "      <td>0.138741</td>\n",
       "      <td>0.846189</td>\n",
       "    </tr>\n",
       "    <tr>\n",
       "      <th>1</th>\n",
       "      <td>0</td>\n",
       "      <td>0.200642</td>\n",
       "      <td>6.918432</td>\n",
       "      <td>0.010895</td>\n",
       "      <td>0.375685</td>\n",
       "      <td>0.147250</td>\n",
       "      <td>0.831329</td>\n",
       "    </tr>\n",
       "    <tr>\n",
       "      <th>2</th>\n",
       "      <td>1</td>\n",
       "      <td>0.207328</td>\n",
       "      <td>7.148955</td>\n",
       "      <td>0.006241</td>\n",
       "      <td>0.215186</td>\n",
       "      <td>0.148195</td>\n",
       "      <td>0.819901</td>\n",
       "    </tr>\n",
       "    <tr>\n",
       "      <th>3</th>\n",
       "      <td>2</td>\n",
       "      <td>0.199171</td>\n",
       "      <td>6.867682</td>\n",
       "      <td>0.010887</td>\n",
       "      <td>0.375399</td>\n",
       "      <td>0.140992</td>\n",
       "      <td>0.833794</td>\n",
       "    </tr>\n",
       "    <tr>\n",
       "      <th>4</th>\n",
       "      <td>3</td>\n",
       "      <td>0.187297</td>\n",
       "      <td>6.458264</td>\n",
       "      <td>0.001620</td>\n",
       "      <td>0.055871</td>\n",
       "      <td>0.139633</td>\n",
       "      <td>0.853020</td>\n",
       "    </tr>\n",
       "    <tr>\n",
       "      <th>5</th>\n",
       "      <td>4</td>\n",
       "      <td>0.204951</td>\n",
       "      <td>7.066996</td>\n",
       "      <td>0.007280</td>\n",
       "      <td>0.251037</td>\n",
       "      <td>0.147424</td>\n",
       "      <td>0.824007</td>\n",
       "    </tr>\n",
       "    <tr>\n",
       "      <th>6</th>\n",
       "      <td>5</td>\n",
       "      <td>0.193036</td>\n",
       "      <td>6.656148</td>\n",
       "      <td>0.018598</td>\n",
       "      <td>0.641274</td>\n",
       "      <td>0.141037</td>\n",
       "      <td>0.843875</td>\n",
       "    </tr>\n",
       "    <tr>\n",
       "      <th>7</th>\n",
       "      <td>6</td>\n",
       "      <td>0.192446</td>\n",
       "      <td>6.635805</td>\n",
       "      <td>-0.005431</td>\n",
       "      <td>-0.187266</td>\n",
       "      <td>0.138123</td>\n",
       "      <td>0.844828</td>\n",
       "    </tr>\n",
       "    <tr>\n",
       "      <th>8</th>\n",
       "      <td>7</td>\n",
       "      <td>0.202917</td>\n",
       "      <td>6.996873</td>\n",
       "      <td>0.014537</td>\n",
       "      <td>0.501270</td>\n",
       "      <td>0.148575</td>\n",
       "      <td>0.827482</td>\n",
       "    </tr>\n",
       "    <tr>\n",
       "      <th>9</th>\n",
       "      <td>8</td>\n",
       "      <td>0.196866</td>\n",
       "      <td>6.788229</td>\n",
       "      <td>0.016243</td>\n",
       "      <td>0.560077</td>\n",
       "      <td>0.141648</td>\n",
       "      <td>0.837618</td>\n",
       "    </tr>\n",
       "    <tr>\n",
       "      <th>10</th>\n",
       "      <td>9</td>\n",
       "      <td>0.201199</td>\n",
       "      <td>6.937620</td>\n",
       "      <td>0.008117</td>\n",
       "      <td>0.279897</td>\n",
       "      <td>0.149456</td>\n",
       "      <td>0.830392</td>\n",
       "    </tr>\n",
       "  </tbody>\n",
       "</table>\n",
       "</div>"
      ],
      "text/plain": [
       "   model_identifier     _rmse    _rrmse     _bias  _bias_pct       mae  \\\n",
       "0          ensemble  0.191600  6.606653  0.008899   0.306843  0.138741   \n",
       "1                 0  0.200642  6.918432  0.010895   0.375685  0.147250   \n",
       "2                 1  0.207328  7.148955  0.006241   0.215186  0.148195   \n",
       "3                 2  0.199171  6.867682  0.010887   0.375399  0.140992   \n",
       "4                 3  0.187297  6.458264  0.001620   0.055871  0.139633   \n",
       "5                 4  0.204951  7.066996  0.007280   0.251037  0.147424   \n",
       "6                 5  0.193036  6.656148  0.018598   0.641274  0.141037   \n",
       "7                 6  0.192446  6.635805 -0.005431  -0.187266  0.138123   \n",
       "8                 7  0.202917  6.996873  0.014537   0.501270  0.148575   \n",
       "9                 8  0.196866  6.788229  0.016243   0.560077  0.141648   \n",
       "10                9  0.201199  6.937620  0.008117   0.279897  0.149456   \n",
       "\n",
       "    r2_score  \n",
       "0   0.846189  \n",
       "1   0.831329  \n",
       "2   0.819901  \n",
       "3   0.833794  \n",
       "4   0.853020  \n",
       "5   0.824007  \n",
       "6   0.843875  \n",
       "7   0.844828  \n",
       "8   0.827482  \n",
       "9   0.837618  \n",
       "10  0.830392  "
      ]
     },
     "execution_count": 28,
     "metadata": {},
     "output_type": "execute_result"
    }
   ],
   "source": [
    "res"
   ]
  },
  {
   "cell_type": "code",
   "execution_count": 29,
   "metadata": {
    "ExecuteTime": {
     "end_time": "2020-11-06T09:17:14.603363Z",
     "start_time": "2020-11-06T09:17:14.056750Z"
    }
   },
   "outputs": [
    {
     "data": {
      "text/html": [],
      "text/plain": [
       "<IPython.core.display.HTML object>"
      ]
     },
     "metadata": {},
     "output_type": "display_data"
    },
    {
     "data": {
      "text/html": [],
      "text/plain": [
       "<IPython.core.display.HTML object>"
      ]
     },
     "metadata": {},
     "output_type": "display_data"
    },
    {
     "data": {
      "text/html": [],
      "text/plain": [
       "<IPython.core.display.HTML object>"
      ]
     },
     "metadata": {},
     "output_type": "display_data"
    },
    {
     "data": {
      "text/html": [],
      "text/plain": [
       "<IPython.core.display.HTML object>"
      ]
     },
     "metadata": {},
     "output_type": "display_data"
    },
    {
     "data": {
      "text/html": [],
      "text/plain": [
       "<IPython.core.display.HTML object>"
      ]
     },
     "metadata": {},
     "output_type": "display_data"
    },
    {
     "data": {
      "text/html": [],
      "text/plain": [
       "<IPython.core.display.HTML object>"
      ]
     },
     "metadata": {},
     "output_type": "display_data"
    },
    {
     "data": {
      "text/html": [],
      "text/plain": [
       "<IPython.core.display.HTML object>"
      ]
     },
     "metadata": {},
     "output_type": "display_data"
    },
    {
     "data": {
      "text/html": [],
      "text/plain": [
       "<IPython.core.display.HTML object>"
      ]
     },
     "metadata": {},
     "output_type": "display_data"
    },
    {
     "data": {
      "text/html": [],
      "text/plain": [
       "<IPython.core.display.HTML object>"
      ]
     },
     "metadata": {},
     "output_type": "display_data"
    },
    {
     "data": {
      "text/html": [],
      "text/plain": [
       "<IPython.core.display.HTML object>"
      ]
     },
     "metadata": {},
     "output_type": "display_data"
    }
   ],
   "source": [
    "ens_int = RegressionInterpretation.from_ensemble(ensemble)"
   ]
  },
  {
   "cell_type": "code",
   "execution_count": 30,
   "metadata": {
    "ExecuteTime": {
     "end_time": "2020-11-06T09:17:15.448818Z",
     "start_time": "2020-11-06T09:17:15.100475Z"
    }
   },
   "outputs": [
    {
     "data": {
      "image/png": "[encoded data removed]",
      "text/plain": [
       "<Figure size 504x432 with 2 Axes>"
      ]
     },
     "metadata": {
      "needs_background": "light"
     },
     "output_type": "display_data"
    }
   ],
   "source": [
    "ens_int.plot_results()\n",
    "plt.show()"
   ]
  },
  {
   "cell_type": "code",
   "execution_count": 31,
   "metadata": {
    "ExecuteTime": {
     "end_time": "2020-11-06T09:17:16.689182Z",
     "start_time": "2020-11-06T09:17:16.363574Z"
    }
   },
   "outputs": [
    {
     "data": {
      "image/png": "[encoded data removed]",
      "text/plain": [
       "<Figure size 504x432 with 2 Axes>"
      ]
     },
     "metadata": {
      "needs_background": "light"
     },
     "output_type": "display_data"
    }
   ],
   "source": [
    "ens_int.plot_results(log_y=True)\n",
    "plt.show()"
   ]
  },
  {
   "cell_type": "markdown",
   "metadata": {},
   "source": [
    "Run test set predictions."
   ]
  },
  {
   "cell_type": "code",
   "execution_count": 32,
   "metadata": {
    "ExecuteTime": {
     "end_time": "2020-11-06T09:17:20.849214Z",
     "start_time": "2020-11-06T09:17:20.172032Z"
    }
   },
   "outputs": [
    {
     "data": {
      "text/html": [],
      "text/plain": [
       "<IPython.core.display.HTML object>"
      ]
     },
     "metadata": {},
     "output_type": "display_data"
    },
    {
     "data": {
      "text/html": [],
      "text/plain": [
       "<IPython.core.display.HTML object>"
      ]
     },
     "metadata": {},
     "output_type": "display_data"
    },
    {
     "data": {
      "text/html": [],
      "text/plain": [
       "<IPython.core.display.HTML object>"
      ]
     },
     "metadata": {},
     "output_type": "display_data"
    },
    {
     "data": {
      "text/html": [],
      "text/plain": [
       "<IPython.core.display.HTML object>"
      ]
     },
     "metadata": {},
     "output_type": "display_data"
    },
    {
     "data": {
      "text/html": [],
      "text/plain": [
       "<IPython.core.display.HTML object>"
      ]
     },
     "metadata": {},
     "output_type": "display_data"
    },
    {
     "data": {
      "text/html": [],
      "text/plain": [
       "<IPython.core.display.HTML object>"
      ]
     },
     "metadata": {},
     "output_type": "display_data"
    },
    {
     "data": {
      "text/html": [],
      "text/plain": [
       "<IPython.core.display.HTML object>"
      ]
     },
     "metadata": {},
     "output_type": "display_data"
    },
    {
     "data": {
      "text/html": [],
      "text/plain": [
       "<IPython.core.display.HTML object>"
      ]
     },
     "metadata": {},
     "output_type": "display_data"
    },
    {
     "data": {
      "text/html": [],
      "text/plain": [
       "<IPython.core.display.HTML object>"
      ]
     },
     "metadata": {},
     "output_type": "display_data"
    },
    {
     "data": {
      "text/html": [],
      "text/plain": [
       "<IPython.core.display.HTML object>"
      ]
     },
     "metadata": {},
     "output_type": "display_data"
    },
    {
     "data": {
      "text/html": [
       "<div>\n",
       "<style scoped>\n",
       "    .dataframe tbody tr th:only-of-type {\n",
       "        vertical-align: middle;\n",
       "    }\n",
       "\n",
       "    .dataframe tbody tr th {\n",
       "        vertical-align: top;\n",
       "    }\n",
       "\n",
       "    .dataframe thead th {\n",
       "        text-align: right;\n",
       "    }\n",
       "</style>\n",
       "<table border=\"1\" class=\"dataframe\">\n",
       "  <thead>\n",
       "    <tr style=\"text-align: right;\">\n",
       "      <th></th>\n",
       "      <th>model_identifier</th>\n",
       "      <th>_rmse</th>\n",
       "      <th>_rrmse</th>\n",
       "      <th>_bias</th>\n",
       "      <th>_bias_pct</th>\n",
       "      <th>mae</th>\n",
       "      <th>r2_score</th>\n",
       "    </tr>\n",
       "  </thead>\n",
       "  <tbody>\n",
       "    <tr>\n",
       "      <th>0</th>\n",
       "      <td>ensemble</td>\n",
       "      <td>0.182127</td>\n",
       "      <td>6.237490</td>\n",
       "      <td>-0.021579</td>\n",
       "      <td>-0.739051</td>\n",
       "      <td>0.139452</td>\n",
       "      <td>0.860886</td>\n",
       "    </tr>\n",
       "    <tr>\n",
       "      <th>1</th>\n",
       "      <td>0</td>\n",
       "      <td>0.193803</td>\n",
       "      <td>6.637362</td>\n",
       "      <td>-0.021762</td>\n",
       "      <td>-0.745296</td>\n",
       "      <td>0.150727</td>\n",
       "      <td>0.842478</td>\n",
       "    </tr>\n",
       "    <tr>\n",
       "      <th>2</th>\n",
       "      <td>1</td>\n",
       "      <td>0.194946</td>\n",
       "      <td>6.676503</td>\n",
       "      <td>-0.029822</td>\n",
       "      <td>-1.021354</td>\n",
       "      <td>0.150414</td>\n",
       "      <td>0.840615</td>\n",
       "    </tr>\n",
       "    <tr>\n",
       "      <th>3</th>\n",
       "      <td>2</td>\n",
       "      <td>0.191556</td>\n",
       "      <td>6.560397</td>\n",
       "      <td>-0.014363</td>\n",
       "      <td>-0.491915</td>\n",
       "      <td>0.144587</td>\n",
       "      <td>0.846110</td>\n",
       "    </tr>\n",
       "    <tr>\n",
       "      <th>4</th>\n",
       "      <td>3</td>\n",
       "      <td>0.189824</td>\n",
       "      <td>6.501078</td>\n",
       "      <td>-0.029527</td>\n",
       "      <td>-1.011243</td>\n",
       "      <td>0.143549</td>\n",
       "      <td>0.848880</td>\n",
       "    </tr>\n",
       "    <tr>\n",
       "      <th>5</th>\n",
       "      <td>4</td>\n",
       "      <td>0.197444</td>\n",
       "      <td>6.762056</td>\n",
       "      <td>-0.023251</td>\n",
       "      <td>-0.796307</td>\n",
       "      <td>0.154196</td>\n",
       "      <td>0.836504</td>\n",
       "    </tr>\n",
       "    <tr>\n",
       "      <th>6</th>\n",
       "      <td>5</td>\n",
       "      <td>0.185309</td>\n",
       "      <td>6.346448</td>\n",
       "      <td>-0.013260</td>\n",
       "      <td>-0.454125</td>\n",
       "      <td>0.143697</td>\n",
       "      <td>0.855984</td>\n",
       "    </tr>\n",
       "    <tr>\n",
       "      <th>7</th>\n",
       "      <td>6</td>\n",
       "      <td>0.195114</td>\n",
       "      <td>6.682282</td>\n",
       "      <td>-0.033317</td>\n",
       "      <td>-1.141033</td>\n",
       "      <td>0.147827</td>\n",
       "      <td>0.840339</td>\n",
       "    </tr>\n",
       "    <tr>\n",
       "      <th>8</th>\n",
       "      <td>7</td>\n",
       "      <td>0.186740</td>\n",
       "      <td>6.395455</td>\n",
       "      <td>-0.021684</td>\n",
       "      <td>-0.742641</td>\n",
       "      <td>0.143545</td>\n",
       "      <td>0.853751</td>\n",
       "    </tr>\n",
       "    <tr>\n",
       "      <th>9</th>\n",
       "      <td>8</td>\n",
       "      <td>0.185353</td>\n",
       "      <td>6.347969</td>\n",
       "      <td>-0.015094</td>\n",
       "      <td>-0.516938</td>\n",
       "      <td>0.143352</td>\n",
       "      <td>0.855915</td>\n",
       "    </tr>\n",
       "    <tr>\n",
       "      <th>10</th>\n",
       "      <td>9</td>\n",
       "      <td>0.198211</td>\n",
       "      <td>6.788333</td>\n",
       "      <td>-0.013713</td>\n",
       "      <td>-0.469656</td>\n",
       "      <td>0.149172</td>\n",
       "      <td>0.835231</td>\n",
       "    </tr>\n",
       "  </tbody>\n",
       "</table>\n",
       "</div>"
      ],
      "text/plain": [
       "   model_identifier     _rmse    _rrmse     _bias  _bias_pct       mae  \\\n",
       "0          ensemble  0.182127  6.237490 -0.021579  -0.739051  0.139452   \n",
       "1                 0  0.193803  6.637362 -0.021762  -0.745296  0.150727   \n",
       "2                 1  0.194946  6.676503 -0.029822  -1.021354  0.150414   \n",
       "3                 2  0.191556  6.560397 -0.014363  -0.491915  0.144587   \n",
       "4                 3  0.189824  6.501078 -0.029527  -1.011243  0.143549   \n",
       "5                 4  0.197444  6.762056 -0.023251  -0.796307  0.154196   \n",
       "6                 5  0.185309  6.346448 -0.013260  -0.454125  0.143697   \n",
       "7                 6  0.195114  6.682282 -0.033317  -1.141033  0.147827   \n",
       "8                 7  0.186740  6.395455 -0.021684  -0.742641  0.143545   \n",
       "9                 8  0.185353  6.347969 -0.015094  -0.516938  0.143352   \n",
       "10                9  0.198211  6.788333 -0.013713  -0.469656  0.149172   \n",
       "\n",
       "    r2_score  \n",
       "0   0.860886  \n",
       "1   0.842478  \n",
       "2   0.840615  \n",
       "3   0.846110  \n",
       "4   0.848880  \n",
       "5   0.836504  \n",
       "6   0.855984  \n",
       "7   0.840339  \n",
       "8   0.853751  \n",
       "9   0.855915  \n",
       "10  0.835231  "
      ]
     },
     "execution_count": 32,
     "metadata": {},
     "output_type": "execute_result"
    }
   ],
   "source": [
    "test_res = ensemble.validate(dl=test_dls[0])\n",
    "test_res"
   ]
  },
  {
   "cell_type": "code",
   "execution_count": 33,
   "metadata": {
    "ExecuteTime": {
     "end_time": "2020-11-06T09:17:21.903995Z",
     "start_time": "2020-11-06T09:17:21.347353Z"
    }
   },
   "outputs": [
    {
     "data": {
      "text/html": [],
      "text/plain": [
       "<IPython.core.display.HTML object>"
      ]
     },
     "metadata": {},
     "output_type": "display_data"
    },
    {
     "data": {
      "text/html": [],
      "text/plain": [
       "<IPython.core.display.HTML object>"
      ]
     },
     "metadata": {},
     "output_type": "display_data"
    },
    {
     "data": {
      "text/html": [],
      "text/plain": [
       "<IPython.core.display.HTML object>"
      ]
     },
     "metadata": {},
     "output_type": "display_data"
    },
    {
     "data": {
      "text/html": [],
      "text/plain": [
       "<IPython.core.display.HTML object>"
      ]
     },
     "metadata": {},
     "output_type": "display_data"
    },
    {
     "data": {
      "text/html": [],
      "text/plain": [
       "<IPython.core.display.HTML object>"
      ]
     },
     "metadata": {},
     "output_type": "display_data"
    },
    {
     "data": {
      "text/html": [],
      "text/plain": [
       "<IPython.core.display.HTML object>"
      ]
     },
     "metadata": {},
     "output_type": "display_data"
    },
    {
     "data": {
      "text/html": [],
      "text/plain": [
       "<IPython.core.display.HTML object>"
      ]
     },
     "metadata": {},
     "output_type": "display_data"
    },
    {
     "data": {
      "text/html": [],
      "text/plain": [
       "<IPython.core.display.HTML object>"
      ]
     },
     "metadata": {},
     "output_type": "display_data"
    },
    {
     "data": {
      "text/html": [],
      "text/plain": [
       "<IPython.core.display.HTML object>"
      ]
     },
     "metadata": {},
     "output_type": "display_data"
    },
    {
     "data": {
      "text/html": [],
      "text/plain": [
       "<IPython.core.display.HTML object>"
      ]
     },
     "metadata": {},
     "output_type": "display_data"
    }
   ],
   "source": [
    "test_ens_interp = RegressionInterpretation.from_ensemble(ensemble, dl=test_dls[0])"
   ]
  },
  {
   "cell_type": "code",
   "execution_count": 34,
   "metadata": {
    "ExecuteTime": {
     "end_time": "2020-11-06T09:17:22.732037Z",
     "start_time": "2020-11-06T09:17:22.345004Z"
    }
   },
   "outputs": [
    {
     "data": {
      "image/png": "[encoded data removed]",
      "text/plain": [
       "<Figure size 504x432 with 2 Axes>"
      ]
     },
     "metadata": {
      "needs_background": "light"
     },
     "output_type": "display_data"
    }
   ],
   "source": [
    "test_ens_interp.plot_results()\n",
    "plt.show()"
   ]
  },
  {
   "cell_type": "code",
   "execution_count": 35,
   "metadata": {
    "ExecuteTime": {
     "end_time": "2020-11-06T09:17:24.621109Z",
     "start_time": "2020-11-06T09:17:24.239936Z"
    }
   },
   "outputs": [
    {
     "data": {
      "image/png": "[encoded data removed]",
      "text/plain": [
       "<Figure size 504x432 with 2 Axes>"
      ]
     },
     "metadata": {
      "needs_background": "light"
     },
     "output_type": "display_data"
    }
   ],
   "source": [
    "test_ens_interp.plot_results(log_y=True)\n",
    "plt.show()"
   ]
  },
  {
   "cell_type": "markdown",
   "metadata": {},
   "source": [
    "# Comparison: Random forest"
   ]
  },
  {
   "cell_type": "markdown",
   "metadata": {},
   "source": [
    "`TabularPandas` makes it simple to use sklearn models with the same data and preprocessing."
   ]
  },
  {
   "cell_type": "code",
   "execution_count": 36,
   "metadata": {
    "ExecuteTime": {
     "end_time": "2020-11-06T09:17:28.242887Z",
     "start_time": "2020-11-06T09:17:27.150360Z"
    }
   },
   "outputs": [],
   "source": [
    "from sklearn.ensemble import RandomForestRegressor"
   ]
  },
  {
   "cell_type": "markdown",
   "metadata": {},
   "source": [
    "Below values for max_features and min_samples_leaf should generally work well."
   ]
  },
  {
   "cell_type": "code",
   "execution_count": 37,
   "metadata": {
    "ExecuteTime": {
     "end_time": "2020-11-06T09:17:28.246957Z",
     "start_time": "2020-11-06T09:17:28.244503Z"
    }
   },
   "outputs": [],
   "source": [
    "rf = RandomForestRegressor(n_estimators=500, max_features=0.5, min_samples_leaf=4, oob_score=True)"
   ]
  },
  {
   "cell_type": "code",
   "execution_count": 38,
   "metadata": {
    "ExecuteTime": {
     "end_time": "2020-11-06T09:17:34.653784Z",
     "start_time": "2020-11-06T09:17:28.819249Z"
    }
   },
   "outputs": [
    {
     "data": {
      "text/plain": [
       "RandomForestRegressor(max_features=0.5, min_samples_leaf=4, n_estimators=500,\n",
       "                      oob_score=True)"
      ]
     },
     "execution_count": 38,
     "metadata": {},
     "output_type": "execute_result"
    }
   ],
   "source": [
    "rf.fit(trainval_tb.train.xs, trainval_tb.train.ys.values.ravel())"
   ]
  },
  {
   "cell_type": "code",
   "execution_count": 39,
   "metadata": {
    "ExecuteTime": {
     "end_time": "2020-11-06T09:17:34.756795Z",
     "start_time": "2020-11-06T09:17:34.656987Z"
    }
   },
   "outputs": [],
   "source": [
    "rf_preds = rf.predict(trainval_tb.valid.xs)"
   ]
  },
  {
   "cell_type": "markdown",
   "metadata": {},
   "source": [
    "Validation results"
   ]
  },
  {
   "cell_type": "code",
   "execution_count": 40,
   "metadata": {
    "ExecuteTime": {
     "end_time": "2020-11-06T09:17:35.242718Z",
     "start_time": "2020-11-06T09:17:34.759631Z"
    }
   },
   "outputs": [
    {
     "data": {
      "image/png": "[encoded data removed]",
      "text/plain": [
       "<Figure size 504x432 with 2 Axes>"
      ]
     },
     "metadata": {
      "needs_background": "light"
     },
     "output_type": "display_data"
    }
   ],
   "source": [
    "plot_sklearn_regression(rf, trainval_tb.valid.xs, trainval_tb.valid.ys)\n",
    "plt.show()"
   ]
  },
  {
   "cell_type": "code",
   "execution_count": 41,
   "metadata": {
    "ExecuteTime": {
     "end_time": "2020-11-06T09:17:35.654064Z",
     "start_time": "2020-11-06T09:17:35.244556Z"
    }
   },
   "outputs": [
    {
     "data": {
      "image/png": "[encoded data removed]",
      "text/plain": [
       "<Figure size 504x432 with 2 Axes>"
      ]
     },
     "metadata": {
      "needs_background": "light"
     },
     "output_type": "display_data"
    }
   ],
   "source": [
    "plot_sklearn_regression(rf, trainval_tb.valid.xs, trainval_tb.valid.ys, log_y=True)\n",
    "plt.show()"
   ]
  },
  {
   "cell_type": "markdown",
   "metadata": {},
   "source": [
    "Test results"
   ]
  },
  {
   "cell_type": "code",
   "execution_count": 42,
   "metadata": {
    "ExecuteTime": {
     "end_time": "2020-11-06T09:17:36.212949Z",
     "start_time": "2020-11-06T09:17:35.657205Z"
    }
   },
   "outputs": [
    {
     "data": {
      "image/png": "[encoded data removed]",
      "text/plain": [
       "<Figure size 504x432 with 2 Axes>"
      ]
     },
     "metadata": {
      "needs_background": "light"
     },
     "output_type": "display_data"
    }
   ],
   "source": [
    "plot_sklearn_regression(rf, test_tb.train.xs, test_tb.train.ys)\n",
    "plt.show()"
   ]
  },
  {
   "cell_type": "code",
   "execution_count": 43,
   "metadata": {
    "ExecuteTime": {
     "end_time": "2020-11-06T09:17:36.708174Z",
     "start_time": "2020-11-06T09:17:36.214972Z"
    }
   },
   "outputs": [
    {
     "data": {
      "image/png": "[encoded data removed]",
      "text/plain": [
       "<Figure size 504x432 with 2 Axes>"
      ]
     },
     "metadata": {
      "needs_background": "light"
     },
     "output_type": "display_data"
    }
   ],
   "source": [
    "plot_sklearn_regression(rf, test_tb.train.xs, test_tb.train.ys, log_y=True)\n",
    "plt.show()"
   ]
  },
  {
   "cell_type": "code",
   "execution_count": null,
   "metadata": {},
   "outputs": [],
   "source": []
  }
 ],
 "metadata": {
  "_draft": {
   "nbviewer_url": "https://gist.github.com/dc7eb4d2965a6babe6ed2610b300f7b4"
  },
  "gist": {
   "data": {
    "description": "LiDAR predictions.ipynb",
    "public": true
   },
   "id": "dc7eb4d2965a6babe6ed2610b300f7b4"
  },
  "kernelspec": {
   "display_name": "Python 3",
   "language": "python",
   "name": "python3"
  },
  "language_info": {
   "codemirror_mode": {
    "name": "ipython",
    "version": 3
   },
   "file_extension": ".py",
   "mimetype": "text/x-python",
   "name": "python",
   "nbconvert_exporter": "python",
   "pygments_lexer": "ipython3",
   "version": "3.8.3"
  },
  "latex_envs": {
   "LaTeX_envs_menu_present": true,
   "autoclose": false,
   "autocomplete": true,
   "bibliofile": "biblio.bib",
   "cite_by": "apalike",
   "current_citInitial": 1,
   "eqLabelWithNumbers": true,
   "eqNumInitial": 1,
   "hotkeys": {
    "equation": "Ctrl-E",
    "itemize": "Ctrl-I"
   },
   "labels_anchors": false,
   "latex_user_defs": false,
   "report_style_numbering": false,
   "user_envs_cfg": false
  },
  "toc": {
   "base_numbering": 1,
   "nav_menu": {},
   "number_sections": true,
   "sideBar": true,
   "skip_h1_title": false,
   "title_cell": "Table of Contents",
   "title_sidebar": "Contents",
   "toc_cell": false,
   "toc_position": {
    "height": "calc(100% - 180px)",
    "left": "10px",
    "top": "150px",
    "width": "303px"
   },
   "toc_section_display": true,
   "toc_window_display": true
  }
 },
 "nbformat": 4,
 "nbformat_minor": 4
}
