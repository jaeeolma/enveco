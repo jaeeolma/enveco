{
 "cells": [
  {
   "cell_type": "code",
   "execution_count": 8,
   "metadata": {
    "ExecuteTime": {
     "end_time": "2020-11-16T09:37:15.345685Z",
     "start_time": "2020-11-16T09:37:15.342916Z"
    }
   },
   "outputs": [],
   "source": [
    "import pandas as pd\n",
    "from pathlib import Path"
   ]
  },
  {
   "cell_type": "code",
   "execution_count": 9,
   "metadata": {
    "ExecuteTime": {
     "end_time": "2020-11-16T09:37:15.685752Z",
     "start_time": "2020-11-16T09:37:15.683370Z"
    }
   },
   "outputs": [],
   "source": [
    "basepath = Path('../scripts/results/')"
   ]
  },
  {
   "cell_type": "markdown",
   "metadata": {},
   "source": [
    "# Diameter at breast height (d)"
   ]
  },
  {
   "cell_type": "code",
   "execution_count": 10,
   "metadata": {
    "ExecuteTime": {
     "end_time": "2020-11-16T09:37:16.547306Z",
     "start_time": "2020-11-16T09:37:16.538512Z"
    }
   },
   "outputs": [],
   "source": [
    "d_ann_val = pd.read_csv(basepath/'v/ann_val.csv')\n",
    "d_ann_test = pd.read_csv(basepath/'v/ann_test.csv')"
   ]
  },
  {
   "cell_type": "code",
   "execution_count": 11,
   "metadata": {
    "ExecuteTime": {
     "end_time": "2020-11-16T09:37:16.958296Z",
     "start_time": "2020-11-16T09:37:16.947153Z"
    }
   },
   "outputs": [
    {
     "data": {
      "text/html": [
       "<div>\n",
       "<style scoped>\n",
       "    .dataframe tbody tr th:only-of-type {\n",
       "        vertical-align: middle;\n",
       "    }\n",
       "\n",
       "    .dataframe tbody tr th {\n",
       "        vertical-align: top;\n",
       "    }\n",
       "\n",
       "    .dataframe thead th {\n",
       "        text-align: right;\n",
       "    }\n",
       "</style>\n",
       "<table border=\"1\" class=\"dataframe\">\n",
       "  <thead>\n",
       "    <tr style=\"text-align: right;\">\n",
       "      <th></th>\n",
       "      <th>model_identifier</th>\n",
       "      <th>_rmse</th>\n",
       "      <th>_rrmse</th>\n",
       "      <th>_bias</th>\n",
       "      <th>_bias_pct</th>\n",
       "      <th>mae</th>\n",
       "      <th>r2_score</th>\n",
       "    </tr>\n",
       "  </thead>\n",
       "  <tbody>\n",
       "    <tr>\n",
       "      <th>0</th>\n",
       "      <td>ensemble</td>\n",
       "      <td>35.9067</td>\n",
       "      <td>23.8158</td>\n",
       "      <td>7.1662</td>\n",
       "      <td>4.7531</td>\n",
       "      <td>24.2117</td>\n",
       "      <td>0.8583</td>\n",
       "    </tr>\n",
       "    <tr>\n",
       "      <th>1</th>\n",
       "      <td>0.0</td>\n",
       "      <td>38.5630</td>\n",
       "      <td>25.5776</td>\n",
       "      <td>6.5584</td>\n",
       "      <td>4.3500</td>\n",
       "      <td>26.2531</td>\n",
       "      <td>0.8366</td>\n",
       "    </tr>\n",
       "    <tr>\n",
       "      <th>2</th>\n",
       "      <td>1.0</td>\n",
       "      <td>38.9901</td>\n",
       "      <td>25.8609</td>\n",
       "      <td>9.2682</td>\n",
       "      <td>6.1473</td>\n",
       "      <td>26.1502</td>\n",
       "      <td>0.8330</td>\n",
       "    </tr>\n",
       "    <tr>\n",
       "      <th>3</th>\n",
       "      <td>2.0</td>\n",
       "      <td>38.2792</td>\n",
       "      <td>25.3894</td>\n",
       "      <td>8.4105</td>\n",
       "      <td>5.5784</td>\n",
       "      <td>25.8926</td>\n",
       "      <td>0.8390</td>\n",
       "    </tr>\n",
       "    <tr>\n",
       "      <th>4</th>\n",
       "      <td>3.0</td>\n",
       "      <td>38.1696</td>\n",
       "      <td>25.3166</td>\n",
       "      <td>8.2820</td>\n",
       "      <td>5.4932</td>\n",
       "      <td>26.5400</td>\n",
       "      <td>0.8399</td>\n",
       "    </tr>\n",
       "    <tr>\n",
       "      <th>5</th>\n",
       "      <td>4.0</td>\n",
       "      <td>37.8038</td>\n",
       "      <td>25.0740</td>\n",
       "      <td>5.1349</td>\n",
       "      <td>3.4058</td>\n",
       "      <td>25.6006</td>\n",
       "      <td>0.8430</td>\n",
       "    </tr>\n",
       "    <tr>\n",
       "      <th>6</th>\n",
       "      <td>5.0</td>\n",
       "      <td>36.9123</td>\n",
       "      <td>24.4827</td>\n",
       "      <td>6.0531</td>\n",
       "      <td>4.0148</td>\n",
       "      <td>25.3440</td>\n",
       "      <td>0.8503</td>\n",
       "    </tr>\n",
       "    <tr>\n",
       "      <th>7</th>\n",
       "      <td>6.0</td>\n",
       "      <td>38.7997</td>\n",
       "      <td>25.7346</td>\n",
       "      <td>8.1481</td>\n",
       "      <td>5.4043</td>\n",
       "      <td>26.6091</td>\n",
       "      <td>0.8346</td>\n",
       "    </tr>\n",
       "    <tr>\n",
       "      <th>8</th>\n",
       "      <td>7.0</td>\n",
       "      <td>37.1367</td>\n",
       "      <td>24.6316</td>\n",
       "      <td>4.9369</td>\n",
       "      <td>3.2745</td>\n",
       "      <td>25.4931</td>\n",
       "      <td>0.8485</td>\n",
       "    </tr>\n",
       "    <tr>\n",
       "      <th>9</th>\n",
       "      <td>8.0</td>\n",
       "      <td>35.6218</td>\n",
       "      <td>23.6268</td>\n",
       "      <td>5.5984</td>\n",
       "      <td>3.7132</td>\n",
       "      <td>24.5521</td>\n",
       "      <td>0.8606</td>\n",
       "    </tr>\n",
       "    <tr>\n",
       "      <th>10</th>\n",
       "      <td>9.0</td>\n",
       "      <td>39.5538</td>\n",
       "      <td>26.2348</td>\n",
       "      <td>9.2711</td>\n",
       "      <td>6.1492</td>\n",
       "      <td>26.3905</td>\n",
       "      <td>0.8281</td>\n",
       "    </tr>\n",
       "  </tbody>\n",
       "</table>\n",
       "</div>"
      ],
      "text/plain": [
       "   model_identifier    _rmse   _rrmse   _bias  _bias_pct      mae  r2_score\n",
       "0          ensemble  35.9067  23.8158  7.1662     4.7531  24.2117    0.8583\n",
       "1               0.0  38.5630  25.5776  6.5584     4.3500  26.2531    0.8366\n",
       "2               1.0  38.9901  25.8609  9.2682     6.1473  26.1502    0.8330\n",
       "3               2.0  38.2792  25.3894  8.4105     5.5784  25.8926    0.8390\n",
       "4               3.0  38.1696  25.3166  8.2820     5.4932  26.5400    0.8399\n",
       "5               4.0  37.8038  25.0740  5.1349     3.4058  25.6006    0.8430\n",
       "6               5.0  36.9123  24.4827  6.0531     4.0148  25.3440    0.8503\n",
       "7               6.0  38.7997  25.7346  8.1481     5.4043  26.6091    0.8346\n",
       "8               7.0  37.1367  24.6316  4.9369     3.2745  25.4931    0.8485\n",
       "9               8.0  35.6218  23.6268  5.5984     3.7132  24.5521    0.8606\n",
       "10              9.0  39.5538  26.2348  9.2711     6.1492  26.3905    0.8281"
      ]
     },
     "execution_count": 11,
     "metadata": {},
     "output_type": "execute_result"
    }
   ],
   "source": [
    "d_ann_val"
   ]
  },
  {
   "cell_type": "markdown",
   "metadata": {},
   "source": [
    "# Basal area (g)"
   ]
  },
  {
   "cell_type": "code",
   "execution_count": null,
   "metadata": {},
   "outputs": [],
   "source": []
  },
  {
   "cell_type": "markdown",
   "metadata": {},
   "source": [
    "# Mean height (h)"
   ]
  },
  {
   "cell_type": "code",
   "execution_count": null,
   "metadata": {},
   "outputs": [],
   "source": []
  },
  {
   "cell_type": "markdown",
   "metadata": {},
   "source": [
    "# Total volume (v)"
   ]
  },
  {
   "cell_type": "code",
   "execution_count": null,
   "metadata": {},
   "outputs": [],
   "source": []
  }
 ],
 "metadata": {
  "kernelspec": {
   "display_name": "Python 3",
   "language": "python",
   "name": "python3"
  },
  "language_info": {
   "codemirror_mode": {
    "name": "ipython",
    "version": 3
   },
   "file_extension": ".py",
   "mimetype": "text/x-python",
   "name": "python",
   "nbconvert_exporter": "python",
   "pygments_lexer": "ipython3",
   "version": "3.8.3"
  },
  "latex_envs": {
   "LaTeX_envs_menu_present": true,
   "autoclose": false,
   "autocomplete": true,
   "bibliofile": "biblio.bib",
   "cite_by": "apalike",
   "current_citInitial": 1,
   "eqLabelWithNumbers": true,
   "eqNumInitial": 1,
   "hotkeys": {
    "equation": "Ctrl-E",
    "itemize": "Ctrl-I"
   },
   "labels_anchors": false,
   "latex_user_defs": false,
   "report_style_numbering": false,
   "user_envs_cfg": false
  },
  "toc": {
   "base_numbering": 1,
   "nav_menu": {},
   "number_sections": true,
   "sideBar": true,
   "skip_h1_title": false,
   "title_cell": "Table of Contents",
   "title_sidebar": "Contents",
   "toc_cell": false,
   "toc_position": {
    "height": "calc(100% - 180px)",
    "left": "10px",
    "top": "150px",
    "width": "174px"
   },
   "toc_section_display": true,
   "toc_window_display": true
  }
 },
 "nbformat": 4,
 "nbformat_minor": 4
}
