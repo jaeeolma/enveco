{
 "cells": [
  {
   "cell_type": "code",
   "execution_count": 1,
   "metadata": {
    "ExecuteTime": {
     "end_time": "2020-11-16T08:17:03.302468Z",
     "start_time": "2020-11-16T08:17:02.952808Z"
    }
   },
   "outputs": [],
   "source": [
    "import pandas as pd\n",
    "from pathlib import Path"
   ]
  },
  {
   "cell_type": "code",
   "execution_count": 2,
   "metadata": {
    "ExecuteTime": {
     "end_time": "2020-11-16T08:19:21.967123Z",
     "start_time": "2020-11-16T08:19:21.964598Z"
    }
   },
   "outputs": [],
   "source": [
    "basepath = Path('../scripts/results/')"
   ]
  },
  {
   "cell_type": "markdown",
   "metadata": {},
   "source": [
    "# Diameter at breast height (d)"
   ]
  },
  {
   "cell_type": "code",
   "execution_count": 6,
   "metadata": {
    "ExecuteTime": {
     "end_time": "2020-11-16T08:23:13.320433Z",
     "start_time": "2020-11-16T08:23:13.310595Z"
    }
   },
   "outputs": [],
   "source": [
    "d_ann_val = pd.read_csv(basepath/'v/ann_val.csv')\n",
    "d_ann_test = pd.read_csv(basepath/'v/ann_test.csv')"
   ]
  },
  {
   "cell_type": "code",
   "execution_count": 7,
   "metadata": {
    "ExecuteTime": {
     "end_time": "2020-11-16T08:23:14.988661Z",
     "start_time": "2020-11-16T08:23:14.976922Z"
    }
   },
   "outputs": [
    {
     "data": {
      "text/html": [
       "<div>\n",
       "<style scoped>\n",
       "    .dataframe tbody tr th:only-of-type {\n",
       "        vertical-align: middle;\n",
       "    }\n",
       "\n",
       "    .dataframe tbody tr th {\n",
       "        vertical-align: top;\n",
       "    }\n",
       "\n",
       "    .dataframe thead th {\n",
       "        text-align: right;\n",
       "    }\n",
       "</style>\n",
       "<table border=\"1\" class=\"dataframe\">\n",
       "  <thead>\n",
       "    <tr style=\"text-align: right;\">\n",
       "      <th></th>\n",
       "      <th>Unnamed: 0</th>\n",
       "      <th>model_identifier</th>\n",
       "      <th>_rmse</th>\n",
       "      <th>_rrmse</th>\n",
       "      <th>_bias</th>\n",
       "      <th>_bias_pct</th>\n",
       "      <th>mae</th>\n",
       "      <th>r2_score</th>\n",
       "    </tr>\n",
       "  </thead>\n",
       "  <tbody>\n",
       "    <tr>\n",
       "      <th>0</th>\n",
       "      <td>0</td>\n",
       "      <td>ensemble</td>\n",
       "      <td>6931323.0</td>\n",
       "      <td>99.9984</td>\n",
       "      <td>-6931275.0</td>\n",
       "      <td>-99.9977</td>\n",
       "      <td>6931275.0</td>\n",
       "      <td>-72467.5607</td>\n",
       "    </tr>\n",
       "    <tr>\n",
       "      <th>1</th>\n",
       "      <td>1</td>\n",
       "      <td>0.0</td>\n",
       "      <td>6931320.5</td>\n",
       "      <td>99.9984</td>\n",
       "      <td>-6931273.5</td>\n",
       "      <td>-99.9977</td>\n",
       "      <td>6931273.5</td>\n",
       "      <td>-72467.5165</td>\n",
       "    </tr>\n",
       "    <tr>\n",
       "      <th>2</th>\n",
       "      <td>2</td>\n",
       "      <td>1.0</td>\n",
       "      <td>6931323.0</td>\n",
       "      <td>99.9984</td>\n",
       "      <td>-6931275.5</td>\n",
       "      <td>-99.9977</td>\n",
       "      <td>6931275.5</td>\n",
       "      <td>-72467.5579</td>\n",
       "    </tr>\n",
       "    <tr>\n",
       "      <th>3</th>\n",
       "      <td>3</td>\n",
       "      <td>2.0</td>\n",
       "      <td>6931321.5</td>\n",
       "      <td>99.9984</td>\n",
       "      <td>-6931274.0</td>\n",
       "      <td>-99.9977</td>\n",
       "      <td>6931274.0</td>\n",
       "      <td>-72467.5213</td>\n",
       "    </tr>\n",
       "    <tr>\n",
       "      <th>4</th>\n",
       "      <td>4</td>\n",
       "      <td>3.0</td>\n",
       "      <td>6931323.0</td>\n",
       "      <td>99.9984</td>\n",
       "      <td>-6931275.0</td>\n",
       "      <td>-99.9977</td>\n",
       "      <td>6931275.0</td>\n",
       "      <td>-72467.5578</td>\n",
       "    </tr>\n",
       "    <tr>\n",
       "      <th>5</th>\n",
       "      <td>5</td>\n",
       "      <td>4.0</td>\n",
       "      <td>6931323.0</td>\n",
       "      <td>99.9984</td>\n",
       "      <td>-6931275.5</td>\n",
       "      <td>-99.9977</td>\n",
       "      <td>6931275.5</td>\n",
       "      <td>-72467.5673</td>\n",
       "    </tr>\n",
       "    <tr>\n",
       "      <th>6</th>\n",
       "      <td>6</td>\n",
       "      <td>5.0</td>\n",
       "      <td>6931325.0</td>\n",
       "      <td>99.9985</td>\n",
       "      <td>-6931277.5</td>\n",
       "      <td>-99.9978</td>\n",
       "      <td>6931277.5</td>\n",
       "      <td>-72467.6127</td>\n",
       "    </tr>\n",
       "    <tr>\n",
       "      <th>7</th>\n",
       "      <td>7</td>\n",
       "      <td>6.0</td>\n",
       "      <td>6931321.5</td>\n",
       "      <td>99.9984</td>\n",
       "      <td>-6931274.0</td>\n",
       "      <td>-99.9977</td>\n",
       "      <td>6931274.0</td>\n",
       "      <td>-72467.5319</td>\n",
       "    </tr>\n",
       "    <tr>\n",
       "      <th>8</th>\n",
       "      <td>8</td>\n",
       "      <td>7.0</td>\n",
       "      <td>6931323.5</td>\n",
       "      <td>99.9984</td>\n",
       "      <td>-6931275.5</td>\n",
       "      <td>-99.9977</td>\n",
       "      <td>6931275.5</td>\n",
       "      <td>-72467.5779</td>\n",
       "    </tr>\n",
       "    <tr>\n",
       "      <th>9</th>\n",
       "      <td>9</td>\n",
       "      <td>8.0</td>\n",
       "      <td>6931326.0</td>\n",
       "      <td>99.9985</td>\n",
       "      <td>-6931278.0</td>\n",
       "      <td>-99.9978</td>\n",
       "      <td>6931278.0</td>\n",
       "      <td>-72467.6193</td>\n",
       "    </tr>\n",
       "    <tr>\n",
       "      <th>10</th>\n",
       "      <td>10</td>\n",
       "      <td>9.0</td>\n",
       "      <td>6931322.0</td>\n",
       "      <td>99.9984</td>\n",
       "      <td>-6931274.0</td>\n",
       "      <td>-99.9977</td>\n",
       "      <td>6931274.0</td>\n",
       "      <td>-72467.5427</td>\n",
       "    </tr>\n",
       "  </tbody>\n",
       "</table>\n",
       "</div>"
      ],
      "text/plain": [
       "    Unnamed: 0 model_identifier      _rmse   _rrmse      _bias  _bias_pct  \\\n",
       "0            0         ensemble  6931323.0  99.9984 -6931275.0   -99.9977   \n",
       "1            1              0.0  6931320.5  99.9984 -6931273.5   -99.9977   \n",
       "2            2              1.0  6931323.0  99.9984 -6931275.5   -99.9977   \n",
       "3            3              2.0  6931321.5  99.9984 -6931274.0   -99.9977   \n",
       "4            4              3.0  6931323.0  99.9984 -6931275.0   -99.9977   \n",
       "5            5              4.0  6931323.0  99.9984 -6931275.5   -99.9977   \n",
       "6            6              5.0  6931325.0  99.9985 -6931277.5   -99.9978   \n",
       "7            7              6.0  6931321.5  99.9984 -6931274.0   -99.9977   \n",
       "8            8              7.0  6931323.5  99.9984 -6931275.5   -99.9977   \n",
       "9            9              8.0  6931326.0  99.9985 -6931278.0   -99.9978   \n",
       "10          10              9.0  6931322.0  99.9984 -6931274.0   -99.9977   \n",
       "\n",
       "          mae    r2_score  \n",
       "0   6931275.0 -72467.5607  \n",
       "1   6931273.5 -72467.5165  \n",
       "2   6931275.5 -72467.5579  \n",
       "3   6931274.0 -72467.5213  \n",
       "4   6931275.0 -72467.5578  \n",
       "5   6931275.5 -72467.5673  \n",
       "6   6931277.5 -72467.6127  \n",
       "7   6931274.0 -72467.5319  \n",
       "8   6931275.5 -72467.5779  \n",
       "9   6931278.0 -72467.6193  \n",
       "10  6931274.0 -72467.5427  "
      ]
     },
     "execution_count": 7,
     "metadata": {},
     "output_type": "execute_result"
    }
   ],
   "source": [
    "d_ann_val"
   ]
  },
  {
   "cell_type": "markdown",
   "metadata": {},
   "source": [
    "# Basal area (g)"
   ]
  },
  {
   "cell_type": "code",
   "execution_count": null,
   "metadata": {},
   "outputs": [],
   "source": []
  },
  {
   "cell_type": "markdown",
   "metadata": {},
   "source": [
    "# Mean height (h)"
   ]
  },
  {
   "cell_type": "code",
   "execution_count": null,
   "metadata": {},
   "outputs": [],
   "source": []
  },
  {
   "cell_type": "markdown",
   "metadata": {},
   "source": [
    "# Total volume (v)"
   ]
  },
  {
   "cell_type": "code",
   "execution_count": null,
   "metadata": {},
   "outputs": [],
   "source": []
  }
 ],
 "metadata": {
  "kernelspec": {
   "display_name": "Python 3",
   "language": "python",
   "name": "python3"
  },
  "language_info": {
   "codemirror_mode": {
    "name": "ipython",
    "version": 3
   },
   "file_extension": ".py",
   "mimetype": "text/x-python",
   "name": "python",
   "nbconvert_exporter": "python",
   "pygments_lexer": "ipython3",
   "version": "3.8.3"
  },
  "latex_envs": {
   "LaTeX_envs_menu_present": true,
   "autoclose": false,
   "autocomplete": true,
   "bibliofile": "biblio.bib",
   "cite_by": "apalike",
   "current_citInitial": 1,
   "eqLabelWithNumbers": true,
   "eqNumInitial": 1,
   "hotkeys": {
    "equation": "Ctrl-E",
    "itemize": "Ctrl-I"
   },
   "labels_anchors": false,
   "latex_user_defs": false,
   "report_style_numbering": false,
   "user_envs_cfg": false
  },
  "toc": {
   "base_numbering": 1,
   "nav_menu": {},
   "number_sections": true,
   "sideBar": true,
   "skip_h1_title": false,
   "title_cell": "Table of Contents",
   "title_sidebar": "Contents",
   "toc_cell": false,
   "toc_position": {
    "height": "calc(100% - 180px)",
    "left": "10px",
    "top": "150px",
    "width": "174px"
   },
   "toc_section_display": true,
   "toc_window_display": true
  }
 },
 "nbformat": 4,
 "nbformat_minor": 4
}
