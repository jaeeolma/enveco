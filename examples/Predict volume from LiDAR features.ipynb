{
 "cells": [
  {
   "cell_type": "markdown",
   "metadata": {},
   "source": [
    "# Predict volume area from LiDAR features"
   ]
  },
  {
   "cell_type": "code",
   "execution_count": 1,
   "metadata": {
    "ExecuteTime": {
     "end_time": "2020-11-12T12:11:22.534799Z",
     "start_time": "2020-11-12T12:11:20.418770Z"
    }
   },
   "outputs": [],
   "source": [
    "from fastai.data.all import *\n",
    "from fastai.tabular.all import *\n",
    "from fastai.callback.progress import ShowGraphCallback"
   ]
  },
  {
   "cell_type": "code",
   "execution_count": 2,
   "metadata": {
    "ExecuteTime": {
     "end_time": "2020-11-12T12:11:22.857449Z",
     "start_time": "2020-11-12T12:11:22.537307Z"
    }
   },
   "outputs": [],
   "source": [
    "absolute_path = Path().absolute()\n",
    "sys.path.append(str(absolute_path.parents[0]))\n",
    "\n",
    "from enveco.tabular.preprocessing import *\n",
    "from enveco.interpretation import *\n",
    "from enveco.models.ensemble import *\n",
    "from enveco.metrics import *"
   ]
  },
  {
   "cell_type": "markdown",
   "metadata": {},
   "source": [
    "Run the example workflow for predicting the volume of the field plot from LiDAR-derived features."
   ]
  },
  {
   "cell_type": "markdown",
   "metadata": {},
   "source": [
    "# Read and preprocess data"
   ]
  },
  {
   "cell_type": "code",
   "execution_count": 3,
   "metadata": {
    "ExecuteTime": {
     "end_time": "2020-11-12T12:11:22.906361Z",
     "start_time": "2020-11-12T12:11:22.859121Z"
    }
   },
   "outputs": [],
   "source": [
    "#data_path = Path('../../../andras/ml/AV_leafon/')\n",
    "data_path = Path('../../enveco_data/enveco/')\n",
    "\n",
    "preprocessor = EnvecoPreprocessor(data_path/'AV.leaf.on.train.csv', \n",
    "                                  data_path/'AV.leaf.on.val.csv',\n",
    "                                  data_path/'AV.leaf.on.test.csv')"
   ]
  },
  {
   "cell_type": "markdown",
   "metadata": {},
   "source": [
    "Preprocess dataframes and extract lidar features from them. Specify which features are needed:\n",
    "\n",
    "* height_features\n",
    "* point_features\n",
    "* intensity_features\n",
    "* height_quantiles\n",
    "* point_proportions\n",
    "* canopy_densities\n",
    "\n",
    "Also, specify whether to `normalize` data (default: True) or to log-transform target column (default: False)"
   ]
  },
  {
   "cell_type": "code",
   "execution_count": 4,
   "metadata": {
    "ExecuteTime": {
     "end_time": "2020-11-12T12:11:22.931387Z",
     "start_time": "2020-11-12T12:11:22.908362Z"
    }
   },
   "outputs": [
    {
     "data": {
      "text/html": [
       "<div>\n",
       "<style scoped>\n",
       "    .dataframe tbody tr th:only-of-type {\n",
       "        vertical-align: middle;\n",
       "    }\n",
       "\n",
       "    .dataframe tbody tr th {\n",
       "        vertical-align: top;\n",
       "    }\n",
       "\n",
       "    .dataframe thead th {\n",
       "        text-align: right;\n",
       "    }\n",
       "</style>\n",
       "<table border=\"1\" class=\"dataframe\">\n",
       "  <thead>\n",
       "    <tr style=\"text-align: right;\">\n",
       "      <th></th>\n",
       "      <th>sampleplotid</th>\n",
       "      <th>x</th>\n",
       "      <th>y</th>\n",
       "      <th>measurementdate</th>\n",
       "      <th>g</th>\n",
       "      <th>d</th>\n",
       "      <th>h</th>\n",
       "      <th>v</th>\n",
       "      <th>v_ma</th>\n",
       "      <th>v_ku</th>\n",
       "      <th>v_lp</th>\n",
       "      <th>myear</th>\n",
       "      <th>filename_1</th>\n",
       "      <th>a_date_1</th>\n",
       "      <th>a_window_1</th>\n",
       "      <th>filename_2</th>\n",
       "      <th>a_date_2</th>\n",
       "      <th>a_window_2</th>\n",
       "      <th>v_lp_proc</th>\n",
       "      <th>is_valid</th>\n",
       "    </tr>\n",
       "  </thead>\n",
       "  <tbody>\n",
       "    <tr>\n",
       "      <th>0</th>\n",
       "      <td>901034</td>\n",
       "      <td>313598.50</td>\n",
       "      <td>6888193.46</td>\n",
       "      <td>2013</td>\n",
       "      <td>30.0</td>\n",
       "      <td>25.9</td>\n",
       "      <td>23.9</td>\n",
       "      <td>336.62</td>\n",
       "      <td>50.11</td>\n",
       "      <td>27.73</td>\n",
       "      <td>258.78</td>\n",
       "      <td>2013</td>\n",
       "      <td>/wrk/project_ogiir-csc/mml/laserkeilaus/2008_17_automaattinen/2013/20130114_BLOM_ahtari_block2_kesa/1/N4121B3.laz</td>\n",
       "      <td>2013-07-11</td>\n",
       "      <td>C</td>\n",
       "      <td>NaN</td>\n",
       "      <td>NaN</td>\n",
       "      <td>NaN</td>\n",
       "      <td>77</td>\n",
       "      <td>0</td>\n",
       "    </tr>\n",
       "    <tr>\n",
       "      <th>1</th>\n",
       "      <td>901038</td>\n",
       "      <td>314591.78</td>\n",
       "      <td>6888461.84</td>\n",
       "      <td>2013</td>\n",
       "      <td>18.6</td>\n",
       "      <td>16.0</td>\n",
       "      <td>15.9</td>\n",
       "      <td>146.00</td>\n",
       "      <td>142.50</td>\n",
       "      <td>0.00</td>\n",
       "      <td>3.50</td>\n",
       "      <td>2013</td>\n",
       "      <td>/wrk/project_ogiir-csc/mml/laserkeilaus/2008_17_automaattinen/2013/20130114_BLOM_ahtari_block2_kesa/1/N4121D1.laz</td>\n",
       "      <td>2013-07-11</td>\n",
       "      <td>C</td>\n",
       "      <td>NaN</td>\n",
       "      <td>NaN</td>\n",
       "      <td>NaN</td>\n",
       "      <td>2</td>\n",
       "      <td>0</td>\n",
       "    </tr>\n",
       "    <tr>\n",
       "      <th>2</th>\n",
       "      <td>901044</td>\n",
       "      <td>317890.37</td>\n",
       "      <td>6888182.49</td>\n",
       "      <td>2013</td>\n",
       "      <td>26.8</td>\n",
       "      <td>18.4</td>\n",
       "      <td>18.4</td>\n",
       "      <td>240.46</td>\n",
       "      <td>139.89</td>\n",
       "      <td>81.77</td>\n",
       "      <td>18.79</td>\n",
       "      <td>2013</td>\n",
       "      <td>/wrk/project_ogiir-csc/mml/laserkeilaus/2008_17_automaattinen/2013/20130114_BLOM_ahtari_block2_kesa/1/N4121D3.laz</td>\n",
       "      <td>2013-07-11</td>\n",
       "      <td>C</td>\n",
       "      <td>NaN</td>\n",
       "      <td>NaN</td>\n",
       "      <td>NaN</td>\n",
       "      <td>8</td>\n",
       "      <td>0</td>\n",
       "    </tr>\n",
       "    <tr>\n",
       "      <th>3</th>\n",
       "      <td>901048</td>\n",
       "      <td>318879.42</td>\n",
       "      <td>6888447.55</td>\n",
       "      <td>2013</td>\n",
       "      <td>34.3</td>\n",
       "      <td>20.2</td>\n",
       "      <td>19.3</td>\n",
       "      <td>321.29</td>\n",
       "      <td>72.10</td>\n",
       "      <td>172.35</td>\n",
       "      <td>76.84</td>\n",
       "      <td>2013</td>\n",
       "      <td>/wrk/project_ogiir-csc/mml/laserkeilaus/2008_17_automaattinen/2013/20130114_BLOM_ahtari_block2_kesa/1/N4121D3.laz</td>\n",
       "      <td>2013-07-11</td>\n",
       "      <td>C</td>\n",
       "      <td>NaN</td>\n",
       "      <td>NaN</td>\n",
       "      <td>NaN</td>\n",
       "      <td>24</td>\n",
       "      <td>0</td>\n",
       "    </tr>\n",
       "    <tr>\n",
       "      <th>4</th>\n",
       "      <td>901054</td>\n",
       "      <td>322193.41</td>\n",
       "      <td>6888196.04</td>\n",
       "      <td>2013</td>\n",
       "      <td>13.8</td>\n",
       "      <td>10.0</td>\n",
       "      <td>9.1</td>\n",
       "      <td>67.10</td>\n",
       "      <td>57.40</td>\n",
       "      <td>9.70</td>\n",
       "      <td>0.00</td>\n",
       "      <td>2013</td>\n",
       "      <td>/wrk/project_ogiir-csc/mml/laserkeilaus/2008_17_automaattinen/2013/20130114_BLOM_ahtari_block2_kesa/1/N4121F1.laz</td>\n",
       "      <td>2013-07-11</td>\n",
       "      <td>C</td>\n",
       "      <td>NaN</td>\n",
       "      <td>NaN</td>\n",
       "      <td>NaN</td>\n",
       "      <td>0</td>\n",
       "      <td>0</td>\n",
       "    </tr>\n",
       "  </tbody>\n",
       "</table>\n",
       "</div>"
      ],
      "text/plain": [
       "   sampleplotid          x           y  measurementdate     g     d     h  \\\n",
       "0        901034  313598.50  6888193.46             2013  30.0  25.9  23.9   \n",
       "1        901038  314591.78  6888461.84             2013  18.6  16.0  15.9   \n",
       "2        901044  317890.37  6888182.49             2013  26.8  18.4  18.4   \n",
       "3        901048  318879.42  6888447.55             2013  34.3  20.2  19.3   \n",
       "4        901054  322193.41  6888196.04             2013  13.8  10.0   9.1   \n",
       "\n",
       "        v    v_ma    v_ku    v_lp  myear  \\\n",
       "0  336.62   50.11   27.73  258.78   2013   \n",
       "1  146.00  142.50    0.00    3.50   2013   \n",
       "2  240.46  139.89   81.77   18.79   2013   \n",
       "3  321.29   72.10  172.35   76.84   2013   \n",
       "4   67.10   57.40    9.70    0.00   2013   \n",
       "\n",
       "                                                                                                          filename_1  \\\n",
       "0  /wrk/project_ogiir-csc/mml/laserkeilaus/2008_17_automaattinen/2013/20130114_BLOM_ahtari_block2_kesa/1/N4121B3.laz   \n",
       "1  /wrk/project_ogiir-csc/mml/laserkeilaus/2008_17_automaattinen/2013/20130114_BLOM_ahtari_block2_kesa/1/N4121D1.laz   \n",
       "2  /wrk/project_ogiir-csc/mml/laserkeilaus/2008_17_automaattinen/2013/20130114_BLOM_ahtari_block2_kesa/1/N4121D3.laz   \n",
       "3  /wrk/project_ogiir-csc/mml/laserkeilaus/2008_17_automaattinen/2013/20130114_BLOM_ahtari_block2_kesa/1/N4121D3.laz   \n",
       "4  /wrk/project_ogiir-csc/mml/laserkeilaus/2008_17_automaattinen/2013/20130114_BLOM_ahtari_block2_kesa/1/N4121F1.laz   \n",
       "\n",
       "     a_date_1 a_window_1  filename_2  a_date_2  a_window_2  v_lp_proc  \\\n",
       "0  2013-07-11          C         NaN       NaN         NaN         77   \n",
       "1  2013-07-11          C         NaN       NaN         NaN          2   \n",
       "2  2013-07-11          C         NaN       NaN         NaN          8   \n",
       "3  2013-07-11          C         NaN       NaN         NaN         24   \n",
       "4  2013-07-11          C         NaN       NaN         NaN          0   \n",
       "\n",
       "   is_valid  \n",
       "0         0  \n",
       "1         0  \n",
       "2         0  \n",
       "3         0  \n",
       "4         0  "
      ]
     },
     "execution_count": 4,
     "metadata": {},
     "output_type": "execute_result"
    }
   ],
   "source": [
    "preprocessor.train_df.head()"
   ]
  },
  {
   "cell_type": "code",
   "execution_count": 5,
   "metadata": {
    "ExecuteTime": {
     "end_time": "2020-11-12T12:14:19.797590Z",
     "start_time": "2020-11-12T12:11:22.932556Z"
    }
   },
   "outputs": [
    {
     "name": "stdout",
     "output_type": "stream",
     "text": [
      "Adding height based features\n",
      "Adding point distribution based features\n",
      "Adding intensity based features\n",
      "Adding height quantiles\n",
      "Adding point proportions\n",
      "Adding canopy densities\n"
     ]
    }
   ],
   "source": [
    "trainval_tb, test_tb = preprocessor.preprocess_lidar(target_col='v', path=data_path/'AV_las/', \n",
    "                                                     min_h=1.5,\n",
    "                                                     height_features=True,\n",
    "                                                     point_features=True, \n",
    "                                                     intensity_features=True, \n",
    "                                                     height_quantiles=True,\n",
    "                                                     point_proportions=True, \n",
    "                                                     canopy_densities=True,\n",
    "                                                     normalize=True,\n",
    "                                                     log_y=False)"
   ]
  },
  {
   "cell_type": "markdown",
   "metadata": {},
   "source": [
    "Previous method returns two `TabularPandas` objects. Put them to dataloaders."
   ]
  },
  {
   "cell_type": "code",
   "execution_count": 6,
   "metadata": {
    "ExecuteTime": {
     "end_time": "2020-11-12T12:14:19.826537Z",
     "start_time": "2020-11-12T12:14:19.799666Z"
    }
   },
   "outputs": [],
   "source": [
    "dls = trainval_tb.dataloaders(bs=64, y_block=RegressionBlock())"
   ]
  },
  {
   "cell_type": "markdown",
   "metadata": {},
   "source": [
    "Check the distribution of the target variable `g`, in order to get limits for `sigmoid_range`."
   ]
  },
  {
   "cell_type": "code",
   "execution_count": 7,
   "metadata": {
    "ExecuteTime": {
     "end_time": "2020-11-12T12:14:19.842535Z",
     "start_time": "2020-11-12T12:14:19.830087Z"
    }
   },
   "outputs": [
    {
     "data": {
      "text/plain": [
       "count    1044.000000\n",
       "mean      145.712250\n",
       "std        86.097336\n",
       "min         2.700000\n",
       "25%        80.927498\n",
       "50%       132.125000\n",
       "75%       191.305000\n",
       "max       867.349976\n",
       "Name: v, dtype: float64"
      ]
     },
     "execution_count": 7,
     "metadata": {},
     "output_type": "execute_result"
    }
   ],
   "source": [
    "trainval_tb.train.y.describe()"
   ]
  },
  {
   "cell_type": "code",
   "execution_count": 8,
   "metadata": {
    "ExecuteTime": {
     "end_time": "2020-11-12T12:14:19.859676Z",
     "start_time": "2020-11-12T12:14:19.848036Z"
    }
   },
   "outputs": [
    {
     "data": {
      "text/plain": [
       "count    225.000000\n",
       "mean     150.768631\n",
       "std       95.610825\n",
       "min        2.310000\n",
       "25%       87.419998\n",
       "50%      133.600006\n",
       "75%      191.639999\n",
       "max      539.479980\n",
       "Name: v, dtype: float64"
      ]
     },
     "execution_count": 8,
     "metadata": {},
     "output_type": "execute_result"
    }
   ],
   "source": [
    "trainval_tb.valid.y.describe()"
   ]
  },
  {
   "cell_type": "code",
   "execution_count": 9,
   "metadata": {
    "ExecuteTime": {
     "end_time": "2020-11-12T12:14:19.877469Z",
     "start_time": "2020-11-12T12:14:19.866061Z"
    }
   },
   "outputs": [
    {
     "data": {
      "text/plain": [
       "count    225.000000\n",
       "mean     152.013641\n",
       "std       97.223846\n",
       "min        7.000000\n",
       "25%       87.820000\n",
       "50%      134.979996\n",
       "75%      192.529999\n",
       "max      550.169983\n",
       "Name: v, dtype: float64"
      ]
     },
     "execution_count": 9,
     "metadata": {},
     "output_type": "execute_result"
    }
   ],
   "source": [
    "test_tb.train.y.describe()"
   ]
  },
  {
   "cell_type": "markdown",
   "metadata": {},
   "source": [
    "# ANN"
   ]
  },
  {
   "cell_type": "markdown",
   "metadata": {},
   "source": [
    "Create `Learner` object. Specify y_range to better control the training, set 70 m² as the maximum value for basal area.\n",
    "\n",
    "Loss function is Mean Squared Error, monitor also Root Mean Squared Error, mean-normalized RMSE, Mean Absolute Error, R2Score, bias and mean-scaled bias. Target variable is log-transformed, so all metrics are log-equivalents (so MSLE, RMSLE...)."
   ]
  },
  {
   "cell_type": "code",
   "execution_count": 10,
   "metadata": {
    "ExecuteTime": {
     "end_time": "2020-11-12T12:14:19.938782Z",
     "start_time": "2020-11-12T12:14:19.880965Z"
    }
   },
   "outputs": [
    {
     "data": {
      "text/html": [
       "<table border=\"1\" class=\"dataframe\">\n",
       "  <thead>\n",
       "    <tr style=\"text-align: left;\">\n",
       "      <th>epoch</th>\n",
       "      <th>train_loss</th>\n",
       "      <th>valid_loss</th>\n",
       "      <th>_rmse</th>\n",
       "      <th>_rrmse</th>\n",
       "      <th>_bias</th>\n",
       "      <th>_bias_pct</th>\n",
       "      <th>mae</th>\n",
       "      <th>r2_score</th>\n",
       "      <th>time</th>\n",
       "    </tr>\n",
       "  </thead>\n",
       "  <tbody>\n",
       "    <tr>\n",
       "      <td>0</td>\n",
       "      <td>None</td>\n",
       "      <td>None</td>\n",
       "      <td>None</td>\n",
       "      <td>None</td>\n",
       "      <td>None</td>\n",
       "      <td>None</td>\n",
       "      <td>None</td>\n",
       "      <td>00:00</td>\n",
       "    </tr>\n",
       "  </tbody>\n",
       "</table>"
      ],
      "text/plain": [
       "<IPython.core.display.HTML object>"
      ]
     },
     "metadata": {},
     "output_type": "display_data"
    },
    {
     "data": {
      "text/plain": [
       "TabularModel (Input shape: ['64 x 0', '64 x 58'])\n",
       "================================================================\n",
       "Layer (type)         Output Shape         Param #    Trainable \n",
       "================================================================\n",
       "BatchNorm1d          64 x 58              116        True      \n",
       "________________________________________________________________\n",
       "BatchNorm1d          64 x 58              116        True      \n",
       "________________________________________________________________\n",
       "Linear               64 x 200             11,600     True      \n",
       "________________________________________________________________\n",
       "ReLU                 64 x 100             0          False     \n",
       "________________________________________________________________\n",
       "BatchNorm1d          64 x 200             400        True      \n",
       "________________________________________________________________\n",
       "Linear               64 x 100             20,000     True      \n",
       "________________________________________________________________\n",
       "ReLU                 64 x 100             0          False     \n",
       "________________________________________________________________\n",
       "Linear               64 x 1               101        True      \n",
       "________________________________________________________________\n",
       "SigmoidRange         64 x 1               0          False     \n",
       "________________________________________________________________\n",
       "\n",
       "Total params: 32,333\n",
       "Total trainable params: 32,333\n",
       "Total non-trainable params: 0\n",
       "\n",
       "Optimizer used: <function Adam at 0x7f0ff9d8e670>\n",
       "Loss function: FlattenedLoss of MSELoss()\n",
       "\n",
       "Callbacks:\n",
       "  - TrainEvalCallback\n",
       "  - Recorder\n",
       "  - ProgressCallback"
      ]
     },
     "execution_count": 10,
     "metadata": {},
     "output_type": "execute_result"
    }
   ],
   "source": [
    "learn = tabular_learner(dls, metrics=[rmse, rrmse, bias, bias_pct, mae, R2Score()],  y_range=(0,1000))\n",
    "learn.summary()"
   ]
  },
  {
   "cell_type": "markdown",
   "metadata": {
    "ExecuteTime": {
     "end_time": "2020-11-02T12:15:14.763168Z",
     "start_time": "2020-11-02T12:15:14.758250Z"
    }
   },
   "source": [
    "Find learning rate to use."
   ]
  },
  {
   "cell_type": "code",
   "execution_count": 11,
   "metadata": {
    "ExecuteTime": {
     "end_time": "2020-11-12T12:14:21.617607Z",
     "start_time": "2020-11-12T12:14:19.940328Z"
    }
   },
   "outputs": [
    {
     "data": {
      "text/html": [],
      "text/plain": [
       "<IPython.core.display.HTML object>"
      ]
     },
     "metadata": {},
     "output_type": "display_data"
    },
    {
     "data": {
      "text/plain": [
       "SuggestedLRs(lr_min=0.33113112449646, lr_steep=0.0030199517495930195)"
      ]
     },
     "execution_count": 11,
     "metadata": {},
     "output_type": "execute_result"
    },
    {
     "data": {
      "image/png": "[encoded data removed]",
      "text/plain": [
       "<Figure size 432x288 with 1 Axes>"
      ]
     },
     "metadata": {
      "needs_background": "light"
     },
     "output_type": "display_data"
    }
   ],
   "source": [
    "learn.lr_find()"
   ]
  },
  {
   "cell_type": "markdown",
   "metadata": {},
   "source": [
    "1e-2 seems to be a good learning rate."
   ]
  },
  {
   "cell_type": "code",
   "execution_count": 12,
   "metadata": {
    "ExecuteTime": {
     "end_time": "2020-11-12T12:14:25.870580Z",
     "start_time": "2020-11-12T12:14:21.619138Z"
    },
    "scrolled": false
   },
   "outputs": [
    {
     "data": {
      "text/html": [
       "<table border=\"1\" class=\"dataframe\">\n",
       "  <thead>\n",
       "    <tr style=\"text-align: left;\">\n",
       "      <th>epoch</th>\n",
       "      <th>train_loss</th>\n",
       "      <th>valid_loss</th>\n",
       "      <th>_rmse</th>\n",
       "      <th>_rrmse</th>\n",
       "      <th>_bias</th>\n",
       "      <th>_bias_pct</th>\n",
       "      <th>mae</th>\n",
       "      <th>r2_score</th>\n",
       "      <th>time</th>\n",
       "    </tr>\n",
       "  </thead>\n",
       "  <tbody>\n",
       "    <tr>\n",
       "      <td>0</td>\n",
       "      <td>103579.570312</td>\n",
       "      <td>92102.828125</td>\n",
       "      <td>303.484467</td>\n",
       "      <td>201.291519</td>\n",
       "      <td>291.089020</td>\n",
       "      <td>193.070023</td>\n",
       "      <td>292.601318</td>\n",
       "      <td>-9.120298</td>\n",
       "      <td>00:00</td>\n",
       "    </tr>\n",
       "    <tr>\n",
       "      <td>1</td>\n",
       "      <td>69628.234375</td>\n",
       "      <td>21302.236328</td>\n",
       "      <td>145.952850</td>\n",
       "      <td>96.805847</td>\n",
       "      <td>111.237473</td>\n",
       "      <td>73.780251</td>\n",
       "      <td>129.823608</td>\n",
       "      <td>-1.340699</td>\n",
       "      <td>00:00</td>\n",
       "    </tr>\n",
       "    <tr>\n",
       "      <td>2</td>\n",
       "      <td>41493.011719</td>\n",
       "      <td>3441.661621</td>\n",
       "      <td>58.665676</td>\n",
       "      <td>38.911064</td>\n",
       "      <td>23.002430</td>\n",
       "      <td>15.256774</td>\n",
       "      <td>41.151653</td>\n",
       "      <td>0.621829</td>\n",
       "      <td>00:00</td>\n",
       "    </tr>\n",
       "    <tr>\n",
       "      <td>3</td>\n",
       "      <td>26681.792969</td>\n",
       "      <td>2236.895264</td>\n",
       "      <td>47.295826</td>\n",
       "      <td>31.369804</td>\n",
       "      <td>-4.244617</td>\n",
       "      <td>-2.815318</td>\n",
       "      <td>33.368450</td>\n",
       "      <td>0.754209</td>\n",
       "      <td>00:00</td>\n",
       "    </tr>\n",
       "    <tr>\n",
       "      <td>4</td>\n",
       "      <td>18139.308594</td>\n",
       "      <td>1987.845337</td>\n",
       "      <td>44.585262</td>\n",
       "      <td>29.571974</td>\n",
       "      <td>-3.835466</td>\n",
       "      <td>-2.543942</td>\n",
       "      <td>31.208073</td>\n",
       "      <td>0.781575</td>\n",
       "      <td>00:00</td>\n",
       "    </tr>\n",
       "    <tr>\n",
       "      <td>5</td>\n",
       "      <td>12843.855469</td>\n",
       "      <td>2031.910645</td>\n",
       "      <td>45.076717</td>\n",
       "      <td>29.897943</td>\n",
       "      <td>7.887590</td>\n",
       "      <td>5.231586</td>\n",
       "      <td>30.104313</td>\n",
       "      <td>0.776733</td>\n",
       "      <td>00:00</td>\n",
       "    </tr>\n",
       "    <tr>\n",
       "      <td>6</td>\n",
       "      <td>9359.170898</td>\n",
       "      <td>1698.639038</td>\n",
       "      <td>41.214546</td>\n",
       "      <td>27.336288</td>\n",
       "      <td>4.746209</td>\n",
       "      <td>3.148008</td>\n",
       "      <td>27.825193</td>\n",
       "      <td>0.813353</td>\n",
       "      <td>00:00</td>\n",
       "    </tr>\n",
       "    <tr>\n",
       "      <td>7</td>\n",
       "      <td>7018.685059</td>\n",
       "      <td>1637.593994</td>\n",
       "      <td>40.467194</td>\n",
       "      <td>26.840591</td>\n",
       "      <td>4.201183</td>\n",
       "      <td>2.786510</td>\n",
       "      <td>26.908524</td>\n",
       "      <td>0.820060</td>\n",
       "      <td>00:00</td>\n",
       "    </tr>\n",
       "    <tr>\n",
       "      <td>8</td>\n",
       "      <td>5392.156250</td>\n",
       "      <td>1711.865112</td>\n",
       "      <td>41.374695</td>\n",
       "      <td>27.442509</td>\n",
       "      <td>7.347583</td>\n",
       "      <td>4.873416</td>\n",
       "      <td>27.239471</td>\n",
       "      <td>0.811900</td>\n",
       "      <td>00:00</td>\n",
       "    </tr>\n",
       "    <tr>\n",
       "      <td>9</td>\n",
       "      <td>4236.536133</td>\n",
       "      <td>1628.784424</td>\n",
       "      <td>40.358200</td>\n",
       "      <td>26.768299</td>\n",
       "      <td>3.086513</td>\n",
       "      <td>2.047185</td>\n",
       "      <td>26.704288</td>\n",
       "      <td>0.821028</td>\n",
       "      <td>00:00</td>\n",
       "    </tr>\n",
       "  </tbody>\n",
       "</table>"
      ],
      "text/plain": [
       "<IPython.core.display.HTML object>"
      ]
     },
     "metadata": {},
     "output_type": "display_data"
    },
    {
     "data": {
      "image/png": "[encoded data removed]",
      "text/plain": [
       "<Figure size 432x288 with 1 Axes>"
      ]
     },
     "metadata": {},
     "output_type": "display_data"
    }
   ],
   "source": [
    "learn.fit_one_cycle(10, max_lr=1e-2, cbs=ShowGraphCallback())"
   ]
  },
  {
   "cell_type": "code",
   "execution_count": 13,
   "metadata": {
    "ExecuteTime": {
     "end_time": "2020-11-12T12:14:25.923453Z",
     "start_time": "2020-11-12T12:14:25.872377Z"
    }
   },
   "outputs": [
    {
     "data": {
      "text/html": [],
      "text/plain": [
       "<IPython.core.display.HTML object>"
      ]
     },
     "metadata": {},
     "output_type": "display_data"
    }
   ],
   "source": [
    "preds, true = learn.get_preds()"
   ]
  },
  {
   "cell_type": "code",
   "execution_count": 14,
   "metadata": {
    "ExecuteTime": {
     "end_time": "2020-11-12T12:14:25.927760Z",
     "start_time": "2020-11-12T12:14:25.924506Z"
    }
   },
   "outputs": [
    {
     "data": {
      "text/plain": [
       "torch.Size([225, 1])"
      ]
     },
     "execution_count": 14,
     "metadata": {},
     "output_type": "execute_result"
    }
   ],
   "source": [
    "preds.shape"
   ]
  },
  {
   "cell_type": "markdown",
   "metadata": {},
   "source": [
    "See validation results"
   ]
  },
  {
   "cell_type": "code",
   "execution_count": 15,
   "metadata": {
    "ExecuteTime": {
     "end_time": "2020-11-12T12:14:25.973679Z",
     "start_time": "2020-11-12T12:14:25.929589Z"
    }
   },
   "outputs": [
    {
     "data": {
      "text/html": [],
      "text/plain": [
       "<IPython.core.display.HTML object>"
      ]
     },
     "metadata": {},
     "output_type": "display_data"
    },
    {
     "data": {
      "text/plain": [
       "(#7) [1628.784423828125,40.35820007324219,26.768299102783203,3.086512565612793,2.047184705734253,26.704288482666016,0.8210284559086581]"
      ]
     },
     "execution_count": 15,
     "metadata": {},
     "output_type": "execute_result"
    }
   ],
   "source": [
    "learn.validate()"
   ]
  },
  {
   "cell_type": "markdown",
   "metadata": {},
   "source": [
    "`RegressionInterpretation` can be used to plot results."
   ]
  },
  {
   "cell_type": "code",
   "execution_count": 16,
   "metadata": {
    "ExecuteTime": {
     "end_time": "2020-11-12T12:14:26.018791Z",
     "start_time": "2020-11-12T12:14:25.975043Z"
    }
   },
   "outputs": [
    {
     "data": {
      "text/html": [],
      "text/plain": [
       "<IPython.core.display.HTML object>"
      ]
     },
     "metadata": {},
     "output_type": "display_data"
    }
   ],
   "source": [
    "reg_interp = RegressionInterpretation.from_learner(learn, ds_idx=1)"
   ]
  },
  {
   "cell_type": "code",
   "execution_count": 17,
   "metadata": {
    "ExecuteTime": {
     "end_time": "2020-11-12T12:14:26.372565Z",
     "start_time": "2020-11-12T12:14:26.020368Z"
    }
   },
   "outputs": [
    {
     "data": {
      "image/png": "[encoded data removed]",
      "text/plain": [
       "<Figure size 504x432 with 2 Axes>"
      ]
     },
     "metadata": {
      "needs_background": "light"
     },
     "output_type": "display_data"
    }
   ],
   "source": [
    "reg_interp.plot_results()\n",
    "plt.show()"
   ]
  },
  {
   "cell_type": "markdown",
   "metadata": {},
   "source": [
    "Evaluate test set."
   ]
  },
  {
   "cell_type": "code",
   "execution_count": 18,
   "metadata": {
    "ExecuteTime": {
     "end_time": "2020-11-12T12:14:26.389517Z",
     "start_time": "2020-11-12T12:14:26.374375Z"
    }
   },
   "outputs": [],
   "source": [
    "test_dls = test_tb.dataloaders(y_block=RegressionBlock(), shuffle_train=False, drop_last=False)"
   ]
  },
  {
   "cell_type": "code",
   "execution_count": 19,
   "metadata": {
    "ExecuteTime": {
     "end_time": "2020-11-12T12:14:26.534519Z",
     "start_time": "2020-11-12T12:14:26.391316Z"
    }
   },
   "outputs": [
    {
     "data": {
      "text/html": [],
      "text/plain": [
       "<IPython.core.display.HTML object>"
      ]
     },
     "metadata": {},
     "output_type": "display_data"
    }
   ],
   "source": [
    "test_interp = RegressionInterpretation.from_learner(learn, dl=test_dls.train, ds_idx=0)"
   ]
  },
  {
   "cell_type": "code",
   "execution_count": 20,
   "metadata": {
    "ExecuteTime": {
     "end_time": "2020-11-12T12:14:26.961644Z",
     "start_time": "2020-11-12T12:14:26.537451Z"
    }
   },
   "outputs": [
    {
     "data": {
      "image/png": "[encoded data removed]",
      "text/plain": [
       "<Figure size 504x432 with 2 Axes>"
      ]
     },
     "metadata": {
      "needs_background": "light"
     },
     "output_type": "display_data"
    }
   ],
   "source": [
    "test_interp.plot_results()\n",
    "plt.show()"
   ]
  },
  {
   "cell_type": "markdown",
   "metadata": {},
   "source": [
    "# Ensemble of ANNs"
   ]
  },
  {
   "cell_type": "markdown",
   "metadata": {},
   "source": [
    "Fit several models at once."
   ]
  },
  {
   "cell_type": "code",
   "execution_count": 21,
   "metadata": {
    "ExecuteTime": {
     "end_time": "2020-11-12T12:14:26.984658Z",
     "start_time": "2020-11-12T12:14:26.963464Z"
    }
   },
   "outputs": [],
   "source": [
    "ensemble = tabular_ensemble(dls, \n",
    "                       y_range=(0,1000), \n",
    "                \n",
    "                       metrics=[rmse, rrmse, bias, bias_pct, mae, R2Score()], n_models=10)"
   ]
  },
  {
   "cell_type": "code",
   "execution_count": 22,
   "metadata": {
    "ExecuteTime": {
     "end_time": "2020-11-12T12:14:47.545584Z",
     "start_time": "2020-11-12T12:14:26.988293Z"
    },
    "scrolled": true
   },
   "outputs": [
    {
     "data": {
      "text/html": [
       "<table border=\"1\" class=\"dataframe\">\n",
       "  <thead>\n",
       "    <tr style=\"text-align: left;\">\n",
       "      <th>epoch</th>\n",
       "      <th>train_loss</th>\n",
       "      <th>valid_loss</th>\n",
       "      <th>_rmse</th>\n",
       "      <th>_rrmse</th>\n",
       "      <th>_bias</th>\n",
       "      <th>_bias_pct</th>\n",
       "      <th>mae</th>\n",
       "      <th>r2_score</th>\n",
       "      <th>time</th>\n",
       "    </tr>\n",
       "  </thead>\n",
       "  <tbody>\n",
       "    <tr>\n",
       "      <td>0</td>\n",
       "      <td>98975.476562</td>\n",
       "      <td>89480.773438</td>\n",
       "      <td>299.133392</td>\n",
       "      <td>198.405594</td>\n",
       "      <td>287.159546</td>\n",
       "      <td>190.463730</td>\n",
       "      <td>288.291992</td>\n",
       "      <td>-8.832186</td>\n",
       "      <td>00:00</td>\n",
       "    </tr>\n",
       "    <tr>\n",
       "      <td>1</td>\n",
       "      <td>65448.601562</td>\n",
       "      <td>17760.929688</td>\n",
       "      <td>133.270142</td>\n",
       "      <td>88.393814</td>\n",
       "      <td>108.291214</td>\n",
       "      <td>71.826088</td>\n",
       "      <td>117.963318</td>\n",
       "      <td>-0.951579</td>\n",
       "      <td>00:00</td>\n",
       "    </tr>\n",
       "    <tr>\n",
       "      <td>2</td>\n",
       "      <td>38527.390625</td>\n",
       "      <td>2710.737305</td>\n",
       "      <td>52.064743</td>\n",
       "      <td>34.532875</td>\n",
       "      <td>10.476469</td>\n",
       "      <td>6.948706</td>\n",
       "      <td>36.629871</td>\n",
       "      <td>0.702143</td>\n",
       "      <td>00:00</td>\n",
       "    </tr>\n",
       "    <tr>\n",
       "      <td>3</td>\n",
       "      <td>24784.691406</td>\n",
       "      <td>2312.776367</td>\n",
       "      <td>48.091335</td>\n",
       "      <td>31.897440</td>\n",
       "      <td>1.143682</td>\n",
       "      <td>0.758568</td>\n",
       "      <td>33.711334</td>\n",
       "      <td>0.745871</td>\n",
       "      <td>00:00</td>\n",
       "    </tr>\n",
       "    <tr>\n",
       "      <td>4</td>\n",
       "      <td>16870.621094</td>\n",
       "      <td>1832.532837</td>\n",
       "      <td>42.808094</td>\n",
       "      <td>28.393236</td>\n",
       "      <td>4.032924</td>\n",
       "      <td>2.674909</td>\n",
       "      <td>30.125006</td>\n",
       "      <td>0.798641</td>\n",
       "      <td>00:00</td>\n",
       "    </tr>\n",
       "    <tr>\n",
       "      <td>5</td>\n",
       "      <td>11964.685547</td>\n",
       "      <td>2030.154053</td>\n",
       "      <td>45.057232</td>\n",
       "      <td>29.885017</td>\n",
       "      <td>9.603665</td>\n",
       "      <td>6.369803</td>\n",
       "      <td>30.549109</td>\n",
       "      <td>0.776926</td>\n",
       "      <td>00:00</td>\n",
       "    </tr>\n",
       "    <tr>\n",
       "      <td>6</td>\n",
       "      <td>8758.698242</td>\n",
       "      <td>1827.089722</td>\n",
       "      <td>42.744469</td>\n",
       "      <td>28.351036</td>\n",
       "      <td>8.990652</td>\n",
       "      <td>5.963211</td>\n",
       "      <td>29.617783</td>\n",
       "      <td>0.799239</td>\n",
       "      <td>00:00</td>\n",
       "    </tr>\n",
       "    <tr>\n",
       "      <td>7</td>\n",
       "      <td>6568.428711</td>\n",
       "      <td>1655.862305</td>\n",
       "      <td>40.692287</td>\n",
       "      <td>26.989889</td>\n",
       "      <td>7.073928</td>\n",
       "      <td>4.691909</td>\n",
       "      <td>28.740147</td>\n",
       "      <td>0.818053</td>\n",
       "      <td>00:00</td>\n",
       "    </tr>\n",
       "    <tr>\n",
       "      <td>8</td>\n",
       "      <td>5063.520996</td>\n",
       "      <td>1644.126953</td>\n",
       "      <td>40.547832</td>\n",
       "      <td>26.894077</td>\n",
       "      <td>6.984410</td>\n",
       "      <td>4.632535</td>\n",
       "      <td>28.524878</td>\n",
       "      <td>0.819343</td>\n",
       "      <td>00:00</td>\n",
       "    </tr>\n",
       "    <tr>\n",
       "      <td>9</td>\n",
       "      <td>3990.655273</td>\n",
       "      <td>1639.990845</td>\n",
       "      <td>40.496799</td>\n",
       "      <td>26.860228</td>\n",
       "      <td>7.362761</td>\n",
       "      <td>4.883483</td>\n",
       "      <td>28.619961</td>\n",
       "      <td>0.819797</td>\n",
       "      <td>00:00</td>\n",
       "    </tr>\n",
       "  </tbody>\n",
       "</table>"
      ],
      "text/plain": [
       "<IPython.core.display.HTML object>"
      ]
     },
     "metadata": {},
     "output_type": "display_data"
    },
    {
     "data": {
      "text/html": [
       "<table border=\"1\" class=\"dataframe\">\n",
       "  <thead>\n",
       "    <tr style=\"text-align: left;\">\n",
       "      <th>epoch</th>\n",
       "      <th>train_loss</th>\n",
       "      <th>valid_loss</th>\n",
       "      <th>_rmse</th>\n",
       "      <th>_rrmse</th>\n",
       "      <th>_bias</th>\n",
       "      <th>_bias_pct</th>\n",
       "      <th>mae</th>\n",
       "      <th>r2_score</th>\n",
       "      <th>time</th>\n",
       "    </tr>\n",
       "  </thead>\n",
       "  <tbody>\n",
       "    <tr>\n",
       "      <td>0</td>\n",
       "      <td>1322.648315</td>\n",
       "      <td>1514.108643</td>\n",
       "      <td>38.911552</td>\n",
       "      <td>25.808784</td>\n",
       "      <td>4.906960</td>\n",
       "      <td>3.254629</td>\n",
       "      <td>27.785273</td>\n",
       "      <td>0.833629</td>\n",
       "      <td>00:00</td>\n",
       "    </tr>\n",
       "    <tr>\n",
       "      <td>1</td>\n",
       "      <td>1373.000000</td>\n",
       "      <td>1740.794312</td>\n",
       "      <td>41.722828</td>\n",
       "      <td>27.673414</td>\n",
       "      <td>-4.199645</td>\n",
       "      <td>-2.785490</td>\n",
       "      <td>29.301323</td>\n",
       "      <td>0.808721</td>\n",
       "      <td>00:00</td>\n",
       "    </tr>\n",
       "    <tr>\n",
       "      <td>2</td>\n",
       "      <td>1408.301636</td>\n",
       "      <td>2010.291504</td>\n",
       "      <td>44.836277</td>\n",
       "      <td>29.738464</td>\n",
       "      <td>11.800136</td>\n",
       "      <td>7.826652</td>\n",
       "      <td>29.878849</td>\n",
       "      <td>0.779108</td>\n",
       "      <td>00:00</td>\n",
       "    </tr>\n",
       "    <tr>\n",
       "      <td>3</td>\n",
       "      <td>1483.724976</td>\n",
       "      <td>1710.439087</td>\n",
       "      <td>41.357456</td>\n",
       "      <td>27.431074</td>\n",
       "      <td>11.150986</td>\n",
       "      <td>7.396092</td>\n",
       "      <td>28.272671</td>\n",
       "      <td>0.812056</td>\n",
       "      <td>00:00</td>\n",
       "    </tr>\n",
       "    <tr>\n",
       "      <td>4</td>\n",
       "      <td>1421.396362</td>\n",
       "      <td>1307.681641</td>\n",
       "      <td>36.161880</td>\n",
       "      <td>23.985016</td>\n",
       "      <td>5.706714</td>\n",
       "      <td>3.785080</td>\n",
       "      <td>25.126043</td>\n",
       "      <td>0.856311</td>\n",
       "      <td>00:00</td>\n",
       "    </tr>\n",
       "    <tr>\n",
       "      <td>5</td>\n",
       "      <td>1281.083740</td>\n",
       "      <td>1284.227173</td>\n",
       "      <td>35.836117</td>\n",
       "      <td>23.768948</td>\n",
       "      <td>1.766765</td>\n",
       "      <td>1.171839</td>\n",
       "      <td>25.082657</td>\n",
       "      <td>0.858889</td>\n",
       "      <td>00:00</td>\n",
       "    </tr>\n",
       "    <tr>\n",
       "      <td>6</td>\n",
       "      <td>1161.634399</td>\n",
       "      <td>1653.321167</td>\n",
       "      <td>40.661053</td>\n",
       "      <td>26.969173</td>\n",
       "      <td>11.826621</td>\n",
       "      <td>7.844219</td>\n",
       "      <td>26.367476</td>\n",
       "      <td>0.818332</td>\n",
       "      <td>00:00</td>\n",
       "    </tr>\n",
       "    <tr>\n",
       "      <td>7</td>\n",
       "      <td>1060.091064</td>\n",
       "      <td>1413.102173</td>\n",
       "      <td>37.591255</td>\n",
       "      <td>24.933075</td>\n",
       "      <td>4.823953</td>\n",
       "      <td>3.199573</td>\n",
       "      <td>26.330866</td>\n",
       "      <td>0.844728</td>\n",
       "      <td>00:00</td>\n",
       "    </tr>\n",
       "    <tr>\n",
       "      <td>8</td>\n",
       "      <td>1007.641968</td>\n",
       "      <td>1311.621826</td>\n",
       "      <td>36.216320</td>\n",
       "      <td>24.021126</td>\n",
       "      <td>3.833544</td>\n",
       "      <td>2.542667</td>\n",
       "      <td>24.673513</td>\n",
       "      <td>0.855878</td>\n",
       "      <td>00:00</td>\n",
       "    </tr>\n",
       "    <tr>\n",
       "      <td>9</td>\n",
       "      <td>926.906738</td>\n",
       "      <td>1344.268555</td>\n",
       "      <td>36.664268</td>\n",
       "      <td>24.318235</td>\n",
       "      <td>5.519623</td>\n",
       "      <td>3.660989</td>\n",
       "      <td>24.650669</td>\n",
       "      <td>0.852291</td>\n",
       "      <td>00:00</td>\n",
       "    </tr>\n",
       "  </tbody>\n",
       "</table>"
      ],
      "text/plain": [
       "<IPython.core.display.HTML object>"
      ]
     },
     "metadata": {},
     "output_type": "display_data"
    },
    {
     "data": {
      "text/html": [
       "<table border=\"1\" class=\"dataframe\">\n",
       "  <thead>\n",
       "    <tr style=\"text-align: left;\">\n",
       "      <th>epoch</th>\n",
       "      <th>train_loss</th>\n",
       "      <th>valid_loss</th>\n",
       "      <th>_rmse</th>\n",
       "      <th>_rrmse</th>\n",
       "      <th>_bias</th>\n",
       "      <th>_bias_pct</th>\n",
       "      <th>mae</th>\n",
       "      <th>r2_score</th>\n",
       "      <th>time</th>\n",
       "    </tr>\n",
       "  </thead>\n",
       "  <tbody>\n",
       "    <tr>\n",
       "      <td>0</td>\n",
       "      <td>793.405945</td>\n",
       "      <td>1314.478394</td>\n",
       "      <td>36.255737</td>\n",
       "      <td>24.047270</td>\n",
       "      <td>6.142624</td>\n",
       "      <td>4.074206</td>\n",
       "      <td>25.121395</td>\n",
       "      <td>0.855565</td>\n",
       "      <td>00:00</td>\n",
       "    </tr>\n",
       "    <tr>\n",
       "      <td>1</td>\n",
       "      <td>888.014526</td>\n",
       "      <td>1570.793457</td>\n",
       "      <td>39.633236</td>\n",
       "      <td>26.287455</td>\n",
       "      <td>-4.456526</td>\n",
       "      <td>-2.955871</td>\n",
       "      <td>26.001429</td>\n",
       "      <td>0.827401</td>\n",
       "      <td>00:00</td>\n",
       "    </tr>\n",
       "    <tr>\n",
       "      <td>2</td>\n",
       "      <td>961.808228</td>\n",
       "      <td>1604.411621</td>\n",
       "      <td>40.055107</td>\n",
       "      <td>26.567268</td>\n",
       "      <td>11.991569</td>\n",
       "      <td>7.953623</td>\n",
       "      <td>26.221157</td>\n",
       "      <td>0.823707</td>\n",
       "      <td>00:00</td>\n",
       "    </tr>\n",
       "    <tr>\n",
       "      <td>3</td>\n",
       "      <td>946.924805</td>\n",
       "      <td>1391.443848</td>\n",
       "      <td>37.302063</td>\n",
       "      <td>24.741262</td>\n",
       "      <td>6.526036</td>\n",
       "      <td>4.328510</td>\n",
       "      <td>24.995165</td>\n",
       "      <td>0.847108</td>\n",
       "      <td>00:00</td>\n",
       "    </tr>\n",
       "    <tr>\n",
       "      <td>4</td>\n",
       "      <td>881.887024</td>\n",
       "      <td>1312.012329</td>\n",
       "      <td>36.221714</td>\n",
       "      <td>24.024700</td>\n",
       "      <td>0.459851</td>\n",
       "      <td>0.305004</td>\n",
       "      <td>24.604733</td>\n",
       "      <td>0.855836</td>\n",
       "      <td>00:00</td>\n",
       "    </tr>\n",
       "    <tr>\n",
       "      <td>5</td>\n",
       "      <td>900.042725</td>\n",
       "      <td>1391.538208</td>\n",
       "      <td>37.303329</td>\n",
       "      <td>24.742104</td>\n",
       "      <td>2.742547</td>\n",
       "      <td>1.819044</td>\n",
       "      <td>26.783033</td>\n",
       "      <td>0.847097</td>\n",
       "      <td>00:00</td>\n",
       "    </tr>\n",
       "    <tr>\n",
       "      <td>6</td>\n",
       "      <td>832.351990</td>\n",
       "      <td>1299.422241</td>\n",
       "      <td>36.047501</td>\n",
       "      <td>23.909151</td>\n",
       "      <td>2.389896</td>\n",
       "      <td>1.585141</td>\n",
       "      <td>24.602087</td>\n",
       "      <td>0.857219</td>\n",
       "      <td>00:00</td>\n",
       "    </tr>\n",
       "    <tr>\n",
       "      <td>7</td>\n",
       "      <td>785.285645</td>\n",
       "      <td>1321.969971</td>\n",
       "      <td>36.358906</td>\n",
       "      <td>24.115696</td>\n",
       "      <td>-0.043816</td>\n",
       "      <td>-0.029062</td>\n",
       "      <td>24.818979</td>\n",
       "      <td>0.854741</td>\n",
       "      <td>00:00</td>\n",
       "    </tr>\n",
       "    <tr>\n",
       "      <td>8</td>\n",
       "      <td>761.181091</td>\n",
       "      <td>1330.440308</td>\n",
       "      <td>36.475201</td>\n",
       "      <td>24.192831</td>\n",
       "      <td>2.208846</td>\n",
       "      <td>1.465057</td>\n",
       "      <td>25.049118</td>\n",
       "      <td>0.853811</td>\n",
       "      <td>00:00</td>\n",
       "    </tr>\n",
       "    <tr>\n",
       "      <td>9</td>\n",
       "      <td>691.772949</td>\n",
       "      <td>1322.848145</td>\n",
       "      <td>36.370979</td>\n",
       "      <td>24.123705</td>\n",
       "      <td>3.365674</td>\n",
       "      <td>2.232344</td>\n",
       "      <td>24.955324</td>\n",
       "      <td>0.854645</td>\n",
       "      <td>00:00</td>\n",
       "    </tr>\n",
       "  </tbody>\n",
       "</table>"
      ],
      "text/plain": [
       "<IPython.core.display.HTML object>"
      ]
     },
     "metadata": {},
     "output_type": "display_data"
    },
    {
     "data": {
      "text/html": [
       "<table border=\"1\" class=\"dataframe\">\n",
       "  <thead>\n",
       "    <tr style=\"text-align: left;\">\n",
       "      <th>epoch</th>\n",
       "      <th>train_loss</th>\n",
       "      <th>valid_loss</th>\n",
       "      <th>_rmse</th>\n",
       "      <th>_rrmse</th>\n",
       "      <th>_bias</th>\n",
       "      <th>_bias_pct</th>\n",
       "      <th>mae</th>\n",
       "      <th>r2_score</th>\n",
       "      <th>time</th>\n",
       "    </tr>\n",
       "  </thead>\n",
       "  <tbody>\n",
       "    <tr>\n",
       "      <td>0</td>\n",
       "      <td>570.211304</td>\n",
       "      <td>1322.998901</td>\n",
       "      <td>36.373051</td>\n",
       "      <td>24.125078</td>\n",
       "      <td>6.424822</td>\n",
       "      <td>4.261378</td>\n",
       "      <td>25.093744</td>\n",
       "      <td>0.854628</td>\n",
       "      <td>00:00</td>\n",
       "    </tr>\n",
       "    <tr>\n",
       "      <td>1</td>\n",
       "      <td>640.313721</td>\n",
       "      <td>1421.799072</td>\n",
       "      <td>37.706745</td>\n",
       "      <td>25.009676</td>\n",
       "      <td>8.162169</td>\n",
       "      <td>5.413705</td>\n",
       "      <td>25.190191</td>\n",
       "      <td>0.843772</td>\n",
       "      <td>00:00</td>\n",
       "    </tr>\n",
       "    <tr>\n",
       "      <td>2</td>\n",
       "      <td>779.885925</td>\n",
       "      <td>2159.972168</td>\n",
       "      <td>46.475502</td>\n",
       "      <td>30.825710</td>\n",
       "      <td>-8.983141</td>\n",
       "      <td>-5.958230</td>\n",
       "      <td>30.624136</td>\n",
       "      <td>0.762661</td>\n",
       "      <td>00:00</td>\n",
       "    </tr>\n",
       "    <tr>\n",
       "      <td>3</td>\n",
       "      <td>771.749573</td>\n",
       "      <td>1647.695557</td>\n",
       "      <td>40.591820</td>\n",
       "      <td>26.923254</td>\n",
       "      <td>12.125709</td>\n",
       "      <td>8.042593</td>\n",
       "      <td>27.163258</td>\n",
       "      <td>0.818950</td>\n",
       "      <td>00:00</td>\n",
       "    </tr>\n",
       "    <tr>\n",
       "      <td>4</td>\n",
       "      <td>741.729614</td>\n",
       "      <td>1449.262329</td>\n",
       "      <td>38.069180</td>\n",
       "      <td>25.250065</td>\n",
       "      <td>3.725446</td>\n",
       "      <td>2.470969</td>\n",
       "      <td>25.613962</td>\n",
       "      <td>0.840754</td>\n",
       "      <td>00:00</td>\n",
       "    </tr>\n",
       "    <tr>\n",
       "      <td>5</td>\n",
       "      <td>706.863403</td>\n",
       "      <td>1623.973145</td>\n",
       "      <td>40.298553</td>\n",
       "      <td>26.728737</td>\n",
       "      <td>0.289803</td>\n",
       "      <td>0.192217</td>\n",
       "      <td>26.423277</td>\n",
       "      <td>0.821557</td>\n",
       "      <td>00:00</td>\n",
       "    </tr>\n",
       "    <tr>\n",
       "      <td>6</td>\n",
       "      <td>669.753174</td>\n",
       "      <td>1254.398438</td>\n",
       "      <td>35.417488</td>\n",
       "      <td>23.491283</td>\n",
       "      <td>1.849949</td>\n",
       "      <td>1.227012</td>\n",
       "      <td>24.399221</td>\n",
       "      <td>0.862166</td>\n",
       "      <td>00:00</td>\n",
       "    </tr>\n",
       "    <tr>\n",
       "      <td>7</td>\n",
       "      <td>642.102356</td>\n",
       "      <td>1313.826782</td>\n",
       "      <td>36.246746</td>\n",
       "      <td>24.041306</td>\n",
       "      <td>2.975401</td>\n",
       "      <td>1.973488</td>\n",
       "      <td>24.651394</td>\n",
       "      <td>0.855636</td>\n",
       "      <td>00:00</td>\n",
       "    </tr>\n",
       "    <tr>\n",
       "      <td>8</td>\n",
       "      <td>597.071045</td>\n",
       "      <td>1360.726074</td>\n",
       "      <td>36.888020</td>\n",
       "      <td>24.466640</td>\n",
       "      <td>4.767653</td>\n",
       "      <td>3.162231</td>\n",
       "      <td>25.384777</td>\n",
       "      <td>0.850483</td>\n",
       "      <td>00:00</td>\n",
       "    </tr>\n",
       "    <tr>\n",
       "      <td>9</td>\n",
       "      <td>574.615234</td>\n",
       "      <td>1348.608643</td>\n",
       "      <td>36.723404</td>\n",
       "      <td>24.357456</td>\n",
       "      <td>5.048743</td>\n",
       "      <td>3.348669</td>\n",
       "      <td>25.394426</td>\n",
       "      <td>0.851814</td>\n",
       "      <td>00:00</td>\n",
       "    </tr>\n",
       "  </tbody>\n",
       "</table>"
      ],
      "text/plain": [
       "<IPython.core.display.HTML object>"
      ]
     },
     "metadata": {},
     "output_type": "display_data"
    },
    {
     "data": {
      "text/html": [
       "<table border=\"1\" class=\"dataframe\">\n",
       "  <thead>\n",
       "    <tr style=\"text-align: left;\">\n",
       "      <th>epoch</th>\n",
       "      <th>train_loss</th>\n",
       "      <th>valid_loss</th>\n",
       "      <th>_rmse</th>\n",
       "      <th>_rrmse</th>\n",
       "      <th>_bias</th>\n",
       "      <th>_bias_pct</th>\n",
       "      <th>mae</th>\n",
       "      <th>r2_score</th>\n",
       "      <th>time</th>\n",
       "    </tr>\n",
       "  </thead>\n",
       "  <tbody>\n",
       "    <tr>\n",
       "      <td>0</td>\n",
       "      <td>497.296387</td>\n",
       "      <td>1374.565918</td>\n",
       "      <td>37.075142</td>\n",
       "      <td>24.590754</td>\n",
       "      <td>2.236810</td>\n",
       "      <td>1.483605</td>\n",
       "      <td>25.762438</td>\n",
       "      <td>0.848962</td>\n",
       "      <td>00:00</td>\n",
       "    </tr>\n",
       "    <tr>\n",
       "      <td>1</td>\n",
       "      <td>554.889893</td>\n",
       "      <td>1250.083984</td>\n",
       "      <td>35.356529</td>\n",
       "      <td>23.450853</td>\n",
       "      <td>4.993402</td>\n",
       "      <td>3.311963</td>\n",
       "      <td>25.200401</td>\n",
       "      <td>0.862640</td>\n",
       "      <td>00:00</td>\n",
       "    </tr>\n",
       "    <tr>\n",
       "      <td>2</td>\n",
       "      <td>633.730774</td>\n",
       "      <td>1406.441162</td>\n",
       "      <td>37.502548</td>\n",
       "      <td>24.874239</td>\n",
       "      <td>6.289947</td>\n",
       "      <td>4.171920</td>\n",
       "      <td>26.091085</td>\n",
       "      <td>0.845460</td>\n",
       "      <td>00:00</td>\n",
       "    </tr>\n",
       "    <tr>\n",
       "      <td>3</td>\n",
       "      <td>682.286743</td>\n",
       "      <td>1557.856445</td>\n",
       "      <td>39.469692</td>\n",
       "      <td>26.178984</td>\n",
       "      <td>-0.877611</td>\n",
       "      <td>-0.582091</td>\n",
       "      <td>26.491207</td>\n",
       "      <td>0.828822</td>\n",
       "      <td>00:00</td>\n",
       "    </tr>\n",
       "    <tr>\n",
       "      <td>4</td>\n",
       "      <td>652.704468</td>\n",
       "      <td>1388.469849</td>\n",
       "      <td>37.262177</td>\n",
       "      <td>24.714808</td>\n",
       "      <td>8.677876</td>\n",
       "      <td>5.755756</td>\n",
       "      <td>26.559284</td>\n",
       "      <td>0.847434</td>\n",
       "      <td>00:00</td>\n",
       "    </tr>\n",
       "    <tr>\n",
       "      <td>5</td>\n",
       "      <td>601.405701</td>\n",
       "      <td>1332.796021</td>\n",
       "      <td>36.507481</td>\n",
       "      <td>24.214241</td>\n",
       "      <td>0.973325</td>\n",
       "      <td>0.645575</td>\n",
       "      <td>25.530853</td>\n",
       "      <td>0.853552</td>\n",
       "      <td>00:00</td>\n",
       "    </tr>\n",
       "    <tr>\n",
       "      <td>6</td>\n",
       "      <td>559.028442</td>\n",
       "      <td>1276.961426</td>\n",
       "      <td>35.734596</td>\n",
       "      <td>23.701612</td>\n",
       "      <td>2.872352</td>\n",
       "      <td>1.905139</td>\n",
       "      <td>24.865097</td>\n",
       "      <td>0.859687</td>\n",
       "      <td>00:00</td>\n",
       "    </tr>\n",
       "    <tr>\n",
       "      <td>7</td>\n",
       "      <td>514.929260</td>\n",
       "      <td>1306.155029</td>\n",
       "      <td>36.140766</td>\n",
       "      <td>23.971012</td>\n",
       "      <td>1.930302</td>\n",
       "      <td>1.280307</td>\n",
       "      <td>24.936026</td>\n",
       "      <td>0.856479</td>\n",
       "      <td>00:00</td>\n",
       "    </tr>\n",
       "    <tr>\n",
       "      <td>8</td>\n",
       "      <td>478.634247</td>\n",
       "      <td>1354.278320</td>\n",
       "      <td>36.800518</td>\n",
       "      <td>24.408604</td>\n",
       "      <td>1.433996</td>\n",
       "      <td>0.951124</td>\n",
       "      <td>25.238579</td>\n",
       "      <td>0.851191</td>\n",
       "      <td>00:00</td>\n",
       "    </tr>\n",
       "    <tr>\n",
       "      <td>9</td>\n",
       "      <td>451.787048</td>\n",
       "      <td>1339.546997</td>\n",
       "      <td>36.599819</td>\n",
       "      <td>24.275486</td>\n",
       "      <td>2.297985</td>\n",
       "      <td>1.524180</td>\n",
       "      <td>25.182631</td>\n",
       "      <td>0.852810</td>\n",
       "      <td>00:00</td>\n",
       "    </tr>\n",
       "  </tbody>\n",
       "</table>"
      ],
      "text/plain": [
       "<IPython.core.display.HTML object>"
      ]
     },
     "metadata": {},
     "output_type": "display_data"
    },
    {
     "data": {
      "text/html": [
       "<table border=\"1\" class=\"dataframe\">\n",
       "  <thead>\n",
       "    <tr style=\"text-align: left;\">\n",
       "      <th>epoch</th>\n",
       "      <th>train_loss</th>\n",
       "      <th>valid_loss</th>\n",
       "      <th>_rmse</th>\n",
       "      <th>_rrmse</th>\n",
       "      <th>_bias</th>\n",
       "      <th>_bias_pct</th>\n",
       "      <th>mae</th>\n",
       "      <th>r2_score</th>\n",
       "      <th>time</th>\n",
       "    </tr>\n",
       "  </thead>\n",
       "  <tbody>\n",
       "    <tr>\n",
       "      <td>0</td>\n",
       "      <td>338.179596</td>\n",
       "      <td>1316.074341</td>\n",
       "      <td>36.277740</td>\n",
       "      <td>24.061861</td>\n",
       "      <td>2.830518</td>\n",
       "      <td>1.877392</td>\n",
       "      <td>24.993025</td>\n",
       "      <td>0.855389</td>\n",
       "      <td>00:00</td>\n",
       "    </tr>\n",
       "    <tr>\n",
       "      <td>1</td>\n",
       "      <td>386.222107</td>\n",
       "      <td>1639.411133</td>\n",
       "      <td>40.489643</td>\n",
       "      <td>26.855484</td>\n",
       "      <td>3.687135</td>\n",
       "      <td>2.445559</td>\n",
       "      <td>27.585550</td>\n",
       "      <td>0.819861</td>\n",
       "      <td>00:00</td>\n",
       "    </tr>\n",
       "    <tr>\n",
       "      <td>2</td>\n",
       "      <td>522.496887</td>\n",
       "      <td>2598.071777</td>\n",
       "      <td>50.971283</td>\n",
       "      <td>33.807617</td>\n",
       "      <td>12.533916</td>\n",
       "      <td>8.313345</td>\n",
       "      <td>34.202686</td>\n",
       "      <td>0.714523</td>\n",
       "      <td>00:00</td>\n",
       "    </tr>\n",
       "    <tr>\n",
       "      <td>3</td>\n",
       "      <td>707.931274</td>\n",
       "      <td>1553.317505</td>\n",
       "      <td>39.412148</td>\n",
       "      <td>26.140816</td>\n",
       "      <td>-1.990600</td>\n",
       "      <td>-1.320301</td>\n",
       "      <td>28.890839</td>\n",
       "      <td>0.829321</td>\n",
       "      <td>00:00</td>\n",
       "    </tr>\n",
       "    <tr>\n",
       "      <td>4</td>\n",
       "      <td>676.180603</td>\n",
       "      <td>1377.314087</td>\n",
       "      <td>37.112183</td>\n",
       "      <td>24.615320</td>\n",
       "      <td>1.182819</td>\n",
       "      <td>0.784526</td>\n",
       "      <td>25.964273</td>\n",
       "      <td>0.848660</td>\n",
       "      <td>00:00</td>\n",
       "    </tr>\n",
       "    <tr>\n",
       "      <td>5</td>\n",
       "      <td>606.417847</td>\n",
       "      <td>1332.042480</td>\n",
       "      <td>36.497158</td>\n",
       "      <td>24.207396</td>\n",
       "      <td>0.833374</td>\n",
       "      <td>0.552750</td>\n",
       "      <td>25.174393</td>\n",
       "      <td>0.853635</td>\n",
       "      <td>00:00</td>\n",
       "    </tr>\n",
       "    <tr>\n",
       "      <td>6</td>\n",
       "      <td>588.867310</td>\n",
       "      <td>1276.896240</td>\n",
       "      <td>35.733685</td>\n",
       "      <td>23.701008</td>\n",
       "      <td>-0.912481</td>\n",
       "      <td>-0.605219</td>\n",
       "      <td>24.602297</td>\n",
       "      <td>0.859694</td>\n",
       "      <td>00:00</td>\n",
       "    </tr>\n",
       "    <tr>\n",
       "      <td>7</td>\n",
       "      <td>533.682007</td>\n",
       "      <td>1336.194458</td>\n",
       "      <td>36.553993</td>\n",
       "      <td>24.245092</td>\n",
       "      <td>4.774994</td>\n",
       "      <td>3.167100</td>\n",
       "      <td>25.610703</td>\n",
       "      <td>0.853178</td>\n",
       "      <td>00:00</td>\n",
       "    </tr>\n",
       "    <tr>\n",
       "      <td>8</td>\n",
       "      <td>508.226135</td>\n",
       "      <td>1392.910400</td>\n",
       "      <td>37.321712</td>\n",
       "      <td>24.754295</td>\n",
       "      <td>-2.353012</td>\n",
       "      <td>-1.560677</td>\n",
       "      <td>25.305145</td>\n",
       "      <td>0.846946</td>\n",
       "      <td>00:00</td>\n",
       "    </tr>\n",
       "    <tr>\n",
       "      <td>9</td>\n",
       "      <td>480.653900</td>\n",
       "      <td>1347.174561</td>\n",
       "      <td>36.703876</td>\n",
       "      <td>24.344505</td>\n",
       "      <td>-1.214502</td>\n",
       "      <td>-0.805540</td>\n",
       "      <td>25.035286</td>\n",
       "      <td>0.851972</td>\n",
       "      <td>00:00</td>\n",
       "    </tr>\n",
       "  </tbody>\n",
       "</table>"
      ],
      "text/plain": [
       "<IPython.core.display.HTML object>"
      ]
     },
     "metadata": {},
     "output_type": "display_data"
    },
    {
     "data": {
      "text/html": [
       "<table border=\"1\" class=\"dataframe\">\n",
       "  <thead>\n",
       "    <tr style=\"text-align: left;\">\n",
       "      <th>epoch</th>\n",
       "      <th>train_loss</th>\n",
       "      <th>valid_loss</th>\n",
       "      <th>_rmse</th>\n",
       "      <th>_rrmse</th>\n",
       "      <th>_bias</th>\n",
       "      <th>_bias_pct</th>\n",
       "      <th>mae</th>\n",
       "      <th>r2_score</th>\n",
       "      <th>time</th>\n",
       "    </tr>\n",
       "  </thead>\n",
       "  <tbody>\n",
       "    <tr>\n",
       "      <td>0</td>\n",
       "      <td>433.647247</td>\n",
       "      <td>1286.966064</td>\n",
       "      <td>35.874306</td>\n",
       "      <td>23.794277</td>\n",
       "      <td>5.858826</td>\n",
       "      <td>3.885972</td>\n",
       "      <td>25.029881</td>\n",
       "      <td>0.858588</td>\n",
       "      <td>00:00</td>\n",
       "    </tr>\n",
       "    <tr>\n",
       "      <td>1</td>\n",
       "      <td>435.642883</td>\n",
       "      <td>1435.499268</td>\n",
       "      <td>37.887981</td>\n",
       "      <td>25.129885</td>\n",
       "      <td>9.682804</td>\n",
       "      <td>6.422294</td>\n",
       "      <td>26.334473</td>\n",
       "      <td>0.842267</td>\n",
       "      <td>00:00</td>\n",
       "    </tr>\n",
       "    <tr>\n",
       "      <td>2</td>\n",
       "      <td>509.684387</td>\n",
       "      <td>1439.547485</td>\n",
       "      <td>37.941368</td>\n",
       "      <td>25.165293</td>\n",
       "      <td>-2.919103</td>\n",
       "      <td>-1.936147</td>\n",
       "      <td>26.061855</td>\n",
       "      <td>0.841822</td>\n",
       "      <td>00:00</td>\n",
       "    </tr>\n",
       "    <tr>\n",
       "      <td>3</td>\n",
       "      <td>507.657776</td>\n",
       "      <td>1728.989136</td>\n",
       "      <td>41.581116</td>\n",
       "      <td>27.579420</td>\n",
       "      <td>7.728180</td>\n",
       "      <td>5.125854</td>\n",
       "      <td>30.907492</td>\n",
       "      <td>0.810018</td>\n",
       "      <td>00:00</td>\n",
       "    </tr>\n",
       "    <tr>\n",
       "      <td>4</td>\n",
       "      <td>618.528870</td>\n",
       "      <td>1575.677734</td>\n",
       "      <td>39.694809</td>\n",
       "      <td>26.328295</td>\n",
       "      <td>8.305121</td>\n",
       "      <td>5.508521</td>\n",
       "      <td>27.506479</td>\n",
       "      <td>0.826864</td>\n",
       "      <td>00:00</td>\n",
       "    </tr>\n",
       "    <tr>\n",
       "      <td>5</td>\n",
       "      <td>606.661560</td>\n",
       "      <td>1409.118164</td>\n",
       "      <td>37.538223</td>\n",
       "      <td>24.897900</td>\n",
       "      <td>-4.034451</td>\n",
       "      <td>-2.675922</td>\n",
       "      <td>25.369957</td>\n",
       "      <td>0.845165</td>\n",
       "      <td>00:00</td>\n",
       "    </tr>\n",
       "    <tr>\n",
       "      <td>6</td>\n",
       "      <td>533.451599</td>\n",
       "      <td>1282.938354</td>\n",
       "      <td>35.818130</td>\n",
       "      <td>23.757019</td>\n",
       "      <td>3.128401</td>\n",
       "      <td>2.074968</td>\n",
       "      <td>24.959318</td>\n",
       "      <td>0.859030</td>\n",
       "      <td>00:00</td>\n",
       "    </tr>\n",
       "    <tr>\n",
       "      <td>7</td>\n",
       "      <td>484.739380</td>\n",
       "      <td>1311.118530</td>\n",
       "      <td>36.209366</td>\n",
       "      <td>24.016512</td>\n",
       "      <td>4.049382</td>\n",
       "      <td>2.685826</td>\n",
       "      <td>24.949989</td>\n",
       "      <td>0.855934</td>\n",
       "      <td>00:00</td>\n",
       "    </tr>\n",
       "    <tr>\n",
       "      <td>8</td>\n",
       "      <td>477.730927</td>\n",
       "      <td>1412.702515</td>\n",
       "      <td>37.585934</td>\n",
       "      <td>24.929544</td>\n",
       "      <td>-3.205291</td>\n",
       "      <td>-2.125967</td>\n",
       "      <td>25.328112</td>\n",
       "      <td>0.844772</td>\n",
       "      <td>00:00</td>\n",
       "    </tr>\n",
       "    <tr>\n",
       "      <td>9</td>\n",
       "      <td>449.096588</td>\n",
       "      <td>1350.675537</td>\n",
       "      <td>36.751541</td>\n",
       "      <td>24.376120</td>\n",
       "      <td>2.016251</td>\n",
       "      <td>1.337315</td>\n",
       "      <td>25.276541</td>\n",
       "      <td>0.851587</td>\n",
       "      <td>00:00</td>\n",
       "    </tr>\n",
       "  </tbody>\n",
       "</table>"
      ],
      "text/plain": [
       "<IPython.core.display.HTML object>"
      ]
     },
     "metadata": {},
     "output_type": "display_data"
    },
    {
     "data": {
      "text/html": [
       "<table border=\"1\" class=\"dataframe\">\n",
       "  <thead>\n",
       "    <tr style=\"text-align: left;\">\n",
       "      <th>epoch</th>\n",
       "      <th>train_loss</th>\n",
       "      <th>valid_loss</th>\n",
       "      <th>_rmse</th>\n",
       "      <th>_rrmse</th>\n",
       "      <th>_bias</th>\n",
       "      <th>_bias_pct</th>\n",
       "      <th>mae</th>\n",
       "      <th>r2_score</th>\n",
       "      <th>time</th>\n",
       "    </tr>\n",
       "  </thead>\n",
       "  <tbody>\n",
       "    <tr>\n",
       "      <td>0</td>\n",
       "      <td>366.064819</td>\n",
       "      <td>1294.530640</td>\n",
       "      <td>35.979591</td>\n",
       "      <td>23.864109</td>\n",
       "      <td>3.750730</td>\n",
       "      <td>2.487739</td>\n",
       "      <td>24.756887</td>\n",
       "      <td>0.857756</td>\n",
       "      <td>00:00</td>\n",
       "    </tr>\n",
       "    <tr>\n",
       "      <td>1</td>\n",
       "      <td>380.709991</td>\n",
       "      <td>1277.321167</td>\n",
       "      <td>35.739632</td>\n",
       "      <td>23.704952</td>\n",
       "      <td>-2.439836</td>\n",
       "      <td>-1.618265</td>\n",
       "      <td>24.462856</td>\n",
       "      <td>0.859647</td>\n",
       "      <td>00:00</td>\n",
       "    </tr>\n",
       "    <tr>\n",
       "      <td>2</td>\n",
       "      <td>439.661377</td>\n",
       "      <td>1774.272339</td>\n",
       "      <td>42.122116</td>\n",
       "      <td>27.938250</td>\n",
       "      <td>-1.373292</td>\n",
       "      <td>-0.910860</td>\n",
       "      <td>28.061874</td>\n",
       "      <td>0.805042</td>\n",
       "      <td>00:00</td>\n",
       "    </tr>\n",
       "    <tr>\n",
       "      <td>3</td>\n",
       "      <td>510.736908</td>\n",
       "      <td>1442.693359</td>\n",
       "      <td>37.982803</td>\n",
       "      <td>25.192776</td>\n",
       "      <td>8.229609</td>\n",
       "      <td>5.458436</td>\n",
       "      <td>26.187407</td>\n",
       "      <td>0.841476</td>\n",
       "      <td>00:00</td>\n",
       "    </tr>\n",
       "    <tr>\n",
       "      <td>4</td>\n",
       "      <td>507.919250</td>\n",
       "      <td>1443.163940</td>\n",
       "      <td>37.989002</td>\n",
       "      <td>25.196886</td>\n",
       "      <td>9.161257</td>\n",
       "      <td>6.076368</td>\n",
       "      <td>26.749712</td>\n",
       "      <td>0.841425</td>\n",
       "      <td>00:00</td>\n",
       "    </tr>\n",
       "    <tr>\n",
       "      <td>5</td>\n",
       "      <td>490.270294</td>\n",
       "      <td>1445.836426</td>\n",
       "      <td>38.024155</td>\n",
       "      <td>25.220203</td>\n",
       "      <td>6.730267</td>\n",
       "      <td>4.463971</td>\n",
       "      <td>26.157877</td>\n",
       "      <td>0.841131</td>\n",
       "      <td>00:00</td>\n",
       "    </tr>\n",
       "    <tr>\n",
       "      <td>6</td>\n",
       "      <td>467.321075</td>\n",
       "      <td>1319.427246</td>\n",
       "      <td>36.323921</td>\n",
       "      <td>24.092493</td>\n",
       "      <td>5.582157</td>\n",
       "      <td>3.702466</td>\n",
       "      <td>25.196798</td>\n",
       "      <td>0.855021</td>\n",
       "      <td>00:00</td>\n",
       "    </tr>\n",
       "    <tr>\n",
       "      <td>7</td>\n",
       "      <td>437.303986</td>\n",
       "      <td>1335.875732</td>\n",
       "      <td>36.549637</td>\n",
       "      <td>24.242203</td>\n",
       "      <td>4.613400</td>\n",
       "      <td>3.059920</td>\n",
       "      <td>25.643459</td>\n",
       "      <td>0.853213</td>\n",
       "      <td>00:00</td>\n",
       "    </tr>\n",
       "    <tr>\n",
       "      <td>8</td>\n",
       "      <td>401.882629</td>\n",
       "      <td>1368.658325</td>\n",
       "      <td>36.995384</td>\n",
       "      <td>24.537853</td>\n",
       "      <td>0.552703</td>\n",
       "      <td>0.366590</td>\n",
       "      <td>25.245392</td>\n",
       "      <td>0.849611</td>\n",
       "      <td>00:00</td>\n",
       "    </tr>\n",
       "    <tr>\n",
       "      <td>9</td>\n",
       "      <td>408.900299</td>\n",
       "      <td>1317.356567</td>\n",
       "      <td>36.295406</td>\n",
       "      <td>24.073580</td>\n",
       "      <td>0.901953</td>\n",
       "      <td>0.598237</td>\n",
       "      <td>25.013981</td>\n",
       "      <td>0.855248</td>\n",
       "      <td>00:00</td>\n",
       "    </tr>\n",
       "  </tbody>\n",
       "</table>"
      ],
      "text/plain": [
       "<IPython.core.display.HTML object>"
      ]
     },
     "metadata": {},
     "output_type": "display_data"
    },
    {
     "data": {
      "text/html": [
       "<table border=\"1\" class=\"dataframe\">\n",
       "  <thead>\n",
       "    <tr style=\"text-align: left;\">\n",
       "      <th>epoch</th>\n",
       "      <th>train_loss</th>\n",
       "      <th>valid_loss</th>\n",
       "      <th>_rmse</th>\n",
       "      <th>_rrmse</th>\n",
       "      <th>_bias</th>\n",
       "      <th>_bias_pct</th>\n",
       "      <th>mae</th>\n",
       "      <th>r2_score</th>\n",
       "      <th>time</th>\n",
       "    </tr>\n",
       "  </thead>\n",
       "  <tbody>\n",
       "    <tr>\n",
       "      <td>0</td>\n",
       "      <td>402.013702</td>\n",
       "      <td>1258.838989</td>\n",
       "      <td>35.480122</td>\n",
       "      <td>23.532827</td>\n",
       "      <td>3.093021</td>\n",
       "      <td>2.051502</td>\n",
       "      <td>24.625004</td>\n",
       "      <td>0.861678</td>\n",
       "      <td>00:00</td>\n",
       "    </tr>\n",
       "    <tr>\n",
       "      <td>1</td>\n",
       "      <td>512.128662</td>\n",
       "      <td>1835.381714</td>\n",
       "      <td>42.841358</td>\n",
       "      <td>28.415298</td>\n",
       "      <td>13.191777</td>\n",
       "      <td>8.749683</td>\n",
       "      <td>30.076450</td>\n",
       "      <td>0.798327</td>\n",
       "      <td>00:00</td>\n",
       "    </tr>\n",
       "    <tr>\n",
       "      <td>2</td>\n",
       "      <td>516.399963</td>\n",
       "      <td>1555.794678</td>\n",
       "      <td>39.443562</td>\n",
       "      <td>26.161650</td>\n",
       "      <td>-7.394223</td>\n",
       "      <td>-4.904351</td>\n",
       "      <td>25.633345</td>\n",
       "      <td>0.829049</td>\n",
       "      <td>00:00</td>\n",
       "    </tr>\n",
       "    <tr>\n",
       "      <td>3</td>\n",
       "      <td>531.654053</td>\n",
       "      <td>1481.387329</td>\n",
       "      <td>38.488796</td>\n",
       "      <td>25.528387</td>\n",
       "      <td>4.886700</td>\n",
       "      <td>3.241192</td>\n",
       "      <td>27.095886</td>\n",
       "      <td>0.837225</td>\n",
       "      <td>00:00</td>\n",
       "    </tr>\n",
       "    <tr>\n",
       "      <td>4</td>\n",
       "      <td>499.703674</td>\n",
       "      <td>1311.332886</td>\n",
       "      <td>36.212330</td>\n",
       "      <td>24.018476</td>\n",
       "      <td>-0.863468</td>\n",
       "      <td>-0.572711</td>\n",
       "      <td>24.870848</td>\n",
       "      <td>0.855910</td>\n",
       "      <td>00:00</td>\n",
       "    </tr>\n",
       "    <tr>\n",
       "      <td>5</td>\n",
       "      <td>483.739349</td>\n",
       "      <td>1446.686890</td>\n",
       "      <td>38.035336</td>\n",
       "      <td>25.227619</td>\n",
       "      <td>-5.753001</td>\n",
       "      <td>-3.815781</td>\n",
       "      <td>25.206219</td>\n",
       "      <td>0.841037</td>\n",
       "      <td>00:00</td>\n",
       "    </tr>\n",
       "    <tr>\n",
       "      <td>6</td>\n",
       "      <td>445.110168</td>\n",
       "      <td>1319.188232</td>\n",
       "      <td>36.320633</td>\n",
       "      <td>24.090311</td>\n",
       "      <td>3.084900</td>\n",
       "      <td>2.046116</td>\n",
       "      <td>25.431826</td>\n",
       "      <td>0.855047</td>\n",
       "      <td>00:00</td>\n",
       "    </tr>\n",
       "    <tr>\n",
       "      <td>7</td>\n",
       "      <td>421.027313</td>\n",
       "      <td>1333.327393</td>\n",
       "      <td>36.514755</td>\n",
       "      <td>24.219067</td>\n",
       "      <td>1.236455</td>\n",
       "      <td>0.820101</td>\n",
       "      <td>24.838930</td>\n",
       "      <td>0.853493</td>\n",
       "      <td>00:00</td>\n",
       "    </tr>\n",
       "    <tr>\n",
       "      <td>8</td>\n",
       "      <td>390.914093</td>\n",
       "      <td>1333.086548</td>\n",
       "      <td>36.511456</td>\n",
       "      <td>24.216879</td>\n",
       "      <td>2.962276</td>\n",
       "      <td>1.964782</td>\n",
       "      <td>25.244436</td>\n",
       "      <td>0.853520</td>\n",
       "      <td>00:00</td>\n",
       "    </tr>\n",
       "    <tr>\n",
       "      <td>9</td>\n",
       "      <td>359.512360</td>\n",
       "      <td>1324.154053</td>\n",
       "      <td>36.388927</td>\n",
       "      <td>24.135609</td>\n",
       "      <td>2.601534</td>\n",
       "      <td>1.725514</td>\n",
       "      <td>25.148689</td>\n",
       "      <td>0.854501</td>\n",
       "      <td>00:00</td>\n",
       "    </tr>\n",
       "  </tbody>\n",
       "</table>"
      ],
      "text/plain": [
       "<IPython.core.display.HTML object>"
      ]
     },
     "metadata": {},
     "output_type": "display_data"
    },
    {
     "data": {
      "text/html": [
       "<table border=\"1\" class=\"dataframe\">\n",
       "  <thead>\n",
       "    <tr style=\"text-align: left;\">\n",
       "      <th>epoch</th>\n",
       "      <th>train_loss</th>\n",
       "      <th>valid_loss</th>\n",
       "      <th>_rmse</th>\n",
       "      <th>_rrmse</th>\n",
       "      <th>_bias</th>\n",
       "      <th>_bias_pct</th>\n",
       "      <th>mae</th>\n",
       "      <th>r2_score</th>\n",
       "      <th>time</th>\n",
       "    </tr>\n",
       "  </thead>\n",
       "  <tbody>\n",
       "    <tr>\n",
       "      <td>0</td>\n",
       "      <td>368.739746</td>\n",
       "      <td>1338.835815</td>\n",
       "      <td>36.590099</td>\n",
       "      <td>24.269039</td>\n",
       "      <td>3.627198</td>\n",
       "      <td>2.405804</td>\n",
       "      <td>25.013647</td>\n",
       "      <td>0.852888</td>\n",
       "      <td>00:00</td>\n",
       "    </tr>\n",
       "    <tr>\n",
       "      <td>1</td>\n",
       "      <td>402.119232</td>\n",
       "      <td>1240.320679</td>\n",
       "      <td>35.218185</td>\n",
       "      <td>23.359093</td>\n",
       "      <td>3.997915</td>\n",
       "      <td>2.651689</td>\n",
       "      <td>24.623798</td>\n",
       "      <td>0.863713</td>\n",
       "      <td>00:00</td>\n",
       "    </tr>\n",
       "    <tr>\n",
       "      <td>2</td>\n",
       "      <td>408.761902</td>\n",
       "      <td>1311.543213</td>\n",
       "      <td>36.215237</td>\n",
       "      <td>24.020405</td>\n",
       "      <td>-5.059272</td>\n",
       "      <td>-3.355653</td>\n",
       "      <td>24.988913</td>\n",
       "      <td>0.855887</td>\n",
       "      <td>00:00</td>\n",
       "    </tr>\n",
       "    <tr>\n",
       "      <td>3</td>\n",
       "      <td>448.075439</td>\n",
       "      <td>1342.473633</td>\n",
       "      <td>36.639782</td>\n",
       "      <td>24.301992</td>\n",
       "      <td>2.264437</td>\n",
       "      <td>1.501929</td>\n",
       "      <td>25.682493</td>\n",
       "      <td>0.852488</td>\n",
       "      <td>00:00</td>\n",
       "    </tr>\n",
       "    <tr>\n",
       "      <td>4</td>\n",
       "      <td>472.398468</td>\n",
       "      <td>1903.500244</td>\n",
       "      <td>43.629120</td>\n",
       "      <td>28.937796</td>\n",
       "      <td>-4.436458</td>\n",
       "      <td>-2.942560</td>\n",
       "      <td>29.770411</td>\n",
       "      <td>0.790843</td>\n",
       "      <td>00:00</td>\n",
       "    </tr>\n",
       "    <tr>\n",
       "      <td>5</td>\n",
       "      <td>464.117859</td>\n",
       "      <td>1556.802856</td>\n",
       "      <td>39.456345</td>\n",
       "      <td>26.170128</td>\n",
       "      <td>-2.314304</td>\n",
       "      <td>-1.535004</td>\n",
       "      <td>27.578867</td>\n",
       "      <td>0.828938</td>\n",
       "      <td>00:00</td>\n",
       "    </tr>\n",
       "    <tr>\n",
       "      <td>6</td>\n",
       "      <td>412.259735</td>\n",
       "      <td>1468.426147</td>\n",
       "      <td>38.320049</td>\n",
       "      <td>25.416460</td>\n",
       "      <td>-1.911634</td>\n",
       "      <td>-1.267926</td>\n",
       "      <td>25.877214</td>\n",
       "      <td>0.838649</td>\n",
       "      <td>00:00</td>\n",
       "    </tr>\n",
       "    <tr>\n",
       "      <td>7</td>\n",
       "      <td>397.517456</td>\n",
       "      <td>1402.060913</td>\n",
       "      <td>37.444103</td>\n",
       "      <td>24.835474</td>\n",
       "      <td>-2.335459</td>\n",
       "      <td>-1.549035</td>\n",
       "      <td>25.515472</td>\n",
       "      <td>0.845941</td>\n",
       "      <td>00:00</td>\n",
       "    </tr>\n",
       "    <tr>\n",
       "      <td>8</td>\n",
       "      <td>386.401550</td>\n",
       "      <td>1317.492676</td>\n",
       "      <td>36.297283</td>\n",
       "      <td>24.074823</td>\n",
       "      <td>3.799156</td>\n",
       "      <td>2.519859</td>\n",
       "      <td>25.317921</td>\n",
       "      <td>0.855233</td>\n",
       "      <td>00:00</td>\n",
       "    </tr>\n",
       "    <tr>\n",
       "      <td>9</td>\n",
       "      <td>356.886749</td>\n",
       "      <td>1332.199463</td>\n",
       "      <td>36.499310</td>\n",
       "      <td>24.208822</td>\n",
       "      <td>2.852945</td>\n",
       "      <td>1.892267</td>\n",
       "      <td>25.408440</td>\n",
       "      <td>0.853617</td>\n",
       "      <td>00:00</td>\n",
       "    </tr>\n",
       "  </tbody>\n",
       "</table>"
      ],
      "text/plain": [
       "<IPython.core.display.HTML object>"
      ]
     },
     "metadata": {},
     "output_type": "display_data"
    }
   ],
   "source": [
    "ensemble.fit_one_cycle(10, 1e-2)"
   ]
  },
  {
   "cell_type": "code",
   "execution_count": 23,
   "metadata": {
    "ExecuteTime": {
     "end_time": "2020-11-12T12:14:48.107791Z",
     "start_time": "2020-11-12T12:14:47.549450Z"
    }
   },
   "outputs": [
    {
     "data": {
      "text/html": [],
      "text/plain": [
       "<IPython.core.display.HTML object>"
      ]
     },
     "metadata": {},
     "output_type": "display_data"
    },
    {
     "data": {
      "text/html": [],
      "text/plain": [
       "<IPython.core.display.HTML object>"
      ]
     },
     "metadata": {},
     "output_type": "display_data"
    },
    {
     "data": {
      "text/html": [],
      "text/plain": [
       "<IPython.core.display.HTML object>"
      ]
     },
     "metadata": {},
     "output_type": "display_data"
    },
    {
     "data": {
      "text/html": [],
      "text/plain": [
       "<IPython.core.display.HTML object>"
      ]
     },
     "metadata": {},
     "output_type": "display_data"
    },
    {
     "data": {
      "text/html": [],
      "text/plain": [
       "<IPython.core.display.HTML object>"
      ]
     },
     "metadata": {},
     "output_type": "display_data"
    },
    {
     "data": {
      "text/html": [],
      "text/plain": [
       "<IPython.core.display.HTML object>"
      ]
     },
     "metadata": {},
     "output_type": "display_data"
    },
    {
     "data": {
      "text/html": [],
      "text/plain": [
       "<IPython.core.display.HTML object>"
      ]
     },
     "metadata": {},
     "output_type": "display_data"
    },
    {
     "data": {
      "text/html": [],
      "text/plain": [
       "<IPython.core.display.HTML object>"
      ]
     },
     "metadata": {},
     "output_type": "display_data"
    },
    {
     "data": {
      "text/html": [],
      "text/plain": [
       "<IPython.core.display.HTML object>"
      ]
     },
     "metadata": {},
     "output_type": "display_data"
    },
    {
     "data": {
      "text/html": [],
      "text/plain": [
       "<IPython.core.display.HTML object>"
      ]
     },
     "metadata": {},
     "output_type": "display_data"
    }
   ],
   "source": [
    "res = ensemble.validate()"
   ]
  },
  {
   "cell_type": "markdown",
   "metadata": {},
   "source": [
    "See ensemble validation results."
   ]
  },
  {
   "cell_type": "code",
   "execution_count": 24,
   "metadata": {
    "ExecuteTime": {
     "end_time": "2020-11-12T12:14:48.119131Z",
     "start_time": "2020-11-12T12:14:48.109363Z"
    }
   },
   "outputs": [
    {
     "data": {
      "text/html": [
       "<div>\n",
       "<style scoped>\n",
       "    .dataframe tbody tr th:only-of-type {\n",
       "        vertical-align: middle;\n",
       "    }\n",
       "\n",
       "    .dataframe tbody tr th {\n",
       "        vertical-align: top;\n",
       "    }\n",
       "\n",
       "    .dataframe thead th {\n",
       "        text-align: right;\n",
       "    }\n",
       "</style>\n",
       "<table border=\"1\" class=\"dataframe\">\n",
       "  <thead>\n",
       "    <tr style=\"text-align: right;\">\n",
       "      <th></th>\n",
       "      <th>model_identifier</th>\n",
       "      <th>_rmse</th>\n",
       "      <th>_rrmse</th>\n",
       "      <th>_bias</th>\n",
       "      <th>_bias_pct</th>\n",
       "      <th>mae</th>\n",
       "      <th>r2_score</th>\n",
       "    </tr>\n",
       "  </thead>\n",
       "  <tbody>\n",
       "    <tr>\n",
       "      <th>0</th>\n",
       "      <td>ensemble</td>\n",
       "      <td>36.49931</td>\n",
       "      <td>24.208822</td>\n",
       "      <td>2.852945</td>\n",
       "      <td>1.892267</td>\n",
       "      <td>25.408442</td>\n",
       "      <td>0.853617</td>\n",
       "    </tr>\n",
       "    <tr>\n",
       "      <th>1</th>\n",
       "      <td>0</td>\n",
       "      <td>36.49931</td>\n",
       "      <td>24.208822</td>\n",
       "      <td>2.852945</td>\n",
       "      <td>1.892267</td>\n",
       "      <td>25.408442</td>\n",
       "      <td>0.853617</td>\n",
       "    </tr>\n",
       "    <tr>\n",
       "      <th>2</th>\n",
       "      <td>1</td>\n",
       "      <td>36.49931</td>\n",
       "      <td>24.208822</td>\n",
       "      <td>2.852945</td>\n",
       "      <td>1.892267</td>\n",
       "      <td>25.408442</td>\n",
       "      <td>0.853617</td>\n",
       "    </tr>\n",
       "    <tr>\n",
       "      <th>3</th>\n",
       "      <td>2</td>\n",
       "      <td>36.49931</td>\n",
       "      <td>24.208822</td>\n",
       "      <td>2.852945</td>\n",
       "      <td>1.892267</td>\n",
       "      <td>25.408442</td>\n",
       "      <td>0.853617</td>\n",
       "    </tr>\n",
       "    <tr>\n",
       "      <th>4</th>\n",
       "      <td>3</td>\n",
       "      <td>36.49931</td>\n",
       "      <td>24.208822</td>\n",
       "      <td>2.852945</td>\n",
       "      <td>1.892267</td>\n",
       "      <td>25.408442</td>\n",
       "      <td>0.853617</td>\n",
       "    </tr>\n",
       "    <tr>\n",
       "      <th>5</th>\n",
       "      <td>4</td>\n",
       "      <td>36.49931</td>\n",
       "      <td>24.208822</td>\n",
       "      <td>2.852945</td>\n",
       "      <td>1.892267</td>\n",
       "      <td>25.408442</td>\n",
       "      <td>0.853617</td>\n",
       "    </tr>\n",
       "    <tr>\n",
       "      <th>6</th>\n",
       "      <td>5</td>\n",
       "      <td>36.49931</td>\n",
       "      <td>24.208822</td>\n",
       "      <td>2.852945</td>\n",
       "      <td>1.892267</td>\n",
       "      <td>25.408442</td>\n",
       "      <td>0.853617</td>\n",
       "    </tr>\n",
       "    <tr>\n",
       "      <th>7</th>\n",
       "      <td>6</td>\n",
       "      <td>36.49931</td>\n",
       "      <td>24.208822</td>\n",
       "      <td>2.852945</td>\n",
       "      <td>1.892267</td>\n",
       "      <td>25.408442</td>\n",
       "      <td>0.853617</td>\n",
       "    </tr>\n",
       "    <tr>\n",
       "      <th>8</th>\n",
       "      <td>7</td>\n",
       "      <td>36.49931</td>\n",
       "      <td>24.208822</td>\n",
       "      <td>2.852945</td>\n",
       "      <td>1.892267</td>\n",
       "      <td>25.408442</td>\n",
       "      <td>0.853617</td>\n",
       "    </tr>\n",
       "    <tr>\n",
       "      <th>9</th>\n",
       "      <td>8</td>\n",
       "      <td>36.49931</td>\n",
       "      <td>24.208822</td>\n",
       "      <td>2.852945</td>\n",
       "      <td>1.892267</td>\n",
       "      <td>25.408442</td>\n",
       "      <td>0.853617</td>\n",
       "    </tr>\n",
       "    <tr>\n",
       "      <th>10</th>\n",
       "      <td>9</td>\n",
       "      <td>36.49931</td>\n",
       "      <td>24.208822</td>\n",
       "      <td>2.852945</td>\n",
       "      <td>1.892267</td>\n",
       "      <td>25.408442</td>\n",
       "      <td>0.853617</td>\n",
       "    </tr>\n",
       "  </tbody>\n",
       "</table>\n",
       "</div>"
      ],
      "text/plain": [
       "   model_identifier     _rmse     _rrmse     _bias  _bias_pct        mae  \\\n",
       "0          ensemble  36.49931  24.208822  2.852945   1.892267  25.408442   \n",
       "1                 0  36.49931  24.208822  2.852945   1.892267  25.408442   \n",
       "2                 1  36.49931  24.208822  2.852945   1.892267  25.408442   \n",
       "3                 2  36.49931  24.208822  2.852945   1.892267  25.408442   \n",
       "4                 3  36.49931  24.208822  2.852945   1.892267  25.408442   \n",
       "5                 4  36.49931  24.208822  2.852945   1.892267  25.408442   \n",
       "6                 5  36.49931  24.208822  2.852945   1.892267  25.408442   \n",
       "7                 6  36.49931  24.208822  2.852945   1.892267  25.408442   \n",
       "8                 7  36.49931  24.208822  2.852945   1.892267  25.408442   \n",
       "9                 8  36.49931  24.208822  2.852945   1.892267  25.408442   \n",
       "10                9  36.49931  24.208822  2.852945   1.892267  25.408442   \n",
       "\n",
       "    r2_score  \n",
       "0   0.853617  \n",
       "1   0.853617  \n",
       "2   0.853617  \n",
       "3   0.853617  \n",
       "4   0.853617  \n",
       "5   0.853617  \n",
       "6   0.853617  \n",
       "7   0.853617  \n",
       "8   0.853617  \n",
       "9   0.853617  \n",
       "10  0.853617  "
      ]
     },
     "execution_count": 24,
     "metadata": {},
     "output_type": "execute_result"
    }
   ],
   "source": [
    "res"
   ]
  },
  {
   "cell_type": "code",
   "execution_count": 25,
   "metadata": {
    "ExecuteTime": {
     "end_time": "2020-11-12T12:14:48.622680Z",
     "start_time": "2020-11-12T12:14:48.121759Z"
    }
   },
   "outputs": [
    {
     "data": {
      "text/html": [],
      "text/plain": [
       "<IPython.core.display.HTML object>"
      ]
     },
     "metadata": {},
     "output_type": "display_data"
    },
    {
     "data": {
      "text/html": [],
      "text/plain": [
       "<IPython.core.display.HTML object>"
      ]
     },
     "metadata": {},
     "output_type": "display_data"
    },
    {
     "data": {
      "text/html": [],
      "text/plain": [
       "<IPython.core.display.HTML object>"
      ]
     },
     "metadata": {},
     "output_type": "display_data"
    },
    {
     "data": {
      "text/html": [],
      "text/plain": [
       "<IPython.core.display.HTML object>"
      ]
     },
     "metadata": {},
     "output_type": "display_data"
    },
    {
     "data": {
      "text/html": [],
      "text/plain": [
       "<IPython.core.display.HTML object>"
      ]
     },
     "metadata": {},
     "output_type": "display_data"
    },
    {
     "data": {
      "text/html": [],
      "text/plain": [
       "<IPython.core.display.HTML object>"
      ]
     },
     "metadata": {},
     "output_type": "display_data"
    },
    {
     "data": {
      "text/html": [],
      "text/plain": [
       "<IPython.core.display.HTML object>"
      ]
     },
     "metadata": {},
     "output_type": "display_data"
    },
    {
     "data": {
      "text/html": [],
      "text/plain": [
       "<IPython.core.display.HTML object>"
      ]
     },
     "metadata": {},
     "output_type": "display_data"
    },
    {
     "data": {
      "text/html": [],
      "text/plain": [
       "<IPython.core.display.HTML object>"
      ]
     },
     "metadata": {},
     "output_type": "display_data"
    },
    {
     "data": {
      "text/html": [],
      "text/plain": [
       "<IPython.core.display.HTML object>"
      ]
     },
     "metadata": {},
     "output_type": "display_data"
    }
   ],
   "source": [
    "ens_int = RegressionInterpretation.from_ensemble(ensemble)"
   ]
  },
  {
   "cell_type": "code",
   "execution_count": 26,
   "metadata": {
    "ExecuteTime": {
     "end_time": "2020-11-12T12:14:48.927930Z",
     "start_time": "2020-11-12T12:14:48.624742Z"
    }
   },
   "outputs": [
    {
     "data": {
      "image/png": "[encoded data removed]",
      "text/plain": [
       "<Figure size 504x432 with 2 Axes>"
      ]
     },
     "metadata": {
      "needs_background": "light"
     },
     "output_type": "display_data"
    }
   ],
   "source": [
    "ens_int.plot_results()\n",
    "plt.show()"
   ]
  },
  {
   "cell_type": "markdown",
   "metadata": {},
   "source": [
    "Run test set predictions."
   ]
  },
  {
   "cell_type": "code",
   "execution_count": 27,
   "metadata": {
    "ExecuteTime": {
     "end_time": "2020-11-12T12:14:49.443514Z",
     "start_time": "2020-11-12T12:14:48.929538Z"
    }
   },
   "outputs": [
    {
     "data": {
      "text/html": [],
      "text/plain": [
       "<IPython.core.display.HTML object>"
      ]
     },
     "metadata": {},
     "output_type": "display_data"
    },
    {
     "data": {
      "text/html": [],
      "text/plain": [
       "<IPython.core.display.HTML object>"
      ]
     },
     "metadata": {},
     "output_type": "display_data"
    },
    {
     "data": {
      "text/html": [],
      "text/plain": [
       "<IPython.core.display.HTML object>"
      ]
     },
     "metadata": {},
     "output_type": "display_data"
    },
    {
     "data": {
      "text/html": [],
      "text/plain": [
       "<IPython.core.display.HTML object>"
      ]
     },
     "metadata": {},
     "output_type": "display_data"
    },
    {
     "data": {
      "text/html": [],
      "text/plain": [
       "<IPython.core.display.HTML object>"
      ]
     },
     "metadata": {},
     "output_type": "display_data"
    },
    {
     "data": {
      "text/html": [],
      "text/plain": [
       "<IPython.core.display.HTML object>"
      ]
     },
     "metadata": {},
     "output_type": "display_data"
    },
    {
     "data": {
      "text/html": [],
      "text/plain": [
       "<IPython.core.display.HTML object>"
      ]
     },
     "metadata": {},
     "output_type": "display_data"
    },
    {
     "data": {
      "text/html": [],
      "text/plain": [
       "<IPython.core.display.HTML object>"
      ]
     },
     "metadata": {},
     "output_type": "display_data"
    },
    {
     "data": {
      "text/html": [],
      "text/plain": [
       "<IPython.core.display.HTML object>"
      ]
     },
     "metadata": {},
     "output_type": "display_data"
    },
    {
     "data": {
      "text/html": [],
      "text/plain": [
       "<IPython.core.display.HTML object>"
      ]
     },
     "metadata": {},
     "output_type": "display_data"
    },
    {
     "data": {
      "text/html": [
       "<div>\n",
       "<style scoped>\n",
       "    .dataframe tbody tr th:only-of-type {\n",
       "        vertical-align: middle;\n",
       "    }\n",
       "\n",
       "    .dataframe tbody tr th {\n",
       "        vertical-align: top;\n",
       "    }\n",
       "\n",
       "    .dataframe thead th {\n",
       "        text-align: right;\n",
       "    }\n",
       "</style>\n",
       "<table border=\"1\" class=\"dataframe\">\n",
       "  <thead>\n",
       "    <tr style=\"text-align: right;\">\n",
       "      <th></th>\n",
       "      <th>model_identifier</th>\n",
       "      <th>_rmse</th>\n",
       "      <th>_rrmse</th>\n",
       "      <th>_bias</th>\n",
       "      <th>_bias_pct</th>\n",
       "      <th>mae</th>\n",
       "      <th>r2_score</th>\n",
       "    </tr>\n",
       "  </thead>\n",
       "  <tbody>\n",
       "    <tr>\n",
       "      <th>0</th>\n",
       "      <td>ensemble</td>\n",
       "      <td>38.323112</td>\n",
       "      <td>25.210312</td>\n",
       "      <td>2.009181</td>\n",
       "      <td>1.321711</td>\n",
       "      <td>25.328434</td>\n",
       "      <td>0.843933</td>\n",
       "    </tr>\n",
       "    <tr>\n",
       "      <th>1</th>\n",
       "      <td>0</td>\n",
       "      <td>38.323112</td>\n",
       "      <td>25.210312</td>\n",
       "      <td>2.009181</td>\n",
       "      <td>1.321711</td>\n",
       "      <td>25.328430</td>\n",
       "      <td>0.843933</td>\n",
       "    </tr>\n",
       "    <tr>\n",
       "      <th>2</th>\n",
       "      <td>1</td>\n",
       "      <td>38.323112</td>\n",
       "      <td>25.210312</td>\n",
       "      <td>2.009181</td>\n",
       "      <td>1.321711</td>\n",
       "      <td>25.328430</td>\n",
       "      <td>0.843933</td>\n",
       "    </tr>\n",
       "    <tr>\n",
       "      <th>3</th>\n",
       "      <td>2</td>\n",
       "      <td>38.323112</td>\n",
       "      <td>25.210312</td>\n",
       "      <td>2.009181</td>\n",
       "      <td>1.321711</td>\n",
       "      <td>25.328430</td>\n",
       "      <td>0.843933</td>\n",
       "    </tr>\n",
       "    <tr>\n",
       "      <th>4</th>\n",
       "      <td>3</td>\n",
       "      <td>38.323112</td>\n",
       "      <td>25.210312</td>\n",
       "      <td>2.009181</td>\n",
       "      <td>1.321711</td>\n",
       "      <td>25.328430</td>\n",
       "      <td>0.843933</td>\n",
       "    </tr>\n",
       "    <tr>\n",
       "      <th>5</th>\n",
       "      <td>4</td>\n",
       "      <td>38.323112</td>\n",
       "      <td>25.210312</td>\n",
       "      <td>2.009181</td>\n",
       "      <td>1.321711</td>\n",
       "      <td>25.328430</td>\n",
       "      <td>0.843933</td>\n",
       "    </tr>\n",
       "    <tr>\n",
       "      <th>6</th>\n",
       "      <td>5</td>\n",
       "      <td>38.323112</td>\n",
       "      <td>25.210312</td>\n",
       "      <td>2.009181</td>\n",
       "      <td>1.321711</td>\n",
       "      <td>25.328430</td>\n",
       "      <td>0.843933</td>\n",
       "    </tr>\n",
       "    <tr>\n",
       "      <th>7</th>\n",
       "      <td>6</td>\n",
       "      <td>38.323112</td>\n",
       "      <td>25.210312</td>\n",
       "      <td>2.009181</td>\n",
       "      <td>1.321711</td>\n",
       "      <td>25.328430</td>\n",
       "      <td>0.843933</td>\n",
       "    </tr>\n",
       "    <tr>\n",
       "      <th>8</th>\n",
       "      <td>7</td>\n",
       "      <td>38.323112</td>\n",
       "      <td>25.210312</td>\n",
       "      <td>2.009181</td>\n",
       "      <td>1.321711</td>\n",
       "      <td>25.328430</td>\n",
       "      <td>0.843933</td>\n",
       "    </tr>\n",
       "    <tr>\n",
       "      <th>9</th>\n",
       "      <td>8</td>\n",
       "      <td>38.323112</td>\n",
       "      <td>25.210312</td>\n",
       "      <td>2.009181</td>\n",
       "      <td>1.321711</td>\n",
       "      <td>25.328430</td>\n",
       "      <td>0.843933</td>\n",
       "    </tr>\n",
       "    <tr>\n",
       "      <th>10</th>\n",
       "      <td>9</td>\n",
       "      <td>38.323112</td>\n",
       "      <td>25.210312</td>\n",
       "      <td>2.009181</td>\n",
       "      <td>1.321711</td>\n",
       "      <td>25.328430</td>\n",
       "      <td>0.843933</td>\n",
       "    </tr>\n",
       "  </tbody>\n",
       "</table>\n",
       "</div>"
      ],
      "text/plain": [
       "   model_identifier      _rmse     _rrmse     _bias  _bias_pct        mae  \\\n",
       "0          ensemble  38.323112  25.210312  2.009181   1.321711  25.328434   \n",
       "1                 0  38.323112  25.210312  2.009181   1.321711  25.328430   \n",
       "2                 1  38.323112  25.210312  2.009181   1.321711  25.328430   \n",
       "3                 2  38.323112  25.210312  2.009181   1.321711  25.328430   \n",
       "4                 3  38.323112  25.210312  2.009181   1.321711  25.328430   \n",
       "5                 4  38.323112  25.210312  2.009181   1.321711  25.328430   \n",
       "6                 5  38.323112  25.210312  2.009181   1.321711  25.328430   \n",
       "7                 6  38.323112  25.210312  2.009181   1.321711  25.328430   \n",
       "8                 7  38.323112  25.210312  2.009181   1.321711  25.328430   \n",
       "9                 8  38.323112  25.210312  2.009181   1.321711  25.328430   \n",
       "10                9  38.323112  25.210312  2.009181   1.321711  25.328430   \n",
       "\n",
       "    r2_score  \n",
       "0   0.843933  \n",
       "1   0.843933  \n",
       "2   0.843933  \n",
       "3   0.843933  \n",
       "4   0.843933  \n",
       "5   0.843933  \n",
       "6   0.843933  \n",
       "7   0.843933  \n",
       "8   0.843933  \n",
       "9   0.843933  \n",
       "10  0.843933  "
      ]
     },
     "execution_count": 27,
     "metadata": {},
     "output_type": "execute_result"
    }
   ],
   "source": [
    "test_res = ensemble.validate(dl=test_dls[0])\n",
    "test_res"
   ]
  },
  {
   "cell_type": "code",
   "execution_count": 28,
   "metadata": {
    "ExecuteTime": {
     "end_time": "2020-11-12T12:14:49.914086Z",
     "start_time": "2020-11-12T12:14:49.444990Z"
    }
   },
   "outputs": [
    {
     "data": {
      "text/html": [],
      "text/plain": [
       "<IPython.core.display.HTML object>"
      ]
     },
     "metadata": {},
     "output_type": "display_data"
    },
    {
     "data": {
      "text/html": [],
      "text/plain": [
       "<IPython.core.display.HTML object>"
      ]
     },
     "metadata": {},
     "output_type": "display_data"
    },
    {
     "data": {
      "text/html": [],
      "text/plain": [
       "<IPython.core.display.HTML object>"
      ]
     },
     "metadata": {},
     "output_type": "display_data"
    },
    {
     "data": {
      "text/html": [],
      "text/plain": [
       "<IPython.core.display.HTML object>"
      ]
     },
     "metadata": {},
     "output_type": "display_data"
    },
    {
     "data": {
      "text/html": [],
      "text/plain": [
       "<IPython.core.display.HTML object>"
      ]
     },
     "metadata": {},
     "output_type": "display_data"
    },
    {
     "data": {
      "text/html": [],
      "text/plain": [
       "<IPython.core.display.HTML object>"
      ]
     },
     "metadata": {},
     "output_type": "display_data"
    },
    {
     "data": {
      "text/html": [],
      "text/plain": [
       "<IPython.core.display.HTML object>"
      ]
     },
     "metadata": {},
     "output_type": "display_data"
    },
    {
     "data": {
      "text/html": [],
      "text/plain": [
       "<IPython.core.display.HTML object>"
      ]
     },
     "metadata": {},
     "output_type": "display_data"
    },
    {
     "data": {
      "text/html": [],
      "text/plain": [
       "<IPython.core.display.HTML object>"
      ]
     },
     "metadata": {},
     "output_type": "display_data"
    },
    {
     "data": {
      "text/html": [],
      "text/plain": [
       "<IPython.core.display.HTML object>"
      ]
     },
     "metadata": {},
     "output_type": "display_data"
    }
   ],
   "source": [
    "test_ens_interp = RegressionInterpretation.from_ensemble(ensemble, dl=test_dls[0])"
   ]
  },
  {
   "cell_type": "code",
   "execution_count": 29,
   "metadata": {
    "ExecuteTime": {
     "end_time": "2020-11-12T12:14:50.240328Z",
     "start_time": "2020-11-12T12:14:49.916199Z"
    }
   },
   "outputs": [
    {
     "data": {
      "image/png": "[encoded data removed]",
      "text/plain": [
       "<Figure size 504x432 with 2 Axes>"
      ]
     },
     "metadata": {
      "needs_background": "light"
     },
     "output_type": "display_data"
    }
   ],
   "source": [
    "test_ens_interp.plot_results()\n",
    "plt.show()"
   ]
  },
  {
   "cell_type": "markdown",
   "metadata": {},
   "source": [
    "# Comparison: Random forest"
   ]
  },
  {
   "cell_type": "markdown",
   "metadata": {},
   "source": [
    "`TabularPandas` makes it simple to use sklearn models with the same data and preprocessing."
   ]
  },
  {
   "cell_type": "code",
   "execution_count": 30,
   "metadata": {
    "ExecuteTime": {
     "end_time": "2020-11-12T12:14:50.674747Z",
     "start_time": "2020-11-12T12:14:50.241765Z"
    }
   },
   "outputs": [],
   "source": [
    "from sklearn.ensemble import RandomForestRegressor"
   ]
  },
  {
   "cell_type": "markdown",
   "metadata": {},
   "source": [
    "Below values for max_features and min_samples_leaf should generally work well."
   ]
  },
  {
   "cell_type": "code",
   "execution_count": 31,
   "metadata": {
    "ExecuteTime": {
     "end_time": "2020-11-12T12:14:50.679661Z",
     "start_time": "2020-11-12T12:14:50.676274Z"
    }
   },
   "outputs": [],
   "source": [
    "rf = RandomForestRegressor(n_estimators=500, max_features=0.5, min_samples_leaf=4, oob_score=True)"
   ]
  },
  {
   "cell_type": "code",
   "execution_count": 32,
   "metadata": {
    "ExecuteTime": {
     "end_time": "2020-11-12T12:14:55.232167Z",
     "start_time": "2020-11-12T12:14:50.682038Z"
    }
   },
   "outputs": [
    {
     "data": {
      "text/plain": [
       "RandomForestRegressor(max_features=0.5, min_samples_leaf=4, n_estimators=500,\n",
       "                      oob_score=True)"
      ]
     },
     "execution_count": 32,
     "metadata": {},
     "output_type": "execute_result"
    }
   ],
   "source": [
    "rf.fit(trainval_tb.train.xs, trainval_tb.train.ys.values.ravel())"
   ]
  },
  {
   "cell_type": "code",
   "execution_count": 33,
   "metadata": {
    "ExecuteTime": {
     "end_time": "2020-11-12T12:14:55.280595Z",
     "start_time": "2020-11-12T12:14:55.233545Z"
    }
   },
   "outputs": [],
   "source": [
    "rf_preds = rf.predict(trainval_tb.valid.xs)"
   ]
  },
  {
   "cell_type": "markdown",
   "metadata": {},
   "source": [
    "Validation results"
   ]
  },
  {
   "cell_type": "code",
   "execution_count": 34,
   "metadata": {
    "ExecuteTime": {
     "end_time": "2020-11-12T12:14:55.597289Z",
     "start_time": "2020-11-12T12:14:55.282080Z"
    }
   },
   "outputs": [
    {
     "data": {
      "image/png": "[encoded data removed]",
      "text/plain": [
       "<Figure size 504x432 with 2 Axes>"
      ]
     },
     "metadata": {
      "needs_background": "light"
     },
     "output_type": "display_data"
    }
   ],
   "source": [
    "plot_sklearn_regression(rf, trainval_tb.valid.xs, trainval_tb.valid.ys)\n",
    "plt.show()"
   ]
  },
  {
   "cell_type": "markdown",
   "metadata": {},
   "source": [
    "Test results"
   ]
  },
  {
   "cell_type": "code",
   "execution_count": 35,
   "metadata": {
    "ExecuteTime": {
     "end_time": "2020-11-12T12:14:55.916251Z",
     "start_time": "2020-11-12T12:14:55.598996Z"
    }
   },
   "outputs": [
    {
     "data": {
      "image/png": "[encoded data removed]",
      "text/plain": [
       "<Figure size 504x432 with 2 Axes>"
      ]
     },
     "metadata": {
      "needs_background": "light"
     },
     "output_type": "display_data"
    }
   ],
   "source": [
    "plot_sklearn_regression(rf, test_tb.train.xs, test_tb.train.ys)\n",
    "plt.show()"
   ]
  },
  {
   "cell_type": "markdown",
   "metadata": {},
   "source": [
    "# Comparison: Support Vector Regressor"
   ]
  },
  {
   "cell_type": "code",
   "execution_count": 36,
   "metadata": {
    "ExecuteTime": {
     "end_time": "2020-11-12T12:14:55.920782Z",
     "start_time": "2020-11-12T12:14:55.918377Z"
    }
   },
   "outputs": [],
   "source": [
    "from sklearn.svm import SVR"
   ]
  },
  {
   "cell_type": "code",
   "execution_count": 90,
   "metadata": {
    "ExecuteTime": {
     "end_time": "2020-11-12T12:22:58.505976Z",
     "start_time": "2020-11-12T12:22:58.354003Z"
    }
   },
   "outputs": [
    {
     "data": {
      "text/plain": [
       "SVR(C=128)"
      ]
     },
     "execution_count": 90,
     "metadata": {},
     "output_type": "execute_result"
    }
   ],
   "source": [
    "svr = SVR(kernel='rbf', C=128)\n",
    "svr.fit(trainval_tb.train.xs, trainval_tb.train.ys.values.ravel())"
   ]
  },
  {
   "cell_type": "code",
   "execution_count": 91,
   "metadata": {
    "ExecuteTime": {
     "end_time": "2020-11-12T12:22:58.939454Z",
     "start_time": "2020-11-12T12:22:58.913829Z"
    }
   },
   "outputs": [],
   "source": [
    "svr_preds = svr.predict(trainval_tb.valid.xs)"
   ]
  },
  {
   "cell_type": "code",
   "execution_count": 92,
   "metadata": {
    "ExecuteTime": {
     "end_time": "2020-11-12T12:22:59.527364Z",
     "start_time": "2020-11-12T12:22:59.250460Z"
    }
   },
   "outputs": [
    {
     "data": {
      "image/png": "[encoded data removed]",
      "text/plain": [
       "<Figure size 504x432 with 2 Axes>"
      ]
     },
     "metadata": {
      "needs_background": "light"
     },
     "output_type": "display_data"
    }
   ],
   "source": [
    "plot_sklearn_regression(svr, trainval_tb.valid.xs, trainval_tb.valid.ys)\n",
    "plt.show()"
   ]
  },
  {
   "cell_type": "code",
   "execution_count": 108,
   "metadata": {
    "ExecuteTime": {
     "end_time": "2020-11-12T13:34:05.591294Z",
     "start_time": "2020-11-12T13:34:05.588275Z"
    }
   },
   "outputs": [
    {
     "name": "stdout",
     "output_type": "stream",
     "text": [
      "Object `dls[0].new` not found.\n"
     ]
    }
   ],
   "source": [
    "??dls[0].new"
   ]
  },
  {
   "cell_type": "code",
   "execution_count": 101,
   "metadata": {
    "ExecuteTime": {
     "end_time": "2020-11-12T12:55:43.271080Z",
     "start_time": "2020-11-12T12:55:43.268166Z"
    }
   },
   "outputs": [],
   "source": [
    "train_dls = dls[0].new()"
   ]
  },
  {
   "cell_type": "code",
   "execution_count": 116,
   "metadata": {
    "ExecuteTime": {
     "end_time": "2020-11-12T13:37:53.973015Z",
     "start_time": "2020-11-12T13:37:53.968524Z"
    }
   },
   "outputs": [],
   "source": [
    "new_dls = TabularDataLoaders.from_dsets(train_dls.dataset, path)"
   ]
  },
  {
   "cell_type": "code",
   "execution_count": 117,
   "metadata": {
    "ExecuteTime": {
     "end_time": "2020-11-12T13:37:54.642144Z",
     "start_time": "2020-11-12T13:37:54.603635Z"
    }
   },
   "outputs": [
    {
     "ename": "KeyError",
     "evalue": "660",
     "output_type": "error",
     "traceback": [
      "\u001b[0;31m---------------------------------------------------------------------------\u001b[0m",
      "\u001b[0;31mKeyError\u001b[0m                                  Traceback (most recent call last)",
      "\u001b[0;32m~/miniconda3/envs/enveco/lib/python3.8/site-packages/pandas/core/indexes/base.py\u001b[0m in \u001b[0;36mget_loc\u001b[0;34m(self, key, method, tolerance)\u001b[0m\n\u001b[1;32m   2894\u001b[0m             \u001b[0;32mtry\u001b[0m\u001b[0;34m:\u001b[0m\u001b[0;34m\u001b[0m\u001b[0;34m\u001b[0m\u001b[0m\n\u001b[0;32m-> 2895\u001b[0;31m                 \u001b[0;32mreturn\u001b[0m \u001b[0mself\u001b[0m\u001b[0;34m.\u001b[0m\u001b[0m_engine\u001b[0m\u001b[0;34m.\u001b[0m\u001b[0mget_loc\u001b[0m\u001b[0;34m(\u001b[0m\u001b[0mcasted_key\u001b[0m\u001b[0;34m)\u001b[0m\u001b[0;34m\u001b[0m\u001b[0;34m\u001b[0m\u001b[0m\n\u001b[0m\u001b[1;32m   2896\u001b[0m             \u001b[0;32mexcept\u001b[0m \u001b[0mKeyError\u001b[0m \u001b[0;32mas\u001b[0m \u001b[0merr\u001b[0m\u001b[0;34m:\u001b[0m\u001b[0;34m\u001b[0m\u001b[0;34m\u001b[0m\u001b[0m\n",
      "\u001b[0;32mpandas/_libs/index.pyx\u001b[0m in \u001b[0;36mpandas._libs.index.IndexEngine.get_loc\u001b[0;34m()\u001b[0m\n",
      "\u001b[0;32mpandas/_libs/index.pyx\u001b[0m in \u001b[0;36mpandas._libs.index.IndexEngine.get_loc\u001b[0;34m()\u001b[0m\n",
      "\u001b[0;32mpandas/_libs/hashtable_class_helper.pxi\u001b[0m in \u001b[0;36mpandas._libs.hashtable.PyObjectHashTable.get_item\u001b[0;34m()\u001b[0m\n",
      "\u001b[0;32mpandas/_libs/hashtable_class_helper.pxi\u001b[0m in \u001b[0;36mpandas._libs.hashtable.PyObjectHashTable.get_item\u001b[0;34m()\u001b[0m\n",
      "\u001b[0;31mKeyError\u001b[0m: 660",
      "\nThe above exception was the direct cause of the following exception:\n",
      "\u001b[0;31mKeyError\u001b[0m                                  Traceback (most recent call last)",
      "\u001b[0;32m<ipython-input-117-87743558e760>\u001b[0m in \u001b[0;36m<module>\u001b[0;34m\u001b[0m\n\u001b[0;32m----> 1\u001b[0;31m \u001b[0mnew_dls\u001b[0m\u001b[0;34m.\u001b[0m\u001b[0mshow_batch\u001b[0m\u001b[0;34m(\u001b[0m\u001b[0;34m)\u001b[0m\u001b[0;34m\u001b[0m\u001b[0;34m\u001b[0m\u001b[0m\n\u001b[0m",
      "\u001b[0;32m~/miniconda3/envs/enveco/lib/python3.8/site-packages/fastai/data/core.py\u001b[0m in \u001b[0;36mshow_batch\u001b[0;34m(self, b, max_n, ctxs, show, unique, **kwargs)\u001b[0m\n\u001b[1;32m     98\u001b[0m             \u001b[0mold_get_idxs\u001b[0m \u001b[0;34m=\u001b[0m \u001b[0mself\u001b[0m\u001b[0;34m.\u001b[0m\u001b[0mget_idxs\u001b[0m\u001b[0;34m\u001b[0m\u001b[0;34m\u001b[0m\u001b[0m\n\u001b[1;32m     99\u001b[0m             \u001b[0mself\u001b[0m\u001b[0;34m.\u001b[0m\u001b[0mget_idxs\u001b[0m \u001b[0;34m=\u001b[0m \u001b[0;32mlambda\u001b[0m\u001b[0;34m:\u001b[0m \u001b[0mInf\u001b[0m\u001b[0;34m.\u001b[0m\u001b[0mzeros\u001b[0m\u001b[0;34m\u001b[0m\u001b[0;34m\u001b[0m\u001b[0m\n\u001b[0;32m--> 100\u001b[0;31m         \u001b[0;32mif\u001b[0m \u001b[0mb\u001b[0m \u001b[0;32mis\u001b[0m \u001b[0;32mNone\u001b[0m\u001b[0;34m:\u001b[0m \u001b[0mb\u001b[0m \u001b[0;34m=\u001b[0m \u001b[0mself\u001b[0m\u001b[0;34m.\u001b[0m\u001b[0mone_batch\u001b[0m\u001b[0;34m(\u001b[0m\u001b[0;34m)\u001b[0m\u001b[0;34m\u001b[0m\u001b[0;34m\u001b[0m\u001b[0m\n\u001b[0m\u001b[1;32m    101\u001b[0m         \u001b[0;32mif\u001b[0m \u001b[0;32mnot\u001b[0m \u001b[0mshow\u001b[0m\u001b[0;34m:\u001b[0m \u001b[0;32mreturn\u001b[0m \u001b[0mself\u001b[0m\u001b[0;34m.\u001b[0m\u001b[0m_pre_show_batch\u001b[0m\u001b[0;34m(\u001b[0m\u001b[0mb\u001b[0m\u001b[0;34m,\u001b[0m \u001b[0mmax_n\u001b[0m\u001b[0;34m=\u001b[0m\u001b[0mmax_n\u001b[0m\u001b[0;34m)\u001b[0m\u001b[0;34m\u001b[0m\u001b[0;34m\u001b[0m\u001b[0m\n\u001b[1;32m    102\u001b[0m         \u001b[0mshow_batch\u001b[0m\u001b[0;34m(\u001b[0m\u001b[0;34m*\u001b[0m\u001b[0mself\u001b[0m\u001b[0;34m.\u001b[0m\u001b[0m_pre_show_batch\u001b[0m\u001b[0;34m(\u001b[0m\u001b[0mb\u001b[0m\u001b[0;34m,\u001b[0m \u001b[0mmax_n\u001b[0m\u001b[0;34m=\u001b[0m\u001b[0mmax_n\u001b[0m\u001b[0;34m)\u001b[0m\u001b[0;34m,\u001b[0m \u001b[0mctxs\u001b[0m\u001b[0;34m=\u001b[0m\u001b[0mctxs\u001b[0m\u001b[0;34m,\u001b[0m \u001b[0mmax_n\u001b[0m\u001b[0;34m=\u001b[0m\u001b[0mmax_n\u001b[0m\u001b[0;34m,\u001b[0m \u001b[0;34m**\u001b[0m\u001b[0mkwargs\u001b[0m\u001b[0;34m)\u001b[0m\u001b[0;34m\u001b[0m\u001b[0;34m\u001b[0m\u001b[0m\n",
      "\u001b[0;32m~/miniconda3/envs/enveco/lib/python3.8/site-packages/fastai/data/load.py\u001b[0m in \u001b[0;36mone_batch\u001b[0;34m(self)\u001b[0m\n\u001b[1;32m    134\u001b[0m     \u001b[0;32mdef\u001b[0m \u001b[0mone_batch\u001b[0m\u001b[0;34m(\u001b[0m\u001b[0mself\u001b[0m\u001b[0;34m)\u001b[0m\u001b[0;34m:\u001b[0m\u001b[0;34m\u001b[0m\u001b[0;34m\u001b[0m\u001b[0m\n\u001b[1;32m    135\u001b[0m         \u001b[0;32mif\u001b[0m \u001b[0mself\u001b[0m\u001b[0;34m.\u001b[0m\u001b[0mn\u001b[0m \u001b[0;32mis\u001b[0m \u001b[0;32mnot\u001b[0m \u001b[0;32mNone\u001b[0m \u001b[0;32mand\u001b[0m \u001b[0mlen\u001b[0m\u001b[0;34m(\u001b[0m\u001b[0mself\u001b[0m\u001b[0;34m)\u001b[0m\u001b[0;34m==\u001b[0m\u001b[0;36m0\u001b[0m\u001b[0;34m:\u001b[0m \u001b[0;32mraise\u001b[0m \u001b[0mValueError\u001b[0m\u001b[0;34m(\u001b[0m\u001b[0;34mf'This DataLoader does not contain any batches'\u001b[0m\u001b[0;34m)\u001b[0m\u001b[0;34m\u001b[0m\u001b[0;34m\u001b[0m\u001b[0m\n\u001b[0;32m--> 136\u001b[0;31m         \u001b[0;32mwith\u001b[0m \u001b[0mself\u001b[0m\u001b[0;34m.\u001b[0m\u001b[0mfake_l\u001b[0m\u001b[0;34m.\u001b[0m\u001b[0mno_multiproc\u001b[0m\u001b[0;34m(\u001b[0m\u001b[0;34m)\u001b[0m\u001b[0;34m:\u001b[0m \u001b[0mres\u001b[0m \u001b[0;34m=\u001b[0m \u001b[0mfirst\u001b[0m\u001b[0;34m(\u001b[0m\u001b[0mself\u001b[0m\u001b[0;34m)\u001b[0m\u001b[0;34m\u001b[0m\u001b[0;34m\u001b[0m\u001b[0m\n\u001b[0m\u001b[1;32m    137\u001b[0m         \u001b[0;32mif\u001b[0m \u001b[0mhasattr\u001b[0m\u001b[0;34m(\u001b[0m\u001b[0mself\u001b[0m\u001b[0;34m,\u001b[0m \u001b[0;34m'it'\u001b[0m\u001b[0;34m)\u001b[0m\u001b[0;34m:\u001b[0m \u001b[0mdelattr\u001b[0m\u001b[0;34m(\u001b[0m\u001b[0mself\u001b[0m\u001b[0;34m,\u001b[0m \u001b[0;34m'it'\u001b[0m\u001b[0;34m)\u001b[0m\u001b[0;34m\u001b[0m\u001b[0;34m\u001b[0m\u001b[0m\n\u001b[1;32m    138\u001b[0m         \u001b[0;32mreturn\u001b[0m \u001b[0mres\u001b[0m\u001b[0;34m\u001b[0m\u001b[0;34m\u001b[0m\u001b[0m\n",
      "\u001b[0;32m~/miniconda3/envs/enveco/lib/python3.8/site-packages/fastcore/foundation.py\u001b[0m in \u001b[0;36mfirst\u001b[0;34m(x)\u001b[0m\n\u001b[1;32m    237\u001b[0m \u001b[0;32mdef\u001b[0m \u001b[0mfirst\u001b[0m\u001b[0;34m(\u001b[0m\u001b[0mx\u001b[0m\u001b[0;34m)\u001b[0m\u001b[0;34m:\u001b[0m\u001b[0;34m\u001b[0m\u001b[0;34m\u001b[0m\u001b[0m\n\u001b[1;32m    238\u001b[0m     \u001b[0;34m\"First element of `x`, or None if missing\"\u001b[0m\u001b[0;34m\u001b[0m\u001b[0;34m\u001b[0m\u001b[0m\n\u001b[0;32m--> 239\u001b[0;31m     \u001b[0;32mtry\u001b[0m\u001b[0;34m:\u001b[0m \u001b[0;32mreturn\u001b[0m \u001b[0mnext\u001b[0m\u001b[0;34m(\u001b[0m\u001b[0miter\u001b[0m\u001b[0;34m(\u001b[0m\u001b[0mx\u001b[0m\u001b[0;34m)\u001b[0m\u001b[0;34m)\u001b[0m\u001b[0;34m\u001b[0m\u001b[0;34m\u001b[0m\u001b[0m\n\u001b[0m\u001b[1;32m    240\u001b[0m     \u001b[0;32mexcept\u001b[0m \u001b[0mStopIteration\u001b[0m\u001b[0;34m:\u001b[0m \u001b[0;32mreturn\u001b[0m \u001b[0;32mNone\u001b[0m\u001b[0;34m\u001b[0m\u001b[0;34m\u001b[0m\u001b[0m\n\u001b[1;32m    241\u001b[0m \u001b[0;34m\u001b[0m\u001b[0m\n",
      "\u001b[0;32m~/miniconda3/envs/enveco/lib/python3.8/site-packages/fastai/data/load.py\u001b[0m in \u001b[0;36m__iter__\u001b[0;34m(self)\u001b[0m\n\u001b[1;32m    100\u001b[0m         \u001b[0mself\u001b[0m\u001b[0;34m.\u001b[0m\u001b[0mbefore_iter\u001b[0m\u001b[0;34m(\u001b[0m\u001b[0;34m)\u001b[0m\u001b[0;34m\u001b[0m\u001b[0;34m\u001b[0m\u001b[0m\n\u001b[1;32m    101\u001b[0m         \u001b[0mself\u001b[0m\u001b[0;34m.\u001b[0m\u001b[0m__idxs\u001b[0m\u001b[0;34m=\u001b[0m\u001b[0mself\u001b[0m\u001b[0;34m.\u001b[0m\u001b[0mget_idxs\u001b[0m\u001b[0;34m(\u001b[0m\u001b[0;34m)\u001b[0m \u001b[0;31m# called in context of main process (not workers/subprocesses)\u001b[0m\u001b[0;34m\u001b[0m\u001b[0;34m\u001b[0m\u001b[0m\n\u001b[0;32m--> 102\u001b[0;31m         \u001b[0;32mfor\u001b[0m \u001b[0mb\u001b[0m \u001b[0;32min\u001b[0m \u001b[0m_loaders\u001b[0m\u001b[0;34m[\u001b[0m\u001b[0mself\u001b[0m\u001b[0;34m.\u001b[0m\u001b[0mfake_l\u001b[0m\u001b[0;34m.\u001b[0m\u001b[0mnum_workers\u001b[0m\u001b[0;34m==\u001b[0m\u001b[0;36m0\u001b[0m\u001b[0;34m]\u001b[0m\u001b[0;34m(\u001b[0m\u001b[0mself\u001b[0m\u001b[0;34m.\u001b[0m\u001b[0mfake_l\u001b[0m\u001b[0;34m)\u001b[0m\u001b[0;34m:\u001b[0m\u001b[0;34m\u001b[0m\u001b[0;34m\u001b[0m\u001b[0m\n\u001b[0m\u001b[1;32m    103\u001b[0m             \u001b[0;32mif\u001b[0m \u001b[0mself\u001b[0m\u001b[0;34m.\u001b[0m\u001b[0mdevice\u001b[0m \u001b[0;32mis\u001b[0m \u001b[0;32mnot\u001b[0m \u001b[0;32mNone\u001b[0m\u001b[0;34m:\u001b[0m \u001b[0mb\u001b[0m \u001b[0;34m=\u001b[0m \u001b[0mto_device\u001b[0m\u001b[0;34m(\u001b[0m\u001b[0mb\u001b[0m\u001b[0;34m,\u001b[0m \u001b[0mself\u001b[0m\u001b[0;34m.\u001b[0m\u001b[0mdevice\u001b[0m\u001b[0;34m)\u001b[0m\u001b[0;34m\u001b[0m\u001b[0;34m\u001b[0m\u001b[0m\n\u001b[1;32m    104\u001b[0m             \u001b[0;32myield\u001b[0m \u001b[0mself\u001b[0m\u001b[0;34m.\u001b[0m\u001b[0mafter_batch\u001b[0m\u001b[0;34m(\u001b[0m\u001b[0mb\u001b[0m\u001b[0;34m)\u001b[0m\u001b[0;34m\u001b[0m\u001b[0;34m\u001b[0m\u001b[0m\n",
      "\u001b[0;32m~/miniconda3/envs/enveco/lib/python3.8/site-packages/torch/utils/data/dataloader.py\u001b[0m in \u001b[0;36m__next__\u001b[0;34m(self)\u001b[0m\n\u001b[1;32m    361\u001b[0m \u001b[0;34m\u001b[0m\u001b[0m\n\u001b[1;32m    362\u001b[0m     \u001b[0;32mdef\u001b[0m \u001b[0m__next__\u001b[0m\u001b[0;34m(\u001b[0m\u001b[0mself\u001b[0m\u001b[0;34m)\u001b[0m\u001b[0;34m:\u001b[0m\u001b[0;34m\u001b[0m\u001b[0;34m\u001b[0m\u001b[0m\n\u001b[0;32m--> 363\u001b[0;31m         \u001b[0mdata\u001b[0m \u001b[0;34m=\u001b[0m \u001b[0mself\u001b[0m\u001b[0;34m.\u001b[0m\u001b[0m_next_data\u001b[0m\u001b[0;34m(\u001b[0m\u001b[0;34m)\u001b[0m\u001b[0;34m\u001b[0m\u001b[0;34m\u001b[0m\u001b[0m\n\u001b[0m\u001b[1;32m    364\u001b[0m         \u001b[0mself\u001b[0m\u001b[0;34m.\u001b[0m\u001b[0m_num_yielded\u001b[0m \u001b[0;34m+=\u001b[0m \u001b[0;36m1\u001b[0m\u001b[0;34m\u001b[0m\u001b[0;34m\u001b[0m\u001b[0m\n\u001b[1;32m    365\u001b[0m         \u001b[0;32mif\u001b[0m \u001b[0mself\u001b[0m\u001b[0;34m.\u001b[0m\u001b[0m_dataset_kind\u001b[0m \u001b[0;34m==\u001b[0m \u001b[0m_DatasetKind\u001b[0m\u001b[0;34m.\u001b[0m\u001b[0mIterable\u001b[0m \u001b[0;32mand\u001b[0m\u001b[0;31m \u001b[0m\u001b[0;31m\\\u001b[0m\u001b[0;34m\u001b[0m\u001b[0;34m\u001b[0m\u001b[0m\n",
      "\u001b[0;32m~/miniconda3/envs/enveco/lib/python3.8/site-packages/torch/utils/data/dataloader.py\u001b[0m in \u001b[0;36m_next_data\u001b[0;34m(self)\u001b[0m\n\u001b[1;32m    401\u001b[0m     \u001b[0;32mdef\u001b[0m \u001b[0m_next_data\u001b[0m\u001b[0;34m(\u001b[0m\u001b[0mself\u001b[0m\u001b[0;34m)\u001b[0m\u001b[0;34m:\u001b[0m\u001b[0;34m\u001b[0m\u001b[0;34m\u001b[0m\u001b[0m\n\u001b[1;32m    402\u001b[0m         \u001b[0mindex\u001b[0m \u001b[0;34m=\u001b[0m \u001b[0mself\u001b[0m\u001b[0;34m.\u001b[0m\u001b[0m_next_index\u001b[0m\u001b[0;34m(\u001b[0m\u001b[0;34m)\u001b[0m  \u001b[0;31m# may raise StopIteration\u001b[0m\u001b[0;34m\u001b[0m\u001b[0;34m\u001b[0m\u001b[0m\n\u001b[0;32m--> 403\u001b[0;31m         \u001b[0mdata\u001b[0m \u001b[0;34m=\u001b[0m \u001b[0mself\u001b[0m\u001b[0;34m.\u001b[0m\u001b[0m_dataset_fetcher\u001b[0m\u001b[0;34m.\u001b[0m\u001b[0mfetch\u001b[0m\u001b[0;34m(\u001b[0m\u001b[0mindex\u001b[0m\u001b[0;34m)\u001b[0m  \u001b[0;31m# may raise StopIteration\u001b[0m\u001b[0;34m\u001b[0m\u001b[0;34m\u001b[0m\u001b[0m\n\u001b[0m\u001b[1;32m    404\u001b[0m         \u001b[0;32mif\u001b[0m \u001b[0mself\u001b[0m\u001b[0;34m.\u001b[0m\u001b[0m_pin_memory\u001b[0m\u001b[0;34m:\u001b[0m\u001b[0;34m\u001b[0m\u001b[0;34m\u001b[0m\u001b[0m\n\u001b[1;32m    405\u001b[0m             \u001b[0mdata\u001b[0m \u001b[0;34m=\u001b[0m \u001b[0m_utils\u001b[0m\u001b[0;34m.\u001b[0m\u001b[0mpin_memory\u001b[0m\u001b[0;34m.\u001b[0m\u001b[0mpin_memory\u001b[0m\u001b[0;34m(\u001b[0m\u001b[0mdata\u001b[0m\u001b[0;34m)\u001b[0m\u001b[0;34m\u001b[0m\u001b[0;34m\u001b[0m\u001b[0m\n",
      "\u001b[0;32m~/miniconda3/envs/enveco/lib/python3.8/site-packages/torch/utils/data/_utils/fetch.py\u001b[0m in \u001b[0;36mfetch\u001b[0;34m(self, possibly_batched_index)\u001b[0m\n\u001b[1;32m     32\u001b[0m                 \u001b[0;32mraise\u001b[0m \u001b[0mStopIteration\u001b[0m\u001b[0;34m\u001b[0m\u001b[0;34m\u001b[0m\u001b[0m\n\u001b[1;32m     33\u001b[0m         \u001b[0;32melse\u001b[0m\u001b[0;34m:\u001b[0m\u001b[0;34m\u001b[0m\u001b[0;34m\u001b[0m\u001b[0m\n\u001b[0;32m---> 34\u001b[0;31m             \u001b[0mdata\u001b[0m \u001b[0;34m=\u001b[0m \u001b[0mnext\u001b[0m\u001b[0;34m(\u001b[0m\u001b[0mself\u001b[0m\u001b[0;34m.\u001b[0m\u001b[0mdataset_iter\u001b[0m\u001b[0;34m)\u001b[0m\u001b[0;34m\u001b[0m\u001b[0;34m\u001b[0m\u001b[0m\n\u001b[0m\u001b[1;32m     35\u001b[0m         \u001b[0;32mreturn\u001b[0m \u001b[0mself\u001b[0m\u001b[0;34m.\u001b[0m\u001b[0mcollate_fn\u001b[0m\u001b[0;34m(\u001b[0m\u001b[0mdata\u001b[0m\u001b[0;34m)\u001b[0m\u001b[0;34m\u001b[0m\u001b[0;34m\u001b[0m\u001b[0m\n\u001b[1;32m     36\u001b[0m \u001b[0;34m\u001b[0m\u001b[0m\n",
      "\u001b[0;32m~/miniconda3/envs/enveco/lib/python3.8/site-packages/fastai/data/load.py\u001b[0m in \u001b[0;36mcreate_batches\u001b[0;34m(self, samps)\u001b[0m\n\u001b[1;32m    109\u001b[0m         \u001b[0mself\u001b[0m\u001b[0;34m.\u001b[0m\u001b[0mit\u001b[0m \u001b[0;34m=\u001b[0m \u001b[0miter\u001b[0m\u001b[0;34m(\u001b[0m\u001b[0mself\u001b[0m\u001b[0;34m.\u001b[0m\u001b[0mdataset\u001b[0m\u001b[0;34m)\u001b[0m \u001b[0;32mif\u001b[0m \u001b[0mself\u001b[0m\u001b[0;34m.\u001b[0m\u001b[0mdataset\u001b[0m \u001b[0;32mis\u001b[0m \u001b[0;32mnot\u001b[0m \u001b[0;32mNone\u001b[0m \u001b[0;32melse\u001b[0m \u001b[0;32mNone\u001b[0m\u001b[0;34m\u001b[0m\u001b[0;34m\u001b[0m\u001b[0m\n\u001b[1;32m    110\u001b[0m         \u001b[0mres\u001b[0m \u001b[0;34m=\u001b[0m \u001b[0mfilter\u001b[0m\u001b[0;34m(\u001b[0m\u001b[0;32mlambda\u001b[0m \u001b[0mo\u001b[0m\u001b[0;34m:\u001b[0m\u001b[0mo\u001b[0m \u001b[0;32mis\u001b[0m \u001b[0;32mnot\u001b[0m \u001b[0;32mNone\u001b[0m\u001b[0;34m,\u001b[0m \u001b[0mmap\u001b[0m\u001b[0;34m(\u001b[0m\u001b[0mself\u001b[0m\u001b[0;34m.\u001b[0m\u001b[0mdo_item\u001b[0m\u001b[0;34m,\u001b[0m \u001b[0msamps\u001b[0m\u001b[0;34m)\u001b[0m\u001b[0;34m)\u001b[0m\u001b[0;34m\u001b[0m\u001b[0;34m\u001b[0m\u001b[0m\n\u001b[0;32m--> 111\u001b[0;31m         \u001b[0;32myield\u001b[0m \u001b[0;32mfrom\u001b[0m \u001b[0mmap\u001b[0m\u001b[0;34m(\u001b[0m\u001b[0mself\u001b[0m\u001b[0;34m.\u001b[0m\u001b[0mdo_batch\u001b[0m\u001b[0;34m,\u001b[0m \u001b[0mself\u001b[0m\u001b[0;34m.\u001b[0m\u001b[0mchunkify\u001b[0m\u001b[0;34m(\u001b[0m\u001b[0mres\u001b[0m\u001b[0;34m)\u001b[0m\u001b[0;34m)\u001b[0m\u001b[0;34m\u001b[0m\u001b[0;34m\u001b[0m\u001b[0m\n\u001b[0m\u001b[1;32m    112\u001b[0m \u001b[0;34m\u001b[0m\u001b[0m\n\u001b[1;32m    113\u001b[0m     \u001b[0;32mdef\u001b[0m \u001b[0mnew\u001b[0m\u001b[0;34m(\u001b[0m\u001b[0mself\u001b[0m\u001b[0;34m,\u001b[0m \u001b[0mdataset\u001b[0m\u001b[0;34m=\u001b[0m\u001b[0;32mNone\u001b[0m\u001b[0;34m,\u001b[0m \u001b[0mcls\u001b[0m\u001b[0;34m=\u001b[0m\u001b[0;32mNone\u001b[0m\u001b[0;34m,\u001b[0m \u001b[0;34m**\u001b[0m\u001b[0mkwargs\u001b[0m\u001b[0;34m)\u001b[0m\u001b[0;34m:\u001b[0m\u001b[0;34m\u001b[0m\u001b[0;34m\u001b[0m\u001b[0m\n",
      "\u001b[0;32m~/miniconda3/envs/enveco/lib/python3.8/site-packages/fastcore/utils.py\u001b[0m in \u001b[0;36mchunked\u001b[0;34m(it, chunk_sz, drop_last, n_chunks)\u001b[0m\n\u001b[1;32m    163\u001b[0m     \u001b[0;32mif\u001b[0m \u001b[0;32mnot\u001b[0m \u001b[0misinstance\u001b[0m\u001b[0;34m(\u001b[0m\u001b[0mit\u001b[0m\u001b[0;34m,\u001b[0m \u001b[0mIterator\u001b[0m\u001b[0;34m)\u001b[0m\u001b[0;34m:\u001b[0m \u001b[0mit\u001b[0m \u001b[0;34m=\u001b[0m \u001b[0miter\u001b[0m\u001b[0;34m(\u001b[0m\u001b[0mit\u001b[0m\u001b[0;34m)\u001b[0m\u001b[0;34m\u001b[0m\u001b[0;34m\u001b[0m\u001b[0m\n\u001b[1;32m    164\u001b[0m     \u001b[0;32mwhile\u001b[0m \u001b[0;32mTrue\u001b[0m\u001b[0;34m:\u001b[0m\u001b[0;34m\u001b[0m\u001b[0;34m\u001b[0m\u001b[0m\n\u001b[0;32m--> 165\u001b[0;31m         \u001b[0mres\u001b[0m \u001b[0;34m=\u001b[0m \u001b[0mlist\u001b[0m\u001b[0;34m(\u001b[0m\u001b[0mitertools\u001b[0m\u001b[0;34m.\u001b[0m\u001b[0mislice\u001b[0m\u001b[0;34m(\u001b[0m\u001b[0mit\u001b[0m\u001b[0;34m,\u001b[0m \u001b[0mchunk_sz\u001b[0m\u001b[0;34m)\u001b[0m\u001b[0;34m)\u001b[0m\u001b[0;34m\u001b[0m\u001b[0;34m\u001b[0m\u001b[0m\n\u001b[0m\u001b[1;32m    166\u001b[0m         \u001b[0;32mif\u001b[0m \u001b[0mres\u001b[0m \u001b[0;32mand\u001b[0m \u001b[0;34m(\u001b[0m\u001b[0mlen\u001b[0m\u001b[0;34m(\u001b[0m\u001b[0mres\u001b[0m\u001b[0;34m)\u001b[0m\u001b[0;34m==\u001b[0m\u001b[0mchunk_sz\u001b[0m \u001b[0;32mor\u001b[0m \u001b[0;32mnot\u001b[0m \u001b[0mdrop_last\u001b[0m\u001b[0;34m)\u001b[0m\u001b[0;34m:\u001b[0m \u001b[0;32myield\u001b[0m \u001b[0mres\u001b[0m\u001b[0;34m\u001b[0m\u001b[0;34m\u001b[0m\u001b[0m\n\u001b[1;32m    167\u001b[0m         \u001b[0;32mif\u001b[0m \u001b[0mlen\u001b[0m\u001b[0;34m(\u001b[0m\u001b[0mres\u001b[0m\u001b[0;34m)\u001b[0m\u001b[0;34m<\u001b[0m\u001b[0mchunk_sz\u001b[0m\u001b[0;34m:\u001b[0m \u001b[0;32mreturn\u001b[0m\u001b[0;34m\u001b[0m\u001b[0;34m\u001b[0m\u001b[0m\n",
      "\u001b[0;32m~/miniconda3/envs/enveco/lib/python3.8/site-packages/fastai/data/load.py\u001b[0m in \u001b[0;36mdo_item\u001b[0;34m(self, s)\u001b[0m\n\u001b[1;32m    122\u001b[0m     \u001b[0;32mdef\u001b[0m \u001b[0mprebatched\u001b[0m\u001b[0;34m(\u001b[0m\u001b[0mself\u001b[0m\u001b[0;34m)\u001b[0m\u001b[0;34m:\u001b[0m \u001b[0;32mreturn\u001b[0m \u001b[0mself\u001b[0m\u001b[0;34m.\u001b[0m\u001b[0mbs\u001b[0m \u001b[0;32mis\u001b[0m \u001b[0;32mNone\u001b[0m\u001b[0;34m\u001b[0m\u001b[0;34m\u001b[0m\u001b[0m\n\u001b[1;32m    123\u001b[0m     \u001b[0;32mdef\u001b[0m \u001b[0mdo_item\u001b[0m\u001b[0;34m(\u001b[0m\u001b[0mself\u001b[0m\u001b[0;34m,\u001b[0m \u001b[0ms\u001b[0m\u001b[0;34m)\u001b[0m\u001b[0;34m:\u001b[0m\u001b[0;34m\u001b[0m\u001b[0;34m\u001b[0m\u001b[0m\n\u001b[0;32m--> 124\u001b[0;31m         \u001b[0;32mtry\u001b[0m\u001b[0;34m:\u001b[0m \u001b[0;32mreturn\u001b[0m \u001b[0mself\u001b[0m\u001b[0;34m.\u001b[0m\u001b[0mafter_item\u001b[0m\u001b[0;34m(\u001b[0m\u001b[0mself\u001b[0m\u001b[0;34m.\u001b[0m\u001b[0mcreate_item\u001b[0m\u001b[0;34m(\u001b[0m\u001b[0ms\u001b[0m\u001b[0;34m)\u001b[0m\u001b[0;34m)\u001b[0m\u001b[0;34m\u001b[0m\u001b[0;34m\u001b[0m\u001b[0m\n\u001b[0m\u001b[1;32m    125\u001b[0m         \u001b[0;32mexcept\u001b[0m \u001b[0mSkipItemException\u001b[0m\u001b[0;34m:\u001b[0m \u001b[0;32mreturn\u001b[0m \u001b[0;32mNone\u001b[0m\u001b[0;34m\u001b[0m\u001b[0;34m\u001b[0m\u001b[0m\n\u001b[1;32m    126\u001b[0m     \u001b[0;32mdef\u001b[0m \u001b[0mchunkify\u001b[0m\u001b[0;34m(\u001b[0m\u001b[0mself\u001b[0m\u001b[0;34m,\u001b[0m \u001b[0mb\u001b[0m\u001b[0;34m)\u001b[0m\u001b[0;34m:\u001b[0m \u001b[0;32mreturn\u001b[0m \u001b[0mb\u001b[0m \u001b[0;32mif\u001b[0m \u001b[0mself\u001b[0m\u001b[0;34m.\u001b[0m\u001b[0mprebatched\u001b[0m \u001b[0;32melse\u001b[0m \u001b[0mchunked\u001b[0m\u001b[0;34m(\u001b[0m\u001b[0mb\u001b[0m\u001b[0;34m,\u001b[0m \u001b[0mself\u001b[0m\u001b[0;34m.\u001b[0m\u001b[0mbs\u001b[0m\u001b[0;34m,\u001b[0m \u001b[0mself\u001b[0m\u001b[0;34m.\u001b[0m\u001b[0mdrop_last\u001b[0m\u001b[0;34m)\u001b[0m\u001b[0;34m\u001b[0m\u001b[0;34m\u001b[0m\u001b[0m\n",
      "\u001b[0;32m~/miniconda3/envs/enveco/lib/python3.8/site-packages/fastai/data/load.py\u001b[0m in \u001b[0;36mcreate_item\u001b[0;34m(self, s)\u001b[0m\n\u001b[1;32m    128\u001b[0m     \u001b[0;32mdef\u001b[0m \u001b[0mrandomize\u001b[0m\u001b[0;34m(\u001b[0m\u001b[0mself\u001b[0m\u001b[0;34m)\u001b[0m\u001b[0;34m:\u001b[0m \u001b[0mself\u001b[0m\u001b[0;34m.\u001b[0m\u001b[0mrng\u001b[0m \u001b[0;34m=\u001b[0m \u001b[0mrandom\u001b[0m\u001b[0;34m.\u001b[0m\u001b[0mRandom\u001b[0m\u001b[0;34m(\u001b[0m\u001b[0mself\u001b[0m\u001b[0;34m.\u001b[0m\u001b[0mrng\u001b[0m\u001b[0;34m.\u001b[0m\u001b[0mrandint\u001b[0m\u001b[0;34m(\u001b[0m\u001b[0;36m0\u001b[0m\u001b[0;34m,\u001b[0m\u001b[0;36m2\u001b[0m\u001b[0;34m**\u001b[0m\u001b[0;36m32\u001b[0m\u001b[0;34m-\u001b[0m\u001b[0;36m1\u001b[0m\u001b[0;34m)\u001b[0m\u001b[0;34m)\u001b[0m\u001b[0;34m\u001b[0m\u001b[0;34m\u001b[0m\u001b[0m\n\u001b[1;32m    129\u001b[0m     \u001b[0;32mdef\u001b[0m \u001b[0mretain\u001b[0m\u001b[0;34m(\u001b[0m\u001b[0mself\u001b[0m\u001b[0;34m,\u001b[0m \u001b[0mres\u001b[0m\u001b[0;34m,\u001b[0m \u001b[0mb\u001b[0m\u001b[0;34m)\u001b[0m\u001b[0;34m:\u001b[0m  \u001b[0;32mreturn\u001b[0m \u001b[0mretain_types\u001b[0m\u001b[0;34m(\u001b[0m\u001b[0mres\u001b[0m\u001b[0;34m,\u001b[0m \u001b[0mb\u001b[0m\u001b[0;34m[\u001b[0m\u001b[0;36m0\u001b[0m\u001b[0;34m]\u001b[0m \u001b[0;32mif\u001b[0m \u001b[0mis_listy\u001b[0m\u001b[0;34m(\u001b[0m\u001b[0mb\u001b[0m\u001b[0;34m)\u001b[0m \u001b[0;32melse\u001b[0m \u001b[0mb\u001b[0m\u001b[0;34m)\u001b[0m\u001b[0;34m\u001b[0m\u001b[0;34m\u001b[0m\u001b[0m\n\u001b[0;32m--> 130\u001b[0;31m     \u001b[0;32mdef\u001b[0m \u001b[0mcreate_item\u001b[0m\u001b[0;34m(\u001b[0m\u001b[0mself\u001b[0m\u001b[0;34m,\u001b[0m \u001b[0ms\u001b[0m\u001b[0;34m)\u001b[0m\u001b[0;34m:\u001b[0m  \u001b[0;32mreturn\u001b[0m \u001b[0mnext\u001b[0m\u001b[0;34m(\u001b[0m\u001b[0mself\u001b[0m\u001b[0;34m.\u001b[0m\u001b[0mit\u001b[0m\u001b[0;34m)\u001b[0m \u001b[0;32mif\u001b[0m \u001b[0ms\u001b[0m \u001b[0;32mis\u001b[0m \u001b[0;32mNone\u001b[0m \u001b[0;32melse\u001b[0m \u001b[0mself\u001b[0m\u001b[0;34m.\u001b[0m\u001b[0mdataset\u001b[0m\u001b[0;34m[\u001b[0m\u001b[0ms\u001b[0m\u001b[0;34m]\u001b[0m\u001b[0;34m\u001b[0m\u001b[0;34m\u001b[0m\u001b[0m\n\u001b[0m\u001b[1;32m    131\u001b[0m     \u001b[0;32mdef\u001b[0m \u001b[0mcreate_batch\u001b[0m\u001b[0;34m(\u001b[0m\u001b[0mself\u001b[0m\u001b[0;34m,\u001b[0m \u001b[0mb\u001b[0m\u001b[0;34m)\u001b[0m\u001b[0;34m:\u001b[0m \u001b[0;32mreturn\u001b[0m \u001b[0;34m(\u001b[0m\u001b[0mfa_collate\u001b[0m\u001b[0;34m,\u001b[0m\u001b[0mfa_convert\u001b[0m\u001b[0;34m)\u001b[0m\u001b[0;34m[\u001b[0m\u001b[0mself\u001b[0m\u001b[0;34m.\u001b[0m\u001b[0mprebatched\u001b[0m\u001b[0;34m]\u001b[0m\u001b[0;34m(\u001b[0m\u001b[0mb\u001b[0m\u001b[0;34m)\u001b[0m\u001b[0;34m\u001b[0m\u001b[0;34m\u001b[0m\u001b[0m\n\u001b[1;32m    132\u001b[0m     \u001b[0;32mdef\u001b[0m \u001b[0mdo_batch\u001b[0m\u001b[0;34m(\u001b[0m\u001b[0mself\u001b[0m\u001b[0;34m,\u001b[0m \u001b[0mb\u001b[0m\u001b[0;34m)\u001b[0m\u001b[0;34m:\u001b[0m \u001b[0;32mreturn\u001b[0m \u001b[0mself\u001b[0m\u001b[0;34m.\u001b[0m\u001b[0mretain\u001b[0m\u001b[0;34m(\u001b[0m\u001b[0mself\u001b[0m\u001b[0;34m.\u001b[0m\u001b[0mcreate_batch\u001b[0m\u001b[0;34m(\u001b[0m\u001b[0mself\u001b[0m\u001b[0;34m.\u001b[0m\u001b[0mbefore_batch\u001b[0m\u001b[0;34m(\u001b[0m\u001b[0mb\u001b[0m\u001b[0;34m)\u001b[0m\u001b[0;34m)\u001b[0m\u001b[0;34m,\u001b[0m \u001b[0mb\u001b[0m\u001b[0;34m)\u001b[0m\u001b[0;34m\u001b[0m\u001b[0;34m\u001b[0m\u001b[0m\n",
      "\u001b[0;32m~/miniconda3/envs/enveco/lib/python3.8/site-packages/fastcore/foundation.py\u001b[0m in \u001b[0;36m__getitem__\u001b[0;34m(self, k)\u001b[0m\n\u001b[1;32m    270\u001b[0m     \u001b[0;32mdef\u001b[0m \u001b[0m__init__\u001b[0m\u001b[0;34m(\u001b[0m\u001b[0mself\u001b[0m\u001b[0;34m,\u001b[0m \u001b[0mitems\u001b[0m\u001b[0;34m)\u001b[0m\u001b[0;34m:\u001b[0m \u001b[0mself\u001b[0m\u001b[0;34m.\u001b[0m\u001b[0mitems\u001b[0m \u001b[0;34m=\u001b[0m \u001b[0mitems\u001b[0m\u001b[0;34m\u001b[0m\u001b[0;34m\u001b[0m\u001b[0m\n\u001b[1;32m    271\u001b[0m     \u001b[0;32mdef\u001b[0m \u001b[0m__len__\u001b[0m\u001b[0;34m(\u001b[0m\u001b[0mself\u001b[0m\u001b[0;34m)\u001b[0m\u001b[0;34m:\u001b[0m \u001b[0;32mreturn\u001b[0m \u001b[0mlen\u001b[0m\u001b[0;34m(\u001b[0m\u001b[0mself\u001b[0m\u001b[0;34m.\u001b[0m\u001b[0mitems\u001b[0m\u001b[0;34m)\u001b[0m\u001b[0;34m\u001b[0m\u001b[0;34m\u001b[0m\u001b[0m\n\u001b[0;32m--> 272\u001b[0;31m     \u001b[0;32mdef\u001b[0m \u001b[0m__getitem__\u001b[0m\u001b[0;34m(\u001b[0m\u001b[0mself\u001b[0m\u001b[0;34m,\u001b[0m \u001b[0mk\u001b[0m\u001b[0;34m)\u001b[0m\u001b[0;34m:\u001b[0m \u001b[0;32mreturn\u001b[0m \u001b[0mself\u001b[0m\u001b[0;34m.\u001b[0m\u001b[0mitems\u001b[0m\u001b[0;34m[\u001b[0m\u001b[0mlist\u001b[0m\u001b[0;34m(\u001b[0m\u001b[0mk\u001b[0m\u001b[0;34m)\u001b[0m \u001b[0;32mif\u001b[0m \u001b[0misinstance\u001b[0m\u001b[0;34m(\u001b[0m\u001b[0mk\u001b[0m\u001b[0;34m,\u001b[0m\u001b[0mCollBase\u001b[0m\u001b[0;34m)\u001b[0m \u001b[0;32melse\u001b[0m \u001b[0mk\u001b[0m\u001b[0;34m]\u001b[0m\u001b[0;34m\u001b[0m\u001b[0;34m\u001b[0m\u001b[0m\n\u001b[0m\u001b[1;32m    273\u001b[0m     \u001b[0;32mdef\u001b[0m \u001b[0m__setitem__\u001b[0m\u001b[0;34m(\u001b[0m\u001b[0mself\u001b[0m\u001b[0;34m,\u001b[0m \u001b[0mk\u001b[0m\u001b[0;34m,\u001b[0m \u001b[0mv\u001b[0m\u001b[0;34m)\u001b[0m\u001b[0;34m:\u001b[0m \u001b[0mself\u001b[0m\u001b[0;34m.\u001b[0m\u001b[0mitems\u001b[0m\u001b[0;34m[\u001b[0m\u001b[0mlist\u001b[0m\u001b[0;34m(\u001b[0m\u001b[0mk\u001b[0m\u001b[0;34m)\u001b[0m \u001b[0;32mif\u001b[0m \u001b[0misinstance\u001b[0m\u001b[0;34m(\u001b[0m\u001b[0mk\u001b[0m\u001b[0;34m,\u001b[0m\u001b[0mCollBase\u001b[0m\u001b[0;34m)\u001b[0m \u001b[0;32melse\u001b[0m \u001b[0mk\u001b[0m\u001b[0;34m]\u001b[0m \u001b[0;34m=\u001b[0m \u001b[0mv\u001b[0m\u001b[0;34m\u001b[0m\u001b[0;34m\u001b[0m\u001b[0m\n\u001b[1;32m    274\u001b[0m     \u001b[0;32mdef\u001b[0m \u001b[0m__delitem__\u001b[0m\u001b[0;34m(\u001b[0m\u001b[0mself\u001b[0m\u001b[0;34m,\u001b[0m \u001b[0mi\u001b[0m\u001b[0;34m)\u001b[0m\u001b[0;34m:\u001b[0m \u001b[0;32mdel\u001b[0m\u001b[0;34m(\u001b[0m\u001b[0mself\u001b[0m\u001b[0;34m.\u001b[0m\u001b[0mitems\u001b[0m\u001b[0;34m[\u001b[0m\u001b[0mi\u001b[0m\u001b[0;34m]\u001b[0m\u001b[0;34m)\u001b[0m\u001b[0;34m\u001b[0m\u001b[0;34m\u001b[0m\u001b[0m\n",
      "\u001b[0;32m~/miniconda3/envs/enveco/lib/python3.8/site-packages/pandas/core/frame.py\u001b[0m in \u001b[0;36m__getitem__\u001b[0;34m(self, key)\u001b[0m\n\u001b[1;32m   2900\u001b[0m             \u001b[0;32mif\u001b[0m \u001b[0mself\u001b[0m\u001b[0;34m.\u001b[0m\u001b[0mcolumns\u001b[0m\u001b[0;34m.\u001b[0m\u001b[0mnlevels\u001b[0m \u001b[0;34m>\u001b[0m \u001b[0;36m1\u001b[0m\u001b[0;34m:\u001b[0m\u001b[0;34m\u001b[0m\u001b[0;34m\u001b[0m\u001b[0m\n\u001b[1;32m   2901\u001b[0m                 \u001b[0;32mreturn\u001b[0m \u001b[0mself\u001b[0m\u001b[0;34m.\u001b[0m\u001b[0m_getitem_multilevel\u001b[0m\u001b[0;34m(\u001b[0m\u001b[0mkey\u001b[0m\u001b[0;34m)\u001b[0m\u001b[0;34m\u001b[0m\u001b[0;34m\u001b[0m\u001b[0m\n\u001b[0;32m-> 2902\u001b[0;31m             \u001b[0mindexer\u001b[0m \u001b[0;34m=\u001b[0m \u001b[0mself\u001b[0m\u001b[0;34m.\u001b[0m\u001b[0mcolumns\u001b[0m\u001b[0;34m.\u001b[0m\u001b[0mget_loc\u001b[0m\u001b[0;34m(\u001b[0m\u001b[0mkey\u001b[0m\u001b[0;34m)\u001b[0m\u001b[0;34m\u001b[0m\u001b[0;34m\u001b[0m\u001b[0m\n\u001b[0m\u001b[1;32m   2903\u001b[0m             \u001b[0;32mif\u001b[0m \u001b[0mis_integer\u001b[0m\u001b[0;34m(\u001b[0m\u001b[0mindexer\u001b[0m\u001b[0;34m)\u001b[0m\u001b[0;34m:\u001b[0m\u001b[0;34m\u001b[0m\u001b[0;34m\u001b[0m\u001b[0m\n\u001b[1;32m   2904\u001b[0m                 \u001b[0mindexer\u001b[0m \u001b[0;34m=\u001b[0m \u001b[0;34m[\u001b[0m\u001b[0mindexer\u001b[0m\u001b[0;34m]\u001b[0m\u001b[0;34m\u001b[0m\u001b[0;34m\u001b[0m\u001b[0m\n",
      "\u001b[0;32m~/miniconda3/envs/enveco/lib/python3.8/site-packages/pandas/core/indexes/base.py\u001b[0m in \u001b[0;36mget_loc\u001b[0;34m(self, key, method, tolerance)\u001b[0m\n\u001b[1;32m   2895\u001b[0m                 \u001b[0;32mreturn\u001b[0m \u001b[0mself\u001b[0m\u001b[0;34m.\u001b[0m\u001b[0m_engine\u001b[0m\u001b[0;34m.\u001b[0m\u001b[0mget_loc\u001b[0m\u001b[0;34m(\u001b[0m\u001b[0mcasted_key\u001b[0m\u001b[0;34m)\u001b[0m\u001b[0;34m\u001b[0m\u001b[0;34m\u001b[0m\u001b[0m\n\u001b[1;32m   2896\u001b[0m             \u001b[0;32mexcept\u001b[0m \u001b[0mKeyError\u001b[0m \u001b[0;32mas\u001b[0m \u001b[0merr\u001b[0m\u001b[0;34m:\u001b[0m\u001b[0;34m\u001b[0m\u001b[0;34m\u001b[0m\u001b[0m\n\u001b[0;32m-> 2897\u001b[0;31m                 \u001b[0;32mraise\u001b[0m \u001b[0mKeyError\u001b[0m\u001b[0;34m(\u001b[0m\u001b[0mkey\u001b[0m\u001b[0;34m)\u001b[0m \u001b[0;32mfrom\u001b[0m \u001b[0merr\u001b[0m\u001b[0;34m\u001b[0m\u001b[0;34m\u001b[0m\u001b[0m\n\u001b[0m\u001b[1;32m   2898\u001b[0m \u001b[0;34m\u001b[0m\u001b[0m\n\u001b[1;32m   2899\u001b[0m         \u001b[0;32mif\u001b[0m \u001b[0mtolerance\u001b[0m \u001b[0;32mis\u001b[0m \u001b[0;32mnot\u001b[0m \u001b[0;32mNone\u001b[0m\u001b[0;34m:\u001b[0m\u001b[0;34m\u001b[0m\u001b[0;34m\u001b[0m\u001b[0m\n",
      "\u001b[0;31mKeyError\u001b[0m: 660"
     ]
    }
   ],
   "source": [
    "new_dls.show_batch()"
   ]
  },
  {
   "cell_type": "code",
   "execution_count": null,
   "metadata": {},
   "outputs": [],
   "source": []
  }
 ],
 "metadata": {
  "_draft": {
   "nbviewer_url": "https://gist.github.com/dc7eb4d2965a6babe6ed2610b300f7b4"
  },
  "gist": {
   "data": {
    "description": "LiDAR predictions.ipynb",
    "public": true
   },
   "id": "dc7eb4d2965a6babe6ed2610b300f7b4"
  },
  "kernelspec": {
   "display_name": "Python 3",
   "language": "python",
   "name": "python3"
  },
  "language_info": {
   "codemirror_mode": {
    "name": "ipython",
    "version": 3
   },
   "file_extension": ".py",
   "mimetype": "text/x-python",
   "name": "python",
   "nbconvert_exporter": "python",
   "pygments_lexer": "ipython3",
   "version": "3.8.3"
  },
  "latex_envs": {
   "LaTeX_envs_menu_present": true,
   "autoclose": false,
   "autocomplete": true,
   "bibliofile": "biblio.bib",
   "cite_by": "apalike",
   "current_citInitial": 1,
   "eqLabelWithNumbers": true,
   "eqNumInitial": 1,
   "hotkeys": {
    "equation": "Ctrl-E",
    "itemize": "Ctrl-I"
   },
   "labels_anchors": false,
   "latex_user_defs": false,
   "report_style_numbering": false,
   "user_envs_cfg": false
  },
  "toc": {
   "base_numbering": 1,
   "nav_menu": {},
   "number_sections": true,
   "sideBar": true,
   "skip_h1_title": false,
   "title_cell": "Table of Contents",
   "title_sidebar": "Contents",
   "toc_cell": false,
   "toc_position": {
    "height": "calc(100% - 180px)",
    "left": "10px",
    "top": "150px",
    "width": "303px"
   },
   "toc_section_display": true,
   "toc_window_display": true
  }
 },
 "nbformat": 4,
 "nbformat_minor": 4
}
