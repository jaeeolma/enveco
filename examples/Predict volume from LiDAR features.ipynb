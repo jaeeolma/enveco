{
 "cells": [
  {
   "cell_type": "markdown",
   "metadata": {},
   "source": [
    "# Predict basal area from LiDAR features"
   ]
  },
  {
   "cell_type": "code",
   "execution_count": 1,
   "metadata": {
    "ExecuteTime": {
     "end_time": "2020-11-09T13:28:30.226715Z",
     "start_time": "2020-11-09T13:28:29.214411Z"
    }
   },
   "outputs": [],
   "source": [
    "from fastai.data.all import *\n",
    "from fastai.tabular.all import *\n",
    "from fastai.callback.progress import ShowGraphCallback"
   ]
  },
  {
   "cell_type": "code",
   "execution_count": 2,
   "metadata": {
    "ExecuteTime": {
     "end_time": "2020-11-09T13:28:30.346855Z",
     "start_time": "2020-11-09T13:28:30.227801Z"
    }
   },
   "outputs": [],
   "source": [
    "absolute_path = Path().absolute()\n",
    "sys.path.append(str(absolute_path.parents[0]))\n",
    "\n",
    "from enveco.tabular import *"
   ]
  },
  {
   "cell_type": "markdown",
   "metadata": {},
   "source": [
    "Run the example workflow for predicting the basal area of the field plot from LiDAR-derived features."
   ]
  },
  {
   "cell_type": "markdown",
   "metadata": {},
   "source": [
    "# Read and preprocess data"
   ]
  },
  {
   "cell_type": "code",
   "execution_count": 3,
   "metadata": {
    "ExecuteTime": {
     "end_time": "2020-11-09T13:28:30.367192Z",
     "start_time": "2020-11-09T13:28:30.351564Z"
    }
   },
   "outputs": [],
   "source": [
    "preprocessor = EnvecoPreprocessor('../../../andras/ml/AV_leafon/AV.leaf.on.train.csv', \n",
    "                                  '../../../andras/ml/AV_leafon/AV.leaf.on.val.csv',\n",
    "                                  '../../../andras/ml/AV_leafon/AV.leaf.on.test.csv')"
   ]
  },
  {
   "cell_type": "markdown",
   "metadata": {},
   "source": [
    "Preprocess dataframes and extract lidar features from them. Specify which features are needed:\n",
    "\n",
    "* height_features\n",
    "* point_features\n",
    "* intensity_features\n",
    "* height_quantiles\n",
    "* point_proportions\n",
    "* canopy_densities\n",
    "\n",
    "Also, specify whether to `normalize` data (default: True) or to log-transform target column (default: False)"
   ]
  },
  {
   "cell_type": "code",
   "execution_count": 4,
   "metadata": {
    "ExecuteTime": {
     "end_time": "2020-11-09T13:28:31.048532Z",
     "start_time": "2020-11-09T13:28:31.032955Z"
    }
   },
   "outputs": [
    {
     "data": {
      "text/html": [
       "<div>\n",
       "<style scoped>\n",
       "    .dataframe tbody tr th:only-of-type {\n",
       "        vertical-align: middle;\n",
       "    }\n",
       "\n",
       "    .dataframe tbody tr th {\n",
       "        vertical-align: top;\n",
       "    }\n",
       "\n",
       "    .dataframe thead th {\n",
       "        text-align: right;\n",
       "    }\n",
       "</style>\n",
       "<table border=\"1\" class=\"dataframe\">\n",
       "  <thead>\n",
       "    <tr style=\"text-align: right;\">\n",
       "      <th></th>\n",
       "      <th>sampleplotid</th>\n",
       "      <th>x</th>\n",
       "      <th>y</th>\n",
       "      <th>measurementdate</th>\n",
       "      <th>g</th>\n",
       "      <th>d</th>\n",
       "      <th>h</th>\n",
       "      <th>v</th>\n",
       "      <th>v_ma</th>\n",
       "      <th>v_ku</th>\n",
       "      <th>v_lp</th>\n",
       "      <th>myear</th>\n",
       "      <th>filename_1</th>\n",
       "      <th>a_date_1</th>\n",
       "      <th>a_window_1</th>\n",
       "      <th>filename_2</th>\n",
       "      <th>a_date_2</th>\n",
       "      <th>a_window_2</th>\n",
       "      <th>v_lp_proc</th>\n",
       "      <th>is_valid</th>\n",
       "    </tr>\n",
       "  </thead>\n",
       "  <tbody>\n",
       "    <tr>\n",
       "      <th>0</th>\n",
       "      <td>901034</td>\n",
       "      <td>313598.50</td>\n",
       "      <td>6888193.46</td>\n",
       "      <td>2013</td>\n",
       "      <td>30.0</td>\n",
       "      <td>25.9</td>\n",
       "      <td>23.9</td>\n",
       "      <td>336.62</td>\n",
       "      <td>50.11</td>\n",
       "      <td>27.73</td>\n",
       "      <td>258.78</td>\n",
       "      <td>2013</td>\n",
       "      <td>/wrk/project_ogiir-csc/mml/laserkeilaus/2008_17_automaattinen/2013/20130114_BLOM_ahtari_block2_kesa/1/N4121B3.laz</td>\n",
       "      <td>2013-07-11</td>\n",
       "      <td>C</td>\n",
       "      <td>NaN</td>\n",
       "      <td>NaN</td>\n",
       "      <td>NaN</td>\n",
       "      <td>77</td>\n",
       "      <td>0</td>\n",
       "    </tr>\n",
       "    <tr>\n",
       "      <th>1</th>\n",
       "      <td>901038</td>\n",
       "      <td>314591.78</td>\n",
       "      <td>6888461.84</td>\n",
       "      <td>2013</td>\n",
       "      <td>18.6</td>\n",
       "      <td>16.0</td>\n",
       "      <td>15.9</td>\n",
       "      <td>146.00</td>\n",
       "      <td>142.50</td>\n",
       "      <td>0.00</td>\n",
       "      <td>3.50</td>\n",
       "      <td>2013</td>\n",
       "      <td>/wrk/project_ogiir-csc/mml/laserkeilaus/2008_17_automaattinen/2013/20130114_BLOM_ahtari_block2_kesa/1/N4121D1.laz</td>\n",
       "      <td>2013-07-11</td>\n",
       "      <td>C</td>\n",
       "      <td>NaN</td>\n",
       "      <td>NaN</td>\n",
       "      <td>NaN</td>\n",
       "      <td>2</td>\n",
       "      <td>0</td>\n",
       "    </tr>\n",
       "    <tr>\n",
       "      <th>2</th>\n",
       "      <td>901044</td>\n",
       "      <td>317890.37</td>\n",
       "      <td>6888182.49</td>\n",
       "      <td>2013</td>\n",
       "      <td>26.8</td>\n",
       "      <td>18.4</td>\n",
       "      <td>18.4</td>\n",
       "      <td>240.46</td>\n",
       "      <td>139.89</td>\n",
       "      <td>81.77</td>\n",
       "      <td>18.79</td>\n",
       "      <td>2013</td>\n",
       "      <td>/wrk/project_ogiir-csc/mml/laserkeilaus/2008_17_automaattinen/2013/20130114_BLOM_ahtari_block2_kesa/1/N4121D3.laz</td>\n",
       "      <td>2013-07-11</td>\n",
       "      <td>C</td>\n",
       "      <td>NaN</td>\n",
       "      <td>NaN</td>\n",
       "      <td>NaN</td>\n",
       "      <td>8</td>\n",
       "      <td>0</td>\n",
       "    </tr>\n",
       "    <tr>\n",
       "      <th>3</th>\n",
       "      <td>901048</td>\n",
       "      <td>318879.42</td>\n",
       "      <td>6888447.55</td>\n",
       "      <td>2013</td>\n",
       "      <td>34.3</td>\n",
       "      <td>20.2</td>\n",
       "      <td>19.3</td>\n",
       "      <td>321.29</td>\n",
       "      <td>72.10</td>\n",
       "      <td>172.35</td>\n",
       "      <td>76.84</td>\n",
       "      <td>2013</td>\n",
       "      <td>/wrk/project_ogiir-csc/mml/laserkeilaus/2008_17_automaattinen/2013/20130114_BLOM_ahtari_block2_kesa/1/N4121D3.laz</td>\n",
       "      <td>2013-07-11</td>\n",
       "      <td>C</td>\n",
       "      <td>NaN</td>\n",
       "      <td>NaN</td>\n",
       "      <td>NaN</td>\n",
       "      <td>24</td>\n",
       "      <td>0</td>\n",
       "    </tr>\n",
       "    <tr>\n",
       "      <th>4</th>\n",
       "      <td>901054</td>\n",
       "      <td>322193.41</td>\n",
       "      <td>6888196.04</td>\n",
       "      <td>2013</td>\n",
       "      <td>13.8</td>\n",
       "      <td>10.0</td>\n",
       "      <td>9.1</td>\n",
       "      <td>67.10</td>\n",
       "      <td>57.40</td>\n",
       "      <td>9.70</td>\n",
       "      <td>0.00</td>\n",
       "      <td>2013</td>\n",
       "      <td>/wrk/project_ogiir-csc/mml/laserkeilaus/2008_17_automaattinen/2013/20130114_BLOM_ahtari_block2_kesa/1/N4121F1.laz</td>\n",
       "      <td>2013-07-11</td>\n",
       "      <td>C</td>\n",
       "      <td>NaN</td>\n",
       "      <td>NaN</td>\n",
       "      <td>NaN</td>\n",
       "      <td>0</td>\n",
       "      <td>0</td>\n",
       "    </tr>\n",
       "  </tbody>\n",
       "</table>\n",
       "</div>"
      ],
      "text/plain": [
       "   sampleplotid          x           y  measurementdate     g     d     h  \\\n",
       "0        901034  313598.50  6888193.46             2013  30.0  25.9  23.9   \n",
       "1        901038  314591.78  6888461.84             2013  18.6  16.0  15.9   \n",
       "2        901044  317890.37  6888182.49             2013  26.8  18.4  18.4   \n",
       "3        901048  318879.42  6888447.55             2013  34.3  20.2  19.3   \n",
       "4        901054  322193.41  6888196.04             2013  13.8  10.0   9.1   \n",
       "\n",
       "        v    v_ma    v_ku    v_lp  myear  \\\n",
       "0  336.62   50.11   27.73  258.78   2013   \n",
       "1  146.00  142.50    0.00    3.50   2013   \n",
       "2  240.46  139.89   81.77   18.79   2013   \n",
       "3  321.29   72.10  172.35   76.84   2013   \n",
       "4   67.10   57.40    9.70    0.00   2013   \n",
       "\n",
       "                                                                                                          filename_1  \\\n",
       "0  /wrk/project_ogiir-csc/mml/laserkeilaus/2008_17_automaattinen/2013/20130114_BLOM_ahtari_block2_kesa/1/N4121B3.laz   \n",
       "1  /wrk/project_ogiir-csc/mml/laserkeilaus/2008_17_automaattinen/2013/20130114_BLOM_ahtari_block2_kesa/1/N4121D1.laz   \n",
       "2  /wrk/project_ogiir-csc/mml/laserkeilaus/2008_17_automaattinen/2013/20130114_BLOM_ahtari_block2_kesa/1/N4121D3.laz   \n",
       "3  /wrk/project_ogiir-csc/mml/laserkeilaus/2008_17_automaattinen/2013/20130114_BLOM_ahtari_block2_kesa/1/N4121D3.laz   \n",
       "4  /wrk/project_ogiir-csc/mml/laserkeilaus/2008_17_automaattinen/2013/20130114_BLOM_ahtari_block2_kesa/1/N4121F1.laz   \n",
       "\n",
       "     a_date_1 a_window_1  filename_2  a_date_2  a_window_2  v_lp_proc  \\\n",
       "0  2013-07-11          C         NaN       NaN         NaN         77   \n",
       "1  2013-07-11          C         NaN       NaN         NaN          2   \n",
       "2  2013-07-11          C         NaN       NaN         NaN          8   \n",
       "3  2013-07-11          C         NaN       NaN         NaN         24   \n",
       "4  2013-07-11          C         NaN       NaN         NaN          0   \n",
       "\n",
       "   is_valid  \n",
       "0         0  \n",
       "1         0  \n",
       "2         0  \n",
       "3         0  \n",
       "4         0  "
      ]
     },
     "execution_count": 4,
     "metadata": {},
     "output_type": "execute_result"
    }
   ],
   "source": [
    "preprocessor.train_df.head()"
   ]
  },
  {
   "cell_type": "code",
   "execution_count": 5,
   "metadata": {
    "ExecuteTime": {
     "end_time": "2020-11-09T13:30:59.570475Z",
     "start_time": "2020-11-09T13:28:31.470340Z"
    }
   },
   "outputs": [
    {
     "name": "stdout",
     "output_type": "stream",
     "text": [
      "Adding height based features\n",
      "Adding point distribution based features\n",
      "Adding intensity based features\n",
      "Adding height quantiles\n",
      "Adding point proportions\n",
      "Adding canopy densities\n"
     ]
    }
   ],
   "source": [
    "trainval_tb, test_tb = preprocessor.preprocess_lidar(target_col='v', path='../../../andras/ml/AV_leafon/AV_las/', \n",
    "                                                     min_h=1.5,\n",
    "                                                     height_features=True,\n",
    "                                                     point_features=True, \n",
    "                                                     intensity_features=True, \n",
    "                                                     height_quantiles=True,\n",
    "                                                     point_proportions=True, \n",
    "                                                     canopy_densities=True,\n",
    "                                                     normalize=True,\n",
    "                                                     log_y=False)"
   ]
  },
  {
   "cell_type": "markdown",
   "metadata": {},
   "source": [
    "Previous method returns two `TabularPandas` objects. Put them to dataloaders."
   ]
  },
  {
   "cell_type": "code",
   "execution_count": 6,
   "metadata": {
    "ExecuteTime": {
     "end_time": "2020-11-09T13:31:01.353719Z",
     "start_time": "2020-11-09T13:30:59.571650Z"
    }
   },
   "outputs": [],
   "source": [
    "dls = trainval_tb.dataloaders(bs=64, y_block=RegressionBlock())"
   ]
  },
  {
   "cell_type": "markdown",
   "metadata": {},
   "source": [
    "Check the distribution of the target variable `g`, in order to get limits for `sigmoid_range`."
   ]
  },
  {
   "cell_type": "code",
   "execution_count": 7,
   "metadata": {
    "ExecuteTime": {
     "end_time": "2020-11-09T13:31:01.361979Z",
     "start_time": "2020-11-09T13:31:01.355047Z"
    }
   },
   "outputs": [
    {
     "data": {
      "text/plain": [
       "count    1044.000000\n",
       "mean      145.712250\n",
       "std        86.097336\n",
       "min         2.700000\n",
       "25%        80.927498\n",
       "50%       132.125000\n",
       "75%       191.305000\n",
       "max       867.349976\n",
       "Name: v, dtype: float64"
      ]
     },
     "execution_count": 7,
     "metadata": {},
     "output_type": "execute_result"
    }
   ],
   "source": [
    "trainval_tb.train.y.describe()"
   ]
  },
  {
   "cell_type": "code",
   "execution_count": 8,
   "metadata": {
    "ExecuteTime": {
     "end_time": "2020-11-09T13:31:01.441627Z",
     "start_time": "2020-11-09T13:31:01.363140Z"
    }
   },
   "outputs": [
    {
     "data": {
      "text/plain": [
       "count    225.000000\n",
       "mean     150.768631\n",
       "std       95.610825\n",
       "min        2.310000\n",
       "25%       87.419998\n",
       "50%      133.600006\n",
       "75%      191.639999\n",
       "max      539.479980\n",
       "Name: v, dtype: float64"
      ]
     },
     "execution_count": 8,
     "metadata": {},
     "output_type": "execute_result"
    }
   ],
   "source": [
    "trainval_tb.valid.y.describe()"
   ]
  },
  {
   "cell_type": "code",
   "execution_count": 9,
   "metadata": {
    "ExecuteTime": {
     "end_time": "2020-11-09T13:31:01.598141Z",
     "start_time": "2020-11-09T13:31:01.442468Z"
    }
   },
   "outputs": [
    {
     "data": {
      "text/plain": [
       "count    225.000000\n",
       "mean     152.013641\n",
       "std       97.223846\n",
       "min        7.000000\n",
       "25%       87.820000\n",
       "50%      134.979996\n",
       "75%      192.529999\n",
       "max      550.169983\n",
       "Name: v, dtype: float64"
      ]
     },
     "execution_count": 9,
     "metadata": {},
     "output_type": "execute_result"
    }
   ],
   "source": [
    "test_tb.train.y.describe()"
   ]
  },
  {
   "cell_type": "markdown",
   "metadata": {},
   "source": [
    "# ANN"
   ]
  },
  {
   "cell_type": "markdown",
   "metadata": {},
   "source": [
    "Create `Learner` object. Specify y_range to better control the training, set 70 m² as the maximum value for basal area.\n",
    "\n",
    "Loss function is Mean Squared Error, monitor also Root Mean Squared Error, mean-normalized RMSE, Mean Absolute Error, R2Score, bias and mean-scaled bias. Target variable is log-transformed, so all metrics are log-equivalents (so MSLE, RMSLE...)."
   ]
  },
  {
   "cell_type": "code",
   "execution_count": 10,
   "metadata": {
    "ExecuteTime": {
     "end_time": "2020-11-09T13:31:01.990981Z",
     "start_time": "2020-11-09T13:31:01.599045Z"
    }
   },
   "outputs": [
    {
     "data": {
      "text/html": [
       "<table border=\"1\" class=\"dataframe\">\n",
       "  <thead>\n",
       "    <tr style=\"text-align: left;\">\n",
       "      <th>epoch</th>\n",
       "      <th>train_loss</th>\n",
       "      <th>valid_loss</th>\n",
       "      <th>_rmse</th>\n",
       "      <th>_rrmse</th>\n",
       "      <th>_bias</th>\n",
       "      <th>_bias_pct</th>\n",
       "      <th>mae</th>\n",
       "      <th>r2_score</th>\n",
       "      <th>time</th>\n",
       "    </tr>\n",
       "  </thead>\n",
       "  <tbody>\n",
       "    <tr>\n",
       "      <td>0</td>\n",
       "      <td>None</td>\n",
       "      <td>None</td>\n",
       "      <td>None</td>\n",
       "      <td>None</td>\n",
       "      <td>None</td>\n",
       "      <td>None</td>\n",
       "      <td>None</td>\n",
       "      <td>00:00</td>\n",
       "    </tr>\n",
       "  </tbody>\n",
       "</table>"
      ],
      "text/plain": [
       "<IPython.core.display.HTML object>"
      ]
     },
     "metadata": {},
     "output_type": "display_data"
    },
    {
     "data": {
      "text/plain": [
       "TabularModel (Input shape: ['64 x 0', '64 x 58'])\n",
       "================================================================\n",
       "Layer (type)         Output Shape         Param #    Trainable \n",
       "================================================================\n",
       "BatchNorm1d          64 x 58              116        True      \n",
       "________________________________________________________________\n",
       "BatchNorm1d          64 x 58              116        True      \n",
       "________________________________________________________________\n",
       "Linear               64 x 200             11,600     True      \n",
       "________________________________________________________________\n",
       "ReLU                 64 x 100             0          False     \n",
       "________________________________________________________________\n",
       "BatchNorm1d          64 x 200             400        True      \n",
       "________________________________________________________________\n",
       "Linear               64 x 100             20,000     True      \n",
       "________________________________________________________________\n",
       "ReLU                 64 x 100             0          False     \n",
       "________________________________________________________________\n",
       "Linear               64 x 1               101        True      \n",
       "________________________________________________________________\n",
       "SigmoidRange         64 x 1               0          False     \n",
       "________________________________________________________________\n",
       "\n",
       "Total params: 32,333\n",
       "Total trainable params: 32,333\n",
       "Total non-trainable params: 0\n",
       "\n",
       "Optimizer used: <function Adam at 0x7fbd2fec38b0>\n",
       "Loss function: FlattenedLoss of MSELoss()\n",
       "\n",
       "Callbacks:\n",
       "  - TrainEvalCallback\n",
       "  - Recorder\n",
       "  - ProgressCallback"
      ]
     },
     "execution_count": 10,
     "metadata": {},
     "output_type": "execute_result"
    }
   ],
   "source": [
    "learn = tabular_learner(dls, metrics=[rmse, rrmse, bias, bias_pct, mae, R2Score()],  y_range=(0,1000))\n",
    "learn.summary()"
   ]
  },
  {
   "cell_type": "markdown",
   "metadata": {
    "ExecuteTime": {
     "end_time": "2020-11-02T12:15:14.763168Z",
     "start_time": "2020-11-02T12:15:14.758250Z"
    }
   },
   "source": [
    "Find learning rate to use."
   ]
  },
  {
   "cell_type": "code",
   "execution_count": 11,
   "metadata": {
    "ExecuteTime": {
     "end_time": "2020-11-09T13:31:03.105945Z",
     "start_time": "2020-11-09T13:31:01.991895Z"
    }
   },
   "outputs": [
    {
     "data": {
      "text/html": [],
      "text/plain": [
       "<IPython.core.display.HTML object>"
      ]
     },
     "metadata": {},
     "output_type": "display_data"
    },
    {
     "data": {
      "text/plain": [
       "SuggestedLRs(lr_min=0.33113112449646, lr_steep=0.0030199517495930195)"
      ]
     },
     "execution_count": 11,
     "metadata": {},
     "output_type": "execute_result"
    },
    {
     "data": {
      "image/png": "[encoded data removed]",
      "text/plain": [
       "<Figure size 432x288 with 1 Axes>"
      ]
     },
     "metadata": {
      "needs_background": "light"
     },
     "output_type": "display_data"
    }
   ],
   "source": [
    "learn.lr_find()"
   ]
  },
  {
   "cell_type": "markdown",
   "metadata": {},
   "source": [
    "1e-2 seems to be a good learning rate."
   ]
  },
  {
   "cell_type": "code",
   "execution_count": 12,
   "metadata": {
    "ExecuteTime": {
     "end_time": "2020-11-09T13:31:05.629715Z",
     "start_time": "2020-11-09T13:31:03.107356Z"
    },
    "scrolled": false
   },
   "outputs": [
    {
     "data": {
      "text/html": [
       "<table border=\"1\" class=\"dataframe\">\n",
       "  <thead>\n",
       "    <tr style=\"text-align: left;\">\n",
       "      <th>epoch</th>\n",
       "      <th>train_loss</th>\n",
       "      <th>valid_loss</th>\n",
       "      <th>_rmse</th>\n",
       "      <th>_rrmse</th>\n",
       "      <th>_bias</th>\n",
       "      <th>_bias_pct</th>\n",
       "      <th>mae</th>\n",
       "      <th>r2_score</th>\n",
       "      <th>time</th>\n",
       "    </tr>\n",
       "  </thead>\n",
       "  <tbody>\n",
       "    <tr>\n",
       "      <td>0</td>\n",
       "      <td>127107.359375</td>\n",
       "      <td>104240.304688</td>\n",
       "      <td>322.862671</td>\n",
       "      <td>214.144485</td>\n",
       "      <td>313.122223</td>\n",
       "      <td>207.683960</td>\n",
       "      <td>313.353088</td>\n",
       "      <td>-10.453969</td>\n",
       "      <td>00:00</td>\n",
       "    </tr>\n",
       "    <tr>\n",
       "      <td>1</td>\n",
       "      <td>88152.195312</td>\n",
       "      <td>28756.107422</td>\n",
       "      <td>169.576263</td>\n",
       "      <td>112.474510</td>\n",
       "      <td>137.695602</td>\n",
       "      <td>91.329094</td>\n",
       "      <td>150.816788</td>\n",
       "      <td>-2.159733</td>\n",
       "      <td>00:00</td>\n",
       "    </tr>\n",
       "    <tr>\n",
       "      <td>2</td>\n",
       "      <td>53106.210938</td>\n",
       "      <td>4427.929688</td>\n",
       "      <td>66.542694</td>\n",
       "      <td>44.135639</td>\n",
       "      <td>29.016918</td>\n",
       "      <td>19.245995</td>\n",
       "      <td>48.239315</td>\n",
       "      <td>0.513457</td>\n",
       "      <td>00:00</td>\n",
       "    </tr>\n",
       "    <tr>\n",
       "      <td>3</td>\n",
       "      <td>33889.082031</td>\n",
       "      <td>2645.024414</td>\n",
       "      <td>51.429802</td>\n",
       "      <td>34.111740</td>\n",
       "      <td>8.689093</td>\n",
       "      <td>5.763197</td>\n",
       "      <td>37.240864</td>\n",
       "      <td>0.709364</td>\n",
       "      <td>00:00</td>\n",
       "    </tr>\n",
       "    <tr>\n",
       "      <td>4</td>\n",
       "      <td>22960.531250</td>\n",
       "      <td>2049.612061</td>\n",
       "      <td>45.272640</td>\n",
       "      <td>30.027893</td>\n",
       "      <td>-3.470922</td>\n",
       "      <td>-2.302152</td>\n",
       "      <td>31.905918</td>\n",
       "      <td>0.774788</td>\n",
       "      <td>00:00</td>\n",
       "    </tr>\n",
       "    <tr>\n",
       "      <td>5</td>\n",
       "      <td>16130.756836</td>\n",
       "      <td>1907.025269</td>\n",
       "      <td>43.669502</td>\n",
       "      <td>28.964584</td>\n",
       "      <td>-0.828363</td>\n",
       "      <td>-0.549427</td>\n",
       "      <td>30.884558</td>\n",
       "      <td>0.790455</td>\n",
       "      <td>00:00</td>\n",
       "    </tr>\n",
       "    <tr>\n",
       "      <td>6</td>\n",
       "      <td>11684.404297</td>\n",
       "      <td>1786.846924</td>\n",
       "      <td>42.271111</td>\n",
       "      <td>28.037075</td>\n",
       "      <td>3.542096</td>\n",
       "      <td>2.349359</td>\n",
       "      <td>29.909016</td>\n",
       "      <td>0.803660</td>\n",
       "      <td>00:00</td>\n",
       "    </tr>\n",
       "    <tr>\n",
       "      <td>7</td>\n",
       "      <td>8669.610352</td>\n",
       "      <td>1910.582886</td>\n",
       "      <td>43.710217</td>\n",
       "      <td>28.991589</td>\n",
       "      <td>10.213235</td>\n",
       "      <td>6.774112</td>\n",
       "      <td>30.702143</td>\n",
       "      <td>0.790064</td>\n",
       "      <td>00:00</td>\n",
       "    </tr>\n",
       "    <tr>\n",
       "      <td>8</td>\n",
       "      <td>6574.387695</td>\n",
       "      <td>1752.091675</td>\n",
       "      <td>41.857990</td>\n",
       "      <td>27.763065</td>\n",
       "      <td>5.610480</td>\n",
       "      <td>3.721252</td>\n",
       "      <td>29.763205</td>\n",
       "      <td>0.807479</td>\n",
       "      <td>00:00</td>\n",
       "    </tr>\n",
       "    <tr>\n",
       "      <td>9</td>\n",
       "      <td>5107.605957</td>\n",
       "      <td>1720.648926</td>\n",
       "      <td>41.480705</td>\n",
       "      <td>27.512825</td>\n",
       "      <td>2.854883</td>\n",
       "      <td>1.893552</td>\n",
       "      <td>29.352566</td>\n",
       "      <td>0.810934</td>\n",
       "      <td>00:00</td>\n",
       "    </tr>\n",
       "  </tbody>\n",
       "</table>"
      ],
      "text/plain": [
       "<IPython.core.display.HTML object>"
      ]
     },
     "metadata": {},
     "output_type": "display_data"
    },
    {
     "data": {
      "image/png": "[encoded data removed]",
      "text/plain": [
       "<Figure size 432x288 with 1 Axes>"
      ]
     },
     "metadata": {},
     "output_type": "display_data"
    }
   ],
   "source": [
    "learn.fit_one_cycle(10, max_lr=1e-2, cbs=ShowGraphCallback())"
   ]
  },
  {
   "cell_type": "markdown",
   "metadata": {},
   "source": [
    "See validation results"
   ]
  },
  {
   "cell_type": "code",
   "execution_count": 13,
   "metadata": {
    "ExecuteTime": {
     "end_time": "2020-11-09T13:31:05.658406Z",
     "start_time": "2020-11-09T13:31:05.630718Z"
    }
   },
   "outputs": [
    {
     "data": {
      "text/html": [],
      "text/plain": [
       "<IPython.core.display.HTML object>"
      ]
     },
     "metadata": {},
     "output_type": "display_data"
    },
    {
     "data": {
      "text/plain": [
       "(#7) [1720.64892578125,41.48070526123047,27.51282501220703,2.8548827171325684,1.8935524225234985,29.35256576538086,0.8109343692132399]"
      ]
     },
     "execution_count": 13,
     "metadata": {},
     "output_type": "execute_result"
    }
   ],
   "source": [
    "learn.validate()"
   ]
  },
  {
   "cell_type": "markdown",
   "metadata": {},
   "source": [
    "`RegressionInterpretation` can be used to plot results."
   ]
  },
  {
   "cell_type": "code",
   "execution_count": 14,
   "metadata": {
    "ExecuteTime": {
     "end_time": "2020-11-09T13:31:05.766668Z",
     "start_time": "2020-11-09T13:31:05.659303Z"
    }
   },
   "outputs": [
    {
     "data": {
      "text/html": [],
      "text/plain": [
       "<IPython.core.display.HTML object>"
      ]
     },
     "metadata": {},
     "output_type": "display_data"
    }
   ],
   "source": [
    "reg_interp = RegressionInterpretation.from_learner(learn, ds_idx=1)"
   ]
  },
  {
   "cell_type": "code",
   "execution_count": 15,
   "metadata": {
    "ExecuteTime": {
     "end_time": "2020-11-09T13:31:06.092023Z",
     "start_time": "2020-11-09T13:31:05.767516Z"
    }
   },
   "outputs": [
    {
     "data": {
      "image/png": "[encoded data removed]",
      "text/plain": [
       "<Figure size 504x432 with 2 Axes>"
      ]
     },
     "metadata": {
      "needs_background": "light"
     },
     "output_type": "display_data"
    }
   ],
   "source": [
    "reg_interp.plot_results()\n",
    "plt.show()"
   ]
  },
  {
   "cell_type": "markdown",
   "metadata": {},
   "source": [
    "Evaluate test set."
   ]
  },
  {
   "cell_type": "code",
   "execution_count": 16,
   "metadata": {
    "ExecuteTime": {
     "end_time": "2020-11-09T13:31:06.100508Z",
     "start_time": "2020-11-09T13:31:06.092955Z"
    }
   },
   "outputs": [],
   "source": [
    "test_dls = test_tb.dataloaders(y_block=RegressionBlock(), shuffle_train=False, drop_last=False)"
   ]
  },
  {
   "cell_type": "code",
   "execution_count": 23,
   "metadata": {
    "ExecuteTime": {
     "end_time": "2020-11-09T13:36:40.545530Z",
     "start_time": "2020-11-09T13:36:40.515244Z"
    }
   },
   "outputs": [
    {
     "data": {
      "text/html": [],
      "text/plain": [
       "<IPython.core.display.HTML object>"
      ]
     },
     "metadata": {},
     "output_type": "display_data"
    }
   ],
   "source": [
    "test_interp = RegressionInterpretation.from_learner(learn, dl=test_dls.train, ds_idx=0)"
   ]
  },
  {
   "cell_type": "code",
   "execution_count": 24,
   "metadata": {
    "ExecuteTime": {
     "end_time": "2020-11-09T13:36:44.364832Z",
     "start_time": "2020-11-09T13:36:44.168782Z"
    }
   },
   "outputs": [
    {
     "data": {
      "image/png": "[encoded data removed]",
      "text/plain": [
       "<Figure size 504x432 with 2 Axes>"
      ]
     },
     "metadata": {
      "needs_background": "light"
     },
     "output_type": "display_data"
    }
   ],
   "source": [
    "test_interp.plot_results()\n",
    "plt.show()"
   ]
  },
  {
   "cell_type": "markdown",
   "metadata": {},
   "source": [
    "# Ensemble of ANNs"
   ]
  },
  {
   "cell_type": "markdown",
   "metadata": {},
   "source": [
    "Fit several models at once."
   ]
  },
  {
   "cell_type": "code",
   "execution_count": 38,
   "metadata": {
    "ExecuteTime": {
     "end_time": "2020-11-09T13:23:34.103360Z",
     "start_time": "2020-11-09T13:23:34.086056Z"
    }
   },
   "outputs": [],
   "source": [
    "ensemble = ANNEnsemble(dls, \n",
    "                       y_range=(0,1000), \n",
    "                       metrics=[rmse, rrmse, bias, bias_pct, mae, R2Score()], n_models=10)"
   ]
  },
  {
   "cell_type": "code",
   "execution_count": 39,
   "metadata": {
    "ExecuteTime": {
     "end_time": "2020-11-09T13:23:47.823084Z",
     "start_time": "2020-11-09T13:23:34.730789Z"
    },
    "scrolled": true
   },
   "outputs": [
    {
     "data": {
      "text/html": [
       "<table border=\"1\" class=\"dataframe\">\n",
       "  <thead>\n",
       "    <tr style=\"text-align: left;\">\n",
       "      <th>epoch</th>\n",
       "      <th>train_loss</th>\n",
       "      <th>valid_loss</th>\n",
       "      <th>_rmse</th>\n",
       "      <th>_rrmse</th>\n",
       "      <th>_bias</th>\n",
       "      <th>_bias_pct</th>\n",
       "      <th>mae</th>\n",
       "      <th>r2_score</th>\n",
       "      <th>time</th>\n",
       "    </tr>\n",
       "  </thead>\n",
       "  <tbody>\n",
       "    <tr>\n",
       "      <td>0</td>\n",
       "      <td>189596.656250</td>\n",
       "      <td>142800.171875</td>\n",
       "      <td>377.889099</td>\n",
       "      <td>250.641754</td>\n",
       "      <td>364.007263</td>\n",
       "      <td>241.434372</td>\n",
       "      <td>364.269501</td>\n",
       "      <td>-14.690944</td>\n",
       "      <td>00:00</td>\n",
       "    </tr>\n",
       "    <tr>\n",
       "      <td>1</td>\n",
       "      <td>136722.125000</td>\n",
       "      <td>46406.437500</td>\n",
       "      <td>215.421509</td>\n",
       "      <td>142.882187</td>\n",
       "      <td>184.329361</td>\n",
       "      <td>122.259766</td>\n",
       "      <td>195.486771</td>\n",
       "      <td>-4.099159</td>\n",
       "      <td>00:00</td>\n",
       "    </tr>\n",
       "    <tr>\n",
       "      <td>2</td>\n",
       "      <td>83825.468750</td>\n",
       "      <td>9108.976562</td>\n",
       "      <td>95.440956</td>\n",
       "      <td>63.302933</td>\n",
       "      <td>58.204765</td>\n",
       "      <td>38.605358</td>\n",
       "      <td>72.264626</td>\n",
       "      <td>-0.000898</td>\n",
       "      <td>00:00</td>\n",
       "    </tr>\n",
       "    <tr>\n",
       "      <td>3</td>\n",
       "      <td>53311.824219</td>\n",
       "      <td>4088.158447</td>\n",
       "      <td>63.938709</td>\n",
       "      <td>42.408501</td>\n",
       "      <td>19.222965</td>\n",
       "      <td>12.749978</td>\n",
       "      <td>44.578953</td>\n",
       "      <td>0.550791</td>\n",
       "      <td>00:00</td>\n",
       "    </tr>\n",
       "    <tr>\n",
       "      <td>4</td>\n",
       "      <td>35881.566406</td>\n",
       "      <td>2340.023682</td>\n",
       "      <td>48.373791</td>\n",
       "      <td>32.084785</td>\n",
       "      <td>-0.419636</td>\n",
       "      <td>-0.278331</td>\n",
       "      <td>34.868378</td>\n",
       "      <td>0.742877</td>\n",
       "      <td>00:00</td>\n",
       "    </tr>\n",
       "    <tr>\n",
       "      <td>5</td>\n",
       "      <td>25026.998047</td>\n",
       "      <td>2035.345337</td>\n",
       "      <td>45.114799</td>\n",
       "      <td>29.923204</td>\n",
       "      <td>1.760756</td>\n",
       "      <td>1.167853</td>\n",
       "      <td>32.440075</td>\n",
       "      <td>0.776355</td>\n",
       "      <td>00:00</td>\n",
       "    </tr>\n",
       "    <tr>\n",
       "      <td>6</td>\n",
       "      <td>17922.705078</td>\n",
       "      <td>2020.693970</td>\n",
       "      <td>44.952129</td>\n",
       "      <td>29.815310</td>\n",
       "      <td>8.660289</td>\n",
       "      <td>5.744092</td>\n",
       "      <td>32.034443</td>\n",
       "      <td>0.777965</td>\n",
       "      <td>00:00</td>\n",
       "    </tr>\n",
       "    <tr>\n",
       "      <td>7</td>\n",
       "      <td>13132.346680</td>\n",
       "      <td>1815.072266</td>\n",
       "      <td>42.603668</td>\n",
       "      <td>28.257650</td>\n",
       "      <td>0.456420</td>\n",
       "      <td>0.302729</td>\n",
       "      <td>30.502783</td>\n",
       "      <td>0.800559</td>\n",
       "      <td>00:00</td>\n",
       "    </tr>\n",
       "    <tr>\n",
       "      <td>8</td>\n",
       "      <td>9839.955078</td>\n",
       "      <td>1794.564209</td>\n",
       "      <td>42.362297</td>\n",
       "      <td>28.097557</td>\n",
       "      <td>3.558578</td>\n",
       "      <td>2.360291</td>\n",
       "      <td>30.237631</td>\n",
       "      <td>0.802813</td>\n",
       "      <td>00:00</td>\n",
       "    </tr>\n",
       "    <tr>\n",
       "      <td>9</td>\n",
       "      <td>7566.894531</td>\n",
       "      <td>1798.594604</td>\n",
       "      <td>42.409843</td>\n",
       "      <td>28.129091</td>\n",
       "      <td>3.622709</td>\n",
       "      <td>2.402827</td>\n",
       "      <td>30.302374</td>\n",
       "      <td>0.802370</td>\n",
       "      <td>00:00</td>\n",
       "    </tr>\n",
       "  </tbody>\n",
       "</table>"
      ],
      "text/plain": [
       "<IPython.core.display.HTML object>"
      ]
     },
     "metadata": {},
     "output_type": "display_data"
    },
    {
     "data": {
      "text/html": [
       "<table border=\"1\" class=\"dataframe\">\n",
       "  <thead>\n",
       "    <tr style=\"text-align: left;\">\n",
       "      <th>epoch</th>\n",
       "      <th>train_loss</th>\n",
       "      <th>valid_loss</th>\n",
       "      <th>_rmse</th>\n",
       "      <th>_rrmse</th>\n",
       "      <th>_bias</th>\n",
       "      <th>_bias_pct</th>\n",
       "      <th>mae</th>\n",
       "      <th>r2_score</th>\n",
       "      <th>time</th>\n",
       "    </tr>\n",
       "  </thead>\n",
       "  <tbody>\n",
       "    <tr>\n",
       "      <td>0</td>\n",
       "      <td>119539.250000</td>\n",
       "      <td>101851.242188</td>\n",
       "      <td>319.141418</td>\n",
       "      <td>211.676285</td>\n",
       "      <td>309.115448</td>\n",
       "      <td>205.026382</td>\n",
       "      <td>309.616028</td>\n",
       "      <td>-10.191459</td>\n",
       "      <td>00:00</td>\n",
       "    </tr>\n",
       "    <tr>\n",
       "      <td>1</td>\n",
       "      <td>81394.125000</td>\n",
       "      <td>25683.164062</td>\n",
       "      <td>160.259674</td>\n",
       "      <td>106.295120</td>\n",
       "      <td>120.652885</td>\n",
       "      <td>80.025200</td>\n",
       "      <td>140.987076</td>\n",
       "      <td>-1.822077</td>\n",
       "      <td>00:00</td>\n",
       "    </tr>\n",
       "    <tr>\n",
       "      <td>2</td>\n",
       "      <td>48821.761719</td>\n",
       "      <td>3498.912598</td>\n",
       "      <td>59.151608</td>\n",
       "      <td>39.233368</td>\n",
       "      <td>27.622778</td>\n",
       "      <td>18.321304</td>\n",
       "      <td>44.176567</td>\n",
       "      <td>0.615538</td>\n",
       "      <td>00:00</td>\n",
       "    </tr>\n",
       "    <tr>\n",
       "      <td>3</td>\n",
       "      <td>31301.541016</td>\n",
       "      <td>2785.480713</td>\n",
       "      <td>52.777653</td>\n",
       "      <td>35.005726</td>\n",
       "      <td>13.232265</td>\n",
       "      <td>8.776538</td>\n",
       "      <td>36.175476</td>\n",
       "      <td>0.693930</td>\n",
       "      <td>00:00</td>\n",
       "    </tr>\n",
       "    <tr>\n",
       "      <td>4</td>\n",
       "      <td>21203.960938</td>\n",
       "      <td>1798.629395</td>\n",
       "      <td>42.410252</td>\n",
       "      <td>28.129364</td>\n",
       "      <td>1.336690</td>\n",
       "      <td>0.886584</td>\n",
       "      <td>29.638416</td>\n",
       "      <td>0.802366</td>\n",
       "      <td>00:00</td>\n",
       "    </tr>\n",
       "    <tr>\n",
       "      <td>5</td>\n",
       "      <td>14952.667969</td>\n",
       "      <td>1785.306641</td>\n",
       "      <td>42.252888</td>\n",
       "      <td>28.024990</td>\n",
       "      <td>2.200731</td>\n",
       "      <td>1.459675</td>\n",
       "      <td>29.104362</td>\n",
       "      <td>0.803830</td>\n",
       "      <td>00:00</td>\n",
       "    </tr>\n",
       "    <tr>\n",
       "      <td>6</td>\n",
       "      <td>10884.496094</td>\n",
       "      <td>1750.006104</td>\n",
       "      <td>41.833076</td>\n",
       "      <td>27.746540</td>\n",
       "      <td>2.386546</td>\n",
       "      <td>1.582919</td>\n",
       "      <td>29.020388</td>\n",
       "      <td>0.807709</td>\n",
       "      <td>00:00</td>\n",
       "    </tr>\n",
       "    <tr>\n",
       "      <td>7</td>\n",
       "      <td>8137.291992</td>\n",
       "      <td>1725.336792</td>\n",
       "      <td>41.537174</td>\n",
       "      <td>27.550280</td>\n",
       "      <td>4.893115</td>\n",
       "      <td>3.245447</td>\n",
       "      <td>28.927834</td>\n",
       "      <td>0.810419</td>\n",
       "      <td>00:00</td>\n",
       "    </tr>\n",
       "    <tr>\n",
       "      <td>8</td>\n",
       "      <td>6237.452637</td>\n",
       "      <td>1815.652588</td>\n",
       "      <td>42.610477</td>\n",
       "      <td>28.262165</td>\n",
       "      <td>6.739427</td>\n",
       "      <td>4.470046</td>\n",
       "      <td>29.224588</td>\n",
       "      <td>0.800495</td>\n",
       "      <td>00:00</td>\n",
       "    </tr>\n",
       "    <tr>\n",
       "      <td>9</td>\n",
       "      <td>4878.815430</td>\n",
       "      <td>1850.263062</td>\n",
       "      <td>43.014683</td>\n",
       "      <td>28.530264</td>\n",
       "      <td>8.816379</td>\n",
       "      <td>5.847622</td>\n",
       "      <td>29.480820</td>\n",
       "      <td>0.796692</td>\n",
       "      <td>00:00</td>\n",
       "    </tr>\n",
       "  </tbody>\n",
       "</table>"
      ],
      "text/plain": [
       "<IPython.core.display.HTML object>"
      ]
     },
     "metadata": {},
     "output_type": "display_data"
    },
    {
     "data": {
      "text/html": [
       "<table border=\"1\" class=\"dataframe\">\n",
       "  <thead>\n",
       "    <tr style=\"text-align: left;\">\n",
       "      <th>epoch</th>\n",
       "      <th>train_loss</th>\n",
       "      <th>valid_loss</th>\n",
       "      <th>_rmse</th>\n",
       "      <th>_rrmse</th>\n",
       "      <th>_bias</th>\n",
       "      <th>_bias_pct</th>\n",
       "      <th>mae</th>\n",
       "      <th>r2_score</th>\n",
       "      <th>time</th>\n",
       "    </tr>\n",
       "  </thead>\n",
       "  <tbody>\n",
       "    <tr>\n",
       "      <td>0</td>\n",
       "      <td>143409.203125</td>\n",
       "      <td>122441.484375</td>\n",
       "      <td>349.916412</td>\n",
       "      <td>232.088348</td>\n",
       "      <td>338.285095</td>\n",
       "      <td>224.373672</td>\n",
       "      <td>338.754944</td>\n",
       "      <td>-12.453924</td>\n",
       "      <td>00:00</td>\n",
       "    </tr>\n",
       "    <tr>\n",
       "      <td>1</td>\n",
       "      <td>100945.835938</td>\n",
       "      <td>32757.257812</td>\n",
       "      <td>180.989670</td>\n",
       "      <td>120.044662</td>\n",
       "      <td>152.543304</td>\n",
       "      <td>101.177094</td>\n",
       "      <td>163.523773</td>\n",
       "      <td>-2.599382</td>\n",
       "      <td>00:00</td>\n",
       "    </tr>\n",
       "    <tr>\n",
       "      <td>2</td>\n",
       "      <td>61063.304688</td>\n",
       "      <td>5775.916992</td>\n",
       "      <td>75.999451</td>\n",
       "      <td>50.408005</td>\n",
       "      <td>42.915993</td>\n",
       "      <td>28.464804</td>\n",
       "      <td>55.683849</td>\n",
       "      <td>0.365340</td>\n",
       "      <td>00:00</td>\n",
       "    </tr>\n",
       "    <tr>\n",
       "      <td>3</td>\n",
       "      <td>38934.929688</td>\n",
       "      <td>2509.098145</td>\n",
       "      <td>50.090900</td>\n",
       "      <td>33.223690</td>\n",
       "      <td>5.107839</td>\n",
       "      <td>3.387866</td>\n",
       "      <td>35.969913</td>\n",
       "      <td>0.724299</td>\n",
       "      <td>00:00</td>\n",
       "    </tr>\n",
       "    <tr>\n",
       "      <td>4</td>\n",
       "      <td>26337.896484</td>\n",
       "      <td>2100.730713</td>\n",
       "      <td>45.833733</td>\n",
       "      <td>30.400049</td>\n",
       "      <td>2.602284</td>\n",
       "      <td>1.726012</td>\n",
       "      <td>32.749355</td>\n",
       "      <td>0.769171</td>\n",
       "      <td>00:00</td>\n",
       "    </tr>\n",
       "    <tr>\n",
       "      <td>5</td>\n",
       "      <td>18488.759766</td>\n",
       "      <td>1910.333374</td>\n",
       "      <td>43.707359</td>\n",
       "      <td>28.989693</td>\n",
       "      <td>3.038597</td>\n",
       "      <td>2.015404</td>\n",
       "      <td>30.812695</td>\n",
       "      <td>0.790092</td>\n",
       "      <td>00:00</td>\n",
       "    </tr>\n",
       "    <tr>\n",
       "      <td>6</td>\n",
       "      <td>13343.791992</td>\n",
       "      <td>1812.572632</td>\n",
       "      <td>42.574318</td>\n",
       "      <td>28.238184</td>\n",
       "      <td>3.624662</td>\n",
       "      <td>2.404122</td>\n",
       "      <td>29.465532</td>\n",
       "      <td>0.800834</td>\n",
       "      <td>00:00</td>\n",
       "    </tr>\n",
       "    <tr>\n",
       "      <td>7</td>\n",
       "      <td>9845.475586</td>\n",
       "      <td>1904.632935</td>\n",
       "      <td>43.642097</td>\n",
       "      <td>28.946409</td>\n",
       "      <td>7.413829</td>\n",
       "      <td>4.917356</td>\n",
       "      <td>30.349510</td>\n",
       "      <td>0.790718</td>\n",
       "      <td>00:00</td>\n",
       "    </tr>\n",
       "    <tr>\n",
       "      <td>8</td>\n",
       "      <td>7416.408203</td>\n",
       "      <td>1994.360962</td>\n",
       "      <td>44.658268</td>\n",
       "      <td>29.620399</td>\n",
       "      <td>9.859937</td>\n",
       "      <td>6.539781</td>\n",
       "      <td>30.862638</td>\n",
       "      <td>0.780859</td>\n",
       "      <td>00:00</td>\n",
       "    </tr>\n",
       "    <tr>\n",
       "      <td>9</td>\n",
       "      <td>5734.441895</td>\n",
       "      <td>1908.318848</td>\n",
       "      <td>43.684307</td>\n",
       "      <td>28.974405</td>\n",
       "      <td>7.393917</td>\n",
       "      <td>4.904149</td>\n",
       "      <td>30.309387</td>\n",
       "      <td>0.790313</td>\n",
       "      <td>00:00</td>\n",
       "    </tr>\n",
       "  </tbody>\n",
       "</table>"
      ],
      "text/plain": [
       "<IPython.core.display.HTML object>"
      ]
     },
     "metadata": {},
     "output_type": "display_data"
    },
    {
     "data": {
      "text/html": [
       "<table border=\"1\" class=\"dataframe\">\n",
       "  <thead>\n",
       "    <tr style=\"text-align: left;\">\n",
       "      <th>epoch</th>\n",
       "      <th>train_loss</th>\n",
       "      <th>valid_loss</th>\n",
       "      <th>_rmse</th>\n",
       "      <th>_rrmse</th>\n",
       "      <th>_bias</th>\n",
       "      <th>_bias_pct</th>\n",
       "      <th>mae</th>\n",
       "      <th>r2_score</th>\n",
       "      <th>time</th>\n",
       "    </tr>\n",
       "  </thead>\n",
       "  <tbody>\n",
       "    <tr>\n",
       "      <td>0</td>\n",
       "      <td>109625.539062</td>\n",
       "      <td>103775.460938</td>\n",
       "      <td>322.141968</td>\n",
       "      <td>213.666458</td>\n",
       "      <td>310.750610</td>\n",
       "      <td>206.110931</td>\n",
       "      <td>312.089905</td>\n",
       "      <td>-10.402892</td>\n",
       "      <td>00:00</td>\n",
       "    </tr>\n",
       "    <tr>\n",
       "      <td>1</td>\n",
       "      <td>73294.664062</td>\n",
       "      <td>21995.117188</td>\n",
       "      <td>148.307495</td>\n",
       "      <td>98.367622</td>\n",
       "      <td>105.533051</td>\n",
       "      <td>69.996696</td>\n",
       "      <td>129.921051</td>\n",
       "      <td>-1.416833</td>\n",
       "      <td>00:00</td>\n",
       "    </tr>\n",
       "    <tr>\n",
       "      <td>2</td>\n",
       "      <td>43461.878906</td>\n",
       "      <td>4441.714355</td>\n",
       "      <td>66.646187</td>\n",
       "      <td>44.204285</td>\n",
       "      <td>29.465094</td>\n",
       "      <td>19.543253</td>\n",
       "      <td>47.100410</td>\n",
       "      <td>0.511943</td>\n",
       "      <td>00:00</td>\n",
       "    </tr>\n",
       "    <tr>\n",
       "      <td>3</td>\n",
       "      <td>27873.912109</td>\n",
       "      <td>2441.758789</td>\n",
       "      <td>49.414154</td>\n",
       "      <td>32.774826</td>\n",
       "      <td>7.640739</td>\n",
       "      <td>5.067858</td>\n",
       "      <td>34.314354</td>\n",
       "      <td>0.731698</td>\n",
       "      <td>00:00</td>\n",
       "    </tr>\n",
       "    <tr>\n",
       "      <td>4</td>\n",
       "      <td>18897.255859</td>\n",
       "      <td>1656.783325</td>\n",
       "      <td>40.703606</td>\n",
       "      <td>26.997398</td>\n",
       "      <td>1.528367</td>\n",
       "      <td>1.013717</td>\n",
       "      <td>28.992262</td>\n",
       "      <td>0.817952</td>\n",
       "      <td>00:00</td>\n",
       "    </tr>\n",
       "    <tr>\n",
       "      <td>5</td>\n",
       "      <td>13329.375000</td>\n",
       "      <td>1540.844360</td>\n",
       "      <td>39.253590</td>\n",
       "      <td>26.035652</td>\n",
       "      <td>4.829819</td>\n",
       "      <td>3.203465</td>\n",
       "      <td>28.013706</td>\n",
       "      <td>0.830691</td>\n",
       "      <td>00:00</td>\n",
       "    </tr>\n",
       "    <tr>\n",
       "      <td>6</td>\n",
       "      <td>9722.991211</td>\n",
       "      <td>1481.448975</td>\n",
       "      <td>38.489597</td>\n",
       "      <td>25.528919</td>\n",
       "      <td>4.922403</td>\n",
       "      <td>3.264873</td>\n",
       "      <td>27.213501</td>\n",
       "      <td>0.837218</td>\n",
       "      <td>00:00</td>\n",
       "    </tr>\n",
       "    <tr>\n",
       "      <td>7</td>\n",
       "      <td>7263.121094</td>\n",
       "      <td>1478.954712</td>\n",
       "      <td>38.457180</td>\n",
       "      <td>25.507418</td>\n",
       "      <td>5.893133</td>\n",
       "      <td>3.908726</td>\n",
       "      <td>27.347258</td>\n",
       "      <td>0.837492</td>\n",
       "      <td>00:00</td>\n",
       "    </tr>\n",
       "    <tr>\n",
       "      <td>8</td>\n",
       "      <td>5541.485840</td>\n",
       "      <td>1485.814209</td>\n",
       "      <td>38.546261</td>\n",
       "      <td>25.566500</td>\n",
       "      <td>4.592964</td>\n",
       "      <td>3.046366</td>\n",
       "      <td>27.334249</td>\n",
       "      <td>0.836738</td>\n",
       "      <td>00:00</td>\n",
       "    </tr>\n",
       "    <tr>\n",
       "      <td>9</td>\n",
       "      <td>4360.844238</td>\n",
       "      <td>1482.115356</td>\n",
       "      <td>38.498249</td>\n",
       "      <td>25.534657</td>\n",
       "      <td>5.725121</td>\n",
       "      <td>3.797290</td>\n",
       "      <td>27.534180</td>\n",
       "      <td>0.837145</td>\n",
       "      <td>00:00</td>\n",
       "    </tr>\n",
       "  </tbody>\n",
       "</table>"
      ],
      "text/plain": [
       "<IPython.core.display.HTML object>"
      ]
     },
     "metadata": {},
     "output_type": "display_data"
    },
    {
     "data": {
      "text/html": [
       "<table border=\"1\" class=\"dataframe\">\n",
       "  <thead>\n",
       "    <tr style=\"text-align: left;\">\n",
       "      <th>epoch</th>\n",
       "      <th>train_loss</th>\n",
       "      <th>valid_loss</th>\n",
       "      <th>_rmse</th>\n",
       "      <th>_rrmse</th>\n",
       "      <th>_bias</th>\n",
       "      <th>_bias_pct</th>\n",
       "      <th>mae</th>\n",
       "      <th>r2_score</th>\n",
       "      <th>time</th>\n",
       "    </tr>\n",
       "  </thead>\n",
       "  <tbody>\n",
       "    <tr>\n",
       "      <td>0</td>\n",
       "      <td>140130.203125</td>\n",
       "      <td>113175.664062</td>\n",
       "      <td>336.415924</td>\n",
       "      <td>223.133926</td>\n",
       "      <td>323.235199</td>\n",
       "      <td>214.391571</td>\n",
       "      <td>324.879517</td>\n",
       "      <td>-11.435790</td>\n",
       "      <td>00:00</td>\n",
       "    </tr>\n",
       "    <tr>\n",
       "      <td>1</td>\n",
       "      <td>95525.070312</td>\n",
       "      <td>27756.593750</td>\n",
       "      <td>166.603104</td>\n",
       "      <td>110.502502</td>\n",
       "      <td>129.266327</td>\n",
       "      <td>85.738220</td>\n",
       "      <td>148.468475</td>\n",
       "      <td>-2.049906</td>\n",
       "      <td>00:00</td>\n",
       "    </tr>\n",
       "    <tr>\n",
       "      <td>2</td>\n",
       "      <td>57036.242188</td>\n",
       "      <td>5232.293945</td>\n",
       "      <td>72.334595</td>\n",
       "      <td>47.977222</td>\n",
       "      <td>40.955357</td>\n",
       "      <td>27.164377</td>\n",
       "      <td>53.169453</td>\n",
       "      <td>0.425073</td>\n",
       "      <td>00:00</td>\n",
       "    </tr>\n",
       "    <tr>\n",
       "      <td>3</td>\n",
       "      <td>36381.070312</td>\n",
       "      <td>3902.462402</td>\n",
       "      <td>62.469692</td>\n",
       "      <td>41.434147</td>\n",
       "      <td>17.032310</td>\n",
       "      <td>11.296987</td>\n",
       "      <td>41.161545</td>\n",
       "      <td>0.571196</td>\n",
       "      <td>00:00</td>\n",
       "    </tr>\n",
       "    <tr>\n",
       "      <td>4</td>\n",
       "      <td>24554.130859</td>\n",
       "      <td>1948.910400</td>\n",
       "      <td>44.146465</td>\n",
       "      <td>29.280939</td>\n",
       "      <td>0.604954</td>\n",
       "      <td>0.401247</td>\n",
       "      <td>30.537766</td>\n",
       "      <td>0.785853</td>\n",
       "      <td>00:00</td>\n",
       "    </tr>\n",
       "    <tr>\n",
       "      <td>5</td>\n",
       "      <td>17209.898438</td>\n",
       "      <td>1777.819214</td>\n",
       "      <td>42.164192</td>\n",
       "      <td>27.966160</td>\n",
       "      <td>3.731412</td>\n",
       "      <td>2.474926</td>\n",
       "      <td>30.076029</td>\n",
       "      <td>0.804652</td>\n",
       "      <td>00:00</td>\n",
       "    </tr>\n",
       "    <tr>\n",
       "      <td>6</td>\n",
       "      <td>12424.541016</td>\n",
       "      <td>1850.868652</td>\n",
       "      <td>43.021721</td>\n",
       "      <td>28.534931</td>\n",
       "      <td>7.593073</td>\n",
       "      <td>5.036242</td>\n",
       "      <td>29.938877</td>\n",
       "      <td>0.796626</td>\n",
       "      <td>00:00</td>\n",
       "    </tr>\n",
       "    <tr>\n",
       "      <td>7</td>\n",
       "      <td>9165.527344</td>\n",
       "      <td>1702.505371</td>\n",
       "      <td>41.261429</td>\n",
       "      <td>27.367386</td>\n",
       "      <td>4.519044</td>\n",
       "      <td>2.997338</td>\n",
       "      <td>29.048077</td>\n",
       "      <td>0.812928</td>\n",
       "      <td>00:00</td>\n",
       "    </tr>\n",
       "    <tr>\n",
       "      <td>8</td>\n",
       "      <td>6947.822754</td>\n",
       "      <td>1649.831787</td>\n",
       "      <td>40.618122</td>\n",
       "      <td>26.940701</td>\n",
       "      <td>2.339295</td>\n",
       "      <td>1.551580</td>\n",
       "      <td>28.366655</td>\n",
       "      <td>0.818716</td>\n",
       "      <td>00:00</td>\n",
       "    </tr>\n",
       "    <tr>\n",
       "      <td>9</td>\n",
       "      <td>5367.131348</td>\n",
       "      <td>1661.607788</td>\n",
       "      <td>40.762821</td>\n",
       "      <td>27.036676</td>\n",
       "      <td>2.842209</td>\n",
       "      <td>1.885146</td>\n",
       "      <td>28.485529</td>\n",
       "      <td>0.817422</td>\n",
       "      <td>00:00</td>\n",
       "    </tr>\n",
       "  </tbody>\n",
       "</table>"
      ],
      "text/plain": [
       "<IPython.core.display.HTML object>"
      ]
     },
     "metadata": {},
     "output_type": "display_data"
    },
    {
     "data": {
      "text/html": [
       "<table border=\"1\" class=\"dataframe\">\n",
       "  <thead>\n",
       "    <tr style=\"text-align: left;\">\n",
       "      <th>epoch</th>\n",
       "      <th>train_loss</th>\n",
       "      <th>valid_loss</th>\n",
       "      <th>_rmse</th>\n",
       "      <th>_rrmse</th>\n",
       "      <th>_bias</th>\n",
       "      <th>_bias_pct</th>\n",
       "      <th>mae</th>\n",
       "      <th>r2_score</th>\n",
       "      <th>time</th>\n",
       "    </tr>\n",
       "  </thead>\n",
       "  <tbody>\n",
       "    <tr>\n",
       "      <td>0</td>\n",
       "      <td>130816.484375</td>\n",
       "      <td>110771.164062</td>\n",
       "      <td>332.822998</td>\n",
       "      <td>220.750854</td>\n",
       "      <td>319.394501</td>\n",
       "      <td>211.844147</td>\n",
       "      <td>320.656952</td>\n",
       "      <td>-11.171583</td>\n",
       "      <td>00:00</td>\n",
       "    </tr>\n",
       "    <tr>\n",
       "      <td>1</td>\n",
       "      <td>89657.796875</td>\n",
       "      <td>28095.060547</td>\n",
       "      <td>167.615799</td>\n",
       "      <td>111.174202</td>\n",
       "      <td>132.182465</td>\n",
       "      <td>87.672401</td>\n",
       "      <td>148.861191</td>\n",
       "      <td>-2.087097</td>\n",
       "      <td>00:00</td>\n",
       "    </tr>\n",
       "    <tr>\n",
       "      <td>2</td>\n",
       "      <td>53709.117188</td>\n",
       "      <td>4789.685059</td>\n",
       "      <td>69.207558</td>\n",
       "      <td>45.903160</td>\n",
       "      <td>34.775646</td>\n",
       "      <td>23.065575</td>\n",
       "      <td>51.870358</td>\n",
       "      <td>0.473707</td>\n",
       "      <td>00:00</td>\n",
       "    </tr>\n",
       "    <tr>\n",
       "      <td>3</td>\n",
       "      <td>34483.691406</td>\n",
       "      <td>2400.479492</td>\n",
       "      <td>48.994690</td>\n",
       "      <td>32.496609</td>\n",
       "      <td>4.738672</td>\n",
       "      <td>3.143010</td>\n",
       "      <td>35.676025</td>\n",
       "      <td>0.736234</td>\n",
       "      <td>00:00</td>\n",
       "    </tr>\n",
       "    <tr>\n",
       "      <td>4</td>\n",
       "      <td>23456.947266</td>\n",
       "      <td>1979.303589</td>\n",
       "      <td>44.489365</td>\n",
       "      <td>29.508373</td>\n",
       "      <td>-2.786304</td>\n",
       "      <td>-1.848066</td>\n",
       "      <td>32.214561</td>\n",
       "      <td>0.782513</td>\n",
       "      <td>00:00</td>\n",
       "    </tr>\n",
       "    <tr>\n",
       "      <td>5</td>\n",
       "      <td>16490.234375</td>\n",
       "      <td>1885.309814</td>\n",
       "      <td>43.420155</td>\n",
       "      <td>28.799200</td>\n",
       "      <td>-3.299386</td>\n",
       "      <td>-2.188377</td>\n",
       "      <td>31.303576</td>\n",
       "      <td>0.792841</td>\n",
       "      <td>00:00</td>\n",
       "    </tr>\n",
       "    <tr>\n",
       "      <td>6</td>\n",
       "      <td>12002.334961</td>\n",
       "      <td>1894.982666</td>\n",
       "      <td>43.531399</td>\n",
       "      <td>28.872984</td>\n",
       "      <td>10.847270</td>\n",
       "      <td>7.194647</td>\n",
       "      <td>30.778370</td>\n",
       "      <td>0.791778</td>\n",
       "      <td>00:00</td>\n",
       "    </tr>\n",
       "    <tr>\n",
       "      <td>7</td>\n",
       "      <td>8863.985352</td>\n",
       "      <td>1588.930420</td>\n",
       "      <td>39.861389</td>\n",
       "      <td>26.438786</td>\n",
       "      <td>2.327552</td>\n",
       "      <td>1.543791</td>\n",
       "      <td>29.150404</td>\n",
       "      <td>0.825408</td>\n",
       "      <td>00:00</td>\n",
       "    </tr>\n",
       "    <tr>\n",
       "      <td>8</td>\n",
       "      <td>6770.588867</td>\n",
       "      <td>1595.788452</td>\n",
       "      <td>39.947319</td>\n",
       "      <td>26.495779</td>\n",
       "      <td>8.078430</td>\n",
       "      <td>5.358164</td>\n",
       "      <td>28.951082</td>\n",
       "      <td>0.824654</td>\n",
       "      <td>00:00</td>\n",
       "    </tr>\n",
       "    <tr>\n",
       "      <td>9</td>\n",
       "      <td>5306.541504</td>\n",
       "      <td>1576.678833</td>\n",
       "      <td>39.707420</td>\n",
       "      <td>26.336660</td>\n",
       "      <td>5.402730</td>\n",
       "      <td>3.583458</td>\n",
       "      <td>28.888985</td>\n",
       "      <td>0.826754</td>\n",
       "      <td>00:00</td>\n",
       "    </tr>\n",
       "  </tbody>\n",
       "</table>"
      ],
      "text/plain": [
       "<IPython.core.display.HTML object>"
      ]
     },
     "metadata": {},
     "output_type": "display_data"
    },
    {
     "data": {
      "text/html": [
       "<table border=\"1\" class=\"dataframe\">\n",
       "  <thead>\n",
       "    <tr style=\"text-align: left;\">\n",
       "      <th>epoch</th>\n",
       "      <th>train_loss</th>\n",
       "      <th>valid_loss</th>\n",
       "      <th>_rmse</th>\n",
       "      <th>_rrmse</th>\n",
       "      <th>_bias</th>\n",
       "      <th>_bias_pct</th>\n",
       "      <th>mae</th>\n",
       "      <th>r2_score</th>\n",
       "      <th>time</th>\n",
       "    </tr>\n",
       "  </thead>\n",
       "  <tbody>\n",
       "    <tr>\n",
       "      <td>0</td>\n",
       "      <td>104096.132812</td>\n",
       "      <td>95289.898438</td>\n",
       "      <td>308.690613</td>\n",
       "      <td>204.744598</td>\n",
       "      <td>297.090179</td>\n",
       "      <td>197.050415</td>\n",
       "      <td>298.021423</td>\n",
       "      <td>-9.470495</td>\n",
       "      <td>00:00</td>\n",
       "    </tr>\n",
       "    <tr>\n",
       "      <td>1</td>\n",
       "      <td>71066.148438</td>\n",
       "      <td>24888.537109</td>\n",
       "      <td>157.761002</td>\n",
       "      <td>104.637825</td>\n",
       "      <td>123.622292</td>\n",
       "      <td>81.994713</td>\n",
       "      <td>138.771378</td>\n",
       "      <td>-1.734763</td>\n",
       "      <td>00:00</td>\n",
       "    </tr>\n",
       "    <tr>\n",
       "      <td>2</td>\n",
       "      <td>42568.871094</td>\n",
       "      <td>4509.433105</td>\n",
       "      <td>67.152313</td>\n",
       "      <td>44.539982</td>\n",
       "      <td>25.376986</td>\n",
       "      <td>16.831743</td>\n",
       "      <td>44.572998</td>\n",
       "      <td>0.504502</td>\n",
       "      <td>00:00</td>\n",
       "    </tr>\n",
       "    <tr>\n",
       "      <td>3</td>\n",
       "      <td>27284.939453</td>\n",
       "      <td>3581.147461</td>\n",
       "      <td>59.842690</td>\n",
       "      <td>39.691742</td>\n",
       "      <td>14.848063</td>\n",
       "      <td>9.848245</td>\n",
       "      <td>37.332066</td>\n",
       "      <td>0.606502</td>\n",
       "      <td>00:00</td>\n",
       "    </tr>\n",
       "    <tr>\n",
       "      <td>4</td>\n",
       "      <td>18620.119141</td>\n",
       "      <td>2541.925049</td>\n",
       "      <td>50.417511</td>\n",
       "      <td>33.440323</td>\n",
       "      <td>8.859027</td>\n",
       "      <td>5.875909</td>\n",
       "      <td>32.405392</td>\n",
       "      <td>0.720692</td>\n",
       "      <td>00:00</td>\n",
       "    </tr>\n",
       "    <tr>\n",
       "      <td>5</td>\n",
       "      <td>13134.143555</td>\n",
       "      <td>2311.312988</td>\n",
       "      <td>48.076118</td>\n",
       "      <td>31.887352</td>\n",
       "      <td>3.175483</td>\n",
       "      <td>2.106196</td>\n",
       "      <td>32.055725</td>\n",
       "      <td>0.746032</td>\n",
       "      <td>00:00</td>\n",
       "    </tr>\n",
       "    <tr>\n",
       "      <td>6</td>\n",
       "      <td>9613.480469</td>\n",
       "      <td>2222.908691</td>\n",
       "      <td>47.147736</td>\n",
       "      <td>31.271585</td>\n",
       "      <td>11.441309</td>\n",
       "      <td>7.588654</td>\n",
       "      <td>30.728094</td>\n",
       "      <td>0.755746</td>\n",
       "      <td>00:00</td>\n",
       "    </tr>\n",
       "    <tr>\n",
       "      <td>7</td>\n",
       "      <td>7215.020020</td>\n",
       "      <td>2088.303955</td>\n",
       "      <td>45.697964</td>\n",
       "      <td>30.309999</td>\n",
       "      <td>8.072098</td>\n",
       "      <td>5.353964</td>\n",
       "      <td>30.306065</td>\n",
       "      <td>0.770536</td>\n",
       "      <td>00:00</td>\n",
       "    </tr>\n",
       "    <tr>\n",
       "      <td>8</td>\n",
       "      <td>5559.826660</td>\n",
       "      <td>2056.160645</td>\n",
       "      <td>45.344906</td>\n",
       "      <td>30.075825</td>\n",
       "      <td>6.286568</td>\n",
       "      <td>4.169679</td>\n",
       "      <td>29.967066</td>\n",
       "      <td>0.774068</td>\n",
       "      <td>00:00</td>\n",
       "    </tr>\n",
       "    <tr>\n",
       "      <td>9</td>\n",
       "      <td>4408.719238</td>\n",
       "      <td>2070.663086</td>\n",
       "      <td>45.504539</td>\n",
       "      <td>30.181705</td>\n",
       "      <td>8.663893</td>\n",
       "      <td>5.746483</td>\n",
       "      <td>29.796461</td>\n",
       "      <td>0.772475</td>\n",
       "      <td>00:00</td>\n",
       "    </tr>\n",
       "  </tbody>\n",
       "</table>"
      ],
      "text/plain": [
       "<IPython.core.display.HTML object>"
      ]
     },
     "metadata": {},
     "output_type": "display_data"
    },
    {
     "data": {
      "text/html": [
       "<table border=\"1\" class=\"dataframe\">\n",
       "  <thead>\n",
       "    <tr style=\"text-align: left;\">\n",
       "      <th>epoch</th>\n",
       "      <th>train_loss</th>\n",
       "      <th>valid_loss</th>\n",
       "      <th>_rmse</th>\n",
       "      <th>_rrmse</th>\n",
       "      <th>_bias</th>\n",
       "      <th>_bias_pct</th>\n",
       "      <th>mae</th>\n",
       "      <th>r2_score</th>\n",
       "      <th>time</th>\n",
       "    </tr>\n",
       "  </thead>\n",
       "  <tbody>\n",
       "    <tr>\n",
       "      <td>0</td>\n",
       "      <td>151014.687500</td>\n",
       "      <td>124330.210938</td>\n",
       "      <td>352.604919</td>\n",
       "      <td>233.871552</td>\n",
       "      <td>343.643494</td>\n",
       "      <td>227.927719</td>\n",
       "      <td>343.643494</td>\n",
       "      <td>-12.661458</td>\n",
       "      <td>00:00</td>\n",
       "    </tr>\n",
       "    <tr>\n",
       "      <td>1</td>\n",
       "      <td>103787.671875</td>\n",
       "      <td>31778.236328</td>\n",
       "      <td>178.264496</td>\n",
       "      <td>118.237137</td>\n",
       "      <td>140.272247</td>\n",
       "      <td>93.038094</td>\n",
       "      <td>157.503937</td>\n",
       "      <td>-2.491806</td>\n",
       "      <td>00:00</td>\n",
       "    </tr>\n",
       "    <tr>\n",
       "      <td>2</td>\n",
       "      <td>62489.667969</td>\n",
       "      <td>4512.265625</td>\n",
       "      <td>67.173401</td>\n",
       "      <td>44.553967</td>\n",
       "      <td>35.873512</td>\n",
       "      <td>23.793755</td>\n",
       "      <td>50.111542</td>\n",
       "      <td>0.504190</td>\n",
       "      <td>00:00</td>\n",
       "    </tr>\n",
       "    <tr>\n",
       "      <td>3</td>\n",
       "      <td>39734.726562</td>\n",
       "      <td>2427.809814</td>\n",
       "      <td>49.272812</td>\n",
       "      <td>32.681080</td>\n",
       "      <td>6.682258</td>\n",
       "      <td>4.432128</td>\n",
       "      <td>33.506840</td>\n",
       "      <td>0.733231</td>\n",
       "      <td>00:00</td>\n",
       "    </tr>\n",
       "    <tr>\n",
       "      <td>4</td>\n",
       "      <td>26750.109375</td>\n",
       "      <td>1863.418091</td>\n",
       "      <td>43.167328</td>\n",
       "      <td>28.631508</td>\n",
       "      <td>-1.122959</td>\n",
       "      <td>-0.744823</td>\n",
       "      <td>30.006174</td>\n",
       "      <td>0.795247</td>\n",
       "      <td>00:00</td>\n",
       "    </tr>\n",
       "    <tr>\n",
       "      <td>5</td>\n",
       "      <td>18683.730469</td>\n",
       "      <td>1722.221680</td>\n",
       "      <td>41.499660</td>\n",
       "      <td>27.525398</td>\n",
       "      <td>-2.780665</td>\n",
       "      <td>-1.844326</td>\n",
       "      <td>28.693895</td>\n",
       "      <td>0.810762</td>\n",
       "      <td>00:00</td>\n",
       "    </tr>\n",
       "    <tr>\n",
       "      <td>6</td>\n",
       "      <td>13419.446289</td>\n",
       "      <td>1613.426758</td>\n",
       "      <td>40.167484</td>\n",
       "      <td>26.641808</td>\n",
       "      <td>2.100920</td>\n",
       "      <td>1.393473</td>\n",
       "      <td>27.798082</td>\n",
       "      <td>0.822716</td>\n",
       "      <td>00:00</td>\n",
       "    </tr>\n",
       "    <tr>\n",
       "      <td>7</td>\n",
       "      <td>9890.553711</td>\n",
       "      <td>1593.392090</td>\n",
       "      <td>39.917316</td>\n",
       "      <td>26.475880</td>\n",
       "      <td>0.389883</td>\n",
       "      <td>0.258597</td>\n",
       "      <td>27.663300</td>\n",
       "      <td>0.824917</td>\n",
       "      <td>00:00</td>\n",
       "    </tr>\n",
       "    <tr>\n",
       "      <td>8</td>\n",
       "      <td>7454.240723</td>\n",
       "      <td>1594.030518</td>\n",
       "      <td>39.925312</td>\n",
       "      <td>26.481182</td>\n",
       "      <td>2.307861</td>\n",
       "      <td>1.530730</td>\n",
       "      <td>27.799898</td>\n",
       "      <td>0.824847</td>\n",
       "      <td>00:00</td>\n",
       "    </tr>\n",
       "    <tr>\n",
       "      <td>9</td>\n",
       "      <td>5763.000977</td>\n",
       "      <td>1594.730713</td>\n",
       "      <td>39.934078</td>\n",
       "      <td>26.486996</td>\n",
       "      <td>0.870707</td>\n",
       "      <td>0.577512</td>\n",
       "      <td>27.703262</td>\n",
       "      <td>0.824770</td>\n",
       "      <td>00:00</td>\n",
       "    </tr>\n",
       "  </tbody>\n",
       "</table>"
      ],
      "text/plain": [
       "<IPython.core.display.HTML object>"
      ]
     },
     "metadata": {},
     "output_type": "display_data"
    },
    {
     "data": {
      "text/html": [
       "<table border=\"1\" class=\"dataframe\">\n",
       "  <thead>\n",
       "    <tr style=\"text-align: left;\">\n",
       "      <th>epoch</th>\n",
       "      <th>train_loss</th>\n",
       "      <th>valid_loss</th>\n",
       "      <th>_rmse</th>\n",
       "      <th>_rrmse</th>\n",
       "      <th>_bias</th>\n",
       "      <th>_bias_pct</th>\n",
       "      <th>mae</th>\n",
       "      <th>r2_score</th>\n",
       "      <th>time</th>\n",
       "    </tr>\n",
       "  </thead>\n",
       "  <tbody>\n",
       "    <tr>\n",
       "      <td>0</td>\n",
       "      <td>151954.968750</td>\n",
       "      <td>123846.078125</td>\n",
       "      <td>351.917725</td>\n",
       "      <td>233.415771</td>\n",
       "      <td>342.985687</td>\n",
       "      <td>227.491440</td>\n",
       "      <td>342.985718</td>\n",
       "      <td>-12.608260</td>\n",
       "      <td>00:00</td>\n",
       "    </tr>\n",
       "    <tr>\n",
       "      <td>1</td>\n",
       "      <td>105095.429688</td>\n",
       "      <td>33713.082031</td>\n",
       "      <td>183.611221</td>\n",
       "      <td>121.783447</td>\n",
       "      <td>151.062332</td>\n",
       "      <td>100.194817</td>\n",
       "      <td>164.079483</td>\n",
       "      <td>-2.704408</td>\n",
       "      <td>00:00</td>\n",
       "    </tr>\n",
       "    <tr>\n",
       "      <td>2</td>\n",
       "      <td>63416.589844</td>\n",
       "      <td>5557.523926</td>\n",
       "      <td>74.548798</td>\n",
       "      <td>49.445831</td>\n",
       "      <td>34.044384</td>\n",
       "      <td>22.580551</td>\n",
       "      <td>55.074829</td>\n",
       "      <td>0.389337</td>\n",
       "      <td>00:00</td>\n",
       "    </tr>\n",
       "    <tr>\n",
       "      <td>3</td>\n",
       "      <td>40391.042969</td>\n",
       "      <td>2569.107666</td>\n",
       "      <td>50.686363</td>\n",
       "      <td>33.618645</td>\n",
       "      <td>7.203335</td>\n",
       "      <td>4.777742</td>\n",
       "      <td>36.089153</td>\n",
       "      <td>0.717705</td>\n",
       "      <td>00:00</td>\n",
       "    </tr>\n",
       "    <tr>\n",
       "      <td>4</td>\n",
       "      <td>27232.324219</td>\n",
       "      <td>2275.430908</td>\n",
       "      <td>47.701473</td>\n",
       "      <td>31.638861</td>\n",
       "      <td>3.269996</td>\n",
       "      <td>2.168884</td>\n",
       "      <td>33.583168</td>\n",
       "      <td>0.749975</td>\n",
       "      <td>00:00</td>\n",
       "    </tr>\n",
       "    <tr>\n",
       "      <td>5</td>\n",
       "      <td>19042.656250</td>\n",
       "      <td>2163.176270</td>\n",
       "      <td>46.509960</td>\n",
       "      <td>30.848568</td>\n",
       "      <td>0.290225</td>\n",
       "      <td>0.192497</td>\n",
       "      <td>32.211815</td>\n",
       "      <td>0.762309</td>\n",
       "      <td>00:00</td>\n",
       "    </tr>\n",
       "    <tr>\n",
       "      <td>6</td>\n",
       "      <td>13707.864258</td>\n",
       "      <td>2002.322388</td>\n",
       "      <td>44.747318</td>\n",
       "      <td>29.679466</td>\n",
       "      <td>5.527550</td>\n",
       "      <td>3.666247</td>\n",
       "      <td>30.732264</td>\n",
       "      <td>0.779984</td>\n",
       "      <td>00:00</td>\n",
       "    </tr>\n",
       "    <tr>\n",
       "      <td>7</td>\n",
       "      <td>10064.260742</td>\n",
       "      <td>1885.627075</td>\n",
       "      <td>43.423809</td>\n",
       "      <td>28.801622</td>\n",
       "      <td>3.891098</td>\n",
       "      <td>2.580841</td>\n",
       "      <td>29.782087</td>\n",
       "      <td>0.792806</td>\n",
       "      <td>00:00</td>\n",
       "    </tr>\n",
       "    <tr>\n",
       "      <td>8</td>\n",
       "      <td>7592.915527</td>\n",
       "      <td>1871.852783</td>\n",
       "      <td>43.264912</td>\n",
       "      <td>28.696234</td>\n",
       "      <td>5.259618</td>\n",
       "      <td>3.488537</td>\n",
       "      <td>29.568895</td>\n",
       "      <td>0.794320</td>\n",
       "      <td>00:00</td>\n",
       "    </tr>\n",
       "    <tr>\n",
       "      <td>9</td>\n",
       "      <td>5820.921875</td>\n",
       "      <td>1948.252197</td>\n",
       "      <td>44.139011</td>\n",
       "      <td>29.275995</td>\n",
       "      <td>6.944000</td>\n",
       "      <td>4.605733</td>\n",
       "      <td>30.108681</td>\n",
       "      <td>0.785925</td>\n",
       "      <td>00:00</td>\n",
       "    </tr>\n",
       "  </tbody>\n",
       "</table>"
      ],
      "text/plain": [
       "<IPython.core.display.HTML object>"
      ]
     },
     "metadata": {},
     "output_type": "display_data"
    },
    {
     "data": {
      "text/html": [
       "<table border=\"1\" class=\"dataframe\">\n",
       "  <thead>\n",
       "    <tr style=\"text-align: left;\">\n",
       "      <th>epoch</th>\n",
       "      <th>train_loss</th>\n",
       "      <th>valid_loss</th>\n",
       "      <th>_rmse</th>\n",
       "      <th>_rrmse</th>\n",
       "      <th>_bias</th>\n",
       "      <th>_bias_pct</th>\n",
       "      <th>mae</th>\n",
       "      <th>r2_score</th>\n",
       "      <th>time</th>\n",
       "    </tr>\n",
       "  </thead>\n",
       "  <tbody>\n",
       "    <tr>\n",
       "      <td>0</td>\n",
       "      <td>81886.687500</td>\n",
       "      <td>85720.398438</td>\n",
       "      <td>292.780487</td>\n",
       "      <td>194.191925</td>\n",
       "      <td>279.349731</td>\n",
       "      <td>185.283737</td>\n",
       "      <td>281.798492</td>\n",
       "      <td>-8.418995</td>\n",
       "      <td>00:00</td>\n",
       "    </tr>\n",
       "    <tr>\n",
       "      <td>1</td>\n",
       "      <td>53838.367188</td>\n",
       "      <td>16025.614258</td>\n",
       "      <td>126.592316</td>\n",
       "      <td>83.964630</td>\n",
       "      <td>95.507500</td>\n",
       "      <td>63.347069</td>\n",
       "      <td>110.311096</td>\n",
       "      <td>-0.760902</td>\n",
       "      <td>00:00</td>\n",
       "    </tr>\n",
       "    <tr>\n",
       "      <td>2</td>\n",
       "      <td>32087.562500</td>\n",
       "      <td>2409.155273</td>\n",
       "      <td>49.083145</td>\n",
       "      <td>32.555279</td>\n",
       "      <td>12.765740</td>\n",
       "      <td>8.467108</td>\n",
       "      <td>35.074532</td>\n",
       "      <td>0.735281</td>\n",
       "      <td>00:00</td>\n",
       "    </tr>\n",
       "    <tr>\n",
       "      <td>3</td>\n",
       "      <td>20747.320312</td>\n",
       "      <td>1712.634399</td>\n",
       "      <td>41.383991</td>\n",
       "      <td>27.448677</td>\n",
       "      <td>-3.846534</td>\n",
       "      <td>-2.551283</td>\n",
       "      <td>28.608984</td>\n",
       "      <td>0.811815</td>\n",
       "      <td>00:00</td>\n",
       "    </tr>\n",
       "    <tr>\n",
       "      <td>4</td>\n",
       "      <td>14156.438477</td>\n",
       "      <td>1513.858032</td>\n",
       "      <td>38.908329</td>\n",
       "      <td>25.806650</td>\n",
       "      <td>-3.489112</td>\n",
       "      <td>-2.314216</td>\n",
       "      <td>27.142189</td>\n",
       "      <td>0.833657</td>\n",
       "      <td>00:00</td>\n",
       "    </tr>\n",
       "    <tr>\n",
       "      <td>5</td>\n",
       "      <td>10100.175781</td>\n",
       "      <td>2027.581055</td>\n",
       "      <td>45.028671</td>\n",
       "      <td>29.866079</td>\n",
       "      <td>14.734907</td>\n",
       "      <td>9.773192</td>\n",
       "      <td>29.566319</td>\n",
       "      <td>0.777209</td>\n",
       "      <td>00:00</td>\n",
       "    </tr>\n",
       "    <tr>\n",
       "      <td>6</td>\n",
       "      <td>7435.301758</td>\n",
       "      <td>1342.729492</td>\n",
       "      <td>36.643276</td>\n",
       "      <td>24.304312</td>\n",
       "      <td>3.862423</td>\n",
       "      <td>2.561822</td>\n",
       "      <td>25.166691</td>\n",
       "      <td>0.852460</td>\n",
       "      <td>00:00</td>\n",
       "    </tr>\n",
       "    <tr>\n",
       "      <td>7</td>\n",
       "      <td>5610.944336</td>\n",
       "      <td>1376.108154</td>\n",
       "      <td>37.095928</td>\n",
       "      <td>24.604542</td>\n",
       "      <td>5.983351</td>\n",
       "      <td>3.968566</td>\n",
       "      <td>25.018463</td>\n",
       "      <td>0.848793</td>\n",
       "      <td>00:00</td>\n",
       "    </tr>\n",
       "    <tr>\n",
       "      <td>8</td>\n",
       "      <td>4364.824707</td>\n",
       "      <td>1307.571899</td>\n",
       "      <td>36.160362</td>\n",
       "      <td>23.984013</td>\n",
       "      <td>2.483103</td>\n",
       "      <td>1.646963</td>\n",
       "      <td>24.604927</td>\n",
       "      <td>0.856323</td>\n",
       "      <td>00:00</td>\n",
       "    </tr>\n",
       "    <tr>\n",
       "      <td>9</td>\n",
       "      <td>3490.396484</td>\n",
       "      <td>1311.932373</td>\n",
       "      <td>36.220608</td>\n",
       "      <td>24.023972</td>\n",
       "      <td>3.963024</td>\n",
       "      <td>2.628547</td>\n",
       "      <td>24.633612</td>\n",
       "      <td>0.855844</td>\n",
       "      <td>00:00</td>\n",
       "    </tr>\n",
       "  </tbody>\n",
       "</table>"
      ],
      "text/plain": [
       "<IPython.core.display.HTML object>"
      ]
     },
     "metadata": {},
     "output_type": "display_data"
    }
   ],
   "source": [
    "ensemble.fit_one_cycle(10, 1e-2)"
   ]
  },
  {
   "cell_type": "code",
   "execution_count": 40,
   "metadata": {
    "ExecuteTime": {
     "end_time": "2020-11-09T13:23:48.103090Z",
     "start_time": "2020-11-09T13:23:47.824095Z"
    }
   },
   "outputs": [
    {
     "data": {
      "text/html": [],
      "text/plain": [
       "<IPython.core.display.HTML object>"
      ]
     },
     "metadata": {},
     "output_type": "display_data"
    },
    {
     "data": {
      "text/html": [],
      "text/plain": [
       "<IPython.core.display.HTML object>"
      ]
     },
     "metadata": {},
     "output_type": "display_data"
    },
    {
     "data": {
      "text/html": [],
      "text/plain": [
       "<IPython.core.display.HTML object>"
      ]
     },
     "metadata": {},
     "output_type": "display_data"
    },
    {
     "data": {
      "text/html": [],
      "text/plain": [
       "<IPython.core.display.HTML object>"
      ]
     },
     "metadata": {},
     "output_type": "display_data"
    },
    {
     "data": {
      "text/html": [],
      "text/plain": [
       "<IPython.core.display.HTML object>"
      ]
     },
     "metadata": {},
     "output_type": "display_data"
    },
    {
     "data": {
      "text/html": [],
      "text/plain": [
       "<IPython.core.display.HTML object>"
      ]
     },
     "metadata": {},
     "output_type": "display_data"
    },
    {
     "data": {
      "text/html": [],
      "text/plain": [
       "<IPython.core.display.HTML object>"
      ]
     },
     "metadata": {},
     "output_type": "display_data"
    },
    {
     "data": {
      "text/html": [],
      "text/plain": [
       "<IPython.core.display.HTML object>"
      ]
     },
     "metadata": {},
     "output_type": "display_data"
    },
    {
     "data": {
      "text/html": [],
      "text/plain": [
       "<IPython.core.display.HTML object>"
      ]
     },
     "metadata": {},
     "output_type": "display_data"
    },
    {
     "data": {
      "text/html": [],
      "text/plain": [
       "<IPython.core.display.HTML object>"
      ]
     },
     "metadata": {},
     "output_type": "display_data"
    }
   ],
   "source": [
    "res = ensemble.validate()"
   ]
  },
  {
   "cell_type": "markdown",
   "metadata": {},
   "source": [
    "See ensemble validation results."
   ]
  },
  {
   "cell_type": "code",
   "execution_count": 41,
   "metadata": {
    "ExecuteTime": {
     "end_time": "2020-11-09T13:23:48.112104Z",
     "start_time": "2020-11-09T13:23:48.104268Z"
    }
   },
   "outputs": [
    {
     "data": {
      "text/html": [
       "<div>\n",
       "<style scoped>\n",
       "    .dataframe tbody tr th:only-of-type {\n",
       "        vertical-align: middle;\n",
       "    }\n",
       "\n",
       "    .dataframe tbody tr th {\n",
       "        vertical-align: top;\n",
       "    }\n",
       "\n",
       "    .dataframe thead th {\n",
       "        text-align: right;\n",
       "    }\n",
       "</style>\n",
       "<table border=\"1\" class=\"dataframe\">\n",
       "  <thead>\n",
       "    <tr style=\"text-align: right;\">\n",
       "      <th></th>\n",
       "      <th>model_identifier</th>\n",
       "      <th>_rmse</th>\n",
       "      <th>_rrmse</th>\n",
       "      <th>_bias</th>\n",
       "      <th>_bias_pct</th>\n",
       "      <th>mae</th>\n",
       "      <th>r2_score</th>\n",
       "    </tr>\n",
       "  </thead>\n",
       "  <tbody>\n",
       "    <tr>\n",
       "      <th>0</th>\n",
       "      <td>ensemble</td>\n",
       "      <td>37.999737</td>\n",
       "      <td>25.204008</td>\n",
       "      <td>5.424469</td>\n",
       "      <td>3.597877</td>\n",
       "      <td>26.460886</td>\n",
       "      <td>0.841335</td>\n",
       "    </tr>\n",
       "    <tr>\n",
       "      <th>1</th>\n",
       "      <td>0</td>\n",
       "      <td>42.409843</td>\n",
       "      <td>28.129091</td>\n",
       "      <td>3.622709</td>\n",
       "      <td>2.402827</td>\n",
       "      <td>30.302376</td>\n",
       "      <td>0.802370</td>\n",
       "    </tr>\n",
       "    <tr>\n",
       "      <th>2</th>\n",
       "      <td>1</td>\n",
       "      <td>43.014683</td>\n",
       "      <td>28.530264</td>\n",
       "      <td>8.816379</td>\n",
       "      <td>5.847622</td>\n",
       "      <td>29.480820</td>\n",
       "      <td>0.796692</td>\n",
       "    </tr>\n",
       "    <tr>\n",
       "      <th>3</th>\n",
       "      <td>2</td>\n",
       "      <td>43.684307</td>\n",
       "      <td>28.974405</td>\n",
       "      <td>7.393917</td>\n",
       "      <td>4.904149</td>\n",
       "      <td>30.309391</td>\n",
       "      <td>0.790313</td>\n",
       "    </tr>\n",
       "    <tr>\n",
       "      <th>4</th>\n",
       "      <td>3</td>\n",
       "      <td>38.498249</td>\n",
       "      <td>25.534657</td>\n",
       "      <td>5.725121</td>\n",
       "      <td>3.797290</td>\n",
       "      <td>27.534176</td>\n",
       "      <td>0.837145</td>\n",
       "    </tr>\n",
       "    <tr>\n",
       "      <th>5</th>\n",
       "      <td>4</td>\n",
       "      <td>40.762821</td>\n",
       "      <td>27.036676</td>\n",
       "      <td>2.842209</td>\n",
       "      <td>1.885146</td>\n",
       "      <td>28.485527</td>\n",
       "      <td>0.817422</td>\n",
       "    </tr>\n",
       "    <tr>\n",
       "      <th>6</th>\n",
       "      <td>5</td>\n",
       "      <td>39.707420</td>\n",
       "      <td>26.336660</td>\n",
       "      <td>5.402730</td>\n",
       "      <td>3.583458</td>\n",
       "      <td>28.888988</td>\n",
       "      <td>0.826754</td>\n",
       "    </tr>\n",
       "    <tr>\n",
       "      <th>7</th>\n",
       "      <td>6</td>\n",
       "      <td>45.504539</td>\n",
       "      <td>30.181705</td>\n",
       "      <td>8.663893</td>\n",
       "      <td>5.746483</td>\n",
       "      <td>29.796459</td>\n",
       "      <td>0.772475</td>\n",
       "    </tr>\n",
       "    <tr>\n",
       "      <th>8</th>\n",
       "      <td>7</td>\n",
       "      <td>39.934078</td>\n",
       "      <td>26.486996</td>\n",
       "      <td>0.870707</td>\n",
       "      <td>0.577512</td>\n",
       "      <td>27.703260</td>\n",
       "      <td>0.824770</td>\n",
       "    </tr>\n",
       "    <tr>\n",
       "      <th>9</th>\n",
       "      <td>8</td>\n",
       "      <td>44.139011</td>\n",
       "      <td>29.275995</td>\n",
       "      <td>6.944000</td>\n",
       "      <td>4.605733</td>\n",
       "      <td>30.108683</td>\n",
       "      <td>0.785925</td>\n",
       "    </tr>\n",
       "    <tr>\n",
       "      <th>10</th>\n",
       "      <td>9</td>\n",
       "      <td>36.220608</td>\n",
       "      <td>24.023972</td>\n",
       "      <td>3.963024</td>\n",
       "      <td>2.628547</td>\n",
       "      <td>24.633610</td>\n",
       "      <td>0.855844</td>\n",
       "    </tr>\n",
       "  </tbody>\n",
       "</table>\n",
       "</div>"
      ],
      "text/plain": [
       "   model_identifier      _rmse     _rrmse     _bias  _bias_pct        mae  \\\n",
       "0          ensemble  37.999737  25.204008  5.424469   3.597877  26.460886   \n",
       "1                 0  42.409843  28.129091  3.622709   2.402827  30.302376   \n",
       "2                 1  43.014683  28.530264  8.816379   5.847622  29.480820   \n",
       "3                 2  43.684307  28.974405  7.393917   4.904149  30.309391   \n",
       "4                 3  38.498249  25.534657  5.725121   3.797290  27.534176   \n",
       "5                 4  40.762821  27.036676  2.842209   1.885146  28.485527   \n",
       "6                 5  39.707420  26.336660  5.402730   3.583458  28.888988   \n",
       "7                 6  45.504539  30.181705  8.663893   5.746483  29.796459   \n",
       "8                 7  39.934078  26.486996  0.870707   0.577512  27.703260   \n",
       "9                 8  44.139011  29.275995  6.944000   4.605733  30.108683   \n",
       "10                9  36.220608  24.023972  3.963024   2.628547  24.633610   \n",
       "\n",
       "    r2_score  \n",
       "0   0.841335  \n",
       "1   0.802370  \n",
       "2   0.796692  \n",
       "3   0.790313  \n",
       "4   0.837145  \n",
       "5   0.817422  \n",
       "6   0.826754  \n",
       "7   0.772475  \n",
       "8   0.824770  \n",
       "9   0.785925  \n",
       "10  0.855844  "
      ]
     },
     "execution_count": 41,
     "metadata": {},
     "output_type": "execute_result"
    }
   ],
   "source": [
    "res"
   ]
  },
  {
   "cell_type": "code",
   "execution_count": 42,
   "metadata": {
    "ExecuteTime": {
     "end_time": "2020-11-09T13:23:48.600052Z",
     "start_time": "2020-11-09T13:23:48.113284Z"
    }
   },
   "outputs": [
    {
     "data": {
      "text/html": [],
      "text/plain": [
       "<IPython.core.display.HTML object>"
      ]
     },
     "metadata": {},
     "output_type": "display_data"
    },
    {
     "data": {
      "text/html": [],
      "text/plain": [
       "<IPython.core.display.HTML object>"
      ]
     },
     "metadata": {},
     "output_type": "display_data"
    },
    {
     "data": {
      "text/html": [],
      "text/plain": [
       "<IPython.core.display.HTML object>"
      ]
     },
     "metadata": {},
     "output_type": "display_data"
    },
    {
     "data": {
      "text/html": [],
      "text/plain": [
       "<IPython.core.display.HTML object>"
      ]
     },
     "metadata": {},
     "output_type": "display_data"
    },
    {
     "data": {
      "text/html": [],
      "text/plain": [
       "<IPython.core.display.HTML object>"
      ]
     },
     "metadata": {},
     "output_type": "display_data"
    },
    {
     "data": {
      "text/html": [],
      "text/plain": [
       "<IPython.core.display.HTML object>"
      ]
     },
     "metadata": {},
     "output_type": "display_data"
    },
    {
     "data": {
      "text/html": [],
      "text/plain": [
       "<IPython.core.display.HTML object>"
      ]
     },
     "metadata": {},
     "output_type": "display_data"
    },
    {
     "data": {
      "text/html": [],
      "text/plain": [
       "<IPython.core.display.HTML object>"
      ]
     },
     "metadata": {},
     "output_type": "display_data"
    },
    {
     "data": {
      "text/html": [],
      "text/plain": [
       "<IPython.core.display.HTML object>"
      ]
     },
     "metadata": {},
     "output_type": "display_data"
    },
    {
     "data": {
      "text/html": [],
      "text/plain": [
       "<IPython.core.display.HTML object>"
      ]
     },
     "metadata": {},
     "output_type": "display_data"
    }
   ],
   "source": [
    "ens_int = RegressionInterpretation.from_ensemble(ensemble)"
   ]
  },
  {
   "cell_type": "code",
   "execution_count": 43,
   "metadata": {
    "ExecuteTime": {
     "end_time": "2020-11-09T13:23:48.792824Z",
     "start_time": "2020-11-09T13:23:48.600945Z"
    }
   },
   "outputs": [
    {
     "data": {
      "image/png": "[encoded data removed]",
      "text/plain": [
       "<Figure size 504x432 with 2 Axes>"
      ]
     },
     "metadata": {
      "needs_background": "light"
     },
     "output_type": "display_data"
    }
   ],
   "source": [
    "ens_int.plot_results()\n",
    "plt.show()"
   ]
  },
  {
   "cell_type": "markdown",
   "metadata": {},
   "source": [
    "Run test set predictions."
   ]
  },
  {
   "cell_type": "code",
   "execution_count": 55,
   "metadata": {
    "ExecuteTime": {
     "end_time": "2020-11-09T13:24:25.101203Z",
     "start_time": "2020-11-09T13:24:24.821165Z"
    }
   },
   "outputs": [
    {
     "data": {
      "text/html": [],
      "text/plain": [
       "<IPython.core.display.HTML object>"
      ]
     },
     "metadata": {},
     "output_type": "display_data"
    },
    {
     "data": {
      "text/html": [],
      "text/plain": [
       "<IPython.core.display.HTML object>"
      ]
     },
     "metadata": {},
     "output_type": "display_data"
    },
    {
     "data": {
      "text/html": [],
      "text/plain": [
       "<IPython.core.display.HTML object>"
      ]
     },
     "metadata": {},
     "output_type": "display_data"
    },
    {
     "data": {
      "text/html": [],
      "text/plain": [
       "<IPython.core.display.HTML object>"
      ]
     },
     "metadata": {},
     "output_type": "display_data"
    },
    {
     "data": {
      "text/html": [],
      "text/plain": [
       "<IPython.core.display.HTML object>"
      ]
     },
     "metadata": {},
     "output_type": "display_data"
    },
    {
     "data": {
      "text/html": [],
      "text/plain": [
       "<IPython.core.display.HTML object>"
      ]
     },
     "metadata": {},
     "output_type": "display_data"
    },
    {
     "data": {
      "text/html": [],
      "text/plain": [
       "<IPython.core.display.HTML object>"
      ]
     },
     "metadata": {},
     "output_type": "display_data"
    },
    {
     "data": {
      "text/html": [],
      "text/plain": [
       "<IPython.core.display.HTML object>"
      ]
     },
     "metadata": {},
     "output_type": "display_data"
    },
    {
     "data": {
      "text/html": [],
      "text/plain": [
       "<IPython.core.display.HTML object>"
      ]
     },
     "metadata": {},
     "output_type": "display_data"
    },
    {
     "data": {
      "text/html": [],
      "text/plain": [
       "<IPython.core.display.HTML object>"
      ]
     },
     "metadata": {},
     "output_type": "display_data"
    },
    {
     "data": {
      "text/html": [
       "<div>\n",
       "<style scoped>\n",
       "    .dataframe tbody tr th:only-of-type {\n",
       "        vertical-align: middle;\n",
       "    }\n",
       "\n",
       "    .dataframe tbody tr th {\n",
       "        vertical-align: top;\n",
       "    }\n",
       "\n",
       "    .dataframe thead th {\n",
       "        text-align: right;\n",
       "    }\n",
       "</style>\n",
       "<table border=\"1\" class=\"dataframe\">\n",
       "  <thead>\n",
       "    <tr style=\"text-align: right;\">\n",
       "      <th></th>\n",
       "      <th>model_identifier</th>\n",
       "      <th>_rmse</th>\n",
       "      <th>_rrmse</th>\n",
       "      <th>_bias</th>\n",
       "      <th>_bias_pct</th>\n",
       "      <th>mae</th>\n",
       "      <th>r2_score</th>\n",
       "    </tr>\n",
       "  </thead>\n",
       "  <tbody>\n",
       "    <tr>\n",
       "      <th>0</th>\n",
       "      <td>ensemble</td>\n",
       "      <td>37.663593</td>\n",
       "      <td>24.776455</td>\n",
       "      <td>0.897448</td>\n",
       "      <td>0.590373</td>\n",
       "      <td>26.763708</td>\n",
       "      <td>0.849259</td>\n",
       "    </tr>\n",
       "    <tr>\n",
       "      <th>1</th>\n",
       "      <td>0</td>\n",
       "      <td>42.186283</td>\n",
       "      <td>27.751642</td>\n",
       "      <td>-2.104330</td>\n",
       "      <td>-1.384304</td>\n",
       "      <td>31.099106</td>\n",
       "      <td>0.810883</td>\n",
       "    </tr>\n",
       "    <tr>\n",
       "      <th>2</th>\n",
       "      <td>1</td>\n",
       "      <td>41.967667</td>\n",
       "      <td>27.607828</td>\n",
       "      <td>2.612102</td>\n",
       "      <td>1.718334</td>\n",
       "      <td>29.261814</td>\n",
       "      <td>0.812838</td>\n",
       "    </tr>\n",
       "    <tr>\n",
       "      <th>3</th>\n",
       "      <td>2</td>\n",
       "      <td>40.969700</td>\n",
       "      <td>26.951330</td>\n",
       "      <td>2.487811</td>\n",
       "      <td>1.636571</td>\n",
       "      <td>30.231760</td>\n",
       "      <td>0.821633</td>\n",
       "    </tr>\n",
       "    <tr>\n",
       "      <th>4</th>\n",
       "      <td>3</td>\n",
       "      <td>37.440872</td>\n",
       "      <td>24.629942</td>\n",
       "      <td>1.821014</td>\n",
       "      <td>1.197928</td>\n",
       "      <td>27.103006</td>\n",
       "      <td>0.851036</td>\n",
       "    </tr>\n",
       "    <tr>\n",
       "      <th>5</th>\n",
       "      <td>4</td>\n",
       "      <td>42.817543</td>\n",
       "      <td>28.166908</td>\n",
       "      <td>1.225528</td>\n",
       "      <td>0.806196</td>\n",
       "      <td>29.775957</td>\n",
       "      <td>0.805181</td>\n",
       "    </tr>\n",
       "    <tr>\n",
       "      <th>6</th>\n",
       "      <td>5</td>\n",
       "      <td>44.040543</td>\n",
       "      <td>28.971443</td>\n",
       "      <td>0.339224</td>\n",
       "      <td>0.223154</td>\n",
       "      <td>31.538509</td>\n",
       "      <td>0.793892</td>\n",
       "    </tr>\n",
       "    <tr>\n",
       "      <th>7</th>\n",
       "      <td>6</td>\n",
       "      <td>39.418530</td>\n",
       "      <td>25.930918</td>\n",
       "      <td>0.414753</td>\n",
       "      <td>0.272840</td>\n",
       "      <td>27.883177</td>\n",
       "      <td>0.834884</td>\n",
       "    </tr>\n",
       "    <tr>\n",
       "      <th>8</th>\n",
       "      <td>7</td>\n",
       "      <td>42.483612</td>\n",
       "      <td>27.947239</td>\n",
       "      <td>-0.410631</td>\n",
       "      <td>-0.270128</td>\n",
       "      <td>30.548061</td>\n",
       "      <td>0.808207</td>\n",
       "    </tr>\n",
       "    <tr>\n",
       "      <th>9</th>\n",
       "      <td>8</td>\n",
       "      <td>39.598988</td>\n",
       "      <td>26.049629</td>\n",
       "      <td>3.569808</td>\n",
       "      <td>2.348347</td>\n",
       "      <td>28.522034</td>\n",
       "      <td>0.833369</td>\n",
       "    </tr>\n",
       "    <tr>\n",
       "      <th>10</th>\n",
       "      <td>9</td>\n",
       "      <td>37.420750</td>\n",
       "      <td>24.616705</td>\n",
       "      <td>-0.980795</td>\n",
       "      <td>-0.645202</td>\n",
       "      <td>26.476976</td>\n",
       "      <td>0.851196</td>\n",
       "    </tr>\n",
       "  </tbody>\n",
       "</table>\n",
       "</div>"
      ],
      "text/plain": [
       "   model_identifier      _rmse     _rrmse     _bias  _bias_pct        mae  \\\n",
       "0          ensemble  37.663593  24.776455  0.897448   0.590373  26.763708   \n",
       "1                 0  42.186283  27.751642 -2.104330  -1.384304  31.099106   \n",
       "2                 1  41.967667  27.607828  2.612102   1.718334  29.261814   \n",
       "3                 2  40.969700  26.951330  2.487811   1.636571  30.231760   \n",
       "4                 3  37.440872  24.629942  1.821014   1.197928  27.103006   \n",
       "5                 4  42.817543  28.166908  1.225528   0.806196  29.775957   \n",
       "6                 5  44.040543  28.971443  0.339224   0.223154  31.538509   \n",
       "7                 6  39.418530  25.930918  0.414753   0.272840  27.883177   \n",
       "8                 7  42.483612  27.947239 -0.410631  -0.270128  30.548061   \n",
       "9                 8  39.598988  26.049629  3.569808   2.348347  28.522034   \n",
       "10                9  37.420750  24.616705 -0.980795  -0.645202  26.476976   \n",
       "\n",
       "    r2_score  \n",
       "0   0.849259  \n",
       "1   0.810883  \n",
       "2   0.812838  \n",
       "3   0.821633  \n",
       "4   0.851036  \n",
       "5   0.805181  \n",
       "6   0.793892  \n",
       "7   0.834884  \n",
       "8   0.808207  \n",
       "9   0.833369  \n",
       "10  0.851196  "
      ]
     },
     "execution_count": 55,
     "metadata": {},
     "output_type": "execute_result"
    }
   ],
   "source": [
    "test_res = ensemble.validate(dl=test_dls[0])\n",
    "test_res"
   ]
  },
  {
   "cell_type": "code",
   "execution_count": 56,
   "metadata": {
    "ExecuteTime": {
     "end_time": "2020-11-09T13:24:26.164258Z",
     "start_time": "2020-11-09T13:24:25.911096Z"
    }
   },
   "outputs": [
    {
     "data": {
      "text/html": [],
      "text/plain": [
       "<IPython.core.display.HTML object>"
      ]
     },
     "metadata": {},
     "output_type": "display_data"
    },
    {
     "data": {
      "text/html": [],
      "text/plain": [
       "<IPython.core.display.HTML object>"
      ]
     },
     "metadata": {},
     "output_type": "display_data"
    },
    {
     "data": {
      "text/html": [],
      "text/plain": [
       "<IPython.core.display.HTML object>"
      ]
     },
     "metadata": {},
     "output_type": "display_data"
    },
    {
     "data": {
      "text/html": [],
      "text/plain": [
       "<IPython.core.display.HTML object>"
      ]
     },
     "metadata": {},
     "output_type": "display_data"
    },
    {
     "data": {
      "text/html": [],
      "text/plain": [
       "<IPython.core.display.HTML object>"
      ]
     },
     "metadata": {},
     "output_type": "display_data"
    },
    {
     "data": {
      "text/html": [],
      "text/plain": [
       "<IPython.core.display.HTML object>"
      ]
     },
     "metadata": {},
     "output_type": "display_data"
    },
    {
     "data": {
      "text/html": [],
      "text/plain": [
       "<IPython.core.display.HTML object>"
      ]
     },
     "metadata": {},
     "output_type": "display_data"
    },
    {
     "data": {
      "text/html": [],
      "text/plain": [
       "<IPython.core.display.HTML object>"
      ]
     },
     "metadata": {},
     "output_type": "display_data"
    },
    {
     "data": {
      "text/html": [],
      "text/plain": [
       "<IPython.core.display.HTML object>"
      ]
     },
     "metadata": {},
     "output_type": "display_data"
    },
    {
     "data": {
      "text/html": [],
      "text/plain": [
       "<IPython.core.display.HTML object>"
      ]
     },
     "metadata": {},
     "output_type": "display_data"
    }
   ],
   "source": [
    "test_ens_interp = RegressionInterpretation.from_ensemble(ensemble, dl=test_dls[0])"
   ]
  },
  {
   "cell_type": "code",
   "execution_count": 57,
   "metadata": {
    "ExecuteTime": {
     "end_time": "2020-11-09T13:24:26.923929Z",
     "start_time": "2020-11-09T13:24:26.740903Z"
    }
   },
   "outputs": [
    {
     "data": {
      "image/png": "[encoded data removed]",
      "text/plain": [
       "<Figure size 504x432 with 2 Axes>"
      ]
     },
     "metadata": {
      "needs_background": "light"
     },
     "output_type": "display_data"
    }
   ],
   "source": [
    "test_ens_interp.plot_results()\n",
    "plt.show()"
   ]
  },
  {
   "cell_type": "markdown",
   "metadata": {},
   "source": [
    "# Comparison: Random forest"
   ]
  },
  {
   "cell_type": "markdown",
   "metadata": {},
   "source": [
    "`TabularPandas` makes it simple to use sklearn models with the same data and preprocessing."
   ]
  },
  {
   "cell_type": "code",
   "execution_count": 36,
   "metadata": {
    "ExecuteTime": {
     "end_time": "2020-11-06T09:17:28.242887Z",
     "start_time": "2020-11-06T09:17:27.150360Z"
    }
   },
   "outputs": [],
   "source": [
    "from sklearn.ensemble import RandomForestRegressor"
   ]
  },
  {
   "cell_type": "markdown",
   "metadata": {},
   "source": [
    "Below values for max_features and min_samples_leaf should generally work well."
   ]
  },
  {
   "cell_type": "code",
   "execution_count": 37,
   "metadata": {
    "ExecuteTime": {
     "end_time": "2020-11-06T09:17:28.246957Z",
     "start_time": "2020-11-06T09:17:28.244503Z"
    }
   },
   "outputs": [],
   "source": [
    "rf = RandomForestRegressor(n_estimators=500, max_features=0.5, min_samples_leaf=4, oob_score=True)"
   ]
  },
  {
   "cell_type": "code",
   "execution_count": 38,
   "metadata": {
    "ExecuteTime": {
     "end_time": "2020-11-06T09:17:34.653784Z",
     "start_time": "2020-11-06T09:17:28.819249Z"
    }
   },
   "outputs": [
    {
     "data": {
      "text/plain": [
       "RandomForestRegressor(max_features=0.5, min_samples_leaf=4, n_estimators=500,\n",
       "                      oob_score=True)"
      ]
     },
     "execution_count": 38,
     "metadata": {},
     "output_type": "execute_result"
    }
   ],
   "source": [
    "rf.fit(trainval_tb.train.xs, trainval_tb.train.ys.values.ravel())"
   ]
  },
  {
   "cell_type": "code",
   "execution_count": 39,
   "metadata": {
    "ExecuteTime": {
     "end_time": "2020-11-06T09:17:34.756795Z",
     "start_time": "2020-11-06T09:17:34.656987Z"
    }
   },
   "outputs": [],
   "source": [
    "rf_preds = rf.predict(trainval_tb.valid.xs)"
   ]
  },
  {
   "cell_type": "markdown",
   "metadata": {},
   "source": [
    "Validation results"
   ]
  },
  {
   "cell_type": "code",
   "execution_count": 40,
   "metadata": {
    "ExecuteTime": {
     "end_time": "2020-11-06T09:17:35.242718Z",
     "start_time": "2020-11-06T09:17:34.759631Z"
    }
   },
   "outputs": [
    {
     "data": {
      "image/png": "[encoded data removed]",
      "text/plain": [
       "<Figure size 504x432 with 2 Axes>"
      ]
     },
     "metadata": {
      "needs_background": "light"
     },
     "output_type": "display_data"
    }
   ],
   "source": [
    "plot_sklearn_regression(rf, trainval_tb.valid.xs, trainval_tb.valid.ys)\n",
    "plt.show()"
   ]
  },
  {
   "cell_type": "code",
   "execution_count": 41,
   "metadata": {
    "ExecuteTime": {
     "end_time": "2020-11-06T09:17:35.654064Z",
     "start_time": "2020-11-06T09:17:35.244556Z"
    }
   },
   "outputs": [
    {
     "data": {
      "image/png": "[encoded data removed]",
      "text/plain": [
       "<Figure size 504x432 with 2 Axes>"
      ]
     },
     "metadata": {
      "needs_background": "light"
     },
     "output_type": "display_data"
    }
   ],
   "source": [
    "plot_sklearn_regression(rf, trainval_tb.valid.xs, trainval_tb.valid.ys, log_y=True)\n",
    "plt.show()"
   ]
  },
  {
   "cell_type": "markdown",
   "metadata": {},
   "source": [
    "Test results"
   ]
  },
  {
   "cell_type": "code",
   "execution_count": 42,
   "metadata": {
    "ExecuteTime": {
     "end_time": "2020-11-06T09:17:36.212949Z",
     "start_time": "2020-11-06T09:17:35.657205Z"
    }
   },
   "outputs": [
    {
     "data": {
      "image/png": "[encoded data removed]",
      "text/plain": [
       "<Figure size 504x432 with 2 Axes>"
      ]
     },
     "metadata": {
      "needs_background": "light"
     },
     "output_type": "display_data"
    }
   ],
   "source": [
    "plot_sklearn_regression(rf, test_tb.train.xs, test_tb.train.ys)\n",
    "plt.show()"
   ]
  },
  {
   "cell_type": "code",
   "execution_count": 43,
   "metadata": {
    "ExecuteTime": {
     "end_time": "2020-11-06T09:17:36.708174Z",
     "start_time": "2020-11-06T09:17:36.214972Z"
    }
   },
   "outputs": [
    {
     "data": {
      "image/png": "[encoded data removed]",
      "text/plain": [
       "<Figure size 504x432 with 2 Axes>"
      ]
     },
     "metadata": {
      "needs_background": "light"
     },
     "output_type": "display_data"
    }
   ],
   "source": [
    "plot_sklearn_regression(rf, test_tb.train.xs, test_tb.train.ys, log_y=True)\n",
    "plt.show()"
   ]
  },
  {
   "cell_type": "code",
   "execution_count": null,
   "metadata": {},
   "outputs": [],
   "source": []
  }
 ],
 "metadata": {
  "_draft": {
   "nbviewer_url": "https://gist.github.com/dc7eb4d2965a6babe6ed2610b300f7b4"
  },
  "gist": {
   "data": {
    "description": "LiDAR predictions.ipynb",
    "public": true
   },
   "id": "dc7eb4d2965a6babe6ed2610b300f7b4"
  },
  "kernelspec": {
   "display_name": "Python 3",
   "language": "python",
   "name": "python3"
  },
  "language_info": {
   "codemirror_mode": {
    "name": "ipython",
    "version": 3
   },
   "file_extension": ".py",
   "mimetype": "text/x-python",
   "name": "python",
   "nbconvert_exporter": "python",
   "pygments_lexer": "ipython3",
   "version": "3.8.3"
  },
  "latex_envs": {
   "LaTeX_envs_menu_present": true,
   "autoclose": false,
   "autocomplete": true,
   "bibliofile": "biblio.bib",
   "cite_by": "apalike",
   "current_citInitial": 1,
   "eqLabelWithNumbers": true,
   "eqNumInitial": 1,
   "hotkeys": {
    "equation": "Ctrl-E",
    "itemize": "Ctrl-I"
   },
   "labels_anchors": false,
   "latex_user_defs": false,
   "report_style_numbering": false,
   "user_envs_cfg": false
  },
  "toc": {
   "base_numbering": 1,
   "nav_menu": {},
   "number_sections": true,
   "sideBar": true,
   "skip_h1_title": false,
   "title_cell": "Table of Contents",
   "title_sidebar": "Contents",
   "toc_cell": false,
   "toc_position": {
    "height": "calc(100% - 180px)",
    "left": "10px",
    "top": "150px",
    "width": "303px"
   },
   "toc_section_display": true,
   "toc_window_display": true
  }
 },
 "nbformat": 4,
 "nbformat_minor": 4
}
