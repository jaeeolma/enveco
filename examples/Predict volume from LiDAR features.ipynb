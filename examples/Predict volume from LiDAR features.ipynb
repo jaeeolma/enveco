{
 "cells": [
  {
   "cell_type": "markdown",
   "metadata": {},
   "source": [
    "# Predict volume from LiDAR features"
   ]
  },
  {
   "cell_type": "code",
   "execution_count": 1,
   "metadata": {
    "ExecuteTime": {
     "end_time": "2020-12-09T08:27:16.217189Z",
     "start_time": "2020-12-09T08:27:12.534776Z"
    }
   },
   "outputs": [],
   "source": [
    "from fastai.data.all import *\n",
    "from fastai.tabular.all import *\n",
    "from fastai.callback.progress import ShowGraphCallback"
   ]
  },
  {
   "cell_type": "code",
   "execution_count": 2,
   "metadata": {
    "ExecuteTime": {
     "end_time": "2020-12-09T08:27:16.620045Z",
     "start_time": "2020-12-09T08:27:16.218621Z"
    }
   },
   "outputs": [
    {
     "name": "stderr",
     "output_type": "stream",
     "text": [
      "/home/mayrajeo/miniconda3/envs/enveco/lib/python3.8/site-packages/tqdm/std.py:697: FutureWarning: The Panel class is removed from pandas. Accessing it from the top-level namespace will also be removed in the next version\n",
      "  from pandas import Panel\n"
     ]
    }
   ],
   "source": [
    "absolute_path = Path().absolute()\n",
    "sys.path.append(str(absolute_path.parents[0]))\n",
    "\n",
    "from enveco.tabular.preprocessing import *\n",
    "from enveco.interpretation import *\n",
    "from enveco.model.ensemble import *\n",
    "from enveco.metrics import *"
   ]
  },
  {
   "cell_type": "markdown",
   "metadata": {},
   "source": [
    "Run the example workflow for predicting the volume of the field plot from LiDAR-derived features."
   ]
  },
  {
   "cell_type": "markdown",
   "metadata": {},
   "source": [
    "# Read and preprocess data"
   ]
  },
  {
   "cell_type": "code",
   "execution_count": 81,
   "metadata": {
    "ExecuteTime": {
     "end_time": "2020-12-09T08:38:37.120298Z",
     "start_time": "2020-12-09T08:38:37.099409Z"
    }
   },
   "outputs": [],
   "source": [
    "#data_path = Path('../../../andras/ml/AV_leafon/')\n",
    "data_path = Path('../../enveco_data/enveco/')\n",
    "\n",
    "preprocessor = EnvecoPreprocessor(data_path/'AV.leaf.on.train.csv', \n",
    "                                  data_path/'AV.leaf.on.val.csv',\n",
    "                                  data_path/'AV.leaf.on.test.csv')"
   ]
  },
  {
   "cell_type": "markdown",
   "metadata": {},
   "source": [
    "Preprocess dataframes and extract lidar features from them. Specify which features are needed:\n",
    "\n",
    "* height_features\n",
    "* point_features\n",
    "* intensity_features\n",
    "* height_quantiles\n",
    "* point_proportions\n",
    "* canopy_densities\n",
    "\n",
    "Also, specify whether to `normalize` data (default: True) or to log-transform target column (default: False)"
   ]
  },
  {
   "cell_type": "code",
   "execution_count": 82,
   "metadata": {
    "ExecuteTime": {
     "end_time": "2020-12-09T08:38:37.710091Z",
     "start_time": "2020-12-09T08:38:37.707515Z"
    }
   },
   "outputs": [],
   "source": [
    "def tree_pcts(row):\n",
    "    return [row.v_ma/row.v, row.v_ku/row.v, row.v_lp/row.v]"
   ]
  },
  {
   "cell_type": "code",
   "execution_count": 83,
   "metadata": {
    "ExecuteTime": {
     "end_time": "2020-12-09T08:38:39.466810Z",
     "start_time": "2020-12-09T08:38:39.355716Z"
    }
   },
   "outputs": [],
   "source": [
    "preprocessor.train_val_df[['rel_v_ma', 'rel_v_ku', 'rel_v_lp']] = preprocessor.train_val_df.apply(lambda row: tree_pcts(row), \n",
    "                                                                                                  axis=1, result_type='expand')"
   ]
  },
  {
   "cell_type": "code",
   "execution_count": 85,
   "metadata": {
    "ExecuteTime": {
     "end_time": "2020-12-09T08:39:05.218640Z",
     "start_time": "2020-12-09T08:39:05.094741Z"
    }
   },
   "outputs": [],
   "source": [
    "preprocessor.test_df[['rel_v_ma', 'rel_v_ku', 'rel_v_lp']] = preprocessor.test_df.apply(lambda row: tree_pcts(row), \n",
    "                                                                                                  axis=1, result_type='expand')"
   ]
  },
  {
   "cell_type": "code",
   "execution_count": 86,
   "metadata": {
    "ExecuteTime": {
     "end_time": "2020-12-09T08:39:06.340047Z",
     "start_time": "2020-12-09T08:39:06.317604Z"
    }
   },
   "outputs": [
    {
     "data": {
      "text/html": [
       "<div>\n",
       "<style scoped>\n",
       "    .dataframe tbody tr th:only-of-type {\n",
       "        vertical-align: middle;\n",
       "    }\n",
       "\n",
       "    .dataframe tbody tr th {\n",
       "        vertical-align: top;\n",
       "    }\n",
       "\n",
       "    .dataframe thead th {\n",
       "        text-align: right;\n",
       "    }\n",
       "</style>\n",
       "<table border=\"1\" class=\"dataframe\">\n",
       "  <thead>\n",
       "    <tr style=\"text-align: right;\">\n",
       "      <th></th>\n",
       "      <th>sampleplotid</th>\n",
       "      <th>x</th>\n",
       "      <th>y</th>\n",
       "      <th>measurementdate</th>\n",
       "      <th>g</th>\n",
       "      <th>d</th>\n",
       "      <th>h</th>\n",
       "      <th>v</th>\n",
       "      <th>v_ma</th>\n",
       "      <th>v_ku</th>\n",
       "      <th>...</th>\n",
       "      <th>a_date_1</th>\n",
       "      <th>a_window_1</th>\n",
       "      <th>filename_2</th>\n",
       "      <th>a_date_2</th>\n",
       "      <th>a_window_2</th>\n",
       "      <th>v_lp_proc</th>\n",
       "      <th>is_valid</th>\n",
       "      <th>rel_v_ma</th>\n",
       "      <th>rel_v_ku</th>\n",
       "      <th>rel_v_lp</th>\n",
       "    </tr>\n",
       "  </thead>\n",
       "  <tbody>\n",
       "    <tr>\n",
       "      <th>0</th>\n",
       "      <td>901034</td>\n",
       "      <td>313598.50</td>\n",
       "      <td>6888193.46</td>\n",
       "      <td>2013</td>\n",
       "      <td>30.0</td>\n",
       "      <td>25.9</td>\n",
       "      <td>23.9</td>\n",
       "      <td>336.62</td>\n",
       "      <td>50.11</td>\n",
       "      <td>27.73</td>\n",
       "      <td>...</td>\n",
       "      <td>2013-07-11</td>\n",
       "      <td>C</td>\n",
       "      <td>NaN</td>\n",
       "      <td>NaN</td>\n",
       "      <td>NaN</td>\n",
       "      <td>77</td>\n",
       "      <td>0</td>\n",
       "      <td>0.148862</td>\n",
       "      <td>0.082378</td>\n",
       "      <td>0.768760</td>\n",
       "    </tr>\n",
       "    <tr>\n",
       "      <th>1</th>\n",
       "      <td>901038</td>\n",
       "      <td>314591.78</td>\n",
       "      <td>6888461.84</td>\n",
       "      <td>2013</td>\n",
       "      <td>18.6</td>\n",
       "      <td>16.0</td>\n",
       "      <td>15.9</td>\n",
       "      <td>146.00</td>\n",
       "      <td>142.50</td>\n",
       "      <td>0.00</td>\n",
       "      <td>...</td>\n",
       "      <td>2013-07-11</td>\n",
       "      <td>C</td>\n",
       "      <td>NaN</td>\n",
       "      <td>NaN</td>\n",
       "      <td>NaN</td>\n",
       "      <td>2</td>\n",
       "      <td>0</td>\n",
       "      <td>0.976027</td>\n",
       "      <td>0.000000</td>\n",
       "      <td>0.023973</td>\n",
       "    </tr>\n",
       "    <tr>\n",
       "      <th>2</th>\n",
       "      <td>901044</td>\n",
       "      <td>317890.37</td>\n",
       "      <td>6888182.49</td>\n",
       "      <td>2013</td>\n",
       "      <td>26.8</td>\n",
       "      <td>18.4</td>\n",
       "      <td>18.4</td>\n",
       "      <td>240.46</td>\n",
       "      <td>139.89</td>\n",
       "      <td>81.77</td>\n",
       "      <td>...</td>\n",
       "      <td>2013-07-11</td>\n",
       "      <td>C</td>\n",
       "      <td>NaN</td>\n",
       "      <td>NaN</td>\n",
       "      <td>NaN</td>\n",
       "      <td>8</td>\n",
       "      <td>0</td>\n",
       "      <td>0.581760</td>\n",
       "      <td>0.340057</td>\n",
       "      <td>0.078142</td>\n",
       "    </tr>\n",
       "    <tr>\n",
       "      <th>3</th>\n",
       "      <td>901048</td>\n",
       "      <td>318879.42</td>\n",
       "      <td>6888447.55</td>\n",
       "      <td>2013</td>\n",
       "      <td>34.3</td>\n",
       "      <td>20.2</td>\n",
       "      <td>19.3</td>\n",
       "      <td>321.29</td>\n",
       "      <td>72.10</td>\n",
       "      <td>172.35</td>\n",
       "      <td>...</td>\n",
       "      <td>2013-07-11</td>\n",
       "      <td>C</td>\n",
       "      <td>NaN</td>\n",
       "      <td>NaN</td>\n",
       "      <td>NaN</td>\n",
       "      <td>24</td>\n",
       "      <td>0</td>\n",
       "      <td>0.224408</td>\n",
       "      <td>0.536431</td>\n",
       "      <td>0.239161</td>\n",
       "    </tr>\n",
       "    <tr>\n",
       "      <th>4</th>\n",
       "      <td>901054</td>\n",
       "      <td>322193.41</td>\n",
       "      <td>6888196.04</td>\n",
       "      <td>2013</td>\n",
       "      <td>13.8</td>\n",
       "      <td>10.0</td>\n",
       "      <td>9.1</td>\n",
       "      <td>67.10</td>\n",
       "      <td>57.40</td>\n",
       "      <td>9.70</td>\n",
       "      <td>...</td>\n",
       "      <td>2013-07-11</td>\n",
       "      <td>C</td>\n",
       "      <td>NaN</td>\n",
       "      <td>NaN</td>\n",
       "      <td>NaN</td>\n",
       "      <td>0</td>\n",
       "      <td>0</td>\n",
       "      <td>0.855440</td>\n",
       "      <td>0.144560</td>\n",
       "      <td>0.000000</td>\n",
       "    </tr>\n",
       "  </tbody>\n",
       "</table>\n",
       "<p>5 rows × 23 columns</p>\n",
       "</div>"
      ],
      "text/plain": [
       "   sampleplotid          x           y  measurementdate     g     d     h  \\\n",
       "0        901034  313598.50  6888193.46             2013  30.0  25.9  23.9   \n",
       "1        901038  314591.78  6888461.84             2013  18.6  16.0  15.9   \n",
       "2        901044  317890.37  6888182.49             2013  26.8  18.4  18.4   \n",
       "3        901048  318879.42  6888447.55             2013  34.3  20.2  19.3   \n",
       "4        901054  322193.41  6888196.04             2013  13.8  10.0   9.1   \n",
       "\n",
       "        v    v_ma    v_ku  ...    a_date_1  a_window_1 filename_2 a_date_2  \\\n",
       "0  336.62   50.11   27.73  ...  2013-07-11           C        NaN      NaN   \n",
       "1  146.00  142.50    0.00  ...  2013-07-11           C        NaN      NaN   \n",
       "2  240.46  139.89   81.77  ...  2013-07-11           C        NaN      NaN   \n",
       "3  321.29   72.10  172.35  ...  2013-07-11           C        NaN      NaN   \n",
       "4   67.10   57.40    9.70  ...  2013-07-11           C        NaN      NaN   \n",
       "\n",
       "  a_window_2  v_lp_proc  is_valid  rel_v_ma  rel_v_ku  rel_v_lp  \n",
       "0        NaN         77         0  0.148862  0.082378  0.768760  \n",
       "1        NaN          2         0  0.976027  0.000000  0.023973  \n",
       "2        NaN          8         0  0.581760  0.340057  0.078142  \n",
       "3        NaN         24         0  0.224408  0.536431  0.239161  \n",
       "4        NaN          0         0  0.855440  0.144560  0.000000  \n",
       "\n",
       "[5 rows x 23 columns]"
      ]
     },
     "execution_count": 86,
     "metadata": {},
     "output_type": "execute_result"
    }
   ],
   "source": [
    "preprocessor.train_val_df.head()"
   ]
  },
  {
   "cell_type": "code",
   "execution_count": 134,
   "metadata": {
    "ExecuteTime": {
     "end_time": "2020-12-09T08:48:26.405367Z",
     "start_time": "2020-12-09T08:48:17.954780Z"
    }
   },
   "outputs": [
    {
     "name": "stderr",
     "output_type": "stream",
     "text": [
      "100%|██████████| 1269/1269 [00:07<00:00, 179.04it/s]\n",
      "100%|██████████| 225/225 [00:01<00:00, 177.92it/s]\n"
     ]
    }
   ],
   "source": [
    "trainval_tb, test_tb = preprocessor.preprocess_image(target_col=['rel_v_ku'], path=data_path/'AV_tif',\n",
    "                                                     mask_plot=True,\n",
    "                                                     #min_h=1.5,\n",
    "                                                     normalize=True,\n",
    "                                                     log_y=False)"
   ]
  },
  {
   "cell_type": "markdown",
   "metadata": {},
   "source": [
    "Previous method returns two `TabularPandas` objects. Put them to dataloaders."
   ]
  },
  {
   "cell_type": "code",
   "execution_count": 135,
   "metadata": {
    "ExecuteTime": {
     "end_time": "2020-12-09T08:48:40.541515Z",
     "start_time": "2020-12-09T08:48:40.530648Z"
    }
   },
   "outputs": [],
   "source": [
    "dls = trainval_tb.dataloaders(bs=64, y_block=CategoryBlock)"
   ]
  },
  {
   "cell_type": "markdown",
   "metadata": {},
   "source": [
    "Check the distribution of the target variable `v`, in order to get limits for `sigmoid_range`."
   ]
  },
  {
   "cell_type": "code",
   "execution_count": 136,
   "metadata": {
    "ExecuteTime": {
     "end_time": "2020-12-09T08:48:40.997656Z",
     "start_time": "2020-12-09T08:48:40.988083Z"
    }
   },
   "outputs": [
    {
     "data": {
      "text/plain": [
       "count    1044.000000\n",
       "mean        0.181619\n",
       "std         0.267724\n",
       "min         0.000000\n",
       "25%         0.000000\n",
       "50%         0.034944\n",
       "75%         0.259585\n",
       "max         1.000000\n",
       "Name: rel_v_ku, dtype: float64"
      ]
     },
     "execution_count": 136,
     "metadata": {},
     "output_type": "execute_result"
    }
   ],
   "source": [
    "trainval_tb.train.y.describe()"
   ]
  },
  {
   "cell_type": "code",
   "execution_count": 137,
   "metadata": {
    "ExecuteTime": {
     "end_time": "2020-12-09T08:48:41.463004Z",
     "start_time": "2020-12-09T08:48:41.452727Z"
    }
   },
   "outputs": [
    {
     "data": {
      "text/plain": [
       "count    225.000000\n",
       "mean       0.167017\n",
       "std        0.253934\n",
       "min        0.000000\n",
       "25%        0.000000\n",
       "50%        0.035067\n",
       "75%        0.207746\n",
       "max        1.000000\n",
       "Name: rel_v_ku, dtype: float64"
      ]
     },
     "execution_count": 137,
     "metadata": {},
     "output_type": "execute_result"
    }
   ],
   "source": [
    "trainval_tb.valid.y.describe()"
   ]
  },
  {
   "cell_type": "code",
   "execution_count": 138,
   "metadata": {
    "ExecuteTime": {
     "end_time": "2020-12-09T08:48:41.865154Z",
     "start_time": "2020-12-09T08:48:41.853454Z"
    }
   },
   "outputs": [
    {
     "data": {
      "text/plain": [
       "count    225.000000\n",
       "mean       0.156236\n",
       "std        0.244777\n",
       "min        0.000000\n",
       "25%        0.000000\n",
       "50%        0.024285\n",
       "75%        0.229972\n",
       "max        1.000000\n",
       "Name: rel_v_ku, dtype: float64"
      ]
     },
     "execution_count": 138,
     "metadata": {},
     "output_type": "execute_result"
    }
   ],
   "source": [
    "test_tb.train.y.describe()"
   ]
  },
  {
   "cell_type": "markdown",
   "metadata": {},
   "source": [
    "# ANN"
   ]
  },
  {
   "cell_type": "markdown",
   "metadata": {},
   "source": [
    "Create `Learner` object. Specify y_range to better control the training, set 1000 m³ as the maximum value for the total volume.\n",
    "\n",
    "Loss function is Mean Squared Error, monitor also Root Mean Squared Error, mean-normalized RMSE, Mean Absolute Error, R2Score, bias and mean-scaled bias. Target variable is log-transformed, so all metrics are log-equivalents (so MSLE, RMSLE...)."
   ]
  },
  {
   "cell_type": "code",
   "execution_count": 139,
   "metadata": {
    "ExecuteTime": {
     "end_time": "2020-12-09T08:48:43.160075Z",
     "start_time": "2020-12-09T08:48:43.140120Z"
    }
   },
   "outputs": [
    {
     "data": {
      "text/html": [
       "<table border=\"1\" class=\"dataframe\">\n",
       "  <thead>\n",
       "    <tr style=\"text-align: left;\">\n",
       "      <th>epoch</th>\n",
       "      <th>train_loss</th>\n",
       "      <th>valid_loss</th>\n",
       "      <th>_rmse</th>\n",
       "      <th>_rrmse</th>\n",
       "      <th>_bias</th>\n",
       "      <th>_bias_pct</th>\n",
       "      <th>mae</th>\n",
       "      <th>r2_score</th>\n",
       "      <th>time</th>\n",
       "    </tr>\n",
       "  </thead>\n",
       "  <tbody>\n",
       "    <tr>\n",
       "      <td>0</td>\n",
       "      <td>None</td>\n",
       "      <td>None</td>\n",
       "      <td>None</td>\n",
       "      <td>None</td>\n",
       "      <td>None</td>\n",
       "      <td>None</td>\n",
       "      <td>None</td>\n",
       "      <td>00:00</td>\n",
       "    </tr>\n",
       "  </tbody>\n",
       "</table>"
      ],
      "text/plain": [
       "<IPython.core.display.HTML object>"
      ]
     },
     "metadata": {},
     "output_type": "display_data"
    },
    {
     "data": {
      "text/plain": [
       "TabularModel (Input shape: ['64 x 0', '64 x 40'])\n",
       "================================================================\n",
       "Layer (type)         Output Shape         Param #    Trainable \n",
       "================================================================\n",
       "BatchNorm1d          64 x 40              80         True      \n",
       "________________________________________________________________\n",
       "BatchNorm1d          64 x 40              80         True      \n",
       "________________________________________________________________\n",
       "Linear               64 x 200             8,000      True      \n",
       "________________________________________________________________\n",
       "ReLU                 64 x 100             0          False     \n",
       "________________________________________________________________\n",
       "BatchNorm1d          64 x 200             400        True      \n",
       "________________________________________________________________\n",
       "Linear               64 x 100             20,000     True      \n",
       "________________________________________________________________\n",
       "ReLU                 64 x 100             0          False     \n",
       "________________________________________________________________\n",
       "Linear               64 x 1               101        True      \n",
       "________________________________________________________________\n",
       "SigmoidRange         64 x 1               0          False     \n",
       "________________________________________________________________\n",
       "\n",
       "Total params: 28,661\n",
       "Total trainable params: 28,661\n",
       "Total non-trainable params: 0\n",
       "\n",
       "Optimizer used: <function Adam at 0x7f6ea298d5e0>\n",
       "Loss function: FlattenedLoss of MSELoss()\n",
       "\n",
       "Callbacks:\n",
       "  - TrainEvalCallback\n",
       "  - Recorder\n",
       "  - ProgressCallback"
      ]
     },
     "execution_count": 139,
     "metadata": {},
     "output_type": "execute_result"
    }
   ],
   "source": [
    "learn = tabular_learner(dls, \n",
    "                        metrics=[rmse, rrmse, bias, bias_pct, mae, R2Score()],  \n",
    "                        y_range=(0,1)#trainval_tb.train.y.max()*1.1)\n",
    "                       )\n",
    "learn.summary()"
   ]
  },
  {
   "cell_type": "markdown",
   "metadata": {
    "ExecuteTime": {
     "end_time": "2020-11-02T12:15:14.763168Z",
     "start_time": "2020-11-02T12:15:14.758250Z"
    }
   },
   "source": [
    "Find learning rate to use."
   ]
  },
  {
   "cell_type": "code",
   "execution_count": 140,
   "metadata": {
    "ExecuteTime": {
     "end_time": "2020-12-09T08:48:45.838715Z",
     "start_time": "2020-12-09T08:48:44.379325Z"
    }
   },
   "outputs": [
    {
     "data": {
      "text/html": [],
      "text/plain": [
       "<IPython.core.display.HTML object>"
      ]
     },
     "metadata": {},
     "output_type": "display_data"
    },
    {
     "data": {
      "text/plain": [
       "SuggestedLRs(lr_min=0.2754228591918945, lr_steep=0.0030199517495930195)"
      ]
     },
     "execution_count": 140,
     "metadata": {},
     "output_type": "execute_result"
    },
    {
     "data": {
      "image/png": "[encoded data removed]",
      "text/plain": [
       "<Figure size 432x288 with 1 Axes>"
      ]
     },
     "metadata": {
      "needs_background": "light"
     },
     "output_type": "display_data"
    }
   ],
   "source": [
    "learn.lr_find()"
   ]
  },
  {
   "cell_type": "markdown",
   "metadata": {},
   "source": [
    "1e-2 seems to be a good learning rate."
   ]
  },
  {
   "cell_type": "code",
   "execution_count": 141,
   "metadata": {
    "ExecuteTime": {
     "end_time": "2020-12-09T08:48:57.528069Z",
     "start_time": "2020-12-09T08:48:47.453683Z"
    },
    "scrolled": false
   },
   "outputs": [
    {
     "data": {
      "text/html": [
       "<table border=\"1\" class=\"dataframe\">\n",
       "  <thead>\n",
       "    <tr style=\"text-align: left;\">\n",
       "      <th>epoch</th>\n",
       "      <th>train_loss</th>\n",
       "      <th>valid_loss</th>\n",
       "      <th>_rmse</th>\n",
       "      <th>_rrmse</th>\n",
       "      <th>_bias</th>\n",
       "      <th>_bias_pct</th>\n",
       "      <th>mae</th>\n",
       "      <th>r2_score</th>\n",
       "      <th>time</th>\n",
       "    </tr>\n",
       "  </thead>\n",
       "  <tbody>\n",
       "    <tr>\n",
       "      <td>0</td>\n",
       "      <td>0.194979</td>\n",
       "      <td>0.181591</td>\n",
       "      <td>0.426136</td>\n",
       "      <td>255.145126</td>\n",
       "      <td>0.345252</td>\n",
       "      <td>206.716766</td>\n",
       "      <td>0.401994</td>\n",
       "      <td>-1.828713</td>\n",
       "      <td>00:00</td>\n",
       "    </tr>\n",
       "    <tr>\n",
       "      <td>1</td>\n",
       "      <td>0.170781</td>\n",
       "      <td>0.125736</td>\n",
       "      <td>0.354593</td>\n",
       "      <td>212.309601</td>\n",
       "      <td>0.268271</td>\n",
       "      <td>160.625000</td>\n",
       "      <td>0.333553</td>\n",
       "      <td>-0.958635</td>\n",
       "      <td>00:00</td>\n",
       "    </tr>\n",
       "    <tr>\n",
       "      <td>2</td>\n",
       "      <td>0.136146</td>\n",
       "      <td>0.068532</td>\n",
       "      <td>0.261786</td>\n",
       "      <td>156.742447</td>\n",
       "      <td>0.129412</td>\n",
       "      <td>77.484406</td>\n",
       "      <td>0.227439</td>\n",
       "      <td>-0.067548</td>\n",
       "      <td>00:00</td>\n",
       "    </tr>\n",
       "    <tr>\n",
       "      <td>3</td>\n",
       "      <td>0.107039</td>\n",
       "      <td>0.047486</td>\n",
       "      <td>0.217913</td>\n",
       "      <td>130.473557</td>\n",
       "      <td>0.050807</td>\n",
       "      <td>30.420147</td>\n",
       "      <td>0.163996</td>\n",
       "      <td>0.260294</td>\n",
       "      <td>00:00</td>\n",
       "    </tr>\n",
       "    <tr>\n",
       "      <td>4</td>\n",
       "      <td>0.087770</td>\n",
       "      <td>0.043260</td>\n",
       "      <td>0.207989</td>\n",
       "      <td>124.531868</td>\n",
       "      <td>0.020229</td>\n",
       "      <td>12.111822</td>\n",
       "      <td>0.148112</td>\n",
       "      <td>0.326131</td>\n",
       "      <td>00:00</td>\n",
       "    </tr>\n",
       "    <tr>\n",
       "      <td>5</td>\n",
       "      <td>0.075309</td>\n",
       "      <td>0.043704</td>\n",
       "      <td>0.209055</td>\n",
       "      <td>125.170151</td>\n",
       "      <td>0.032183</td>\n",
       "      <td>19.269579</td>\n",
       "      <td>0.148392</td>\n",
       "      <td>0.319206</td>\n",
       "      <td>00:00</td>\n",
       "    </tr>\n",
       "    <tr>\n",
       "      <td>6</td>\n",
       "      <td>0.066336</td>\n",
       "      <td>0.043618</td>\n",
       "      <td>0.208848</td>\n",
       "      <td>125.046135</td>\n",
       "      <td>0.028145</td>\n",
       "      <td>16.851847</td>\n",
       "      <td>0.149052</td>\n",
       "      <td>0.320554</td>\n",
       "      <td>00:00</td>\n",
       "    </tr>\n",
       "    <tr>\n",
       "      <td>7</td>\n",
       "      <td>0.060100</td>\n",
       "      <td>0.044497</td>\n",
       "      <td>0.210944</td>\n",
       "      <td>126.300903</td>\n",
       "      <td>0.010313</td>\n",
       "      <td>6.174788</td>\n",
       "      <td>0.149818</td>\n",
       "      <td>0.306850</td>\n",
       "      <td>00:00</td>\n",
       "    </tr>\n",
       "    <tr>\n",
       "      <td>8</td>\n",
       "      <td>0.055601</td>\n",
       "      <td>0.044788</td>\n",
       "      <td>0.211632</td>\n",
       "      <td>126.712837</td>\n",
       "      <td>0.022794</td>\n",
       "      <td>13.647993</td>\n",
       "      <td>0.148317</td>\n",
       "      <td>0.302321</td>\n",
       "      <td>00:00</td>\n",
       "    </tr>\n",
       "    <tr>\n",
       "      <td>9</td>\n",
       "      <td>0.052113</td>\n",
       "      <td>0.044359</td>\n",
       "      <td>0.210615</td>\n",
       "      <td>126.103973</td>\n",
       "      <td>0.010734</td>\n",
       "      <td>6.426799</td>\n",
       "      <td>0.145950</td>\n",
       "      <td>0.309010</td>\n",
       "      <td>00:00</td>\n",
       "    </tr>\n",
       "    <tr>\n",
       "      <td>10</td>\n",
       "      <td>0.049150</td>\n",
       "      <td>0.043858</td>\n",
       "      <td>0.209423</td>\n",
       "      <td>125.390053</td>\n",
       "      <td>0.021989</td>\n",
       "      <td>13.165565</td>\n",
       "      <td>0.151711</td>\n",
       "      <td>0.316812</td>\n",
       "      <td>00:00</td>\n",
       "    </tr>\n",
       "    <tr>\n",
       "      <td>11</td>\n",
       "      <td>0.046652</td>\n",
       "      <td>0.043548</td>\n",
       "      <td>0.208681</td>\n",
       "      <td>124.946121</td>\n",
       "      <td>0.015805</td>\n",
       "      <td>9.463155</td>\n",
       "      <td>0.145731</td>\n",
       "      <td>0.321641</td>\n",
       "      <td>00:00</td>\n",
       "    </tr>\n",
       "    <tr>\n",
       "      <td>12</td>\n",
       "      <td>0.045002</td>\n",
       "      <td>0.042812</td>\n",
       "      <td>0.206910</td>\n",
       "      <td>123.885406</td>\n",
       "      <td>0.015554</td>\n",
       "      <td>9.312943</td>\n",
       "      <td>0.144842</td>\n",
       "      <td>0.333110</td>\n",
       "      <td>00:00</td>\n",
       "    </tr>\n",
       "    <tr>\n",
       "      <td>13</td>\n",
       "      <td>0.043438</td>\n",
       "      <td>0.042716</td>\n",
       "      <td>0.206678</td>\n",
       "      <td>123.746727</td>\n",
       "      <td>0.013937</td>\n",
       "      <td>8.344918</td>\n",
       "      <td>0.145445</td>\n",
       "      <td>0.334602</td>\n",
       "      <td>00:00</td>\n",
       "    </tr>\n",
       "    <tr>\n",
       "      <td>14</td>\n",
       "      <td>0.041959</td>\n",
       "      <td>0.042315</td>\n",
       "      <td>0.205705</td>\n",
       "      <td>123.164307</td>\n",
       "      <td>0.011459</td>\n",
       "      <td>6.861243</td>\n",
       "      <td>0.143630</td>\n",
       "      <td>0.340850</td>\n",
       "      <td>00:00</td>\n",
       "    </tr>\n",
       "    <tr>\n",
       "      <td>15</td>\n",
       "      <td>0.040564</td>\n",
       "      <td>0.042244</td>\n",
       "      <td>0.205534</td>\n",
       "      <td>123.062042</td>\n",
       "      <td>0.009594</td>\n",
       "      <td>5.744076</td>\n",
       "      <td>0.143453</td>\n",
       "      <td>0.341945</td>\n",
       "      <td>00:00</td>\n",
       "    </tr>\n",
       "    <tr>\n",
       "      <td>16</td>\n",
       "      <td>0.039546</td>\n",
       "      <td>0.042670</td>\n",
       "      <td>0.206568</td>\n",
       "      <td>123.680840</td>\n",
       "      <td>0.013389</td>\n",
       "      <td>8.016814</td>\n",
       "      <td>0.144227</td>\n",
       "      <td>0.335310</td>\n",
       "      <td>00:00</td>\n",
       "    </tr>\n",
       "    <tr>\n",
       "      <td>17</td>\n",
       "      <td>0.039279</td>\n",
       "      <td>0.042770</td>\n",
       "      <td>0.206808</td>\n",
       "      <td>123.824692</td>\n",
       "      <td>0.011385</td>\n",
       "      <td>6.816631</td>\n",
       "      <td>0.143638</td>\n",
       "      <td>0.333763</td>\n",
       "      <td>00:00</td>\n",
       "    </tr>\n",
       "    <tr>\n",
       "      <td>18</td>\n",
       "      <td>0.039223</td>\n",
       "      <td>0.042655</td>\n",
       "      <td>0.206531</td>\n",
       "      <td>123.658463</td>\n",
       "      <td>0.012684</td>\n",
       "      <td>7.594575</td>\n",
       "      <td>0.144061</td>\n",
       "      <td>0.335550</td>\n",
       "      <td>00:00</td>\n",
       "    </tr>\n",
       "    <tr>\n",
       "      <td>19</td>\n",
       "      <td>0.038908</td>\n",
       "      <td>0.042841</td>\n",
       "      <td>0.206981</td>\n",
       "      <td>123.928391</td>\n",
       "      <td>0.016126</td>\n",
       "      <td>9.655336</td>\n",
       "      <td>0.145137</td>\n",
       "      <td>0.332647</td>\n",
       "      <td>00:00</td>\n",
       "    </tr>\n",
       "  </tbody>\n",
       "</table>"
      ],
      "text/plain": [
       "<IPython.core.display.HTML object>"
      ]
     },
     "metadata": {},
     "output_type": "display_data"
    },
    {
     "data": {
      "image/png": "[encoded data removed]",
      "text/plain": [
       "<Figure size 432x288 with 1 Axes>"
      ]
     },
     "metadata": {},
     "output_type": "display_data"
    }
   ],
   "source": [
    "learn.fit_one_cycle(20, max_lr=1e-3, cbs=ShowGraphCallback())"
   ]
  },
  {
   "cell_type": "markdown",
   "metadata": {},
   "source": [
    "See validation results"
   ]
  },
  {
   "cell_type": "code",
   "execution_count": 142,
   "metadata": {
    "ExecuteTime": {
     "end_time": "2020-12-09T08:49:13.860001Z",
     "start_time": "2020-12-09T08:49:13.821217Z"
    }
   },
   "outputs": [
    {
     "data": {
      "text/html": [],
      "text/plain": [
       "<IPython.core.display.HTML object>"
      ]
     },
     "metadata": {},
     "output_type": "display_data"
    },
    {
     "data": {
      "text/plain": [
       "(#7) [0.042841289192438126,0.206981360912323,123.92839050292969,0.01612604409456253,9.655336380004883,0.14513690769672394,0.33264659138687525]"
      ]
     },
     "execution_count": 142,
     "metadata": {},
     "output_type": "execute_result"
    }
   ],
   "source": [
    "learn.validate()"
   ]
  },
  {
   "cell_type": "code",
   "execution_count": 143,
   "metadata": {
    "ExecuteTime": {
     "end_time": "2020-12-09T08:49:14.278610Z",
     "start_time": "2020-12-09T08:49:14.233127Z"
    }
   },
   "outputs": [
    {
     "data": {
      "text/html": [],
      "text/plain": [
       "<IPython.core.display.HTML object>"
      ]
     },
     "metadata": {},
     "output_type": "display_data"
    }
   ],
   "source": [
    "preds, true = learn.get_preds()"
   ]
  },
  {
   "cell_type": "markdown",
   "metadata": {},
   "source": [
    "`RegressionInterpretation` can be used to plot results."
   ]
  },
  {
   "cell_type": "code",
   "execution_count": 144,
   "metadata": {
    "ExecuteTime": {
     "end_time": "2020-12-09T08:49:14.752493Z",
     "start_time": "2020-12-09T08:49:14.749439Z"
    }
   },
   "outputs": [
    {
     "data": {
      "text/plain": [
       "torch.Size([225, 1])"
      ]
     },
     "execution_count": 144,
     "metadata": {},
     "output_type": "execute_result"
    }
   ],
   "source": [
    "preds.shape"
   ]
  },
  {
   "cell_type": "code",
   "execution_count": 145,
   "metadata": {
    "ExecuteTime": {
     "end_time": "2020-12-09T08:49:15.287247Z",
     "start_time": "2020-12-09T08:49:15.245703Z"
    }
   },
   "outputs": [
    {
     "data": {
      "text/html": [],
      "text/plain": [
       "<IPython.core.display.HTML object>"
      ]
     },
     "metadata": {},
     "output_type": "display_data"
    }
   ],
   "source": [
    "reg_interp = RegressionInterpretation.from_learner(learn, dl=learn.dls[1])"
   ]
  },
  {
   "cell_type": "code",
   "execution_count": 146,
   "metadata": {
    "ExecuteTime": {
     "end_time": "2020-12-09T08:49:15.955183Z",
     "start_time": "2020-12-09T08:49:15.675995Z"
    }
   },
   "outputs": [
    {
     "data": {
      "image/png": "[encoded data removed]",
      "text/plain": [
       "<Figure size 504x432 with 2 Axes>"
      ]
     },
     "metadata": {
      "needs_background": "light"
     },
     "output_type": "display_data"
    }
   ],
   "source": [
    "reg_interp.plot_results(log_y=False)\n",
    "plt.show()"
   ]
  },
  {
   "cell_type": "markdown",
   "metadata": {},
   "source": [
    "Evaluate test set."
   ]
  },
  {
   "cell_type": "code",
   "execution_count": 147,
   "metadata": {
    "ExecuteTime": {
     "end_time": "2020-12-09T08:49:17.405185Z",
     "start_time": "2020-12-09T08:49:17.395844Z"
    }
   },
   "outputs": [],
   "source": [
    "test_dls = test_tb.dataloaders(y_block=RegressionBlock(), shuffle_train=False, drop_last=False)"
   ]
  },
  {
   "cell_type": "code",
   "execution_count": 148,
   "metadata": {
    "ExecuteTime": {
     "end_time": "2020-12-09T08:49:17.904704Z",
     "start_time": "2020-12-09T08:49:17.861687Z"
    }
   },
   "outputs": [
    {
     "data": {
      "text/html": [],
      "text/plain": [
       "<IPython.core.display.HTML object>"
      ]
     },
     "metadata": {},
     "output_type": "display_data"
    }
   ],
   "source": [
    "test_interp = RegressionInterpretation.from_learner(learn, dl=test_dls.train, ds_idx=0)"
   ]
  },
  {
   "cell_type": "code",
   "execution_count": 149,
   "metadata": {
    "ExecuteTime": {
     "end_time": "2020-12-09T08:49:19.317186Z",
     "start_time": "2020-12-09T08:49:19.043484Z"
    }
   },
   "outputs": [
    {
     "data": {
      "image/png": "[encoded data removed]",
      "text/plain": [
       "<Figure size 504x432 with 2 Axes>"
      ]
     },
     "metadata": {
      "needs_background": "light"
     },
     "output_type": "display_data"
    }
   ],
   "source": [
    "test_interp.plot_results(log_y=False)\n",
    "plt.show()"
   ]
  },
  {
   "cell_type": "code",
   "execution_count": 150,
   "metadata": {
    "ExecuteTime": {
     "end_time": "2020-12-09T08:49:21.727881Z",
     "start_time": "2020-12-09T08:49:21.684152Z"
    }
   },
   "outputs": [
    {
     "data": {
      "text/html": [],
      "text/plain": [
       "<IPython.core.display.HTML object>"
      ]
     },
     "metadata": {},
     "output_type": "display_data"
    }
   ],
   "source": [
    "test_preds = learn.get_preds(dl=test_dls.train)"
   ]
  },
  {
   "cell_type": "code",
   "execution_count": 151,
   "metadata": {
    "ExecuteTime": {
     "end_time": "2020-12-09T08:49:22.217051Z",
     "start_time": "2020-12-09T08:49:22.213592Z"
    }
   },
   "outputs": [
    {
     "data": {
      "text/plain": [
       "torch.Size([225, 1])"
      ]
     },
     "execution_count": 151,
     "metadata": {},
     "output_type": "execute_result"
    }
   ],
   "source": [
    "test_preds[0].shape"
   ]
  },
  {
   "cell_type": "code",
   "execution_count": 153,
   "metadata": {
    "ExecuteTime": {
     "end_time": "2020-12-09T08:49:26.822094Z",
     "start_time": "2020-12-09T08:49:26.819104Z"
    }
   },
   "outputs": [],
   "source": [
    "test_v_lp = preprocessor.test_df.v_ku\n",
    "pred_v_lp = preprocessor.test_df.v * test_preds[0][:,0].numpy()"
   ]
  },
  {
   "cell_type": "code",
   "execution_count": 154,
   "metadata": {
    "ExecuteTime": {
     "end_time": "2020-12-09T08:49:27.736790Z",
     "start_time": "2020-12-09T08:49:27.621078Z"
    }
   },
   "outputs": [
    {
     "data": {
      "image/png": "[encoded data removed]",
      "text/plain": [
       "<Figure size 504x504 with 1 Axes>"
      ]
     },
     "metadata": {
      "needs_background": "light"
     },
     "output_type": "display_data"
    }
   ],
   "source": [
    "fig = plt.figure(figsize=(7,7))\n",
    "plt.scatter(test_v_lp, pred_v_lp)\n",
    "plt.grid()"
   ]
  },
  {
   "cell_type": "markdown",
   "metadata": {},
   "source": [
    "# Ensemble of ANNs"
   ]
  },
  {
   "cell_type": "markdown",
   "metadata": {},
   "source": [
    "Fit several models at once."
   ]
  },
  {
   "cell_type": "code",
   "execution_count": 58,
   "metadata": {
    "ExecuteTime": {
     "end_time": "2020-12-09T08:33:18.250133Z",
     "start_time": "2020-12-09T08:33:18.222219Z"
    }
   },
   "outputs": [],
   "source": [
    "ensemble = Ensemble(dls, learn_func=tabular_learner, ens_dir='ensemble_test',\n",
    "                    y_range=(0,trainval_tb.y.max() * 1.1), \n",
    "                    metrics=[rmse, rrmse, bias, bias_pct, mae, R2Score()], \n",
    "                    n_models=10)"
   ]
  },
  {
   "cell_type": "code",
   "execution_count": 59,
   "metadata": {
    "ExecuteTime": {
     "end_time": "2020-12-09T08:34:02.305323Z",
     "start_time": "2020-12-09T08:33:18.576491Z"
    },
    "scrolled": true
   },
   "outputs": [
    {
     "data": {
      "text/html": [
       "<table border=\"1\" class=\"dataframe\">\n",
       "  <thead>\n",
       "    <tr style=\"text-align: left;\">\n",
       "      <th>epoch</th>\n",
       "      <th>train_loss</th>\n",
       "      <th>valid_loss</th>\n",
       "      <th>_rmse</th>\n",
       "      <th>_rrmse</th>\n",
       "      <th>_bias</th>\n",
       "      <th>_bias_pct</th>\n",
       "      <th>mae</th>\n",
       "      <th>r2_score</th>\n",
       "      <th>time</th>\n",
       "    </tr>\n",
       "  </thead>\n",
       "  <tbody>\n",
       "    <tr>\n",
       "      <td>0</td>\n",
       "      <td>39216.835938</td>\n",
       "      <td>37539.101562</td>\n",
       "      <td>193.750107</td>\n",
       "      <td>890.927002</td>\n",
       "      <td>188.057739</td>\n",
       "      <td>864.751648</td>\n",
       "      <td>190.382309</td>\n",
       "      <td>-21.385509</td>\n",
       "      <td>00:00</td>\n",
       "    </tr>\n",
       "    <tr>\n",
       "      <td>1</td>\n",
       "      <td>33150.187500</td>\n",
       "      <td>23507.908203</td>\n",
       "      <td>153.322891</td>\n",
       "      <td>705.029358</td>\n",
       "      <td>145.807999</td>\n",
       "      <td>670.473389</td>\n",
       "      <td>149.038666</td>\n",
       "      <td>-13.018355</td>\n",
       "      <td>00:00</td>\n",
       "    </tr>\n",
       "    <tr>\n",
       "      <td>2</td>\n",
       "      <td>24263.283203</td>\n",
       "      <td>7521.577637</td>\n",
       "      <td>86.727028</td>\n",
       "      <td>398.799530</td>\n",
       "      <td>71.180214</td>\n",
       "      <td>327.310150</td>\n",
       "      <td>77.472809</td>\n",
       "      <td>-3.485305</td>\n",
       "      <td>00:00</td>\n",
       "    </tr>\n",
       "    <tr>\n",
       "      <td>3</td>\n",
       "      <td>16264.441406</td>\n",
       "      <td>2557.092285</td>\n",
       "      <td>50.567699</td>\n",
       "      <td>232.526993</td>\n",
       "      <td>25.721518</td>\n",
       "      <td>118.276047</td>\n",
       "      <td>37.169868</td>\n",
       "      <td>-0.524858</td>\n",
       "      <td>00:00</td>\n",
       "    </tr>\n",
       "    <tr>\n",
       "      <td>4</td>\n",
       "      <td>11001.412109</td>\n",
       "      <td>2143.248535</td>\n",
       "      <td>46.295231</td>\n",
       "      <td>212.880783</td>\n",
       "      <td>14.585671</td>\n",
       "      <td>67.069740</td>\n",
       "      <td>26.758070</td>\n",
       "      <td>-0.278073</td>\n",
       "      <td>00:00</td>\n",
       "    </tr>\n",
       "    <tr>\n",
       "      <td>5</td>\n",
       "      <td>7647.080078</td>\n",
       "      <td>2062.150391</td>\n",
       "      <td>45.410908</td>\n",
       "      <td>208.814362</td>\n",
       "      <td>9.947282</td>\n",
       "      <td>45.740891</td>\n",
       "      <td>22.789515</td>\n",
       "      <td>-0.229712</td>\n",
       "      <td>00:00</td>\n",
       "    </tr>\n",
       "    <tr>\n",
       "      <td>6</td>\n",
       "      <td>5440.531738</td>\n",
       "      <td>2061.166504</td>\n",
       "      <td>45.400070</td>\n",
       "      <td>208.764526</td>\n",
       "      <td>8.092003</td>\n",
       "      <td>37.209705</td>\n",
       "      <td>21.193686</td>\n",
       "      <td>-0.229125</td>\n",
       "      <td>00:00</td>\n",
       "    </tr>\n",
       "    <tr>\n",
       "      <td>7</td>\n",
       "      <td>3945.918945</td>\n",
       "      <td>2030.451782</td>\n",
       "      <td>45.060535</td>\n",
       "      <td>207.203247</td>\n",
       "      <td>7.099761</td>\n",
       "      <td>32.647049</td>\n",
       "      <td>20.069269</td>\n",
       "      <td>-0.210809</td>\n",
       "      <td>00:00</td>\n",
       "    </tr>\n",
       "    <tr>\n",
       "      <td>8</td>\n",
       "      <td>2914.310547</td>\n",
       "      <td>2008.105713</td>\n",
       "      <td>44.811890</td>\n",
       "      <td>206.059891</td>\n",
       "      <td>5.557186</td>\n",
       "      <td>25.553778</td>\n",
       "      <td>18.975023</td>\n",
       "      <td>-0.197484</td>\n",
       "      <td>00:00</td>\n",
       "    </tr>\n",
       "    <tr>\n",
       "      <td>9</td>\n",
       "      <td>2176.345703</td>\n",
       "      <td>2006.332520</td>\n",
       "      <td>44.792103</td>\n",
       "      <td>205.968903</td>\n",
       "      <td>5.618511</td>\n",
       "      <td>25.835770</td>\n",
       "      <td>18.520929</td>\n",
       "      <td>-0.196426</td>\n",
       "      <td>00:00</td>\n",
       "    </tr>\n",
       "    <tr>\n",
       "      <td>10</td>\n",
       "      <td>1646.981323</td>\n",
       "      <td>2027.806519</td>\n",
       "      <td>45.031170</td>\n",
       "      <td>207.068207</td>\n",
       "      <td>5.592370</td>\n",
       "      <td>25.715563</td>\n",
       "      <td>18.332977</td>\n",
       "      <td>-0.209232</td>\n",
       "      <td>00:00</td>\n",
       "    </tr>\n",
       "    <tr>\n",
       "      <td>11</td>\n",
       "      <td>1267.282837</td>\n",
       "      <td>2015.121704</td>\n",
       "      <td>44.890110</td>\n",
       "      <td>206.419556</td>\n",
       "      <td>5.393801</td>\n",
       "      <td>24.802481</td>\n",
       "      <td>18.159798</td>\n",
       "      <td>-0.201668</td>\n",
       "      <td>00:00</td>\n",
       "    </tr>\n",
       "    <tr>\n",
       "      <td>12</td>\n",
       "      <td>989.599854</td>\n",
       "      <td>1987.884033</td>\n",
       "      <td>44.585697</td>\n",
       "      <td>205.019791</td>\n",
       "      <td>4.365966</td>\n",
       "      <td>20.076155</td>\n",
       "      <td>17.346308</td>\n",
       "      <td>-0.185425</td>\n",
       "      <td>00:00</td>\n",
       "    </tr>\n",
       "    <tr>\n",
       "      <td>13</td>\n",
       "      <td>789.242371</td>\n",
       "      <td>1986.574585</td>\n",
       "      <td>44.571007</td>\n",
       "      <td>204.952209</td>\n",
       "      <td>5.128222</td>\n",
       "      <td>23.581263</td>\n",
       "      <td>17.362795</td>\n",
       "      <td>-0.184644</td>\n",
       "      <td>00:00</td>\n",
       "    </tr>\n",
       "    <tr>\n",
       "      <td>14</td>\n",
       "      <td>644.967163</td>\n",
       "      <td>2006.802734</td>\n",
       "      <td>44.797352</td>\n",
       "      <td>205.993027</td>\n",
       "      <td>4.699969</td>\n",
       "      <td>21.612013</td>\n",
       "      <td>17.623211</td>\n",
       "      <td>-0.196707</td>\n",
       "      <td>00:00</td>\n",
       "    </tr>\n",
       "    <tr>\n",
       "      <td>15</td>\n",
       "      <td>536.718018</td>\n",
       "      <td>1927.296509</td>\n",
       "      <td>43.900986</td>\n",
       "      <td>201.871246</td>\n",
       "      <td>4.663463</td>\n",
       "      <td>21.444143</td>\n",
       "      <td>17.220482</td>\n",
       "      <td>-0.149295</td>\n",
       "      <td>00:00</td>\n",
       "    </tr>\n",
       "    <tr>\n",
       "      <td>16</td>\n",
       "      <td>462.190247</td>\n",
       "      <td>1934.528809</td>\n",
       "      <td>43.983280</td>\n",
       "      <td>202.249664</td>\n",
       "      <td>4.032037</td>\n",
       "      <td>18.540638</td>\n",
       "      <td>17.139090</td>\n",
       "      <td>-0.153608</td>\n",
       "      <td>00:00</td>\n",
       "    </tr>\n",
       "    <tr>\n",
       "      <td>17</td>\n",
       "      <td>400.806519</td>\n",
       "      <td>1886.047363</td>\n",
       "      <td>43.428650</td>\n",
       "      <td>199.699295</td>\n",
       "      <td>4.114188</td>\n",
       "      <td>18.918398</td>\n",
       "      <td>17.057161</td>\n",
       "      <td>-0.124697</td>\n",
       "      <td>00:00</td>\n",
       "    </tr>\n",
       "    <tr>\n",
       "      <td>18</td>\n",
       "      <td>354.639130</td>\n",
       "      <td>1903.915161</td>\n",
       "      <td>43.633877</td>\n",
       "      <td>200.642990</td>\n",
       "      <td>4.960960</td>\n",
       "      <td>22.812134</td>\n",
       "      <td>17.287642</td>\n",
       "      <td>-0.135352</td>\n",
       "      <td>00:00</td>\n",
       "    </tr>\n",
       "    <tr>\n",
       "      <td>19</td>\n",
       "      <td>329.676880</td>\n",
       "      <td>1883.352783</td>\n",
       "      <td>43.397614</td>\n",
       "      <td>199.556580</td>\n",
       "      <td>4.239144</td>\n",
       "      <td>19.492985</td>\n",
       "      <td>17.002308</td>\n",
       "      <td>-0.123091</td>\n",
       "      <td>00:00</td>\n",
       "    </tr>\n",
       "  </tbody>\n",
       "</table>"
      ],
      "text/plain": [
       "<IPython.core.display.HTML object>"
      ]
     },
     "metadata": {},
     "output_type": "display_data"
    },
    {
     "data": {
      "text/html": [
       "<table border=\"1\" class=\"dataframe\">\n",
       "  <thead>\n",
       "    <tr style=\"text-align: left;\">\n",
       "      <th>epoch</th>\n",
       "      <th>train_loss</th>\n",
       "      <th>valid_loss</th>\n",
       "      <th>_rmse</th>\n",
       "      <th>_rrmse</th>\n",
       "      <th>_bias</th>\n",
       "      <th>_bias_pct</th>\n",
       "      <th>mae</th>\n",
       "      <th>r2_score</th>\n",
       "      <th>time</th>\n",
       "    </tr>\n",
       "  </thead>\n",
       "  <tbody>\n",
       "    <tr>\n",
       "      <td>0</td>\n",
       "      <td>30509.726562</td>\n",
       "      <td>32578.171875</td>\n",
       "      <td>180.494247</td>\n",
       "      <td>829.972290</td>\n",
       "      <td>172.740936</td>\n",
       "      <td>794.319946</td>\n",
       "      <td>176.181107</td>\n",
       "      <td>-18.427179</td>\n",
       "      <td>00:00</td>\n",
       "    </tr>\n",
       "    <tr>\n",
       "      <td>1</td>\n",
       "      <td>25443.753906</td>\n",
       "      <td>17979.833984</td>\n",
       "      <td>134.088898</td>\n",
       "      <td>616.585083</td>\n",
       "      <td>121.760887</td>\n",
       "      <td>559.896851</td>\n",
       "      <td>127.335571</td>\n",
       "      <td>-9.721825</td>\n",
       "      <td>00:00</td>\n",
       "    </tr>\n",
       "    <tr>\n",
       "      <td>2</td>\n",
       "      <td>18073.490234</td>\n",
       "      <td>5149.253906</td>\n",
       "      <td>71.758301</td>\n",
       "      <td>329.968384</td>\n",
       "      <td>50.041401</td>\n",
       "      <td>230.106903</td>\n",
       "      <td>59.786713</td>\n",
       "      <td>-2.070629</td>\n",
       "      <td>00:00</td>\n",
       "    </tr>\n",
       "    <tr>\n",
       "      <td>3</td>\n",
       "      <td>12029.551758</td>\n",
       "      <td>1995.571289</td>\n",
       "      <td>44.671818</td>\n",
       "      <td>205.415802</td>\n",
       "      <td>16.536180</td>\n",
       "      <td>76.038826</td>\n",
       "      <td>30.389853</td>\n",
       "      <td>-0.190009</td>\n",
       "      <td>00:00</td>\n",
       "    </tr>\n",
       "    <tr>\n",
       "      <td>4</td>\n",
       "      <td>8175.011719</td>\n",
       "      <td>1373.994019</td>\n",
       "      <td>37.067425</td>\n",
       "      <td>170.448273</td>\n",
       "      <td>11.439376</td>\n",
       "      <td>52.602036</td>\n",
       "      <td>22.795074</td>\n",
       "      <td>0.180653</td>\n",
       "      <td>00:00</td>\n",
       "    </tr>\n",
       "    <tr>\n",
       "      <td>5</td>\n",
       "      <td>5706.633789</td>\n",
       "      <td>1199.944702</td>\n",
       "      <td>34.640217</td>\n",
       "      <td>159.287170</td>\n",
       "      <td>7.292377</td>\n",
       "      <td>33.532761</td>\n",
       "      <td>19.355295</td>\n",
       "      <td>0.284443</td>\n",
       "      <td>00:00</td>\n",
       "    </tr>\n",
       "    <tr>\n",
       "      <td>6</td>\n",
       "      <td>4084.742432</td>\n",
       "      <td>1175.000122</td>\n",
       "      <td>34.278278</td>\n",
       "      <td>157.622864</td>\n",
       "      <td>6.793619</td>\n",
       "      <td>31.239307</td>\n",
       "      <td>18.002081</td>\n",
       "      <td>0.299318</td>\n",
       "      <td>00:00</td>\n",
       "    </tr>\n",
       "    <tr>\n",
       "      <td>7</td>\n",
       "      <td>2986.427002</td>\n",
       "      <td>1145.710815</td>\n",
       "      <td>33.848351</td>\n",
       "      <td>155.645905</td>\n",
       "      <td>4.277994</td>\n",
       "      <td>19.671631</td>\n",
       "      <td>16.946302</td>\n",
       "      <td>0.316784</td>\n",
       "      <td>00:00</td>\n",
       "    </tr>\n",
       "    <tr>\n",
       "      <td>8</td>\n",
       "      <td>2216.913330</td>\n",
       "      <td>1094.334961</td>\n",
       "      <td>33.080730</td>\n",
       "      <td>152.116135</td>\n",
       "      <td>4.245441</td>\n",
       "      <td>19.521942</td>\n",
       "      <td>16.615015</td>\n",
       "      <td>0.347421</td>\n",
       "      <td>00:00</td>\n",
       "    </tr>\n",
       "    <tr>\n",
       "      <td>9</td>\n",
       "      <td>1678.163818</td>\n",
       "      <td>1112.917725</td>\n",
       "      <td>33.360420</td>\n",
       "      <td>153.402252</td>\n",
       "      <td>3.686311</td>\n",
       "      <td>16.950878</td>\n",
       "      <td>16.030767</td>\n",
       "      <td>0.336339</td>\n",
       "      <td>00:00</td>\n",
       "    </tr>\n",
       "    <tr>\n",
       "      <td>10</td>\n",
       "      <td>1296.266724</td>\n",
       "      <td>1064.920410</td>\n",
       "      <td>32.633118</td>\n",
       "      <td>150.057861</td>\n",
       "      <td>4.003118</td>\n",
       "      <td>18.407660</td>\n",
       "      <td>15.959486</td>\n",
       "      <td>0.364961</td>\n",
       "      <td>00:00</td>\n",
       "    </tr>\n",
       "    <tr>\n",
       "      <td>11</td>\n",
       "      <td>1008.328552</td>\n",
       "      <td>1066.564331</td>\n",
       "      <td>32.658295</td>\n",
       "      <td>150.173645</td>\n",
       "      <td>2.680670</td>\n",
       "      <td>12.326605</td>\n",
       "      <td>15.143811</td>\n",
       "      <td>0.363981</td>\n",
       "      <td>00:00</td>\n",
       "    </tr>\n",
       "    <tr>\n",
       "      <td>12</td>\n",
       "      <td>799.510254</td>\n",
       "      <td>1072.540039</td>\n",
       "      <td>32.749657</td>\n",
       "      <td>150.593750</td>\n",
       "      <td>1.949592</td>\n",
       "      <td>8.964869</td>\n",
       "      <td>15.099053</td>\n",
       "      <td>0.360418</td>\n",
       "      <td>00:00</td>\n",
       "    </tr>\n",
       "    <tr>\n",
       "      <td>13</td>\n",
       "      <td>645.440979</td>\n",
       "      <td>1077.098511</td>\n",
       "      <td>32.819180</td>\n",
       "      <td>150.913437</td>\n",
       "      <td>2.128542</td>\n",
       "      <td>9.787741</td>\n",
       "      <td>15.011086</td>\n",
       "      <td>0.357699</td>\n",
       "      <td>00:00</td>\n",
       "    </tr>\n",
       "    <tr>\n",
       "      <td>14</td>\n",
       "      <td>534.620789</td>\n",
       "      <td>1069.999756</td>\n",
       "      <td>32.710854</td>\n",
       "      <td>150.415329</td>\n",
       "      <td>2.245399</td>\n",
       "      <td>10.325089</td>\n",
       "      <td>14.884820</td>\n",
       "      <td>0.361932</td>\n",
       "      <td>00:00</td>\n",
       "    </tr>\n",
       "    <tr>\n",
       "      <td>15</td>\n",
       "      <td>452.935913</td>\n",
       "      <td>1082.988281</td>\n",
       "      <td>32.908787</td>\n",
       "      <td>151.325470</td>\n",
       "      <td>2.655801</td>\n",
       "      <td>12.212253</td>\n",
       "      <td>14.940707</td>\n",
       "      <td>0.354187</td>\n",
       "      <td>00:00</td>\n",
       "    </tr>\n",
       "    <tr>\n",
       "      <td>16</td>\n",
       "      <td>394.972046</td>\n",
       "      <td>1114.976562</td>\n",
       "      <td>33.391262</td>\n",
       "      <td>153.544067</td>\n",
       "      <td>2.913102</td>\n",
       "      <td>13.395407</td>\n",
       "      <td>15.033597</td>\n",
       "      <td>0.335112</td>\n",
       "      <td>00:00</td>\n",
       "    </tr>\n",
       "    <tr>\n",
       "      <td>17</td>\n",
       "      <td>350.449066</td>\n",
       "      <td>1083.890381</td>\n",
       "      <td>32.922493</td>\n",
       "      <td>151.388504</td>\n",
       "      <td>2.146000</td>\n",
       "      <td>9.868017</td>\n",
       "      <td>14.779643</td>\n",
       "      <td>0.353649</td>\n",
       "      <td>00:00</td>\n",
       "    </tr>\n",
       "    <tr>\n",
       "      <td>18</td>\n",
       "      <td>317.311493</td>\n",
       "      <td>1085.069214</td>\n",
       "      <td>32.940392</td>\n",
       "      <td>151.470810</td>\n",
       "      <td>2.717742</td>\n",
       "      <td>12.497078</td>\n",
       "      <td>14.907964</td>\n",
       "      <td>0.352946</td>\n",
       "      <td>00:00</td>\n",
       "    </tr>\n",
       "    <tr>\n",
       "      <td>19</td>\n",
       "      <td>292.559875</td>\n",
       "      <td>1083.059448</td>\n",
       "      <td>32.909866</td>\n",
       "      <td>151.330444</td>\n",
       "      <td>2.537759</td>\n",
       "      <td>11.669456</td>\n",
       "      <td>14.900395</td>\n",
       "      <td>0.354144</td>\n",
       "      <td>00:00</td>\n",
       "    </tr>\n",
       "  </tbody>\n",
       "</table>"
      ],
      "text/plain": [
       "<IPython.core.display.HTML object>"
      ]
     },
     "metadata": {},
     "output_type": "display_data"
    },
    {
     "data": {
      "text/html": [
       "<table border=\"1\" class=\"dataframe\">\n",
       "  <thead>\n",
       "    <tr style=\"text-align: left;\">\n",
       "      <th>epoch</th>\n",
       "      <th>train_loss</th>\n",
       "      <th>valid_loss</th>\n",
       "      <th>_rmse</th>\n",
       "      <th>_rrmse</th>\n",
       "      <th>_bias</th>\n",
       "      <th>_bias_pct</th>\n",
       "      <th>mae</th>\n",
       "      <th>r2_score</th>\n",
       "      <th>time</th>\n",
       "    </tr>\n",
       "  </thead>\n",
       "  <tbody>\n",
       "    <tr>\n",
       "      <td>0</td>\n",
       "      <td>50221.503906</td>\n",
       "      <td>44071.812500</td>\n",
       "      <td>209.932877</td>\n",
       "      <td>965.340820</td>\n",
       "      <td>205.288467</td>\n",
       "      <td>943.984314</td>\n",
       "      <td>206.674438</td>\n",
       "      <td>-25.281126</td>\n",
       "      <td>00:00</td>\n",
       "    </tr>\n",
       "    <tr>\n",
       "      <td>1</td>\n",
       "      <td>42848.312500</td>\n",
       "      <td>29343.582031</td>\n",
       "      <td>171.299683</td>\n",
       "      <td>787.692566</td>\n",
       "      <td>164.795029</td>\n",
       "      <td>757.781982</td>\n",
       "      <td>167.206650</td>\n",
       "      <td>-16.498314</td>\n",
       "      <td>00:00</td>\n",
       "    </tr>\n",
       "    <tr>\n",
       "      <td>2</td>\n",
       "      <td>31716.621094</td>\n",
       "      <td>9754.254883</td>\n",
       "      <td>98.763618</td>\n",
       "      <td>454.147766</td>\n",
       "      <td>83.020142</td>\n",
       "      <td>381.754028</td>\n",
       "      <td>88.942398</td>\n",
       "      <td>-4.816706</td>\n",
       "      <td>00:00</td>\n",
       "    </tr>\n",
       "    <tr>\n",
       "      <td>3</td>\n",
       "      <td>21495.150391</td>\n",
       "      <td>3229.606934</td>\n",
       "      <td>56.829632</td>\n",
       "      <td>261.321411</td>\n",
       "      <td>31.876186</td>\n",
       "      <td>146.577240</td>\n",
       "      <td>43.261208</td>\n",
       "      <td>-0.925895</td>\n",
       "      <td>00:00</td>\n",
       "    </tr>\n",
       "    <tr>\n",
       "      <td>4</td>\n",
       "      <td>14635.137695</td>\n",
       "      <td>2620.849365</td>\n",
       "      <td>51.194229</td>\n",
       "      <td>235.407990</td>\n",
       "      <td>16.490133</td>\n",
       "      <td>75.827087</td>\n",
       "      <td>30.311029</td>\n",
       "      <td>-0.562878</td>\n",
       "      <td>00:00</td>\n",
       "    </tr>\n",
       "    <tr>\n",
       "      <td>5</td>\n",
       "      <td>10181.774414</td>\n",
       "      <td>2292.212158</td>\n",
       "      <td>47.877056</td>\n",
       "      <td>220.154526</td>\n",
       "      <td>12.202812</td>\n",
       "      <td>56.112568</td>\n",
       "      <td>25.829132</td>\n",
       "      <td>-0.366904</td>\n",
       "      <td>00:00</td>\n",
       "    </tr>\n",
       "    <tr>\n",
       "      <td>6</td>\n",
       "      <td>7231.076660</td>\n",
       "      <td>2160.224121</td>\n",
       "      <td>46.478214</td>\n",
       "      <td>213.722198</td>\n",
       "      <td>9.764392</td>\n",
       "      <td>44.899902</td>\n",
       "      <td>23.419861</td>\n",
       "      <td>-0.288196</td>\n",
       "      <td>00:00</td>\n",
       "    </tr>\n",
       "    <tr>\n",
       "      <td>7</td>\n",
       "      <td>5231.029297</td>\n",
       "      <td>2070.750732</td>\n",
       "      <td>45.505501</td>\n",
       "      <td>209.249329</td>\n",
       "      <td>9.707511</td>\n",
       "      <td>44.638344</td>\n",
       "      <td>22.036276</td>\n",
       "      <td>-0.234841</td>\n",
       "      <td>00:00</td>\n",
       "    </tr>\n",
       "    <tr>\n",
       "      <td>8</td>\n",
       "      <td>3835.470215</td>\n",
       "      <td>2024.388306</td>\n",
       "      <td>44.993210</td>\n",
       "      <td>206.893661</td>\n",
       "      <td>7.322857</td>\n",
       "      <td>33.672920</td>\n",
       "      <td>20.866228</td>\n",
       "      <td>-0.207194</td>\n",
       "      <td>00:00</td>\n",
       "    </tr>\n",
       "    <tr>\n",
       "      <td>9</td>\n",
       "      <td>2844.256836</td>\n",
       "      <td>1984.241699</td>\n",
       "      <td>44.544827</td>\n",
       "      <td>204.831833</td>\n",
       "      <td>5.829125</td>\n",
       "      <td>26.804245</td>\n",
       "      <td>19.978952</td>\n",
       "      <td>-0.183253</td>\n",
       "      <td>00:00</td>\n",
       "    </tr>\n",
       "    <tr>\n",
       "      <td>10</td>\n",
       "      <td>2141.997803</td>\n",
       "      <td>1971.195435</td>\n",
       "      <td>44.398148</td>\n",
       "      <td>204.157349</td>\n",
       "      <td>6.592741</td>\n",
       "      <td>30.315603</td>\n",
       "      <td>19.788610</td>\n",
       "      <td>-0.175473</td>\n",
       "      <td>00:00</td>\n",
       "    </tr>\n",
       "    <tr>\n",
       "      <td>11</td>\n",
       "      <td>1640.758789</td>\n",
       "      <td>1918.774780</td>\n",
       "      <td>43.803818</td>\n",
       "      <td>201.424438</td>\n",
       "      <td>4.113309</td>\n",
       "      <td>18.914354</td>\n",
       "      <td>18.749338</td>\n",
       "      <td>-0.144213</td>\n",
       "      <td>00:00</td>\n",
       "    </tr>\n",
       "    <tr>\n",
       "      <td>12</td>\n",
       "      <td>1277.306763</td>\n",
       "      <td>1830.604248</td>\n",
       "      <td>42.785561</td>\n",
       "      <td>196.742157</td>\n",
       "      <td>5.124816</td>\n",
       "      <td>23.565599</td>\n",
       "      <td>18.522282</td>\n",
       "      <td>-0.091635</td>\n",
       "      <td>00:00</td>\n",
       "    </tr>\n",
       "    <tr>\n",
       "      <td>13</td>\n",
       "      <td>1008.413208</td>\n",
       "      <td>1855.374146</td>\n",
       "      <td>43.074055</td>\n",
       "      <td>198.068756</td>\n",
       "      <td>5.195901</td>\n",
       "      <td>23.892469</td>\n",
       "      <td>18.383280</td>\n",
       "      <td>-0.106406</td>\n",
       "      <td>00:00</td>\n",
       "    </tr>\n",
       "    <tr>\n",
       "      <td>14</td>\n",
       "      <td>821.725342</td>\n",
       "      <td>1687.123047</td>\n",
       "      <td>41.074604</td>\n",
       "      <td>188.874619</td>\n",
       "      <td>4.661203</td>\n",
       "      <td>21.433754</td>\n",
       "      <td>17.984209</td>\n",
       "      <td>-0.006074</td>\n",
       "      <td>00:00</td>\n",
       "    </tr>\n",
       "    <tr>\n",
       "      <td>15</td>\n",
       "      <td>668.618896</td>\n",
       "      <td>1676.724854</td>\n",
       "      <td>40.947830</td>\n",
       "      <td>188.291656</td>\n",
       "      <td>4.674794</td>\n",
       "      <td>21.496246</td>\n",
       "      <td>17.862803</td>\n",
       "      <td>0.000127</td>\n",
       "      <td>00:00</td>\n",
       "    </tr>\n",
       "    <tr>\n",
       "      <td>16</td>\n",
       "      <td>562.543274</td>\n",
       "      <td>1787.941895</td>\n",
       "      <td>42.284061</td>\n",
       "      <td>194.436096</td>\n",
       "      <td>4.669879</td>\n",
       "      <td>21.473650</td>\n",
       "      <td>18.106930</td>\n",
       "      <td>-0.066195</td>\n",
       "      <td>00:00</td>\n",
       "    </tr>\n",
       "    <tr>\n",
       "      <td>17</td>\n",
       "      <td>494.654022</td>\n",
       "      <td>1746.533203</td>\n",
       "      <td>41.791546</td>\n",
       "      <td>192.171341</td>\n",
       "      <td>4.054315</td>\n",
       "      <td>18.643080</td>\n",
       "      <td>17.676872</td>\n",
       "      <td>-0.041502</td>\n",
       "      <td>00:00</td>\n",
       "    </tr>\n",
       "    <tr>\n",
       "      <td>18</td>\n",
       "      <td>444.190582</td>\n",
       "      <td>1664.763428</td>\n",
       "      <td>40.801514</td>\n",
       "      <td>187.618851</td>\n",
       "      <td>4.079628</td>\n",
       "      <td>18.759481</td>\n",
       "      <td>17.644865</td>\n",
       "      <td>0.007260</td>\n",
       "      <td>00:00</td>\n",
       "    </tr>\n",
       "    <tr>\n",
       "      <td>19</td>\n",
       "      <td>398.511261</td>\n",
       "      <td>1728.708008</td>\n",
       "      <td>41.577736</td>\n",
       "      <td>191.188187</td>\n",
       "      <td>4.603288</td>\n",
       "      <td>21.167439</td>\n",
       "      <td>17.818195</td>\n",
       "      <td>-0.030872</td>\n",
       "      <td>00:00</td>\n",
       "    </tr>\n",
       "  </tbody>\n",
       "</table>"
      ],
      "text/plain": [
       "<IPython.core.display.HTML object>"
      ]
     },
     "metadata": {},
     "output_type": "display_data"
    },
    {
     "data": {
      "text/html": [
       "<table border=\"1\" class=\"dataframe\">\n",
       "  <thead>\n",
       "    <tr style=\"text-align: left;\">\n",
       "      <th>epoch</th>\n",
       "      <th>train_loss</th>\n",
       "      <th>valid_loss</th>\n",
       "      <th>_rmse</th>\n",
       "      <th>_rrmse</th>\n",
       "      <th>_bias</th>\n",
       "      <th>_bias_pct</th>\n",
       "      <th>mae</th>\n",
       "      <th>r2_score</th>\n",
       "      <th>time</th>\n",
       "    </tr>\n",
       "  </thead>\n",
       "  <tbody>\n",
       "    <tr>\n",
       "      <td>0</td>\n",
       "      <td>36964.523438</td>\n",
       "      <td>36551.589844</td>\n",
       "      <td>191.184708</td>\n",
       "      <td>879.130432</td>\n",
       "      <td>185.886597</td>\n",
       "      <td>854.768066</td>\n",
       "      <td>187.873093</td>\n",
       "      <td>-20.796628</td>\n",
       "      <td>00:00</td>\n",
       "    </tr>\n",
       "    <tr>\n",
       "      <td>1</td>\n",
       "      <td>30771.457031</td>\n",
       "      <td>20388.068359</td>\n",
       "      <td>142.786774</td>\n",
       "      <td>656.580811</td>\n",
       "      <td>134.381088</td>\n",
       "      <td>617.928650</td>\n",
       "      <td>137.544312</td>\n",
       "      <td>-11.157916</td>\n",
       "      <td>00:00</td>\n",
       "    </tr>\n",
       "    <tr>\n",
       "      <td>2</td>\n",
       "      <td>22039.798828</td>\n",
       "      <td>6489.184570</td>\n",
       "      <td>80.555473</td>\n",
       "      <td>370.420685</td>\n",
       "      <td>59.011051</td>\n",
       "      <td>271.352325</td>\n",
       "      <td>67.866219</td>\n",
       "      <td>-2.869663</td>\n",
       "      <td>00:00</td>\n",
       "    </tr>\n",
       "    <tr>\n",
       "      <td>3</td>\n",
       "      <td>14697.305664</td>\n",
       "      <td>2520.225342</td>\n",
       "      <td>50.201843</td>\n",
       "      <td>230.844666</td>\n",
       "      <td>19.502352</td>\n",
       "      <td>89.678261</td>\n",
       "      <td>35.199253</td>\n",
       "      <td>-0.502873</td>\n",
       "      <td>00:00</td>\n",
       "    </tr>\n",
       "    <tr>\n",
       "      <td>4</td>\n",
       "      <td>9983.858398</td>\n",
       "      <td>2573.959473</td>\n",
       "      <td>50.734207</td>\n",
       "      <td>233.292648</td>\n",
       "      <td>12.419525</td>\n",
       "      <td>57.109081</td>\n",
       "      <td>27.699877</td>\n",
       "      <td>-0.534917</td>\n",
       "      <td>00:00</td>\n",
       "    </tr>\n",
       "    <tr>\n",
       "      <td>5</td>\n",
       "      <td>6970.212891</td>\n",
       "      <td>2324.798096</td>\n",
       "      <td>48.216164</td>\n",
       "      <td>221.713852</td>\n",
       "      <td>9.908502</td>\n",
       "      <td>45.562565</td>\n",
       "      <td>24.213669</td>\n",
       "      <td>-0.386336</td>\n",
       "      <td>00:00</td>\n",
       "    </tr>\n",
       "    <tr>\n",
       "      <td>6</td>\n",
       "      <td>4969.430176</td>\n",
       "      <td>2156.926758</td>\n",
       "      <td>46.442722</td>\n",
       "      <td>213.558990</td>\n",
       "      <td>7.506735</td>\n",
       "      <td>34.518448</td>\n",
       "      <td>21.808928</td>\n",
       "      <td>-0.286229</td>\n",
       "      <td>00:00</td>\n",
       "    </tr>\n",
       "    <tr>\n",
       "      <td>7</td>\n",
       "      <td>3618.099854</td>\n",
       "      <td>2111.742676</td>\n",
       "      <td>45.953701</td>\n",
       "      <td>211.310318</td>\n",
       "      <td>7.424654</td>\n",
       "      <td>34.141018</td>\n",
       "      <td>20.855518</td>\n",
       "      <td>-0.259285</td>\n",
       "      <td>00:00</td>\n",
       "    </tr>\n",
       "    <tr>\n",
       "      <td>8</td>\n",
       "      <td>2681.621582</td>\n",
       "      <td>2055.930176</td>\n",
       "      <td>45.342365</td>\n",
       "      <td>208.499191</td>\n",
       "      <td>6.165905</td>\n",
       "      <td>28.352873</td>\n",
       "      <td>19.948071</td>\n",
       "      <td>-0.226003</td>\n",
       "      <td>00:00</td>\n",
       "    </tr>\n",
       "    <tr>\n",
       "      <td>9</td>\n",
       "      <td>2022.953003</td>\n",
       "      <td>2022.840332</td>\n",
       "      <td>44.975994</td>\n",
       "      <td>206.814484</td>\n",
       "      <td>4.404738</td>\n",
       "      <td>20.254440</td>\n",
       "      <td>19.287706</td>\n",
       "      <td>-0.206270</td>\n",
       "      <td>00:00</td>\n",
       "    </tr>\n",
       "    <tr>\n",
       "      <td>10</td>\n",
       "      <td>1550.966919</td>\n",
       "      <td>2007.370972</td>\n",
       "      <td>44.803692</td>\n",
       "      <td>206.022186</td>\n",
       "      <td>6.164575</td>\n",
       "      <td>28.346752</td>\n",
       "      <td>19.089848</td>\n",
       "      <td>-0.197046</td>\n",
       "      <td>00:00</td>\n",
       "    </tr>\n",
       "    <tr>\n",
       "      <td>11</td>\n",
       "      <td>1207.288208</td>\n",
       "      <td>2004.608887</td>\n",
       "      <td>44.772861</td>\n",
       "      <td>205.880432</td>\n",
       "      <td>3.166760</td>\n",
       "      <td>14.561810</td>\n",
       "      <td>18.335196</td>\n",
       "      <td>-0.195399</td>\n",
       "      <td>00:00</td>\n",
       "    </tr>\n",
       "    <tr>\n",
       "      <td>12</td>\n",
       "      <td>967.082031</td>\n",
       "      <td>1968.594482</td>\n",
       "      <td>44.368843</td>\n",
       "      <td>204.022598</td>\n",
       "      <td>4.565512</td>\n",
       "      <td>20.993732</td>\n",
       "      <td>18.208694</td>\n",
       "      <td>-0.173922</td>\n",
       "      <td>00:00</td>\n",
       "    </tr>\n",
       "    <tr>\n",
       "      <td>13</td>\n",
       "      <td>778.227295</td>\n",
       "      <td>1968.916016</td>\n",
       "      <td>44.372467</td>\n",
       "      <td>204.039261</td>\n",
       "      <td>5.508995</td>\n",
       "      <td>25.332180</td>\n",
       "      <td>18.412664</td>\n",
       "      <td>-0.174114</td>\n",
       "      <td>00:00</td>\n",
       "    </tr>\n",
       "    <tr>\n",
       "      <td>14</td>\n",
       "      <td>644.952637</td>\n",
       "      <td>1942.524292</td>\n",
       "      <td>44.074081</td>\n",
       "      <td>202.667191</td>\n",
       "      <td>3.742550</td>\n",
       "      <td>17.209482</td>\n",
       "      <td>17.879862</td>\n",
       "      <td>-0.158376</td>\n",
       "      <td>00:00</td>\n",
       "    </tr>\n",
       "    <tr>\n",
       "      <td>15</td>\n",
       "      <td>546.173218</td>\n",
       "      <td>1949.183716</td>\n",
       "      <td>44.149563</td>\n",
       "      <td>203.014282</td>\n",
       "      <td>3.520516</td>\n",
       "      <td>16.188498</td>\n",
       "      <td>17.614662</td>\n",
       "      <td>-0.162347</td>\n",
       "      <td>00:00</td>\n",
       "    </tr>\n",
       "    <tr>\n",
       "      <td>16</td>\n",
       "      <td>472.006866</td>\n",
       "      <td>1951.349609</td>\n",
       "      <td>44.174084</td>\n",
       "      <td>203.127045</td>\n",
       "      <td>4.088006</td>\n",
       "      <td>18.798002</td>\n",
       "      <td>17.697178</td>\n",
       "      <td>-0.163639</td>\n",
       "      <td>00:00</td>\n",
       "    </tr>\n",
       "    <tr>\n",
       "      <td>17</td>\n",
       "      <td>410.614227</td>\n",
       "      <td>1952.141479</td>\n",
       "      <td>44.183041</td>\n",
       "      <td>203.168228</td>\n",
       "      <td>3.421920</td>\n",
       "      <td>15.735120</td>\n",
       "      <td>17.586624</td>\n",
       "      <td>-0.164111</td>\n",
       "      <td>00:00</td>\n",
       "    </tr>\n",
       "    <tr>\n",
       "      <td>18</td>\n",
       "      <td>375.008484</td>\n",
       "      <td>1948.327759</td>\n",
       "      <td>44.139866</td>\n",
       "      <td>202.969696</td>\n",
       "      <td>3.968044</td>\n",
       "      <td>18.246380</td>\n",
       "      <td>17.622726</td>\n",
       "      <td>-0.161837</td>\n",
       "      <td>00:00</td>\n",
       "    </tr>\n",
       "    <tr>\n",
       "      <td>19</td>\n",
       "      <td>350.933655</td>\n",
       "      <td>1944.275635</td>\n",
       "      <td>44.093945</td>\n",
       "      <td>202.758530</td>\n",
       "      <td>3.300354</td>\n",
       "      <td>15.176118</td>\n",
       "      <td>17.475693</td>\n",
       "      <td>-0.159420</td>\n",
       "      <td>00:00</td>\n",
       "    </tr>\n",
       "  </tbody>\n",
       "</table>"
      ],
      "text/plain": [
       "<IPython.core.display.HTML object>"
      ]
     },
     "metadata": {},
     "output_type": "display_data"
    },
    {
     "data": {
      "text/html": [
       "<table border=\"1\" class=\"dataframe\">\n",
       "  <thead>\n",
       "    <tr style=\"text-align: left;\">\n",
       "      <th>epoch</th>\n",
       "      <th>train_loss</th>\n",
       "      <th>valid_loss</th>\n",
       "      <th>_rmse</th>\n",
       "      <th>_rrmse</th>\n",
       "      <th>_bias</th>\n",
       "      <th>_bias_pct</th>\n",
       "      <th>mae</th>\n",
       "      <th>r2_score</th>\n",
       "      <th>time</th>\n",
       "    </tr>\n",
       "  </thead>\n",
       "  <tbody>\n",
       "    <tr>\n",
       "      <td>0</td>\n",
       "      <td>46155.531250</td>\n",
       "      <td>43894.785156</td>\n",
       "      <td>209.510818</td>\n",
       "      <td>963.399963</td>\n",
       "      <td>205.165604</td>\n",
       "      <td>943.419312</td>\n",
       "      <td>207.167603</td>\n",
       "      <td>-25.175562</td>\n",
       "      <td>00:00</td>\n",
       "    </tr>\n",
       "    <tr>\n",
       "      <td>1</td>\n",
       "      <td>39500.226562</td>\n",
       "      <td>28117.279297</td>\n",
       "      <td>167.682083</td>\n",
       "      <td>771.057678</td>\n",
       "      <td>160.797302</td>\n",
       "      <td>739.399170</td>\n",
       "      <td>163.576355</td>\n",
       "      <td>-15.767039</td>\n",
       "      <td>00:00</td>\n",
       "    </tr>\n",
       "    <tr>\n",
       "      <td>2</td>\n",
       "      <td>29124.447266</td>\n",
       "      <td>8931.311523</td>\n",
       "      <td>94.505623</td>\n",
       "      <td>434.568115</td>\n",
       "      <td>78.196030</td>\n",
       "      <td>359.571198</td>\n",
       "      <td>84.088593</td>\n",
       "      <td>-4.325965</td>\n",
       "      <td>00:00</td>\n",
       "    </tr>\n",
       "    <tr>\n",
       "      <td>3</td>\n",
       "      <td>19587.333984</td>\n",
       "      <td>2801.209229</td>\n",
       "      <td>52.926449</td>\n",
       "      <td>243.373291</td>\n",
       "      <td>27.456778</td>\n",
       "      <td>126.255341</td>\n",
       "      <td>38.673904</td>\n",
       "      <td>-0.670431</td>\n",
       "      <td>00:00</td>\n",
       "    </tr>\n",
       "    <tr>\n",
       "      <td>4</td>\n",
       "      <td>13257.103516</td>\n",
       "      <td>2445.266846</td>\n",
       "      <td>49.449638</td>\n",
       "      <td>227.385788</td>\n",
       "      <td>15.726963</td>\n",
       "      <td>72.317772</td>\n",
       "      <td>28.437151</td>\n",
       "      <td>-0.458174</td>\n",
       "      <td>00:00</td>\n",
       "    </tr>\n",
       "    <tr>\n",
       "      <td>5</td>\n",
       "      <td>9209.006836</td>\n",
       "      <td>2263.788086</td>\n",
       "      <td>47.579281</td>\n",
       "      <td>218.785263</td>\n",
       "      <td>10.696250</td>\n",
       "      <td>49.184895</td>\n",
       "      <td>24.170156</td>\n",
       "      <td>-0.349954</td>\n",
       "      <td>00:00</td>\n",
       "    </tr>\n",
       "    <tr>\n",
       "      <td>6</td>\n",
       "      <td>6537.906250</td>\n",
       "      <td>2188.686523</td>\n",
       "      <td>46.783401</td>\n",
       "      <td>215.125534</td>\n",
       "      <td>9.033408</td>\n",
       "      <td>41.538597</td>\n",
       "      <td>21.924068</td>\n",
       "      <td>-0.305169</td>\n",
       "      <td>00:00</td>\n",
       "    </tr>\n",
       "    <tr>\n",
       "      <td>7</td>\n",
       "      <td>4728.851562</td>\n",
       "      <td>2127.667725</td>\n",
       "      <td>46.126648</td>\n",
       "      <td>212.105591</td>\n",
       "      <td>6.980330</td>\n",
       "      <td>32.097866</td>\n",
       "      <td>20.656677</td>\n",
       "      <td>-0.268782</td>\n",
       "      <td>00:00</td>\n",
       "    </tr>\n",
       "    <tr>\n",
       "      <td>8</td>\n",
       "      <td>3482.870361</td>\n",
       "      <td>2125.882812</td>\n",
       "      <td>46.107296</td>\n",
       "      <td>212.016586</td>\n",
       "      <td>7.202188</td>\n",
       "      <td>33.118038</td>\n",
       "      <td>19.926785</td>\n",
       "      <td>-0.267717</td>\n",
       "      <td>00:00</td>\n",
       "    </tr>\n",
       "    <tr>\n",
       "      <td>9</td>\n",
       "      <td>2595.020752</td>\n",
       "      <td>2085.379395</td>\n",
       "      <td>45.665951</td>\n",
       "      <td>209.987137</td>\n",
       "      <td>5.836107</td>\n",
       "      <td>26.836349</td>\n",
       "      <td>19.301174</td>\n",
       "      <td>-0.243564</td>\n",
       "      <td>00:00</td>\n",
       "    </tr>\n",
       "    <tr>\n",
       "      <td>10</td>\n",
       "      <td>1961.643555</td>\n",
       "      <td>2063.690674</td>\n",
       "      <td>45.427864</td>\n",
       "      <td>208.892349</td>\n",
       "      <td>6.374682</td>\n",
       "      <td>29.312899</td>\n",
       "      <td>18.987410</td>\n",
       "      <td>-0.230630</td>\n",
       "      <td>00:00</td>\n",
       "    </tr>\n",
       "    <tr>\n",
       "      <td>11</td>\n",
       "      <td>1502.213379</td>\n",
       "      <td>2034.805786</td>\n",
       "      <td>45.108818</td>\n",
       "      <td>207.425262</td>\n",
       "      <td>5.264322</td>\n",
       "      <td>24.207092</td>\n",
       "      <td>18.237358</td>\n",
       "      <td>-0.213406</td>\n",
       "      <td>00:00</td>\n",
       "    </tr>\n",
       "    <tr>\n",
       "      <td>12</td>\n",
       "      <td>1170.915649</td>\n",
       "      <td>2030.223633</td>\n",
       "      <td>45.058002</td>\n",
       "      <td>207.191589</td>\n",
       "      <td>6.412899</td>\n",
       "      <td>29.488634</td>\n",
       "      <td>18.628841</td>\n",
       "      <td>-0.210673</td>\n",
       "      <td>00:00</td>\n",
       "    </tr>\n",
       "    <tr>\n",
       "      <td>13</td>\n",
       "      <td>928.832642</td>\n",
       "      <td>2013.109131</td>\n",
       "      <td>44.867683</td>\n",
       "      <td>206.316452</td>\n",
       "      <td>5.514855</td>\n",
       "      <td>25.359125</td>\n",
       "      <td>18.168770</td>\n",
       "      <td>-0.200467</td>\n",
       "      <td>00:00</td>\n",
       "    </tr>\n",
       "    <tr>\n",
       "      <td>14</td>\n",
       "      <td>752.909241</td>\n",
       "      <td>2017.899292</td>\n",
       "      <td>44.921032</td>\n",
       "      <td>206.561752</td>\n",
       "      <td>4.798175</td>\n",
       "      <td>22.063597</td>\n",
       "      <td>18.019087</td>\n",
       "      <td>-0.203324</td>\n",
       "      <td>00:00</td>\n",
       "    </tr>\n",
       "    <tr>\n",
       "      <td>15</td>\n",
       "      <td>628.807983</td>\n",
       "      <td>1992.746948</td>\n",
       "      <td>44.640194</td>\n",
       "      <td>205.270355</td>\n",
       "      <td>4.733593</td>\n",
       "      <td>21.766623</td>\n",
       "      <td>17.780102</td>\n",
       "      <td>-0.188325</td>\n",
       "      <td>00:00</td>\n",
       "    </tr>\n",
       "    <tr>\n",
       "      <td>16</td>\n",
       "      <td>535.854736</td>\n",
       "      <td>1999.076538</td>\n",
       "      <td>44.711037</td>\n",
       "      <td>205.596130</td>\n",
       "      <td>4.772016</td>\n",
       "      <td>21.943308</td>\n",
       "      <td>17.762966</td>\n",
       "      <td>-0.192100</td>\n",
       "      <td>00:00</td>\n",
       "    </tr>\n",
       "    <tr>\n",
       "      <td>17</td>\n",
       "      <td>467.660004</td>\n",
       "      <td>2025.499878</td>\n",
       "      <td>45.005558</td>\n",
       "      <td>206.950424</td>\n",
       "      <td>5.493837</td>\n",
       "      <td>25.262480</td>\n",
       "      <td>18.027126</td>\n",
       "      <td>-0.207856</td>\n",
       "      <td>00:00</td>\n",
       "    </tr>\n",
       "    <tr>\n",
       "      <td>18</td>\n",
       "      <td>412.922119</td>\n",
       "      <td>2001.556885</td>\n",
       "      <td>44.738762</td>\n",
       "      <td>205.723618</td>\n",
       "      <td>5.423382</td>\n",
       "      <td>24.938505</td>\n",
       "      <td>17.906641</td>\n",
       "      <td>-0.193578</td>\n",
       "      <td>00:00</td>\n",
       "    </tr>\n",
       "    <tr>\n",
       "      <td>19</td>\n",
       "      <td>383.583466</td>\n",
       "      <td>2008.418579</td>\n",
       "      <td>44.815384</td>\n",
       "      <td>206.075958</td>\n",
       "      <td>5.065742</td>\n",
       "      <td>23.293959</td>\n",
       "      <td>17.783628</td>\n",
       "      <td>-0.197670</td>\n",
       "      <td>00:00</td>\n",
       "    </tr>\n",
       "  </tbody>\n",
       "</table>"
      ],
      "text/plain": [
       "<IPython.core.display.HTML object>"
      ]
     },
     "metadata": {},
     "output_type": "display_data"
    },
    {
     "data": {
      "text/html": [
       "<table border=\"1\" class=\"dataframe\">\n",
       "  <thead>\n",
       "    <tr style=\"text-align: left;\">\n",
       "      <th>epoch</th>\n",
       "      <th>train_loss</th>\n",
       "      <th>valid_loss</th>\n",
       "      <th>_rmse</th>\n",
       "      <th>_rrmse</th>\n",
       "      <th>_bias</th>\n",
       "      <th>_bias_pct</th>\n",
       "      <th>mae</th>\n",
       "      <th>r2_score</th>\n",
       "      <th>time</th>\n",
       "    </tr>\n",
       "  </thead>\n",
       "  <tbody>\n",
       "    <tr>\n",
       "      <td>0</td>\n",
       "      <td>32921.199219</td>\n",
       "      <td>33108.730469</td>\n",
       "      <td>181.958038</td>\n",
       "      <td>836.703186</td>\n",
       "      <td>177.818283</td>\n",
       "      <td>817.667236</td>\n",
       "      <td>179.142639</td>\n",
       "      <td>-18.743566</td>\n",
       "      <td>00:00</td>\n",
       "    </tr>\n",
       "    <tr>\n",
       "      <td>1</td>\n",
       "      <td>27319.238281</td>\n",
       "      <td>17972.730469</td>\n",
       "      <td>134.062408</td>\n",
       "      <td>616.463257</td>\n",
       "      <td>127.420052</td>\n",
       "      <td>585.919495</td>\n",
       "      <td>130.027313</td>\n",
       "      <td>-9.717590</td>\n",
       "      <td>00:00</td>\n",
       "    </tr>\n",
       "    <tr>\n",
       "      <td>2</td>\n",
       "      <td>19392.472656</td>\n",
       "      <td>5178.653809</td>\n",
       "      <td>71.962868</td>\n",
       "      <td>330.909058</td>\n",
       "      <td>55.966286</td>\n",
       "      <td>257.351471</td>\n",
       "      <td>62.641533</td>\n",
       "      <td>-2.088161</td>\n",
       "      <td>00:00</td>\n",
       "    </tr>\n",
       "    <tr>\n",
       "      <td>3</td>\n",
       "      <td>12901.678711</td>\n",
       "      <td>1828.500610</td>\n",
       "      <td>42.760971</td>\n",
       "      <td>196.629089</td>\n",
       "      <td>20.683620</td>\n",
       "      <td>95.110123</td>\n",
       "      <td>30.652136</td>\n",
       "      <td>-0.090381</td>\n",
       "      <td>00:00</td>\n",
       "    </tr>\n",
       "    <tr>\n",
       "      <td>4</td>\n",
       "      <td>8751.643555</td>\n",
       "      <td>1251.715332</td>\n",
       "      <td>35.379589</td>\n",
       "      <td>162.687057</td>\n",
       "      <td>10.932955</td>\n",
       "      <td>50.273342</td>\n",
       "      <td>22.769024</td>\n",
       "      <td>0.253571</td>\n",
       "      <td>00:00</td>\n",
       "    </tr>\n",
       "    <tr>\n",
       "      <td>5</td>\n",
       "      <td>6121.158691</td>\n",
       "      <td>1127.451782</td>\n",
       "      <td>33.577549</td>\n",
       "      <td>154.400665</td>\n",
       "      <td>8.430307</td>\n",
       "      <td>38.765343</td>\n",
       "      <td>20.325144</td>\n",
       "      <td>0.327672</td>\n",
       "      <td>00:00</td>\n",
       "    </tr>\n",
       "    <tr>\n",
       "      <td>6</td>\n",
       "      <td>4378.191406</td>\n",
       "      <td>1121.430542</td>\n",
       "      <td>33.487766</td>\n",
       "      <td>153.987823</td>\n",
       "      <td>7.982913</td>\n",
       "      <td>36.708073</td>\n",
       "      <td>19.000507</td>\n",
       "      <td>0.331263</td>\n",
       "      <td>00:00</td>\n",
       "    </tr>\n",
       "    <tr>\n",
       "      <td>7</td>\n",
       "      <td>3196.706543</td>\n",
       "      <td>1057.459839</td>\n",
       "      <td>32.518608</td>\n",
       "      <td>149.531311</td>\n",
       "      <td>6.260474</td>\n",
       "      <td>28.787731</td>\n",
       "      <td>17.656082</td>\n",
       "      <td>0.369410</td>\n",
       "      <td>00:00</td>\n",
       "    </tr>\n",
       "    <tr>\n",
       "      <td>8</td>\n",
       "      <td>2360.965088</td>\n",
       "      <td>1036.050049</td>\n",
       "      <td>32.187733</td>\n",
       "      <td>148.009842</td>\n",
       "      <td>4.805292</td>\n",
       "      <td>22.096321</td>\n",
       "      <td>16.947178</td>\n",
       "      <td>0.382177</td>\n",
       "      <td>00:00</td>\n",
       "    </tr>\n",
       "    <tr>\n",
       "      <td>9</td>\n",
       "      <td>1786.171875</td>\n",
       "      <td>1035.033936</td>\n",
       "      <td>32.171947</td>\n",
       "      <td>147.937256</td>\n",
       "      <td>3.116862</td>\n",
       "      <td>14.332363</td>\n",
       "      <td>16.510815</td>\n",
       "      <td>0.382783</td>\n",
       "      <td>00:00</td>\n",
       "    </tr>\n",
       "    <tr>\n",
       "      <td>10</td>\n",
       "      <td>1371.504517</td>\n",
       "      <td>1081.818848</td>\n",
       "      <td>32.891014</td>\n",
       "      <td>151.243759</td>\n",
       "      <td>6.642421</td>\n",
       "      <td>30.544046</td>\n",
       "      <td>17.241888</td>\n",
       "      <td>0.354884</td>\n",
       "      <td>00:00</td>\n",
       "    </tr>\n",
       "    <tr>\n",
       "      <td>11</td>\n",
       "      <td>1062.631226</td>\n",
       "      <td>1010.786987</td>\n",
       "      <td>31.792881</td>\n",
       "      <td>146.194183</td>\n",
       "      <td>3.656006</td>\n",
       "      <td>16.811523</td>\n",
       "      <td>15.882536</td>\n",
       "      <td>0.397242</td>\n",
       "      <td>00:00</td>\n",
       "    </tr>\n",
       "    <tr>\n",
       "      <td>12</td>\n",
       "      <td>844.790161</td>\n",
       "      <td>993.936035</td>\n",
       "      <td>31.526747</td>\n",
       "      <td>144.970398</td>\n",
       "      <td>3.293435</td>\n",
       "      <td>15.144304</td>\n",
       "      <td>15.569264</td>\n",
       "      <td>0.407291</td>\n",
       "      <td>00:00</td>\n",
       "    </tr>\n",
       "    <tr>\n",
       "      <td>13</td>\n",
       "      <td>684.259460</td>\n",
       "      <td>1006.733582</td>\n",
       "      <td>31.729063</td>\n",
       "      <td>145.900726</td>\n",
       "      <td>4.294142</td>\n",
       "      <td>19.745886</td>\n",
       "      <td>15.639677</td>\n",
       "      <td>0.399660</td>\n",
       "      <td>00:00</td>\n",
       "    </tr>\n",
       "    <tr>\n",
       "      <td>14</td>\n",
       "      <td>562.568787</td>\n",
       "      <td>990.661804</td>\n",
       "      <td>31.474783</td>\n",
       "      <td>144.731461</td>\n",
       "      <td>3.609074</td>\n",
       "      <td>16.595716</td>\n",
       "      <td>15.545672</td>\n",
       "      <td>0.409243</td>\n",
       "      <td>00:00</td>\n",
       "    </tr>\n",
       "    <tr>\n",
       "      <td>15</td>\n",
       "      <td>476.579712</td>\n",
       "      <td>991.344727</td>\n",
       "      <td>31.485628</td>\n",
       "      <td>144.781326</td>\n",
       "      <td>3.482904</td>\n",
       "      <td>16.015545</td>\n",
       "      <td>15.487041</td>\n",
       "      <td>0.408836</td>\n",
       "      <td>00:00</td>\n",
       "    </tr>\n",
       "    <tr>\n",
       "      <td>16</td>\n",
       "      <td>411.343964</td>\n",
       "      <td>1002.105530</td>\n",
       "      <td>31.656046</td>\n",
       "      <td>145.564957</td>\n",
       "      <td>3.948202</td>\n",
       "      <td>18.155140</td>\n",
       "      <td>15.580900</td>\n",
       "      <td>0.402419</td>\n",
       "      <td>00:00</td>\n",
       "    </tr>\n",
       "    <tr>\n",
       "      <td>17</td>\n",
       "      <td>365.999237</td>\n",
       "      <td>997.890930</td>\n",
       "      <td>31.589409</td>\n",
       "      <td>145.258545</td>\n",
       "      <td>3.503702</td>\n",
       "      <td>16.111181</td>\n",
       "      <td>15.392394</td>\n",
       "      <td>0.404933</td>\n",
       "      <td>00:00</td>\n",
       "    </tr>\n",
       "    <tr>\n",
       "      <td>18</td>\n",
       "      <td>332.184784</td>\n",
       "      <td>984.378723</td>\n",
       "      <td>31.374809</td>\n",
       "      <td>144.271744</td>\n",
       "      <td>3.161298</td>\n",
       "      <td>14.536695</td>\n",
       "      <td>15.231120</td>\n",
       "      <td>0.412990</td>\n",
       "      <td>00:00</td>\n",
       "    </tr>\n",
       "    <tr>\n",
       "      <td>19</td>\n",
       "      <td>307.917023</td>\n",
       "      <td>988.074402</td>\n",
       "      <td>31.433651</td>\n",
       "      <td>144.542328</td>\n",
       "      <td>3.463423</td>\n",
       "      <td>15.925964</td>\n",
       "      <td>15.262567</td>\n",
       "      <td>0.410786</td>\n",
       "      <td>00:00</td>\n",
       "    </tr>\n",
       "  </tbody>\n",
       "</table>"
      ],
      "text/plain": [
       "<IPython.core.display.HTML object>"
      ]
     },
     "metadata": {},
     "output_type": "display_data"
    },
    {
     "data": {
      "text/html": [
       "<table border=\"1\" class=\"dataframe\">\n",
       "  <thead>\n",
       "    <tr style=\"text-align: left;\">\n",
       "      <th>epoch</th>\n",
       "      <th>train_loss</th>\n",
       "      <th>valid_loss</th>\n",
       "      <th>_rmse</th>\n",
       "      <th>_rrmse</th>\n",
       "      <th>_bias</th>\n",
       "      <th>_bias_pct</th>\n",
       "      <th>mae</th>\n",
       "      <th>r2_score</th>\n",
       "      <th>time</th>\n",
       "    </tr>\n",
       "  </thead>\n",
       "  <tbody>\n",
       "    <tr>\n",
       "      <td>0</td>\n",
       "      <td>37973.285156</td>\n",
       "      <td>36921.511719</td>\n",
       "      <td>192.149734</td>\n",
       "      <td>883.567993</td>\n",
       "      <td>187.907043</td>\n",
       "      <td>864.058716</td>\n",
       "      <td>189.503510</td>\n",
       "      <td>-21.017225</td>\n",
       "      <td>00:00</td>\n",
       "    </tr>\n",
       "    <tr>\n",
       "      <td>1</td>\n",
       "      <td>31962.613281</td>\n",
       "      <td>21504.466797</td>\n",
       "      <td>146.644028</td>\n",
       "      <td>674.317749</td>\n",
       "      <td>139.314911</td>\n",
       "      <td>640.616028</td>\n",
       "      <td>141.975311</td>\n",
       "      <td>-11.823653</td>\n",
       "      <td>00:00</td>\n",
       "    </tr>\n",
       "    <tr>\n",
       "      <td>2</td>\n",
       "      <td>22981.525391</td>\n",
       "      <td>6533.051758</td>\n",
       "      <td>80.827293</td>\n",
       "      <td>371.670624</td>\n",
       "      <td>62.202805</td>\n",
       "      <td>286.029053</td>\n",
       "      <td>69.581963</td>\n",
       "      <td>-2.895822</td>\n",
       "      <td>00:00</td>\n",
       "    </tr>\n",
       "    <tr>\n",
       "      <td>3</td>\n",
       "      <td>15360.578125</td>\n",
       "      <td>2349.883057</td>\n",
       "      <td>48.475590</td>\n",
       "      <td>222.906784</td>\n",
       "      <td>21.567783</td>\n",
       "      <td>99.175797</td>\n",
       "      <td>34.813351</td>\n",
       "      <td>-0.401294</td>\n",
       "      <td>00:00</td>\n",
       "    </tr>\n",
       "    <tr>\n",
       "      <td>4</td>\n",
       "      <td>10403.666016</td>\n",
       "      <td>2090.579102</td>\n",
       "      <td>45.722847</td>\n",
       "      <td>210.248749</td>\n",
       "      <td>11.789961</td>\n",
       "      <td>54.214138</td>\n",
       "      <td>25.841784</td>\n",
       "      <td>-0.246665</td>\n",
       "      <td>00:00</td>\n",
       "    </tr>\n",
       "    <tr>\n",
       "      <td>5</td>\n",
       "      <td>7237.407227</td>\n",
       "      <td>2056.426514</td>\n",
       "      <td>45.347843</td>\n",
       "      <td>208.524368</td>\n",
       "      <td>9.911234</td>\n",
       "      <td>45.575130</td>\n",
       "      <td>22.456137</td>\n",
       "      <td>-0.226299</td>\n",
       "      <td>00:00</td>\n",
       "    </tr>\n",
       "    <tr>\n",
       "      <td>6</td>\n",
       "      <td>5164.054199</td>\n",
       "      <td>2024.431885</td>\n",
       "      <td>44.993683</td>\n",
       "      <td>206.895828</td>\n",
       "      <td>7.009261</td>\n",
       "      <td>32.230900</td>\n",
       "      <td>20.453903</td>\n",
       "      <td>-0.207219</td>\n",
       "      <td>00:00</td>\n",
       "    </tr>\n",
       "    <tr>\n",
       "      <td>7</td>\n",
       "      <td>3742.229980</td>\n",
       "      <td>1959.245850</td>\n",
       "      <td>44.263367</td>\n",
       "      <td>203.537582</td>\n",
       "      <td>6.324612</td>\n",
       "      <td>29.082657</td>\n",
       "      <td>19.489952</td>\n",
       "      <td>-0.168347</td>\n",
       "      <td>00:00</td>\n",
       "    </tr>\n",
       "    <tr>\n",
       "      <td>8</td>\n",
       "      <td>2756.682861</td>\n",
       "      <td>1946.704590</td>\n",
       "      <td>44.121475</td>\n",
       "      <td>202.885132</td>\n",
       "      <td>6.459930</td>\n",
       "      <td>29.704895</td>\n",
       "      <td>19.007399</td>\n",
       "      <td>-0.160869</td>\n",
       "      <td>00:00</td>\n",
       "    </tr>\n",
       "    <tr>\n",
       "      <td>9</td>\n",
       "      <td>2060.115234</td>\n",
       "      <td>1917.487549</td>\n",
       "      <td>43.789127</td>\n",
       "      <td>201.356888</td>\n",
       "      <td>5.284299</td>\n",
       "      <td>24.298952</td>\n",
       "      <td>18.213774</td>\n",
       "      <td>-0.143446</td>\n",
       "      <td>00:00</td>\n",
       "    </tr>\n",
       "    <tr>\n",
       "      <td>10</td>\n",
       "      <td>1572.829712</td>\n",
       "      <td>1864.246826</td>\n",
       "      <td>43.176926</td>\n",
       "      <td>198.541779</td>\n",
       "      <td>4.757268</td>\n",
       "      <td>21.875492</td>\n",
       "      <td>17.677996</td>\n",
       "      <td>-0.111697</td>\n",
       "      <td>00:00</td>\n",
       "    </tr>\n",
       "    <tr>\n",
       "      <td>11</td>\n",
       "      <td>1209.726318</td>\n",
       "      <td>1882.446655</td>\n",
       "      <td>43.387173</td>\n",
       "      <td>199.508560</td>\n",
       "      <td>4.814581</td>\n",
       "      <td>22.139036</td>\n",
       "      <td>17.388275</td>\n",
       "      <td>-0.122550</td>\n",
       "      <td>00:00</td>\n",
       "    </tr>\n",
       "    <tr>\n",
       "      <td>12</td>\n",
       "      <td>950.621521</td>\n",
       "      <td>1852.608887</td>\n",
       "      <td>43.041939</td>\n",
       "      <td>197.921066</td>\n",
       "      <td>3.846357</td>\n",
       "      <td>17.686821</td>\n",
       "      <td>17.186342</td>\n",
       "      <td>-0.104757</td>\n",
       "      <td>00:00</td>\n",
       "    </tr>\n",
       "    <tr>\n",
       "      <td>13</td>\n",
       "      <td>762.101074</td>\n",
       "      <td>1816.751099</td>\n",
       "      <td>42.623363</td>\n",
       "      <td>195.996323</td>\n",
       "      <td>4.590569</td>\n",
       "      <td>21.108955</td>\n",
       "      <td>17.033272</td>\n",
       "      <td>-0.083374</td>\n",
       "      <td>00:00</td>\n",
       "    </tr>\n",
       "    <tr>\n",
       "      <td>14</td>\n",
       "      <td>620.511108</td>\n",
       "      <td>1803.768066</td>\n",
       "      <td>42.470791</td>\n",
       "      <td>195.294739</td>\n",
       "      <td>4.076166</td>\n",
       "      <td>18.743557</td>\n",
       "      <td>16.948582</td>\n",
       "      <td>-0.075632</td>\n",
       "      <td>00:00</td>\n",
       "    </tr>\n",
       "    <tr>\n",
       "      <td>15</td>\n",
       "      <td>523.485840</td>\n",
       "      <td>1828.214111</td>\n",
       "      <td>42.757618</td>\n",
       "      <td>196.613663</td>\n",
       "      <td>3.173591</td>\n",
       "      <td>14.593221</td>\n",
       "      <td>16.681519</td>\n",
       "      <td>-0.090210</td>\n",
       "      <td>00:00</td>\n",
       "    </tr>\n",
       "    <tr>\n",
       "      <td>16</td>\n",
       "      <td>450.142822</td>\n",
       "      <td>1731.800293</td>\n",
       "      <td>41.614899</td>\n",
       "      <td>191.359070</td>\n",
       "      <td>3.504624</td>\n",
       "      <td>16.115421</td>\n",
       "      <td>16.588367</td>\n",
       "      <td>-0.032716</td>\n",
       "      <td>00:00</td>\n",
       "    </tr>\n",
       "    <tr>\n",
       "      <td>17</td>\n",
       "      <td>392.180206</td>\n",
       "      <td>1672.641479</td>\n",
       "      <td>40.897938</td>\n",
       "      <td>188.062241</td>\n",
       "      <td>3.526645</td>\n",
       "      <td>16.216679</td>\n",
       "      <td>16.492027</td>\n",
       "      <td>0.002562</td>\n",
       "      <td>00:00</td>\n",
       "    </tr>\n",
       "    <tr>\n",
       "      <td>18</td>\n",
       "      <td>352.165131</td>\n",
       "      <td>1791.730713</td>\n",
       "      <td>42.328846</td>\n",
       "      <td>194.642029</td>\n",
       "      <td>3.339504</td>\n",
       "      <td>15.356145</td>\n",
       "      <td>16.565008</td>\n",
       "      <td>-0.068454</td>\n",
       "      <td>00:00</td>\n",
       "    </tr>\n",
       "    <tr>\n",
       "      <td>19</td>\n",
       "      <td>321.142639</td>\n",
       "      <td>1795.335571</td>\n",
       "      <td>42.371403</td>\n",
       "      <td>194.837708</td>\n",
       "      <td>3.877888</td>\n",
       "      <td>17.831814</td>\n",
       "      <td>16.645582</td>\n",
       "      <td>-0.070604</td>\n",
       "      <td>00:00</td>\n",
       "    </tr>\n",
       "  </tbody>\n",
       "</table>"
      ],
      "text/plain": [
       "<IPython.core.display.HTML object>"
      ]
     },
     "metadata": {},
     "output_type": "display_data"
    },
    {
     "data": {
      "text/html": [
       "<table border=\"1\" class=\"dataframe\">\n",
       "  <thead>\n",
       "    <tr style=\"text-align: left;\">\n",
       "      <th>epoch</th>\n",
       "      <th>train_loss</th>\n",
       "      <th>valid_loss</th>\n",
       "      <th>_rmse</th>\n",
       "      <th>_rrmse</th>\n",
       "      <th>_bias</th>\n",
       "      <th>_bias_pct</th>\n",
       "      <th>mae</th>\n",
       "      <th>r2_score</th>\n",
       "      <th>time</th>\n",
       "    </tr>\n",
       "  </thead>\n",
       "  <tbody>\n",
       "    <tr>\n",
       "      <td>0</td>\n",
       "      <td>42707.691406</td>\n",
       "      <td>41671.554688</td>\n",
       "      <td>204.136108</td>\n",
       "      <td>938.685303</td>\n",
       "      <td>199.913055</td>\n",
       "      <td>919.266296</td>\n",
       "      <td>201.418976</td>\n",
       "      <td>-23.849792</td>\n",
       "      <td>00:00</td>\n",
       "    </tr>\n",
       "    <tr>\n",
       "      <td>1</td>\n",
       "      <td>36137.894531</td>\n",
       "      <td>24440.441406</td>\n",
       "      <td>156.334381</td>\n",
       "      <td>718.877197</td>\n",
       "      <td>148.598038</td>\n",
       "      <td>683.302917</td>\n",
       "      <td>150.702332</td>\n",
       "      <td>-13.574447</td>\n",
       "      <td>00:00</td>\n",
       "    </tr>\n",
       "    <tr>\n",
       "      <td>2</td>\n",
       "      <td>26348.847656</td>\n",
       "      <td>7485.061523</td>\n",
       "      <td>86.516251</td>\n",
       "      <td>397.830322</td>\n",
       "      <td>67.713074</td>\n",
       "      <td>311.367126</td>\n",
       "      <td>75.275238</td>\n",
       "      <td>-3.463530</td>\n",
       "      <td>00:00</td>\n",
       "    </tr>\n",
       "    <tr>\n",
       "      <td>3</td>\n",
       "      <td>17689.052734</td>\n",
       "      <td>2403.691162</td>\n",
       "      <td>49.027454</td>\n",
       "      <td>225.444443</td>\n",
       "      <td>24.127882</td>\n",
       "      <td>110.947975</td>\n",
       "      <td>36.175236</td>\n",
       "      <td>-0.433381</td>\n",
       "      <td>00:00</td>\n",
       "    </tr>\n",
       "    <tr>\n",
       "      <td>4</td>\n",
       "      <td>11973.515625</td>\n",
       "      <td>1443.830078</td>\n",
       "      <td>37.997768</td>\n",
       "      <td>174.726303</td>\n",
       "      <td>11.954477</td>\n",
       "      <td>54.970638</td>\n",
       "      <td>24.858345</td>\n",
       "      <td>0.139008</td>\n",
       "      <td>00:00</td>\n",
       "    </tr>\n",
       "    <tr>\n",
       "      <td>5</td>\n",
       "      <td>8324.588867</td>\n",
       "      <td>1599.935181</td>\n",
       "      <td>39.999191</td>\n",
       "      <td>183.929504</td>\n",
       "      <td>9.345075</td>\n",
       "      <td>42.971741</td>\n",
       "      <td>21.677149</td>\n",
       "      <td>0.045919</td>\n",
       "      <td>00:00</td>\n",
       "    </tr>\n",
       "    <tr>\n",
       "      <td>6</td>\n",
       "      <td>5921.417480</td>\n",
       "      <td>1637.118042</td>\n",
       "      <td>40.461319</td>\n",
       "      <td>186.054535</td>\n",
       "      <td>7.458046</td>\n",
       "      <td>34.294559</td>\n",
       "      <td>19.953745</td>\n",
       "      <td>0.023745</td>\n",
       "      <td>00:00</td>\n",
       "    </tr>\n",
       "    <tr>\n",
       "      <td>7</td>\n",
       "      <td>4298.352539</td>\n",
       "      <td>1748.010010</td>\n",
       "      <td>41.809208</td>\n",
       "      <td>192.252563</td>\n",
       "      <td>6.558382</td>\n",
       "      <td>30.157608</td>\n",
       "      <td>18.867123</td>\n",
       "      <td>-0.042382</td>\n",
       "      <td>00:00</td>\n",
       "    </tr>\n",
       "    <tr>\n",
       "      <td>8</td>\n",
       "      <td>3165.264648</td>\n",
       "      <td>1632.634399</td>\n",
       "      <td>40.405865</td>\n",
       "      <td>185.799530</td>\n",
       "      <td>5.954254</td>\n",
       "      <td>27.379629</td>\n",
       "      <td>18.138275</td>\n",
       "      <td>0.026419</td>\n",
       "      <td>00:00</td>\n",
       "    </tr>\n",
       "    <tr>\n",
       "      <td>9</td>\n",
       "      <td>2364.224609</td>\n",
       "      <td>1305.137451</td>\n",
       "      <td>36.126690</td>\n",
       "      <td>166.122467</td>\n",
       "      <td>4.114443</td>\n",
       "      <td>18.919569</td>\n",
       "      <td>17.027090</td>\n",
       "      <td>0.221714</td>\n",
       "      <td>00:00</td>\n",
       "    </tr>\n",
       "    <tr>\n",
       "      <td>10</td>\n",
       "      <td>1796.673096</td>\n",
       "      <td>1156.125000</td>\n",
       "      <td>34.001839</td>\n",
       "      <td>156.351700</td>\n",
       "      <td>4.914475</td>\n",
       "      <td>22.598381</td>\n",
       "      <td>16.724209</td>\n",
       "      <td>0.310574</td>\n",
       "      <td>00:00</td>\n",
       "    </tr>\n",
       "    <tr>\n",
       "      <td>11</td>\n",
       "      <td>1390.215332</td>\n",
       "      <td>1150.046265</td>\n",
       "      <td>33.912331</td>\n",
       "      <td>155.940109</td>\n",
       "      <td>3.896297</td>\n",
       "      <td>17.916460</td>\n",
       "      <td>16.081818</td>\n",
       "      <td>0.314199</td>\n",
       "      <td>00:00</td>\n",
       "    </tr>\n",
       "    <tr>\n",
       "      <td>12</td>\n",
       "      <td>1088.414551</td>\n",
       "      <td>1080.900391</td>\n",
       "      <td>32.877052</td>\n",
       "      <td>151.179550</td>\n",
       "      <td>4.022004</td>\n",
       "      <td>18.494503</td>\n",
       "      <td>16.005775</td>\n",
       "      <td>0.355432</td>\n",
       "      <td>00:00</td>\n",
       "    </tr>\n",
       "    <tr>\n",
       "      <td>13</td>\n",
       "      <td>867.344849</td>\n",
       "      <td>1013.829956</td>\n",
       "      <td>31.840698</td>\n",
       "      <td>146.414047</td>\n",
       "      <td>2.508254</td>\n",
       "      <td>11.533782</td>\n",
       "      <td>15.392537</td>\n",
       "      <td>0.395428</td>\n",
       "      <td>00:00</td>\n",
       "    </tr>\n",
       "    <tr>\n",
       "      <td>14</td>\n",
       "      <td>710.093201</td>\n",
       "      <td>1014.332703</td>\n",
       "      <td>31.848589</td>\n",
       "      <td>146.450348</td>\n",
       "      <td>3.355062</td>\n",
       "      <td>15.427687</td>\n",
       "      <td>15.614350</td>\n",
       "      <td>0.395128</td>\n",
       "      <td>00:00</td>\n",
       "    </tr>\n",
       "    <tr>\n",
       "      <td>15</td>\n",
       "      <td>595.774597</td>\n",
       "      <td>968.262573</td>\n",
       "      <td>31.116917</td>\n",
       "      <td>143.085876</td>\n",
       "      <td>3.053383</td>\n",
       "      <td>14.040462</td>\n",
       "      <td>15.259905</td>\n",
       "      <td>0.422601</td>\n",
       "      <td>00:00</td>\n",
       "    </tr>\n",
       "    <tr>\n",
       "      <td>16</td>\n",
       "      <td>503.364288</td>\n",
       "      <td>964.455505</td>\n",
       "      <td>31.055685</td>\n",
       "      <td>142.804306</td>\n",
       "      <td>3.140136</td>\n",
       "      <td>14.439385</td>\n",
       "      <td>15.222695</td>\n",
       "      <td>0.424871</td>\n",
       "      <td>00:00</td>\n",
       "    </tr>\n",
       "    <tr>\n",
       "      <td>17</td>\n",
       "      <td>437.126892</td>\n",
       "      <td>968.870972</td>\n",
       "      <td>31.126692</td>\n",
       "      <td>143.130814</td>\n",
       "      <td>3.277943</td>\n",
       "      <td>15.073065</td>\n",
       "      <td>15.211885</td>\n",
       "      <td>0.422238</td>\n",
       "      <td>00:00</td>\n",
       "    </tr>\n",
       "    <tr>\n",
       "      <td>18</td>\n",
       "      <td>393.606567</td>\n",
       "      <td>971.966309</td>\n",
       "      <td>31.176374</td>\n",
       "      <td>143.359283</td>\n",
       "      <td>3.340937</td>\n",
       "      <td>15.362734</td>\n",
       "      <td>15.278249</td>\n",
       "      <td>0.420392</td>\n",
       "      <td>00:00</td>\n",
       "    </tr>\n",
       "    <tr>\n",
       "      <td>19</td>\n",
       "      <td>367.140991</td>\n",
       "      <td>953.771057</td>\n",
       "      <td>30.883184</td>\n",
       "      <td>142.011093</td>\n",
       "      <td>2.932417</td>\n",
       "      <td>13.484224</td>\n",
       "      <td>15.089142</td>\n",
       "      <td>0.431242</td>\n",
       "      <td>00:00</td>\n",
       "    </tr>\n",
       "  </tbody>\n",
       "</table>"
      ],
      "text/plain": [
       "<IPython.core.display.HTML object>"
      ]
     },
     "metadata": {},
     "output_type": "display_data"
    },
    {
     "data": {
      "text/html": [
       "<table border=\"1\" class=\"dataframe\">\n",
       "  <thead>\n",
       "    <tr style=\"text-align: left;\">\n",
       "      <th>epoch</th>\n",
       "      <th>train_loss</th>\n",
       "      <th>valid_loss</th>\n",
       "      <th>_rmse</th>\n",
       "      <th>_rrmse</th>\n",
       "      <th>_bias</th>\n",
       "      <th>_bias_pct</th>\n",
       "      <th>mae</th>\n",
       "      <th>r2_score</th>\n",
       "      <th>time</th>\n",
       "    </tr>\n",
       "  </thead>\n",
       "  <tbody>\n",
       "    <tr>\n",
       "      <td>0</td>\n",
       "      <td>47490.222656</td>\n",
       "      <td>44764.234375</td>\n",
       "      <td>211.575592</td>\n",
       "      <td>972.894470</td>\n",
       "      <td>207.245178</td>\n",
       "      <td>952.981812</td>\n",
       "      <td>208.555740</td>\n",
       "      <td>-25.694034</td>\n",
       "      <td>00:00</td>\n",
       "    </tr>\n",
       "    <tr>\n",
       "      <td>1</td>\n",
       "      <td>40549.191406</td>\n",
       "      <td>28999.841797</td>\n",
       "      <td>170.293396</td>\n",
       "      <td>783.065308</td>\n",
       "      <td>163.378479</td>\n",
       "      <td>751.268250</td>\n",
       "      <td>165.663895</td>\n",
       "      <td>-16.293331</td>\n",
       "      <td>00:00</td>\n",
       "    </tr>\n",
       "    <tr>\n",
       "      <td>2</td>\n",
       "      <td>29765.396484</td>\n",
       "      <td>9401.599609</td>\n",
       "      <td>96.961838</td>\n",
       "      <td>445.862579</td>\n",
       "      <td>80.993019</td>\n",
       "      <td>372.432678</td>\n",
       "      <td>87.100090</td>\n",
       "      <td>-4.606410</td>\n",
       "      <td>00:00</td>\n",
       "    </tr>\n",
       "    <tr>\n",
       "      <td>3</td>\n",
       "      <td>19987.480469</td>\n",
       "      <td>3705.703369</td>\n",
       "      <td>60.874489</td>\n",
       "      <td>279.921021</td>\n",
       "      <td>31.650211</td>\n",
       "      <td>145.538147</td>\n",
       "      <td>42.160606</td>\n",
       "      <td>-1.209804</td>\n",
       "      <td>00:00</td>\n",
       "    </tr>\n",
       "    <tr>\n",
       "      <td>4</td>\n",
       "      <td>13510.228516</td>\n",
       "      <td>2633.987061</td>\n",
       "      <td>51.322388</td>\n",
       "      <td>235.997299</td>\n",
       "      <td>15.610665</td>\n",
       "      <td>71.782997</td>\n",
       "      <td>28.673046</td>\n",
       "      <td>-0.570712</td>\n",
       "      <td>00:00</td>\n",
       "    </tr>\n",
       "    <tr>\n",
       "      <td>5</td>\n",
       "      <td>9373.693359</td>\n",
       "      <td>2413.686768</td>\n",
       "      <td>49.129280</td>\n",
       "      <td>225.912659</td>\n",
       "      <td>13.453762</td>\n",
       "      <td>61.864845</td>\n",
       "      <td>24.781990</td>\n",
       "      <td>-0.439342</td>\n",
       "      <td>00:00</td>\n",
       "    </tr>\n",
       "    <tr>\n",
       "      <td>6</td>\n",
       "      <td>6664.425293</td>\n",
       "      <td>2201.683594</td>\n",
       "      <td>46.922100</td>\n",
       "      <td>215.763336</td>\n",
       "      <td>8.926424</td>\n",
       "      <td>41.046650</td>\n",
       "      <td>22.273470</td>\n",
       "      <td>-0.312919</td>\n",
       "      <td>00:00</td>\n",
       "    </tr>\n",
       "    <tr>\n",
       "      <td>7</td>\n",
       "      <td>4811.318848</td>\n",
       "      <td>2148.260254</td>\n",
       "      <td>46.349327</td>\n",
       "      <td>213.129517</td>\n",
       "      <td>9.687765</td>\n",
       "      <td>44.547546</td>\n",
       "      <td>21.234821</td>\n",
       "      <td>-0.281062</td>\n",
       "      <td>00:00</td>\n",
       "    </tr>\n",
       "    <tr>\n",
       "      <td>8</td>\n",
       "      <td>3530.283447</td>\n",
       "      <td>2064.426514</td>\n",
       "      <td>45.435959</td>\n",
       "      <td>208.929565</td>\n",
       "      <td>6.482240</td>\n",
       "      <td>29.807482</td>\n",
       "      <td>19.826672</td>\n",
       "      <td>-0.231069</td>\n",
       "      <td>00:00</td>\n",
       "    </tr>\n",
       "    <tr>\n",
       "      <td>9</td>\n",
       "      <td>2633.266113</td>\n",
       "      <td>2043.855835</td>\n",
       "      <td>45.209023</td>\n",
       "      <td>207.886032</td>\n",
       "      <td>6.258018</td>\n",
       "      <td>28.776436</td>\n",
       "      <td>19.406969</td>\n",
       "      <td>-0.218802</td>\n",
       "      <td>00:00</td>\n",
       "    </tr>\n",
       "    <tr>\n",
       "      <td>10</td>\n",
       "      <td>1989.490723</td>\n",
       "      <td>2050.996338</td>\n",
       "      <td>45.287926</td>\n",
       "      <td>208.248856</td>\n",
       "      <td>6.496399</td>\n",
       "      <td>29.872593</td>\n",
       "      <td>19.242514</td>\n",
       "      <td>-0.223060</td>\n",
       "      <td>00:00</td>\n",
       "    </tr>\n",
       "    <tr>\n",
       "      <td>11</td>\n",
       "      <td>1526.885498</td>\n",
       "      <td>2026.437866</td>\n",
       "      <td>45.015972</td>\n",
       "      <td>206.998322</td>\n",
       "      <td>7.060705</td>\n",
       "      <td>32.467457</td>\n",
       "      <td>19.078711</td>\n",
       "      <td>-0.208416</td>\n",
       "      <td>00:00</td>\n",
       "    </tr>\n",
       "    <tr>\n",
       "      <td>12</td>\n",
       "      <td>1192.446533</td>\n",
       "      <td>1998.963135</td>\n",
       "      <td>44.709766</td>\n",
       "      <td>205.590302</td>\n",
       "      <td>5.404768</td>\n",
       "      <td>24.852913</td>\n",
       "      <td>18.181925</td>\n",
       "      <td>-0.192032</td>\n",
       "      <td>00:00</td>\n",
       "    </tr>\n",
       "    <tr>\n",
       "      <td>13</td>\n",
       "      <td>946.793640</td>\n",
       "      <td>2011.796997</td>\n",
       "      <td>44.853062</td>\n",
       "      <td>206.249207</td>\n",
       "      <td>6.301669</td>\n",
       "      <td>28.977156</td>\n",
       "      <td>18.275274</td>\n",
       "      <td>-0.199685</td>\n",
       "      <td>00:00</td>\n",
       "    </tr>\n",
       "    <tr>\n",
       "      <td>14</td>\n",
       "      <td>764.087952</td>\n",
       "      <td>1975.938354</td>\n",
       "      <td>44.451530</td>\n",
       "      <td>204.402832</td>\n",
       "      <td>4.661961</td>\n",
       "      <td>21.437239</td>\n",
       "      <td>17.775757</td>\n",
       "      <td>-0.178302</td>\n",
       "      <td>00:00</td>\n",
       "    </tr>\n",
       "    <tr>\n",
       "      <td>15</td>\n",
       "      <td>633.261414</td>\n",
       "      <td>1987.774902</td>\n",
       "      <td>44.584469</td>\n",
       "      <td>205.014130</td>\n",
       "      <td>4.980965</td>\n",
       "      <td>22.904125</td>\n",
       "      <td>17.844461</td>\n",
       "      <td>-0.185360</td>\n",
       "      <td>00:00</td>\n",
       "    </tr>\n",
       "    <tr>\n",
       "      <td>16</td>\n",
       "      <td>536.294312</td>\n",
       "      <td>2003.207886</td>\n",
       "      <td>44.757210</td>\n",
       "      <td>205.808441</td>\n",
       "      <td>6.038418</td>\n",
       "      <td>27.766642</td>\n",
       "      <td>18.093168</td>\n",
       "      <td>-0.194563</td>\n",
       "      <td>00:00</td>\n",
       "    </tr>\n",
       "    <tr>\n",
       "      <td>17</td>\n",
       "      <td>463.322571</td>\n",
       "      <td>2016.048340</td>\n",
       "      <td>44.900429</td>\n",
       "      <td>206.467010</td>\n",
       "      <td>5.914500</td>\n",
       "      <td>27.196827</td>\n",
       "      <td>18.084393</td>\n",
       "      <td>-0.202220</td>\n",
       "      <td>00:00</td>\n",
       "    </tr>\n",
       "    <tr>\n",
       "      <td>18</td>\n",
       "      <td>412.296112</td>\n",
       "      <td>1992.748047</td>\n",
       "      <td>44.640205</td>\n",
       "      <td>205.270432</td>\n",
       "      <td>5.666760</td>\n",
       "      <td>26.057636</td>\n",
       "      <td>17.906240</td>\n",
       "      <td>-0.188326</td>\n",
       "      <td>00:00</td>\n",
       "    </tr>\n",
       "    <tr>\n",
       "      <td>19</td>\n",
       "      <td>373.018005</td>\n",
       "      <td>1991.215942</td>\n",
       "      <td>44.623043</td>\n",
       "      <td>205.191513</td>\n",
       "      <td>5.399505</td>\n",
       "      <td>24.828709</td>\n",
       "      <td>17.797960</td>\n",
       "      <td>-0.187412</td>\n",
       "      <td>00:00</td>\n",
       "    </tr>\n",
       "  </tbody>\n",
       "</table>"
      ],
      "text/plain": [
       "<IPython.core.display.HTML object>"
      ]
     },
     "metadata": {},
     "output_type": "display_data"
    },
    {
     "data": {
      "text/html": [
       "<table border=\"1\" class=\"dataframe\">\n",
       "  <thead>\n",
       "    <tr style=\"text-align: left;\">\n",
       "      <th>epoch</th>\n",
       "      <th>train_loss</th>\n",
       "      <th>valid_loss</th>\n",
       "      <th>_rmse</th>\n",
       "      <th>_rrmse</th>\n",
       "      <th>_bias</th>\n",
       "      <th>_bias_pct</th>\n",
       "      <th>mae</th>\n",
       "      <th>r2_score</th>\n",
       "      <th>time</th>\n",
       "    </tr>\n",
       "  </thead>\n",
       "  <tbody>\n",
       "    <tr>\n",
       "      <td>0</td>\n",
       "      <td>39638.230469</td>\n",
       "      <td>37831.804688</td>\n",
       "      <td>194.503998</td>\n",
       "      <td>894.393738</td>\n",
       "      <td>189.194092</td>\n",
       "      <td>869.977051</td>\n",
       "      <td>191.307510</td>\n",
       "      <td>-21.560053</td>\n",
       "      <td>00:00</td>\n",
       "    </tr>\n",
       "    <tr>\n",
       "      <td>1</td>\n",
       "      <td>33955.265625</td>\n",
       "      <td>23361.560547</td>\n",
       "      <td>152.844894</td>\n",
       "      <td>702.831360</td>\n",
       "      <td>144.287170</td>\n",
       "      <td>663.480103</td>\n",
       "      <td>147.934433</td>\n",
       "      <td>-12.931082</td>\n",
       "      <td>00:00</td>\n",
       "    </tr>\n",
       "    <tr>\n",
       "      <td>2</td>\n",
       "      <td>24916.175781</td>\n",
       "      <td>7314.569824</td>\n",
       "      <td>85.525261</td>\n",
       "      <td>393.273438</td>\n",
       "      <td>65.812256</td>\n",
       "      <td>302.626526</td>\n",
       "      <td>74.068108</td>\n",
       "      <td>-3.361862</td>\n",
       "      <td>00:00</td>\n",
       "    </tr>\n",
       "    <tr>\n",
       "      <td>3</td>\n",
       "      <td>16718.255859</td>\n",
       "      <td>2440.509277</td>\n",
       "      <td>49.401512</td>\n",
       "      <td>227.164490</td>\n",
       "      <td>21.724157</td>\n",
       "      <td>99.894859</td>\n",
       "      <td>35.140213</td>\n",
       "      <td>-0.455337</td>\n",
       "      <td>00:00</td>\n",
       "    </tr>\n",
       "    <tr>\n",
       "      <td>4</td>\n",
       "      <td>11327.720703</td>\n",
       "      <td>1529.360840</td>\n",
       "      <td>39.107040</td>\n",
       "      <td>179.827103</td>\n",
       "      <td>10.786501</td>\n",
       "      <td>49.599899</td>\n",
       "      <td>24.597580</td>\n",
       "      <td>0.088004</td>\n",
       "      <td>00:00</td>\n",
       "    </tr>\n",
       "    <tr>\n",
       "      <td>5</td>\n",
       "      <td>7903.883789</td>\n",
       "      <td>1320.560913</td>\n",
       "      <td>36.339523</td>\n",
       "      <td>167.101151</td>\n",
       "      <td>8.497746</td>\n",
       "      <td>39.075447</td>\n",
       "      <td>21.073387</td>\n",
       "      <td>0.212516</td>\n",
       "      <td>00:00</td>\n",
       "    </tr>\n",
       "    <tr>\n",
       "      <td>6</td>\n",
       "      <td>5638.641113</td>\n",
       "      <td>1237.112305</td>\n",
       "      <td>35.172607</td>\n",
       "      <td>161.735275</td>\n",
       "      <td>6.228041</td>\n",
       "      <td>28.638590</td>\n",
       "      <td>19.179865</td>\n",
       "      <td>0.262279</td>\n",
       "      <td>00:00</td>\n",
       "    </tr>\n",
       "    <tr>\n",
       "      <td>7</td>\n",
       "      <td>4093.075928</td>\n",
       "      <td>1175.370972</td>\n",
       "      <td>34.283684</td>\n",
       "      <td>157.647720</td>\n",
       "      <td>3.870932</td>\n",
       "      <td>17.799826</td>\n",
       "      <td>17.897404</td>\n",
       "      <td>0.299097</td>\n",
       "      <td>00:00</td>\n",
       "    </tr>\n",
       "    <tr>\n",
       "      <td>8</td>\n",
       "      <td>3023.910400</td>\n",
       "      <td>1151.352783</td>\n",
       "      <td>33.931595</td>\n",
       "      <td>156.028687</td>\n",
       "      <td>4.117225</td>\n",
       "      <td>18.932362</td>\n",
       "      <td>17.326340</td>\n",
       "      <td>0.313419</td>\n",
       "      <td>00:00</td>\n",
       "    </tr>\n",
       "    <tr>\n",
       "      <td>9</td>\n",
       "      <td>2263.653564</td>\n",
       "      <td>1133.376831</td>\n",
       "      <td>33.665661</td>\n",
       "      <td>154.805832</td>\n",
       "      <td>2.592505</td>\n",
       "      <td>11.921195</td>\n",
       "      <td>16.619158</td>\n",
       "      <td>0.324139</td>\n",
       "      <td>00:00</td>\n",
       "    </tr>\n",
       "    <tr>\n",
       "      <td>10</td>\n",
       "      <td>1729.260254</td>\n",
       "      <td>1144.266235</td>\n",
       "      <td>33.827003</td>\n",
       "      <td>155.547745</td>\n",
       "      <td>3.470597</td>\n",
       "      <td>15.958952</td>\n",
       "      <td>16.665529</td>\n",
       "      <td>0.317645</td>\n",
       "      <td>00:00</td>\n",
       "    </tr>\n",
       "    <tr>\n",
       "      <td>11</td>\n",
       "      <td>1340.132202</td>\n",
       "      <td>1108.469849</td>\n",
       "      <td>33.293686</td>\n",
       "      <td>153.095383</td>\n",
       "      <td>2.324348</td>\n",
       "      <td>10.688123</td>\n",
       "      <td>15.862835</td>\n",
       "      <td>0.338992</td>\n",
       "      <td>00:00</td>\n",
       "    </tr>\n",
       "    <tr>\n",
       "      <td>12</td>\n",
       "      <td>1053.066406</td>\n",
       "      <td>1126.559082</td>\n",
       "      <td>33.564255</td>\n",
       "      <td>154.339539</td>\n",
       "      <td>3.571753</td>\n",
       "      <td>16.424103</td>\n",
       "      <td>16.157427</td>\n",
       "      <td>0.328205</td>\n",
       "      <td>00:00</td>\n",
       "    </tr>\n",
       "    <tr>\n",
       "      <td>13</td>\n",
       "      <td>851.534302</td>\n",
       "      <td>1084.036133</td>\n",
       "      <td>32.924706</td>\n",
       "      <td>151.398682</td>\n",
       "      <td>1.850825</td>\n",
       "      <td>8.510705</td>\n",
       "      <td>15.254436</td>\n",
       "      <td>0.353562</td>\n",
       "      <td>00:00</td>\n",
       "    </tr>\n",
       "    <tr>\n",
       "      <td>14</td>\n",
       "      <td>694.720215</td>\n",
       "      <td>1111.999146</td>\n",
       "      <td>33.346649</td>\n",
       "      <td>153.338928</td>\n",
       "      <td>3.267514</td>\n",
       "      <td>15.025108</td>\n",
       "      <td>15.651447</td>\n",
       "      <td>0.336887</td>\n",
       "      <td>00:00</td>\n",
       "    </tr>\n",
       "    <tr>\n",
       "      <td>15</td>\n",
       "      <td>577.516357</td>\n",
       "      <td>1098.111572</td>\n",
       "      <td>33.137768</td>\n",
       "      <td>152.378418</td>\n",
       "      <td>2.982913</td>\n",
       "      <td>13.716420</td>\n",
       "      <td>15.484356</td>\n",
       "      <td>0.345169</td>\n",
       "      <td>00:00</td>\n",
       "    </tr>\n",
       "    <tr>\n",
       "      <td>16</td>\n",
       "      <td>500.440765</td>\n",
       "      <td>1077.691772</td>\n",
       "      <td>32.828217</td>\n",
       "      <td>150.955002</td>\n",
       "      <td>2.086663</td>\n",
       "      <td>9.595164</td>\n",
       "      <td>15.133731</td>\n",
       "      <td>0.357345</td>\n",
       "      <td>00:00</td>\n",
       "    </tr>\n",
       "    <tr>\n",
       "      <td>17</td>\n",
       "      <td>442.132721</td>\n",
       "      <td>1072.988892</td>\n",
       "      <td>32.756512</td>\n",
       "      <td>150.625275</td>\n",
       "      <td>1.998745</td>\n",
       "      <td>9.190891</td>\n",
       "      <td>15.042825</td>\n",
       "      <td>0.360150</td>\n",
       "      <td>00:00</td>\n",
       "    </tr>\n",
       "    <tr>\n",
       "      <td>18</td>\n",
       "      <td>397.196075</td>\n",
       "      <td>1077.614746</td>\n",
       "      <td>32.827045</td>\n",
       "      <td>150.949615</td>\n",
       "      <td>2.357354</td>\n",
       "      <td>10.839891</td>\n",
       "      <td>15.116895</td>\n",
       "      <td>0.357391</td>\n",
       "      <td>00:00</td>\n",
       "    </tr>\n",
       "    <tr>\n",
       "      <td>19</td>\n",
       "      <td>361.779510</td>\n",
       "      <td>1083.502319</td>\n",
       "      <td>32.916595</td>\n",
       "      <td>151.361389</td>\n",
       "      <td>2.653169</td>\n",
       "      <td>12.200148</td>\n",
       "      <td>15.229448</td>\n",
       "      <td>0.353880</td>\n",
       "      <td>00:00</td>\n",
       "    </tr>\n",
       "  </tbody>\n",
       "</table>"
      ],
      "text/plain": [
       "<IPython.core.display.HTML object>"
      ]
     },
     "metadata": {},
     "output_type": "display_data"
    }
   ],
   "source": [
    "ensemble.fit_one_cycle(20, 1e-2)"
   ]
  },
  {
   "cell_type": "code",
   "execution_count": 60,
   "metadata": {
    "ExecuteTime": {
     "end_time": "2020-12-09T08:34:02.911953Z",
     "start_time": "2020-12-09T08:34:02.307442Z"
    }
   },
   "outputs": [
    {
     "data": {
      "text/html": [],
      "text/plain": [
       "<IPython.core.display.HTML object>"
      ]
     },
     "metadata": {},
     "output_type": "display_data"
    },
    {
     "data": {
      "text/html": [],
      "text/plain": [
       "<IPython.core.display.HTML object>"
      ]
     },
     "metadata": {},
     "output_type": "display_data"
    },
    {
     "data": {
      "text/html": [],
      "text/plain": [
       "<IPython.core.display.HTML object>"
      ]
     },
     "metadata": {},
     "output_type": "display_data"
    },
    {
     "data": {
      "text/html": [],
      "text/plain": [
       "<IPython.core.display.HTML object>"
      ]
     },
     "metadata": {},
     "output_type": "display_data"
    },
    {
     "data": {
      "text/html": [],
      "text/plain": [
       "<IPython.core.display.HTML object>"
      ]
     },
     "metadata": {},
     "output_type": "display_data"
    },
    {
     "data": {
      "text/html": [],
      "text/plain": [
       "<IPython.core.display.HTML object>"
      ]
     },
     "metadata": {},
     "output_type": "display_data"
    },
    {
     "data": {
      "text/html": [],
      "text/plain": [
       "<IPython.core.display.HTML object>"
      ]
     },
     "metadata": {},
     "output_type": "display_data"
    },
    {
     "data": {
      "text/html": [],
      "text/plain": [
       "<IPython.core.display.HTML object>"
      ]
     },
     "metadata": {},
     "output_type": "display_data"
    },
    {
     "data": {
      "text/html": [],
      "text/plain": [
       "<IPython.core.display.HTML object>"
      ]
     },
     "metadata": {},
     "output_type": "display_data"
    },
    {
     "data": {
      "text/html": [],
      "text/plain": [
       "<IPython.core.display.HTML object>"
      ]
     },
     "metadata": {},
     "output_type": "display_data"
    },
    {
     "data": {
      "text/html": [],
      "text/plain": [
       "<IPython.core.display.HTML object>"
      ]
     },
     "metadata": {},
     "output_type": "display_data"
    }
   ],
   "source": [
    "res = ensemble.validate()"
   ]
  },
  {
   "cell_type": "markdown",
   "metadata": {},
   "source": [
    "See ensemble validation results."
   ]
  },
  {
   "cell_type": "code",
   "execution_count": 61,
   "metadata": {
    "ExecuteTime": {
     "end_time": "2020-12-09T08:34:02.926967Z",
     "start_time": "2020-12-09T08:34:02.915355Z"
    }
   },
   "outputs": [
    {
     "data": {
      "text/html": [
       "<div>\n",
       "<style scoped>\n",
       "    .dataframe tbody tr th:only-of-type {\n",
       "        vertical-align: middle;\n",
       "    }\n",
       "\n",
       "    .dataframe tbody tr th {\n",
       "        vertical-align: top;\n",
       "    }\n",
       "\n",
       "    .dataframe thead th {\n",
       "        text-align: right;\n",
       "    }\n",
       "</style>\n",
       "<table border=\"1\" class=\"dataframe\">\n",
       "  <thead>\n",
       "    <tr style=\"text-align: right;\">\n",
       "      <th></th>\n",
       "      <th>model_identifier</th>\n",
       "      <th>_rmse</th>\n",
       "      <th>_rrmse</th>\n",
       "      <th>_bias</th>\n",
       "      <th>_bias_pct</th>\n",
       "      <th>mae</th>\n",
       "      <th>r2_score</th>\n",
       "    </tr>\n",
       "  </thead>\n",
       "  <tbody>\n",
       "    <tr>\n",
       "      <th>0</th>\n",
       "      <td>ensemble</td>\n",
       "      <td>36.400539</td>\n",
       "      <td>167.381714</td>\n",
       "      <td>3.807269</td>\n",
       "      <td>17.507082</td>\n",
       "      <td>16.264874</td>\n",
       "      <td>0.209870</td>\n",
       "    </tr>\n",
       "    <tr>\n",
       "      <th>1</th>\n",
       "      <td>0</td>\n",
       "      <td>43.397614</td>\n",
       "      <td>199.556580</td>\n",
       "      <td>4.239144</td>\n",
       "      <td>19.492985</td>\n",
       "      <td>17.002308</td>\n",
       "      <td>-0.123091</td>\n",
       "    </tr>\n",
       "    <tr>\n",
       "      <th>2</th>\n",
       "      <td>1</td>\n",
       "      <td>32.909866</td>\n",
       "      <td>151.330444</td>\n",
       "      <td>2.537759</td>\n",
       "      <td>11.669456</td>\n",
       "      <td>14.900395</td>\n",
       "      <td>0.354144</td>\n",
       "    </tr>\n",
       "    <tr>\n",
       "      <th>3</th>\n",
       "      <td>2</td>\n",
       "      <td>41.577736</td>\n",
       "      <td>191.188187</td>\n",
       "      <td>4.603288</td>\n",
       "      <td>21.167439</td>\n",
       "      <td>17.818193</td>\n",
       "      <td>-0.030872</td>\n",
       "    </tr>\n",
       "    <tr>\n",
       "      <th>4</th>\n",
       "      <td>3</td>\n",
       "      <td>44.093945</td>\n",
       "      <td>202.758530</td>\n",
       "      <td>3.300354</td>\n",
       "      <td>15.176118</td>\n",
       "      <td>17.475693</td>\n",
       "      <td>-0.159420</td>\n",
       "    </tr>\n",
       "    <tr>\n",
       "      <th>5</th>\n",
       "      <td>4</td>\n",
       "      <td>44.815384</td>\n",
       "      <td>206.075958</td>\n",
       "      <td>5.065742</td>\n",
       "      <td>23.293959</td>\n",
       "      <td>17.783630</td>\n",
       "      <td>-0.197670</td>\n",
       "    </tr>\n",
       "    <tr>\n",
       "      <th>6</th>\n",
       "      <td>5</td>\n",
       "      <td>31.433651</td>\n",
       "      <td>144.542328</td>\n",
       "      <td>3.463423</td>\n",
       "      <td>15.925964</td>\n",
       "      <td>15.262568</td>\n",
       "      <td>0.410786</td>\n",
       "    </tr>\n",
       "    <tr>\n",
       "      <th>7</th>\n",
       "      <td>6</td>\n",
       "      <td>42.371403</td>\n",
       "      <td>194.837708</td>\n",
       "      <td>3.877888</td>\n",
       "      <td>17.831814</td>\n",
       "      <td>16.645582</td>\n",
       "      <td>-0.070604</td>\n",
       "    </tr>\n",
       "    <tr>\n",
       "      <th>8</th>\n",
       "      <td>7</td>\n",
       "      <td>30.883184</td>\n",
       "      <td>142.011093</td>\n",
       "      <td>2.932417</td>\n",
       "      <td>13.484224</td>\n",
       "      <td>15.089142</td>\n",
       "      <td>0.431242</td>\n",
       "    </tr>\n",
       "    <tr>\n",
       "      <th>9</th>\n",
       "      <td>8</td>\n",
       "      <td>44.623043</td>\n",
       "      <td>205.191513</td>\n",
       "      <td>5.399505</td>\n",
       "      <td>24.828709</td>\n",
       "      <td>17.797958</td>\n",
       "      <td>-0.187412</td>\n",
       "    </tr>\n",
       "    <tr>\n",
       "      <th>10</th>\n",
       "      <td>9</td>\n",
       "      <td>32.916595</td>\n",
       "      <td>151.361389</td>\n",
       "      <td>2.653169</td>\n",
       "      <td>12.200148</td>\n",
       "      <td>15.229450</td>\n",
       "      <td>0.353880</td>\n",
       "    </tr>\n",
       "  </tbody>\n",
       "</table>\n",
       "</div>"
      ],
      "text/plain": [
       "   model_identifier      _rmse      _rrmse     _bias  _bias_pct        mae  \\\n",
       "0          ensemble  36.400539  167.381714  3.807269  17.507082  16.264874   \n",
       "1                 0  43.397614  199.556580  4.239144  19.492985  17.002308   \n",
       "2                 1  32.909866  151.330444  2.537759  11.669456  14.900395   \n",
       "3                 2  41.577736  191.188187  4.603288  21.167439  17.818193   \n",
       "4                 3  44.093945  202.758530  3.300354  15.176118  17.475693   \n",
       "5                 4  44.815384  206.075958  5.065742  23.293959  17.783630   \n",
       "6                 5  31.433651  144.542328  3.463423  15.925964  15.262568   \n",
       "7                 6  42.371403  194.837708  3.877888  17.831814  16.645582   \n",
       "8                 7  30.883184  142.011093  2.932417  13.484224  15.089142   \n",
       "9                 8  44.623043  205.191513  5.399505  24.828709  17.797958   \n",
       "10                9  32.916595  151.361389  2.653169  12.200148  15.229450   \n",
       "\n",
       "    r2_score  \n",
       "0   0.209870  \n",
       "1  -0.123091  \n",
       "2   0.354144  \n",
       "3  -0.030872  \n",
       "4  -0.159420  \n",
       "5  -0.197670  \n",
       "6   0.410786  \n",
       "7  -0.070604  \n",
       "8   0.431242  \n",
       "9  -0.187412  \n",
       "10  0.353880  "
      ]
     },
     "execution_count": 61,
     "metadata": {},
     "output_type": "execute_result"
    }
   ],
   "source": [
    "res"
   ]
  },
  {
   "cell_type": "code",
   "execution_count": 62,
   "metadata": {
    "ExecuteTime": {
     "end_time": "2020-12-09T08:34:03.431525Z",
     "start_time": "2020-12-09T08:34:02.930813Z"
    }
   },
   "outputs": [
    {
     "data": {
      "text/html": [],
      "text/plain": [
       "<IPython.core.display.HTML object>"
      ]
     },
     "metadata": {},
     "output_type": "display_data"
    },
    {
     "data": {
      "text/html": [],
      "text/plain": [
       "<IPython.core.display.HTML object>"
      ]
     },
     "metadata": {},
     "output_type": "display_data"
    },
    {
     "data": {
      "text/html": [],
      "text/plain": [
       "<IPython.core.display.HTML object>"
      ]
     },
     "metadata": {},
     "output_type": "display_data"
    },
    {
     "data": {
      "text/html": [],
      "text/plain": [
       "<IPython.core.display.HTML object>"
      ]
     },
     "metadata": {},
     "output_type": "display_data"
    },
    {
     "data": {
      "text/html": [],
      "text/plain": [
       "<IPython.core.display.HTML object>"
      ]
     },
     "metadata": {},
     "output_type": "display_data"
    },
    {
     "data": {
      "text/html": [],
      "text/plain": [
       "<IPython.core.display.HTML object>"
      ]
     },
     "metadata": {},
     "output_type": "display_data"
    },
    {
     "data": {
      "text/html": [],
      "text/plain": [
       "<IPython.core.display.HTML object>"
      ]
     },
     "metadata": {},
     "output_type": "display_data"
    },
    {
     "data": {
      "text/html": [],
      "text/plain": [
       "<IPython.core.display.HTML object>"
      ]
     },
     "metadata": {},
     "output_type": "display_data"
    },
    {
     "data": {
      "text/html": [],
      "text/plain": [
       "<IPython.core.display.HTML object>"
      ]
     },
     "metadata": {},
     "output_type": "display_data"
    },
    {
     "data": {
      "text/html": [],
      "text/plain": [
       "<IPython.core.display.HTML object>"
      ]
     },
     "metadata": {},
     "output_type": "display_data"
    }
   ],
   "source": [
    "ens_int = RegressionInterpretation.from_ensemble(ensemble)"
   ]
  },
  {
   "cell_type": "code",
   "execution_count": 63,
   "metadata": {
    "ExecuteTime": {
     "end_time": "2020-12-09T08:34:03.769584Z",
     "start_time": "2020-12-09T08:34:03.434206Z"
    }
   },
   "outputs": [
    {
     "data": {
      "image/png": "[encoded data removed]",
      "text/plain": [
       "<Figure size 504x432 with 2 Axes>"
      ]
     },
     "metadata": {
      "needs_background": "light"
     },
     "output_type": "display_data"
    }
   ],
   "source": [
    "ens_int.plot_results(log_y=False)\n",
    "plt.show()"
   ]
  },
  {
   "cell_type": "markdown",
   "metadata": {},
   "source": [
    "Run test set predictions."
   ]
  },
  {
   "cell_type": "code",
   "execution_count": 64,
   "metadata": {
    "ExecuteTime": {
     "end_time": "2020-12-09T08:34:04.325522Z",
     "start_time": "2020-12-09T08:34:03.771104Z"
    }
   },
   "outputs": [
    {
     "data": {
      "text/html": [],
      "text/plain": [
       "<IPython.core.display.HTML object>"
      ]
     },
     "metadata": {},
     "output_type": "display_data"
    },
    {
     "data": {
      "text/html": [],
      "text/plain": [
       "<IPython.core.display.HTML object>"
      ]
     },
     "metadata": {},
     "output_type": "display_data"
    },
    {
     "data": {
      "text/html": [],
      "text/plain": [
       "<IPython.core.display.HTML object>"
      ]
     },
     "metadata": {},
     "output_type": "display_data"
    },
    {
     "data": {
      "text/html": [],
      "text/plain": [
       "<IPython.core.display.HTML object>"
      ]
     },
     "metadata": {},
     "output_type": "display_data"
    },
    {
     "data": {
      "text/html": [],
      "text/plain": [
       "<IPython.core.display.HTML object>"
      ]
     },
     "metadata": {},
     "output_type": "display_data"
    },
    {
     "data": {
      "text/html": [],
      "text/plain": [
       "<IPython.core.display.HTML object>"
      ]
     },
     "metadata": {},
     "output_type": "display_data"
    },
    {
     "data": {
      "text/html": [],
      "text/plain": [
       "<IPython.core.display.HTML object>"
      ]
     },
     "metadata": {},
     "output_type": "display_data"
    },
    {
     "data": {
      "text/html": [],
      "text/plain": [
       "<IPython.core.display.HTML object>"
      ]
     },
     "metadata": {},
     "output_type": "display_data"
    },
    {
     "data": {
      "text/html": [],
      "text/plain": [
       "<IPython.core.display.HTML object>"
      ]
     },
     "metadata": {},
     "output_type": "display_data"
    },
    {
     "data": {
      "text/html": [],
      "text/plain": [
       "<IPython.core.display.HTML object>"
      ]
     },
     "metadata": {},
     "output_type": "display_data"
    },
    {
     "data": {
      "text/html": [],
      "text/plain": [
       "<IPython.core.display.HTML object>"
      ]
     },
     "metadata": {},
     "output_type": "display_data"
    },
    {
     "data": {
      "text/html": [
       "<div>\n",
       "<style scoped>\n",
       "    .dataframe tbody tr th:only-of-type {\n",
       "        vertical-align: middle;\n",
       "    }\n",
       "\n",
       "    .dataframe tbody tr th {\n",
       "        vertical-align: top;\n",
       "    }\n",
       "\n",
       "    .dataframe thead th {\n",
       "        text-align: right;\n",
       "    }\n",
       "</style>\n",
       "<table border=\"1\" class=\"dataframe\">\n",
       "  <thead>\n",
       "    <tr style=\"text-align: right;\">\n",
       "      <th></th>\n",
       "      <th>model_identifier</th>\n",
       "      <th>_rmse</th>\n",
       "      <th>_rrmse</th>\n",
       "      <th>_bias</th>\n",
       "      <th>_bias_pct</th>\n",
       "      <th>mae</th>\n",
       "      <th>r2_score</th>\n",
       "    </tr>\n",
       "  </thead>\n",
       "  <tbody>\n",
       "    <tr>\n",
       "      <th>0</th>\n",
       "      <td>ensemble</td>\n",
       "      <td>21.511379</td>\n",
       "      <td>102.035858</td>\n",
       "      <td>5.282456</td>\n",
       "      <td>25.056505</td>\n",
       "      <td>13.582648</td>\n",
       "      <td>0.596191</td>\n",
       "    </tr>\n",
       "    <tr>\n",
       "      <th>1</th>\n",
       "      <td>0</td>\n",
       "      <td>22.116110</td>\n",
       "      <td>104.904305</td>\n",
       "      <td>5.093486</td>\n",
       "      <td>24.160154</td>\n",
       "      <td>13.556016</td>\n",
       "      <td>0.573168</td>\n",
       "    </tr>\n",
       "    <tr>\n",
       "      <th>2</th>\n",
       "      <td>1</td>\n",
       "      <td>21.042124</td>\n",
       "      <td>99.810013</td>\n",
       "      <td>4.334646</td>\n",
       "      <td>20.560715</td>\n",
       "      <td>13.451874</td>\n",
       "      <td>0.613616</td>\n",
       "    </tr>\n",
       "    <tr>\n",
       "      <th>3</th>\n",
       "      <td>2</td>\n",
       "      <td>23.692905</td>\n",
       "      <td>112.383583</td>\n",
       "      <td>5.731114</td>\n",
       "      <td>27.184645</td>\n",
       "      <td>14.936193</td>\n",
       "      <td>0.510135</td>\n",
       "    </tr>\n",
       "    <tr>\n",
       "      <th>4</th>\n",
       "      <td>3</td>\n",
       "      <td>21.040655</td>\n",
       "      <td>99.803047</td>\n",
       "      <td>4.338238</td>\n",
       "      <td>20.577751</td>\n",
       "      <td>13.450111</td>\n",
       "      <td>0.613670</td>\n",
       "    </tr>\n",
       "    <tr>\n",
       "      <th>5</th>\n",
       "      <td>4</td>\n",
       "      <td>22.602072</td>\n",
       "      <td>107.209381</td>\n",
       "      <td>6.187503</td>\n",
       "      <td>29.349451</td>\n",
       "      <td>14.550492</td>\n",
       "      <td>0.554204</td>\n",
       "    </tr>\n",
       "    <tr>\n",
       "      <th>6</th>\n",
       "      <td>5</td>\n",
       "      <td>20.966347</td>\n",
       "      <td>99.450584</td>\n",
       "      <td>5.545861</td>\n",
       "      <td>26.305922</td>\n",
       "      <td>13.917825</td>\n",
       "      <td>0.616394</td>\n",
       "    </tr>\n",
       "    <tr>\n",
       "      <th>7</th>\n",
       "      <td>6</td>\n",
       "      <td>22.388390</td>\n",
       "      <td>106.195816</td>\n",
       "      <td>4.751490</td>\n",
       "      <td>22.537947</td>\n",
       "      <td>14.012467</td>\n",
       "      <td>0.562594</td>\n",
       "    </tr>\n",
       "    <tr>\n",
       "      <th>8</th>\n",
       "      <td>7</td>\n",
       "      <td>23.449110</td>\n",
       "      <td>111.227180</td>\n",
       "      <td>5.368987</td>\n",
       "      <td>25.466948</td>\n",
       "      <td>14.340387</td>\n",
       "      <td>0.520165</td>\n",
       "    </tr>\n",
       "    <tr>\n",
       "      <th>9</th>\n",
       "      <td>8</td>\n",
       "      <td>23.174374</td>\n",
       "      <td>109.924004</td>\n",
       "      <td>6.093626</td>\n",
       "      <td>28.904163</td>\n",
       "      <td>13.975305</td>\n",
       "      <td>0.531343</td>\n",
       "    </tr>\n",
       "    <tr>\n",
       "      <th>10</th>\n",
       "      <td>9</td>\n",
       "      <td>23.087751</td>\n",
       "      <td>109.513130</td>\n",
       "      <td>5.379616</td>\n",
       "      <td>25.517363</td>\n",
       "      <td>14.039550</td>\n",
       "      <td>0.534840</td>\n",
       "    </tr>\n",
       "  </tbody>\n",
       "</table>\n",
       "</div>"
      ],
      "text/plain": [
       "   model_identifier      _rmse      _rrmse     _bias  _bias_pct        mae  \\\n",
       "0          ensemble  21.511379  102.035858  5.282456  25.056505  13.582648   \n",
       "1                 0  22.116110  104.904305  5.093486  24.160154  13.556016   \n",
       "2                 1  21.042124   99.810013  4.334646  20.560715  13.451874   \n",
       "3                 2  23.692905  112.383583  5.731114  27.184645  14.936193   \n",
       "4                 3  21.040655   99.803047  4.338238  20.577751  13.450111   \n",
       "5                 4  22.602072  107.209381  6.187503  29.349451  14.550492   \n",
       "6                 5  20.966347   99.450584  5.545861  26.305922  13.917825   \n",
       "7                 6  22.388390  106.195816  4.751490  22.537947  14.012467   \n",
       "8                 7  23.449110  111.227180  5.368987  25.466948  14.340387   \n",
       "9                 8  23.174374  109.924004  6.093626  28.904163  13.975305   \n",
       "10                9  23.087751  109.513130  5.379616  25.517363  14.039550   \n",
       "\n",
       "    r2_score  \n",
       "0   0.596191  \n",
       "1   0.573168  \n",
       "2   0.613616  \n",
       "3   0.510135  \n",
       "4   0.613670  \n",
       "5   0.554204  \n",
       "6   0.616394  \n",
       "7   0.562594  \n",
       "8   0.520165  \n",
       "9   0.531343  \n",
       "10  0.534840  "
      ]
     },
     "execution_count": 64,
     "metadata": {},
     "output_type": "execute_result"
    }
   ],
   "source": [
    "test_res = ensemble.validate(dl=test_dls[0])\n",
    "test_res"
   ]
  },
  {
   "cell_type": "code",
   "execution_count": 65,
   "metadata": {
    "ExecuteTime": {
     "end_time": "2020-12-09T08:34:04.900082Z",
     "start_time": "2020-12-09T08:34:04.326737Z"
    }
   },
   "outputs": [
    {
     "data": {
      "text/html": [],
      "text/plain": [
       "<IPython.core.display.HTML object>"
      ]
     },
     "metadata": {},
     "output_type": "display_data"
    },
    {
     "data": {
      "text/html": [],
      "text/plain": [
       "<IPython.core.display.HTML object>"
      ]
     },
     "metadata": {},
     "output_type": "display_data"
    },
    {
     "data": {
      "text/html": [],
      "text/plain": [
       "<IPython.core.display.HTML object>"
      ]
     },
     "metadata": {},
     "output_type": "display_data"
    },
    {
     "data": {
      "text/html": [],
      "text/plain": [
       "<IPython.core.display.HTML object>"
      ]
     },
     "metadata": {},
     "output_type": "display_data"
    },
    {
     "data": {
      "text/html": [],
      "text/plain": [
       "<IPython.core.display.HTML object>"
      ]
     },
     "metadata": {},
     "output_type": "display_data"
    },
    {
     "data": {
      "text/html": [],
      "text/plain": [
       "<IPython.core.display.HTML object>"
      ]
     },
     "metadata": {},
     "output_type": "display_data"
    },
    {
     "data": {
      "text/html": [],
      "text/plain": [
       "<IPython.core.display.HTML object>"
      ]
     },
     "metadata": {},
     "output_type": "display_data"
    },
    {
     "data": {
      "text/html": [],
      "text/plain": [
       "<IPython.core.display.HTML object>"
      ]
     },
     "metadata": {},
     "output_type": "display_data"
    },
    {
     "data": {
      "text/html": [],
      "text/plain": [
       "<IPython.core.display.HTML object>"
      ]
     },
     "metadata": {},
     "output_type": "display_data"
    },
    {
     "data": {
      "text/html": [],
      "text/plain": [
       "<IPython.core.display.HTML object>"
      ]
     },
     "metadata": {},
     "output_type": "display_data"
    }
   ],
   "source": [
    "test_ens_interp = RegressionInterpretation.from_ensemble(ensemble, dl=test_dls[0])"
   ]
  },
  {
   "cell_type": "code",
   "execution_count": 66,
   "metadata": {
    "ExecuteTime": {
     "end_time": "2020-12-09T08:34:05.210711Z",
     "start_time": "2020-12-09T08:34:04.902837Z"
    }
   },
   "outputs": [
    {
     "data": {
      "image/png": "[encoded data removed]",
      "text/plain": [
       "<Figure size 504x432 with 2 Axes>"
      ]
     },
     "metadata": {
      "needs_background": "light"
     },
     "output_type": "display_data"
    }
   ],
   "source": [
    "test_ens_interp.plot_results(log_y=False)\n",
    "plt.show()"
   ]
  },
  {
   "cell_type": "code",
   "execution_count": 67,
   "metadata": {
    "ExecuteTime": {
     "end_time": "2020-12-09T08:34:05.717261Z",
     "start_time": "2020-12-09T08:34:05.212839Z"
    }
   },
   "outputs": [],
   "source": [
    "ensemble.export()"
   ]
  },
  {
   "cell_type": "code",
   "execution_count": 68,
   "metadata": {
    "ExecuteTime": {
     "end_time": "2020-12-09T08:34:05.986375Z",
     "start_time": "2020-12-09T08:34:05.719226Z"
    }
   },
   "outputs": [],
   "source": [
    "loaded_ens = load_ensemble('ensemble')"
   ]
  },
  {
   "cell_type": "code",
   "execution_count": 69,
   "metadata": {
    "ExecuteTime": {
     "end_time": "2020-12-09T08:34:06.944156Z",
     "start_time": "2020-12-09T08:34:05.987649Z"
    }
   },
   "outputs": [
    {
     "data": {
      "text/html": [],
      "text/plain": [
       "<IPython.core.display.HTML object>"
      ]
     },
     "metadata": {},
     "output_type": "display_data"
    },
    {
     "data": {
      "text/html": [],
      "text/plain": [
       "<IPython.core.display.HTML object>"
      ]
     },
     "metadata": {},
     "output_type": "display_data"
    },
    {
     "data": {
      "text/html": [],
      "text/plain": [
       "<IPython.core.display.HTML object>"
      ]
     },
     "metadata": {},
     "output_type": "display_data"
    },
    {
     "data": {
      "text/html": [],
      "text/plain": [
       "<IPython.core.display.HTML object>"
      ]
     },
     "metadata": {},
     "output_type": "display_data"
    },
    {
     "data": {
      "text/html": [],
      "text/plain": [
       "<IPython.core.display.HTML object>"
      ]
     },
     "metadata": {},
     "output_type": "display_data"
    },
    {
     "data": {
      "text/html": [],
      "text/plain": [
       "<IPython.core.display.HTML object>"
      ]
     },
     "metadata": {},
     "output_type": "display_data"
    },
    {
     "data": {
      "text/html": [],
      "text/plain": [
       "<IPython.core.display.HTML object>"
      ]
     },
     "metadata": {},
     "output_type": "display_data"
    },
    {
     "data": {
      "text/html": [],
      "text/plain": [
       "<IPython.core.display.HTML object>"
      ]
     },
     "metadata": {},
     "output_type": "display_data"
    },
    {
     "data": {
      "text/html": [],
      "text/plain": [
       "<IPython.core.display.HTML object>"
      ]
     },
     "metadata": {},
     "output_type": "display_data"
    },
    {
     "data": {
      "text/html": [],
      "text/plain": [
       "<IPython.core.display.HTML object>"
      ]
     },
     "metadata": {},
     "output_type": "display_data"
    },
    {
     "data": {
      "text/html": [],
      "text/plain": [
       "<IPython.core.display.HTML object>"
      ]
     },
     "metadata": {},
     "output_type": "display_data"
    },
    {
     "data": {
      "text/html": [
       "<div>\n",
       "<style scoped>\n",
       "    .dataframe tbody tr th:only-of-type {\n",
       "        vertical-align: middle;\n",
       "    }\n",
       "\n",
       "    .dataframe tbody tr th {\n",
       "        vertical-align: top;\n",
       "    }\n",
       "\n",
       "    .dataframe thead th {\n",
       "        text-align: right;\n",
       "    }\n",
       "</style>\n",
       "<table border=\"1\" class=\"dataframe\">\n",
       "  <thead>\n",
       "    <tr style=\"text-align: right;\">\n",
       "      <th></th>\n",
       "      <th>model_identifier</th>\n",
       "      <th>_rmse</th>\n",
       "      <th>_rrmse</th>\n",
       "      <th>_bias</th>\n",
       "      <th>_bias_pct</th>\n",
       "      <th>mae</th>\n",
       "      <th>r2_score</th>\n",
       "    </tr>\n",
       "  </thead>\n",
       "  <tbody>\n",
       "    <tr>\n",
       "      <th>0</th>\n",
       "      <td>ensemble</td>\n",
       "      <td>36.400539</td>\n",
       "      <td>167.381714</td>\n",
       "      <td>3.807269</td>\n",
       "      <td>17.507082</td>\n",
       "      <td>16.264874</td>\n",
       "      <td>0.209870</td>\n",
       "    </tr>\n",
       "    <tr>\n",
       "      <th>1</th>\n",
       "      <td>0</td>\n",
       "      <td>43.397614</td>\n",
       "      <td>199.556580</td>\n",
       "      <td>4.239144</td>\n",
       "      <td>19.492985</td>\n",
       "      <td>17.002308</td>\n",
       "      <td>-0.123091</td>\n",
       "    </tr>\n",
       "    <tr>\n",
       "      <th>2</th>\n",
       "      <td>1</td>\n",
       "      <td>32.909866</td>\n",
       "      <td>151.330444</td>\n",
       "      <td>2.537759</td>\n",
       "      <td>11.669456</td>\n",
       "      <td>14.900395</td>\n",
       "      <td>0.354144</td>\n",
       "    </tr>\n",
       "    <tr>\n",
       "      <th>3</th>\n",
       "      <td>2</td>\n",
       "      <td>41.577736</td>\n",
       "      <td>191.188187</td>\n",
       "      <td>4.603288</td>\n",
       "      <td>21.167439</td>\n",
       "      <td>17.818193</td>\n",
       "      <td>-0.030872</td>\n",
       "    </tr>\n",
       "    <tr>\n",
       "      <th>4</th>\n",
       "      <td>3</td>\n",
       "      <td>44.093945</td>\n",
       "      <td>202.758530</td>\n",
       "      <td>3.300354</td>\n",
       "      <td>15.176118</td>\n",
       "      <td>17.475693</td>\n",
       "      <td>-0.159420</td>\n",
       "    </tr>\n",
       "    <tr>\n",
       "      <th>5</th>\n",
       "      <td>4</td>\n",
       "      <td>44.815384</td>\n",
       "      <td>206.075958</td>\n",
       "      <td>5.065742</td>\n",
       "      <td>23.293959</td>\n",
       "      <td>17.783630</td>\n",
       "      <td>-0.197670</td>\n",
       "    </tr>\n",
       "    <tr>\n",
       "      <th>6</th>\n",
       "      <td>5</td>\n",
       "      <td>31.433651</td>\n",
       "      <td>144.542328</td>\n",
       "      <td>3.463423</td>\n",
       "      <td>15.925964</td>\n",
       "      <td>15.262568</td>\n",
       "      <td>0.410786</td>\n",
       "    </tr>\n",
       "    <tr>\n",
       "      <th>7</th>\n",
       "      <td>6</td>\n",
       "      <td>42.371403</td>\n",
       "      <td>194.837708</td>\n",
       "      <td>3.877888</td>\n",
       "      <td>17.831814</td>\n",
       "      <td>16.645582</td>\n",
       "      <td>-0.070604</td>\n",
       "    </tr>\n",
       "    <tr>\n",
       "      <th>8</th>\n",
       "      <td>7</td>\n",
       "      <td>30.883184</td>\n",
       "      <td>142.011093</td>\n",
       "      <td>2.932417</td>\n",
       "      <td>13.484224</td>\n",
       "      <td>15.089142</td>\n",
       "      <td>0.431242</td>\n",
       "    </tr>\n",
       "    <tr>\n",
       "      <th>9</th>\n",
       "      <td>8</td>\n",
       "      <td>44.623043</td>\n",
       "      <td>205.191513</td>\n",
       "      <td>5.399505</td>\n",
       "      <td>24.828709</td>\n",
       "      <td>17.797958</td>\n",
       "      <td>-0.187412</td>\n",
       "    </tr>\n",
       "    <tr>\n",
       "      <th>10</th>\n",
       "      <td>9</td>\n",
       "      <td>32.916595</td>\n",
       "      <td>151.361389</td>\n",
       "      <td>2.653169</td>\n",
       "      <td>12.200148</td>\n",
       "      <td>15.229450</td>\n",
       "      <td>0.353880</td>\n",
       "    </tr>\n",
       "  </tbody>\n",
       "</table>\n",
       "</div>"
      ],
      "text/plain": [
       "   model_identifier      _rmse      _rrmse     _bias  _bias_pct        mae  \\\n",
       "0          ensemble  36.400539  167.381714  3.807269  17.507082  16.264874   \n",
       "1                 0  43.397614  199.556580  4.239144  19.492985  17.002308   \n",
       "2                 1  32.909866  151.330444  2.537759  11.669456  14.900395   \n",
       "3                 2  41.577736  191.188187  4.603288  21.167439  17.818193   \n",
       "4                 3  44.093945  202.758530  3.300354  15.176118  17.475693   \n",
       "5                 4  44.815384  206.075958  5.065742  23.293959  17.783630   \n",
       "6                 5  31.433651  144.542328  3.463423  15.925964  15.262568   \n",
       "7                 6  42.371403  194.837708  3.877888  17.831814  16.645582   \n",
       "8                 7  30.883184  142.011093  2.932417  13.484224  15.089142   \n",
       "9                 8  44.623043  205.191513  5.399505  24.828709  17.797958   \n",
       "10                9  32.916595  151.361389  2.653169  12.200148  15.229450   \n",
       "\n",
       "    r2_score  \n",
       "0   0.209870  \n",
       "1  -0.123091  \n",
       "2   0.354144  \n",
       "3  -0.030872  \n",
       "4  -0.159420  \n",
       "5  -0.197670  \n",
       "6   0.410786  \n",
       "7  -0.070604  \n",
       "8   0.431242  \n",
       "9  -0.187412  \n",
       "10  0.353880  "
      ]
     },
     "execution_count": 69,
     "metadata": {},
     "output_type": "execute_result"
    }
   ],
   "source": [
    "loaded_ens.validate(dls[1])"
   ]
  },
  {
   "cell_type": "markdown",
   "metadata": {},
   "source": [
    "# Comparison: Random forest"
   ]
  },
  {
   "cell_type": "markdown",
   "metadata": {},
   "source": [
    "`TabularPandas` makes it simple to use sklearn models with the same data and preprocessing."
   ]
  },
  {
   "cell_type": "code",
   "execution_count": 70,
   "metadata": {
    "ExecuteTime": {
     "end_time": "2020-12-09T08:34:13.612953Z",
     "start_time": "2020-12-09T08:34:13.356198Z"
    }
   },
   "outputs": [],
   "source": [
    "from sklearn.ensemble import RandomForestRegressor"
   ]
  },
  {
   "cell_type": "markdown",
   "metadata": {},
   "source": [
    "Below values for max_features and min_samples_leaf should generally work well."
   ]
  },
  {
   "cell_type": "code",
   "execution_count": 71,
   "metadata": {
    "ExecuteTime": {
     "end_time": "2020-12-09T08:34:13.767910Z",
     "start_time": "2020-12-09T08:34:13.765353Z"
    }
   },
   "outputs": [],
   "source": [
    "rf = RandomForestRegressor(n_estimators=500, max_features=0.5, min_samples_leaf=4, oob_score=True)"
   ]
  },
  {
   "cell_type": "code",
   "execution_count": 72,
   "metadata": {
    "ExecuteTime": {
     "end_time": "2020-12-09T08:34:23.592780Z",
     "start_time": "2020-12-09T08:34:13.992566Z"
    }
   },
   "outputs": [
    {
     "data": {
      "text/plain": [
       "RandomForestRegressor(max_features=0.5, min_samples_leaf=4, n_estimators=500,\n",
       "                      oob_score=True)"
      ]
     },
     "execution_count": 72,
     "metadata": {},
     "output_type": "execute_result"
    }
   ],
   "source": [
    "rf.fit(trainval_tb.train.xs, trainval_tb.train.ys.values.ravel())"
   ]
  },
  {
   "cell_type": "code",
   "execution_count": 73,
   "metadata": {
    "ExecuteTime": {
     "end_time": "2020-12-09T08:34:23.741060Z",
     "start_time": "2020-12-09T08:34:23.594677Z"
    }
   },
   "outputs": [],
   "source": [
    "rf_preds = rf.predict(trainval_tb.valid.xs)"
   ]
  },
  {
   "cell_type": "markdown",
   "metadata": {},
   "source": [
    "Validation results"
   ]
  },
  {
   "cell_type": "code",
   "execution_count": 74,
   "metadata": {
    "ExecuteTime": {
     "end_time": "2020-12-09T08:34:24.083057Z",
     "start_time": "2020-12-09T08:34:23.742977Z"
    }
   },
   "outputs": [
    {
     "data": {
      "image/png": "[encoded data removed]",
      "text/plain": [
       "<Figure size 504x432 with 2 Axes>"
      ]
     },
     "metadata": {
      "needs_background": "light"
     },
     "output_type": "display_data"
    }
   ],
   "source": [
    "plot_sklearn_regression(rf, trainval_tb.valid.xs, trainval_tb.valid.ys, log_y=False)\n",
    "plt.show()"
   ]
  },
  {
   "cell_type": "markdown",
   "metadata": {},
   "source": [
    "Test results"
   ]
  },
  {
   "cell_type": "code",
   "execution_count": 75,
   "metadata": {
    "ExecuteTime": {
     "end_time": "2020-12-09T08:34:24.501363Z",
     "start_time": "2020-12-09T08:34:24.087004Z"
    }
   },
   "outputs": [
    {
     "data": {
      "image/png": "[encoded data removed]",
      "text/plain": [
       "<Figure size 504x432 with 2 Axes>"
      ]
     },
     "metadata": {
      "needs_background": "light"
     },
     "output_type": "display_data"
    }
   ],
   "source": [
    "rf_test_preds = rf.predict(test_tb.train.xs)\n",
    "plot_sklearn_regression(rf, test_tb.train.xs, test_tb.train.ys)\n",
    "plt.show()"
   ]
  },
  {
   "cell_type": "code",
   "execution_count": null,
   "metadata": {},
   "outputs": [],
   "source": []
  }
 ],
 "metadata": {
  "_draft": {
   "nbviewer_url": "https://gist.github.com/dc7eb4d2965a6babe6ed2610b300f7b4"
  },
  "gist": {
   "data": {
    "description": "LiDAR predictions.ipynb",
    "public": true
   },
   "id": "dc7eb4d2965a6babe6ed2610b300f7b4"
  },
  "kernelspec": {
   "display_name": "Python 3",
   "language": "python",
   "name": "python3"
  },
  "language_info": {
   "codemirror_mode": {
    "name": "ipython",
    "version": 3
   },
   "file_extension": ".py",
   "mimetype": "text/x-python",
   "name": "python",
   "nbconvert_exporter": "python",
   "pygments_lexer": "ipython3",
   "version": "3.8.3"
  },
  "latex_envs": {
   "LaTeX_envs_menu_present": true,
   "autoclose": false,
   "autocomplete": true,
   "bibliofile": "biblio.bib",
   "cite_by": "apalike",
   "current_citInitial": 1,
   "eqLabelWithNumbers": true,
   "eqNumInitial": 1,
   "hotkeys": {
    "equation": "Ctrl-E",
    "itemize": "Ctrl-I"
   },
   "labels_anchors": false,
   "latex_user_defs": false,
   "report_style_numbering": false,
   "user_envs_cfg": false
  },
  "toc": {
   "base_numbering": 1,
   "nav_menu": {},
   "number_sections": true,
   "sideBar": true,
   "skip_h1_title": false,
   "title_cell": "Table of Contents",
   "title_sidebar": "Contents",
   "toc_cell": false,
   "toc_position": {
    "height": "calc(100% - 180px)",
    "left": "10px",
    "top": "150px",
    "width": "298px"
   },
   "toc_section_display": true,
   "toc_window_display": true
  }
 },
 "nbformat": 4,
 "nbformat_minor": 4
}
