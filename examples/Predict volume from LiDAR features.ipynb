{
 "cells": [
  {
   "cell_type": "markdown",
   "metadata": {},
   "source": [
    "# Predict volume from LiDAR features"
   ]
  },
  {
   "cell_type": "code",
   "execution_count": 1,
   "metadata": {
    "ExecuteTime": {
     "end_time": "2020-11-17T11:43:25.392123Z",
     "start_time": "2020-11-17T11:43:23.563408Z"
    }
   },
   "outputs": [],
   "source": [
    "from fastai.data.all import *\n",
    "from fastai.tabular.all import *\n",
    "from fastai.callback.progress import ShowGraphCallback"
   ]
  },
  {
   "cell_type": "code",
   "execution_count": 2,
   "metadata": {
    "ExecuteTime": {
     "end_time": "2020-11-17T11:43:25.647635Z",
     "start_time": "2020-11-17T11:43:25.393645Z"
    }
   },
   "outputs": [
    {
     "name": "stderr",
     "output_type": "stream",
     "text": [
      "/home/mayrajeo/miniconda3/envs/enveco/lib/python3.8/site-packages/tqdm/std.py:697: FutureWarning: The Panel class is removed from pandas. Accessing it from the top-level namespace will also be removed in the next version\n",
      "  from pandas import Panel\n"
     ]
    }
   ],
   "source": [
    "absolute_path = Path().absolute()\n",
    "sys.path.append(str(absolute_path.parents[0]))\n",
    "\n",
    "from enveco.tabular.preprocessing import *\n",
    "from enveco.interpretation import *\n",
    "from enveco.model.ensemble import *\n",
    "from enveco.metrics import *"
   ]
  },
  {
   "cell_type": "markdown",
   "metadata": {},
   "source": [
    "Run the example workflow for predicting the volume of the field plot from LiDAR-derived features."
   ]
  },
  {
   "cell_type": "markdown",
   "metadata": {},
   "source": [
    "# Read and preprocess data"
   ]
  },
  {
   "cell_type": "code",
   "execution_count": 3,
   "metadata": {
    "ExecuteTime": {
     "end_time": "2020-11-17T11:43:25.670689Z",
     "start_time": "2020-11-17T11:43:25.649402Z"
    }
   },
   "outputs": [],
   "source": [
    "#data_path = Path('../../../andras/ml/AV_leafon/')\n",
    "data_path = Path('../../enveco_data/enveco/')\n",
    "\n",
    "preprocessor = EnvecoPreprocessor(data_path/'AV.leaf.on.train.csv', \n",
    "                                  data_path/'AV.leaf.on.val.csv',\n",
    "                                  data_path/'AV.leaf.on.test.csv')"
   ]
  },
  {
   "cell_type": "markdown",
   "metadata": {},
   "source": [
    "Preprocess dataframes and extract lidar features from them. Specify which features are needed:\n",
    "\n",
    "* height_features\n",
    "* point_features\n",
    "* intensity_features\n",
    "* height_quantiles\n",
    "* point_proportions\n",
    "* canopy_densities\n",
    "\n",
    "Also, specify whether to `normalize` data (default: True) or to log-transform target column (default: False)"
   ]
  },
  {
   "cell_type": "code",
   "execution_count": 4,
   "metadata": {
    "ExecuteTime": {
     "end_time": "2020-11-17T11:43:25.674511Z",
     "start_time": "2020-11-17T11:43:25.672118Z"
    }
   },
   "outputs": [],
   "source": [
    "traindf = preprocessor.train_df.copy()"
   ]
  },
  {
   "cell_type": "code",
   "execution_count": 5,
   "metadata": {
    "ExecuteTime": {
     "end_time": "2020-11-17T11:43:25.751012Z",
     "start_time": "2020-11-17T11:43:25.732786Z"
    }
   },
   "outputs": [
    {
     "data": {
      "text/html": [
       "<div>\n",
       "<style scoped>\n",
       "    .dataframe tbody tr th:only-of-type {\n",
       "        vertical-align: middle;\n",
       "    }\n",
       "\n",
       "    .dataframe tbody tr th {\n",
       "        vertical-align: top;\n",
       "    }\n",
       "\n",
       "    .dataframe thead th {\n",
       "        text-align: right;\n",
       "    }\n",
       "</style>\n",
       "<table border=\"1\" class=\"dataframe\">\n",
       "  <thead>\n",
       "    <tr style=\"text-align: right;\">\n",
       "      <th></th>\n",
       "      <th>sampleplotid</th>\n",
       "      <th>x</th>\n",
       "      <th>y</th>\n",
       "      <th>measurementdate</th>\n",
       "      <th>g</th>\n",
       "      <th>d</th>\n",
       "      <th>h</th>\n",
       "      <th>v</th>\n",
       "      <th>v_ma</th>\n",
       "      <th>v_ku</th>\n",
       "      <th>v_lp</th>\n",
       "      <th>myear</th>\n",
       "      <th>filename_1</th>\n",
       "      <th>a_date_1</th>\n",
       "      <th>a_window_1</th>\n",
       "      <th>filename_2</th>\n",
       "      <th>a_date_2</th>\n",
       "      <th>a_window_2</th>\n",
       "      <th>v_lp_proc</th>\n",
       "      <th>is_valid</th>\n",
       "    </tr>\n",
       "  </thead>\n",
       "  <tbody>\n",
       "    <tr>\n",
       "      <th>0</th>\n",
       "      <td>901034</td>\n",
       "      <td>313598.50</td>\n",
       "      <td>6888193.46</td>\n",
       "      <td>2013</td>\n",
       "      <td>30.0</td>\n",
       "      <td>25.9</td>\n",
       "      <td>23.9</td>\n",
       "      <td>336.62</td>\n",
       "      <td>50.11</td>\n",
       "      <td>27.73</td>\n",
       "      <td>258.78</td>\n",
       "      <td>2013</td>\n",
       "      <td>/wrk/project_ogiir-csc/mml/laserkeilaus/2008_17_automaattinen/2013/20130114_BLOM_ahtari_block2_kesa/1/N4121B3.laz</td>\n",
       "      <td>2013-07-11</td>\n",
       "      <td>C</td>\n",
       "      <td>NaN</td>\n",
       "      <td>NaN</td>\n",
       "      <td>NaN</td>\n",
       "      <td>77</td>\n",
       "      <td>0</td>\n",
       "    </tr>\n",
       "    <tr>\n",
       "      <th>1</th>\n",
       "      <td>901038</td>\n",
       "      <td>314591.78</td>\n",
       "      <td>6888461.84</td>\n",
       "      <td>2013</td>\n",
       "      <td>18.6</td>\n",
       "      <td>16.0</td>\n",
       "      <td>15.9</td>\n",
       "      <td>146.00</td>\n",
       "      <td>142.50</td>\n",
       "      <td>0.00</td>\n",
       "      <td>3.50</td>\n",
       "      <td>2013</td>\n",
       "      <td>/wrk/project_ogiir-csc/mml/laserkeilaus/2008_17_automaattinen/2013/20130114_BLOM_ahtari_block2_kesa/1/N4121D1.laz</td>\n",
       "      <td>2013-07-11</td>\n",
       "      <td>C</td>\n",
       "      <td>NaN</td>\n",
       "      <td>NaN</td>\n",
       "      <td>NaN</td>\n",
       "      <td>2</td>\n",
       "      <td>0</td>\n",
       "    </tr>\n",
       "    <tr>\n",
       "      <th>2</th>\n",
       "      <td>901044</td>\n",
       "      <td>317890.37</td>\n",
       "      <td>6888182.49</td>\n",
       "      <td>2013</td>\n",
       "      <td>26.8</td>\n",
       "      <td>18.4</td>\n",
       "      <td>18.4</td>\n",
       "      <td>240.46</td>\n",
       "      <td>139.89</td>\n",
       "      <td>81.77</td>\n",
       "      <td>18.79</td>\n",
       "      <td>2013</td>\n",
       "      <td>/wrk/project_ogiir-csc/mml/laserkeilaus/2008_17_automaattinen/2013/20130114_BLOM_ahtari_block2_kesa/1/N4121D3.laz</td>\n",
       "      <td>2013-07-11</td>\n",
       "      <td>C</td>\n",
       "      <td>NaN</td>\n",
       "      <td>NaN</td>\n",
       "      <td>NaN</td>\n",
       "      <td>8</td>\n",
       "      <td>0</td>\n",
       "    </tr>\n",
       "    <tr>\n",
       "      <th>3</th>\n",
       "      <td>901048</td>\n",
       "      <td>318879.42</td>\n",
       "      <td>6888447.55</td>\n",
       "      <td>2013</td>\n",
       "      <td>34.3</td>\n",
       "      <td>20.2</td>\n",
       "      <td>19.3</td>\n",
       "      <td>321.29</td>\n",
       "      <td>72.10</td>\n",
       "      <td>172.35</td>\n",
       "      <td>76.84</td>\n",
       "      <td>2013</td>\n",
       "      <td>/wrk/project_ogiir-csc/mml/laserkeilaus/2008_17_automaattinen/2013/20130114_BLOM_ahtari_block2_kesa/1/N4121D3.laz</td>\n",
       "      <td>2013-07-11</td>\n",
       "      <td>C</td>\n",
       "      <td>NaN</td>\n",
       "      <td>NaN</td>\n",
       "      <td>NaN</td>\n",
       "      <td>24</td>\n",
       "      <td>0</td>\n",
       "    </tr>\n",
       "    <tr>\n",
       "      <th>4</th>\n",
       "      <td>901054</td>\n",
       "      <td>322193.41</td>\n",
       "      <td>6888196.04</td>\n",
       "      <td>2013</td>\n",
       "      <td>13.8</td>\n",
       "      <td>10.0</td>\n",
       "      <td>9.1</td>\n",
       "      <td>67.10</td>\n",
       "      <td>57.40</td>\n",
       "      <td>9.70</td>\n",
       "      <td>0.00</td>\n",
       "      <td>2013</td>\n",
       "      <td>/wrk/project_ogiir-csc/mml/laserkeilaus/2008_17_automaattinen/2013/20130114_BLOM_ahtari_block2_kesa/1/N4121F1.laz</td>\n",
       "      <td>2013-07-11</td>\n",
       "      <td>C</td>\n",
       "      <td>NaN</td>\n",
       "      <td>NaN</td>\n",
       "      <td>NaN</td>\n",
       "      <td>0</td>\n",
       "      <td>0</td>\n",
       "    </tr>\n",
       "  </tbody>\n",
       "</table>\n",
       "</div>"
      ],
      "text/plain": [
       "   sampleplotid          x           y  measurementdate     g     d     h  \\\n",
       "0        901034  313598.50  6888193.46             2013  30.0  25.9  23.9   \n",
       "1        901038  314591.78  6888461.84             2013  18.6  16.0  15.9   \n",
       "2        901044  317890.37  6888182.49             2013  26.8  18.4  18.4   \n",
       "3        901048  318879.42  6888447.55             2013  34.3  20.2  19.3   \n",
       "4        901054  322193.41  6888196.04             2013  13.8  10.0   9.1   \n",
       "\n",
       "        v    v_ma    v_ku    v_lp  myear  \\\n",
       "0  336.62   50.11   27.73  258.78   2013   \n",
       "1  146.00  142.50    0.00    3.50   2013   \n",
       "2  240.46  139.89   81.77   18.79   2013   \n",
       "3  321.29   72.10  172.35   76.84   2013   \n",
       "4   67.10   57.40    9.70    0.00   2013   \n",
       "\n",
       "                                                                                                          filename_1  \\\n",
       "0  /wrk/project_ogiir-csc/mml/laserkeilaus/2008_17_automaattinen/2013/20130114_BLOM_ahtari_block2_kesa/1/N4121B3.laz   \n",
       "1  /wrk/project_ogiir-csc/mml/laserkeilaus/2008_17_automaattinen/2013/20130114_BLOM_ahtari_block2_kesa/1/N4121D1.laz   \n",
       "2  /wrk/project_ogiir-csc/mml/laserkeilaus/2008_17_automaattinen/2013/20130114_BLOM_ahtari_block2_kesa/1/N4121D3.laz   \n",
       "3  /wrk/project_ogiir-csc/mml/laserkeilaus/2008_17_automaattinen/2013/20130114_BLOM_ahtari_block2_kesa/1/N4121D3.laz   \n",
       "4  /wrk/project_ogiir-csc/mml/laserkeilaus/2008_17_automaattinen/2013/20130114_BLOM_ahtari_block2_kesa/1/N4121F1.laz   \n",
       "\n",
       "     a_date_1 a_window_1  filename_2  a_date_2  a_window_2  v_lp_proc  \\\n",
       "0  2013-07-11          C         NaN       NaN         NaN         77   \n",
       "1  2013-07-11          C         NaN       NaN         NaN          2   \n",
       "2  2013-07-11          C         NaN       NaN         NaN          8   \n",
       "3  2013-07-11          C         NaN       NaN         NaN         24   \n",
       "4  2013-07-11          C         NaN       NaN         NaN          0   \n",
       "\n",
       "   is_valid  \n",
       "0         0  \n",
       "1         0  \n",
       "2         0  \n",
       "3         0  \n",
       "4         0  "
      ]
     },
     "execution_count": 5,
     "metadata": {},
     "output_type": "execute_result"
    }
   ],
   "source": [
    "preprocessor.train_df.head()"
   ]
  },
  {
   "cell_type": "code",
   "execution_count": 6,
   "metadata": {
    "ExecuteTime": {
     "end_time": "2020-11-17T11:44:28.896985Z",
     "start_time": "2020-11-17T11:43:26.029054Z"
    }
   },
   "outputs": [
    {
     "name": "stderr",
     "output_type": "stream",
     "text": [
      "100%|██████████| 1269/1269 [00:53<00:00, 23.86it/s]\n",
      "100%|██████████| 225/225 [00:09<00:00, 23.61it/s]\n"
     ]
    }
   ],
   "source": [
    "trainval_tb, test_tb = preprocessor.preprocess_lidar(target_col=['v'], path=data_path/'AV_las/', \n",
    "                                                     min_h=1.5,\n",
    "                                                     height_features=True,\n",
    "                                                     point_features=True, \n",
    "                                                     intensity_features=True, \n",
    "                                                     height_quantiles=True,\n",
    "                                                     point_proportions=True, \n",
    "                                                     canopy_densities=True,\n",
    "                                                     normalize=True,\n",
    "                                                     log_y=False)"
   ]
  },
  {
   "cell_type": "markdown",
   "metadata": {},
   "source": [
    "Previous method returns two `TabularPandas` objects. Put them to dataloaders."
   ]
  },
  {
   "cell_type": "code",
   "execution_count": 7,
   "metadata": {
    "ExecuteTime": {
     "end_time": "2020-11-17T11:44:28.914141Z",
     "start_time": "2020-11-17T11:44:28.898766Z"
    }
   },
   "outputs": [],
   "source": [
    "dls = trainval_tb.dataloaders(bs=64, y_block=RegressionBlock())"
   ]
  },
  {
   "cell_type": "markdown",
   "metadata": {},
   "source": [
    "Check the distribution of the target variable `g`, in order to get limits for `sigmoid_range`."
   ]
  },
  {
   "cell_type": "code",
   "execution_count": 8,
   "metadata": {
    "ExecuteTime": {
     "end_time": "2020-11-17T11:44:28.926924Z",
     "start_time": "2020-11-17T11:44:28.916935Z"
    }
   },
   "outputs": [
    {
     "data": {
      "text/plain": [
       "count    1044.000000\n",
       "mean      145.712250\n",
       "std        86.097336\n",
       "min         2.700000\n",
       "25%        80.927498\n",
       "50%       132.125000\n",
       "75%       191.305000\n",
       "max       867.349976\n",
       "Name: v, dtype: float64"
      ]
     },
     "execution_count": 8,
     "metadata": {},
     "output_type": "execute_result"
    }
   ],
   "source": [
    "trainval_tb.train.y.describe()"
   ]
  },
  {
   "cell_type": "code",
   "execution_count": 9,
   "metadata": {
    "ExecuteTime": {
     "end_time": "2020-11-17T11:44:28.940959Z",
     "start_time": "2020-11-17T11:44:28.929734Z"
    }
   },
   "outputs": [
    {
     "data": {
      "text/plain": [
       "count    225.000000\n",
       "mean     150.768631\n",
       "std       95.610825\n",
       "min        2.310000\n",
       "25%       87.419998\n",
       "50%      133.600006\n",
       "75%      191.639999\n",
       "max      539.479980\n",
       "Name: v, dtype: float64"
      ]
     },
     "execution_count": 9,
     "metadata": {},
     "output_type": "execute_result"
    }
   ],
   "source": [
    "trainval_tb.valid.y.describe()"
   ]
  },
  {
   "cell_type": "code",
   "execution_count": 10,
   "metadata": {
    "ExecuteTime": {
     "end_time": "2020-11-17T11:44:28.952725Z",
     "start_time": "2020-11-17T11:44:28.942706Z"
    }
   },
   "outputs": [
    {
     "data": {
      "text/plain": [
       "count    225.000000\n",
       "mean     152.013641\n",
       "std       97.223846\n",
       "min        7.000000\n",
       "25%       87.820000\n",
       "50%      134.979996\n",
       "75%      192.529999\n",
       "max      550.169983\n",
       "Name: v, dtype: float64"
      ]
     },
     "execution_count": 10,
     "metadata": {},
     "output_type": "execute_result"
    }
   ],
   "source": [
    "test_tb.train.y.describe()"
   ]
  },
  {
   "cell_type": "markdown",
   "metadata": {},
   "source": [
    "# ANN"
   ]
  },
  {
   "cell_type": "markdown",
   "metadata": {},
   "source": [
    "Create `Learner` object. Specify y_range to better control the training, set 1000 m³ as the maximum value for the total volume.\n",
    "\n",
    "Loss function is Mean Squared Error, monitor also Root Mean Squared Error, mean-normalized RMSE, Mean Absolute Error, R2Score, bias and mean-scaled bias. Target variable is log-transformed, so all metrics are log-equivalents (so MSLE, RMSLE...)."
   ]
  },
  {
   "cell_type": "code",
   "execution_count": 11,
   "metadata": {
    "ExecuteTime": {
     "end_time": "2020-11-17T11:44:28.982247Z",
     "start_time": "2020-11-17T11:44:28.954826Z"
    }
   },
   "outputs": [
    {
     "data": {
      "text/html": [
       "<table border=\"1\" class=\"dataframe\">\n",
       "  <thead>\n",
       "    <tr style=\"text-align: left;\">\n",
       "      <th>epoch</th>\n",
       "      <th>train_loss</th>\n",
       "      <th>valid_loss</th>\n",
       "      <th>_rmse</th>\n",
       "      <th>_rrmse</th>\n",
       "      <th>_bias</th>\n",
       "      <th>_bias_pct</th>\n",
       "      <th>mae</th>\n",
       "      <th>r2_score</th>\n",
       "      <th>time</th>\n",
       "    </tr>\n",
       "  </thead>\n",
       "  <tbody>\n",
       "    <tr>\n",
       "      <td>0</td>\n",
       "      <td>None</td>\n",
       "      <td>None</td>\n",
       "      <td>None</td>\n",
       "      <td>None</td>\n",
       "      <td>None</td>\n",
       "      <td>None</td>\n",
       "      <td>None</td>\n",
       "      <td>00:00</td>\n",
       "    </tr>\n",
       "  </tbody>\n",
       "</table>"
      ],
      "text/plain": [
       "<IPython.core.display.HTML object>"
      ]
     },
     "metadata": {},
     "output_type": "display_data"
    },
    {
     "data": {
      "text/plain": [
       "TabularModel (Input shape: ['64 x 0', '64 x 69'])\n",
       "================================================================\n",
       "Layer (type)         Output Shape         Param #    Trainable \n",
       "================================================================\n",
       "BatchNorm1d          64 x 69              138        True      \n",
       "________________________________________________________________\n",
       "BatchNorm1d          64 x 69              138        True      \n",
       "________________________________________________________________\n",
       "Linear               64 x 200             13,800     True      \n",
       "________________________________________________________________\n",
       "ReLU                 64 x 100             0          False     \n",
       "________________________________________________________________\n",
       "BatchNorm1d          64 x 200             400        True      \n",
       "________________________________________________________________\n",
       "Linear               64 x 100             20,000     True      \n",
       "________________________________________________________________\n",
       "ReLU                 64 x 100             0          False     \n",
       "________________________________________________________________\n",
       "Linear               64 x 1               101        True      \n",
       "________________________________________________________________\n",
       "SigmoidRange         64 x 1               0          False     \n",
       "________________________________________________________________\n",
       "\n",
       "Total params: 34,577\n",
       "Total trainable params: 34,577\n",
       "Total non-trainable params: 0\n",
       "\n",
       "Optimizer used: <function Adam at 0x7f5a4e23f670>\n",
       "Loss function: FlattenedLoss of MSELoss()\n",
       "\n",
       "Callbacks:\n",
       "  - TrainEvalCallback\n",
       "  - Recorder\n",
       "  - ProgressCallback"
      ]
     },
     "execution_count": 11,
     "metadata": {},
     "output_type": "execute_result"
    }
   ],
   "source": [
    "learn = tabular_learner(dls, metrics=[rmse, rrmse, bias, bias_pct, mae, R2Score()],  y_range=(0,1000))\n",
    "learn.summary()"
   ]
  },
  {
   "cell_type": "markdown",
   "metadata": {
    "ExecuteTime": {
     "end_time": "2020-11-02T12:15:14.763168Z",
     "start_time": "2020-11-02T12:15:14.758250Z"
    }
   },
   "source": [
    "Find learning rate to use."
   ]
  },
  {
   "cell_type": "code",
   "execution_count": 12,
   "metadata": {
    "ExecuteTime": {
     "end_time": "2020-11-17T11:44:30.686929Z",
     "start_time": "2020-11-17T11:44:28.984119Z"
    }
   },
   "outputs": [
    {
     "data": {
      "text/html": [],
      "text/plain": [
       "<IPython.core.display.HTML object>"
      ]
     },
     "metadata": {},
     "output_type": "display_data"
    },
    {
     "data": {
      "text/plain": [
       "SuggestedLRs(lr_min=0.15848932266235352, lr_steep=0.001737800776027143)"
      ]
     },
     "execution_count": 12,
     "metadata": {},
     "output_type": "execute_result"
    },
    {
     "data": {
      "image/png": "[encoded data removed]",
      "text/plain": [
       "<Figure size 432x288 with 1 Axes>"
      ]
     },
     "metadata": {
      "needs_background": "light"
     },
     "output_type": "display_data"
    }
   ],
   "source": [
    "learn.lr_find()"
   ]
  },
  {
   "cell_type": "markdown",
   "metadata": {},
   "source": [
    "1e-2 seems to be a good learning rate."
   ]
  },
  {
   "cell_type": "code",
   "execution_count": 13,
   "metadata": {
    "ExecuteTime": {
     "end_time": "2020-11-17T11:44:37.794030Z",
     "start_time": "2020-11-17T11:44:30.689197Z"
    },
    "scrolled": false
   },
   "outputs": [
    {
     "data": {
      "text/html": [
       "<table border=\"1\" class=\"dataframe\">\n",
       "  <thead>\n",
       "    <tr style=\"text-align: left;\">\n",
       "      <th>epoch</th>\n",
       "      <th>train_loss</th>\n",
       "      <th>valid_loss</th>\n",
       "      <th>_rmse</th>\n",
       "      <th>_rrmse</th>\n",
       "      <th>_bias</th>\n",
       "      <th>_bias_pct</th>\n",
       "      <th>mae</th>\n",
       "      <th>r2_score</th>\n",
       "      <th>time</th>\n",
       "    </tr>\n",
       "  </thead>\n",
       "  <tbody>\n",
       "    <tr>\n",
       "      <td>0</td>\n",
       "      <td>87634.109375</td>\n",
       "      <td>89019.781250</td>\n",
       "      <td>298.361816</td>\n",
       "      <td>197.893829</td>\n",
       "      <td>282.535950</td>\n",
       "      <td>187.397049</td>\n",
       "      <td>285.293823</td>\n",
       "      <td>-8.781532</td>\n",
       "      <td>00:00</td>\n",
       "    </tr>\n",
       "    <tr>\n",
       "      <td>1</td>\n",
       "      <td>68366.515625</td>\n",
       "      <td>39511.156250</td>\n",
       "      <td>198.774139</td>\n",
       "      <td>131.840515</td>\n",
       "      <td>179.140320</td>\n",
       "      <td>118.818024</td>\n",
       "      <td>185.491135</td>\n",
       "      <td>-3.341503</td>\n",
       "      <td>00:00</td>\n",
       "    </tr>\n",
       "    <tr>\n",
       "      <td>2</td>\n",
       "      <td>45150.542969</td>\n",
       "      <td>6707.695312</td>\n",
       "      <td>81.900520</td>\n",
       "      <td>54.321991</td>\n",
       "      <td>48.423035</td>\n",
       "      <td>32.117447</td>\n",
       "      <td>69.522758</td>\n",
       "      <td>0.262956</td>\n",
       "      <td>00:00</td>\n",
       "    </tr>\n",
       "    <tr>\n",
       "      <td>3</td>\n",
       "      <td>29089.666016</td>\n",
       "      <td>2338.129639</td>\n",
       "      <td>48.354210</td>\n",
       "      <td>32.071796</td>\n",
       "      <td>7.206385</td>\n",
       "      <td>4.779764</td>\n",
       "      <td>33.343441</td>\n",
       "      <td>0.743085</td>\n",
       "      <td>00:00</td>\n",
       "    </tr>\n",
       "    <tr>\n",
       "      <td>4</td>\n",
       "      <td>19746.080078</td>\n",
       "      <td>2082.141602</td>\n",
       "      <td>45.630493</td>\n",
       "      <td>30.265245</td>\n",
       "      <td>5.187772</td>\n",
       "      <td>3.440883</td>\n",
       "      <td>30.875031</td>\n",
       "      <td>0.771213</td>\n",
       "      <td>00:00</td>\n",
       "    </tr>\n",
       "    <tr>\n",
       "      <td>5</td>\n",
       "      <td>13873.023438</td>\n",
       "      <td>1637.148560</td>\n",
       "      <td>40.461693</td>\n",
       "      <td>26.836945</td>\n",
       "      <td>6.174059</td>\n",
       "      <td>4.095055</td>\n",
       "      <td>27.270258</td>\n",
       "      <td>0.820109</td>\n",
       "      <td>00:00</td>\n",
       "    </tr>\n",
       "    <tr>\n",
       "      <td>6</td>\n",
       "      <td>10019.792969</td>\n",
       "      <td>1660.095947</td>\n",
       "      <td>40.744278</td>\n",
       "      <td>27.024374</td>\n",
       "      <td>9.414435</td>\n",
       "      <td>6.244293</td>\n",
       "      <td>27.359295</td>\n",
       "      <td>0.817588</td>\n",
       "      <td>00:00</td>\n",
       "    </tr>\n",
       "    <tr>\n",
       "      <td>7</td>\n",
       "      <td>7434.052246</td>\n",
       "      <td>1718.399414</td>\n",
       "      <td>41.453583</td>\n",
       "      <td>27.494833</td>\n",
       "      <td>9.159378</td>\n",
       "      <td>6.075122</td>\n",
       "      <td>27.482212</td>\n",
       "      <td>0.811182</td>\n",
       "      <td>00:00</td>\n",
       "    </tr>\n",
       "    <tr>\n",
       "      <td>8</td>\n",
       "      <td>5643.129395</td>\n",
       "      <td>1642.273926</td>\n",
       "      <td>40.524979</td>\n",
       "      <td>26.878920</td>\n",
       "      <td>11.082092</td>\n",
       "      <td>7.350397</td>\n",
       "      <td>25.715361</td>\n",
       "      <td>0.819546</td>\n",
       "      <td>00:00</td>\n",
       "    </tr>\n",
       "    <tr>\n",
       "      <td>9</td>\n",
       "      <td>4365.481445</td>\n",
       "      <td>1776.379395</td>\n",
       "      <td>42.147114</td>\n",
       "      <td>27.954828</td>\n",
       "      <td>14.205564</td>\n",
       "      <td>9.422095</td>\n",
       "      <td>28.374578</td>\n",
       "      <td>0.804811</td>\n",
       "      <td>00:00</td>\n",
       "    </tr>\n",
       "    <tr>\n",
       "      <td>10</td>\n",
       "      <td>3435.591309</td>\n",
       "      <td>2124.493164</td>\n",
       "      <td>46.092224</td>\n",
       "      <td>30.571493</td>\n",
       "      <td>14.035714</td>\n",
       "      <td>9.309440</td>\n",
       "      <td>29.369974</td>\n",
       "      <td>0.766560</td>\n",
       "      <td>00:00</td>\n",
       "    </tr>\n",
       "    <tr>\n",
       "      <td>11</td>\n",
       "      <td>2745.635986</td>\n",
       "      <td>1468.128174</td>\n",
       "      <td>38.316162</td>\n",
       "      <td>25.413883</td>\n",
       "      <td>6.829274</td>\n",
       "      <td>4.529639</td>\n",
       "      <td>25.214985</td>\n",
       "      <td>0.838681</td>\n",
       "      <td>00:00</td>\n",
       "    </tr>\n",
       "    <tr>\n",
       "      <td>12</td>\n",
       "      <td>2246.965576</td>\n",
       "      <td>1306.849609</td>\n",
       "      <td>36.150372</td>\n",
       "      <td>23.977383</td>\n",
       "      <td>3.435621</td>\n",
       "      <td>2.278737</td>\n",
       "      <td>24.573400</td>\n",
       "      <td>0.856403</td>\n",
       "      <td>00:00</td>\n",
       "    </tr>\n",
       "    <tr>\n",
       "      <td>13</td>\n",
       "      <td>1869.700073</td>\n",
       "      <td>1371.230469</td>\n",
       "      <td>37.030132</td>\n",
       "      <td>24.560900</td>\n",
       "      <td>5.494955</td>\n",
       "      <td>3.644627</td>\n",
       "      <td>24.469330</td>\n",
       "      <td>0.849329</td>\n",
       "      <td>00:00</td>\n",
       "    </tr>\n",
       "    <tr>\n",
       "      <td>14</td>\n",
       "      <td>1568.227173</td>\n",
       "      <td>1354.328247</td>\n",
       "      <td>36.801197</td>\n",
       "      <td>24.409054</td>\n",
       "      <td>7.164869</td>\n",
       "      <td>4.752228</td>\n",
       "      <td>24.464535</td>\n",
       "      <td>0.851186</td>\n",
       "      <td>00:00</td>\n",
       "    </tr>\n",
       "    <tr>\n",
       "      <td>15</td>\n",
       "      <td>1374.190430</td>\n",
       "      <td>1360.320312</td>\n",
       "      <td>36.882519</td>\n",
       "      <td>24.462992</td>\n",
       "      <td>6.647035</td>\n",
       "      <td>4.408765</td>\n",
       "      <td>24.148630</td>\n",
       "      <td>0.850527</td>\n",
       "      <td>00:00</td>\n",
       "    </tr>\n",
       "    <tr>\n",
       "      <td>16</td>\n",
       "      <td>1223.292358</td>\n",
       "      <td>1397.192383</td>\n",
       "      <td>37.379036</td>\n",
       "      <td>24.792316</td>\n",
       "      <td>8.497046</td>\n",
       "      <td>5.635818</td>\n",
       "      <td>24.639133</td>\n",
       "      <td>0.846476</td>\n",
       "      <td>00:00</td>\n",
       "    </tr>\n",
       "    <tr>\n",
       "      <td>17</td>\n",
       "      <td>1122.980835</td>\n",
       "      <td>1339.900635</td>\n",
       "      <td>36.604652</td>\n",
       "      <td>24.278692</td>\n",
       "      <td>5.277095</td>\n",
       "      <td>3.500128</td>\n",
       "      <td>24.115208</td>\n",
       "      <td>0.852771</td>\n",
       "      <td>00:00</td>\n",
       "    </tr>\n",
       "    <tr>\n",
       "      <td>18</td>\n",
       "      <td>1024.960693</td>\n",
       "      <td>1373.329956</td>\n",
       "      <td>37.058468</td>\n",
       "      <td>24.579693</td>\n",
       "      <td>6.564978</td>\n",
       "      <td>4.354340</td>\n",
       "      <td>24.340113</td>\n",
       "      <td>0.849098</td>\n",
       "      <td>00:00</td>\n",
       "    </tr>\n",
       "    <tr>\n",
       "      <td>19</td>\n",
       "      <td>948.012817</td>\n",
       "      <td>1362.998047</td>\n",
       "      <td>36.918800</td>\n",
       "      <td>24.487057</td>\n",
       "      <td>6.823336</td>\n",
       "      <td>4.525700</td>\n",
       "      <td>24.477533</td>\n",
       "      <td>0.850233</td>\n",
       "      <td>00:00</td>\n",
       "    </tr>\n",
       "  </tbody>\n",
       "</table>"
      ],
      "text/plain": [
       "<IPython.core.display.HTML object>"
      ]
     },
     "metadata": {},
     "output_type": "display_data"
    },
    {
     "data": {
      "image/png": "[encoded data removed]",
      "text/plain": [
       "<Figure size 432x288 with 1 Axes>"
      ]
     },
     "metadata": {},
     "output_type": "display_data"
    }
   ],
   "source": [
    "learn.fit_one_cycle(20, max_lr=1e-2, cbs=ShowGraphCallback())"
   ]
  },
  {
   "cell_type": "code",
   "execution_count": 14,
   "metadata": {
    "ExecuteTime": {
     "end_time": "2020-11-17T11:44:37.849037Z",
     "start_time": "2020-11-17T11:44:37.796095Z"
    }
   },
   "outputs": [
    {
     "data": {
      "text/html": [],
      "text/plain": [
       "<IPython.core.display.HTML object>"
      ]
     },
     "metadata": {},
     "output_type": "display_data"
    }
   ],
   "source": [
    "preds, true = learn.get_preds()"
   ]
  },
  {
   "cell_type": "code",
   "execution_count": 15,
   "metadata": {
    "ExecuteTime": {
     "end_time": "2020-11-17T11:44:37.855935Z",
     "start_time": "2020-11-17T11:44:37.851050Z"
    }
   },
   "outputs": [
    {
     "data": {
      "text/plain": [
       "torch.Size([225, 1])"
      ]
     },
     "execution_count": 15,
     "metadata": {},
     "output_type": "execute_result"
    }
   ],
   "source": [
    "preds.shape"
   ]
  },
  {
   "cell_type": "markdown",
   "metadata": {},
   "source": [
    "See validation results"
   ]
  },
  {
   "cell_type": "code",
   "execution_count": 16,
   "metadata": {
    "ExecuteTime": {
     "end_time": "2020-11-17T11:44:37.904666Z",
     "start_time": "2020-11-17T11:44:37.858145Z"
    }
   },
   "outputs": [
    {
     "data": {
      "text/html": [],
      "text/plain": [
       "<IPython.core.display.HTML object>"
      ]
     },
     "metadata": {},
     "output_type": "display_data"
    },
    {
     "data": {
      "text/plain": [
       "(#7) [1362.998046875,36.918800354003906,24.487056732177734,6.823336124420166,4.525700092315674,24.4775333404541,0.8502331937692138]"
      ]
     },
     "execution_count": 16,
     "metadata": {},
     "output_type": "execute_result"
    }
   ],
   "source": [
    "learn.validate()"
   ]
  },
  {
   "cell_type": "markdown",
   "metadata": {},
   "source": [
    "`RegressionInterpretation` can be used to plot results."
   ]
  },
  {
   "cell_type": "code",
   "execution_count": 17,
   "metadata": {
    "ExecuteTime": {
     "end_time": "2020-11-17T11:44:37.952407Z",
     "start_time": "2020-11-17T11:44:37.906258Z"
    }
   },
   "outputs": [
    {
     "data": {
      "text/html": [],
      "text/plain": [
       "<IPython.core.display.HTML object>"
      ]
     },
     "metadata": {},
     "output_type": "display_data"
    }
   ],
   "source": [
    "reg_interp = RegressionInterpretation.from_learner(learn, ds_idx=1)"
   ]
  },
  {
   "cell_type": "code",
   "execution_count": 18,
   "metadata": {
    "ExecuteTime": {
     "end_time": "2020-11-17T11:44:38.259180Z",
     "start_time": "2020-11-17T11:44:37.954056Z"
    }
   },
   "outputs": [
    {
     "data": {
      "image/png": "[encoded data removed]",
      "text/plain": [
       "<Figure size 504x432 with 2 Axes>"
      ]
     },
     "metadata": {
      "needs_background": "light"
     },
     "output_type": "display_data"
    }
   ],
   "source": [
    "reg_interp.plot_results()\n",
    "plt.show()"
   ]
  },
  {
   "cell_type": "markdown",
   "metadata": {},
   "source": [
    "Evaluate test set."
   ]
  },
  {
   "cell_type": "code",
   "execution_count": 19,
   "metadata": {
    "ExecuteTime": {
     "end_time": "2020-11-17T11:44:38.272212Z",
     "start_time": "2020-11-17T11:44:38.260474Z"
    }
   },
   "outputs": [],
   "source": [
    "test_dls = test_tb.dataloaders(y_block=RegressionBlock(), shuffle_train=False, drop_last=False)"
   ]
  },
  {
   "cell_type": "code",
   "execution_count": 20,
   "metadata": {
    "ExecuteTime": {
     "end_time": "2020-11-17T11:44:38.325698Z",
     "start_time": "2020-11-17T11:44:38.274080Z"
    }
   },
   "outputs": [
    {
     "data": {
      "text/html": [],
      "text/plain": [
       "<IPython.core.display.HTML object>"
      ]
     },
     "metadata": {},
     "output_type": "display_data"
    }
   ],
   "source": [
    "test_interp = RegressionInterpretation.from_learner(learn, dl=test_dls.train, ds_idx=0)"
   ]
  },
  {
   "cell_type": "code",
   "execution_count": 21,
   "metadata": {
    "ExecuteTime": {
     "end_time": "2020-11-17T11:44:38.618341Z",
     "start_time": "2020-11-17T11:44:38.327294Z"
    }
   },
   "outputs": [
    {
     "data": {
      "image/png": "[encoded data removed]",
      "text/plain": [
       "<Figure size 504x432 with 2 Axes>"
      ]
     },
     "metadata": {
      "needs_background": "light"
     },
     "output_type": "display_data"
    }
   ],
   "source": [
    "test_interp.plot_results()\n",
    "plt.show()"
   ]
  },
  {
   "cell_type": "code",
   "execution_count": 25,
   "metadata": {
    "ExecuteTime": {
     "end_time": "2020-11-17T11:44:48.277408Z",
     "start_time": "2020-11-17T11:44:48.228207Z"
    }
   },
   "outputs": [],
   "source": [
    "import random\n",
    "point_clouds = os.listdir(data_path/'AV_las')\n",
    "cloud = random.sample(point_clouds, 1)\n",
    "data = process_one(data_path/'AV_las'/cloud[0])"
   ]
  },
  {
   "cell_type": "code",
   "execution_count": 26,
   "metadata": {
    "ExecuteTime": {
     "end_time": "2020-11-17T11:44:48.486837Z",
     "start_time": "2020-11-17T11:44:48.444031Z"
    }
   },
   "outputs": [
    {
     "data": {
      "text/html": [],
      "text/plain": [
       "<IPython.core.display.HTML object>"
      ]
     },
     "metadata": {},
     "output_type": "display_data"
    },
    {
     "data": {
      "text/plain": [
       "tensor([281.9370])"
      ]
     },
     "execution_count": 26,
     "metadata": {},
     "output_type": "execute_result"
    }
   ],
   "source": [
    "learn.predict(data)[-1]"
   ]
  },
  {
   "cell_type": "markdown",
   "metadata": {},
   "source": [
    "# Ensemble of ANNs"
   ]
  },
  {
   "cell_type": "markdown",
   "metadata": {},
   "source": [
    "Fit several models at once."
   ]
  },
  {
   "cell_type": "code",
   "execution_count": 27,
   "metadata": {
    "ExecuteTime": {
     "end_time": "2020-11-17T11:44:52.215579Z",
     "start_time": "2020-11-17T11:44:52.190167Z"
    }
   },
   "outputs": [],
   "source": [
    "ensemble = Ensemble(dls, learn_func=tabular_learner,\n",
    "                    y_range=(0,trainval_tb.y.max() * 1.1), \n",
    "                    metrics=[rmse, rrmse, bias, bias_pct, mae, R2Score()], \n",
    "                    n_models=10)"
   ]
  },
  {
   "cell_type": "code",
   "execution_count": 28,
   "metadata": {
    "ExecuteTime": {
     "end_time": "2020-11-17T11:45:33.753009Z",
     "start_time": "2020-11-17T11:44:52.425698Z"
    },
    "scrolled": true
   },
   "outputs": [
    {
     "data": {
      "text/html": [
       "<table border=\"1\" class=\"dataframe\">\n",
       "  <thead>\n",
       "    <tr style=\"text-align: left;\">\n",
       "      <th>epoch</th>\n",
       "      <th>train_loss</th>\n",
       "      <th>valid_loss</th>\n",
       "      <th>_rmse</th>\n",
       "      <th>_rrmse</th>\n",
       "      <th>_bias</th>\n",
       "      <th>_bias_pct</th>\n",
       "      <th>mae</th>\n",
       "      <th>r2_score</th>\n",
       "      <th>time</th>\n",
       "    </tr>\n",
       "  </thead>\n",
       "  <tbody>\n",
       "    <tr>\n",
       "      <td>0</td>\n",
       "      <td>89515.812500</td>\n",
       "      <td>86065.976562</td>\n",
       "      <td>293.370026</td>\n",
       "      <td>194.582947</td>\n",
       "      <td>279.098785</td>\n",
       "      <td>185.117279</td>\n",
       "      <td>280.741699</td>\n",
       "      <td>-8.456966</td>\n",
       "      <td>00:00</td>\n",
       "    </tr>\n",
       "    <tr>\n",
       "      <td>1</td>\n",
       "      <td>70186.351562</td>\n",
       "      <td>38897.527344</td>\n",
       "      <td>197.224564</td>\n",
       "      <td>130.812729</td>\n",
       "      <td>180.066544</td>\n",
       "      <td>119.432365</td>\n",
       "      <td>183.127411</td>\n",
       "      <td>-3.274077</td>\n",
       "      <td>00:00</td>\n",
       "    </tr>\n",
       "    <tr>\n",
       "      <td>2</td>\n",
       "      <td>46825.621094</td>\n",
       "      <td>7189.822266</td>\n",
       "      <td>84.792816</td>\n",
       "      <td>56.240356</td>\n",
       "      <td>43.775318</td>\n",
       "      <td>29.034765</td>\n",
       "      <td>69.336693</td>\n",
       "      <td>0.209979</td>\n",
       "      <td>00:00</td>\n",
       "    </tr>\n",
       "    <tr>\n",
       "      <td>3</td>\n",
       "      <td>30425.396484</td>\n",
       "      <td>2369.978271</td>\n",
       "      <td>48.682423</td>\n",
       "      <td>32.289490</td>\n",
       "      <td>1.968868</td>\n",
       "      <td>1.305887</td>\n",
       "      <td>35.664341</td>\n",
       "      <td>0.739586</td>\n",
       "      <td>00:00</td>\n",
       "    </tr>\n",
       "    <tr>\n",
       "      <td>4</td>\n",
       "      <td>20661.802734</td>\n",
       "      <td>1999.054443</td>\n",
       "      <td>44.710785</td>\n",
       "      <td>29.655230</td>\n",
       "      <td>6.648759</td>\n",
       "      <td>4.409909</td>\n",
       "      <td>31.483772</td>\n",
       "      <td>0.780343</td>\n",
       "      <td>00:00</td>\n",
       "    </tr>\n",
       "    <tr>\n",
       "      <td>5</td>\n",
       "      <td>14521.047852</td>\n",
       "      <td>1943.092651</td>\n",
       "      <td>44.080524</td>\n",
       "      <td>29.237198</td>\n",
       "      <td>0.707432</td>\n",
       "      <td>0.469217</td>\n",
       "      <td>30.624546</td>\n",
       "      <td>0.786492</td>\n",
       "      <td>00:00</td>\n",
       "    </tr>\n",
       "    <tr>\n",
       "      <td>6</td>\n",
       "      <td>10545.029297</td>\n",
       "      <td>2099.117188</td>\n",
       "      <td>45.816124</td>\n",
       "      <td>30.388367</td>\n",
       "      <td>-4.636884</td>\n",
       "      <td>-3.075496</td>\n",
       "      <td>31.752916</td>\n",
       "      <td>0.769348</td>\n",
       "      <td>00:00</td>\n",
       "    </tr>\n",
       "    <tr>\n",
       "      <td>7</td>\n",
       "      <td>7788.964844</td>\n",
       "      <td>1380.065430</td>\n",
       "      <td>37.149231</td>\n",
       "      <td>24.639894</td>\n",
       "      <td>2.069446</td>\n",
       "      <td>1.372597</td>\n",
       "      <td>26.014471</td>\n",
       "      <td>0.848358</td>\n",
       "      <td>00:00</td>\n",
       "    </tr>\n",
       "    <tr>\n",
       "      <td>8</td>\n",
       "      <td>5872.595703</td>\n",
       "      <td>1479.594482</td>\n",
       "      <td>38.465496</td>\n",
       "      <td>25.512930</td>\n",
       "      <td>7.694909</td>\n",
       "      <td>5.103786</td>\n",
       "      <td>26.155462</td>\n",
       "      <td>0.837422</td>\n",
       "      <td>00:00</td>\n",
       "    </tr>\n",
       "    <tr>\n",
       "      <td>9</td>\n",
       "      <td>4522.255371</td>\n",
       "      <td>1376.691406</td>\n",
       "      <td>37.103794</td>\n",
       "      <td>24.609758</td>\n",
       "      <td>5.649635</td>\n",
       "      <td>3.747222</td>\n",
       "      <td>25.215775</td>\n",
       "      <td>0.848729</td>\n",
       "      <td>00:00</td>\n",
       "    </tr>\n",
       "    <tr>\n",
       "      <td>10</td>\n",
       "      <td>3573.924072</td>\n",
       "      <td>1420.669556</td>\n",
       "      <td>37.691769</td>\n",
       "      <td>24.999743</td>\n",
       "      <td>5.319344</td>\n",
       "      <td>3.528150</td>\n",
       "      <td>25.383289</td>\n",
       "      <td>0.843896</td>\n",
       "      <td>00:00</td>\n",
       "    </tr>\n",
       "    <tr>\n",
       "      <td>11</td>\n",
       "      <td>2853.804199</td>\n",
       "      <td>1510.925781</td>\n",
       "      <td>38.870628</td>\n",
       "      <td>25.781641</td>\n",
       "      <td>9.876940</td>\n",
       "      <td>6.551057</td>\n",
       "      <td>25.961048</td>\n",
       "      <td>0.833979</td>\n",
       "      <td>00:00</td>\n",
       "    </tr>\n",
       "    <tr>\n",
       "      <td>12</td>\n",
       "      <td>2380.621094</td>\n",
       "      <td>2015.474487</td>\n",
       "      <td>44.894035</td>\n",
       "      <td>29.776775</td>\n",
       "      <td>16.219477</td>\n",
       "      <td>10.757858</td>\n",
       "      <td>29.985106</td>\n",
       "      <td>0.778539</td>\n",
       "      <td>00:00</td>\n",
       "    </tr>\n",
       "    <tr>\n",
       "      <td>13</td>\n",
       "      <td>1985.198242</td>\n",
       "      <td>1344.275879</td>\n",
       "      <td>36.664368</td>\n",
       "      <td>24.318300</td>\n",
       "      <td>3.837612</td>\n",
       "      <td>2.545365</td>\n",
       "      <td>25.554289</td>\n",
       "      <td>0.852290</td>\n",
       "      <td>00:00</td>\n",
       "    </tr>\n",
       "    <tr>\n",
       "      <td>14</td>\n",
       "      <td>1714.111572</td>\n",
       "      <td>1742.781494</td>\n",
       "      <td>41.746635</td>\n",
       "      <td>27.689203</td>\n",
       "      <td>13.895356</td>\n",
       "      <td>9.216345</td>\n",
       "      <td>28.034737</td>\n",
       "      <td>0.808502</td>\n",
       "      <td>00:00</td>\n",
       "    </tr>\n",
       "    <tr>\n",
       "      <td>15</td>\n",
       "      <td>1487.399048</td>\n",
       "      <td>1352.749878</td>\n",
       "      <td>36.779751</td>\n",
       "      <td>24.394829</td>\n",
       "      <td>6.507583</td>\n",
       "      <td>4.316271</td>\n",
       "      <td>24.755522</td>\n",
       "      <td>0.851359</td>\n",
       "      <td>00:00</td>\n",
       "    </tr>\n",
       "    <tr>\n",
       "      <td>16</td>\n",
       "      <td>1307.047607</td>\n",
       "      <td>1315.096558</td>\n",
       "      <td>36.264259</td>\n",
       "      <td>24.052921</td>\n",
       "      <td>6.374996</td>\n",
       "      <td>4.228330</td>\n",
       "      <td>24.289944</td>\n",
       "      <td>0.855497</td>\n",
       "      <td>00:00</td>\n",
       "    </tr>\n",
       "    <tr>\n",
       "      <td>17</td>\n",
       "      <td>1218.168335</td>\n",
       "      <td>1353.854004</td>\n",
       "      <td>36.794754</td>\n",
       "      <td>24.404781</td>\n",
       "      <td>7.656178</td>\n",
       "      <td>5.078097</td>\n",
       "      <td>24.646936</td>\n",
       "      <td>0.851238</td>\n",
       "      <td>00:00</td>\n",
       "    </tr>\n",
       "    <tr>\n",
       "      <td>18</td>\n",
       "      <td>1097.366089</td>\n",
       "      <td>1390.907471</td>\n",
       "      <td>37.294872</td>\n",
       "      <td>24.736494</td>\n",
       "      <td>8.837866</td>\n",
       "      <td>5.861873</td>\n",
       "      <td>25.087278</td>\n",
       "      <td>0.847166</td>\n",
       "      <td>00:00</td>\n",
       "    </tr>\n",
       "    <tr>\n",
       "      <td>19</td>\n",
       "      <td>1034.928955</td>\n",
       "      <td>1416.532959</td>\n",
       "      <td>37.636856</td>\n",
       "      <td>24.963322</td>\n",
       "      <td>9.834141</td>\n",
       "      <td>6.522670</td>\n",
       "      <td>25.306778</td>\n",
       "      <td>0.844351</td>\n",
       "      <td>00:00</td>\n",
       "    </tr>\n",
       "  </tbody>\n",
       "</table>"
      ],
      "text/plain": [
       "<IPython.core.display.HTML object>"
      ]
     },
     "metadata": {},
     "output_type": "display_data"
    },
    {
     "data": {
      "text/html": [
       "<table border=\"1\" class=\"dataframe\">\n",
       "  <thead>\n",
       "    <tr style=\"text-align: left;\">\n",
       "      <th>epoch</th>\n",
       "      <th>train_loss</th>\n",
       "      <th>valid_loss</th>\n",
       "      <th>_rmse</th>\n",
       "      <th>_rrmse</th>\n",
       "      <th>_bias</th>\n",
       "      <th>_bias_pct</th>\n",
       "      <th>mae</th>\n",
       "      <th>r2_score</th>\n",
       "      <th>time</th>\n",
       "    </tr>\n",
       "  </thead>\n",
       "  <tbody>\n",
       "    <tr>\n",
       "      <td>0</td>\n",
       "      <td>94233.617188</td>\n",
       "      <td>94473.437500</td>\n",
       "      <td>307.365326</td>\n",
       "      <td>203.865570</td>\n",
       "      <td>297.055450</td>\n",
       "      <td>197.027359</td>\n",
       "      <td>297.094269</td>\n",
       "      <td>-9.380783</td>\n",
       "      <td>00:00</td>\n",
       "    </tr>\n",
       "    <tr>\n",
       "      <td>1</td>\n",
       "      <td>75241.187500</td>\n",
       "      <td>43778.699219</td>\n",
       "      <td>209.233597</td>\n",
       "      <td>138.777939</td>\n",
       "      <td>194.959412</td>\n",
       "      <td>129.310333</td>\n",
       "      <td>196.450684</td>\n",
       "      <td>-3.810422</td>\n",
       "      <td>00:00</td>\n",
       "    </tr>\n",
       "    <tr>\n",
       "      <td>2</td>\n",
       "      <td>50611.046875</td>\n",
       "      <td>8522.767578</td>\n",
       "      <td>92.318840</td>\n",
       "      <td>61.232124</td>\n",
       "      <td>49.455734</td>\n",
       "      <td>32.802402</td>\n",
       "      <td>76.117416</td>\n",
       "      <td>0.063515</td>\n",
       "      <td>00:00</td>\n",
       "    </tr>\n",
       "    <tr>\n",
       "      <td>3</td>\n",
       "      <td>32992.519531</td>\n",
       "      <td>2914.578857</td>\n",
       "      <td>53.986839</td>\n",
       "      <td>35.807739</td>\n",
       "      <td>16.364017</td>\n",
       "      <td>10.853728</td>\n",
       "      <td>38.704521</td>\n",
       "      <td>0.679745</td>\n",
       "      <td>00:00</td>\n",
       "    </tr>\n",
       "    <tr>\n",
       "      <td>4</td>\n",
       "      <td>22450.238281</td>\n",
       "      <td>1931.349976</td>\n",
       "      <td>43.947128</td>\n",
       "      <td>29.148722</td>\n",
       "      <td>2.804733</td>\n",
       "      <td>1.860289</td>\n",
       "      <td>32.254025</td>\n",
       "      <td>0.787782</td>\n",
       "      <td>00:00</td>\n",
       "    </tr>\n",
       "    <tr>\n",
       "      <td>5</td>\n",
       "      <td>15874.320312</td>\n",
       "      <td>1792.215942</td>\n",
       "      <td>42.334572</td>\n",
       "      <td>28.079165</td>\n",
       "      <td>3.342524</td>\n",
       "      <td>2.216989</td>\n",
       "      <td>30.224783</td>\n",
       "      <td>0.803071</td>\n",
       "      <td>00:00</td>\n",
       "    </tr>\n",
       "    <tr>\n",
       "      <td>6</td>\n",
       "      <td>11501.413086</td>\n",
       "      <td>1560.196533</td>\n",
       "      <td>39.499325</td>\n",
       "      <td>26.198635</td>\n",
       "      <td>2.079373</td>\n",
       "      <td>1.379181</td>\n",
       "      <td>28.167196</td>\n",
       "      <td>0.828565</td>\n",
       "      <td>00:00</td>\n",
       "    </tr>\n",
       "    <tr>\n",
       "      <td>7</td>\n",
       "      <td>8500.837891</td>\n",
       "      <td>1716.086060</td>\n",
       "      <td>41.425671</td>\n",
       "      <td>27.476320</td>\n",
       "      <td>10.756015</td>\n",
       "      <td>7.134120</td>\n",
       "      <td>27.918972</td>\n",
       "      <td>0.811436</td>\n",
       "      <td>00:00</td>\n",
       "    </tr>\n",
       "    <tr>\n",
       "      <td>8</td>\n",
       "      <td>6437.888184</td>\n",
       "      <td>1530.315674</td>\n",
       "      <td>39.119251</td>\n",
       "      <td>25.946545</td>\n",
       "      <td>-0.269195</td>\n",
       "      <td>-0.178548</td>\n",
       "      <td>26.449146</td>\n",
       "      <td>0.831848</td>\n",
       "      <td>00:00</td>\n",
       "    </tr>\n",
       "    <tr>\n",
       "      <td>9</td>\n",
       "      <td>4931.074219</td>\n",
       "      <td>1496.988770</td>\n",
       "      <td>38.690941</td>\n",
       "      <td>25.662460</td>\n",
       "      <td>8.003809</td>\n",
       "      <td>5.308670</td>\n",
       "      <td>26.318804</td>\n",
       "      <td>0.835510</td>\n",
       "      <td>00:00</td>\n",
       "    </tr>\n",
       "    <tr>\n",
       "      <td>10</td>\n",
       "      <td>3830.270264</td>\n",
       "      <td>1395.520264</td>\n",
       "      <td>37.356663</td>\n",
       "      <td>24.777477</td>\n",
       "      <td>5.499786</td>\n",
       "      <td>3.647832</td>\n",
       "      <td>25.716263</td>\n",
       "      <td>0.846660</td>\n",
       "      <td>00:00</td>\n",
       "    </tr>\n",
       "    <tr>\n",
       "      <td>11</td>\n",
       "      <td>3063.596924</td>\n",
       "      <td>1407.320190</td>\n",
       "      <td>37.514267</td>\n",
       "      <td>24.882011</td>\n",
       "      <td>5.854329</td>\n",
       "      <td>3.882989</td>\n",
       "      <td>25.255938</td>\n",
       "      <td>0.845363</td>\n",
       "      <td>00:00</td>\n",
       "    </tr>\n",
       "    <tr>\n",
       "      <td>12</td>\n",
       "      <td>2532.262451</td>\n",
       "      <td>1415.487915</td>\n",
       "      <td>37.622971</td>\n",
       "      <td>24.954111</td>\n",
       "      <td>2.214474</td>\n",
       "      <td>1.468790</td>\n",
       "      <td>25.354883</td>\n",
       "      <td>0.844466</td>\n",
       "      <td>00:00</td>\n",
       "    </tr>\n",
       "    <tr>\n",
       "      <td>13</td>\n",
       "      <td>2115.036133</td>\n",
       "      <td>1367.827759</td>\n",
       "      <td>36.984158</td>\n",
       "      <td>24.530407</td>\n",
       "      <td>5.399497</td>\n",
       "      <td>3.581313</td>\n",
       "      <td>24.605286</td>\n",
       "      <td>0.849702</td>\n",
       "      <td>00:00</td>\n",
       "    </tr>\n",
       "    <tr>\n",
       "      <td>14</td>\n",
       "      <td>1827.701904</td>\n",
       "      <td>1509.877808</td>\n",
       "      <td>38.857147</td>\n",
       "      <td>25.772699</td>\n",
       "      <td>6.387463</td>\n",
       "      <td>4.236599</td>\n",
       "      <td>25.795223</td>\n",
       "      <td>0.834094</td>\n",
       "      <td>00:00</td>\n",
       "    </tr>\n",
       "    <tr>\n",
       "      <td>15</td>\n",
       "      <td>1641.969727</td>\n",
       "      <td>1418.889282</td>\n",
       "      <td>37.668144</td>\n",
       "      <td>24.984072</td>\n",
       "      <td>8.832005</td>\n",
       "      <td>5.857985</td>\n",
       "      <td>25.481276</td>\n",
       "      <td>0.844092</td>\n",
       "      <td>00:00</td>\n",
       "    </tr>\n",
       "    <tr>\n",
       "      <td>16</td>\n",
       "      <td>1472.946289</td>\n",
       "      <td>1399.013184</td>\n",
       "      <td>37.403385</td>\n",
       "      <td>24.808466</td>\n",
       "      <td>3.013222</td>\n",
       "      <td>1.998574</td>\n",
       "      <td>24.874542</td>\n",
       "      <td>0.846276</td>\n",
       "      <td>00:00</td>\n",
       "    </tr>\n",
       "    <tr>\n",
       "      <td>17</td>\n",
       "      <td>1327.536133</td>\n",
       "      <td>1471.396606</td>\n",
       "      <td>38.358788</td>\n",
       "      <td>25.442154</td>\n",
       "      <td>8.410667</td>\n",
       "      <td>5.578526</td>\n",
       "      <td>25.341486</td>\n",
       "      <td>0.838322</td>\n",
       "      <td>00:00</td>\n",
       "    </tr>\n",
       "    <tr>\n",
       "      <td>18</td>\n",
       "      <td>1216.548096</td>\n",
       "      <td>1482.732056</td>\n",
       "      <td>38.506260</td>\n",
       "      <td>25.539967</td>\n",
       "      <td>8.642848</td>\n",
       "      <td>5.732524</td>\n",
       "      <td>25.492744</td>\n",
       "      <td>0.837077</td>\n",
       "      <td>00:00</td>\n",
       "    </tr>\n",
       "    <tr>\n",
       "      <td>19</td>\n",
       "      <td>1146.335815</td>\n",
       "      <td>1453.690552</td>\n",
       "      <td>38.127293</td>\n",
       "      <td>25.288612</td>\n",
       "      <td>7.684015</td>\n",
       "      <td>5.096561</td>\n",
       "      <td>25.184191</td>\n",
       "      <td>0.840268</td>\n",
       "      <td>00:00</td>\n",
       "    </tr>\n",
       "  </tbody>\n",
       "</table>"
      ],
      "text/plain": [
       "<IPython.core.display.HTML object>"
      ]
     },
     "metadata": {},
     "output_type": "display_data"
    },
    {
     "data": {
      "text/html": [
       "<table border=\"1\" class=\"dataframe\">\n",
       "  <thead>\n",
       "    <tr style=\"text-align: left;\">\n",
       "      <th>epoch</th>\n",
       "      <th>train_loss</th>\n",
       "      <th>valid_loss</th>\n",
       "      <th>_rmse</th>\n",
       "      <th>_rrmse</th>\n",
       "      <th>_bias</th>\n",
       "      <th>_bias_pct</th>\n",
       "      <th>mae</th>\n",
       "      <th>r2_score</th>\n",
       "      <th>time</th>\n",
       "    </tr>\n",
       "  </thead>\n",
       "  <tbody>\n",
       "    <tr>\n",
       "      <td>0</td>\n",
       "      <td>92748.789062</td>\n",
       "      <td>87588.265625</td>\n",
       "      <td>295.953156</td>\n",
       "      <td>196.296234</td>\n",
       "      <td>280.982025</td>\n",
       "      <td>186.366379</td>\n",
       "      <td>282.677399</td>\n",
       "      <td>-8.624237</td>\n",
       "      <td>00:00</td>\n",
       "    </tr>\n",
       "    <tr>\n",
       "      <td>1</td>\n",
       "      <td>73019.007812</td>\n",
       "      <td>40954.148438</td>\n",
       "      <td>202.371307</td>\n",
       "      <td>134.226410</td>\n",
       "      <td>186.288269</td>\n",
       "      <td>123.559036</td>\n",
       "      <td>188.626129</td>\n",
       "      <td>-3.500059</td>\n",
       "      <td>00:00</td>\n",
       "    </tr>\n",
       "    <tr>\n",
       "      <td>2</td>\n",
       "      <td>48652.464844</td>\n",
       "      <td>7987.567383</td>\n",
       "      <td>89.373192</td>\n",
       "      <td>59.278374</td>\n",
       "      <td>47.746689</td>\n",
       "      <td>31.668848</td>\n",
       "      <td>74.282372</td>\n",
       "      <td>0.122323</td>\n",
       "      <td>00:00</td>\n",
       "    </tr>\n",
       "    <tr>\n",
       "      <td>3</td>\n",
       "      <td>31664.158203</td>\n",
       "      <td>3393.389648</td>\n",
       "      <td>58.252808</td>\n",
       "      <td>38.637222</td>\n",
       "      <td>6.199754</td>\n",
       "      <td>4.112098</td>\n",
       "      <td>39.453968</td>\n",
       "      <td>0.627133</td>\n",
       "      <td>00:00</td>\n",
       "    </tr>\n",
       "    <tr>\n",
       "      <td>4</td>\n",
       "      <td>21558.876953</td>\n",
       "      <td>2455.297852</td>\n",
       "      <td>49.550961</td>\n",
       "      <td>32.865562</td>\n",
       "      <td>-0.802262</td>\n",
       "      <td>-0.532115</td>\n",
       "      <td>33.915321</td>\n",
       "      <td>0.730211</td>\n",
       "      <td>00:00</td>\n",
       "    </tr>\n",
       "    <tr>\n",
       "      <td>5</td>\n",
       "      <td>15176.977539</td>\n",
       "      <td>1861.746094</td>\n",
       "      <td>43.147953</td>\n",
       "      <td>28.618654</td>\n",
       "      <td>0.729665</td>\n",
       "      <td>0.483964</td>\n",
       "      <td>30.098391</td>\n",
       "      <td>0.795431</td>\n",
       "      <td>00:00</td>\n",
       "    </tr>\n",
       "    <tr>\n",
       "      <td>6</td>\n",
       "      <td>10987.855469</td>\n",
       "      <td>2941.439453</td>\n",
       "      <td>54.235039</td>\n",
       "      <td>35.972363</td>\n",
       "      <td>15.016914</td>\n",
       "      <td>9.960238</td>\n",
       "      <td>32.808437</td>\n",
       "      <td>0.676793</td>\n",
       "      <td>00:00</td>\n",
       "    </tr>\n",
       "    <tr>\n",
       "      <td>7</td>\n",
       "      <td>8214.126953</td>\n",
       "      <td>1622.717773</td>\n",
       "      <td>40.282970</td>\n",
       "      <td>26.718403</td>\n",
       "      <td>3.792063</td>\n",
       "      <td>2.515153</td>\n",
       "      <td>27.020681</td>\n",
       "      <td>0.821695</td>\n",
       "      <td>00:00</td>\n",
       "    </tr>\n",
       "    <tr>\n",
       "      <td>8</td>\n",
       "      <td>6213.934570</td>\n",
       "      <td>1650.316650</td>\n",
       "      <td>40.624088</td>\n",
       "      <td>26.944654</td>\n",
       "      <td>6.219932</td>\n",
       "      <td>4.125481</td>\n",
       "      <td>26.849642</td>\n",
       "      <td>0.818662</td>\n",
       "      <td>00:00</td>\n",
       "    </tr>\n",
       "    <tr>\n",
       "      <td>9</td>\n",
       "      <td>4806.686035</td>\n",
       "      <td>1605.672974</td>\n",
       "      <td>40.070850</td>\n",
       "      <td>26.577711</td>\n",
       "      <td>9.088121</td>\n",
       "      <td>6.027860</td>\n",
       "      <td>25.828413</td>\n",
       "      <td>0.823568</td>\n",
       "      <td>00:00</td>\n",
       "    </tr>\n",
       "    <tr>\n",
       "      <td>10</td>\n",
       "      <td>3778.995361</td>\n",
       "      <td>1410.652588</td>\n",
       "      <td>37.558655</td>\n",
       "      <td>24.911451</td>\n",
       "      <td>1.901169</td>\n",
       "      <td>1.260985</td>\n",
       "      <td>24.830740</td>\n",
       "      <td>0.844997</td>\n",
       "      <td>00:00</td>\n",
       "    </tr>\n",
       "    <tr>\n",
       "      <td>11</td>\n",
       "      <td>3064.095215</td>\n",
       "      <td>1606.036621</td>\n",
       "      <td>40.075390</td>\n",
       "      <td>26.580721</td>\n",
       "      <td>-5.530517</td>\n",
       "      <td>-3.668214</td>\n",
       "      <td>26.781569</td>\n",
       "      <td>0.823528</td>\n",
       "      <td>00:00</td>\n",
       "    </tr>\n",
       "    <tr>\n",
       "      <td>12</td>\n",
       "      <td>2536.770020</td>\n",
       "      <td>1400.777466</td>\n",
       "      <td>37.426960</td>\n",
       "      <td>24.824102</td>\n",
       "      <td>8.191225</td>\n",
       "      <td>5.432977</td>\n",
       "      <td>24.302839</td>\n",
       "      <td>0.846082</td>\n",
       "      <td>00:00</td>\n",
       "    </tr>\n",
       "    <tr>\n",
       "      <td>13</td>\n",
       "      <td>2111.386475</td>\n",
       "      <td>1512.562134</td>\n",
       "      <td>38.891674</td>\n",
       "      <td>25.795599</td>\n",
       "      <td>8.380117</td>\n",
       "      <td>5.558263</td>\n",
       "      <td>25.281597</td>\n",
       "      <td>0.833799</td>\n",
       "      <td>00:00</td>\n",
       "    </tr>\n",
       "    <tr>\n",
       "      <td>14</td>\n",
       "      <td>1788.616699</td>\n",
       "      <td>1341.977661</td>\n",
       "      <td>36.633018</td>\n",
       "      <td>24.297506</td>\n",
       "      <td>2.175551</td>\n",
       "      <td>1.442973</td>\n",
       "      <td>23.895061</td>\n",
       "      <td>0.852543</td>\n",
       "      <td>00:00</td>\n",
       "    </tr>\n",
       "    <tr>\n",
       "      <td>15</td>\n",
       "      <td>1570.020630</td>\n",
       "      <td>1475.686523</td>\n",
       "      <td>38.414661</td>\n",
       "      <td>25.479212</td>\n",
       "      <td>8.356389</td>\n",
       "      <td>5.542525</td>\n",
       "      <td>25.191097</td>\n",
       "      <td>0.837851</td>\n",
       "      <td>00:00</td>\n",
       "    </tr>\n",
       "    <tr>\n",
       "      <td>16</td>\n",
       "      <td>1388.205811</td>\n",
       "      <td>1423.747803</td>\n",
       "      <td>37.732586</td>\n",
       "      <td>25.026815</td>\n",
       "      <td>6.138443</td>\n",
       "      <td>4.071433</td>\n",
       "      <td>24.455582</td>\n",
       "      <td>0.843558</td>\n",
       "      <td>00:00</td>\n",
       "    </tr>\n",
       "    <tr>\n",
       "      <td>17</td>\n",
       "      <td>1276.984619</td>\n",
       "      <td>1365.623169</td>\n",
       "      <td>36.954342</td>\n",
       "      <td>24.510632</td>\n",
       "      <td>3.381534</td>\n",
       "      <td>2.242863</td>\n",
       "      <td>23.919811</td>\n",
       "      <td>0.849945</td>\n",
       "      <td>00:00</td>\n",
       "    </tr>\n",
       "    <tr>\n",
       "      <td>18</td>\n",
       "      <td>1158.615601</td>\n",
       "      <td>1356.265747</td>\n",
       "      <td>36.827515</td>\n",
       "      <td>24.426510</td>\n",
       "      <td>4.766417</td>\n",
       "      <td>3.161411</td>\n",
       "      <td>23.963181</td>\n",
       "      <td>0.850973</td>\n",
       "      <td>00:00</td>\n",
       "    </tr>\n",
       "    <tr>\n",
       "      <td>19</td>\n",
       "      <td>1076.249878</td>\n",
       "      <td>1342.503662</td>\n",
       "      <td>36.640190</td>\n",
       "      <td>24.302263</td>\n",
       "      <td>3.420817</td>\n",
       "      <td>2.268919</td>\n",
       "      <td>23.802197</td>\n",
       "      <td>0.852485</td>\n",
       "      <td>00:00</td>\n",
       "    </tr>\n",
       "  </tbody>\n",
       "</table>"
      ],
      "text/plain": [
       "<IPython.core.display.HTML object>"
      ]
     },
     "metadata": {},
     "output_type": "display_data"
    },
    {
     "data": {
      "text/html": [
       "<table border=\"1\" class=\"dataframe\">\n",
       "  <thead>\n",
       "    <tr style=\"text-align: left;\">\n",
       "      <th>epoch</th>\n",
       "      <th>train_loss</th>\n",
       "      <th>valid_loss</th>\n",
       "      <th>_rmse</th>\n",
       "      <th>_rrmse</th>\n",
       "      <th>_bias</th>\n",
       "      <th>_bias_pct</th>\n",
       "      <th>mae</th>\n",
       "      <th>r2_score</th>\n",
       "      <th>time</th>\n",
       "    </tr>\n",
       "  </thead>\n",
       "  <tbody>\n",
       "    <tr>\n",
       "      <td>0</td>\n",
       "      <td>119199.882812</td>\n",
       "      <td>108471.539062</td>\n",
       "      <td>329.350189</td>\n",
       "      <td>218.447418</td>\n",
       "      <td>317.416656</td>\n",
       "      <td>210.532303</td>\n",
       "      <td>317.776978</td>\n",
       "      <td>-10.918900</td>\n",
       "      <td>00:00</td>\n",
       "    </tr>\n",
       "    <tr>\n",
       "      <td>1</td>\n",
       "      <td>96183.257812</td>\n",
       "      <td>56524.890625</td>\n",
       "      <td>237.749634</td>\n",
       "      <td>157.691711</td>\n",
       "      <td>224.491135</td>\n",
       "      <td>148.897766</td>\n",
       "      <td>225.685349</td>\n",
       "      <td>-5.210979</td>\n",
       "      <td>00:00</td>\n",
       "    </tr>\n",
       "    <tr>\n",
       "      <td>2</td>\n",
       "      <td>66259.007812</td>\n",
       "      <td>12090.783203</td>\n",
       "      <td>109.958099</td>\n",
       "      <td>72.931686</td>\n",
       "      <td>66.161911</td>\n",
       "      <td>43.883072</td>\n",
       "      <td>92.762978</td>\n",
       "      <td>-0.328541</td>\n",
       "      <td>00:00</td>\n",
       "    </tr>\n",
       "    <tr>\n",
       "      <td>3</td>\n",
       "      <td>43222.546875</td>\n",
       "      <td>3419.025635</td>\n",
       "      <td>58.472435</td>\n",
       "      <td>38.782890</td>\n",
       "      <td>18.824003</td>\n",
       "      <td>12.485357</td>\n",
       "      <td>44.357063</td>\n",
       "      <td>0.624316</td>\n",
       "      <td>00:00</td>\n",
       "    </tr>\n",
       "    <tr>\n",
       "      <td>4</td>\n",
       "      <td>29168.476562</td>\n",
       "      <td>2298.280518</td>\n",
       "      <td>47.940384</td>\n",
       "      <td>31.797319</td>\n",
       "      <td>-1.256252</td>\n",
       "      <td>-0.833231</td>\n",
       "      <td>35.210274</td>\n",
       "      <td>0.747464</td>\n",
       "      <td>00:00</td>\n",
       "    </tr>\n",
       "    <tr>\n",
       "      <td>5</td>\n",
       "      <td>20397.164062</td>\n",
       "      <td>1987.445312</td>\n",
       "      <td>44.580772</td>\n",
       "      <td>29.568996</td>\n",
       "      <td>-0.060932</td>\n",
       "      <td>-0.040414</td>\n",
       "      <td>32.550144</td>\n",
       "      <td>0.781619</td>\n",
       "      <td>00:00</td>\n",
       "    </tr>\n",
       "    <tr>\n",
       "      <td>6</td>\n",
       "      <td>14616.388672</td>\n",
       "      <td>1775.157227</td>\n",
       "      <td>42.132614</td>\n",
       "      <td>27.945211</td>\n",
       "      <td>-4.003123</td>\n",
       "      <td>-2.655143</td>\n",
       "      <td>29.966692</td>\n",
       "      <td>0.804945</td>\n",
       "      <td>00:00</td>\n",
       "    </tr>\n",
       "    <tr>\n",
       "      <td>7</td>\n",
       "      <td>10717.909180</td>\n",
       "      <td>1796.671631</td>\n",
       "      <td>42.387161</td>\n",
       "      <td>28.114044</td>\n",
       "      <td>-1.601528</td>\n",
       "      <td>-1.062242</td>\n",
       "      <td>29.883501</td>\n",
       "      <td>0.802581</td>\n",
       "      <td>00:00</td>\n",
       "    </tr>\n",
       "    <tr>\n",
       "      <td>8</td>\n",
       "      <td>8051.545410</td>\n",
       "      <td>1671.797485</td>\n",
       "      <td>40.887619</td>\n",
       "      <td>27.119446</td>\n",
       "      <td>-4.222292</td>\n",
       "      <td>-2.800511</td>\n",
       "      <td>29.189270</td>\n",
       "      <td>0.816302</td>\n",
       "      <td>00:00</td>\n",
       "    </tr>\n",
       "    <tr>\n",
       "      <td>9</td>\n",
       "      <td>6120.775879</td>\n",
       "      <td>1539.305054</td>\n",
       "      <td>39.233974</td>\n",
       "      <td>26.022636</td>\n",
       "      <td>8.713781</td>\n",
       "      <td>5.779572</td>\n",
       "      <td>26.480772</td>\n",
       "      <td>0.830861</td>\n",
       "      <td>00:00</td>\n",
       "    </tr>\n",
       "    <tr>\n",
       "      <td>10</td>\n",
       "      <td>4713.776367</td>\n",
       "      <td>1519.877930</td>\n",
       "      <td>38.985611</td>\n",
       "      <td>25.857908</td>\n",
       "      <td>8.264803</td>\n",
       "      <td>5.481779</td>\n",
       "      <td>26.412199</td>\n",
       "      <td>0.832995</td>\n",
       "      <td>00:00</td>\n",
       "    </tr>\n",
       "    <tr>\n",
       "      <td>11</td>\n",
       "      <td>3703.472412</td>\n",
       "      <td>1370.637451</td>\n",
       "      <td>37.022118</td>\n",
       "      <td>24.555584</td>\n",
       "      <td>1.159844</td>\n",
       "      <td>0.769287</td>\n",
       "      <td>26.075556</td>\n",
       "      <td>0.849394</td>\n",
       "      <td>00:00</td>\n",
       "    </tr>\n",
       "    <tr>\n",
       "      <td>12</td>\n",
       "      <td>2989.980225</td>\n",
       "      <td>1498.338013</td>\n",
       "      <td>38.708370</td>\n",
       "      <td>25.674021</td>\n",
       "      <td>8.580772</td>\n",
       "      <td>5.691351</td>\n",
       "      <td>25.442108</td>\n",
       "      <td>0.835362</td>\n",
       "      <td>00:00</td>\n",
       "    </tr>\n",
       "    <tr>\n",
       "      <td>13</td>\n",
       "      <td>2471.080566</td>\n",
       "      <td>1313.673462</td>\n",
       "      <td>36.244633</td>\n",
       "      <td>24.039904</td>\n",
       "      <td>4.297888</td>\n",
       "      <td>2.850652</td>\n",
       "      <td>24.975338</td>\n",
       "      <td>0.855653</td>\n",
       "      <td>00:00</td>\n",
       "    </tr>\n",
       "    <tr>\n",
       "      <td>14</td>\n",
       "      <td>2100.868652</td>\n",
       "      <td>1405.381348</td>\n",
       "      <td>37.488415</td>\n",
       "      <td>24.864864</td>\n",
       "      <td>8.753828</td>\n",
       "      <td>5.806134</td>\n",
       "      <td>25.300228</td>\n",
       "      <td>0.845576</td>\n",
       "      <td>00:00</td>\n",
       "    </tr>\n",
       "    <tr>\n",
       "      <td>15</td>\n",
       "      <td>1813.045776</td>\n",
       "      <td>1328.953613</td>\n",
       "      <td>36.454815</td>\n",
       "      <td>24.179310</td>\n",
       "      <td>4.689398</td>\n",
       "      <td>3.110327</td>\n",
       "      <td>25.260223</td>\n",
       "      <td>0.853974</td>\n",
       "      <td>00:00</td>\n",
       "    </tr>\n",
       "    <tr>\n",
       "      <td>16</td>\n",
       "      <td>1592.885132</td>\n",
       "      <td>1327.705322</td>\n",
       "      <td>36.437691</td>\n",
       "      <td>24.167952</td>\n",
       "      <td>6.943495</td>\n",
       "      <td>4.605398</td>\n",
       "      <td>24.916515</td>\n",
       "      <td>0.854111</td>\n",
       "      <td>00:00</td>\n",
       "    </tr>\n",
       "    <tr>\n",
       "      <td>17</td>\n",
       "      <td>1417.846802</td>\n",
       "      <td>1313.421631</td>\n",
       "      <td>36.241158</td>\n",
       "      <td>24.037598</td>\n",
       "      <td>6.559779</td>\n",
       "      <td>4.350891</td>\n",
       "      <td>24.710318</td>\n",
       "      <td>0.855681</td>\n",
       "      <td>00:00</td>\n",
       "    </tr>\n",
       "    <tr>\n",
       "      <td>18</td>\n",
       "      <td>1284.517822</td>\n",
       "      <td>1285.723511</td>\n",
       "      <td>35.856987</td>\n",
       "      <td>23.782789</td>\n",
       "      <td>5.139090</td>\n",
       "      <td>3.408594</td>\n",
       "      <td>24.545803</td>\n",
       "      <td>0.858724</td>\n",
       "      <td>00:00</td>\n",
       "    </tr>\n",
       "    <tr>\n",
       "      <td>19</td>\n",
       "      <td>1229.987061</td>\n",
       "      <td>1306.347656</td>\n",
       "      <td>36.143429</td>\n",
       "      <td>23.972778</td>\n",
       "      <td>6.102806</td>\n",
       "      <td>4.047796</td>\n",
       "      <td>24.616571</td>\n",
       "      <td>0.856458</td>\n",
       "      <td>00:00</td>\n",
       "    </tr>\n",
       "  </tbody>\n",
       "</table>"
      ],
      "text/plain": [
       "<IPython.core.display.HTML object>"
      ]
     },
     "metadata": {},
     "output_type": "display_data"
    },
    {
     "data": {
      "text/html": [
       "<table border=\"1\" class=\"dataframe\">\n",
       "  <thead>\n",
       "    <tr style=\"text-align: left;\">\n",
       "      <th>epoch</th>\n",
       "      <th>train_loss</th>\n",
       "      <th>valid_loss</th>\n",
       "      <th>_rmse</th>\n",
       "      <th>_rrmse</th>\n",
       "      <th>_bias</th>\n",
       "      <th>_bias_pct</th>\n",
       "      <th>mae</th>\n",
       "      <th>r2_score</th>\n",
       "      <th>time</th>\n",
       "    </tr>\n",
       "  </thead>\n",
       "  <tbody>\n",
       "    <tr>\n",
       "      <td>0</td>\n",
       "      <td>104641.101562</td>\n",
       "      <td>97466.773438</td>\n",
       "      <td>312.196686</td>\n",
       "      <td>207.070068</td>\n",
       "      <td>294.239136</td>\n",
       "      <td>195.159393</td>\n",
       "      <td>297.566528</td>\n",
       "      <td>-9.709691</td>\n",
       "      <td>00:00</td>\n",
       "    </tr>\n",
       "    <tr>\n",
       "      <td>1</td>\n",
       "      <td>82633.390625</td>\n",
       "      <td>49144.816406</td>\n",
       "      <td>221.686295</td>\n",
       "      <td>147.037415</td>\n",
       "      <td>205.475983</td>\n",
       "      <td>136.285629</td>\n",
       "      <td>208.250626</td>\n",
       "      <td>-4.400054</td>\n",
       "      <td>00:00</td>\n",
       "    </tr>\n",
       "    <tr>\n",
       "      <td>2</td>\n",
       "      <td>55618.347656</td>\n",
       "      <td>9325.059570</td>\n",
       "      <td>96.566345</td>\n",
       "      <td>64.049362</td>\n",
       "      <td>55.125027</td>\n",
       "      <td>36.562660</td>\n",
       "      <td>81.509903</td>\n",
       "      <td>-0.024642</td>\n",
       "      <td>00:00</td>\n",
       "    </tr>\n",
       "    <tr>\n",
       "      <td>3</td>\n",
       "      <td>36075.714844</td>\n",
       "      <td>3124.689209</td>\n",
       "      <td>55.898918</td>\n",
       "      <td>37.075962</td>\n",
       "      <td>19.014771</td>\n",
       "      <td>12.611888</td>\n",
       "      <td>38.578373</td>\n",
       "      <td>0.656658</td>\n",
       "      <td>00:00</td>\n",
       "    </tr>\n",
       "    <tr>\n",
       "      <td>4</td>\n",
       "      <td>24464.974609</td>\n",
       "      <td>2869.522461</td>\n",
       "      <td>53.567924</td>\n",
       "      <td>35.529888</td>\n",
       "      <td>10.390469</td>\n",
       "      <td>6.891665</td>\n",
       "      <td>33.416988</td>\n",
       "      <td>0.684696</td>\n",
       "      <td>00:00</td>\n",
       "    </tr>\n",
       "    <tr>\n",
       "      <td>5</td>\n",
       "      <td>17165.474609</td>\n",
       "      <td>1643.589844</td>\n",
       "      <td>40.541210</td>\n",
       "      <td>26.889685</td>\n",
       "      <td>3.004503</td>\n",
       "      <td>1.992791</td>\n",
       "      <td>27.656803</td>\n",
       "      <td>0.819402</td>\n",
       "      <td>00:00</td>\n",
       "    </tr>\n",
       "    <tr>\n",
       "      <td>6</td>\n",
       "      <td>12331.978516</td>\n",
       "      <td>1522.779907</td>\n",
       "      <td>39.022808</td>\n",
       "      <td>25.882578</td>\n",
       "      <td>2.567528</td>\n",
       "      <td>1.702959</td>\n",
       "      <td>26.347332</td>\n",
       "      <td>0.832676</td>\n",
       "      <td>00:00</td>\n",
       "    </tr>\n",
       "    <tr>\n",
       "      <td>7</td>\n",
       "      <td>9065.961914</td>\n",
       "      <td>2027.678589</td>\n",
       "      <td>45.029755</td>\n",
       "      <td>29.866795</td>\n",
       "      <td>-4.904449</td>\n",
       "      <td>-3.252964</td>\n",
       "      <td>28.694120</td>\n",
       "      <td>0.777198</td>\n",
       "      <td>00:00</td>\n",
       "    </tr>\n",
       "    <tr>\n",
       "      <td>8</td>\n",
       "      <td>6812.730469</td>\n",
       "      <td>1404.844604</td>\n",
       "      <td>37.481255</td>\n",
       "      <td>24.860115</td>\n",
       "      <td>1.981159</td>\n",
       "      <td>1.314039</td>\n",
       "      <td>25.186474</td>\n",
       "      <td>0.845635</td>\n",
       "      <td>00:00</td>\n",
       "    </tr>\n",
       "    <tr>\n",
       "      <td>9</td>\n",
       "      <td>5222.991699</td>\n",
       "      <td>1573.678833</td>\n",
       "      <td>39.669621</td>\n",
       "      <td>26.311588</td>\n",
       "      <td>6.811897</td>\n",
       "      <td>4.518113</td>\n",
       "      <td>26.697969</td>\n",
       "      <td>0.827083</td>\n",
       "      <td>00:00</td>\n",
       "    </tr>\n",
       "    <tr>\n",
       "      <td>10</td>\n",
       "      <td>4130.778809</td>\n",
       "      <td>1502.550293</td>\n",
       "      <td>38.762745</td>\n",
       "      <td>25.710085</td>\n",
       "      <td>7.904151</td>\n",
       "      <td>5.242570</td>\n",
       "      <td>26.156519</td>\n",
       "      <td>0.834899</td>\n",
       "      <td>00:00</td>\n",
       "    </tr>\n",
       "    <tr>\n",
       "      <td>11</td>\n",
       "      <td>3287.068115</td>\n",
       "      <td>1989.345581</td>\n",
       "      <td>44.602081</td>\n",
       "      <td>29.583132</td>\n",
       "      <td>13.054214</td>\n",
       "      <td>8.658442</td>\n",
       "      <td>28.207232</td>\n",
       "      <td>0.781410</td>\n",
       "      <td>00:00</td>\n",
       "    </tr>\n",
       "    <tr>\n",
       "      <td>12</td>\n",
       "      <td>2681.361084</td>\n",
       "      <td>1498.599976</td>\n",
       "      <td>38.711750</td>\n",
       "      <td>25.676262</td>\n",
       "      <td>7.028949</td>\n",
       "      <td>4.662076</td>\n",
       "      <td>25.360380</td>\n",
       "      <td>0.835333</td>\n",
       "      <td>00:00</td>\n",
       "    </tr>\n",
       "    <tr>\n",
       "      <td>13</td>\n",
       "      <td>2198.908447</td>\n",
       "      <td>1548.224609</td>\n",
       "      <td>39.347481</td>\n",
       "      <td>26.097923</td>\n",
       "      <td>2.130719</td>\n",
       "      <td>1.413238</td>\n",
       "      <td>25.613247</td>\n",
       "      <td>0.829880</td>\n",
       "      <td>00:00</td>\n",
       "    </tr>\n",
       "    <tr>\n",
       "      <td>14</td>\n",
       "      <td>1871.657959</td>\n",
       "      <td>1605.372314</td>\n",
       "      <td>40.067101</td>\n",
       "      <td>26.575222</td>\n",
       "      <td>5.479887</td>\n",
       "      <td>3.634633</td>\n",
       "      <td>26.029104</td>\n",
       "      <td>0.823601</td>\n",
       "      <td>00:00</td>\n",
       "    </tr>\n",
       "    <tr>\n",
       "      <td>15</td>\n",
       "      <td>1649.786743</td>\n",
       "      <td>1528.797363</td>\n",
       "      <td>39.099838</td>\n",
       "      <td>25.933668</td>\n",
       "      <td>4.354129</td>\n",
       "      <td>2.887954</td>\n",
       "      <td>25.233940</td>\n",
       "      <td>0.832015</td>\n",
       "      <td>00:00</td>\n",
       "    </tr>\n",
       "    <tr>\n",
       "      <td>16</td>\n",
       "      <td>1467.239990</td>\n",
       "      <td>1472.857544</td>\n",
       "      <td>38.377827</td>\n",
       "      <td>25.454784</td>\n",
       "      <td>3.621979</td>\n",
       "      <td>2.402343</td>\n",
       "      <td>25.031151</td>\n",
       "      <td>0.838162</td>\n",
       "      <td>00:00</td>\n",
       "    </tr>\n",
       "    <tr>\n",
       "      <td>17</td>\n",
       "      <td>1293.068726</td>\n",
       "      <td>1509.025024</td>\n",
       "      <td>38.846169</td>\n",
       "      <td>25.765419</td>\n",
       "      <td>6.167802</td>\n",
       "      <td>4.090906</td>\n",
       "      <td>25.647306</td>\n",
       "      <td>0.834188</td>\n",
       "      <td>00:00</td>\n",
       "    </tr>\n",
       "    <tr>\n",
       "      <td>18</td>\n",
       "      <td>1160.219238</td>\n",
       "      <td>1578.378662</td>\n",
       "      <td>39.728809</td>\n",
       "      <td>26.350847</td>\n",
       "      <td>7.433593</td>\n",
       "      <td>4.930464</td>\n",
       "      <td>26.011343</td>\n",
       "      <td>0.826567</td>\n",
       "      <td>00:00</td>\n",
       "    </tr>\n",
       "    <tr>\n",
       "      <td>19</td>\n",
       "      <td>1080.828247</td>\n",
       "      <td>1536.559448</td>\n",
       "      <td>39.198975</td>\n",
       "      <td>25.999424</td>\n",
       "      <td>6.412484</td>\n",
       "      <td>4.253195</td>\n",
       "      <td>25.685638</td>\n",
       "      <td>0.831162</td>\n",
       "      <td>00:00</td>\n",
       "    </tr>\n",
       "  </tbody>\n",
       "</table>"
      ],
      "text/plain": [
       "<IPython.core.display.HTML object>"
      ]
     },
     "metadata": {},
     "output_type": "display_data"
    },
    {
     "data": {
      "text/html": [
       "<table border=\"1\" class=\"dataframe\">\n",
       "  <thead>\n",
       "    <tr style=\"text-align: left;\">\n",
       "      <th>epoch</th>\n",
       "      <th>train_loss</th>\n",
       "      <th>valid_loss</th>\n",
       "      <th>_rmse</th>\n",
       "      <th>_rrmse</th>\n",
       "      <th>_bias</th>\n",
       "      <th>_bias_pct</th>\n",
       "      <th>mae</th>\n",
       "      <th>r2_score</th>\n",
       "      <th>time</th>\n",
       "    </tr>\n",
       "  </thead>\n",
       "  <tbody>\n",
       "    <tr>\n",
       "      <td>0</td>\n",
       "      <td>127058.921875</td>\n",
       "      <td>110655.226562</td>\n",
       "      <td>332.648804</td>\n",
       "      <td>220.635300</td>\n",
       "      <td>320.559204</td>\n",
       "      <td>212.616638</td>\n",
       "      <td>320.559204</td>\n",
       "      <td>-11.158844</td>\n",
       "      <td>00:00</td>\n",
       "    </tr>\n",
       "    <tr>\n",
       "      <td>1</td>\n",
       "      <td>101413.750000</td>\n",
       "      <td>56037.000000</td>\n",
       "      <td>236.721359</td>\n",
       "      <td>157.009689</td>\n",
       "      <td>222.452316</td>\n",
       "      <td>147.545502</td>\n",
       "      <td>222.765198</td>\n",
       "      <td>-5.157370</td>\n",
       "      <td>00:00</td>\n",
       "    </tr>\n",
       "    <tr>\n",
       "      <td>2</td>\n",
       "      <td>68921.500000</td>\n",
       "      <td>12669.999023</td>\n",
       "      <td>112.561089</td>\n",
       "      <td>74.658165</td>\n",
       "      <td>67.852791</td>\n",
       "      <td>45.004581</td>\n",
       "      <td>94.694153</td>\n",
       "      <td>-0.392185</td>\n",
       "      <td>00:00</td>\n",
       "    </tr>\n",
       "    <tr>\n",
       "      <td>3</td>\n",
       "      <td>45041.601562</td>\n",
       "      <td>3590.352783</td>\n",
       "      <td>59.919556</td>\n",
       "      <td>39.742722</td>\n",
       "      <td>19.284306</td>\n",
       "      <td>12.790662</td>\n",
       "      <td>44.446529</td>\n",
       "      <td>0.605490</td>\n",
       "      <td>00:00</td>\n",
       "    </tr>\n",
       "    <tr>\n",
       "      <td>4</td>\n",
       "      <td>30302.945312</td>\n",
       "      <td>2289.181152</td>\n",
       "      <td>47.845387</td>\n",
       "      <td>31.734312</td>\n",
       "      <td>-0.231619</td>\n",
       "      <td>-0.153626</td>\n",
       "      <td>34.088608</td>\n",
       "      <td>0.748464</td>\n",
       "      <td>00:00</td>\n",
       "    </tr>\n",
       "    <tr>\n",
       "      <td>5</td>\n",
       "      <td>21219.373047</td>\n",
       "      <td>2092.003418</td>\n",
       "      <td>45.738422</td>\n",
       "      <td>30.336830</td>\n",
       "      <td>-1.074558</td>\n",
       "      <td>-0.712720</td>\n",
       "      <td>31.947283</td>\n",
       "      <td>0.770130</td>\n",
       "      <td>00:00</td>\n",
       "    </tr>\n",
       "    <tr>\n",
       "      <td>6</td>\n",
       "      <td>15269.016602</td>\n",
       "      <td>1921.010376</td>\n",
       "      <td>43.829338</td>\n",
       "      <td>29.070595</td>\n",
       "      <td>-2.181914</td>\n",
       "      <td>-1.447193</td>\n",
       "      <td>30.185690</td>\n",
       "      <td>0.788919</td>\n",
       "      <td>00:00</td>\n",
       "    </tr>\n",
       "    <tr>\n",
       "      <td>7</td>\n",
       "      <td>11206.500977</td>\n",
       "      <td>1477.918701</td>\n",
       "      <td>38.443710</td>\n",
       "      <td>25.498480</td>\n",
       "      <td>2.702311</td>\n",
       "      <td>1.792356</td>\n",
       "      <td>26.766966</td>\n",
       "      <td>0.837606</td>\n",
       "      <td>00:00</td>\n",
       "    </tr>\n",
       "    <tr>\n",
       "      <td>8</td>\n",
       "      <td>8371.166016</td>\n",
       "      <td>1510.748291</td>\n",
       "      <td>38.868343</td>\n",
       "      <td>25.780127</td>\n",
       "      <td>0.051292</td>\n",
       "      <td>0.034020</td>\n",
       "      <td>27.185165</td>\n",
       "      <td>0.833998</td>\n",
       "      <td>00:00</td>\n",
       "    </tr>\n",
       "    <tr>\n",
       "      <td>9</td>\n",
       "      <td>6379.555176</td>\n",
       "      <td>1490.760132</td>\n",
       "      <td>38.610363</td>\n",
       "      <td>25.609016</td>\n",
       "      <td>9.378031</td>\n",
       "      <td>6.220147</td>\n",
       "      <td>26.442688</td>\n",
       "      <td>0.836195</td>\n",
       "      <td>00:00</td>\n",
       "    </tr>\n",
       "    <tr>\n",
       "      <td>10</td>\n",
       "      <td>4919.460449</td>\n",
       "      <td>1432.473022</td>\n",
       "      <td>37.848026</td>\n",
       "      <td>25.103382</td>\n",
       "      <td>4.944237</td>\n",
       "      <td>3.279354</td>\n",
       "      <td>25.626293</td>\n",
       "      <td>0.842599</td>\n",
       "      <td>00:00</td>\n",
       "    </tr>\n",
       "    <tr>\n",
       "      <td>11</td>\n",
       "      <td>3875.640381</td>\n",
       "      <td>1892.787109</td>\n",
       "      <td>43.506172</td>\n",
       "      <td>28.856251</td>\n",
       "      <td>14.518809</td>\n",
       "      <td>9.629861</td>\n",
       "      <td>29.029417</td>\n",
       "      <td>0.792020</td>\n",
       "      <td>00:00</td>\n",
       "    </tr>\n",
       "    <tr>\n",
       "      <td>12</td>\n",
       "      <td>3100.680664</td>\n",
       "      <td>1396.912720</td>\n",
       "      <td>37.375294</td>\n",
       "      <td>24.789833</td>\n",
       "      <td>2.506578</td>\n",
       "      <td>1.662533</td>\n",
       "      <td>25.754457</td>\n",
       "      <td>0.846507</td>\n",
       "      <td>00:00</td>\n",
       "    </tr>\n",
       "    <tr>\n",
       "      <td>13</td>\n",
       "      <td>2559.696777</td>\n",
       "      <td>1779.776245</td>\n",
       "      <td>42.187393</td>\n",
       "      <td>27.981546</td>\n",
       "      <td>12.946101</td>\n",
       "      <td>8.586734</td>\n",
       "      <td>28.384193</td>\n",
       "      <td>0.804437</td>\n",
       "      <td>00:00</td>\n",
       "    </tr>\n",
       "    <tr>\n",
       "      <td>14</td>\n",
       "      <td>2151.207764</td>\n",
       "      <td>1386.696777</td>\n",
       "      <td>37.238380</td>\n",
       "      <td>24.699024</td>\n",
       "      <td>5.828727</td>\n",
       "      <td>3.866008</td>\n",
       "      <td>25.513258</td>\n",
       "      <td>0.847629</td>\n",
       "      <td>00:00</td>\n",
       "    </tr>\n",
       "    <tr>\n",
       "      <td>15</td>\n",
       "      <td>1827.079102</td>\n",
       "      <td>1438.734741</td>\n",
       "      <td>37.930660</td>\n",
       "      <td>25.158192</td>\n",
       "      <td>6.117766</td>\n",
       "      <td>4.057718</td>\n",
       "      <td>25.758732</td>\n",
       "      <td>0.841911</td>\n",
       "      <td>00:00</td>\n",
       "    </tr>\n",
       "    <tr>\n",
       "      <td>16</td>\n",
       "      <td>1622.984131</td>\n",
       "      <td>1431.327759</td>\n",
       "      <td>37.832893</td>\n",
       "      <td>25.093348</td>\n",
       "      <td>5.852770</td>\n",
       "      <td>3.881955</td>\n",
       "      <td>25.732248</td>\n",
       "      <td>0.842725</td>\n",
       "      <td>00:00</td>\n",
       "    </tr>\n",
       "    <tr>\n",
       "      <td>17</td>\n",
       "      <td>1464.145752</td>\n",
       "      <td>1425.353882</td>\n",
       "      <td>37.753860</td>\n",
       "      <td>25.040924</td>\n",
       "      <td>7.978394</td>\n",
       "      <td>5.291813</td>\n",
       "      <td>26.045210</td>\n",
       "      <td>0.843381</td>\n",
       "      <td>00:00</td>\n",
       "    </tr>\n",
       "    <tr>\n",
       "      <td>18</td>\n",
       "      <td>1327.747559</td>\n",
       "      <td>1385.274780</td>\n",
       "      <td>37.219280</td>\n",
       "      <td>24.686356</td>\n",
       "      <td>5.602609</td>\n",
       "      <td>3.716031</td>\n",
       "      <td>25.661245</td>\n",
       "      <td>0.847785</td>\n",
       "      <td>00:00</td>\n",
       "    </tr>\n",
       "    <tr>\n",
       "      <td>19</td>\n",
       "      <td>1241.170532</td>\n",
       "      <td>1379.809692</td>\n",
       "      <td>37.145786</td>\n",
       "      <td>24.637609</td>\n",
       "      <td>4.292082</td>\n",
       "      <td>2.846800</td>\n",
       "      <td>25.213779</td>\n",
       "      <td>0.848386</td>\n",
       "      <td>00:00</td>\n",
       "    </tr>\n",
       "  </tbody>\n",
       "</table>"
      ],
      "text/plain": [
       "<IPython.core.display.HTML object>"
      ]
     },
     "metadata": {},
     "output_type": "display_data"
    },
    {
     "data": {
      "text/html": [
       "<table border=\"1\" class=\"dataframe\">\n",
       "  <thead>\n",
       "    <tr style=\"text-align: left;\">\n",
       "      <th>epoch</th>\n",
       "      <th>train_loss</th>\n",
       "      <th>valid_loss</th>\n",
       "      <th>_rmse</th>\n",
       "      <th>_rrmse</th>\n",
       "      <th>_bias</th>\n",
       "      <th>_bias_pct</th>\n",
       "      <th>mae</th>\n",
       "      <th>r2_score</th>\n",
       "      <th>time</th>\n",
       "    </tr>\n",
       "  </thead>\n",
       "  <tbody>\n",
       "    <tr>\n",
       "      <td>0</td>\n",
       "      <td>116855.421875</td>\n",
       "      <td>107393.179688</td>\n",
       "      <td>327.708984</td>\n",
       "      <td>217.358871</td>\n",
       "      <td>317.121979</td>\n",
       "      <td>210.336838</td>\n",
       "      <td>317.121948</td>\n",
       "      <td>-10.800409</td>\n",
       "      <td>00:00</td>\n",
       "    </tr>\n",
       "    <tr>\n",
       "      <td>1</td>\n",
       "      <td>94253.812500</td>\n",
       "      <td>55191.269531</td>\n",
       "      <td>234.928238</td>\n",
       "      <td>155.820374</td>\n",
       "      <td>220.756088</td>\n",
       "      <td>146.420441</td>\n",
       "      <td>222.339447</td>\n",
       "      <td>-5.064441</td>\n",
       "      <td>00:00</td>\n",
       "    </tr>\n",
       "    <tr>\n",
       "      <td>2</td>\n",
       "      <td>63823.406250</td>\n",
       "      <td>11079.467773</td>\n",
       "      <td>105.259048</td>\n",
       "      <td>69.814949</td>\n",
       "      <td>67.319870</td>\n",
       "      <td>44.651112</td>\n",
       "      <td>89.007538</td>\n",
       "      <td>-0.217417</td>\n",
       "      <td>00:00</td>\n",
       "    </tr>\n",
       "    <tr>\n",
       "      <td>3</td>\n",
       "      <td>41223.964844</td>\n",
       "      <td>2509.815186</td>\n",
       "      <td>50.098057</td>\n",
       "      <td>33.228436</td>\n",
       "      <td>10.891001</td>\n",
       "      <td>7.223652</td>\n",
       "      <td>37.320591</td>\n",
       "      <td>0.724220</td>\n",
       "      <td>00:00</td>\n",
       "    </tr>\n",
       "    <tr>\n",
       "      <td>4</td>\n",
       "      <td>27816.931641</td>\n",
       "      <td>1907.016724</td>\n",
       "      <td>43.669403</td>\n",
       "      <td>28.964516</td>\n",
       "      <td>-2.440410</td>\n",
       "      <td>-1.618646</td>\n",
       "      <td>31.149021</td>\n",
       "      <td>0.790456</td>\n",
       "      <td>00:00</td>\n",
       "    </tr>\n",
       "    <tr>\n",
       "      <td>5</td>\n",
       "      <td>19400.031250</td>\n",
       "      <td>1990.027100</td>\n",
       "      <td>44.609718</td>\n",
       "      <td>29.588196</td>\n",
       "      <td>12.823172</td>\n",
       "      <td>8.505198</td>\n",
       "      <td>31.654228</td>\n",
       "      <td>0.781335</td>\n",
       "      <td>00:00</td>\n",
       "    </tr>\n",
       "    <tr>\n",
       "      <td>6</td>\n",
       "      <td>13946.725586</td>\n",
       "      <td>2332.281738</td>\n",
       "      <td>48.293701</td>\n",
       "      <td>32.031666</td>\n",
       "      <td>16.751030</td>\n",
       "      <td>11.110421</td>\n",
       "      <td>32.525101</td>\n",
       "      <td>0.743728</td>\n",
       "      <td>00:00</td>\n",
       "    </tr>\n",
       "    <tr>\n",
       "      <td>7</td>\n",
       "      <td>10184.523438</td>\n",
       "      <td>1638.196899</td>\n",
       "      <td>40.474648</td>\n",
       "      <td>26.845535</td>\n",
       "      <td>-0.234020</td>\n",
       "      <td>-0.155218</td>\n",
       "      <td>28.442396</td>\n",
       "      <td>0.819994</td>\n",
       "      <td>00:00</td>\n",
       "    </tr>\n",
       "    <tr>\n",
       "      <td>8</td>\n",
       "      <td>7594.387695</td>\n",
       "      <td>1433.049194</td>\n",
       "      <td>37.855637</td>\n",
       "      <td>25.108429</td>\n",
       "      <td>2.127295</td>\n",
       "      <td>1.410967</td>\n",
       "      <td>26.841024</td>\n",
       "      <td>0.842536</td>\n",
       "      <td>00:00</td>\n",
       "    </tr>\n",
       "    <tr>\n",
       "      <td>9</td>\n",
       "      <td>5829.305664</td>\n",
       "      <td>1418.893066</td>\n",
       "      <td>37.668194</td>\n",
       "      <td>24.984104</td>\n",
       "      <td>1.426501</td>\n",
       "      <td>0.946152</td>\n",
       "      <td>26.735174</td>\n",
       "      <td>0.844091</td>\n",
       "      <td>00:00</td>\n",
       "    </tr>\n",
       "    <tr>\n",
       "      <td>10</td>\n",
       "      <td>4560.393066</td>\n",
       "      <td>1367.668579</td>\n",
       "      <td>36.982002</td>\n",
       "      <td>24.528976</td>\n",
       "      <td>0.958285</td>\n",
       "      <td>0.635600</td>\n",
       "      <td>25.661673</td>\n",
       "      <td>0.849720</td>\n",
       "      <td>00:00</td>\n",
       "    </tr>\n",
       "    <tr>\n",
       "      <td>11</td>\n",
       "      <td>3596.752197</td>\n",
       "      <td>1454.257202</td>\n",
       "      <td>38.134724</td>\n",
       "      <td>25.293541</td>\n",
       "      <td>10.171249</td>\n",
       "      <td>6.746264</td>\n",
       "      <td>26.932714</td>\n",
       "      <td>0.840206</td>\n",
       "      <td>00:00</td>\n",
       "    </tr>\n",
       "    <tr>\n",
       "      <td>12</td>\n",
       "      <td>2861.386963</td>\n",
       "      <td>1567.106934</td>\n",
       "      <td>39.586700</td>\n",
       "      <td>26.256588</td>\n",
       "      <td>10.591795</td>\n",
       "      <td>7.025198</td>\n",
       "      <td>27.519899</td>\n",
       "      <td>0.827806</td>\n",
       "      <td>00:00</td>\n",
       "    </tr>\n",
       "    <tr>\n",
       "      <td>13</td>\n",
       "      <td>2321.363770</td>\n",
       "      <td>1368.470337</td>\n",
       "      <td>36.992844</td>\n",
       "      <td>24.536167</td>\n",
       "      <td>0.959239</td>\n",
       "      <td>0.636233</td>\n",
       "      <td>25.568829</td>\n",
       "      <td>0.849632</td>\n",
       "      <td>00:00</td>\n",
       "    </tr>\n",
       "    <tr>\n",
       "      <td>14</td>\n",
       "      <td>1999.466431</td>\n",
       "      <td>1628.051758</td>\n",
       "      <td>40.349125</td>\n",
       "      <td>26.762280</td>\n",
       "      <td>11.657055</td>\n",
       "      <td>7.731750</td>\n",
       "      <td>27.512335</td>\n",
       "      <td>0.821109</td>\n",
       "      <td>00:00</td>\n",
       "    </tr>\n",
       "    <tr>\n",
       "      <td>15</td>\n",
       "      <td>1715.006470</td>\n",
       "      <td>1359.081787</td>\n",
       "      <td>36.865726</td>\n",
       "      <td>24.451855</td>\n",
       "      <td>2.800726</td>\n",
       "      <td>1.857632</td>\n",
       "      <td>25.472441</td>\n",
       "      <td>0.850663</td>\n",
       "      <td>00:00</td>\n",
       "    </tr>\n",
       "    <tr>\n",
       "      <td>16</td>\n",
       "      <td>1489.136353</td>\n",
       "      <td>1324.542236</td>\n",
       "      <td>36.394260</td>\n",
       "      <td>24.139147</td>\n",
       "      <td>5.701509</td>\n",
       "      <td>3.781628</td>\n",
       "      <td>25.373755</td>\n",
       "      <td>0.854459</td>\n",
       "      <td>00:00</td>\n",
       "    </tr>\n",
       "    <tr>\n",
       "      <td>17</td>\n",
       "      <td>1332.490112</td>\n",
       "      <td>1374.915894</td>\n",
       "      <td>37.079857</td>\n",
       "      <td>24.593882</td>\n",
       "      <td>7.590548</td>\n",
       "      <td>5.034567</td>\n",
       "      <td>25.764139</td>\n",
       "      <td>0.848924</td>\n",
       "      <td>00:00</td>\n",
       "    </tr>\n",
       "    <tr>\n",
       "      <td>18</td>\n",
       "      <td>1206.243164</td>\n",
       "      <td>1340.160889</td>\n",
       "      <td>36.608208</td>\n",
       "      <td>24.281050</td>\n",
       "      <td>6.522414</td>\n",
       "      <td>4.326108</td>\n",
       "      <td>25.593515</td>\n",
       "      <td>0.852743</td>\n",
       "      <td>00:00</td>\n",
       "    </tr>\n",
       "    <tr>\n",
       "      <td>19</td>\n",
       "      <td>1133.794678</td>\n",
       "      <td>1321.893433</td>\n",
       "      <td>36.357853</td>\n",
       "      <td>24.114998</td>\n",
       "      <td>6.282040</td>\n",
       "      <td>4.166676</td>\n",
       "      <td>25.428333</td>\n",
       "      <td>0.854750</td>\n",
       "      <td>00:00</td>\n",
       "    </tr>\n",
       "  </tbody>\n",
       "</table>"
      ],
      "text/plain": [
       "<IPython.core.display.HTML object>"
      ]
     },
     "metadata": {},
     "output_type": "display_data"
    },
    {
     "data": {
      "text/html": [
       "<table border=\"1\" class=\"dataframe\">\n",
       "  <thead>\n",
       "    <tr style=\"text-align: left;\">\n",
       "      <th>epoch</th>\n",
       "      <th>train_loss</th>\n",
       "      <th>valid_loss</th>\n",
       "      <th>_rmse</th>\n",
       "      <th>_rrmse</th>\n",
       "      <th>_bias</th>\n",
       "      <th>_bias_pct</th>\n",
       "      <th>mae</th>\n",
       "      <th>r2_score</th>\n",
       "      <th>time</th>\n",
       "    </tr>\n",
       "  </thead>\n",
       "  <tbody>\n",
       "    <tr>\n",
       "      <td>0</td>\n",
       "      <td>118308.835938</td>\n",
       "      <td>110522.984375</td>\n",
       "      <td>332.449982</td>\n",
       "      <td>220.503418</td>\n",
       "      <td>321.487671</td>\n",
       "      <td>213.232468</td>\n",
       "      <td>321.559387</td>\n",
       "      <td>-11.144313</td>\n",
       "      <td>00:00</td>\n",
       "    </tr>\n",
       "    <tr>\n",
       "      <td>1</td>\n",
       "      <td>93846.625000</td>\n",
       "      <td>51304.718750</td>\n",
       "      <td>226.505447</td>\n",
       "      <td>150.233810</td>\n",
       "      <td>208.692642</td>\n",
       "      <td>138.419144</td>\n",
       "      <td>210.492813</td>\n",
       "      <td>-4.637385</td>\n",
       "      <td>00:00</td>\n",
       "    </tr>\n",
       "    <tr>\n",
       "      <td>2</td>\n",
       "      <td>62820.277344</td>\n",
       "      <td>9506.703125</td>\n",
       "      <td>97.502327</td>\n",
       "      <td>64.670166</td>\n",
       "      <td>53.206821</td>\n",
       "      <td>35.290379</td>\n",
       "      <td>81.503899</td>\n",
       "      <td>-0.044601</td>\n",
       "      <td>00:00</td>\n",
       "    </tr>\n",
       "    <tr>\n",
       "      <td>3</td>\n",
       "      <td>40586.500000</td>\n",
       "      <td>2485.875488</td>\n",
       "      <td>49.858555</td>\n",
       "      <td>33.069580</td>\n",
       "      <td>4.081828</td>\n",
       "      <td>2.707346</td>\n",
       "      <td>35.371258</td>\n",
       "      <td>0.726851</td>\n",
       "      <td>00:00</td>\n",
       "    </tr>\n",
       "    <tr>\n",
       "      <td>4</td>\n",
       "      <td>27363.306641</td>\n",
       "      <td>2165.102051</td>\n",
       "      <td>46.530659</td>\n",
       "      <td>30.862295</td>\n",
       "      <td>0.659797</td>\n",
       "      <td>0.437622</td>\n",
       "      <td>32.215076</td>\n",
       "      <td>0.762098</td>\n",
       "      <td>00:00</td>\n",
       "    </tr>\n",
       "    <tr>\n",
       "      <td>5</td>\n",
       "      <td>19104.677734</td>\n",
       "      <td>1826.029541</td>\n",
       "      <td>42.732067</td>\n",
       "      <td>28.342810</td>\n",
       "      <td>-1.762699</td>\n",
       "      <td>-1.169142</td>\n",
       "      <td>29.235409</td>\n",
       "      <td>0.799355</td>\n",
       "      <td>00:00</td>\n",
       "    </tr>\n",
       "    <tr>\n",
       "      <td>6</td>\n",
       "      <td>13741.374023</td>\n",
       "      <td>1738.490723</td>\n",
       "      <td>41.695213</td>\n",
       "      <td>27.655098</td>\n",
       "      <td>4.990839</td>\n",
       "      <td>3.310264</td>\n",
       "      <td>28.272741</td>\n",
       "      <td>0.808974</td>\n",
       "      <td>00:00</td>\n",
       "    </tr>\n",
       "    <tr>\n",
       "      <td>7</td>\n",
       "      <td>10098.284180</td>\n",
       "      <td>2318.997559</td>\n",
       "      <td>48.155972</td>\n",
       "      <td>31.940311</td>\n",
       "      <td>-6.306388</td>\n",
       "      <td>-4.182826</td>\n",
       "      <td>33.023663</td>\n",
       "      <td>0.745188</td>\n",
       "      <td>00:00</td>\n",
       "    </tr>\n",
       "    <tr>\n",
       "      <td>8</td>\n",
       "      <td>7591.491699</td>\n",
       "      <td>1594.365967</td>\n",
       "      <td>39.929512</td>\n",
       "      <td>26.483965</td>\n",
       "      <td>1.199561</td>\n",
       "      <td>0.795630</td>\n",
       "      <td>26.935606</td>\n",
       "      <td>0.824810</td>\n",
       "      <td>00:00</td>\n",
       "    </tr>\n",
       "    <tr>\n",
       "      <td>9</td>\n",
       "      <td>5729.487793</td>\n",
       "      <td>1742.003052</td>\n",
       "      <td>41.737312</td>\n",
       "      <td>27.683023</td>\n",
       "      <td>10.318053</td>\n",
       "      <td>6.843634</td>\n",
       "      <td>27.922491</td>\n",
       "      <td>0.808588</td>\n",
       "      <td>00:00</td>\n",
       "    </tr>\n",
       "    <tr>\n",
       "      <td>10</td>\n",
       "      <td>4418.981934</td>\n",
       "      <td>1544.059570</td>\n",
       "      <td>39.294521</td>\n",
       "      <td>26.062796</td>\n",
       "      <td>3.550550</td>\n",
       "      <td>2.354966</td>\n",
       "      <td>26.419525</td>\n",
       "      <td>0.830338</td>\n",
       "      <td>00:00</td>\n",
       "    </tr>\n",
       "    <tr>\n",
       "      <td>11</td>\n",
       "      <td>3496.408936</td>\n",
       "      <td>1476.595459</td>\n",
       "      <td>38.426495</td>\n",
       "      <td>25.487062</td>\n",
       "      <td>2.506546</td>\n",
       "      <td>1.662512</td>\n",
       "      <td>25.605173</td>\n",
       "      <td>0.837751</td>\n",
       "      <td>00:00</td>\n",
       "    </tr>\n",
       "    <tr>\n",
       "      <td>12</td>\n",
       "      <td>2847.242920</td>\n",
       "      <td>1490.836792</td>\n",
       "      <td>38.611355</td>\n",
       "      <td>25.609674</td>\n",
       "      <td>7.070427</td>\n",
       "      <td>4.689588</td>\n",
       "      <td>25.750555</td>\n",
       "      <td>0.836186</td>\n",
       "      <td>00:00</td>\n",
       "    </tr>\n",
       "    <tr>\n",
       "      <td>13</td>\n",
       "      <td>2331.501221</td>\n",
       "      <td>1592.981689</td>\n",
       "      <td>39.912174</td>\n",
       "      <td>26.472467</td>\n",
       "      <td>4.420602</td>\n",
       "      <td>2.932044</td>\n",
       "      <td>26.448366</td>\n",
       "      <td>0.824962</td>\n",
       "      <td>00:00</td>\n",
       "    </tr>\n",
       "    <tr>\n",
       "      <td>14</td>\n",
       "      <td>1964.822632</td>\n",
       "      <td>1608.920654</td>\n",
       "      <td>40.111355</td>\n",
       "      <td>26.604574</td>\n",
       "      <td>5.919046</td>\n",
       "      <td>3.925914</td>\n",
       "      <td>26.687111</td>\n",
       "      <td>0.823211</td>\n",
       "      <td>00:00</td>\n",
       "    </tr>\n",
       "    <tr>\n",
       "      <td>15</td>\n",
       "      <td>1763.332520</td>\n",
       "      <td>1773.070557</td>\n",
       "      <td>42.107841</td>\n",
       "      <td>27.928782</td>\n",
       "      <td>12.191262</td>\n",
       "      <td>8.086074</td>\n",
       "      <td>27.343901</td>\n",
       "      <td>0.805174</td>\n",
       "      <td>00:00</td>\n",
       "    </tr>\n",
       "    <tr>\n",
       "      <td>16</td>\n",
       "      <td>1536.834717</td>\n",
       "      <td>1535.580811</td>\n",
       "      <td>39.186489</td>\n",
       "      <td>25.991142</td>\n",
       "      <td>5.177934</td>\n",
       "      <td>3.434358</td>\n",
       "      <td>26.253887</td>\n",
       "      <td>0.831270</td>\n",
       "      <td>00:00</td>\n",
       "    </tr>\n",
       "    <tr>\n",
       "      <td>17</td>\n",
       "      <td>1389.017578</td>\n",
       "      <td>1547.039062</td>\n",
       "      <td>39.332420</td>\n",
       "      <td>26.087934</td>\n",
       "      <td>6.583377</td>\n",
       "      <td>4.366543</td>\n",
       "      <td>25.983479</td>\n",
       "      <td>0.830011</td>\n",
       "      <td>00:00</td>\n",
       "    </tr>\n",
       "    <tr>\n",
       "      <td>18</td>\n",
       "      <td>1259.838745</td>\n",
       "      <td>1525.528076</td>\n",
       "      <td>39.058010</td>\n",
       "      <td>25.905926</td>\n",
       "      <td>5.508718</td>\n",
       "      <td>3.653756</td>\n",
       "      <td>25.860411</td>\n",
       "      <td>0.832374</td>\n",
       "      <td>00:00</td>\n",
       "    </tr>\n",
       "    <tr>\n",
       "      <td>19</td>\n",
       "      <td>1178.822754</td>\n",
       "      <td>1570.686646</td>\n",
       "      <td>39.631889</td>\n",
       "      <td>26.286564</td>\n",
       "      <td>8.144154</td>\n",
       "      <td>5.401756</td>\n",
       "      <td>26.134230</td>\n",
       "      <td>0.827412</td>\n",
       "      <td>00:00</td>\n",
       "    </tr>\n",
       "  </tbody>\n",
       "</table>"
      ],
      "text/plain": [
       "<IPython.core.display.HTML object>"
      ]
     },
     "metadata": {},
     "output_type": "display_data"
    },
    {
     "data": {
      "text/html": [
       "<table border=\"1\" class=\"dataframe\">\n",
       "  <thead>\n",
       "    <tr style=\"text-align: left;\">\n",
       "      <th>epoch</th>\n",
       "      <th>train_loss</th>\n",
       "      <th>valid_loss</th>\n",
       "      <th>_rmse</th>\n",
       "      <th>_rrmse</th>\n",
       "      <th>_bias</th>\n",
       "      <th>_bias_pct</th>\n",
       "      <th>mae</th>\n",
       "      <th>r2_score</th>\n",
       "      <th>time</th>\n",
       "    </tr>\n",
       "  </thead>\n",
       "  <tbody>\n",
       "    <tr>\n",
       "      <td>0</td>\n",
       "      <td>138496.906250</td>\n",
       "      <td>117716.125000</td>\n",
       "      <td>343.097809</td>\n",
       "      <td>227.565796</td>\n",
       "      <td>330.534119</td>\n",
       "      <td>219.232681</td>\n",
       "      <td>330.800293</td>\n",
       "      <td>-11.934697</td>\n",
       "      <td>00:00</td>\n",
       "    </tr>\n",
       "    <tr>\n",
       "      <td>1</td>\n",
       "      <td>111609.203125</td>\n",
       "      <td>61029.742188</td>\n",
       "      <td>247.041992</td>\n",
       "      <td>163.855042</td>\n",
       "      <td>233.393677</td>\n",
       "      <td>154.802536</td>\n",
       "      <td>234.996582</td>\n",
       "      <td>-5.705974</td>\n",
       "      <td>00:00</td>\n",
       "    </tr>\n",
       "    <tr>\n",
       "      <td>2</td>\n",
       "      <td>76810.914062</td>\n",
       "      <td>13465.390625</td>\n",
       "      <td>116.040466</td>\n",
       "      <td>76.965919</td>\n",
       "      <td>80.470818</td>\n",
       "      <td>53.373711</td>\n",
       "      <td>99.964844</td>\n",
       "      <td>-0.479583</td>\n",
       "      <td>00:00</td>\n",
       "    </tr>\n",
       "    <tr>\n",
       "      <td>3</td>\n",
       "      <td>50086.105469</td>\n",
       "      <td>3274.891357</td>\n",
       "      <td>57.226669</td>\n",
       "      <td>37.956615</td>\n",
       "      <td>14.651754</td>\n",
       "      <td>9.718039</td>\n",
       "      <td>42.872517</td>\n",
       "      <td>0.640154</td>\n",
       "      <td>00:00</td>\n",
       "    </tr>\n",
       "    <tr>\n",
       "      <td>4</td>\n",
       "      <td>33657.082031</td>\n",
       "      <td>2208.180908</td>\n",
       "      <td>46.991287</td>\n",
       "      <td>31.167814</td>\n",
       "      <td>1.134542</td>\n",
       "      <td>0.752506</td>\n",
       "      <td>33.389011</td>\n",
       "      <td>0.757364</td>\n",
       "      <td>00:00</td>\n",
       "    </tr>\n",
       "    <tr>\n",
       "      <td>5</td>\n",
       "      <td>23400.980469</td>\n",
       "      <td>1969.857544</td>\n",
       "      <td>44.383076</td>\n",
       "      <td>29.437872</td>\n",
       "      <td>8.098049</td>\n",
       "      <td>5.371177</td>\n",
       "      <td>31.249674</td>\n",
       "      <td>0.783551</td>\n",
       "      <td>00:00</td>\n",
       "    </tr>\n",
       "    <tr>\n",
       "      <td>6</td>\n",
       "      <td>16747.615234</td>\n",
       "      <td>1761.153564</td>\n",
       "      <td>41.966103</td>\n",
       "      <td>27.834770</td>\n",
       "      <td>10.815289</td>\n",
       "      <td>7.173434</td>\n",
       "      <td>28.732363</td>\n",
       "      <td>0.806484</td>\n",
       "      <td>00:00</td>\n",
       "    </tr>\n",
       "    <tr>\n",
       "      <td>7</td>\n",
       "      <td>12214.102539</td>\n",
       "      <td>1491.156616</td>\n",
       "      <td>38.615498</td>\n",
       "      <td>25.612423</td>\n",
       "      <td>2.760583</td>\n",
       "      <td>1.831006</td>\n",
       "      <td>26.665291</td>\n",
       "      <td>0.836151</td>\n",
       "      <td>00:00</td>\n",
       "    </tr>\n",
       "    <tr>\n",
       "      <td>8</td>\n",
       "      <td>9050.786133</td>\n",
       "      <td>1360.966431</td>\n",
       "      <td>36.891277</td>\n",
       "      <td>24.468801</td>\n",
       "      <td>1.597319</td>\n",
       "      <td>1.059450</td>\n",
       "      <td>24.708513</td>\n",
       "      <td>0.850456</td>\n",
       "      <td>00:00</td>\n",
       "    </tr>\n",
       "    <tr>\n",
       "      <td>9</td>\n",
       "      <td>6845.739258</td>\n",
       "      <td>1491.849487</td>\n",
       "      <td>38.624466</td>\n",
       "      <td>25.618372</td>\n",
       "      <td>9.182044</td>\n",
       "      <td>6.090156</td>\n",
       "      <td>25.678947</td>\n",
       "      <td>0.836075</td>\n",
       "      <td>00:00</td>\n",
       "    </tr>\n",
       "    <tr>\n",
       "      <td>10</td>\n",
       "      <td>5275.271973</td>\n",
       "      <td>1939.411133</td>\n",
       "      <td>44.038746</td>\n",
       "      <td>29.209488</td>\n",
       "      <td>12.527701</td>\n",
       "      <td>8.309223</td>\n",
       "      <td>28.270260</td>\n",
       "      <td>0.786897</td>\n",
       "      <td>00:00</td>\n",
       "    </tr>\n",
       "    <tr>\n",
       "      <td>11</td>\n",
       "      <td>4169.955078</td>\n",
       "      <td>1425.052368</td>\n",
       "      <td>37.749866</td>\n",
       "      <td>25.038275</td>\n",
       "      <td>-1.184598</td>\n",
       "      <td>-0.785706</td>\n",
       "      <td>25.043301</td>\n",
       "      <td>0.843415</td>\n",
       "      <td>00:00</td>\n",
       "    </tr>\n",
       "    <tr>\n",
       "      <td>12</td>\n",
       "      <td>3325.460205</td>\n",
       "      <td>1315.499023</td>\n",
       "      <td>36.269810</td>\n",
       "      <td>24.056602</td>\n",
       "      <td>5.402441</td>\n",
       "      <td>3.583266</td>\n",
       "      <td>23.225996</td>\n",
       "      <td>0.855452</td>\n",
       "      <td>00:00</td>\n",
       "    </tr>\n",
       "    <tr>\n",
       "      <td>13</td>\n",
       "      <td>2689.217529</td>\n",
       "      <td>1235.627441</td>\n",
       "      <td>35.151493</td>\n",
       "      <td>23.314859</td>\n",
       "      <td>4.216304</td>\n",
       "      <td>2.796539</td>\n",
       "      <td>23.123932</td>\n",
       "      <td>0.864229</td>\n",
       "      <td>00:00</td>\n",
       "    </tr>\n",
       "    <tr>\n",
       "      <td>14</td>\n",
       "      <td>2240.090332</td>\n",
       "      <td>1318.848389</td>\n",
       "      <td>36.315952</td>\n",
       "      <td>24.087208</td>\n",
       "      <td>6.630243</td>\n",
       "      <td>4.397628</td>\n",
       "      <td>24.245821</td>\n",
       "      <td>0.855084</td>\n",
       "      <td>00:00</td>\n",
       "    </tr>\n",
       "    <tr>\n",
       "      <td>15</td>\n",
       "      <td>1923.948120</td>\n",
       "      <td>1255.023315</td>\n",
       "      <td>35.426308</td>\n",
       "      <td>23.497135</td>\n",
       "      <td>3.659326</td>\n",
       "      <td>2.427113</td>\n",
       "      <td>23.061033</td>\n",
       "      <td>0.862098</td>\n",
       "      <td>00:00</td>\n",
       "    </tr>\n",
       "    <tr>\n",
       "      <td>16</td>\n",
       "      <td>1664.375366</td>\n",
       "      <td>1403.406494</td>\n",
       "      <td>37.462067</td>\n",
       "      <td>24.847389</td>\n",
       "      <td>8.115816</td>\n",
       "      <td>5.382961</td>\n",
       "      <td>24.288012</td>\n",
       "      <td>0.845793</td>\n",
       "      <td>00:00</td>\n",
       "    </tr>\n",
       "    <tr>\n",
       "      <td>17</td>\n",
       "      <td>1449.325195</td>\n",
       "      <td>1203.019409</td>\n",
       "      <td>34.684570</td>\n",
       "      <td>23.005163</td>\n",
       "      <td>2.909623</td>\n",
       "      <td>1.929860</td>\n",
       "      <td>22.800060</td>\n",
       "      <td>0.867812</td>\n",
       "      <td>00:00</td>\n",
       "    </tr>\n",
       "    <tr>\n",
       "      <td>18</td>\n",
       "      <td>1321.456787</td>\n",
       "      <td>1203.804321</td>\n",
       "      <td>34.695885</td>\n",
       "      <td>23.012669</td>\n",
       "      <td>2.606759</td>\n",
       "      <td>1.728980</td>\n",
       "      <td>22.687529</td>\n",
       "      <td>0.867725</td>\n",
       "      <td>00:00</td>\n",
       "    </tr>\n",
       "    <tr>\n",
       "      <td>19</td>\n",
       "      <td>1212.840454</td>\n",
       "      <td>1230.793579</td>\n",
       "      <td>35.082668</td>\n",
       "      <td>23.269209</td>\n",
       "      <td>3.235696</td>\n",
       "      <td>2.146133</td>\n",
       "      <td>22.990963</td>\n",
       "      <td>0.864760</td>\n",
       "      <td>00:00</td>\n",
       "    </tr>\n",
       "  </tbody>\n",
       "</table>"
      ],
      "text/plain": [
       "<IPython.core.display.HTML object>"
      ]
     },
     "metadata": {},
     "output_type": "display_data"
    },
    {
     "data": {
      "text/html": [
       "<table border=\"1\" class=\"dataframe\">\n",
       "  <thead>\n",
       "    <tr style=\"text-align: left;\">\n",
       "      <th>epoch</th>\n",
       "      <th>train_loss</th>\n",
       "      <th>valid_loss</th>\n",
       "      <th>_rmse</th>\n",
       "      <th>_rrmse</th>\n",
       "      <th>_bias</th>\n",
       "      <th>_bias_pct</th>\n",
       "      <th>mae</th>\n",
       "      <th>r2_score</th>\n",
       "      <th>time</th>\n",
       "    </tr>\n",
       "  </thead>\n",
       "  <tbody>\n",
       "    <tr>\n",
       "      <td>0</td>\n",
       "      <td>103930.445312</td>\n",
       "      <td>96786.914062</td>\n",
       "      <td>311.105957</td>\n",
       "      <td>206.346603</td>\n",
       "      <td>298.523743</td>\n",
       "      <td>198.001236</td>\n",
       "      <td>298.849884</td>\n",
       "      <td>-9.634988</td>\n",
       "      <td>00:00</td>\n",
       "    </tr>\n",
       "    <tr>\n",
       "      <td>1</td>\n",
       "      <td>83198.671875</td>\n",
       "      <td>48055.574219</td>\n",
       "      <td>219.215820</td>\n",
       "      <td>145.398834</td>\n",
       "      <td>202.344086</td>\n",
       "      <td>134.208344</td>\n",
       "      <td>205.330597</td>\n",
       "      <td>-4.280367</td>\n",
       "      <td>00:00</td>\n",
       "    </tr>\n",
       "    <tr>\n",
       "      <td>2</td>\n",
       "      <td>56101.968750</td>\n",
       "      <td>9667.546875</td>\n",
       "      <td>98.323685</td>\n",
       "      <td>65.214951</td>\n",
       "      <td>59.729710</td>\n",
       "      <td>39.616802</td>\n",
       "      <td>82.022636</td>\n",
       "      <td>-0.062274</td>\n",
       "      <td>00:00</td>\n",
       "    </tr>\n",
       "    <tr>\n",
       "      <td>3</td>\n",
       "      <td>36257.949219</td>\n",
       "      <td>3545.183838</td>\n",
       "      <td>59.541443</td>\n",
       "      <td>39.491932</td>\n",
       "      <td>14.229820</td>\n",
       "      <td>9.438184</td>\n",
       "      <td>40.431065</td>\n",
       "      <td>0.610454</td>\n",
       "      <td>00:00</td>\n",
       "    </tr>\n",
       "    <tr>\n",
       "      <td>4</td>\n",
       "      <td>24465.298828</td>\n",
       "      <td>2527.010742</td>\n",
       "      <td>50.269382</td>\n",
       "      <td>33.342068</td>\n",
       "      <td>8.139390</td>\n",
       "      <td>5.398597</td>\n",
       "      <td>33.930504</td>\n",
       "      <td>0.722331</td>\n",
       "      <td>00:00</td>\n",
       "    </tr>\n",
       "    <tr>\n",
       "      <td>5</td>\n",
       "      <td>17136.095703</td>\n",
       "      <td>2125.223389</td>\n",
       "      <td>46.100143</td>\n",
       "      <td>30.576748</td>\n",
       "      <td>-3.042352</td>\n",
       "      <td>-2.017894</td>\n",
       "      <td>31.047863</td>\n",
       "      <td>0.766480</td>\n",
       "      <td>00:00</td>\n",
       "    </tr>\n",
       "    <tr>\n",
       "      <td>6</td>\n",
       "      <td>12330.176758</td>\n",
       "      <td>1963.321167</td>\n",
       "      <td>44.309380</td>\n",
       "      <td>29.388990</td>\n",
       "      <td>2.668628</td>\n",
       "      <td>1.770016</td>\n",
       "      <td>29.669159</td>\n",
       "      <td>0.784269</td>\n",
       "      <td>00:00</td>\n",
       "    </tr>\n",
       "    <tr>\n",
       "      <td>7</td>\n",
       "      <td>9036.506836</td>\n",
       "      <td>1676.928345</td>\n",
       "      <td>40.950317</td>\n",
       "      <td>27.161032</td>\n",
       "      <td>10.819353</td>\n",
       "      <td>7.176130</td>\n",
       "      <td>27.590515</td>\n",
       "      <td>0.815738</td>\n",
       "      <td>00:00</td>\n",
       "    </tr>\n",
       "    <tr>\n",
       "      <td>8</td>\n",
       "      <td>6789.705566</td>\n",
       "      <td>1820.935547</td>\n",
       "      <td>42.672421</td>\n",
       "      <td>28.303247</td>\n",
       "      <td>3.192635</td>\n",
       "      <td>2.117573</td>\n",
       "      <td>27.764139</td>\n",
       "      <td>0.799915</td>\n",
       "      <td>00:00</td>\n",
       "    </tr>\n",
       "    <tr>\n",
       "      <td>9</td>\n",
       "      <td>5154.957031</td>\n",
       "      <td>1546.273926</td>\n",
       "      <td>39.322693</td>\n",
       "      <td>26.081482</td>\n",
       "      <td>6.215020</td>\n",
       "      <td>4.122223</td>\n",
       "      <td>26.094353</td>\n",
       "      <td>0.830095</td>\n",
       "      <td>00:00</td>\n",
       "    </tr>\n",
       "    <tr>\n",
       "      <td>10</td>\n",
       "      <td>3976.218506</td>\n",
       "      <td>1716.961060</td>\n",
       "      <td>41.436234</td>\n",
       "      <td>27.483326</td>\n",
       "      <td>9.004495</td>\n",
       "      <td>5.972393</td>\n",
       "      <td>27.118919</td>\n",
       "      <td>0.811340</td>\n",
       "      <td>00:00</td>\n",
       "    </tr>\n",
       "    <tr>\n",
       "      <td>11</td>\n",
       "      <td>3167.701660</td>\n",
       "      <td>1621.714966</td>\n",
       "      <td>40.270523</td>\n",
       "      <td>26.710146</td>\n",
       "      <td>5.674045</td>\n",
       "      <td>3.763412</td>\n",
       "      <td>26.039024</td>\n",
       "      <td>0.821805</td>\n",
       "      <td>00:00</td>\n",
       "    </tr>\n",
       "    <tr>\n",
       "      <td>12</td>\n",
       "      <td>2581.061768</td>\n",
       "      <td>1690.171631</td>\n",
       "      <td>41.111694</td>\n",
       "      <td>27.268070</td>\n",
       "      <td>10.805632</td>\n",
       "      <td>7.167029</td>\n",
       "      <td>26.848619</td>\n",
       "      <td>0.814283</td>\n",
       "      <td>00:00</td>\n",
       "    </tr>\n",
       "    <tr>\n",
       "      <td>13</td>\n",
       "      <td>2146.689453</td>\n",
       "      <td>1601.348145</td>\n",
       "      <td>40.016850</td>\n",
       "      <td>26.541895</td>\n",
       "      <td>7.069487</td>\n",
       "      <td>4.688964</td>\n",
       "      <td>25.844328</td>\n",
       "      <td>0.824043</td>\n",
       "      <td>00:00</td>\n",
       "    </tr>\n",
       "    <tr>\n",
       "      <td>14</td>\n",
       "      <td>1847.312012</td>\n",
       "      <td>1571.861328</td>\n",
       "      <td>39.646706</td>\n",
       "      <td>26.296389</td>\n",
       "      <td>8.826183</td>\n",
       "      <td>5.854125</td>\n",
       "      <td>25.870274</td>\n",
       "      <td>0.827283</td>\n",
       "      <td>00:00</td>\n",
       "    </tr>\n",
       "    <tr>\n",
       "      <td>15</td>\n",
       "      <td>1604.393921</td>\n",
       "      <td>1572.521362</td>\n",
       "      <td>39.655029</td>\n",
       "      <td>26.301908</td>\n",
       "      <td>7.201718</td>\n",
       "      <td>4.776669</td>\n",
       "      <td>25.939510</td>\n",
       "      <td>0.827211</td>\n",
       "      <td>00:00</td>\n",
       "    </tr>\n",
       "    <tr>\n",
       "      <td>16</td>\n",
       "      <td>1401.171387</td>\n",
       "      <td>1504.439209</td>\n",
       "      <td>38.787098</td>\n",
       "      <td>25.726238</td>\n",
       "      <td>3.126034</td>\n",
       "      <td>2.073398</td>\n",
       "      <td>25.418772</td>\n",
       "      <td>0.834692</td>\n",
       "      <td>00:00</td>\n",
       "    </tr>\n",
       "    <tr>\n",
       "      <td>17</td>\n",
       "      <td>1228.751465</td>\n",
       "      <td>1458.682251</td>\n",
       "      <td>38.192696</td>\n",
       "      <td>25.331991</td>\n",
       "      <td>3.873986</td>\n",
       "      <td>2.569491</td>\n",
       "      <td>25.078341</td>\n",
       "      <td>0.839719</td>\n",
       "      <td>00:00</td>\n",
       "    </tr>\n",
       "    <tr>\n",
       "      <td>18</td>\n",
       "      <td>1139.924316</td>\n",
       "      <td>1506.911011</td>\n",
       "      <td>38.818951</td>\n",
       "      <td>25.747364</td>\n",
       "      <td>6.799508</td>\n",
       "      <td>4.509896</td>\n",
       "      <td>25.320066</td>\n",
       "      <td>0.834420</td>\n",
       "      <td>00:00</td>\n",
       "    </tr>\n",
       "    <tr>\n",
       "      <td>19</td>\n",
       "      <td>1081.512329</td>\n",
       "      <td>1507.533203</td>\n",
       "      <td>38.826965</td>\n",
       "      <td>25.752682</td>\n",
       "      <td>7.188886</td>\n",
       "      <td>4.768157</td>\n",
       "      <td>25.353800</td>\n",
       "      <td>0.834352</td>\n",
       "      <td>00:00</td>\n",
       "    </tr>\n",
       "  </tbody>\n",
       "</table>"
      ],
      "text/plain": [
       "<IPython.core.display.HTML object>"
      ]
     },
     "metadata": {},
     "output_type": "display_data"
    }
   ],
   "source": [
    "ensemble.fit_one_cycle(20, 1e-2)"
   ]
  },
  {
   "cell_type": "code",
   "execution_count": 29,
   "metadata": {
    "ExecuteTime": {
     "end_time": "2020-11-17T11:45:34.372819Z",
     "start_time": "2020-11-17T11:45:33.754940Z"
    }
   },
   "outputs": [
    {
     "data": {
      "text/html": [],
      "text/plain": [
       "<IPython.core.display.HTML object>"
      ]
     },
     "metadata": {},
     "output_type": "display_data"
    },
    {
     "data": {
      "text/html": [],
      "text/plain": [
       "<IPython.core.display.HTML object>"
      ]
     },
     "metadata": {},
     "output_type": "display_data"
    },
    {
     "data": {
      "text/html": [],
      "text/plain": [
       "<IPython.core.display.HTML object>"
      ]
     },
     "metadata": {},
     "output_type": "display_data"
    },
    {
     "data": {
      "text/html": [],
      "text/plain": [
       "<IPython.core.display.HTML object>"
      ]
     },
     "metadata": {},
     "output_type": "display_data"
    },
    {
     "data": {
      "text/html": [],
      "text/plain": [
       "<IPython.core.display.HTML object>"
      ]
     },
     "metadata": {},
     "output_type": "display_data"
    },
    {
     "data": {
      "text/html": [],
      "text/plain": [
       "<IPython.core.display.HTML object>"
      ]
     },
     "metadata": {},
     "output_type": "display_data"
    },
    {
     "data": {
      "text/html": [],
      "text/plain": [
       "<IPython.core.display.HTML object>"
      ]
     },
     "metadata": {},
     "output_type": "display_data"
    },
    {
     "data": {
      "text/html": [],
      "text/plain": [
       "<IPython.core.display.HTML object>"
      ]
     },
     "metadata": {},
     "output_type": "display_data"
    },
    {
     "data": {
      "text/html": [],
      "text/plain": [
       "<IPython.core.display.HTML object>"
      ]
     },
     "metadata": {},
     "output_type": "display_data"
    },
    {
     "data": {
      "text/html": [],
      "text/plain": [
       "<IPython.core.display.HTML object>"
      ]
     },
     "metadata": {},
     "output_type": "display_data"
    },
    {
     "data": {
      "text/html": [],
      "text/plain": [
       "<IPython.core.display.HTML object>"
      ]
     },
     "metadata": {},
     "output_type": "display_data"
    }
   ],
   "source": [
    "res = ensemble.validate()"
   ]
  },
  {
   "cell_type": "markdown",
   "metadata": {},
   "source": [
    "See ensemble validation results."
   ]
  },
  {
   "cell_type": "code",
   "execution_count": 30,
   "metadata": {
    "ExecuteTime": {
     "end_time": "2020-11-17T11:45:34.388773Z",
     "start_time": "2020-11-17T11:45:34.375333Z"
    }
   },
   "outputs": [
    {
     "data": {
      "text/html": [
       "<div>\n",
       "<style scoped>\n",
       "    .dataframe tbody tr th:only-of-type {\n",
       "        vertical-align: middle;\n",
       "    }\n",
       "\n",
       "    .dataframe tbody tr th {\n",
       "        vertical-align: top;\n",
       "    }\n",
       "\n",
       "    .dataframe thead th {\n",
       "        text-align: right;\n",
       "    }\n",
       "</style>\n",
       "<table border=\"1\" class=\"dataframe\">\n",
       "  <thead>\n",
       "    <tr style=\"text-align: right;\">\n",
       "      <th></th>\n",
       "      <th>model_identifier</th>\n",
       "      <th>_rmse</th>\n",
       "      <th>_rrmse</th>\n",
       "      <th>_bias</th>\n",
       "      <th>_bias_pct</th>\n",
       "      <th>mae</th>\n",
       "      <th>r2_score</th>\n",
       "    </tr>\n",
       "  </thead>\n",
       "  <tbody>\n",
       "    <tr>\n",
       "      <th>0</th>\n",
       "      <td>ensemble</td>\n",
       "      <td>35.573082</td>\n",
       "      <td>23.594484</td>\n",
       "      <td>6.259712</td>\n",
       "      <td>4.151866</td>\n",
       "      <td>23.344149</td>\n",
       "      <td>0.860952</td>\n",
       "    </tr>\n",
       "    <tr>\n",
       "      <th>1</th>\n",
       "      <td>0</td>\n",
       "      <td>37.636856</td>\n",
       "      <td>24.963322</td>\n",
       "      <td>9.834141</td>\n",
       "      <td>6.522670</td>\n",
       "      <td>25.306782</td>\n",
       "      <td>0.844351</td>\n",
       "    </tr>\n",
       "    <tr>\n",
       "      <th>2</th>\n",
       "      <td>1</td>\n",
       "      <td>38.127293</td>\n",
       "      <td>25.288612</td>\n",
       "      <td>7.684015</td>\n",
       "      <td>5.096561</td>\n",
       "      <td>25.184189</td>\n",
       "      <td>0.840268</td>\n",
       "    </tr>\n",
       "    <tr>\n",
       "      <th>3</th>\n",
       "      <td>2</td>\n",
       "      <td>36.640190</td>\n",
       "      <td>24.302263</td>\n",
       "      <td>3.420817</td>\n",
       "      <td>2.268919</td>\n",
       "      <td>23.802197</td>\n",
       "      <td>0.852485</td>\n",
       "    </tr>\n",
       "    <tr>\n",
       "      <th>4</th>\n",
       "      <td>3</td>\n",
       "      <td>36.143429</td>\n",
       "      <td>23.972778</td>\n",
       "      <td>6.102806</td>\n",
       "      <td>4.047796</td>\n",
       "      <td>24.616571</td>\n",
       "      <td>0.856458</td>\n",
       "    </tr>\n",
       "    <tr>\n",
       "      <th>5</th>\n",
       "      <td>4</td>\n",
       "      <td>39.198975</td>\n",
       "      <td>25.999424</td>\n",
       "      <td>6.412484</td>\n",
       "      <td>4.253195</td>\n",
       "      <td>25.685638</td>\n",
       "      <td>0.831162</td>\n",
       "    </tr>\n",
       "    <tr>\n",
       "      <th>6</th>\n",
       "      <td>5</td>\n",
       "      <td>37.145786</td>\n",
       "      <td>24.637609</td>\n",
       "      <td>4.292082</td>\n",
       "      <td>2.846800</td>\n",
       "      <td>25.213779</td>\n",
       "      <td>0.848386</td>\n",
       "    </tr>\n",
       "    <tr>\n",
       "      <th>7</th>\n",
       "      <td>6</td>\n",
       "      <td>36.357853</td>\n",
       "      <td>24.114998</td>\n",
       "      <td>6.282040</td>\n",
       "      <td>4.166676</td>\n",
       "      <td>25.428331</td>\n",
       "      <td>0.854750</td>\n",
       "    </tr>\n",
       "    <tr>\n",
       "      <th>8</th>\n",
       "      <td>7</td>\n",
       "      <td>39.631889</td>\n",
       "      <td>26.286564</td>\n",
       "      <td>8.144154</td>\n",
       "      <td>5.401756</td>\n",
       "      <td>26.134230</td>\n",
       "      <td>0.827412</td>\n",
       "    </tr>\n",
       "    <tr>\n",
       "      <th>9</th>\n",
       "      <td>8</td>\n",
       "      <td>35.082668</td>\n",
       "      <td>23.269209</td>\n",
       "      <td>3.235696</td>\n",
       "      <td>2.146133</td>\n",
       "      <td>22.990963</td>\n",
       "      <td>0.864760</td>\n",
       "    </tr>\n",
       "    <tr>\n",
       "      <th>10</th>\n",
       "      <td>9</td>\n",
       "      <td>38.826965</td>\n",
       "      <td>25.752682</td>\n",
       "      <td>7.188886</td>\n",
       "      <td>4.768157</td>\n",
       "      <td>25.353802</td>\n",
       "      <td>0.834352</td>\n",
       "    </tr>\n",
       "  </tbody>\n",
       "</table>\n",
       "</div>"
      ],
      "text/plain": [
       "   model_identifier      _rmse     _rrmse     _bias  _bias_pct        mae  \\\n",
       "0          ensemble  35.573082  23.594484  6.259712   4.151866  23.344149   \n",
       "1                 0  37.636856  24.963322  9.834141   6.522670  25.306782   \n",
       "2                 1  38.127293  25.288612  7.684015   5.096561  25.184189   \n",
       "3                 2  36.640190  24.302263  3.420817   2.268919  23.802197   \n",
       "4                 3  36.143429  23.972778  6.102806   4.047796  24.616571   \n",
       "5                 4  39.198975  25.999424  6.412484   4.253195  25.685638   \n",
       "6                 5  37.145786  24.637609  4.292082   2.846800  25.213779   \n",
       "7                 6  36.357853  24.114998  6.282040   4.166676  25.428331   \n",
       "8                 7  39.631889  26.286564  8.144154   5.401756  26.134230   \n",
       "9                 8  35.082668  23.269209  3.235696   2.146133  22.990963   \n",
       "10                9  38.826965  25.752682  7.188886   4.768157  25.353802   \n",
       "\n",
       "    r2_score  \n",
       "0   0.860952  \n",
       "1   0.844351  \n",
       "2   0.840268  \n",
       "3   0.852485  \n",
       "4   0.856458  \n",
       "5   0.831162  \n",
       "6   0.848386  \n",
       "7   0.854750  \n",
       "8   0.827412  \n",
       "9   0.864760  \n",
       "10  0.834352  "
      ]
     },
     "execution_count": 30,
     "metadata": {},
     "output_type": "execute_result"
    }
   ],
   "source": [
    "res"
   ]
  },
  {
   "cell_type": "code",
   "execution_count": 31,
   "metadata": {
    "ExecuteTime": {
     "end_time": "2020-11-17T11:45:34.987368Z",
     "start_time": "2020-11-17T11:45:34.390857Z"
    }
   },
   "outputs": [
    {
     "data": {
      "text/html": [],
      "text/plain": [
       "<IPython.core.display.HTML object>"
      ]
     },
     "metadata": {},
     "output_type": "display_data"
    },
    {
     "data": {
      "text/html": [],
      "text/plain": [
       "<IPython.core.display.HTML object>"
      ]
     },
     "metadata": {},
     "output_type": "display_data"
    },
    {
     "data": {
      "text/html": [],
      "text/plain": [
       "<IPython.core.display.HTML object>"
      ]
     },
     "metadata": {},
     "output_type": "display_data"
    },
    {
     "data": {
      "text/html": [],
      "text/plain": [
       "<IPython.core.display.HTML object>"
      ]
     },
     "metadata": {},
     "output_type": "display_data"
    },
    {
     "data": {
      "text/html": [],
      "text/plain": [
       "<IPython.core.display.HTML object>"
      ]
     },
     "metadata": {},
     "output_type": "display_data"
    },
    {
     "data": {
      "text/html": [],
      "text/plain": [
       "<IPython.core.display.HTML object>"
      ]
     },
     "metadata": {},
     "output_type": "display_data"
    },
    {
     "data": {
      "text/html": [],
      "text/plain": [
       "<IPython.core.display.HTML object>"
      ]
     },
     "metadata": {},
     "output_type": "display_data"
    },
    {
     "data": {
      "text/html": [],
      "text/plain": [
       "<IPython.core.display.HTML object>"
      ]
     },
     "metadata": {},
     "output_type": "display_data"
    },
    {
     "data": {
      "text/html": [],
      "text/plain": [
       "<IPython.core.display.HTML object>"
      ]
     },
     "metadata": {},
     "output_type": "display_data"
    },
    {
     "data": {
      "text/html": [],
      "text/plain": [
       "<IPython.core.display.HTML object>"
      ]
     },
     "metadata": {},
     "output_type": "display_data"
    }
   ],
   "source": [
    "ens_int = RegressionInterpretation.from_ensemble(ensemble)"
   ]
  },
  {
   "cell_type": "code",
   "execution_count": 32,
   "metadata": {
    "ExecuteTime": {
     "end_time": "2020-11-17T11:45:35.502197Z",
     "start_time": "2020-11-17T11:45:34.989732Z"
    }
   },
   "outputs": [
    {
     "data": {
      "image/png": "[encoded data removed]",
      "text/plain": [
       "<Figure size 504x432 with 2 Axes>"
      ]
     },
     "metadata": {
      "needs_background": "light"
     },
     "output_type": "display_data"
    }
   ],
   "source": [
    "ens_int.plot_results()\n",
    "plt.show()"
   ]
  },
  {
   "cell_type": "markdown",
   "metadata": {},
   "source": [
    "Run test set predictions."
   ]
  },
  {
   "cell_type": "code",
   "execution_count": 33,
   "metadata": {
    "ExecuteTime": {
     "end_time": "2020-11-17T11:45:36.391676Z",
     "start_time": "2020-11-17T11:45:35.505063Z"
    }
   },
   "outputs": [
    {
     "data": {
      "text/html": [],
      "text/plain": [
       "<IPython.core.display.HTML object>"
      ]
     },
     "metadata": {},
     "output_type": "display_data"
    },
    {
     "data": {
      "text/html": [],
      "text/plain": [
       "<IPython.core.display.HTML object>"
      ]
     },
     "metadata": {},
     "output_type": "display_data"
    },
    {
     "data": {
      "text/html": [],
      "text/plain": [
       "<IPython.core.display.HTML object>"
      ]
     },
     "metadata": {},
     "output_type": "display_data"
    },
    {
     "data": {
      "text/html": [],
      "text/plain": [
       "<IPython.core.display.HTML object>"
      ]
     },
     "metadata": {},
     "output_type": "display_data"
    },
    {
     "data": {
      "text/html": [],
      "text/plain": [
       "<IPython.core.display.HTML object>"
      ]
     },
     "metadata": {},
     "output_type": "display_data"
    },
    {
     "data": {
      "text/html": [],
      "text/plain": [
       "<IPython.core.display.HTML object>"
      ]
     },
     "metadata": {},
     "output_type": "display_data"
    },
    {
     "data": {
      "text/html": [],
      "text/plain": [
       "<IPython.core.display.HTML object>"
      ]
     },
     "metadata": {},
     "output_type": "display_data"
    },
    {
     "data": {
      "text/html": [],
      "text/plain": [
       "<IPython.core.display.HTML object>"
      ]
     },
     "metadata": {},
     "output_type": "display_data"
    },
    {
     "data": {
      "text/html": [],
      "text/plain": [
       "<IPython.core.display.HTML object>"
      ]
     },
     "metadata": {},
     "output_type": "display_data"
    },
    {
     "data": {
      "text/html": [],
      "text/plain": [
       "<IPython.core.display.HTML object>"
      ]
     },
     "metadata": {},
     "output_type": "display_data"
    },
    {
     "data": {
      "text/html": [],
      "text/plain": [
       "<IPython.core.display.HTML object>"
      ]
     },
     "metadata": {},
     "output_type": "display_data"
    },
    {
     "data": {
      "text/html": [
       "<div>\n",
       "<style scoped>\n",
       "    .dataframe tbody tr th:only-of-type {\n",
       "        vertical-align: middle;\n",
       "    }\n",
       "\n",
       "    .dataframe tbody tr th {\n",
       "        vertical-align: top;\n",
       "    }\n",
       "\n",
       "    .dataframe thead th {\n",
       "        text-align: right;\n",
       "    }\n",
       "</style>\n",
       "<table border=\"1\" class=\"dataframe\">\n",
       "  <thead>\n",
       "    <tr style=\"text-align: right;\">\n",
       "      <th></th>\n",
       "      <th>model_identifier</th>\n",
       "      <th>_rmse</th>\n",
       "      <th>_rrmse</th>\n",
       "      <th>_bias</th>\n",
       "      <th>_bias_pct</th>\n",
       "      <th>mae</th>\n",
       "      <th>r2_score</th>\n",
       "    </tr>\n",
       "  </thead>\n",
       "  <tbody>\n",
       "    <tr>\n",
       "      <th>0</th>\n",
       "      <td>ensemble</td>\n",
       "      <td>33.277470</td>\n",
       "      <td>21.891108</td>\n",
       "      <td>0.561262</td>\n",
       "      <td>0.369218</td>\n",
       "      <td>22.045004</td>\n",
       "      <td>0.882324</td>\n",
       "    </tr>\n",
       "    <tr>\n",
       "      <th>1</th>\n",
       "      <td>0</td>\n",
       "      <td>32.487679</td>\n",
       "      <td>21.371555</td>\n",
       "      <td>3.003619</td>\n",
       "      <td>1.975888</td>\n",
       "      <td>22.854969</td>\n",
       "      <td>0.887843</td>\n",
       "    </tr>\n",
       "    <tr>\n",
       "      <th>2</th>\n",
       "      <td>1</td>\n",
       "      <td>35.194695</td>\n",
       "      <td>23.152327</td>\n",
       "      <td>1.120927</td>\n",
       "      <td>0.737386</td>\n",
       "      <td>23.179588</td>\n",
       "      <td>0.868374</td>\n",
       "    </tr>\n",
       "    <tr>\n",
       "      <th>3</th>\n",
       "      <td>2</td>\n",
       "      <td>34.157291</td>\n",
       "      <td>22.469885</td>\n",
       "      <td>-1.552843</td>\n",
       "      <td>-1.021516</td>\n",
       "      <td>22.529623</td>\n",
       "      <td>0.876019</td>\n",
       "    </tr>\n",
       "    <tr>\n",
       "      <th>4</th>\n",
       "      <td>3</td>\n",
       "      <td>35.886009</td>\n",
       "      <td>23.607098</td>\n",
       "      <td>-0.024826</td>\n",
       "      <td>-0.016332</td>\n",
       "      <td>24.711864</td>\n",
       "      <td>0.863152</td>\n",
       "    </tr>\n",
       "    <tr>\n",
       "      <th>5</th>\n",
       "      <td>4</td>\n",
       "      <td>35.229588</td>\n",
       "      <td>23.175280</td>\n",
       "      <td>2.403206</td>\n",
       "      <td>1.580914</td>\n",
       "      <td>23.355381</td>\n",
       "      <td>0.868112</td>\n",
       "    </tr>\n",
       "    <tr>\n",
       "      <th>6</th>\n",
       "      <td>5</td>\n",
       "      <td>37.189064</td>\n",
       "      <td>24.464294</td>\n",
       "      <td>-1.861331</td>\n",
       "      <td>-1.224450</td>\n",
       "      <td>24.601080</td>\n",
       "      <td>0.853033</td>\n",
       "    </tr>\n",
       "    <tr>\n",
       "      <th>7</th>\n",
       "      <td>6</td>\n",
       "      <td>35.453430</td>\n",
       "      <td>23.322531</td>\n",
       "      <td>2.630891</td>\n",
       "      <td>1.730694</td>\n",
       "      <td>23.995615</td>\n",
       "      <td>0.866431</td>\n",
       "    </tr>\n",
       "    <tr>\n",
       "      <th>8</th>\n",
       "      <td>7</td>\n",
       "      <td>36.179817</td>\n",
       "      <td>23.800377</td>\n",
       "      <td>1.536444</td>\n",
       "      <td>1.010728</td>\n",
       "      <td>24.732407</td>\n",
       "      <td>0.860902</td>\n",
       "    </tr>\n",
       "    <tr>\n",
       "      <th>9</th>\n",
       "      <td>8</td>\n",
       "      <td>36.587360</td>\n",
       "      <td>24.068472</td>\n",
       "      <td>-2.585790</td>\n",
       "      <td>-1.701025</td>\n",
       "      <td>24.138922</td>\n",
       "      <td>0.857750</td>\n",
       "    </tr>\n",
       "    <tr>\n",
       "      <th>10</th>\n",
       "      <td>9</td>\n",
       "      <td>34.034496</td>\n",
       "      <td>22.389107</td>\n",
       "      <td>0.942332</td>\n",
       "      <td>0.619900</td>\n",
       "      <td>23.100771</td>\n",
       "      <td>0.876909</td>\n",
       "    </tr>\n",
       "  </tbody>\n",
       "</table>\n",
       "</div>"
      ],
      "text/plain": [
       "   model_identifier      _rmse     _rrmse     _bias  _bias_pct        mae  \\\n",
       "0          ensemble  33.277470  21.891108  0.561262   0.369218  22.045004   \n",
       "1                 0  32.487679  21.371555  3.003619   1.975888  22.854969   \n",
       "2                 1  35.194695  23.152327  1.120927   0.737386  23.179588   \n",
       "3                 2  34.157291  22.469885 -1.552843  -1.021516  22.529623   \n",
       "4                 3  35.886009  23.607098 -0.024826  -0.016332  24.711864   \n",
       "5                 4  35.229588  23.175280  2.403206   1.580914  23.355381   \n",
       "6                 5  37.189064  24.464294 -1.861331  -1.224450  24.601080   \n",
       "7                 6  35.453430  23.322531  2.630891   1.730694  23.995615   \n",
       "8                 7  36.179817  23.800377  1.536444   1.010728  24.732407   \n",
       "9                 8  36.587360  24.068472 -2.585790  -1.701025  24.138922   \n",
       "10                9  34.034496  22.389107  0.942332   0.619900  23.100771   \n",
       "\n",
       "    r2_score  \n",
       "0   0.882324  \n",
       "1   0.887843  \n",
       "2   0.868374  \n",
       "3   0.876019  \n",
       "4   0.863152  \n",
       "5   0.868112  \n",
       "6   0.853033  \n",
       "7   0.866431  \n",
       "8   0.860902  \n",
       "9   0.857750  \n",
       "10  0.876909  "
      ]
     },
     "execution_count": 33,
     "metadata": {},
     "output_type": "execute_result"
    }
   ],
   "source": [
    "test_res = ensemble.validate(dl=test_dls[0])\n",
    "test_res"
   ]
  },
  {
   "cell_type": "code",
   "execution_count": 34,
   "metadata": {
    "ExecuteTime": {
     "end_time": "2020-11-17T11:45:36.398828Z",
     "start_time": "2020-11-17T11:45:36.394527Z"
    }
   },
   "outputs": [],
   "source": [
    "run_test_res = test_res[test_res.model_identifier != 'ensemble']"
   ]
  },
  {
   "cell_type": "code",
   "execution_count": 35,
   "metadata": {
    "ExecuteTime": {
     "end_time": "2020-11-17T11:45:37.131510Z",
     "start_time": "2020-11-17T11:45:36.402693Z"
    }
   },
   "outputs": [
    {
     "data": {
      "text/html": [],
      "text/plain": [
       "<IPython.core.display.HTML object>"
      ]
     },
     "metadata": {},
     "output_type": "display_data"
    },
    {
     "data": {
      "text/html": [],
      "text/plain": [
       "<IPython.core.display.HTML object>"
      ]
     },
     "metadata": {},
     "output_type": "display_data"
    },
    {
     "data": {
      "text/html": [],
      "text/plain": [
       "<IPython.core.display.HTML object>"
      ]
     },
     "metadata": {},
     "output_type": "display_data"
    },
    {
     "data": {
      "text/html": [],
      "text/plain": [
       "<IPython.core.display.HTML object>"
      ]
     },
     "metadata": {},
     "output_type": "display_data"
    },
    {
     "data": {
      "text/html": [],
      "text/plain": [
       "<IPython.core.display.HTML object>"
      ]
     },
     "metadata": {},
     "output_type": "display_data"
    },
    {
     "data": {
      "text/html": [],
      "text/plain": [
       "<IPython.core.display.HTML object>"
      ]
     },
     "metadata": {},
     "output_type": "display_data"
    },
    {
     "data": {
      "text/html": [],
      "text/plain": [
       "<IPython.core.display.HTML object>"
      ]
     },
     "metadata": {},
     "output_type": "display_data"
    },
    {
     "data": {
      "text/html": [],
      "text/plain": [
       "<IPython.core.display.HTML object>"
      ]
     },
     "metadata": {},
     "output_type": "display_data"
    },
    {
     "data": {
      "text/html": [],
      "text/plain": [
       "<IPython.core.display.HTML object>"
      ]
     },
     "metadata": {},
     "output_type": "display_data"
    },
    {
     "data": {
      "text/html": [],
      "text/plain": [
       "<IPython.core.display.HTML object>"
      ]
     },
     "metadata": {},
     "output_type": "display_data"
    }
   ],
   "source": [
    "test_ens_interp = RegressionInterpretation.from_ensemble(ensemble, dl=test_dls[0])"
   ]
  },
  {
   "cell_type": "code",
   "execution_count": 36,
   "metadata": {
    "ExecuteTime": {
     "end_time": "2020-11-17T11:45:37.639672Z",
     "start_time": "2020-11-17T11:45:37.134685Z"
    }
   },
   "outputs": [
    {
     "data": {
      "image/png": "[encoded data removed]",
      "text/plain": [
       "<Figure size 504x432 with 2 Axes>"
      ]
     },
     "metadata": {
      "needs_background": "light"
     },
     "output_type": "display_data"
    }
   ],
   "source": [
    "test_ens_interp.plot_results()\n",
    "plt.show()"
   ]
  },
  {
   "cell_type": "code",
   "execution_count": 37,
   "metadata": {
    "ExecuteTime": {
     "end_time": "2020-11-17T11:45:38.377349Z",
     "start_time": "2020-11-17T11:45:37.642878Z"
    }
   },
   "outputs": [
    {
     "data": {
      "text/html": [],
      "text/plain": [
       "<IPython.core.display.HTML object>"
      ]
     },
     "metadata": {},
     "output_type": "display_data"
    },
    {
     "data": {
      "text/html": [],
      "text/plain": [
       "<IPython.core.display.HTML object>"
      ]
     },
     "metadata": {},
     "output_type": "display_data"
    },
    {
     "data": {
      "text/html": [],
      "text/plain": [
       "<IPython.core.display.HTML object>"
      ]
     },
     "metadata": {},
     "output_type": "display_data"
    },
    {
     "data": {
      "text/html": [],
      "text/plain": [
       "<IPython.core.display.HTML object>"
      ]
     },
     "metadata": {},
     "output_type": "display_data"
    },
    {
     "data": {
      "text/html": [],
      "text/plain": [
       "<IPython.core.display.HTML object>"
      ]
     },
     "metadata": {},
     "output_type": "display_data"
    },
    {
     "data": {
      "text/html": [],
      "text/plain": [
       "<IPython.core.display.HTML object>"
      ]
     },
     "metadata": {},
     "output_type": "display_data"
    },
    {
     "data": {
      "text/html": [],
      "text/plain": [
       "<IPython.core.display.HTML object>"
      ]
     },
     "metadata": {},
     "output_type": "display_data"
    },
    {
     "data": {
      "text/html": [],
      "text/plain": [
       "<IPython.core.display.HTML object>"
      ]
     },
     "metadata": {},
     "output_type": "display_data"
    },
    {
     "data": {
      "text/html": [],
      "text/plain": [
       "<IPython.core.display.HTML object>"
      ]
     },
     "metadata": {},
     "output_type": "display_data"
    },
    {
     "data": {
      "text/html": [],
      "text/plain": [
       "<IPython.core.display.HTML object>"
      ]
     },
     "metadata": {},
     "output_type": "display_data"
    },
    {
     "data": {
      "text/plain": [
       "[tensor([243.8719]),\n",
       " tensor([302.1786]),\n",
       " tensor([188.9737]),\n",
       " tensor([293.0073]),\n",
       " tensor([253.7103]),\n",
       " tensor([327.9385]),\n",
       " tensor([345.9340]),\n",
       " tensor([297.9222]),\n",
       " tensor([292.2241]),\n",
       " tensor([344.2461])]"
      ]
     },
     "execution_count": 37,
     "metadata": {},
     "output_type": "execute_result"
    }
   ],
   "source": [
    "e_preds = [m.predict(data)[-1] for m in ensemble.models]\n",
    "e_preds"
   ]
  },
  {
   "cell_type": "code",
   "execution_count": 38,
   "metadata": {
    "ExecuteTime": {
     "end_time": "2020-11-17T11:45:39.066150Z",
     "start_time": "2020-11-17T11:45:38.381091Z"
    }
   },
   "outputs": [
    {
     "data": {
      "text/html": [],
      "text/plain": [
       "<IPython.core.display.HTML object>"
      ]
     },
     "metadata": {},
     "output_type": "display_data"
    },
    {
     "data": {
      "text/html": [],
      "text/plain": [
       "<IPython.core.display.HTML object>"
      ]
     },
     "metadata": {},
     "output_type": "display_data"
    },
    {
     "data": {
      "text/html": [],
      "text/plain": [
       "<IPython.core.display.HTML object>"
      ]
     },
     "metadata": {},
     "output_type": "display_data"
    },
    {
     "data": {
      "text/html": [],
      "text/plain": [
       "<IPython.core.display.HTML object>"
      ]
     },
     "metadata": {},
     "output_type": "display_data"
    },
    {
     "data": {
      "text/html": [],
      "text/plain": [
       "<IPython.core.display.HTML object>"
      ]
     },
     "metadata": {},
     "output_type": "display_data"
    },
    {
     "data": {
      "text/html": [],
      "text/plain": [
       "<IPython.core.display.HTML object>"
      ]
     },
     "metadata": {},
     "output_type": "display_data"
    },
    {
     "data": {
      "text/html": [],
      "text/plain": [
       "<IPython.core.display.HTML object>"
      ]
     },
     "metadata": {},
     "output_type": "display_data"
    },
    {
     "data": {
      "text/html": [],
      "text/plain": [
       "<IPython.core.display.HTML object>"
      ]
     },
     "metadata": {},
     "output_type": "display_data"
    },
    {
     "data": {
      "text/html": [],
      "text/plain": [
       "<IPython.core.display.HTML object>"
      ]
     },
     "metadata": {},
     "output_type": "display_data"
    },
    {
     "data": {
      "text/html": [],
      "text/plain": [
       "<IPython.core.display.HTML object>"
      ]
     },
     "metadata": {},
     "output_type": "display_data"
    },
    {
     "data": {
      "text/plain": [
       "tensor([289.0007])"
      ]
     },
     "execution_count": 38,
     "metadata": {},
     "output_type": "execute_result"
    }
   ],
   "source": [
    "ensemble.predict(data)[-1]"
   ]
  },
  {
   "cell_type": "markdown",
   "metadata": {},
   "source": [
    "# Comparison: Random forest"
   ]
  },
  {
   "cell_type": "markdown",
   "metadata": {},
   "source": [
    "`TabularPandas` makes it simple to use sklearn models with the same data and preprocessing."
   ]
  },
  {
   "cell_type": "code",
   "execution_count": 35,
   "metadata": {
    "ExecuteTime": {
     "end_time": "2020-11-16T13:41:11.056498Z",
     "start_time": "2020-11-16T13:41:09.777301Z"
    }
   },
   "outputs": [],
   "source": [
    "from sklearn.ensemble import RandomForestRegressor"
   ]
  },
  {
   "cell_type": "markdown",
   "metadata": {},
   "source": [
    "Below values for max_features and min_samples_leaf should generally work well."
   ]
  },
  {
   "cell_type": "code",
   "execution_count": 36,
   "metadata": {
    "ExecuteTime": {
     "end_time": "2020-11-16T13:41:11.061469Z",
     "start_time": "2020-11-16T13:41:11.058274Z"
    }
   },
   "outputs": [],
   "source": [
    "rf = RandomForestRegressor(n_estimators=500, max_features=0.5, min_samples_leaf=4, oob_score=True)"
   ]
  },
  {
   "cell_type": "code",
   "execution_count": 37,
   "metadata": {
    "ExecuteTime": {
     "end_time": "2020-11-16T13:41:16.355806Z",
     "start_time": "2020-11-16T13:41:11.063523Z"
    }
   },
   "outputs": [
    {
     "data": {
      "text/plain": [
       "RandomForestRegressor(max_features=0.5, min_samples_leaf=4, n_estimators=500,\n",
       "                      oob_score=True)"
      ]
     },
     "execution_count": 37,
     "metadata": {},
     "output_type": "execute_result"
    }
   ],
   "source": [
    "rf.fit(trainval_tb.train.xs, trainval_tb.train.ys.values.ravel())"
   ]
  },
  {
   "cell_type": "code",
   "execution_count": 38,
   "metadata": {
    "ExecuteTime": {
     "end_time": "2020-11-16T13:41:16.403562Z",
     "start_time": "2020-11-16T13:41:16.357492Z"
    }
   },
   "outputs": [],
   "source": [
    "rf_preds = rf.predict(trainval_tb.valid.xs)"
   ]
  },
  {
   "cell_type": "markdown",
   "metadata": {},
   "source": [
    "Validation results"
   ]
  },
  {
   "cell_type": "code",
   "execution_count": 39,
   "metadata": {
    "ExecuteTime": {
     "end_time": "2020-11-16T13:41:16.722275Z",
     "start_time": "2020-11-16T13:41:16.405357Z"
    }
   },
   "outputs": [
    {
     "data": {
      "image/png": "[encoded data removed]",
      "text/plain": [
       "<Figure size 504x432 with 2 Axes>"
      ]
     },
     "metadata": {
      "needs_background": "light"
     },
     "output_type": "display_data"
    }
   ],
   "source": [
    "plot_sklearn_regression(rf, trainval_tb.valid.xs, trainval_tb.valid.ys)\n",
    "plt.show()"
   ]
  },
  {
   "cell_type": "markdown",
   "metadata": {},
   "source": [
    "Test results"
   ]
  },
  {
   "cell_type": "code",
   "execution_count": 40,
   "metadata": {
    "ExecuteTime": {
     "end_time": "2020-11-16T13:41:21.362814Z",
     "start_time": "2020-11-16T13:41:21.050231Z"
    }
   },
   "outputs": [
    {
     "data": {
      "image/png": "[encoded data removed]",
      "text/plain": [
       "<Figure size 504x432 with 2 Axes>"
      ]
     },
     "metadata": {
      "needs_background": "light"
     },
     "output_type": "display_data"
    }
   ],
   "source": [
    "plot_sklearn_regression(rf, test_tb.train.xs, test_tb.train.ys)\n",
    "plt.show()"
   ]
  }
 ],
 "metadata": {
  "_draft": {
   "nbviewer_url": "https://gist.github.com/dc7eb4d2965a6babe6ed2610b300f7b4"
  },
  "gist": {
   "data": {
    "description": "LiDAR predictions.ipynb",
    "public": true
   },
   "id": "dc7eb4d2965a6babe6ed2610b300f7b4"
  },
  "kernelspec": {
   "display_name": "Python 3",
   "language": "python",
   "name": "python3"
  },
  "language_info": {
   "codemirror_mode": {
    "name": "ipython",
    "version": 3
   },
   "file_extension": ".py",
   "mimetype": "text/x-python",
   "name": "python",
   "nbconvert_exporter": "python",
   "pygments_lexer": "ipython3",
   "version": "3.8.3"
  },
  "latex_envs": {
   "LaTeX_envs_menu_present": true,
   "autoclose": false,
   "autocomplete": true,
   "bibliofile": "biblio.bib",
   "cite_by": "apalike",
   "current_citInitial": 1,
   "eqLabelWithNumbers": true,
   "eqNumInitial": 1,
   "hotkeys": {
    "equation": "Ctrl-E",
    "itemize": "Ctrl-I"
   },
   "labels_anchors": false,
   "latex_user_defs": false,
   "report_style_numbering": false,
   "user_envs_cfg": false
  },
  "toc": {
   "base_numbering": 1,
   "nav_menu": {},
   "number_sections": true,
   "sideBar": true,
   "skip_h1_title": false,
   "title_cell": "Table of Contents",
   "title_sidebar": "Contents",
   "toc_cell": false,
   "toc_position": {
    "height": "calc(100% - 180px)",
    "left": "10px",
    "top": "150px",
    "width": "298px"
   },
   "toc_section_display": true,
   "toc_window_display": true
  }
 },
 "nbformat": 4,
 "nbformat_minor": 4
}
