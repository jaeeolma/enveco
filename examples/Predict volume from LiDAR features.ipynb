{
 "cells": [
  {
   "cell_type": "markdown",
   "metadata": {},
   "source": [
    "# Predict volume area from LiDAR features"
   ]
  },
  {
   "cell_type": "code",
   "execution_count": 1,
   "metadata": {
    "ExecuteTime": {
     "end_time": "2020-11-12T12:11:22.534799Z",
     "start_time": "2020-11-12T12:11:20.418770Z"
    }
   },
   "outputs": [],
   "source": [
    "from fastai.data.all import *\n",
    "from fastai.tabular.all import *\n",
    "from fastai.callback.progress import ShowGraphCallback"
   ]
  },
  {
   "cell_type": "code",
   "execution_count": 2,
   "metadata": {
    "ExecuteTime": {
     "end_time": "2020-11-12T12:11:22.857449Z",
     "start_time": "2020-11-12T12:11:22.537307Z"
    }
   },
   "outputs": [],
   "source": [
    "absolute_path = Path().absolute()\n",
    "sys.path.append(str(absolute_path.parents[0]))\n",
    "\n",
    "from enveco.tabular.preprocessing import *\n",
    "from enveco.interpretation import *\n",
    "from enveco.models.ensemble import *\n",
    "from enveco.metrics import *"
   ]
  },
  {
   "cell_type": "markdown",
   "metadata": {},
   "source": [
    "Run the example workflow for predicting the volume of the field plot from LiDAR-derived features."
   ]
  },
  {
   "cell_type": "markdown",
   "metadata": {},
   "source": [
    "# Read and preprocess data"
   ]
  },
  {
   "cell_type": "code",
   "execution_count": 3,
   "metadata": {
    "ExecuteTime": {
     "end_time": "2020-11-12T12:11:22.906361Z",
     "start_time": "2020-11-12T12:11:22.859121Z"
    }
   },
   "outputs": [],
   "source": [
    "#data_path = Path('../../../andras/ml/AV_leafon/')\n",
    "data_path = Path('../../enveco_data/enveco/')\n",
    "\n",
    "preprocessor = EnvecoPreprocessor(data_path/'AV.leaf.on.train.csv', \n",
    "                                  data_path/'AV.leaf.on.val.csv',\n",
    "                                  data_path/'AV.leaf.on.test.csv')"
   ]
  },
  {
   "cell_type": "markdown",
   "metadata": {},
   "source": [
    "Preprocess dataframes and extract lidar features from them. Specify which features are needed:\n",
    "\n",
    "* height_features\n",
    "* point_features\n",
    "* intensity_features\n",
    "* height_quantiles\n",
    "* point_proportions\n",
    "* canopy_densities\n",
    "\n",
    "Also, specify whether to `normalize` data (default: True) or to log-transform target column (default: False)"
   ]
  },
  {
   "cell_type": "code",
   "execution_count": 4,
   "metadata": {
    "ExecuteTime": {
     "end_time": "2020-11-12T12:11:22.931387Z",
     "start_time": "2020-11-12T12:11:22.908362Z"
    }
   },
   "outputs": [
    {
     "data": {
      "text/html": [
       "<div>\n",
       "<style scoped>\n",
       "    .dataframe tbody tr th:only-of-type {\n",
       "        vertical-align: middle;\n",
       "    }\n",
       "\n",
       "    .dataframe tbody tr th {\n",
       "        vertical-align: top;\n",
       "    }\n",
       "\n",
       "    .dataframe thead th {\n",
       "        text-align: right;\n",
       "    }\n",
       "</style>\n",
       "<table border=\"1\" class=\"dataframe\">\n",
       "  <thead>\n",
       "    <tr style=\"text-align: right;\">\n",
       "      <th></th>\n",
       "      <th>sampleplotid</th>\n",
       "      <th>x</th>\n",
       "      <th>y</th>\n",
       "      <th>measurementdate</th>\n",
       "      <th>g</th>\n",
       "      <th>d</th>\n",
       "      <th>h</th>\n",
       "      <th>v</th>\n",
       "      <th>v_ma</th>\n",
       "      <th>v_ku</th>\n",
       "      <th>v_lp</th>\n",
       "      <th>myear</th>\n",
       "      <th>filename_1</th>\n",
       "      <th>a_date_1</th>\n",
       "      <th>a_window_1</th>\n",
       "      <th>filename_2</th>\n",
       "      <th>a_date_2</th>\n",
       "      <th>a_window_2</th>\n",
       "      <th>v_lp_proc</th>\n",
       "      <th>is_valid</th>\n",
       "    </tr>\n",
       "  </thead>\n",
       "  <tbody>\n",
       "    <tr>\n",
       "      <th>0</th>\n",
       "      <td>901034</td>\n",
       "      <td>313598.50</td>\n",
       "      <td>6888193.46</td>\n",
       "      <td>2013</td>\n",
       "      <td>30.0</td>\n",
       "      <td>25.9</td>\n",
       "      <td>23.9</td>\n",
       "      <td>336.62</td>\n",
       "      <td>50.11</td>\n",
       "      <td>27.73</td>\n",
       "      <td>258.78</td>\n",
       "      <td>2013</td>\n",
       "      <td>/wrk/project_ogiir-csc/mml/laserkeilaus/2008_17_automaattinen/2013/20130114_BLOM_ahtari_block2_kesa/1/N4121B3.laz</td>\n",
       "      <td>2013-07-11</td>\n",
       "      <td>C</td>\n",
       "      <td>NaN</td>\n",
       "      <td>NaN</td>\n",
       "      <td>NaN</td>\n",
       "      <td>77</td>\n",
       "      <td>0</td>\n",
       "    </tr>\n",
       "    <tr>\n",
       "      <th>1</th>\n",
       "      <td>901038</td>\n",
       "      <td>314591.78</td>\n",
       "      <td>6888461.84</td>\n",
       "      <td>2013</td>\n",
       "      <td>18.6</td>\n",
       "      <td>16.0</td>\n",
       "      <td>15.9</td>\n",
       "      <td>146.00</td>\n",
       "      <td>142.50</td>\n",
       "      <td>0.00</td>\n",
       "      <td>3.50</td>\n",
       "      <td>2013</td>\n",
       "      <td>/wrk/project_ogiir-csc/mml/laserkeilaus/2008_17_automaattinen/2013/20130114_BLOM_ahtari_block2_kesa/1/N4121D1.laz</td>\n",
       "      <td>2013-07-11</td>\n",
       "      <td>C</td>\n",
       "      <td>NaN</td>\n",
       "      <td>NaN</td>\n",
       "      <td>NaN</td>\n",
       "      <td>2</td>\n",
       "      <td>0</td>\n",
       "    </tr>\n",
       "    <tr>\n",
       "      <th>2</th>\n",
       "      <td>901044</td>\n",
       "      <td>317890.37</td>\n",
       "      <td>6888182.49</td>\n",
       "      <td>2013</td>\n",
       "      <td>26.8</td>\n",
       "      <td>18.4</td>\n",
       "      <td>18.4</td>\n",
       "      <td>240.46</td>\n",
       "      <td>139.89</td>\n",
       "      <td>81.77</td>\n",
       "      <td>18.79</td>\n",
       "      <td>2013</td>\n",
       "      <td>/wrk/project_ogiir-csc/mml/laserkeilaus/2008_17_automaattinen/2013/20130114_BLOM_ahtari_block2_kesa/1/N4121D3.laz</td>\n",
       "      <td>2013-07-11</td>\n",
       "      <td>C</td>\n",
       "      <td>NaN</td>\n",
       "      <td>NaN</td>\n",
       "      <td>NaN</td>\n",
       "      <td>8</td>\n",
       "      <td>0</td>\n",
       "    </tr>\n",
       "    <tr>\n",
       "      <th>3</th>\n",
       "      <td>901048</td>\n",
       "      <td>318879.42</td>\n",
       "      <td>6888447.55</td>\n",
       "      <td>2013</td>\n",
       "      <td>34.3</td>\n",
       "      <td>20.2</td>\n",
       "      <td>19.3</td>\n",
       "      <td>321.29</td>\n",
       "      <td>72.10</td>\n",
       "      <td>172.35</td>\n",
       "      <td>76.84</td>\n",
       "      <td>2013</td>\n",
       "      <td>/wrk/project_ogiir-csc/mml/laserkeilaus/2008_17_automaattinen/2013/20130114_BLOM_ahtari_block2_kesa/1/N4121D3.laz</td>\n",
       "      <td>2013-07-11</td>\n",
       "      <td>C</td>\n",
       "      <td>NaN</td>\n",
       "      <td>NaN</td>\n",
       "      <td>NaN</td>\n",
       "      <td>24</td>\n",
       "      <td>0</td>\n",
       "    </tr>\n",
       "    <tr>\n",
       "      <th>4</th>\n",
       "      <td>901054</td>\n",
       "      <td>322193.41</td>\n",
       "      <td>6888196.04</td>\n",
       "      <td>2013</td>\n",
       "      <td>13.8</td>\n",
       "      <td>10.0</td>\n",
       "      <td>9.1</td>\n",
       "      <td>67.10</td>\n",
       "      <td>57.40</td>\n",
       "      <td>9.70</td>\n",
       "      <td>0.00</td>\n",
       "      <td>2013</td>\n",
       "      <td>/wrk/project_ogiir-csc/mml/laserkeilaus/2008_17_automaattinen/2013/20130114_BLOM_ahtari_block2_kesa/1/N4121F1.laz</td>\n",
       "      <td>2013-07-11</td>\n",
       "      <td>C</td>\n",
       "      <td>NaN</td>\n",
       "      <td>NaN</td>\n",
       "      <td>NaN</td>\n",
       "      <td>0</td>\n",
       "      <td>0</td>\n",
       "    </tr>\n",
       "  </tbody>\n",
       "</table>\n",
       "</div>"
      ],
      "text/plain": [
       "   sampleplotid          x           y  measurementdate     g     d     h  \\\n",
       "0        901034  313598.50  6888193.46             2013  30.0  25.9  23.9   \n",
       "1        901038  314591.78  6888461.84             2013  18.6  16.0  15.9   \n",
       "2        901044  317890.37  6888182.49             2013  26.8  18.4  18.4   \n",
       "3        901048  318879.42  6888447.55             2013  34.3  20.2  19.3   \n",
       "4        901054  322193.41  6888196.04             2013  13.8  10.0   9.1   \n",
       "\n",
       "        v    v_ma    v_ku    v_lp  myear  \\\n",
       "0  336.62   50.11   27.73  258.78   2013   \n",
       "1  146.00  142.50    0.00    3.50   2013   \n",
       "2  240.46  139.89   81.77   18.79   2013   \n",
       "3  321.29   72.10  172.35   76.84   2013   \n",
       "4   67.10   57.40    9.70    0.00   2013   \n",
       "\n",
       "                                                                                                          filename_1  \\\n",
       "0  /wrk/project_ogiir-csc/mml/laserkeilaus/2008_17_automaattinen/2013/20130114_BLOM_ahtari_block2_kesa/1/N4121B3.laz   \n",
       "1  /wrk/project_ogiir-csc/mml/laserkeilaus/2008_17_automaattinen/2013/20130114_BLOM_ahtari_block2_kesa/1/N4121D1.laz   \n",
       "2  /wrk/project_ogiir-csc/mml/laserkeilaus/2008_17_automaattinen/2013/20130114_BLOM_ahtari_block2_kesa/1/N4121D3.laz   \n",
       "3  /wrk/project_ogiir-csc/mml/laserkeilaus/2008_17_automaattinen/2013/20130114_BLOM_ahtari_block2_kesa/1/N4121D3.laz   \n",
       "4  /wrk/project_ogiir-csc/mml/laserkeilaus/2008_17_automaattinen/2013/20130114_BLOM_ahtari_block2_kesa/1/N4121F1.laz   \n",
       "\n",
       "     a_date_1 a_window_1  filename_2  a_date_2  a_window_2  v_lp_proc  \\\n",
       "0  2013-07-11          C         NaN       NaN         NaN         77   \n",
       "1  2013-07-11          C         NaN       NaN         NaN          2   \n",
       "2  2013-07-11          C         NaN       NaN         NaN          8   \n",
       "3  2013-07-11          C         NaN       NaN         NaN         24   \n",
       "4  2013-07-11          C         NaN       NaN         NaN          0   \n",
       "\n",
       "   is_valid  \n",
       "0         0  \n",
       "1         0  \n",
       "2         0  \n",
       "3         0  \n",
       "4         0  "
      ]
     },
     "execution_count": 4,
     "metadata": {},
     "output_type": "execute_result"
    }
   ],
   "source": [
    "preprocessor.train_df.head()"
   ]
  },
  {
   "cell_type": "code",
   "execution_count": 5,
   "metadata": {
    "ExecuteTime": {
     "end_time": "2020-11-12T12:14:19.797590Z",
     "start_time": "2020-11-12T12:11:22.932556Z"
    }
   },
   "outputs": [
    {
     "name": "stdout",
     "output_type": "stream",
     "text": [
      "Adding height based features\n",
      "Adding point distribution based features\n",
      "Adding intensity based features\n",
      "Adding height quantiles\n",
      "Adding point proportions\n",
      "Adding canopy densities\n"
     ]
    }
   ],
   "source": [
    "trainval_tb, test_tb = preprocessor.preprocess_lidar(target_col='v', path=data_path/'AV_las/', \n",
    "                                                     min_h=1.5,\n",
    "                                                     height_features=True,\n",
    "                                                     point_features=True, \n",
    "                                                     intensity_features=True, \n",
    "                                                     height_quantiles=True,\n",
    "                                                     point_proportions=True, \n",
    "                                                     canopy_densities=True,\n",
    "                                                     normalize=True,\n",
    "                                                     log_y=False)"
   ]
  },
  {
   "cell_type": "markdown",
   "metadata": {},
   "source": [
    "Previous method returns two `TabularPandas` objects. Put them to dataloaders."
   ]
  },
  {
   "cell_type": "code",
   "execution_count": 6,
   "metadata": {
    "ExecuteTime": {
     "end_time": "2020-11-12T12:14:19.826537Z",
     "start_time": "2020-11-12T12:14:19.799666Z"
    }
   },
   "outputs": [],
   "source": [
    "dls = trainval_tb.dataloaders(bs=64, y_block=RegressionBlock())"
   ]
  },
  {
   "cell_type": "markdown",
   "metadata": {},
   "source": [
    "Check the distribution of the target variable `g`, in order to get limits for `sigmoid_range`."
   ]
  },
  {
   "cell_type": "code",
   "execution_count": 7,
   "metadata": {
    "ExecuteTime": {
     "end_time": "2020-11-12T12:14:19.842535Z",
     "start_time": "2020-11-12T12:14:19.830087Z"
    }
   },
   "outputs": [
    {
     "data": {
      "text/plain": [
       "count    1044.000000\n",
       "mean      145.712250\n",
       "std        86.097336\n",
       "min         2.700000\n",
       "25%        80.927498\n",
       "50%       132.125000\n",
       "75%       191.305000\n",
       "max       867.349976\n",
       "Name: v, dtype: float64"
      ]
     },
     "execution_count": 7,
     "metadata": {},
     "output_type": "execute_result"
    }
   ],
   "source": [
    "trainval_tb.train.y.describe()"
   ]
  },
  {
   "cell_type": "code",
   "execution_count": 8,
   "metadata": {
    "ExecuteTime": {
     "end_time": "2020-11-12T12:14:19.859676Z",
     "start_time": "2020-11-12T12:14:19.848036Z"
    }
   },
   "outputs": [
    {
     "data": {
      "text/plain": [
       "count    225.000000\n",
       "mean     150.768631\n",
       "std       95.610825\n",
       "min        2.310000\n",
       "25%       87.419998\n",
       "50%      133.600006\n",
       "75%      191.639999\n",
       "max      539.479980\n",
       "Name: v, dtype: float64"
      ]
     },
     "execution_count": 8,
     "metadata": {},
     "output_type": "execute_result"
    }
   ],
   "source": [
    "trainval_tb.valid.y.describe()"
   ]
  },
  {
   "cell_type": "code",
   "execution_count": 9,
   "metadata": {
    "ExecuteTime": {
     "end_time": "2020-11-12T12:14:19.877469Z",
     "start_time": "2020-11-12T12:14:19.866061Z"
    }
   },
   "outputs": [
    {
     "data": {
      "text/plain": [
       "count    225.000000\n",
       "mean     152.013641\n",
       "std       97.223846\n",
       "min        7.000000\n",
       "25%       87.820000\n",
       "50%      134.979996\n",
       "75%      192.529999\n",
       "max      550.169983\n",
       "Name: v, dtype: float64"
      ]
     },
     "execution_count": 9,
     "metadata": {},
     "output_type": "execute_result"
    }
   ],
   "source": [
    "test_tb.train.y.describe()"
   ]
  },
  {
   "cell_type": "markdown",
   "metadata": {},
   "source": [
    "# ANN"
   ]
  },
  {
   "cell_type": "markdown",
   "metadata": {},
   "source": [
    "Create `Learner` object. Specify y_range to better control the training, set 70 m² as the maximum value for basal area.\n",
    "\n",
    "Loss function is Mean Squared Error, monitor also Root Mean Squared Error, mean-normalized RMSE, Mean Absolute Error, R2Score, bias and mean-scaled bias. Target variable is log-transformed, so all metrics are log-equivalents (so MSLE, RMSLE...)."
   ]
  },
  {
   "cell_type": "code",
   "execution_count": 122,
   "metadata": {
    "ExecuteTime": {
     "end_time": "2020-11-12T14:24:07.144514Z",
     "start_time": "2020-11-12T14:24:07.121973Z"
    }
   },
   "outputs": [
    {
     "data": {
      "text/html": [
       "<table border=\"1\" class=\"dataframe\">\n",
       "  <thead>\n",
       "    <tr style=\"text-align: left;\">\n",
       "      <th>epoch</th>\n",
       "      <th>train_loss</th>\n",
       "      <th>valid_loss</th>\n",
       "      <th>_rmse</th>\n",
       "      <th>_rrmse</th>\n",
       "      <th>_bias</th>\n",
       "      <th>_bias_pct</th>\n",
       "      <th>mae</th>\n",
       "      <th>r2_score</th>\n",
       "      <th>time</th>\n",
       "    </tr>\n",
       "  </thead>\n",
       "  <tbody>\n",
       "    <tr>\n",
       "      <td>0</td>\n",
       "      <td>None</td>\n",
       "      <td>None</td>\n",
       "      <td>None</td>\n",
       "      <td>None</td>\n",
       "      <td>None</td>\n",
       "      <td>None</td>\n",
       "      <td>None</td>\n",
       "      <td>00:00</td>\n",
       "    </tr>\n",
       "  </tbody>\n",
       "</table>"
      ],
      "text/plain": [
       "<IPython.core.display.HTML object>"
      ]
     },
     "metadata": {},
     "output_type": "display_data"
    },
    {
     "data": {
      "text/plain": [
       "TabularModel (Input shape: ['64 x 0', '64 x 58'])\n",
       "================================================================\n",
       "Layer (type)         Output Shape         Param #    Trainable \n",
       "================================================================\n",
       "BatchNorm1d          64 x 58              116        True      \n",
       "________________________________________________________________\n",
       "BatchNorm1d          64 x 58              116        True      \n",
       "________________________________________________________________\n",
       "Linear               64 x 200             11,600     True      \n",
       "________________________________________________________________\n",
       "ReLU                 64 x 100             0          False     \n",
       "________________________________________________________________\n",
       "BatchNorm1d          64 x 200             400        True      \n",
       "________________________________________________________________\n",
       "Linear               64 x 100             20,000     True      \n",
       "________________________________________________________________\n",
       "ReLU                 64 x 100             0          False     \n",
       "________________________________________________________________\n",
       "Linear               64 x 1               101        True      \n",
       "________________________________________________________________\n",
       "SigmoidRange         64 x 1               0          False     \n",
       "________________________________________________________________\n",
       "\n",
       "Total params: 32,333\n",
       "Total trainable params: 32,333\n",
       "Total non-trainable params: 0\n",
       "\n",
       "Optimizer used: <function Adam at 0x7f0ff9d8e670>\n",
       "Loss function: FlattenedLoss of MSELoss()\n",
       "\n",
       "Callbacks:\n",
       "  - TrainEvalCallback\n",
       "  - Recorder\n",
       "  - ProgressCallback"
      ]
     },
     "execution_count": 122,
     "metadata": {},
     "output_type": "execute_result"
    }
   ],
   "source": [
    "learn = tabular_learner(dls, metrics=[rmse, rrmse, bias, bias_pct, mae, R2Score()],  y_range=(0,1000))\n",
    "learn.summary()"
   ]
  },
  {
   "cell_type": "markdown",
   "metadata": {
    "ExecuteTime": {
     "end_time": "2020-11-02T12:15:14.763168Z",
     "start_time": "2020-11-02T12:15:14.758250Z"
    }
   },
   "source": [
    "Find learning rate to use."
   ]
  },
  {
   "cell_type": "code",
   "execution_count": 123,
   "metadata": {
    "ExecuteTime": {
     "end_time": "2020-11-12T14:24:09.485316Z",
     "start_time": "2020-11-12T14:24:07.993184Z"
    }
   },
   "outputs": [
    {
     "data": {
      "text/html": [],
      "text/plain": [
       "<IPython.core.display.HTML object>"
      ]
     },
     "metadata": {},
     "output_type": "display_data"
    },
    {
     "data": {
      "text/plain": [
       "SuggestedLRs(lr_min=0.33113112449646, lr_steep=0.002511886414140463)"
      ]
     },
     "execution_count": 123,
     "metadata": {},
     "output_type": "execute_result"
    },
    {
     "data": {
      "image/png": "[encoded data removed]",
      "text/plain": [
       "<Figure size 432x288 with 1 Axes>"
      ]
     },
     "metadata": {
      "needs_background": "light"
     },
     "output_type": "display_data"
    }
   ],
   "source": [
    "learn.lr_find()"
   ]
  },
  {
   "cell_type": "markdown",
   "metadata": {},
   "source": [
    "1e-2 seems to be a good learning rate."
   ]
  },
  {
   "cell_type": "code",
   "execution_count": 124,
   "metadata": {
    "ExecuteTime": {
     "end_time": "2020-11-12T14:24:17.417014Z",
     "start_time": "2020-11-12T14:24:10.042861Z"
    },
    "scrolled": false
   },
   "outputs": [
    {
     "data": {
      "text/html": [
       "<table border=\"1\" class=\"dataframe\">\n",
       "  <thead>\n",
       "    <tr style=\"text-align: left;\">\n",
       "      <th>epoch</th>\n",
       "      <th>train_loss</th>\n",
       "      <th>valid_loss</th>\n",
       "      <th>_rmse</th>\n",
       "      <th>_rrmse</th>\n",
       "      <th>_bias</th>\n",
       "      <th>_bias_pct</th>\n",
       "      <th>mae</th>\n",
       "      <th>r2_score</th>\n",
       "      <th>time</th>\n",
       "    </tr>\n",
       "  </thead>\n",
       "  <tbody>\n",
       "    <tr>\n",
       "      <td>0</td>\n",
       "      <td>95410.093750</td>\n",
       "      <td>102544.554688</td>\n",
       "      <td>320.225800</td>\n",
       "      <td>212.395508</td>\n",
       "      <td>305.021881</td>\n",
       "      <td>202.311234</td>\n",
       "      <td>307.052185</td>\n",
       "      <td>-10.267640</td>\n",
       "      <td>00:00</td>\n",
       "    </tr>\n",
       "    <tr>\n",
       "      <td>1</td>\n",
       "      <td>76925.812500</td>\n",
       "      <td>48783.894531</td>\n",
       "      <td>220.870758</td>\n",
       "      <td>146.496506</td>\n",
       "      <td>201.181625</td>\n",
       "      <td>133.437317</td>\n",
       "      <td>207.513763</td>\n",
       "      <td>-4.360395</td>\n",
       "      <td>00:00</td>\n",
       "    </tr>\n",
       "    <tr>\n",
       "      <td>2</td>\n",
       "      <td>52579.570312</td>\n",
       "      <td>10041.494141</td>\n",
       "      <td>100.207253</td>\n",
       "      <td>66.464256</td>\n",
       "      <td>68.081009</td>\n",
       "      <td>45.155952</td>\n",
       "      <td>83.844017</td>\n",
       "      <td>-0.103364</td>\n",
       "      <td>00:00</td>\n",
       "    </tr>\n",
       "    <tr>\n",
       "      <td>3</td>\n",
       "      <td>34076.867188</td>\n",
       "      <td>2657.426270</td>\n",
       "      <td>51.550236</td>\n",
       "      <td>34.191620</td>\n",
       "      <td>16.522881</td>\n",
       "      <td>10.959097</td>\n",
       "      <td>37.353462</td>\n",
       "      <td>0.708001</td>\n",
       "      <td>00:00</td>\n",
       "    </tr>\n",
       "    <tr>\n",
       "      <td>4</td>\n",
       "      <td>23108.537109</td>\n",
       "      <td>1834.187256</td>\n",
       "      <td>42.827412</td>\n",
       "      <td>28.406048</td>\n",
       "      <td>2.761526</td>\n",
       "      <td>1.831632</td>\n",
       "      <td>29.976576</td>\n",
       "      <td>0.798459</td>\n",
       "      <td>00:00</td>\n",
       "    </tr>\n",
       "    <tr>\n",
       "      <td>5</td>\n",
       "      <td>16279.401367</td>\n",
       "      <td>1606.851562</td>\n",
       "      <td>40.085556</td>\n",
       "      <td>26.587465</td>\n",
       "      <td>2.040589</td>\n",
       "      <td>1.353457</td>\n",
       "      <td>28.666290</td>\n",
       "      <td>0.823438</td>\n",
       "      <td>00:00</td>\n",
       "    </tr>\n",
       "    <tr>\n",
       "      <td>6</td>\n",
       "      <td>11789.228516</td>\n",
       "      <td>1597.250366</td>\n",
       "      <td>39.965614</td>\n",
       "      <td>26.507912</td>\n",
       "      <td>10.053406</td>\n",
       "      <td>6.668102</td>\n",
       "      <td>27.887674</td>\n",
       "      <td>0.824493</td>\n",
       "      <td>00:00</td>\n",
       "    </tr>\n",
       "    <tr>\n",
       "      <td>7</td>\n",
       "      <td>8695.333984</td>\n",
       "      <td>1546.712036</td>\n",
       "      <td>39.328262</td>\n",
       "      <td>26.085176</td>\n",
       "      <td>-2.330109</td>\n",
       "      <td>-1.545487</td>\n",
       "      <td>27.968494</td>\n",
       "      <td>0.830047</td>\n",
       "      <td>00:00</td>\n",
       "    </tr>\n",
       "    <tr>\n",
       "      <td>8</td>\n",
       "      <td>6560.725586</td>\n",
       "      <td>1284.006958</td>\n",
       "      <td>35.833042</td>\n",
       "      <td>23.766909</td>\n",
       "      <td>5.382875</td>\n",
       "      <td>3.570288</td>\n",
       "      <td>24.828186</td>\n",
       "      <td>0.858913</td>\n",
       "      <td>00:00</td>\n",
       "    </tr>\n",
       "    <tr>\n",
       "      <td>9</td>\n",
       "      <td>5055.888184</td>\n",
       "      <td>1374.727417</td>\n",
       "      <td>37.077316</td>\n",
       "      <td>24.592196</td>\n",
       "      <td>7.689839</td>\n",
       "      <td>5.100424</td>\n",
       "      <td>25.140179</td>\n",
       "      <td>0.848944</td>\n",
       "      <td>00:00</td>\n",
       "    </tr>\n",
       "    <tr>\n",
       "      <td>10</td>\n",
       "      <td>3975.741943</td>\n",
       "      <td>1344.710327</td>\n",
       "      <td>36.670288</td>\n",
       "      <td>24.322227</td>\n",
       "      <td>10.443992</td>\n",
       "      <td>6.927165</td>\n",
       "      <td>25.044392</td>\n",
       "      <td>0.852243</td>\n",
       "      <td>00:00</td>\n",
       "    </tr>\n",
       "    <tr>\n",
       "      <td>11</td>\n",
       "      <td>3163.527588</td>\n",
       "      <td>1428.479492</td>\n",
       "      <td>37.795231</td>\n",
       "      <td>25.068367</td>\n",
       "      <td>9.831246</td>\n",
       "      <td>6.520751</td>\n",
       "      <td>25.430590</td>\n",
       "      <td>0.843038</td>\n",
       "      <td>00:00</td>\n",
       "    </tr>\n",
       "    <tr>\n",
       "      <td>12</td>\n",
       "      <td>2636.906250</td>\n",
       "      <td>1471.521118</td>\n",
       "      <td>38.360413</td>\n",
       "      <td>25.443232</td>\n",
       "      <td>10.311539</td>\n",
       "      <td>6.839313</td>\n",
       "      <td>25.689428</td>\n",
       "      <td>0.838309</td>\n",
       "      <td>00:00</td>\n",
       "    </tr>\n",
       "    <tr>\n",
       "      <td>13</td>\n",
       "      <td>2220.616211</td>\n",
       "      <td>1170.674683</td>\n",
       "      <td>34.215122</td>\n",
       "      <td>22.693794</td>\n",
       "      <td>4.606595</td>\n",
       "      <td>3.055407</td>\n",
       "      <td>23.705097</td>\n",
       "      <td>0.871366</td>\n",
       "      <td>00:00</td>\n",
       "    </tr>\n",
       "    <tr>\n",
       "      <td>14</td>\n",
       "      <td>1891.250366</td>\n",
       "      <td>1202.446167</td>\n",
       "      <td>34.676308</td>\n",
       "      <td>22.999683</td>\n",
       "      <td>7.467947</td>\n",
       "      <td>4.953250</td>\n",
       "      <td>24.156742</td>\n",
       "      <td>0.867875</td>\n",
       "      <td>00:00</td>\n",
       "    </tr>\n",
       "    <tr>\n",
       "      <td>15</td>\n",
       "      <td>1672.640137</td>\n",
       "      <td>1178.943481</td>\n",
       "      <td>34.335747</td>\n",
       "      <td>22.773800</td>\n",
       "      <td>5.244442</td>\n",
       "      <td>3.478471</td>\n",
       "      <td>23.579254</td>\n",
       "      <td>0.870457</td>\n",
       "      <td>00:00</td>\n",
       "    </tr>\n",
       "    <tr>\n",
       "      <td>16</td>\n",
       "      <td>1496.907349</td>\n",
       "      <td>1176.787476</td>\n",
       "      <td>34.304337</td>\n",
       "      <td>22.752968</td>\n",
       "      <td>5.969101</td>\n",
       "      <td>3.959114</td>\n",
       "      <td>23.688995</td>\n",
       "      <td>0.870694</td>\n",
       "      <td>00:00</td>\n",
       "    </tr>\n",
       "    <tr>\n",
       "      <td>17</td>\n",
       "      <td>1396.301270</td>\n",
       "      <td>1175.252930</td>\n",
       "      <td>34.281963</td>\n",
       "      <td>22.738127</td>\n",
       "      <td>4.771314</td>\n",
       "      <td>3.164660</td>\n",
       "      <td>23.644417</td>\n",
       "      <td>0.870863</td>\n",
       "      <td>00:00</td>\n",
       "    </tr>\n",
       "    <tr>\n",
       "      <td>18</td>\n",
       "      <td>1273.729492</td>\n",
       "      <td>1184.607666</td>\n",
       "      <td>34.418133</td>\n",
       "      <td>22.828445</td>\n",
       "      <td>5.434595</td>\n",
       "      <td>3.604593</td>\n",
       "      <td>23.630705</td>\n",
       "      <td>0.869835</td>\n",
       "      <td>00:00</td>\n",
       "    </tr>\n",
       "    <tr>\n",
       "      <td>19</td>\n",
       "      <td>1211.494385</td>\n",
       "      <td>1226.705811</td>\n",
       "      <td>35.024361</td>\n",
       "      <td>23.230536</td>\n",
       "      <td>8.168581</td>\n",
       "      <td>5.417958</td>\n",
       "      <td>24.208544</td>\n",
       "      <td>0.865209</td>\n",
       "      <td>00:00</td>\n",
       "    </tr>\n",
       "  </tbody>\n",
       "</table>"
      ],
      "text/plain": [
       "<IPython.core.display.HTML object>"
      ]
     },
     "metadata": {},
     "output_type": "display_data"
    },
    {
     "data": {
      "image/png": "[encoded data removed]",
      "text/plain": [
       "<Figure size 432x288 with 1 Axes>"
      ]
     },
     "metadata": {},
     "output_type": "display_data"
    }
   ],
   "source": [
    "learn.fit_one_cycle(20, max_lr=1e-2, cbs=ShowGraphCallback())"
   ]
  },
  {
   "cell_type": "code",
   "execution_count": 125,
   "metadata": {
    "ExecuteTime": {
     "end_time": "2020-11-12T14:24:55.933386Z",
     "start_time": "2020-11-12T14:24:55.888680Z"
    }
   },
   "outputs": [
    {
     "data": {
      "text/html": [],
      "text/plain": [
       "<IPython.core.display.HTML object>"
      ]
     },
     "metadata": {},
     "output_type": "display_data"
    }
   ],
   "source": [
    "preds, true = learn.get_preds()"
   ]
  },
  {
   "cell_type": "code",
   "execution_count": 126,
   "metadata": {
    "ExecuteTime": {
     "end_time": "2020-11-12T14:24:56.150162Z",
     "start_time": "2020-11-12T14:24:56.146818Z"
    }
   },
   "outputs": [
    {
     "data": {
      "text/plain": [
       "torch.Size([225, 1])"
      ]
     },
     "execution_count": 126,
     "metadata": {},
     "output_type": "execute_result"
    }
   ],
   "source": [
    "preds.shape"
   ]
  },
  {
   "cell_type": "markdown",
   "metadata": {},
   "source": [
    "See validation results"
   ]
  },
  {
   "cell_type": "code",
   "execution_count": 127,
   "metadata": {
    "ExecuteTime": {
     "end_time": "2020-11-12T14:24:56.703372Z",
     "start_time": "2020-11-12T14:24:56.645787Z"
    }
   },
   "outputs": [
    {
     "data": {
      "text/html": [],
      "text/plain": [
       "<IPython.core.display.HTML object>"
      ]
     },
     "metadata": {},
     "output_type": "display_data"
    },
    {
     "data": {
      "text/plain": [
       "(#7) [1226.705810546875,35.02436065673828,23.23053550720215,8.168581008911133,5.417957782745361,24.20854377746582,0.8652090361983558]"
      ]
     },
     "execution_count": 127,
     "metadata": {},
     "output_type": "execute_result"
    }
   ],
   "source": [
    "learn.validate()"
   ]
  },
  {
   "cell_type": "markdown",
   "metadata": {},
   "source": [
    "`RegressionInterpretation` can be used to plot results."
   ]
  },
  {
   "cell_type": "code",
   "execution_count": 128,
   "metadata": {
    "ExecuteTime": {
     "end_time": "2020-11-12T14:24:57.280107Z",
     "start_time": "2020-11-12T14:24:57.236619Z"
    }
   },
   "outputs": [
    {
     "data": {
      "text/html": [],
      "text/plain": [
       "<IPython.core.display.HTML object>"
      ]
     },
     "metadata": {},
     "output_type": "display_data"
    }
   ],
   "source": [
    "reg_interp = RegressionInterpretation.from_learner(learn, ds_idx=1)"
   ]
  },
  {
   "cell_type": "code",
   "execution_count": 129,
   "metadata": {
    "ExecuteTime": {
     "end_time": "2020-11-12T14:24:57.796862Z",
     "start_time": "2020-11-12T14:24:57.501791Z"
    }
   },
   "outputs": [
    {
     "data": {
      "image/png": "[encoded data removed]",
      "text/plain": [
       "<Figure size 504x432 with 2 Axes>"
      ]
     },
     "metadata": {
      "needs_background": "light"
     },
     "output_type": "display_data"
    }
   ],
   "source": [
    "reg_interp.plot_results()\n",
    "plt.show()"
   ]
  },
  {
   "cell_type": "markdown",
   "metadata": {},
   "source": [
    "Evaluate test set."
   ]
  },
  {
   "cell_type": "code",
   "execution_count": 130,
   "metadata": {
    "ExecuteTime": {
     "end_time": "2020-11-12T14:24:58.408043Z",
     "start_time": "2020-11-12T14:24:58.397333Z"
    }
   },
   "outputs": [],
   "source": [
    "test_dls = test_tb.dataloaders(y_block=RegressionBlock(), shuffle_train=False, drop_last=False)"
   ]
  },
  {
   "cell_type": "code",
   "execution_count": 131,
   "metadata": {
    "ExecuteTime": {
     "end_time": "2020-11-12T14:24:58.599905Z",
     "start_time": "2020-11-12T14:24:58.557257Z"
    }
   },
   "outputs": [
    {
     "data": {
      "text/html": [],
      "text/plain": [
       "<IPython.core.display.HTML object>"
      ]
     },
     "metadata": {},
     "output_type": "display_data"
    }
   ],
   "source": [
    "test_interp = RegressionInterpretation.from_learner(learn, dl=test_dls.train, ds_idx=0)"
   ]
  },
  {
   "cell_type": "code",
   "execution_count": 132,
   "metadata": {
    "ExecuteTime": {
     "end_time": "2020-11-12T14:24:59.027490Z",
     "start_time": "2020-11-12T14:24:58.734956Z"
    }
   },
   "outputs": [
    {
     "data": {
      "image/png": "[encoded data removed]",
      "text/plain": [
       "<Figure size 504x432 with 2 Axes>"
      ]
     },
     "metadata": {
      "needs_background": "light"
     },
     "output_type": "display_data"
    }
   ],
   "source": [
    "test_interp.plot_results()\n",
    "plt.show()"
   ]
  },
  {
   "cell_type": "markdown",
   "metadata": {},
   "source": [
    "# Ensemble of ANNs"
   ]
  },
  {
   "cell_type": "markdown",
   "metadata": {},
   "source": [
    "Fit several models at once."
   ]
  },
  {
   "cell_type": "code",
   "execution_count": 147,
   "metadata": {
    "ExecuteTime": {
     "end_time": "2020-11-13T09:19:14.821641Z",
     "start_time": "2020-11-13T09:19:14.799520Z"
    }
   },
   "outputs": [],
   "source": [
    "ensemble = Ensemble(dls, learn_cls=tabular_learner,\n",
    "                            y_range=(0,1000), \n",
    "                            metrics=[rmse, rrmse, bias, bias_pct, mae, R2Score()], \n",
    "                            n_models=10)"
   ]
  },
  {
   "cell_type": "code",
   "execution_count": 148,
   "metadata": {
    "ExecuteTime": {
     "end_time": "2020-11-13T09:19:34.196445Z",
     "start_time": "2020-11-13T09:19:15.898045Z"
    },
    "scrolled": true
   },
   "outputs": [
    {
     "data": {
      "text/html": [
       "<table border=\"1\" class=\"dataframe\">\n",
       "  <thead>\n",
       "    <tr style=\"text-align: left;\">\n",
       "      <th>epoch</th>\n",
       "      <th>train_loss</th>\n",
       "      <th>valid_loss</th>\n",
       "      <th>_rmse</th>\n",
       "      <th>_rrmse</th>\n",
       "      <th>_bias</th>\n",
       "      <th>_bias_pct</th>\n",
       "      <th>mae</th>\n",
       "      <th>r2_score</th>\n",
       "      <th>time</th>\n",
       "    </tr>\n",
       "  </thead>\n",
       "  <tbody>\n",
       "    <tr>\n",
       "      <td>0</td>\n",
       "      <td>106654.500000</td>\n",
       "      <td>99838.257812</td>\n",
       "      <td>315.971924</td>\n",
       "      <td>209.574051</td>\n",
       "      <td>305.546600</td>\n",
       "      <td>202.659271</td>\n",
       "      <td>307.198608</td>\n",
       "      <td>-9.970271</td>\n",
       "      <td>00:00</td>\n",
       "    </tr>\n",
       "    <tr>\n",
       "      <td>1</td>\n",
       "      <td>70539.679688</td>\n",
       "      <td>20737.630859</td>\n",
       "      <td>144.005661</td>\n",
       "      <td>95.514336</td>\n",
       "      <td>108.998688</td>\n",
       "      <td>72.295341</td>\n",
       "      <td>125.612732</td>\n",
       "      <td>-1.278660</td>\n",
       "      <td>00:00</td>\n",
       "    </tr>\n",
       "    <tr>\n",
       "      <td>2</td>\n",
       "      <td>41572.636719</td>\n",
       "      <td>3801.975586</td>\n",
       "      <td>61.660160</td>\n",
       "      <td>40.897209</td>\n",
       "      <td>25.803501</td>\n",
       "      <td>17.114635</td>\n",
       "      <td>44.479805</td>\n",
       "      <td>0.582237</td>\n",
       "      <td>00:00</td>\n",
       "    </tr>\n",
       "    <tr>\n",
       "      <td>3</td>\n",
       "      <td>26559.503906</td>\n",
       "      <td>2573.074219</td>\n",
       "      <td>50.725475</td>\n",
       "      <td>33.644581</td>\n",
       "      <td>11.807764</td>\n",
       "      <td>7.831711</td>\n",
       "      <td>35.345818</td>\n",
       "      <td>0.717270</td>\n",
       "      <td>00:00</td>\n",
       "    </tr>\n",
       "    <tr>\n",
       "      <td>4</td>\n",
       "      <td>18054.958984</td>\n",
       "      <td>1946.076660</td>\n",
       "      <td>44.114357</td>\n",
       "      <td>29.259640</td>\n",
       "      <td>6.749962</td>\n",
       "      <td>4.477034</td>\n",
       "      <td>31.482615</td>\n",
       "      <td>0.786164</td>\n",
       "      <td>00:00</td>\n",
       "    </tr>\n",
       "    <tr>\n",
       "      <td>5</td>\n",
       "      <td>12717.503906</td>\n",
       "      <td>1937.241089</td>\n",
       "      <td>44.014099</td>\n",
       "      <td>29.193142</td>\n",
       "      <td>8.052458</td>\n",
       "      <td>5.340937</td>\n",
       "      <td>31.681200</td>\n",
       "      <td>0.787135</td>\n",
       "      <td>00:00</td>\n",
       "    </tr>\n",
       "    <tr>\n",
       "      <td>6</td>\n",
       "      <td>9253.013672</td>\n",
       "      <td>1854.666626</td>\n",
       "      <td>43.065845</td>\n",
       "      <td>28.564194</td>\n",
       "      <td>10.844941</td>\n",
       "      <td>7.193102</td>\n",
       "      <td>30.652800</td>\n",
       "      <td>0.796208</td>\n",
       "      <td>00:00</td>\n",
       "    </tr>\n",
       "    <tr>\n",
       "      <td>7</td>\n",
       "      <td>6941.263184</td>\n",
       "      <td>1829.484253</td>\n",
       "      <td>42.772472</td>\n",
       "      <td>28.369608</td>\n",
       "      <td>9.778503</td>\n",
       "      <td>6.485768</td>\n",
       "      <td>30.272009</td>\n",
       "      <td>0.798975</td>\n",
       "      <td>00:00</td>\n",
       "    </tr>\n",
       "    <tr>\n",
       "      <td>8</td>\n",
       "      <td>5303.899902</td>\n",
       "      <td>1845.042969</td>\n",
       "      <td>42.953964</td>\n",
       "      <td>28.489988</td>\n",
       "      <td>10.064572</td>\n",
       "      <td>6.675508</td>\n",
       "      <td>29.873758</td>\n",
       "      <td>0.797266</td>\n",
       "      <td>00:00</td>\n",
       "    </tr>\n",
       "    <tr>\n",
       "      <td>9</td>\n",
       "      <td>4152.965820</td>\n",
       "      <td>1839.409424</td>\n",
       "      <td>42.888336</td>\n",
       "      <td>28.446461</td>\n",
       "      <td>9.496422</td>\n",
       "      <td>6.298672</td>\n",
       "      <td>29.928082</td>\n",
       "      <td>0.797885</td>\n",
       "      <td>00:00</td>\n",
       "    </tr>\n",
       "  </tbody>\n",
       "</table>"
      ],
      "text/plain": [
       "<IPython.core.display.HTML object>"
      ]
     },
     "metadata": {},
     "output_type": "display_data"
    },
    {
     "data": {
      "text/html": [
       "<table border=\"1\" class=\"dataframe\">\n",
       "  <thead>\n",
       "    <tr style=\"text-align: left;\">\n",
       "      <th>epoch</th>\n",
       "      <th>train_loss</th>\n",
       "      <th>valid_loss</th>\n",
       "      <th>_rmse</th>\n",
       "      <th>_rrmse</th>\n",
       "      <th>_bias</th>\n",
       "      <th>_bias_pct</th>\n",
       "      <th>mae</th>\n",
       "      <th>r2_score</th>\n",
       "      <th>time</th>\n",
       "    </tr>\n",
       "  </thead>\n",
       "  <tbody>\n",
       "    <tr>\n",
       "      <td>0</td>\n",
       "      <td>167840.093750</td>\n",
       "      <td>131554.109375</td>\n",
       "      <td>362.703888</td>\n",
       "      <td>240.569855</td>\n",
       "      <td>351.542938</td>\n",
       "      <td>233.167160</td>\n",
       "      <td>351.619293</td>\n",
       "      <td>-13.455223</td>\n",
       "      <td>00:00</td>\n",
       "    </tr>\n",
       "    <tr>\n",
       "      <td>1</td>\n",
       "      <td>118121.312500</td>\n",
       "      <td>37806.882812</td>\n",
       "      <td>194.439911</td>\n",
       "      <td>128.965759</td>\n",
       "      <td>163.357010</td>\n",
       "      <td>108.349472</td>\n",
       "      <td>174.347565</td>\n",
       "      <td>-3.154237</td>\n",
       "      <td>00:00</td>\n",
       "    </tr>\n",
       "    <tr>\n",
       "      <td>2</td>\n",
       "      <td>71230.570312</td>\n",
       "      <td>7137.229004</td>\n",
       "      <td>84.482124</td>\n",
       "      <td>56.034286</td>\n",
       "      <td>47.777843</td>\n",
       "      <td>31.689510</td>\n",
       "      <td>61.368668</td>\n",
       "      <td>0.215758</td>\n",
       "      <td>00:00</td>\n",
       "    </tr>\n",
       "    <tr>\n",
       "      <td>3</td>\n",
       "      <td>45230.562500</td>\n",
       "      <td>3657.028809</td>\n",
       "      <td>60.473370</td>\n",
       "      <td>40.110050</td>\n",
       "      <td>13.168231</td>\n",
       "      <td>8.734066</td>\n",
       "      <td>41.449245</td>\n",
       "      <td>0.598164</td>\n",
       "      <td>00:00</td>\n",
       "    </tr>\n",
       "    <tr>\n",
       "      <td>4</td>\n",
       "      <td>30503.640625</td>\n",
       "      <td>2199.189453</td>\n",
       "      <td>46.895515</td>\n",
       "      <td>31.104294</td>\n",
       "      <td>-1.338998</td>\n",
       "      <td>-0.888114</td>\n",
       "      <td>32.928169</td>\n",
       "      <td>0.758352</td>\n",
       "      <td>00:00</td>\n",
       "    </tr>\n",
       "    <tr>\n",
       "      <td>5</td>\n",
       "      <td>21397.316406</td>\n",
       "      <td>2592.462891</td>\n",
       "      <td>50.916229</td>\n",
       "      <td>33.771103</td>\n",
       "      <td>12.318184</td>\n",
       "      <td>8.170257</td>\n",
       "      <td>34.926102</td>\n",
       "      <td>0.715139</td>\n",
       "      <td>00:00</td>\n",
       "    </tr>\n",
       "    <tr>\n",
       "      <td>6</td>\n",
       "      <td>15387.084961</td>\n",
       "      <td>1825.801392</td>\n",
       "      <td>42.729401</td>\n",
       "      <td>28.341043</td>\n",
       "      <td>2.546406</td>\n",
       "      <td>1.688949</td>\n",
       "      <td>30.267776</td>\n",
       "      <td>0.799380</td>\n",
       "      <td>00:00</td>\n",
       "    </tr>\n",
       "    <tr>\n",
       "      <td>7</td>\n",
       "      <td>11344.608398</td>\n",
       "      <td>1773.525879</td>\n",
       "      <td>42.113251</td>\n",
       "      <td>27.932369</td>\n",
       "      <td>4.234056</td>\n",
       "      <td>2.808314</td>\n",
       "      <td>30.040148</td>\n",
       "      <td>0.805124</td>\n",
       "      <td>00:00</td>\n",
       "    </tr>\n",
       "    <tr>\n",
       "      <td>8</td>\n",
       "      <td>8546.555664</td>\n",
       "      <td>1799.884277</td>\n",
       "      <td>42.425041</td>\n",
       "      <td>28.139172</td>\n",
       "      <td>6.440238</td>\n",
       "      <td>4.271604</td>\n",
       "      <td>30.348488</td>\n",
       "      <td>0.802228</td>\n",
       "      <td>00:00</td>\n",
       "    </tr>\n",
       "    <tr>\n",
       "      <td>9</td>\n",
       "      <td>6584.521973</td>\n",
       "      <td>1749.502686</td>\n",
       "      <td>41.827053</td>\n",
       "      <td>27.742544</td>\n",
       "      <td>3.437002</td>\n",
       "      <td>2.279654</td>\n",
       "      <td>29.854105</td>\n",
       "      <td>0.807764</td>\n",
       "      <td>00:00</td>\n",
       "    </tr>\n",
       "  </tbody>\n",
       "</table>"
      ],
      "text/plain": [
       "<IPython.core.display.HTML object>"
      ]
     },
     "metadata": {},
     "output_type": "display_data"
    },
    {
     "data": {
      "text/html": [
       "<table border=\"1\" class=\"dataframe\">\n",
       "  <thead>\n",
       "    <tr style=\"text-align: left;\">\n",
       "      <th>epoch</th>\n",
       "      <th>train_loss</th>\n",
       "      <th>valid_loss</th>\n",
       "      <th>_rmse</th>\n",
       "      <th>_rrmse</th>\n",
       "      <th>_bias</th>\n",
       "      <th>_bias_pct</th>\n",
       "      <th>mae</th>\n",
       "      <th>r2_score</th>\n",
       "      <th>time</th>\n",
       "    </tr>\n",
       "  </thead>\n",
       "  <tbody>\n",
       "    <tr>\n",
       "      <td>0</td>\n",
       "      <td>148174.453125</td>\n",
       "      <td>121613.726562</td>\n",
       "      <td>348.731598</td>\n",
       "      <td>231.302505</td>\n",
       "      <td>337.953827</td>\n",
       "      <td>224.153946</td>\n",
       "      <td>338.755219</td>\n",
       "      <td>-12.362967</td>\n",
       "      <td>00:00</td>\n",
       "    </tr>\n",
       "    <tr>\n",
       "      <td>1</td>\n",
       "      <td>101506.632812</td>\n",
       "      <td>32883.750000</td>\n",
       "      <td>181.338760</td>\n",
       "      <td>120.276192</td>\n",
       "      <td>139.774780</td>\n",
       "      <td>92.708138</td>\n",
       "      <td>156.889908</td>\n",
       "      <td>-2.613280</td>\n",
       "      <td>00:00</td>\n",
       "    </tr>\n",
       "    <tr>\n",
       "      <td>2</td>\n",
       "      <td>61152.062500</td>\n",
       "      <td>5479.430176</td>\n",
       "      <td>74.023178</td>\n",
       "      <td>49.097202</td>\n",
       "      <td>36.912289</td>\n",
       "      <td>24.482737</td>\n",
       "      <td>54.092030</td>\n",
       "      <td>0.397918</td>\n",
       "      <td>00:00</td>\n",
       "    </tr>\n",
       "    <tr>\n",
       "      <td>3</td>\n",
       "      <td>38955.847656</td>\n",
       "      <td>2980.243652</td>\n",
       "      <td>54.591610</td>\n",
       "      <td>36.208866</td>\n",
       "      <td>6.615279</td>\n",
       "      <td>4.387702</td>\n",
       "      <td>37.924625</td>\n",
       "      <td>0.672530</td>\n",
       "      <td>00:00</td>\n",
       "    </tr>\n",
       "    <tr>\n",
       "      <td>4</td>\n",
       "      <td>26285.806641</td>\n",
       "      <td>2572.608887</td>\n",
       "      <td>50.720890</td>\n",
       "      <td>33.641541</td>\n",
       "      <td>6.310972</td>\n",
       "      <td>4.185865</td>\n",
       "      <td>34.467690</td>\n",
       "      <td>0.717321</td>\n",
       "      <td>00:00</td>\n",
       "    </tr>\n",
       "    <tr>\n",
       "      <td>5</td>\n",
       "      <td>18428.033203</td>\n",
       "      <td>2290.809570</td>\n",
       "      <td>47.862404</td>\n",
       "      <td>31.745598</td>\n",
       "      <td>6.173816</td>\n",
       "      <td>4.094894</td>\n",
       "      <td>32.656761</td>\n",
       "      <td>0.748285</td>\n",
       "      <td>00:00</td>\n",
       "    </tr>\n",
       "    <tr>\n",
       "      <td>6</td>\n",
       "      <td>13246.808594</td>\n",
       "      <td>2025.415527</td>\n",
       "      <td>45.004616</td>\n",
       "      <td>29.850119</td>\n",
       "      <td>4.497419</td>\n",
       "      <td>2.982994</td>\n",
       "      <td>31.384146</td>\n",
       "      <td>0.777446</td>\n",
       "      <td>00:00</td>\n",
       "    </tr>\n",
       "    <tr>\n",
       "      <td>7</td>\n",
       "      <td>9768.153320</td>\n",
       "      <td>2024.394043</td>\n",
       "      <td>44.993267</td>\n",
       "      <td>29.842590</td>\n",
       "      <td>8.650012</td>\n",
       "      <td>5.737276</td>\n",
       "      <td>31.550594</td>\n",
       "      <td>0.777559</td>\n",
       "      <td>00:00</td>\n",
       "    </tr>\n",
       "    <tr>\n",
       "      <td>8</td>\n",
       "      <td>7361.348633</td>\n",
       "      <td>2006.207764</td>\n",
       "      <td>44.790710</td>\n",
       "      <td>29.708242</td>\n",
       "      <td>8.582853</td>\n",
       "      <td>5.692731</td>\n",
       "      <td>31.282778</td>\n",
       "      <td>0.779557</td>\n",
       "      <td>00:00</td>\n",
       "    </tr>\n",
       "    <tr>\n",
       "      <td>9</td>\n",
       "      <td>5723.072754</td>\n",
       "      <td>1990.396973</td>\n",
       "      <td>44.613865</td>\n",
       "      <td>29.590946</td>\n",
       "      <td>6.444503</td>\n",
       "      <td>4.274432</td>\n",
       "      <td>31.098574</td>\n",
       "      <td>0.781294</td>\n",
       "      <td>00:00</td>\n",
       "    </tr>\n",
       "  </tbody>\n",
       "</table>"
      ],
      "text/plain": [
       "<IPython.core.display.HTML object>"
      ]
     },
     "metadata": {},
     "output_type": "display_data"
    },
    {
     "data": {
      "text/html": [
       "<table border=\"1\" class=\"dataframe\">\n",
       "  <thead>\n",
       "    <tr style=\"text-align: left;\">\n",
       "      <th>epoch</th>\n",
       "      <th>train_loss</th>\n",
       "      <th>valid_loss</th>\n",
       "      <th>_rmse</th>\n",
       "      <th>_rrmse</th>\n",
       "      <th>_bias</th>\n",
       "      <th>_bias_pct</th>\n",
       "      <th>mae</th>\n",
       "      <th>r2_score</th>\n",
       "      <th>time</th>\n",
       "    </tr>\n",
       "  </thead>\n",
       "  <tbody>\n",
       "    <tr>\n",
       "      <td>0</td>\n",
       "      <td>130765.625000</td>\n",
       "      <td>110177.468750</td>\n",
       "      <td>331.929901</td>\n",
       "      <td>220.158463</td>\n",
       "      <td>321.940033</td>\n",
       "      <td>213.532501</td>\n",
       "      <td>321.940094</td>\n",
       "      <td>-11.106348</td>\n",
       "      <td>00:00</td>\n",
       "    </tr>\n",
       "    <tr>\n",
       "      <td>1</td>\n",
       "      <td>91971.609375</td>\n",
       "      <td>30338.445312</td>\n",
       "      <td>174.179352</td>\n",
       "      <td>115.527580</td>\n",
       "      <td>140.320374</td>\n",
       "      <td>93.070007</td>\n",
       "      <td>155.588867</td>\n",
       "      <td>-2.333601</td>\n",
       "      <td>00:00</td>\n",
       "    </tr>\n",
       "    <tr>\n",
       "      <td>2</td>\n",
       "      <td>55668.742188</td>\n",
       "      <td>4384.246094</td>\n",
       "      <td>66.213646</td>\n",
       "      <td>43.917389</td>\n",
       "      <td>32.107616</td>\n",
       "      <td>21.295954</td>\n",
       "      <td>51.200638</td>\n",
       "      <td>0.518257</td>\n",
       "      <td>00:00</td>\n",
       "    </tr>\n",
       "    <tr>\n",
       "      <td>3</td>\n",
       "      <td>35527.550781</td>\n",
       "      <td>2217.216309</td>\n",
       "      <td>47.087326</td>\n",
       "      <td>31.231514</td>\n",
       "      <td>-2.264485</td>\n",
       "      <td>-1.501960</td>\n",
       "      <td>33.173374</td>\n",
       "      <td>0.756371</td>\n",
       "      <td>00:00</td>\n",
       "    </tr>\n",
       "    <tr>\n",
       "      <td>4</td>\n",
       "      <td>24043.580078</td>\n",
       "      <td>1857.317261</td>\n",
       "      <td>43.096603</td>\n",
       "      <td>28.584597</td>\n",
       "      <td>-2.482696</td>\n",
       "      <td>-1.646693</td>\n",
       "      <td>30.040588</td>\n",
       "      <td>0.795917</td>\n",
       "      <td>00:00</td>\n",
       "    </tr>\n",
       "    <tr>\n",
       "      <td>5</td>\n",
       "      <td>16888.769531</td>\n",
       "      <td>1746.087646</td>\n",
       "      <td>41.786213</td>\n",
       "      <td>27.715456</td>\n",
       "      <td>4.231572</td>\n",
       "      <td>2.806666</td>\n",
       "      <td>29.454838</td>\n",
       "      <td>0.808139</td>\n",
       "      <td>00:00</td>\n",
       "    </tr>\n",
       "    <tr>\n",
       "      <td>6</td>\n",
       "      <td>12196.525391</td>\n",
       "      <td>1726.639404</td>\n",
       "      <td>41.552853</td>\n",
       "      <td>27.560675</td>\n",
       "      <td>7.739930</td>\n",
       "      <td>5.133648</td>\n",
       "      <td>29.406078</td>\n",
       "      <td>0.810276</td>\n",
       "      <td>00:00</td>\n",
       "    </tr>\n",
       "    <tr>\n",
       "      <td>7</td>\n",
       "      <td>9033.327148</td>\n",
       "      <td>1560.846069</td>\n",
       "      <td>39.507542</td>\n",
       "      <td>26.204086</td>\n",
       "      <td>2.347066</td>\n",
       "      <td>1.556734</td>\n",
       "      <td>27.559813</td>\n",
       "      <td>0.828494</td>\n",
       "      <td>00:00</td>\n",
       "    </tr>\n",
       "    <tr>\n",
       "      <td>8</td>\n",
       "      <td>6841.645508</td>\n",
       "      <td>1577.094727</td>\n",
       "      <td>39.712654</td>\n",
       "      <td>26.340130</td>\n",
       "      <td>2.959912</td>\n",
       "      <td>1.963215</td>\n",
       "      <td>27.791578</td>\n",
       "      <td>0.826708</td>\n",
       "      <td>00:00</td>\n",
       "    </tr>\n",
       "    <tr>\n",
       "      <td>9</td>\n",
       "      <td>5341.859863</td>\n",
       "      <td>1579.399536</td>\n",
       "      <td>39.741665</td>\n",
       "      <td>26.359373</td>\n",
       "      <td>2.915407</td>\n",
       "      <td>1.933696</td>\n",
       "      <td>27.723145</td>\n",
       "      <td>0.826455</td>\n",
       "      <td>00:00</td>\n",
       "    </tr>\n",
       "  </tbody>\n",
       "</table>"
      ],
      "text/plain": [
       "<IPython.core.display.HTML object>"
      ]
     },
     "metadata": {},
     "output_type": "display_data"
    },
    {
     "data": {
      "text/html": [
       "<table border=\"1\" class=\"dataframe\">\n",
       "  <thead>\n",
       "    <tr style=\"text-align: left;\">\n",
       "      <th>epoch</th>\n",
       "      <th>train_loss</th>\n",
       "      <th>valid_loss</th>\n",
       "      <th>_rmse</th>\n",
       "      <th>_rrmse</th>\n",
       "      <th>_bias</th>\n",
       "      <th>_bias_pct</th>\n",
       "      <th>mae</th>\n",
       "      <th>r2_score</th>\n",
       "      <th>time</th>\n",
       "    </tr>\n",
       "  </thead>\n",
       "  <tbody>\n",
       "    <tr>\n",
       "      <td>0</td>\n",
       "      <td>128511.828125</td>\n",
       "      <td>104965.570312</td>\n",
       "      <td>323.983887</td>\n",
       "      <td>214.888123</td>\n",
       "      <td>307.835144</td>\n",
       "      <td>204.177185</td>\n",
       "      <td>310.661865</td>\n",
       "      <td>-10.533661</td>\n",
       "      <td>00:00</td>\n",
       "    </tr>\n",
       "    <tr>\n",
       "      <td>1</td>\n",
       "      <td>84226.125000</td>\n",
       "      <td>20955.099609</td>\n",
       "      <td>144.758759</td>\n",
       "      <td>96.013847</td>\n",
       "      <td>108.832901</td>\n",
       "      <td>72.185371</td>\n",
       "      <td>127.295685</td>\n",
       "      <td>-1.302555</td>\n",
       "      <td>00:00</td>\n",
       "    </tr>\n",
       "    <tr>\n",
       "      <td>2</td>\n",
       "      <td>49386.265625</td>\n",
       "      <td>3601.433350</td>\n",
       "      <td>60.011940</td>\n",
       "      <td>39.803997</td>\n",
       "      <td>21.243002</td>\n",
       "      <td>14.089803</td>\n",
       "      <td>41.702465</td>\n",
       "      <td>0.604273</td>\n",
       "      <td>00:00</td>\n",
       "    </tr>\n",
       "    <tr>\n",
       "      <td>3</td>\n",
       "      <td>31639.189453</td>\n",
       "      <td>2468.994385</td>\n",
       "      <td>49.688972</td>\n",
       "      <td>32.957104</td>\n",
       "      <td>-9.251769</td>\n",
       "      <td>-6.136402</td>\n",
       "      <td>34.688370</td>\n",
       "      <td>0.728706</td>\n",
       "      <td>00:00</td>\n",
       "    </tr>\n",
       "    <tr>\n",
       "      <td>4</td>\n",
       "      <td>21589.671875</td>\n",
       "      <td>2772.314697</td>\n",
       "      <td>52.652771</td>\n",
       "      <td>34.922894</td>\n",
       "      <td>-12.376845</td>\n",
       "      <td>-8.209165</td>\n",
       "      <td>34.661755</td>\n",
       "      <td>0.695377</td>\n",
       "      <td>00:00</td>\n",
       "    </tr>\n",
       "    <tr>\n",
       "      <td>5</td>\n",
       "      <td>15340.807617</td>\n",
       "      <td>1970.752808</td>\n",
       "      <td>44.393162</td>\n",
       "      <td>29.444561</td>\n",
       "      <td>4.089300</td>\n",
       "      <td>2.712302</td>\n",
       "      <td>31.045321</td>\n",
       "      <td>0.783453</td>\n",
       "      <td>00:00</td>\n",
       "    </tr>\n",
       "    <tr>\n",
       "      <td>6</td>\n",
       "      <td>11121.650391</td>\n",
       "      <td>1863.716431</td>\n",
       "      <td>43.170784</td>\n",
       "      <td>28.633797</td>\n",
       "      <td>4.473846</td>\n",
       "      <td>2.967359</td>\n",
       "      <td>30.264631</td>\n",
       "      <td>0.795214</td>\n",
       "      <td>00:00</td>\n",
       "    </tr>\n",
       "    <tr>\n",
       "      <td>7</td>\n",
       "      <td>8293.439453</td>\n",
       "      <td>1820.238770</td>\n",
       "      <td>42.664253</td>\n",
       "      <td>28.297832</td>\n",
       "      <td>1.573608</td>\n",
       "      <td>1.043723</td>\n",
       "      <td>29.881603</td>\n",
       "      <td>0.799991</td>\n",
       "      <td>00:00</td>\n",
       "    </tr>\n",
       "    <tr>\n",
       "      <td>8</td>\n",
       "      <td>6330.225098</td>\n",
       "      <td>1881.075684</td>\n",
       "      <td>43.371368</td>\n",
       "      <td>28.766838</td>\n",
       "      <td>4.578059</td>\n",
       "      <td>3.036480</td>\n",
       "      <td>30.305323</td>\n",
       "      <td>0.793307</td>\n",
       "      <td>00:00</td>\n",
       "    </tr>\n",
       "    <tr>\n",
       "      <td>9</td>\n",
       "      <td>4918.402344</td>\n",
       "      <td>1872.856079</td>\n",
       "      <td>43.276508</td>\n",
       "      <td>28.703922</td>\n",
       "      <td>4.153089</td>\n",
       "      <td>2.754611</td>\n",
       "      <td>30.111849</td>\n",
       "      <td>0.794210</td>\n",
       "      <td>00:00</td>\n",
       "    </tr>\n",
       "  </tbody>\n",
       "</table>"
      ],
      "text/plain": [
       "<IPython.core.display.HTML object>"
      ]
     },
     "metadata": {},
     "output_type": "display_data"
    },
    {
     "data": {
      "text/html": [
       "<table border=\"1\" class=\"dataframe\">\n",
       "  <thead>\n",
       "    <tr style=\"text-align: left;\">\n",
       "      <th>epoch</th>\n",
       "      <th>train_loss</th>\n",
       "      <th>valid_loss</th>\n",
       "      <th>_rmse</th>\n",
       "      <th>_rrmse</th>\n",
       "      <th>_bias</th>\n",
       "      <th>_bias_pct</th>\n",
       "      <th>mae</th>\n",
       "      <th>r2_score</th>\n",
       "      <th>time</th>\n",
       "    </tr>\n",
       "  </thead>\n",
       "  <tbody>\n",
       "    <tr>\n",
       "      <td>0</td>\n",
       "      <td>89209.562500</td>\n",
       "      <td>80828.000000</td>\n",
       "      <td>284.302673</td>\n",
       "      <td>188.568848</td>\n",
       "      <td>271.984161</td>\n",
       "      <td>180.398376</td>\n",
       "      <td>274.182281</td>\n",
       "      <td>-7.881416</td>\n",
       "      <td>00:00</td>\n",
       "    </tr>\n",
       "    <tr>\n",
       "      <td>1</td>\n",
       "      <td>57953.082031</td>\n",
       "      <td>16059.208984</td>\n",
       "      <td>126.724930</td>\n",
       "      <td>84.052589</td>\n",
       "      <td>91.101807</td>\n",
       "      <td>60.424908</td>\n",
       "      <td>109.846848</td>\n",
       "      <td>-0.764593</td>\n",
       "      <td>00:00</td>\n",
       "    </tr>\n",
       "    <tr>\n",
       "      <td>2</td>\n",
       "      <td>34481.812500</td>\n",
       "      <td>3744.321045</td>\n",
       "      <td>61.190861</td>\n",
       "      <td>40.585934</td>\n",
       "      <td>27.572445</td>\n",
       "      <td>18.287918</td>\n",
       "      <td>43.389423</td>\n",
       "      <td>0.588572</td>\n",
       "      <td>00:00</td>\n",
       "    </tr>\n",
       "    <tr>\n",
       "      <td>3</td>\n",
       "      <td>22171.144531</td>\n",
       "      <td>2524.985596</td>\n",
       "      <td>50.249233</td>\n",
       "      <td>33.328705</td>\n",
       "      <td>11.034989</td>\n",
       "      <td>7.319154</td>\n",
       "      <td>34.533619</td>\n",
       "      <td>0.722553</td>\n",
       "      <td>00:00</td>\n",
       "    </tr>\n",
       "    <tr>\n",
       "      <td>4</td>\n",
       "      <td>15112.294922</td>\n",
       "      <td>1689.117310</td>\n",
       "      <td>41.098869</td>\n",
       "      <td>27.259562</td>\n",
       "      <td>-0.170112</td>\n",
       "      <td>-0.112830</td>\n",
       "      <td>28.765373</td>\n",
       "      <td>0.814399</td>\n",
       "      <td>00:00</td>\n",
       "    </tr>\n",
       "    <tr>\n",
       "      <td>5</td>\n",
       "      <td>10751.726562</td>\n",
       "      <td>1658.433228</td>\n",
       "      <td>40.723866</td>\n",
       "      <td>27.010834</td>\n",
       "      <td>8.833310</td>\n",
       "      <td>5.858851</td>\n",
       "      <td>28.285614</td>\n",
       "      <td>0.817771</td>\n",
       "      <td>00:00</td>\n",
       "    </tr>\n",
       "    <tr>\n",
       "      <td>6</td>\n",
       "      <td>7958.140625</td>\n",
       "      <td>1506.448853</td>\n",
       "      <td>38.812996</td>\n",
       "      <td>25.743416</td>\n",
       "      <td>4.815385</td>\n",
       "      <td>3.193890</td>\n",
       "      <td>26.626831</td>\n",
       "      <td>0.834471</td>\n",
       "      <td>00:00</td>\n",
       "    </tr>\n",
       "    <tr>\n",
       "      <td>7</td>\n",
       "      <td>6055.200195</td>\n",
       "      <td>1514.626709</td>\n",
       "      <td>38.918205</td>\n",
       "      <td>25.813198</td>\n",
       "      <td>4.066364</td>\n",
       "      <td>2.697089</td>\n",
       "      <td>26.739658</td>\n",
       "      <td>0.833572</td>\n",
       "      <td>00:00</td>\n",
       "    </tr>\n",
       "    <tr>\n",
       "      <td>8</td>\n",
       "      <td>4701.052246</td>\n",
       "      <td>1526.639893</td>\n",
       "      <td>39.072239</td>\n",
       "      <td>25.915363</td>\n",
       "      <td>6.850863</td>\n",
       "      <td>4.543958</td>\n",
       "      <td>26.985777</td>\n",
       "      <td>0.832252</td>\n",
       "      <td>00:00</td>\n",
       "    </tr>\n",
       "    <tr>\n",
       "      <td>9</td>\n",
       "      <td>3715.382812</td>\n",
       "      <td>1502.420166</td>\n",
       "      <td>38.761066</td>\n",
       "      <td>25.708973</td>\n",
       "      <td>5.702690</td>\n",
       "      <td>3.782412</td>\n",
       "      <td>26.709057</td>\n",
       "      <td>0.834913</td>\n",
       "      <td>00:00</td>\n",
       "    </tr>\n",
       "  </tbody>\n",
       "</table>"
      ],
      "text/plain": [
       "<IPython.core.display.HTML object>"
      ]
     },
     "metadata": {},
     "output_type": "display_data"
    },
    {
     "data": {
      "text/html": [
       "<table border=\"1\" class=\"dataframe\">\n",
       "  <thead>\n",
       "    <tr style=\"text-align: left;\">\n",
       "      <th>epoch</th>\n",
       "      <th>train_loss</th>\n",
       "      <th>valid_loss</th>\n",
       "      <th>_rmse</th>\n",
       "      <th>_rrmse</th>\n",
       "      <th>_bias</th>\n",
       "      <th>_bias_pct</th>\n",
       "      <th>mae</th>\n",
       "      <th>r2_score</th>\n",
       "      <th>time</th>\n",
       "    </tr>\n",
       "  </thead>\n",
       "  <tbody>\n",
       "    <tr>\n",
       "      <td>0</td>\n",
       "      <td>103913.898438</td>\n",
       "      <td>91321.750000</td>\n",
       "      <td>302.194885</td>\n",
       "      <td>200.436188</td>\n",
       "      <td>290.572479</td>\n",
       "      <td>192.727417</td>\n",
       "      <td>291.880096</td>\n",
       "      <td>-9.034474</td>\n",
       "      <td>00:00</td>\n",
       "    </tr>\n",
       "    <tr>\n",
       "      <td>1</td>\n",
       "      <td>69020.718750</td>\n",
       "      <td>18543.439453</td>\n",
       "      <td>136.174301</td>\n",
       "      <td>90.320053</td>\n",
       "      <td>104.526741</td>\n",
       "      <td>69.329231</td>\n",
       "      <td>119.727989</td>\n",
       "      <td>-1.037561</td>\n",
       "      <td>00:00</td>\n",
       "    </tr>\n",
       "    <tr>\n",
       "      <td>2</td>\n",
       "      <td>40943.023438</td>\n",
       "      <td>2686.549561</td>\n",
       "      <td>51.831936</td>\n",
       "      <td>34.378464</td>\n",
       "      <td>14.258347</td>\n",
       "      <td>9.457105</td>\n",
       "      <td>37.014427</td>\n",
       "      <td>0.704801</td>\n",
       "      <td>00:00</td>\n",
       "    </tr>\n",
       "    <tr>\n",
       "      <td>3</td>\n",
       "      <td>26331.226562</td>\n",
       "      <td>1810.888062</td>\n",
       "      <td>42.554531</td>\n",
       "      <td>28.225056</td>\n",
       "      <td>-2.573019</td>\n",
       "      <td>-1.706601</td>\n",
       "      <td>29.578520</td>\n",
       "      <td>0.801019</td>\n",
       "      <td>00:00</td>\n",
       "    </tr>\n",
       "    <tr>\n",
       "      <td>4</td>\n",
       "      <td>17914.105469</td>\n",
       "      <td>2679.549561</td>\n",
       "      <td>51.764362</td>\n",
       "      <td>34.333645</td>\n",
       "      <td>14.382727</td>\n",
       "      <td>9.539602</td>\n",
       "      <td>33.552124</td>\n",
       "      <td>0.705570</td>\n",
       "      <td>00:00</td>\n",
       "    </tr>\n",
       "    <tr>\n",
       "      <td>5</td>\n",
       "      <td>12616.720703</td>\n",
       "      <td>1566.465088</td>\n",
       "      <td>39.578590</td>\n",
       "      <td>26.251211</td>\n",
       "      <td>2.484176</td>\n",
       "      <td>1.647674</td>\n",
       "      <td>27.777267</td>\n",
       "      <td>0.827876</td>\n",
       "      <td>00:00</td>\n",
       "    </tr>\n",
       "    <tr>\n",
       "      <td>6</td>\n",
       "      <td>9196.290039</td>\n",
       "      <td>1493.843750</td>\n",
       "      <td>38.650276</td>\n",
       "      <td>25.635490</td>\n",
       "      <td>2.551851</td>\n",
       "      <td>1.692561</td>\n",
       "      <td>26.810261</td>\n",
       "      <td>0.835856</td>\n",
       "      <td>00:00</td>\n",
       "    </tr>\n",
       "    <tr>\n",
       "      <td>7</td>\n",
       "      <td>6897.274414</td>\n",
       "      <td>1468.621826</td>\n",
       "      <td>38.322601</td>\n",
       "      <td>25.418154</td>\n",
       "      <td>4.436641</td>\n",
       "      <td>2.942682</td>\n",
       "      <td>26.568270</td>\n",
       "      <td>0.838627</td>\n",
       "      <td>00:00</td>\n",
       "    </tr>\n",
       "    <tr>\n",
       "      <td>8</td>\n",
       "      <td>5275.190430</td>\n",
       "      <td>1439.054443</td>\n",
       "      <td>37.934868</td>\n",
       "      <td>25.160984</td>\n",
       "      <td>3.256378</td>\n",
       "      <td>2.159851</td>\n",
       "      <td>26.315384</td>\n",
       "      <td>0.841876</td>\n",
       "      <td>00:00</td>\n",
       "    </tr>\n",
       "    <tr>\n",
       "      <td>9</td>\n",
       "      <td>4139.156738</td>\n",
       "      <td>1520.350464</td>\n",
       "      <td>38.991673</td>\n",
       "      <td>25.861927</td>\n",
       "      <td>6.606601</td>\n",
       "      <td>4.381947</td>\n",
       "      <td>27.212633</td>\n",
       "      <td>0.832943</td>\n",
       "      <td>00:00</td>\n",
       "    </tr>\n",
       "  </tbody>\n",
       "</table>"
      ],
      "text/plain": [
       "<IPython.core.display.HTML object>"
      ]
     },
     "metadata": {},
     "output_type": "display_data"
    },
    {
     "data": {
      "text/html": [
       "<table border=\"1\" class=\"dataframe\">\n",
       "  <thead>\n",
       "    <tr style=\"text-align: left;\">\n",
       "      <th>epoch</th>\n",
       "      <th>train_loss</th>\n",
       "      <th>valid_loss</th>\n",
       "      <th>_rmse</th>\n",
       "      <th>_rrmse</th>\n",
       "      <th>_bias</th>\n",
       "      <th>_bias_pct</th>\n",
       "      <th>mae</th>\n",
       "      <th>r2_score</th>\n",
       "      <th>time</th>\n",
       "    </tr>\n",
       "  </thead>\n",
       "  <tbody>\n",
       "    <tr>\n",
       "      <td>0</td>\n",
       "      <td>105560.500000</td>\n",
       "      <td>97113.554688</td>\n",
       "      <td>311.630463</td>\n",
       "      <td>206.694504</td>\n",
       "      <td>299.673065</td>\n",
       "      <td>198.763535</td>\n",
       "      <td>301.023956</td>\n",
       "      <td>-9.670879</td>\n",
       "      <td>00:00</td>\n",
       "    </tr>\n",
       "    <tr>\n",
       "      <td>1</td>\n",
       "      <td>70642.750000</td>\n",
       "      <td>20666.025391</td>\n",
       "      <td>143.756821</td>\n",
       "      <td>95.349297</td>\n",
       "      <td>109.756790</td>\n",
       "      <td>72.798157</td>\n",
       "      <td>127.993141</td>\n",
       "      <td>-1.270792</td>\n",
       "      <td>00:00</td>\n",
       "    </tr>\n",
       "    <tr>\n",
       "      <td>2</td>\n",
       "      <td>42016.765625</td>\n",
       "      <td>3263.723633</td>\n",
       "      <td>57.129009</td>\n",
       "      <td>37.891842</td>\n",
       "      <td>20.099453</td>\n",
       "      <td>13.331323</td>\n",
       "      <td>38.121494</td>\n",
       "      <td>0.641381</td>\n",
       "      <td>00:00</td>\n",
       "    </tr>\n",
       "    <tr>\n",
       "      <td>3</td>\n",
       "      <td>26868.357422</td>\n",
       "      <td>1856.644531</td>\n",
       "      <td>43.088802</td>\n",
       "      <td>28.579422</td>\n",
       "      <td>-5.241014</td>\n",
       "      <td>-3.476197</td>\n",
       "      <td>29.670456</td>\n",
       "      <td>0.795991</td>\n",
       "      <td>00:00</td>\n",
       "    </tr>\n",
       "    <tr>\n",
       "      <td>4</td>\n",
       "      <td>18261.148438</td>\n",
       "      <td>1709.707886</td>\n",
       "      <td>41.348614</td>\n",
       "      <td>27.425209</td>\n",
       "      <td>-1.137240</td>\n",
       "      <td>-0.754295</td>\n",
       "      <td>28.104164</td>\n",
       "      <td>0.812137</td>\n",
       "      <td>00:00</td>\n",
       "    </tr>\n",
       "    <tr>\n",
       "      <td>5</td>\n",
       "      <td>12912.333984</td>\n",
       "      <td>1591.811646</td>\n",
       "      <td>39.897514</td>\n",
       "      <td>26.462742</td>\n",
       "      <td>5.280744</td>\n",
       "      <td>3.502548</td>\n",
       "      <td>27.515663</td>\n",
       "      <td>0.825091</td>\n",
       "      <td>00:00</td>\n",
       "    </tr>\n",
       "    <tr>\n",
       "      <td>6</td>\n",
       "      <td>9453.877930</td>\n",
       "      <td>1741.928223</td>\n",
       "      <td>41.736412</td>\n",
       "      <td>27.682423</td>\n",
       "      <td>6.983736</td>\n",
       "      <td>4.632088</td>\n",
       "      <td>27.586786</td>\n",
       "      <td>0.808596</td>\n",
       "      <td>00:00</td>\n",
       "    </tr>\n",
       "    <tr>\n",
       "      <td>7</td>\n",
       "      <td>7034.530762</td>\n",
       "      <td>1512.730225</td>\n",
       "      <td>38.893829</td>\n",
       "      <td>25.797029</td>\n",
       "      <td>1.952792</td>\n",
       "      <td>1.295224</td>\n",
       "      <td>26.487524</td>\n",
       "      <td>0.833781</td>\n",
       "      <td>00:00</td>\n",
       "    </tr>\n",
       "    <tr>\n",
       "      <td>8</td>\n",
       "      <td>5381.648926</td>\n",
       "      <td>1507.750977</td>\n",
       "      <td>38.829769</td>\n",
       "      <td>25.754541</td>\n",
       "      <td>0.751415</td>\n",
       "      <td>0.498389</td>\n",
       "      <td>26.499626</td>\n",
       "      <td>0.834328</td>\n",
       "      <td>00:00</td>\n",
       "    </tr>\n",
       "    <tr>\n",
       "      <td>9</td>\n",
       "      <td>4234.170898</td>\n",
       "      <td>1482.456909</td>\n",
       "      <td>38.502686</td>\n",
       "      <td>25.537598</td>\n",
       "      <td>1.399356</td>\n",
       "      <td>0.928148</td>\n",
       "      <td>26.315228</td>\n",
       "      <td>0.837107</td>\n",
       "      <td>00:00</td>\n",
       "    </tr>\n",
       "  </tbody>\n",
       "</table>"
      ],
      "text/plain": [
       "<IPython.core.display.HTML object>"
      ]
     },
     "metadata": {},
     "output_type": "display_data"
    },
    {
     "data": {
      "text/html": [
       "<table border=\"1\" class=\"dataframe\">\n",
       "  <thead>\n",
       "    <tr style=\"text-align: left;\">\n",
       "      <th>epoch</th>\n",
       "      <th>train_loss</th>\n",
       "      <th>valid_loss</th>\n",
       "      <th>_rmse</th>\n",
       "      <th>_rrmse</th>\n",
       "      <th>_bias</th>\n",
       "      <th>_bias_pct</th>\n",
       "      <th>mae</th>\n",
       "      <th>r2_score</th>\n",
       "      <th>time</th>\n",
       "    </tr>\n",
       "  </thead>\n",
       "  <tbody>\n",
       "    <tr>\n",
       "      <td>0</td>\n",
       "      <td>164530.656250</td>\n",
       "      <td>129073.718750</td>\n",
       "      <td>359.268280</td>\n",
       "      <td>238.291138</td>\n",
       "      <td>344.511566</td>\n",
       "      <td>228.503479</td>\n",
       "      <td>345.803223</td>\n",
       "      <td>-13.182675</td>\n",
       "      <td>00:00</td>\n",
       "    </tr>\n",
       "    <tr>\n",
       "      <td>1</td>\n",
       "      <td>117183.304688</td>\n",
       "      <td>37167.546875</td>\n",
       "      <td>192.788849</td>\n",
       "      <td>127.870667</td>\n",
       "      <td>155.791336</td>\n",
       "      <td>103.331398</td>\n",
       "      <td>171.042877</td>\n",
       "      <td>-3.083986</td>\n",
       "      <td>00:00</td>\n",
       "    </tr>\n",
       "    <tr>\n",
       "      <td>2</td>\n",
       "      <td>70687.117188</td>\n",
       "      <td>5405.525879</td>\n",
       "      <td>73.522285</td>\n",
       "      <td>48.764973</td>\n",
       "      <td>36.715034</td>\n",
       "      <td>24.351906</td>\n",
       "      <td>53.185677</td>\n",
       "      <td>0.406038</td>\n",
       "      <td>00:00</td>\n",
       "    </tr>\n",
       "    <tr>\n",
       "      <td>3</td>\n",
       "      <td>44956.781250</td>\n",
       "      <td>2441.253174</td>\n",
       "      <td>49.409042</td>\n",
       "      <td>32.771435</td>\n",
       "      <td>-3.036951</td>\n",
       "      <td>-2.014313</td>\n",
       "      <td>34.011539</td>\n",
       "      <td>0.731754</td>\n",
       "      <td>00:00</td>\n",
       "    </tr>\n",
       "    <tr>\n",
       "      <td>4</td>\n",
       "      <td>30233.914062</td>\n",
       "      <td>2103.930908</td>\n",
       "      <td>45.868629</td>\n",
       "      <td>30.423191</td>\n",
       "      <td>-0.182798</td>\n",
       "      <td>-0.121244</td>\n",
       "      <td>30.971077</td>\n",
       "      <td>0.768819</td>\n",
       "      <td>00:00</td>\n",
       "    </tr>\n",
       "    <tr>\n",
       "      <td>5</td>\n",
       "      <td>21140.267578</td>\n",
       "      <td>1938.840820</td>\n",
       "      <td>44.032269</td>\n",
       "      <td>29.205191</td>\n",
       "      <td>2.995278</td>\n",
       "      <td>1.986672</td>\n",
       "      <td>29.751766</td>\n",
       "      <td>0.786959</td>\n",
       "      <td>00:00</td>\n",
       "    </tr>\n",
       "    <tr>\n",
       "      <td>6</td>\n",
       "      <td>15287.083984</td>\n",
       "      <td>1710.673584</td>\n",
       "      <td>41.360287</td>\n",
       "      <td>27.432951</td>\n",
       "      <td>0.763426</td>\n",
       "      <td>0.506356</td>\n",
       "      <td>28.009880</td>\n",
       "      <td>0.812030</td>\n",
       "      <td>00:00</td>\n",
       "    </tr>\n",
       "    <tr>\n",
       "      <td>7</td>\n",
       "      <td>11220.070312</td>\n",
       "      <td>1686.004272</td>\n",
       "      <td>41.060986</td>\n",
       "      <td>27.234436</td>\n",
       "      <td>5.199923</td>\n",
       "      <td>3.448942</td>\n",
       "      <td>28.064939</td>\n",
       "      <td>0.814741</td>\n",
       "      <td>00:00</td>\n",
       "    </tr>\n",
       "    <tr>\n",
       "      <td>8</td>\n",
       "      <td>8409.224609</td>\n",
       "      <td>1672.750732</td>\n",
       "      <td>40.899277</td>\n",
       "      <td>27.127180</td>\n",
       "      <td>3.803717</td>\n",
       "      <td>2.522884</td>\n",
       "      <td>27.913605</td>\n",
       "      <td>0.816197</td>\n",
       "      <td>00:00</td>\n",
       "    </tr>\n",
       "    <tr>\n",
       "      <td>9</td>\n",
       "      <td>6477.733398</td>\n",
       "      <td>1690.020264</td>\n",
       "      <td>41.109856</td>\n",
       "      <td>27.266848</td>\n",
       "      <td>2.631561</td>\n",
       "      <td>1.745430</td>\n",
       "      <td>27.942358</td>\n",
       "      <td>0.814300</td>\n",
       "      <td>00:00</td>\n",
       "    </tr>\n",
       "  </tbody>\n",
       "</table>"
      ],
      "text/plain": [
       "<IPython.core.display.HTML object>"
      ]
     },
     "metadata": {},
     "output_type": "display_data"
    },
    {
     "data": {
      "text/html": [
       "<table border=\"1\" class=\"dataframe\">\n",
       "  <thead>\n",
       "    <tr style=\"text-align: left;\">\n",
       "      <th>epoch</th>\n",
       "      <th>train_loss</th>\n",
       "      <th>valid_loss</th>\n",
       "      <th>_rmse</th>\n",
       "      <th>_rrmse</th>\n",
       "      <th>_bias</th>\n",
       "      <th>_bias_pct</th>\n",
       "      <th>mae</th>\n",
       "      <th>r2_score</th>\n",
       "      <th>time</th>\n",
       "    </tr>\n",
       "  </thead>\n",
       "  <tbody>\n",
       "    <tr>\n",
       "      <td>0</td>\n",
       "      <td>109086.921875</td>\n",
       "      <td>95096.078125</td>\n",
       "      <td>308.376495</td>\n",
       "      <td>204.536255</td>\n",
       "      <td>297.619934</td>\n",
       "      <td>197.401764</td>\n",
       "      <td>297.825897</td>\n",
       "      <td>-9.449199</td>\n",
       "      <td>00:00</td>\n",
       "    </tr>\n",
       "    <tr>\n",
       "      <td>1</td>\n",
       "      <td>70942.843750</td>\n",
       "      <td>19030.042969</td>\n",
       "      <td>137.949432</td>\n",
       "      <td>91.497437</td>\n",
       "      <td>97.001175</td>\n",
       "      <td>64.337769</td>\n",
       "      <td>117.931648</td>\n",
       "      <td>-1.091029</td>\n",
       "      <td>00:00</td>\n",
       "    </tr>\n",
       "    <tr>\n",
       "      <td>2</td>\n",
       "      <td>41860.718750</td>\n",
       "      <td>3917.581055</td>\n",
       "      <td>62.590584</td>\n",
       "      <td>41.514328</td>\n",
       "      <td>25.866690</td>\n",
       "      <td>17.156546</td>\n",
       "      <td>43.556889</td>\n",
       "      <td>0.569534</td>\n",
       "      <td>00:00</td>\n",
       "    </tr>\n",
       "    <tr>\n",
       "      <td>3</td>\n",
       "      <td>26766.400391</td>\n",
       "      <td>1985.187256</td>\n",
       "      <td>44.555443</td>\n",
       "      <td>29.552197</td>\n",
       "      <td>-1.157476</td>\n",
       "      <td>-0.767717</td>\n",
       "      <td>31.525862</td>\n",
       "      <td>0.781867</td>\n",
       "      <td>00:00</td>\n",
       "    </tr>\n",
       "    <tr>\n",
       "      <td>4</td>\n",
       "      <td>18234.697266</td>\n",
       "      <td>1713.773438</td>\n",
       "      <td>41.397747</td>\n",
       "      <td>27.457798</td>\n",
       "      <td>2.065459</td>\n",
       "      <td>1.369953</td>\n",
       "      <td>29.211563</td>\n",
       "      <td>0.811690</td>\n",
       "      <td>00:00</td>\n",
       "    </tr>\n",
       "    <tr>\n",
       "      <td>5</td>\n",
       "      <td>12906.792969</td>\n",
       "      <td>1597.946655</td>\n",
       "      <td>39.974327</td>\n",
       "      <td>26.513689</td>\n",
       "      <td>6.012105</td>\n",
       "      <td>3.987636</td>\n",
       "      <td>28.178312</td>\n",
       "      <td>0.824417</td>\n",
       "      <td>00:00</td>\n",
       "    </tr>\n",
       "    <tr>\n",
       "      <td>6</td>\n",
       "      <td>9430.055664</td>\n",
       "      <td>1527.901978</td>\n",
       "      <td>39.088387</td>\n",
       "      <td>25.926075</td>\n",
       "      <td>4.284705</td>\n",
       "      <td>2.841908</td>\n",
       "      <td>27.362560</td>\n",
       "      <td>0.832113</td>\n",
       "      <td>00:00</td>\n",
       "    </tr>\n",
       "    <tr>\n",
       "      <td>7</td>\n",
       "      <td>7108.255371</td>\n",
       "      <td>1559.631348</td>\n",
       "      <td>39.492168</td>\n",
       "      <td>26.193890</td>\n",
       "      <td>5.490319</td>\n",
       "      <td>3.641552</td>\n",
       "      <td>27.397062</td>\n",
       "      <td>0.828627</td>\n",
       "      <td>00:00</td>\n",
       "    </tr>\n",
       "    <tr>\n",
       "      <td>8</td>\n",
       "      <td>5452.115234</td>\n",
       "      <td>1474.746948</td>\n",
       "      <td>38.402435</td>\n",
       "      <td>25.471104</td>\n",
       "      <td>0.975965</td>\n",
       "      <td>0.647327</td>\n",
       "      <td>26.979691</td>\n",
       "      <td>0.837954</td>\n",
       "      <td>00:00</td>\n",
       "    </tr>\n",
       "    <tr>\n",
       "      <td>9</td>\n",
       "      <td>4327.379883</td>\n",
       "      <td>1463.492798</td>\n",
       "      <td>38.255623</td>\n",
       "      <td>25.373728</td>\n",
       "      <td>2.305753</td>\n",
       "      <td>1.529332</td>\n",
       "      <td>26.828720</td>\n",
       "      <td>0.839191</td>\n",
       "      <td>00:00</td>\n",
       "    </tr>\n",
       "  </tbody>\n",
       "</table>"
      ],
      "text/plain": [
       "<IPython.core.display.HTML object>"
      ]
     },
     "metadata": {},
     "output_type": "display_data"
    }
   ],
   "source": [
    "ensemble.fit_one_cycle(10, 1e-2)"
   ]
  },
  {
   "cell_type": "code",
   "execution_count": 152,
   "metadata": {
    "ExecuteTime": {
     "end_time": "2020-11-13T09:19:59.953220Z",
     "start_time": "2020-11-13T09:19:59.491130Z"
    }
   },
   "outputs": [
    {
     "data": {
      "text/html": [],
      "text/plain": [
       "<IPython.core.display.HTML object>"
      ]
     },
     "metadata": {},
     "output_type": "display_data"
    },
    {
     "data": {
      "text/html": [],
      "text/plain": [
       "<IPython.core.display.HTML object>"
      ]
     },
     "metadata": {},
     "output_type": "display_data"
    },
    {
     "data": {
      "text/html": [],
      "text/plain": [
       "<IPython.core.display.HTML object>"
      ]
     },
     "metadata": {},
     "output_type": "display_data"
    },
    {
     "data": {
      "text/html": [],
      "text/plain": [
       "<IPython.core.display.HTML object>"
      ]
     },
     "metadata": {},
     "output_type": "display_data"
    },
    {
     "data": {
      "text/html": [],
      "text/plain": [
       "<IPython.core.display.HTML object>"
      ]
     },
     "metadata": {},
     "output_type": "display_data"
    },
    {
     "data": {
      "text/html": [],
      "text/plain": [
       "<IPython.core.display.HTML object>"
      ]
     },
     "metadata": {},
     "output_type": "display_data"
    },
    {
     "data": {
      "text/html": [],
      "text/plain": [
       "<IPython.core.display.HTML object>"
      ]
     },
     "metadata": {},
     "output_type": "display_data"
    },
    {
     "data": {
      "text/html": [],
      "text/plain": [
       "<IPython.core.display.HTML object>"
      ]
     },
     "metadata": {},
     "output_type": "display_data"
    },
    {
     "data": {
      "text/html": [],
      "text/plain": [
       "<IPython.core.display.HTML object>"
      ]
     },
     "metadata": {},
     "output_type": "display_data"
    },
    {
     "data": {
      "text/html": [],
      "text/plain": [
       "<IPython.core.display.HTML object>"
      ]
     },
     "metadata": {},
     "output_type": "display_data"
    }
   ],
   "source": [
    "res = ensemble.validate()"
   ]
  },
  {
   "cell_type": "markdown",
   "metadata": {},
   "source": [
    "See ensemble validation results."
   ]
  },
  {
   "cell_type": "code",
   "execution_count": 153,
   "metadata": {
    "ExecuteTime": {
     "end_time": "2020-11-13T09:20:00.381782Z",
     "start_time": "2020-11-13T09:20:00.371510Z"
    }
   },
   "outputs": [
    {
     "data": {
      "text/html": [
       "<div>\n",
       "<style scoped>\n",
       "    .dataframe tbody tr th:only-of-type {\n",
       "        vertical-align: middle;\n",
       "    }\n",
       "\n",
       "    .dataframe tbody tr th {\n",
       "        vertical-align: top;\n",
       "    }\n",
       "\n",
       "    .dataframe thead th {\n",
       "        text-align: right;\n",
       "    }\n",
       "</style>\n",
       "<table border=\"1\" class=\"dataframe\">\n",
       "  <thead>\n",
       "    <tr style=\"text-align: right;\">\n",
       "      <th></th>\n",
       "      <th>model_identifier</th>\n",
       "      <th>_rmse</th>\n",
       "      <th>_rrmse</th>\n",
       "      <th>_bias</th>\n",
       "      <th>_bias_pct</th>\n",
       "      <th>mae</th>\n",
       "      <th>r2_score</th>\n",
       "    </tr>\n",
       "  </thead>\n",
       "  <tbody>\n",
       "    <tr>\n",
       "      <th>0</th>\n",
       "      <td>ensemble</td>\n",
       "      <td>37.664650</td>\n",
       "      <td>24.981754</td>\n",
       "      <td>4.509238</td>\n",
       "      <td>2.990833</td>\n",
       "      <td>26.224834</td>\n",
       "      <td>0.844121</td>\n",
       "    </tr>\n",
       "    <tr>\n",
       "      <th>1</th>\n",
       "      <td>0</td>\n",
       "      <td>42.888336</td>\n",
       "      <td>28.446461</td>\n",
       "      <td>9.496422</td>\n",
       "      <td>6.298672</td>\n",
       "      <td>29.928083</td>\n",
       "      <td>0.797885</td>\n",
       "    </tr>\n",
       "    <tr>\n",
       "      <th>2</th>\n",
       "      <td>1</td>\n",
       "      <td>41.827053</td>\n",
       "      <td>27.742544</td>\n",
       "      <td>3.437002</td>\n",
       "      <td>2.279654</td>\n",
       "      <td>29.854103</td>\n",
       "      <td>0.807764</td>\n",
       "    </tr>\n",
       "    <tr>\n",
       "      <th>3</th>\n",
       "      <td>2</td>\n",
       "      <td>44.613865</td>\n",
       "      <td>29.590946</td>\n",
       "      <td>6.444503</td>\n",
       "      <td>4.274432</td>\n",
       "      <td>31.098576</td>\n",
       "      <td>0.781294</td>\n",
       "    </tr>\n",
       "    <tr>\n",
       "      <th>4</th>\n",
       "      <td>3</td>\n",
       "      <td>39.741665</td>\n",
       "      <td>26.359373</td>\n",
       "      <td>2.915407</td>\n",
       "      <td>1.933696</td>\n",
       "      <td>27.723145</td>\n",
       "      <td>0.826455</td>\n",
       "    </tr>\n",
       "    <tr>\n",
       "      <th>5</th>\n",
       "      <td>4</td>\n",
       "      <td>43.276508</td>\n",
       "      <td>28.703922</td>\n",
       "      <td>4.153089</td>\n",
       "      <td>2.754611</td>\n",
       "      <td>30.111851</td>\n",
       "      <td>0.794210</td>\n",
       "    </tr>\n",
       "    <tr>\n",
       "      <th>6</th>\n",
       "      <td>5</td>\n",
       "      <td>38.761066</td>\n",
       "      <td>25.708973</td>\n",
       "      <td>5.702690</td>\n",
       "      <td>3.782412</td>\n",
       "      <td>26.709057</td>\n",
       "      <td>0.834913</td>\n",
       "    </tr>\n",
       "    <tr>\n",
       "      <th>7</th>\n",
       "      <td>6</td>\n",
       "      <td>38.991673</td>\n",
       "      <td>25.861927</td>\n",
       "      <td>6.606601</td>\n",
       "      <td>4.381947</td>\n",
       "      <td>27.212633</td>\n",
       "      <td>0.832943</td>\n",
       "    </tr>\n",
       "    <tr>\n",
       "      <th>8</th>\n",
       "      <td>7</td>\n",
       "      <td>38.502686</td>\n",
       "      <td>25.537598</td>\n",
       "      <td>1.399356</td>\n",
       "      <td>0.928148</td>\n",
       "      <td>26.315228</td>\n",
       "      <td>0.837107</td>\n",
       "    </tr>\n",
       "    <tr>\n",
       "      <th>9</th>\n",
       "      <td>8</td>\n",
       "      <td>41.109856</td>\n",
       "      <td>27.266848</td>\n",
       "      <td>2.631561</td>\n",
       "      <td>1.745430</td>\n",
       "      <td>27.942358</td>\n",
       "      <td>0.814300</td>\n",
       "    </tr>\n",
       "    <tr>\n",
       "      <th>10</th>\n",
       "      <td>9</td>\n",
       "      <td>38.255623</td>\n",
       "      <td>25.373728</td>\n",
       "      <td>2.305753</td>\n",
       "      <td>1.529332</td>\n",
       "      <td>26.828718</td>\n",
       "      <td>0.839191</td>\n",
       "    </tr>\n",
       "  </tbody>\n",
       "</table>\n",
       "</div>"
      ],
      "text/plain": [
       "   model_identifier      _rmse     _rrmse     _bias  _bias_pct        mae  \\\n",
       "0          ensemble  37.664650  24.981754  4.509238   2.990833  26.224834   \n",
       "1                 0  42.888336  28.446461  9.496422   6.298672  29.928083   \n",
       "2                 1  41.827053  27.742544  3.437002   2.279654  29.854103   \n",
       "3                 2  44.613865  29.590946  6.444503   4.274432  31.098576   \n",
       "4                 3  39.741665  26.359373  2.915407   1.933696  27.723145   \n",
       "5                 4  43.276508  28.703922  4.153089   2.754611  30.111851   \n",
       "6                 5  38.761066  25.708973  5.702690   3.782412  26.709057   \n",
       "7                 6  38.991673  25.861927  6.606601   4.381947  27.212633   \n",
       "8                 7  38.502686  25.537598  1.399356   0.928148  26.315228   \n",
       "9                 8  41.109856  27.266848  2.631561   1.745430  27.942358   \n",
       "10                9  38.255623  25.373728  2.305753   1.529332  26.828718   \n",
       "\n",
       "    r2_score  \n",
       "0   0.844121  \n",
       "1   0.797885  \n",
       "2   0.807764  \n",
       "3   0.781294  \n",
       "4   0.826455  \n",
       "5   0.794210  \n",
       "6   0.834913  \n",
       "7   0.832943  \n",
       "8   0.837107  \n",
       "9   0.814300  \n",
       "10  0.839191  "
      ]
     },
     "execution_count": 153,
     "metadata": {},
     "output_type": "execute_result"
    }
   ],
   "source": [
    "res"
   ]
  },
  {
   "cell_type": "code",
   "execution_count": 154,
   "metadata": {
    "ExecuteTime": {
     "end_time": "2020-11-13T09:20:07.075085Z",
     "start_time": "2020-11-13T09:20:06.681134Z"
    }
   },
   "outputs": [
    {
     "data": {
      "text/html": [],
      "text/plain": [
       "<IPython.core.display.HTML object>"
      ]
     },
     "metadata": {},
     "output_type": "display_data"
    },
    {
     "data": {
      "text/html": [],
      "text/plain": [
       "<IPython.core.display.HTML object>"
      ]
     },
     "metadata": {},
     "output_type": "display_data"
    },
    {
     "data": {
      "text/html": [],
      "text/plain": [
       "<IPython.core.display.HTML object>"
      ]
     },
     "metadata": {},
     "output_type": "display_data"
    },
    {
     "data": {
      "text/html": [],
      "text/plain": [
       "<IPython.core.display.HTML object>"
      ]
     },
     "metadata": {},
     "output_type": "display_data"
    },
    {
     "data": {
      "text/html": [],
      "text/plain": [
       "<IPython.core.display.HTML object>"
      ]
     },
     "metadata": {},
     "output_type": "display_data"
    },
    {
     "data": {
      "text/html": [],
      "text/plain": [
       "<IPython.core.display.HTML object>"
      ]
     },
     "metadata": {},
     "output_type": "display_data"
    },
    {
     "data": {
      "text/html": [],
      "text/plain": [
       "<IPython.core.display.HTML object>"
      ]
     },
     "metadata": {},
     "output_type": "display_data"
    },
    {
     "data": {
      "text/html": [],
      "text/plain": [
       "<IPython.core.display.HTML object>"
      ]
     },
     "metadata": {},
     "output_type": "display_data"
    },
    {
     "data": {
      "text/html": [],
      "text/plain": [
       "<IPython.core.display.HTML object>"
      ]
     },
     "metadata": {},
     "output_type": "display_data"
    },
    {
     "data": {
      "text/html": [],
      "text/plain": [
       "<IPython.core.display.HTML object>"
      ]
     },
     "metadata": {},
     "output_type": "display_data"
    }
   ],
   "source": [
    "ens_int = RegressionInterpretation.from_ensemble(ensemble)"
   ]
  },
  {
   "cell_type": "code",
   "execution_count": 155,
   "metadata": {
    "ExecuteTime": {
     "end_time": "2020-11-13T09:20:07.704139Z",
     "start_time": "2020-11-13T09:20:07.443646Z"
    }
   },
   "outputs": [
    {
     "data": {
      "image/png": "[encoded data removed]",
      "text/plain": [
       "<Figure size 504x432 with 2 Axes>"
      ]
     },
     "metadata": {
      "needs_background": "light"
     },
     "output_type": "display_data"
    }
   ],
   "source": [
    "ens_int.plot_results()\n",
    "plt.show()"
   ]
  },
  {
   "cell_type": "markdown",
   "metadata": {},
   "source": [
    "Run test set predictions."
   ]
  },
  {
   "cell_type": "code",
   "execution_count": 156,
   "metadata": {
    "ExecuteTime": {
     "end_time": "2020-11-13T09:20:11.422708Z",
     "start_time": "2020-11-13T09:20:10.981437Z"
    }
   },
   "outputs": [
    {
     "data": {
      "text/html": [],
      "text/plain": [
       "<IPython.core.display.HTML object>"
      ]
     },
     "metadata": {},
     "output_type": "display_data"
    },
    {
     "data": {
      "text/html": [],
      "text/plain": [
       "<IPython.core.display.HTML object>"
      ]
     },
     "metadata": {},
     "output_type": "display_data"
    },
    {
     "data": {
      "text/html": [],
      "text/plain": [
       "<IPython.core.display.HTML object>"
      ]
     },
     "metadata": {},
     "output_type": "display_data"
    },
    {
     "data": {
      "text/html": [],
      "text/plain": [
       "<IPython.core.display.HTML object>"
      ]
     },
     "metadata": {},
     "output_type": "display_data"
    },
    {
     "data": {
      "text/html": [],
      "text/plain": [
       "<IPython.core.display.HTML object>"
      ]
     },
     "metadata": {},
     "output_type": "display_data"
    },
    {
     "data": {
      "text/html": [],
      "text/plain": [
       "<IPython.core.display.HTML object>"
      ]
     },
     "metadata": {},
     "output_type": "display_data"
    },
    {
     "data": {
      "text/html": [],
      "text/plain": [
       "<IPython.core.display.HTML object>"
      ]
     },
     "metadata": {},
     "output_type": "display_data"
    },
    {
     "data": {
      "text/html": [],
      "text/plain": [
       "<IPython.core.display.HTML object>"
      ]
     },
     "metadata": {},
     "output_type": "display_data"
    },
    {
     "data": {
      "text/html": [],
      "text/plain": [
       "<IPython.core.display.HTML object>"
      ]
     },
     "metadata": {},
     "output_type": "display_data"
    },
    {
     "data": {
      "text/html": [],
      "text/plain": [
       "<IPython.core.display.HTML object>"
      ]
     },
     "metadata": {},
     "output_type": "display_data"
    },
    {
     "data": {
      "text/html": [
       "<div>\n",
       "<style scoped>\n",
       "    .dataframe tbody tr th:only-of-type {\n",
       "        vertical-align: middle;\n",
       "    }\n",
       "\n",
       "    .dataframe tbody tr th {\n",
       "        vertical-align: top;\n",
       "    }\n",
       "\n",
       "    .dataframe thead th {\n",
       "        text-align: right;\n",
       "    }\n",
       "</style>\n",
       "<table border=\"1\" class=\"dataframe\">\n",
       "  <thead>\n",
       "    <tr style=\"text-align: right;\">\n",
       "      <th></th>\n",
       "      <th>model_identifier</th>\n",
       "      <th>_rmse</th>\n",
       "      <th>_rrmse</th>\n",
       "      <th>_bias</th>\n",
       "      <th>_bias_pct</th>\n",
       "      <th>mae</th>\n",
       "      <th>r2_score</th>\n",
       "    </tr>\n",
       "  </thead>\n",
       "  <tbody>\n",
       "    <tr>\n",
       "      <th>0</th>\n",
       "      <td>ensemble</td>\n",
       "      <td>37.549072</td>\n",
       "      <td>24.701120</td>\n",
       "      <td>0.280901</td>\n",
       "      <td>0.184787</td>\n",
       "      <td>26.344427</td>\n",
       "      <td>0.850174</td>\n",
       "    </tr>\n",
       "    <tr>\n",
       "      <th>1</th>\n",
       "      <td>0</td>\n",
       "      <td>40.461376</td>\n",
       "      <td>26.616938</td>\n",
       "      <td>1.631808</td>\n",
       "      <td>1.073462</td>\n",
       "      <td>27.427498</td>\n",
       "      <td>0.826032</td>\n",
       "    </tr>\n",
       "    <tr>\n",
       "      <th>2</th>\n",
       "      <td>1</td>\n",
       "      <td>41.661247</td>\n",
       "      <td>27.406254</td>\n",
       "      <td>0.249005</td>\n",
       "      <td>0.163804</td>\n",
       "      <td>29.692301</td>\n",
       "      <td>0.815561</td>\n",
       "    </tr>\n",
       "    <tr>\n",
       "      <th>3</th>\n",
       "      <td>2</td>\n",
       "      <td>40.568108</td>\n",
       "      <td>26.687149</td>\n",
       "      <td>0.654419</td>\n",
       "      <td>0.430500</td>\n",
       "      <td>29.995632</td>\n",
       "      <td>0.825113</td>\n",
       "    </tr>\n",
       "    <tr>\n",
       "      <th>4</th>\n",
       "      <td>3</td>\n",
       "      <td>41.159740</td>\n",
       "      <td>27.076345</td>\n",
       "      <td>-1.524007</td>\n",
       "      <td>-1.002546</td>\n",
       "      <td>29.200705</td>\n",
       "      <td>0.819974</td>\n",
       "    </tr>\n",
       "    <tr>\n",
       "      <th>5</th>\n",
       "      <td>4</td>\n",
       "      <td>39.734867</td>\n",
       "      <td>26.139015</td>\n",
       "      <td>1.511680</td>\n",
       "      <td>0.994437</td>\n",
       "      <td>27.819839</td>\n",
       "      <td>0.832223</td>\n",
       "    </tr>\n",
       "    <tr>\n",
       "      <th>6</th>\n",
       "      <td>5</td>\n",
       "      <td>39.140400</td>\n",
       "      <td>25.747952</td>\n",
       "      <td>1.237117</td>\n",
       "      <td>0.813820</td>\n",
       "      <td>28.167511</td>\n",
       "      <td>0.837206</td>\n",
       "    </tr>\n",
       "    <tr>\n",
       "      <th>7</th>\n",
       "      <td>6</td>\n",
       "      <td>38.635872</td>\n",
       "      <td>25.416056</td>\n",
       "      <td>2.668761</td>\n",
       "      <td>1.755607</td>\n",
       "      <td>28.197281</td>\n",
       "      <td>0.841375</td>\n",
       "    </tr>\n",
       "    <tr>\n",
       "      <th>8</th>\n",
       "      <td>7</td>\n",
       "      <td>41.322311</td>\n",
       "      <td>27.183290</td>\n",
       "      <td>-1.716707</td>\n",
       "      <td>-1.129311</td>\n",
       "      <td>27.824512</td>\n",
       "      <td>0.818550</td>\n",
       "    </tr>\n",
       "    <tr>\n",
       "      <th>9</th>\n",
       "      <td>8</td>\n",
       "      <td>42.751995</td>\n",
       "      <td>28.123791</td>\n",
       "      <td>-0.647703</td>\n",
       "      <td>-0.426082</td>\n",
       "      <td>31.168877</td>\n",
       "      <td>0.805777</td>\n",
       "    </tr>\n",
       "    <tr>\n",
       "      <th>10</th>\n",
       "      <td>9</td>\n",
       "      <td>40.493591</td>\n",
       "      <td>26.638130</td>\n",
       "      <td>-1.255354</td>\n",
       "      <td>-0.825817</td>\n",
       "      <td>28.083412</td>\n",
       "      <td>0.825755</td>\n",
       "    </tr>\n",
       "  </tbody>\n",
       "</table>\n",
       "</div>"
      ],
      "text/plain": [
       "   model_identifier      _rmse     _rrmse     _bias  _bias_pct        mae  \\\n",
       "0          ensemble  37.549072  24.701120  0.280901   0.184787  26.344427   \n",
       "1                 0  40.461376  26.616938  1.631808   1.073462  27.427498   \n",
       "2                 1  41.661247  27.406254  0.249005   0.163804  29.692301   \n",
       "3                 2  40.568108  26.687149  0.654419   0.430500  29.995632   \n",
       "4                 3  41.159740  27.076345 -1.524007  -1.002546  29.200705   \n",
       "5                 4  39.734867  26.139015  1.511680   0.994437  27.819839   \n",
       "6                 5  39.140400  25.747952  1.237117   0.813820  28.167511   \n",
       "7                 6  38.635872  25.416056  2.668761   1.755607  28.197281   \n",
       "8                 7  41.322311  27.183290 -1.716707  -1.129311  27.824512   \n",
       "9                 8  42.751995  28.123791 -0.647703  -0.426082  31.168877   \n",
       "10                9  40.493591  26.638130 -1.255354  -0.825817  28.083412   \n",
       "\n",
       "    r2_score  \n",
       "0   0.850174  \n",
       "1   0.826032  \n",
       "2   0.815561  \n",
       "3   0.825113  \n",
       "4   0.819974  \n",
       "5   0.832223  \n",
       "6   0.837206  \n",
       "7   0.841375  \n",
       "8   0.818550  \n",
       "9   0.805777  \n",
       "10  0.825755  "
      ]
     },
     "execution_count": 156,
     "metadata": {},
     "output_type": "execute_result"
    }
   ],
   "source": [
    "test_res = ensemble.validate(dl=test_dls[0])\n",
    "test_res"
   ]
  },
  {
   "cell_type": "code",
   "execution_count": 161,
   "metadata": {
    "ExecuteTime": {
     "end_time": "2020-11-13T09:32:38.426275Z",
     "start_time": "2020-11-13T09:32:38.422873Z"
    }
   },
   "outputs": [],
   "source": [
    "run_test_res = test_res[test_res.model_identifier != 'ensemble']"
   ]
  },
  {
   "cell_type": "code",
   "execution_count": null,
   "metadata": {},
   "outputs": [],
   "source": []
  },
  {
   "cell_type": "code",
   "execution_count": 157,
   "metadata": {
    "ExecuteTime": {
     "end_time": "2020-11-13T09:20:12.446112Z",
     "start_time": "2020-11-13T09:20:12.004467Z"
    }
   },
   "outputs": [
    {
     "data": {
      "text/html": [],
      "text/plain": [
       "<IPython.core.display.HTML object>"
      ]
     },
     "metadata": {},
     "output_type": "display_data"
    },
    {
     "data": {
      "text/html": [],
      "text/plain": [
       "<IPython.core.display.HTML object>"
      ]
     },
     "metadata": {},
     "output_type": "display_data"
    },
    {
     "data": {
      "text/html": [],
      "text/plain": [
       "<IPython.core.display.HTML object>"
      ]
     },
     "metadata": {},
     "output_type": "display_data"
    },
    {
     "data": {
      "text/html": [],
      "text/plain": [
       "<IPython.core.display.HTML object>"
      ]
     },
     "metadata": {},
     "output_type": "display_data"
    },
    {
     "data": {
      "text/html": [],
      "text/plain": [
       "<IPython.core.display.HTML object>"
      ]
     },
     "metadata": {},
     "output_type": "display_data"
    },
    {
     "data": {
      "text/html": [],
      "text/plain": [
       "<IPython.core.display.HTML object>"
      ]
     },
     "metadata": {},
     "output_type": "display_data"
    },
    {
     "data": {
      "text/html": [],
      "text/plain": [
       "<IPython.core.display.HTML object>"
      ]
     },
     "metadata": {},
     "output_type": "display_data"
    },
    {
     "data": {
      "text/html": [],
      "text/plain": [
       "<IPython.core.display.HTML object>"
      ]
     },
     "metadata": {},
     "output_type": "display_data"
    },
    {
     "data": {
      "text/html": [],
      "text/plain": [
       "<IPython.core.display.HTML object>"
      ]
     },
     "metadata": {},
     "output_type": "display_data"
    },
    {
     "data": {
      "text/html": [],
      "text/plain": [
       "<IPython.core.display.HTML object>"
      ]
     },
     "metadata": {},
     "output_type": "display_data"
    }
   ],
   "source": [
    "test_ens_interp = RegressionInterpretation.from_ensemble(ensemble, dl=test_dls[0])"
   ]
  },
  {
   "cell_type": "code",
   "execution_count": 158,
   "metadata": {
    "ExecuteTime": {
     "end_time": "2020-11-13T09:20:12.729218Z",
     "start_time": "2020-11-13T09:20:12.447734Z"
    }
   },
   "outputs": [
    {
     "data": {
      "image/png": "[encoded data removed]",
      "text/plain": [
       "<Figure size 504x432 with 2 Axes>"
      ]
     },
     "metadata": {
      "needs_background": "light"
     },
     "output_type": "display_data"
    }
   ],
   "source": [
    "test_ens_interp.plot_results()\n",
    "plt.show()"
   ]
  },
  {
   "cell_type": "markdown",
   "metadata": {},
   "source": [
    "# Comparison: Random forest"
   ]
  },
  {
   "cell_type": "markdown",
   "metadata": {},
   "source": [
    "`TabularPandas` makes it simple to use sklearn models with the same data and preprocessing."
   ]
  },
  {
   "cell_type": "code",
   "execution_count": 30,
   "metadata": {
    "ExecuteTime": {
     "end_time": "2020-11-12T12:14:50.674747Z",
     "start_time": "2020-11-12T12:14:50.241765Z"
    }
   },
   "outputs": [],
   "source": [
    "from sklearn.ensemble import RandomForestRegressor"
   ]
  },
  {
   "cell_type": "markdown",
   "metadata": {},
   "source": [
    "Below values for max_features and min_samples_leaf should generally work well."
   ]
  },
  {
   "cell_type": "code",
   "execution_count": 31,
   "metadata": {
    "ExecuteTime": {
     "end_time": "2020-11-12T12:14:50.679661Z",
     "start_time": "2020-11-12T12:14:50.676274Z"
    }
   },
   "outputs": [],
   "source": [
    "rf = RandomForestRegressor(n_estimators=500, max_features=0.5, min_samples_leaf=4, oob_score=True)"
   ]
  },
  {
   "cell_type": "code",
   "execution_count": 32,
   "metadata": {
    "ExecuteTime": {
     "end_time": "2020-11-12T12:14:55.232167Z",
     "start_time": "2020-11-12T12:14:50.682038Z"
    }
   },
   "outputs": [
    {
     "data": {
      "text/plain": [
       "RandomForestRegressor(max_features=0.5, min_samples_leaf=4, n_estimators=500,\n",
       "                      oob_score=True)"
      ]
     },
     "execution_count": 32,
     "metadata": {},
     "output_type": "execute_result"
    }
   ],
   "source": [
    "rf.fit(trainval_tb.train.xs, trainval_tb.train.ys.values.ravel())"
   ]
  },
  {
   "cell_type": "code",
   "execution_count": 33,
   "metadata": {
    "ExecuteTime": {
     "end_time": "2020-11-12T12:14:55.280595Z",
     "start_time": "2020-11-12T12:14:55.233545Z"
    }
   },
   "outputs": [],
   "source": [
    "rf_preds = rf.predict(trainval_tb.valid.xs)"
   ]
  },
  {
   "cell_type": "markdown",
   "metadata": {},
   "source": [
    "Validation results"
   ]
  },
  {
   "cell_type": "code",
   "execution_count": 34,
   "metadata": {
    "ExecuteTime": {
     "end_time": "2020-11-12T12:14:55.597289Z",
     "start_time": "2020-11-12T12:14:55.282080Z"
    }
   },
   "outputs": [
    {
     "data": {
      "image/png": "[encoded data removed]",
      "text/plain": [
       "<Figure size 504x432 with 2 Axes>"
      ]
     },
     "metadata": {
      "needs_background": "light"
     },
     "output_type": "display_data"
    }
   ],
   "source": [
    "plot_sklearn_regression(rf, trainval_tb.valid.xs, trainval_tb.valid.ys)\n",
    "plt.show()"
   ]
  },
  {
   "cell_type": "markdown",
   "metadata": {},
   "source": [
    "Test results"
   ]
  },
  {
   "cell_type": "code",
   "execution_count": 35,
   "metadata": {
    "ExecuteTime": {
     "end_time": "2020-11-12T12:14:55.916251Z",
     "start_time": "2020-11-12T12:14:55.598996Z"
    }
   },
   "outputs": [
    {
     "data": {
      "image/png": "[encoded data removed]",
      "text/plain": [
       "<Figure size 504x432 with 2 Axes>"
      ]
     },
     "metadata": {
      "needs_background": "light"
     },
     "output_type": "display_data"
    }
   ],
   "source": [
    "plot_sklearn_regression(rf, test_tb.train.xs, test_tb.train.ys)\n",
    "plt.show()"
   ]
  },
  {
   "cell_type": "markdown",
   "metadata": {},
   "source": [
    "# Comparison: Support Vector Regressor"
   ]
  },
  {
   "cell_type": "code",
   "execution_count": 36,
   "metadata": {
    "ExecuteTime": {
     "end_time": "2020-11-12T12:14:55.920782Z",
     "start_time": "2020-11-12T12:14:55.918377Z"
    }
   },
   "outputs": [],
   "source": [
    "from sklearn.svm import SVR"
   ]
  },
  {
   "cell_type": "code",
   "execution_count": 136,
   "metadata": {
    "ExecuteTime": {
     "end_time": "2020-11-12T14:46:42.355783Z",
     "start_time": "2020-11-12T14:46:42.199701Z"
    }
   },
   "outputs": [
    {
     "data": {
      "text/plain": [
       "SVR(C=128)"
      ]
     },
     "execution_count": 136,
     "metadata": {},
     "output_type": "execute_result"
    }
   ],
   "source": [
    "svr = SVR(kernel='rbf', C=128)\n",
    "svr.fit(trainval_tb.train.xs, trainval_tb.train.ys.values.ravel())"
   ]
  },
  {
   "cell_type": "code",
   "execution_count": 134,
   "metadata": {
    "ExecuteTime": {
     "end_time": "2020-11-12T14:46:32.251223Z",
     "start_time": "2020-11-12T14:46:32.225394Z"
    }
   },
   "outputs": [],
   "source": [
    "svr_preds = svr.predict(trainval_tb.valid.xs)"
   ]
  },
  {
   "cell_type": "code",
   "execution_count": 135,
   "metadata": {
    "ExecuteTime": {
     "end_time": "2020-11-12T14:46:32.855966Z",
     "start_time": "2020-11-12T14:46:32.560274Z"
    }
   },
   "outputs": [
    {
     "data": {
      "image/png": "[encoded data removed]",
      "text/plain": [
       "<Figure size 504x432 with 2 Axes>"
      ]
     },
     "metadata": {
      "needs_background": "light"
     },
     "output_type": "display_data"
    }
   ],
   "source": [
    "plot_sklearn_regression(svr, trainval_tb.valid.xs, trainval_tb.valid.ys)\n",
    "plt.show()"
   ]
  },
  {
   "cell_type": "code",
   "execution_count": null,
   "metadata": {},
   "outputs": [],
   "source": []
  }
 ],
 "metadata": {
  "_draft": {
   "nbviewer_url": "https://gist.github.com/dc7eb4d2965a6babe6ed2610b300f7b4"
  },
  "gist": {
   "data": {
    "description": "LiDAR predictions.ipynb",
    "public": true
   },
   "id": "dc7eb4d2965a6babe6ed2610b300f7b4"
  },
  "kernelspec": {
   "display_name": "Python 3",
   "language": "python",
   "name": "python3"
  },
  "language_info": {
   "codemirror_mode": {
    "name": "ipython",
    "version": 3
   },
   "file_extension": ".py",
   "mimetype": "text/x-python",
   "name": "python",
   "nbconvert_exporter": "python",
   "pygments_lexer": "ipython3",
   "version": "3.8.3"
  },
  "latex_envs": {
   "LaTeX_envs_menu_present": true,
   "autoclose": false,
   "autocomplete": true,
   "bibliofile": "biblio.bib",
   "cite_by": "apalike",
   "current_citInitial": 1,
   "eqLabelWithNumbers": true,
   "eqNumInitial": 1,
   "hotkeys": {
    "equation": "Ctrl-E",
    "itemize": "Ctrl-I"
   },
   "labels_anchors": false,
   "latex_user_defs": false,
   "report_style_numbering": false,
   "user_envs_cfg": false
  },
  "toc": {
   "base_numbering": 1,
   "nav_menu": {},
   "number_sections": true,
   "sideBar": true,
   "skip_h1_title": false,
   "title_cell": "Table of Contents",
   "title_sidebar": "Contents",
   "toc_cell": false,
   "toc_position": {
    "height": "calc(100% - 180px)",
    "left": "10px",
    "top": "150px",
    "width": "298px"
   },
   "toc_section_display": true,
   "toc_window_display": true
  }
 },
 "nbformat": 4,
 "nbformat_minor": 4
}
