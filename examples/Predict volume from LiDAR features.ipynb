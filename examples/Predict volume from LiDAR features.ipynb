{
 "cells": [
  {
   "cell_type": "markdown",
   "metadata": {},
   "source": [
    "# Predict volume area from LiDAR features"
   ]
  },
  {
   "cell_type": "code",
   "execution_count": 1,
   "metadata": {
    "ExecuteTime": {
     "end_time": "2020-11-12T09:16:29.329610Z",
     "start_time": "2020-11-12T09:16:27.110666Z"
    }
   },
   "outputs": [],
   "source": [
    "from fastai.data.all import *\n",
    "from fastai.tabular.all import *\n",
    "from fastai.callback.progress import ShowGraphCallback"
   ]
  },
  {
   "cell_type": "code",
   "execution_count": 2,
   "metadata": {
    "ExecuteTime": {
     "end_time": "2020-11-12T09:16:29.600247Z",
     "start_time": "2020-11-12T09:16:29.331095Z"
    }
   },
   "outputs": [],
   "source": [
    "absolute_path = Path().absolute()\n",
    "sys.path.append(str(absolute_path.parents[0]))\n",
    "\n",
    "from enveco.tabular.preprocessing import *\n",
    "from enveco.interpretation import *\n",
    "from enveco.models.ensemble import *\n",
    "from enveco.metrics import *"
   ]
  },
  {
   "cell_type": "markdown",
   "metadata": {},
   "source": [
    "Run the example workflow for predicting the volume of the field plot from LiDAR-derived features."
   ]
  },
  {
   "cell_type": "markdown",
   "metadata": {},
   "source": [
    "# Read and preprocess data"
   ]
  },
  {
   "cell_type": "code",
   "execution_count": 3,
   "metadata": {
    "ExecuteTime": {
     "end_time": "2020-11-12T09:16:29.631589Z",
     "start_time": "2020-11-12T09:16:29.602976Z"
    }
   },
   "outputs": [],
   "source": [
    "#data_path = Path('../../../andras/ml/AV_leafon/')\n",
    "data_path = Path('../../enveco_data/enveco/')\n",
    "\n",
    "preprocessor = EnvecoPreprocessor(data_path/'AV.leaf.on.train.csv', \n",
    "                                  data_path/'AV.leaf.on.val.csv',\n",
    "                                  data_path/'AV.leaf.on.test.csv')"
   ]
  },
  {
   "cell_type": "markdown",
   "metadata": {},
   "source": [
    "Preprocess dataframes and extract lidar features from them. Specify which features are needed:\n",
    "\n",
    "* height_features\n",
    "* point_features\n",
    "* intensity_features\n",
    "* height_quantiles\n",
    "* point_proportions\n",
    "* canopy_densities\n",
    "\n",
    "Also, specify whether to `normalize` data (default: True) or to log-transform target column (default: False)"
   ]
  },
  {
   "cell_type": "code",
   "execution_count": 4,
   "metadata": {
    "ExecuteTime": {
     "end_time": "2020-11-12T09:16:29.652802Z",
     "start_time": "2020-11-12T09:16:29.633384Z"
    }
   },
   "outputs": [
    {
     "data": {
      "text/html": [
       "<div>\n",
       "<style scoped>\n",
       "    .dataframe tbody tr th:only-of-type {\n",
       "        vertical-align: middle;\n",
       "    }\n",
       "\n",
       "    .dataframe tbody tr th {\n",
       "        vertical-align: top;\n",
       "    }\n",
       "\n",
       "    .dataframe thead th {\n",
       "        text-align: right;\n",
       "    }\n",
       "</style>\n",
       "<table border=\"1\" class=\"dataframe\">\n",
       "  <thead>\n",
       "    <tr style=\"text-align: right;\">\n",
       "      <th></th>\n",
       "      <th>sampleplotid</th>\n",
       "      <th>x</th>\n",
       "      <th>y</th>\n",
       "      <th>measurementdate</th>\n",
       "      <th>g</th>\n",
       "      <th>d</th>\n",
       "      <th>h</th>\n",
       "      <th>v</th>\n",
       "      <th>v_ma</th>\n",
       "      <th>v_ku</th>\n",
       "      <th>v_lp</th>\n",
       "      <th>myear</th>\n",
       "      <th>filename_1</th>\n",
       "      <th>a_date_1</th>\n",
       "      <th>a_window_1</th>\n",
       "      <th>filename_2</th>\n",
       "      <th>a_date_2</th>\n",
       "      <th>a_window_2</th>\n",
       "      <th>v_lp_proc</th>\n",
       "      <th>is_valid</th>\n",
       "    </tr>\n",
       "  </thead>\n",
       "  <tbody>\n",
       "    <tr>\n",
       "      <th>0</th>\n",
       "      <td>901034</td>\n",
       "      <td>313598.50</td>\n",
       "      <td>6888193.46</td>\n",
       "      <td>2013</td>\n",
       "      <td>30.0</td>\n",
       "      <td>25.9</td>\n",
       "      <td>23.9</td>\n",
       "      <td>336.62</td>\n",
       "      <td>50.11</td>\n",
       "      <td>27.73</td>\n",
       "      <td>258.78</td>\n",
       "      <td>2013</td>\n",
       "      <td>/wrk/project_ogiir-csc/mml/laserkeilaus/2008_17_automaattinen/2013/20130114_BLOM_ahtari_block2_kesa/1/N4121B3.laz</td>\n",
       "      <td>2013-07-11</td>\n",
       "      <td>C</td>\n",
       "      <td>NaN</td>\n",
       "      <td>NaN</td>\n",
       "      <td>NaN</td>\n",
       "      <td>77</td>\n",
       "      <td>0</td>\n",
       "    </tr>\n",
       "    <tr>\n",
       "      <th>1</th>\n",
       "      <td>901038</td>\n",
       "      <td>314591.78</td>\n",
       "      <td>6888461.84</td>\n",
       "      <td>2013</td>\n",
       "      <td>18.6</td>\n",
       "      <td>16.0</td>\n",
       "      <td>15.9</td>\n",
       "      <td>146.00</td>\n",
       "      <td>142.50</td>\n",
       "      <td>0.00</td>\n",
       "      <td>3.50</td>\n",
       "      <td>2013</td>\n",
       "      <td>/wrk/project_ogiir-csc/mml/laserkeilaus/2008_17_automaattinen/2013/20130114_BLOM_ahtari_block2_kesa/1/N4121D1.laz</td>\n",
       "      <td>2013-07-11</td>\n",
       "      <td>C</td>\n",
       "      <td>NaN</td>\n",
       "      <td>NaN</td>\n",
       "      <td>NaN</td>\n",
       "      <td>2</td>\n",
       "      <td>0</td>\n",
       "    </tr>\n",
       "    <tr>\n",
       "      <th>2</th>\n",
       "      <td>901044</td>\n",
       "      <td>317890.37</td>\n",
       "      <td>6888182.49</td>\n",
       "      <td>2013</td>\n",
       "      <td>26.8</td>\n",
       "      <td>18.4</td>\n",
       "      <td>18.4</td>\n",
       "      <td>240.46</td>\n",
       "      <td>139.89</td>\n",
       "      <td>81.77</td>\n",
       "      <td>18.79</td>\n",
       "      <td>2013</td>\n",
       "      <td>/wrk/project_ogiir-csc/mml/laserkeilaus/2008_17_automaattinen/2013/20130114_BLOM_ahtari_block2_kesa/1/N4121D3.laz</td>\n",
       "      <td>2013-07-11</td>\n",
       "      <td>C</td>\n",
       "      <td>NaN</td>\n",
       "      <td>NaN</td>\n",
       "      <td>NaN</td>\n",
       "      <td>8</td>\n",
       "      <td>0</td>\n",
       "    </tr>\n",
       "    <tr>\n",
       "      <th>3</th>\n",
       "      <td>901048</td>\n",
       "      <td>318879.42</td>\n",
       "      <td>6888447.55</td>\n",
       "      <td>2013</td>\n",
       "      <td>34.3</td>\n",
       "      <td>20.2</td>\n",
       "      <td>19.3</td>\n",
       "      <td>321.29</td>\n",
       "      <td>72.10</td>\n",
       "      <td>172.35</td>\n",
       "      <td>76.84</td>\n",
       "      <td>2013</td>\n",
       "      <td>/wrk/project_ogiir-csc/mml/laserkeilaus/2008_17_automaattinen/2013/20130114_BLOM_ahtari_block2_kesa/1/N4121D3.laz</td>\n",
       "      <td>2013-07-11</td>\n",
       "      <td>C</td>\n",
       "      <td>NaN</td>\n",
       "      <td>NaN</td>\n",
       "      <td>NaN</td>\n",
       "      <td>24</td>\n",
       "      <td>0</td>\n",
       "    </tr>\n",
       "    <tr>\n",
       "      <th>4</th>\n",
       "      <td>901054</td>\n",
       "      <td>322193.41</td>\n",
       "      <td>6888196.04</td>\n",
       "      <td>2013</td>\n",
       "      <td>13.8</td>\n",
       "      <td>10.0</td>\n",
       "      <td>9.1</td>\n",
       "      <td>67.10</td>\n",
       "      <td>57.40</td>\n",
       "      <td>9.70</td>\n",
       "      <td>0.00</td>\n",
       "      <td>2013</td>\n",
       "      <td>/wrk/project_ogiir-csc/mml/laserkeilaus/2008_17_automaattinen/2013/20130114_BLOM_ahtari_block2_kesa/1/N4121F1.laz</td>\n",
       "      <td>2013-07-11</td>\n",
       "      <td>C</td>\n",
       "      <td>NaN</td>\n",
       "      <td>NaN</td>\n",
       "      <td>NaN</td>\n",
       "      <td>0</td>\n",
       "      <td>0</td>\n",
       "    </tr>\n",
       "  </tbody>\n",
       "</table>\n",
       "</div>"
      ],
      "text/plain": [
       "   sampleplotid          x           y  measurementdate     g     d     h  \\\n",
       "0        901034  313598.50  6888193.46             2013  30.0  25.9  23.9   \n",
       "1        901038  314591.78  6888461.84             2013  18.6  16.0  15.9   \n",
       "2        901044  317890.37  6888182.49             2013  26.8  18.4  18.4   \n",
       "3        901048  318879.42  6888447.55             2013  34.3  20.2  19.3   \n",
       "4        901054  322193.41  6888196.04             2013  13.8  10.0   9.1   \n",
       "\n",
       "        v    v_ma    v_ku    v_lp  myear  \\\n",
       "0  336.62   50.11   27.73  258.78   2013   \n",
       "1  146.00  142.50    0.00    3.50   2013   \n",
       "2  240.46  139.89   81.77   18.79   2013   \n",
       "3  321.29   72.10  172.35   76.84   2013   \n",
       "4   67.10   57.40    9.70    0.00   2013   \n",
       "\n",
       "                                                                                                          filename_1  \\\n",
       "0  /wrk/project_ogiir-csc/mml/laserkeilaus/2008_17_automaattinen/2013/20130114_BLOM_ahtari_block2_kesa/1/N4121B3.laz   \n",
       "1  /wrk/project_ogiir-csc/mml/laserkeilaus/2008_17_automaattinen/2013/20130114_BLOM_ahtari_block2_kesa/1/N4121D1.laz   \n",
       "2  /wrk/project_ogiir-csc/mml/laserkeilaus/2008_17_automaattinen/2013/20130114_BLOM_ahtari_block2_kesa/1/N4121D3.laz   \n",
       "3  /wrk/project_ogiir-csc/mml/laserkeilaus/2008_17_automaattinen/2013/20130114_BLOM_ahtari_block2_kesa/1/N4121D3.laz   \n",
       "4  /wrk/project_ogiir-csc/mml/laserkeilaus/2008_17_automaattinen/2013/20130114_BLOM_ahtari_block2_kesa/1/N4121F1.laz   \n",
       "\n",
       "     a_date_1 a_window_1  filename_2  a_date_2  a_window_2  v_lp_proc  \\\n",
       "0  2013-07-11          C         NaN       NaN         NaN         77   \n",
       "1  2013-07-11          C         NaN       NaN         NaN          2   \n",
       "2  2013-07-11          C         NaN       NaN         NaN          8   \n",
       "3  2013-07-11          C         NaN       NaN         NaN         24   \n",
       "4  2013-07-11          C         NaN       NaN         NaN          0   \n",
       "\n",
       "   is_valid  \n",
       "0         0  \n",
       "1         0  \n",
       "2         0  \n",
       "3         0  \n",
       "4         0  "
      ]
     },
     "execution_count": 4,
     "metadata": {},
     "output_type": "execute_result"
    }
   ],
   "source": [
    "preprocessor.train_df.head()"
   ]
  },
  {
   "cell_type": "code",
   "execution_count": 48,
   "metadata": {
    "ExecuteTime": {
     "end_time": "2020-11-12T09:24:08.674161Z",
     "start_time": "2020-11-12T09:21:25.262417Z"
    }
   },
   "outputs": [
    {
     "name": "stdout",
     "output_type": "stream",
     "text": [
      "Adding height based features\n",
      "Adding point distribution based features\n",
      "Adding intensity based features\n",
      "Adding height quantiles\n",
      "Adding point proportions\n",
      "Adding canopy densities\n"
     ]
    }
   ],
   "source": [
    "trainval_tb, test_tb = preprocessor.preprocess_lidar(target_col='v', path=data_path/'AV_las/', \n",
    "                                                     min_h=1.5,\n",
    "                                                     height_features=True,\n",
    "                                                     point_features=True, \n",
    "                                                     intensity_features=True, \n",
    "                                                     height_quantiles=True,\n",
    "                                                     point_proportions=True, \n",
    "                                                     canopy_densities=True,\n",
    "                                                     normalize=True,\n",
    "                                                     log_y=False)"
   ]
  },
  {
   "cell_type": "markdown",
   "metadata": {},
   "source": [
    "Previous method returns two `TabularPandas` objects. Put them to dataloaders."
   ]
  },
  {
   "cell_type": "code",
   "execution_count": 49,
   "metadata": {
    "ExecuteTime": {
     "end_time": "2020-11-12T09:24:32.468179Z",
     "start_time": "2020-11-12T09:24:32.456866Z"
    }
   },
   "outputs": [],
   "source": [
    "dls = trainval_tb.dataloaders(bs=64, y_block=RegressionBlock())"
   ]
  },
  {
   "cell_type": "markdown",
   "metadata": {},
   "source": [
    "Check the distribution of the target variable `g`, in order to get limits for `sigmoid_range`."
   ]
  },
  {
   "cell_type": "code",
   "execution_count": 50,
   "metadata": {
    "ExecuteTime": {
     "end_time": "2020-11-12T09:24:32.566176Z",
     "start_time": "2020-11-12T09:24:32.558012Z"
    }
   },
   "outputs": [
    {
     "data": {
      "text/plain": [
       "count    1044.000000\n",
       "mean      145.712250\n",
       "std        86.097336\n",
       "min         2.700000\n",
       "25%        80.927498\n",
       "50%       132.125000\n",
       "75%       191.305000\n",
       "max       867.349976\n",
       "Name: v, dtype: float64"
      ]
     },
     "execution_count": 50,
     "metadata": {},
     "output_type": "execute_result"
    }
   ],
   "source": [
    "trainval_tb.train.y.describe()"
   ]
  },
  {
   "cell_type": "code",
   "execution_count": 51,
   "metadata": {
    "ExecuteTime": {
     "end_time": "2020-11-12T09:24:32.576664Z",
     "start_time": "2020-11-12T09:24:32.568337Z"
    }
   },
   "outputs": [
    {
     "data": {
      "text/plain": [
       "count    225.000000\n",
       "mean     150.768631\n",
       "std       95.610825\n",
       "min        2.310000\n",
       "25%       87.419998\n",
       "50%      133.600006\n",
       "75%      191.639999\n",
       "max      539.479980\n",
       "Name: v, dtype: float64"
      ]
     },
     "execution_count": 51,
     "metadata": {},
     "output_type": "execute_result"
    }
   ],
   "source": [
    "trainval_tb.valid.y.describe()"
   ]
  },
  {
   "cell_type": "code",
   "execution_count": 52,
   "metadata": {
    "ExecuteTime": {
     "end_time": "2020-11-12T09:24:32.587618Z",
     "start_time": "2020-11-12T09:24:32.578564Z"
    }
   },
   "outputs": [
    {
     "data": {
      "text/plain": [
       "count    225.000000\n",
       "mean     152.013641\n",
       "std       97.223846\n",
       "min        7.000000\n",
       "25%       87.820000\n",
       "50%      134.979996\n",
       "75%      192.529999\n",
       "max      550.169983\n",
       "Name: v, dtype: float64"
      ]
     },
     "execution_count": 52,
     "metadata": {},
     "output_type": "execute_result"
    }
   ],
   "source": [
    "test_tb.train.y.describe()"
   ]
  },
  {
   "cell_type": "markdown",
   "metadata": {},
   "source": [
    "# ANN"
   ]
  },
  {
   "cell_type": "markdown",
   "metadata": {},
   "source": [
    "Create `Learner` object. Specify y_range to better control the training, set 70 m² as the maximum value for basal area.\n",
    "\n",
    "Loss function is Mean Squared Error, monitor also Root Mean Squared Error, mean-normalized RMSE, Mean Absolute Error, R2Score, bias and mean-scaled bias. Target variable is log-transformed, so all metrics are log-equivalents (so MSLE, RMSLE...)."
   ]
  },
  {
   "cell_type": "code",
   "execution_count": 53,
   "metadata": {
    "ExecuteTime": {
     "end_time": "2020-11-12T09:24:32.808808Z",
     "start_time": "2020-11-12T09:24:32.774173Z"
    }
   },
   "outputs": [
    {
     "data": {
      "text/html": [
       "<table border=\"1\" class=\"dataframe\">\n",
       "  <thead>\n",
       "    <tr style=\"text-align: left;\">\n",
       "      <th>epoch</th>\n",
       "      <th>train_loss</th>\n",
       "      <th>valid_loss</th>\n",
       "      <th>_rmse</th>\n",
       "      <th>_rrmse</th>\n",
       "      <th>_bias</th>\n",
       "      <th>_bias_pct</th>\n",
       "      <th>mae</th>\n",
       "      <th>r2_score</th>\n",
       "      <th>time</th>\n",
       "    </tr>\n",
       "  </thead>\n",
       "  <tbody>\n",
       "    <tr>\n",
       "      <td>0</td>\n",
       "      <td>None</td>\n",
       "      <td>None</td>\n",
       "      <td>None</td>\n",
       "      <td>None</td>\n",
       "      <td>None</td>\n",
       "      <td>None</td>\n",
       "      <td>None</td>\n",
       "      <td>00:00</td>\n",
       "    </tr>\n",
       "  </tbody>\n",
       "</table>"
      ],
      "text/plain": [
       "<IPython.core.display.HTML object>"
      ]
     },
     "metadata": {},
     "output_type": "display_data"
    },
    {
     "data": {
      "text/plain": [
       "TabularModel (Input shape: ['64 x 0', '64 x 58'])\n",
       "================================================================\n",
       "Layer (type)         Output Shape         Param #    Trainable \n",
       "================================================================\n",
       "BatchNorm1d          64 x 58              116        True      \n",
       "________________________________________________________________\n",
       "BatchNorm1d          64 x 58              116        True      \n",
       "________________________________________________________________\n",
       "Linear               64 x 200             11,600     True      \n",
       "________________________________________________________________\n",
       "ReLU                 64 x 100             0          False     \n",
       "________________________________________________________________\n",
       "BatchNorm1d          64 x 200             400        True      \n",
       "________________________________________________________________\n",
       "Linear               64 x 100             20,000     True      \n",
       "________________________________________________________________\n",
       "ReLU                 64 x 100             0          False     \n",
       "________________________________________________________________\n",
       "Linear               64 x 1               101        True      \n",
       "________________________________________________________________\n",
       "SigmoidRange         64 x 1               0          False     \n",
       "________________________________________________________________\n",
       "\n",
       "Total params: 32,333\n",
       "Total trainable params: 32,333\n",
       "Total non-trainable params: 0\n",
       "\n",
       "Optimizer used: <function Adam at 0x7f3b4818f670>\n",
       "Loss function: FlattenedLoss of MSELoss()\n",
       "\n",
       "Callbacks:\n",
       "  - TrainEvalCallback\n",
       "  - Recorder\n",
       "  - ProgressCallback"
      ]
     },
     "execution_count": 53,
     "metadata": {},
     "output_type": "execute_result"
    }
   ],
   "source": [
    "learn = tabular_learner(dls, metrics=[rmse, rrmse, bias, bias_pct, mae, R2Score()],  y_range=(0,1000))\n",
    "learn.summary()"
   ]
  },
  {
   "cell_type": "markdown",
   "metadata": {
    "ExecuteTime": {
     "end_time": "2020-11-02T12:15:14.763168Z",
     "start_time": "2020-11-02T12:15:14.758250Z"
    }
   },
   "source": [
    "Find learning rate to use."
   ]
  },
  {
   "cell_type": "code",
   "execution_count": 54,
   "metadata": {
    "ExecuteTime": {
     "end_time": "2020-11-12T09:24:34.446855Z",
     "start_time": "2020-11-12T09:24:32.895842Z"
    }
   },
   "outputs": [
    {
     "data": {
      "text/html": [],
      "text/plain": [
       "<IPython.core.display.HTML object>"
      ]
     },
     "metadata": {},
     "output_type": "display_data"
    },
    {
     "data": {
      "text/plain": [
       "SuggestedLRs(lr_min=0.33113112449646, lr_steep=0.002511886414140463)"
      ]
     },
     "execution_count": 54,
     "metadata": {},
     "output_type": "execute_result"
    },
    {
     "data": {
      "image/png": "[encoded data removed]",
      "text/plain": [
       "<Figure size 432x288 with 1 Axes>"
      ]
     },
     "metadata": {
      "needs_background": "light"
     },
     "output_type": "display_data"
    }
   ],
   "source": [
    "learn.lr_find()"
   ]
  },
  {
   "cell_type": "markdown",
   "metadata": {},
   "source": [
    "1e-2 seems to be a good learning rate."
   ]
  },
  {
   "cell_type": "code",
   "execution_count": 55,
   "metadata": {
    "ExecuteTime": {
     "end_time": "2020-11-12T09:24:37.938141Z",
     "start_time": "2020-11-12T09:24:34.448546Z"
    },
    "scrolled": false
   },
   "outputs": [
    {
     "data": {
      "text/html": [
       "<table border=\"1\" class=\"dataframe\">\n",
       "  <thead>\n",
       "    <tr style=\"text-align: left;\">\n",
       "      <th>epoch</th>\n",
       "      <th>train_loss</th>\n",
       "      <th>valid_loss</th>\n",
       "      <th>_rmse</th>\n",
       "      <th>_rrmse</th>\n",
       "      <th>_bias</th>\n",
       "      <th>_bias_pct</th>\n",
       "      <th>mae</th>\n",
       "      <th>r2_score</th>\n",
       "      <th>time</th>\n",
       "    </tr>\n",
       "  </thead>\n",
       "  <tbody>\n",
       "    <tr>\n",
       "      <td>0</td>\n",
       "      <td>103622.687500</td>\n",
       "      <td>95274.750000</td>\n",
       "      <td>308.666046</td>\n",
       "      <td>204.728287</td>\n",
       "      <td>296.486969</td>\n",
       "      <td>196.650299</td>\n",
       "      <td>298.601654</td>\n",
       "      <td>-9.468830</td>\n",
       "      <td>00:00</td>\n",
       "    </tr>\n",
       "    <tr>\n",
       "      <td>1</td>\n",
       "      <td>67792.937500</td>\n",
       "      <td>17876.328125</td>\n",
       "      <td>133.702393</td>\n",
       "      <td>88.680511</td>\n",
       "      <td>97.756813</td>\n",
       "      <td>64.838966</td>\n",
       "      <td>116.178001</td>\n",
       "      <td>-0.964259</td>\n",
       "      <td>00:00</td>\n",
       "    </tr>\n",
       "    <tr>\n",
       "      <td>2</td>\n",
       "      <td>40012.492188</td>\n",
       "      <td>3003.474365</td>\n",
       "      <td>54.803963</td>\n",
       "      <td>36.349712</td>\n",
       "      <td>13.598287</td>\n",
       "      <td>9.019307</td>\n",
       "      <td>38.162964</td>\n",
       "      <td>0.669977</td>\n",
       "      <td>00:00</td>\n",
       "    </tr>\n",
       "    <tr>\n",
       "      <td>3</td>\n",
       "      <td>25608.246094</td>\n",
       "      <td>2287.800537</td>\n",
       "      <td>47.830959</td>\n",
       "      <td>31.724743</td>\n",
       "      <td>3.597309</td>\n",
       "      <td>2.385980</td>\n",
       "      <td>33.042458</td>\n",
       "      <td>0.748615</td>\n",
       "      <td>00:00</td>\n",
       "    </tr>\n",
       "    <tr>\n",
       "      <td>4</td>\n",
       "      <td>17497.048828</td>\n",
       "      <td>2237.216553</td>\n",
       "      <td>47.299225</td>\n",
       "      <td>31.372059</td>\n",
       "      <td>8.285906</td>\n",
       "      <td>5.495776</td>\n",
       "      <td>32.470200</td>\n",
       "      <td>0.754174</td>\n",
       "      <td>00:00</td>\n",
       "    </tr>\n",
       "    <tr>\n",
       "      <td>5</td>\n",
       "      <td>12436.428711</td>\n",
       "      <td>1781.451416</td>\n",
       "      <td>42.207245</td>\n",
       "      <td>27.994713</td>\n",
       "      <td>4.465552</td>\n",
       "      <td>2.961857</td>\n",
       "      <td>30.362698</td>\n",
       "      <td>0.804253</td>\n",
       "      <td>00:00</td>\n",
       "    </tr>\n",
       "    <tr>\n",
       "      <td>6</td>\n",
       "      <td>9102.534180</td>\n",
       "      <td>1715.989136</td>\n",
       "      <td>41.424500</td>\n",
       "      <td>27.475542</td>\n",
       "      <td>0.079008</td>\n",
       "      <td>0.052403</td>\n",
       "      <td>29.939816</td>\n",
       "      <td>0.811446</td>\n",
       "      <td>00:00</td>\n",
       "    </tr>\n",
       "    <tr>\n",
       "      <td>7</td>\n",
       "      <td>6806.212891</td>\n",
       "      <td>1675.361938</td>\n",
       "      <td>40.931187</td>\n",
       "      <td>27.148346</td>\n",
       "      <td>3.304564</td>\n",
       "      <td>2.191811</td>\n",
       "      <td>29.391481</td>\n",
       "      <td>0.815911</td>\n",
       "      <td>00:00</td>\n",
       "    </tr>\n",
       "    <tr>\n",
       "      <td>8</td>\n",
       "      <td>5208.867676</td>\n",
       "      <td>1686.342529</td>\n",
       "      <td>41.065102</td>\n",
       "      <td>27.237165</td>\n",
       "      <td>5.032578</td>\n",
       "      <td>3.337948</td>\n",
       "      <td>29.563513</td>\n",
       "      <td>0.814704</td>\n",
       "      <td>00:00</td>\n",
       "    </tr>\n",
       "    <tr>\n",
       "      <td>9</td>\n",
       "      <td>4084.758545</td>\n",
       "      <td>1670.866211</td>\n",
       "      <td>40.876232</td>\n",
       "      <td>27.111895</td>\n",
       "      <td>2.558205</td>\n",
       "      <td>1.696776</td>\n",
       "      <td>29.417871</td>\n",
       "      <td>0.816405</td>\n",
       "      <td>00:00</td>\n",
       "    </tr>\n",
       "  </tbody>\n",
       "</table>"
      ],
      "text/plain": [
       "<IPython.core.display.HTML object>"
      ]
     },
     "metadata": {},
     "output_type": "display_data"
    },
    {
     "data": {
      "image/png": "[encoded data removed]",
      "text/plain": [
       "<Figure size 432x288 with 1 Axes>"
      ]
     },
     "metadata": {},
     "output_type": "display_data"
    }
   ],
   "source": [
    "learn.fit_one_cycle(10, max_lr=1e-2, cbs=ShowGraphCallback())"
   ]
  },
  {
   "cell_type": "code",
   "execution_count": 56,
   "metadata": {
    "ExecuteTime": {
     "end_time": "2020-11-12T09:24:37.980687Z",
     "start_time": "2020-11-12T09:24:37.940371Z"
    }
   },
   "outputs": [
    {
     "data": {
      "text/html": [],
      "text/plain": [
       "<IPython.core.display.HTML object>"
      ]
     },
     "metadata": {},
     "output_type": "display_data"
    }
   ],
   "source": [
    "preds, true = learn.get_preds()"
   ]
  },
  {
   "cell_type": "code",
   "execution_count": 57,
   "metadata": {
    "ExecuteTime": {
     "end_time": "2020-11-12T09:24:37.985641Z",
     "start_time": "2020-11-12T09:24:37.982293Z"
    }
   },
   "outputs": [
    {
     "data": {
      "text/plain": [
       "torch.Size([225, 1])"
      ]
     },
     "execution_count": 57,
     "metadata": {},
     "output_type": "execute_result"
    }
   ],
   "source": [
    "preds.shape"
   ]
  },
  {
   "cell_type": "markdown",
   "metadata": {},
   "source": [
    "See validation results"
   ]
  },
  {
   "cell_type": "code",
   "execution_count": 58,
   "metadata": {
    "ExecuteTime": {
     "end_time": "2020-11-12T09:24:38.024686Z",
     "start_time": "2020-11-12T09:24:37.987786Z"
    }
   },
   "outputs": [
    {
     "data": {
      "text/html": [],
      "text/plain": [
       "<IPython.core.display.HTML object>"
      ]
     },
     "metadata": {},
     "output_type": "display_data"
    },
    {
     "data": {
      "text/plain": [
       "(#7) [1670.8662109375,40.8762321472168,27.111894607543945,2.5582053661346436,1.6967756748199463,29.417871475219727,0.8164045033967208]"
      ]
     },
     "execution_count": 58,
     "metadata": {},
     "output_type": "execute_result"
    }
   ],
   "source": [
    "learn.validate()"
   ]
  },
  {
   "cell_type": "markdown",
   "metadata": {},
   "source": [
    "`RegressionInterpretation` can be used to plot results."
   ]
  },
  {
   "cell_type": "code",
   "execution_count": 59,
   "metadata": {
    "ExecuteTime": {
     "end_time": "2020-11-12T09:24:38.065063Z",
     "start_time": "2020-11-12T09:24:38.026104Z"
    }
   },
   "outputs": [
    {
     "data": {
      "text/html": [],
      "text/plain": [
       "<IPython.core.display.HTML object>"
      ]
     },
     "metadata": {},
     "output_type": "display_data"
    }
   ],
   "source": [
    "reg_interp = RegressionInterpretation.from_learner(learn, ds_idx=1)"
   ]
  },
  {
   "cell_type": "code",
   "execution_count": 60,
   "metadata": {
    "ExecuteTime": {
     "end_time": "2020-11-12T09:24:38.319184Z",
     "start_time": "2020-11-12T09:24:38.066334Z"
    }
   },
   "outputs": [
    {
     "data": {
      "image/png": "[encoded data removed]",
      "text/plain": [
       "<Figure size 504x432 with 2 Axes>"
      ]
     },
     "metadata": {
      "needs_background": "light"
     },
     "output_type": "display_data"
    }
   ],
   "source": [
    "reg_interp.plot_results()\n",
    "plt.show()"
   ]
  },
  {
   "cell_type": "markdown",
   "metadata": {},
   "source": [
    "Evaluate test set."
   ]
  },
  {
   "cell_type": "code",
   "execution_count": 61,
   "metadata": {
    "ExecuteTime": {
     "end_time": "2020-11-12T09:24:38.331813Z",
     "start_time": "2020-11-12T09:24:38.321411Z"
    }
   },
   "outputs": [],
   "source": [
    "test_dls = test_tb.dataloaders(y_block=RegressionBlock(), shuffle_train=False, drop_last=False)"
   ]
  },
  {
   "cell_type": "code",
   "execution_count": 62,
   "metadata": {
    "ExecuteTime": {
     "end_time": "2020-11-12T09:24:38.371953Z",
     "start_time": "2020-11-12T09:24:38.333577Z"
    }
   },
   "outputs": [
    {
     "data": {
      "text/html": [],
      "text/plain": [
       "<IPython.core.display.HTML object>"
      ]
     },
     "metadata": {},
     "output_type": "display_data"
    }
   ],
   "source": [
    "test_interp = RegressionInterpretation.from_learner(learn, dl=test_dls.train, ds_idx=0)"
   ]
  },
  {
   "cell_type": "code",
   "execution_count": 63,
   "metadata": {
    "ExecuteTime": {
     "end_time": "2020-11-12T09:24:38.641698Z",
     "start_time": "2020-11-12T09:24:38.373262Z"
    }
   },
   "outputs": [
    {
     "data": {
      "image/png": "[encoded data removed]",
      "text/plain": [
       "<Figure size 504x432 with 2 Axes>"
      ]
     },
     "metadata": {
      "needs_background": "light"
     },
     "output_type": "display_data"
    }
   ],
   "source": [
    "test_interp.plot_results()\n",
    "plt.show()"
   ]
  },
  {
   "cell_type": "markdown",
   "metadata": {},
   "source": [
    "# Ensemble of ANNs"
   ]
  },
  {
   "cell_type": "markdown",
   "metadata": {},
   "source": [
    "Fit several models at once."
   ]
  },
  {
   "cell_type": "code",
   "execution_count": 64,
   "metadata": {
    "ExecuteTime": {
     "end_time": "2020-11-12T09:24:38.659166Z",
     "start_time": "2020-11-12T09:24:38.643677Z"
    }
   },
   "outputs": [],
   "source": [
    "ensemble = tabular_ensemble(dls, \n",
    "                       y_range=(0,1000), \n",
    "                \n",
    "                       metrics=[rmse, rrmse, bias, bias_pct, mae, R2Score()], n_models=10)"
   ]
  },
  {
   "cell_type": "code",
   "execution_count": 65,
   "metadata": {
    "ExecuteTime": {
     "end_time": "2020-11-12T09:24:55.785981Z",
     "start_time": "2020-11-12T09:24:38.661384Z"
    },
    "scrolled": true
   },
   "outputs": [
    {
     "data": {
      "text/html": [
       "<table border=\"1\" class=\"dataframe\">\n",
       "  <thead>\n",
       "    <tr style=\"text-align: left;\">\n",
       "      <th>epoch</th>\n",
       "      <th>train_loss</th>\n",
       "      <th>valid_loss</th>\n",
       "      <th>_rmse</th>\n",
       "      <th>_rrmse</th>\n",
       "      <th>_bias</th>\n",
       "      <th>_bias_pct</th>\n",
       "      <th>mae</th>\n",
       "      <th>r2_score</th>\n",
       "      <th>time</th>\n",
       "    </tr>\n",
       "  </thead>\n",
       "  <tbody>\n",
       "    <tr>\n",
       "      <td>0</td>\n",
       "      <td>150204.203125</td>\n",
       "      <td>118314.757812</td>\n",
       "      <td>343.969147</td>\n",
       "      <td>228.143723</td>\n",
       "      <td>335.680420</td>\n",
       "      <td>222.646072</td>\n",
       "      <td>335.680420</td>\n",
       "      <td>-12.000476</td>\n",
       "      <td>00:00</td>\n",
       "    </tr>\n",
       "    <tr>\n",
       "      <td>1</td>\n",
       "      <td>102918.109375</td>\n",
       "      <td>33107.035156</td>\n",
       "      <td>181.953400</td>\n",
       "      <td>120.683861</td>\n",
       "      <td>139.078537</td>\n",
       "      <td>92.246338</td>\n",
       "      <td>161.792953</td>\n",
       "      <td>-2.637816</td>\n",
       "      <td>00:00</td>\n",
       "    </tr>\n",
       "    <tr>\n",
       "      <td>2</td>\n",
       "      <td>62341.250000</td>\n",
       "      <td>6370.826172</td>\n",
       "      <td>79.817459</td>\n",
       "      <td>52.940361</td>\n",
       "      <td>43.729336</td>\n",
       "      <td>29.004267</td>\n",
       "      <td>59.170559</td>\n",
       "      <td>0.299971</td>\n",
       "      <td>00:00</td>\n",
       "    </tr>\n",
       "    <tr>\n",
       "      <td>3</td>\n",
       "      <td>39759.613281</td>\n",
       "      <td>2726.275391</td>\n",
       "      <td>52.213741</td>\n",
       "      <td>34.631702</td>\n",
       "      <td>4.739119</td>\n",
       "      <td>3.143306</td>\n",
       "      <td>37.230331</td>\n",
       "      <td>0.700436</td>\n",
       "      <td>00:00</td>\n",
       "    </tr>\n",
       "    <tr>\n",
       "      <td>4</td>\n",
       "      <td>26859.281250</td>\n",
       "      <td>2517.844971</td>\n",
       "      <td>50.178135</td>\n",
       "      <td>33.281551</td>\n",
       "      <td>8.350918</td>\n",
       "      <td>5.538896</td>\n",
       "      <td>34.541706</td>\n",
       "      <td>0.723338</td>\n",
       "      <td>00:00</td>\n",
       "    </tr>\n",
       "    <tr>\n",
       "      <td>5</td>\n",
       "      <td>18877.048828</td>\n",
       "      <td>2200.855713</td>\n",
       "      <td>46.913280</td>\n",
       "      <td>31.116074</td>\n",
       "      <td>-2.117134</td>\n",
       "      <td>-1.404227</td>\n",
       "      <td>33.143612</td>\n",
       "      <td>0.758169</td>\n",
       "      <td>00:00</td>\n",
       "    </tr>\n",
       "    <tr>\n",
       "      <td>6</td>\n",
       "      <td>13690.368164</td>\n",
       "      <td>2935.408691</td>\n",
       "      <td>54.179413</td>\n",
       "      <td>35.935467</td>\n",
       "      <td>17.151972</td>\n",
       "      <td>11.376353</td>\n",
       "      <td>35.988026</td>\n",
       "      <td>0.677456</td>\n",
       "      <td>00:00</td>\n",
       "    </tr>\n",
       "    <tr>\n",
       "      <td>7</td>\n",
       "      <td>10151.263672</td>\n",
       "      <td>1802.923584</td>\n",
       "      <td>42.460846</td>\n",
       "      <td>28.162918</td>\n",
       "      <td>0.881966</td>\n",
       "      <td>0.584980</td>\n",
       "      <td>30.151337</td>\n",
       "      <td>0.801894</td>\n",
       "      <td>00:00</td>\n",
       "    </tr>\n",
       "    <tr>\n",
       "      <td>8</td>\n",
       "      <td>7682.562988</td>\n",
       "      <td>1777.892944</td>\n",
       "      <td>42.165062</td>\n",
       "      <td>27.966734</td>\n",
       "      <td>3.107307</td>\n",
       "      <td>2.060977</td>\n",
       "      <td>29.853903</td>\n",
       "      <td>0.804644</td>\n",
       "      <td>00:00</td>\n",
       "    </tr>\n",
       "    <tr>\n",
       "      <td>9</td>\n",
       "      <td>5925.761230</td>\n",
       "      <td>1802.996704</td>\n",
       "      <td>42.461712</td>\n",
       "      <td>28.163492</td>\n",
       "      <td>4.711102</td>\n",
       "      <td>3.124723</td>\n",
       "      <td>29.919847</td>\n",
       "      <td>0.801886</td>\n",
       "      <td>00:00</td>\n",
       "    </tr>\n",
       "  </tbody>\n",
       "</table>"
      ],
      "text/plain": [
       "<IPython.core.display.HTML object>"
      ]
     },
     "metadata": {},
     "output_type": "display_data"
    },
    {
     "data": {
      "text/html": [
       "<table border=\"1\" class=\"dataframe\">\n",
       "  <thead>\n",
       "    <tr style=\"text-align: left;\">\n",
       "      <th>epoch</th>\n",
       "      <th>train_loss</th>\n",
       "      <th>valid_loss</th>\n",
       "      <th>_rmse</th>\n",
       "      <th>_rrmse</th>\n",
       "      <th>_bias</th>\n",
       "      <th>_bias_pct</th>\n",
       "      <th>mae</th>\n",
       "      <th>r2_score</th>\n",
       "      <th>time</th>\n",
       "    </tr>\n",
       "  </thead>\n",
       "  <tbody>\n",
       "    <tr>\n",
       "      <td>0</td>\n",
       "      <td>1685.366577</td>\n",
       "      <td>1661.867065</td>\n",
       "      <td>40.766003</td>\n",
       "      <td>27.038782</td>\n",
       "      <td>2.779842</td>\n",
       "      <td>1.843780</td>\n",
       "      <td>28.531574</td>\n",
       "      <td>0.817393</td>\n",
       "      <td>00:00</td>\n",
       "    </tr>\n",
       "    <tr>\n",
       "      <td>1</td>\n",
       "      <td>1648.396973</td>\n",
       "      <td>1675.897583</td>\n",
       "      <td>40.937725</td>\n",
       "      <td>27.152681</td>\n",
       "      <td>5.308228</td>\n",
       "      <td>3.520777</td>\n",
       "      <td>27.777884</td>\n",
       "      <td>0.815852</td>\n",
       "      <td>00:00</td>\n",
       "    </tr>\n",
       "    <tr>\n",
       "      <td>2</td>\n",
       "      <td>1620.137085</td>\n",
       "      <td>1878.195312</td>\n",
       "      <td>43.338150</td>\n",
       "      <td>28.744804</td>\n",
       "      <td>-6.057193</td>\n",
       "      <td>-4.017542</td>\n",
       "      <td>30.083509</td>\n",
       "      <td>0.793623</td>\n",
       "      <td>00:00</td>\n",
       "    </tr>\n",
       "    <tr>\n",
       "      <td>3</td>\n",
       "      <td>1535.398926</td>\n",
       "      <td>1496.315674</td>\n",
       "      <td>38.682240</td>\n",
       "      <td>25.656689</td>\n",
       "      <td>10.595498</td>\n",
       "      <td>7.027654</td>\n",
       "      <td>27.046387</td>\n",
       "      <td>0.835584</td>\n",
       "      <td>00:00</td>\n",
       "    </tr>\n",
       "    <tr>\n",
       "      <td>4</td>\n",
       "      <td>1441.192017</td>\n",
       "      <td>1750.575562</td>\n",
       "      <td>41.839878</td>\n",
       "      <td>27.751049</td>\n",
       "      <td>12.080876</td>\n",
       "      <td>8.012858</td>\n",
       "      <td>28.394072</td>\n",
       "      <td>0.807646</td>\n",
       "      <td>00:00</td>\n",
       "    </tr>\n",
       "    <tr>\n",
       "      <td>5</td>\n",
       "      <td>1369.209229</td>\n",
       "      <td>1690.794434</td>\n",
       "      <td>41.119274</td>\n",
       "      <td>27.273098</td>\n",
       "      <td>12.839072</td>\n",
       "      <td>8.515745</td>\n",
       "      <td>28.095266</td>\n",
       "      <td>0.814215</td>\n",
       "      <td>00:00</td>\n",
       "    </tr>\n",
       "    <tr>\n",
       "      <td>6</td>\n",
       "      <td>1405.810303</td>\n",
       "      <td>1340.510254</td>\n",
       "      <td>36.612980</td>\n",
       "      <td>24.284216</td>\n",
       "      <td>3.498313</td>\n",
       "      <td>2.320319</td>\n",
       "      <td>25.410084</td>\n",
       "      <td>0.852704</td>\n",
       "      <td>00:00</td>\n",
       "    </tr>\n",
       "    <tr>\n",
       "      <td>7</td>\n",
       "      <td>1329.987549</td>\n",
       "      <td>1408.857544</td>\n",
       "      <td>37.534748</td>\n",
       "      <td>24.895596</td>\n",
       "      <td>3.484744</td>\n",
       "      <td>2.311319</td>\n",
       "      <td>26.715736</td>\n",
       "      <td>0.845194</td>\n",
       "      <td>00:00</td>\n",
       "    </tr>\n",
       "    <tr>\n",
       "      <td>8</td>\n",
       "      <td>1243.909180</td>\n",
       "      <td>1342.506348</td>\n",
       "      <td>36.640228</td>\n",
       "      <td>24.302288</td>\n",
       "      <td>0.664972</td>\n",
       "      <td>0.441055</td>\n",
       "      <td>25.616711</td>\n",
       "      <td>0.852485</td>\n",
       "      <td>00:00</td>\n",
       "    </tr>\n",
       "    <tr>\n",
       "      <td>9</td>\n",
       "      <td>1174.548828</td>\n",
       "      <td>1371.511353</td>\n",
       "      <td>37.033920</td>\n",
       "      <td>24.563412</td>\n",
       "      <td>-0.765934</td>\n",
       "      <td>-0.508019</td>\n",
       "      <td>25.830946</td>\n",
       "      <td>0.849298</td>\n",
       "      <td>00:00</td>\n",
       "    </tr>\n",
       "  </tbody>\n",
       "</table>"
      ],
      "text/plain": [
       "<IPython.core.display.HTML object>"
      ]
     },
     "metadata": {},
     "output_type": "display_data"
    },
    {
     "data": {
      "text/html": [
       "<table border=\"1\" class=\"dataframe\">\n",
       "  <thead>\n",
       "    <tr style=\"text-align: left;\">\n",
       "      <th>epoch</th>\n",
       "      <th>train_loss</th>\n",
       "      <th>valid_loss</th>\n",
       "      <th>_rmse</th>\n",
       "      <th>_rrmse</th>\n",
       "      <th>_bias</th>\n",
       "      <th>_bias_pct</th>\n",
       "      <th>mae</th>\n",
       "      <th>r2_score</th>\n",
       "      <th>time</th>\n",
       "    </tr>\n",
       "  </thead>\n",
       "  <tbody>\n",
       "    <tr>\n",
       "      <td>0</td>\n",
       "      <td>881.797424</td>\n",
       "      <td>1677.006714</td>\n",
       "      <td>40.951275</td>\n",
       "      <td>27.161667</td>\n",
       "      <td>13.071043</td>\n",
       "      <td>8.669603</td>\n",
       "      <td>27.864777</td>\n",
       "      <td>0.815730</td>\n",
       "      <td>00:00</td>\n",
       "    </tr>\n",
       "    <tr>\n",
       "      <td>1</td>\n",
       "      <td>919.793701</td>\n",
       "      <td>1355.770508</td>\n",
       "      <td>36.820786</td>\n",
       "      <td>24.422047</td>\n",
       "      <td>-0.830253</td>\n",
       "      <td>-0.550680</td>\n",
       "      <td>25.896446</td>\n",
       "      <td>0.851027</td>\n",
       "      <td>00:00</td>\n",
       "    </tr>\n",
       "    <tr>\n",
       "      <td>2</td>\n",
       "      <td>1098.956177</td>\n",
       "      <td>1435.033936</td>\n",
       "      <td>37.881844</td>\n",
       "      <td>25.125813</td>\n",
       "      <td>-7.639257</td>\n",
       "      <td>-5.066875</td>\n",
       "      <td>26.671926</td>\n",
       "      <td>0.842318</td>\n",
       "      <td>00:00</td>\n",
       "    </tr>\n",
       "    <tr>\n",
       "      <td>3</td>\n",
       "      <td>1229.997192</td>\n",
       "      <td>1561.453003</td>\n",
       "      <td>39.515224</td>\n",
       "      <td>26.209181</td>\n",
       "      <td>-6.946378</td>\n",
       "      <td>-4.607310</td>\n",
       "      <td>27.995152</td>\n",
       "      <td>0.828427</td>\n",
       "      <td>00:00</td>\n",
       "    </tr>\n",
       "    <tr>\n",
       "      <td>4</td>\n",
       "      <td>1154.554077</td>\n",
       "      <td>1588.345337</td>\n",
       "      <td>39.854046</td>\n",
       "      <td>26.433912</td>\n",
       "      <td>6.560134</td>\n",
       "      <td>4.351126</td>\n",
       "      <td>26.519522</td>\n",
       "      <td>0.825472</td>\n",
       "      <td>00:00</td>\n",
       "    </tr>\n",
       "    <tr>\n",
       "      <td>5</td>\n",
       "      <td>1087.395630</td>\n",
       "      <td>1520.771118</td>\n",
       "      <td>38.997066</td>\n",
       "      <td>25.865503</td>\n",
       "      <td>10.386675</td>\n",
       "      <td>6.889148</td>\n",
       "      <td>26.586527</td>\n",
       "      <td>0.832897</td>\n",
       "      <td>00:00</td>\n",
       "    </tr>\n",
       "    <tr>\n",
       "      <td>6</td>\n",
       "      <td>1045.587646</td>\n",
       "      <td>1438.833862</td>\n",
       "      <td>37.931965</td>\n",
       "      <td>25.159056</td>\n",
       "      <td>3.317865</td>\n",
       "      <td>2.200633</td>\n",
       "      <td>26.456392</td>\n",
       "      <td>0.841900</td>\n",
       "      <td>00:00</td>\n",
       "    </tr>\n",
       "    <tr>\n",
       "      <td>7</td>\n",
       "      <td>958.591309</td>\n",
       "      <td>1388.617676</td>\n",
       "      <td>37.264164</td>\n",
       "      <td>24.716125</td>\n",
       "      <td>3.649852</td>\n",
       "      <td>2.420830</td>\n",
       "      <td>25.979591</td>\n",
       "      <td>0.847418</td>\n",
       "      <td>00:00</td>\n",
       "    </tr>\n",
       "    <tr>\n",
       "      <td>8</td>\n",
       "      <td>919.623047</td>\n",
       "      <td>1365.245117</td>\n",
       "      <td>36.949226</td>\n",
       "      <td>24.507238</td>\n",
       "      <td>1.975572</td>\n",
       "      <td>1.310334</td>\n",
       "      <td>25.905403</td>\n",
       "      <td>0.849986</td>\n",
       "      <td>00:00</td>\n",
       "    </tr>\n",
       "    <tr>\n",
       "      <td>9</td>\n",
       "      <td>846.003418</td>\n",
       "      <td>1365.845093</td>\n",
       "      <td>36.957344</td>\n",
       "      <td>24.512621</td>\n",
       "      <td>3.344747</td>\n",
       "      <td>2.218463</td>\n",
       "      <td>25.876581</td>\n",
       "      <td>0.849920</td>\n",
       "      <td>00:00</td>\n",
       "    </tr>\n",
       "  </tbody>\n",
       "</table>"
      ],
      "text/plain": [
       "<IPython.core.display.HTML object>"
      ]
     },
     "metadata": {},
     "output_type": "display_data"
    },
    {
     "data": {
      "text/html": [
       "<table border=\"1\" class=\"dataframe\">\n",
       "  <thead>\n",
       "    <tr style=\"text-align: left;\">\n",
       "      <th>epoch</th>\n",
       "      <th>train_loss</th>\n",
       "      <th>valid_loss</th>\n",
       "      <th>_rmse</th>\n",
       "      <th>_rrmse</th>\n",
       "      <th>_bias</th>\n",
       "      <th>_bias_pct</th>\n",
       "      <th>mae</th>\n",
       "      <th>r2_score</th>\n",
       "      <th>time</th>\n",
       "    </tr>\n",
       "  </thead>\n",
       "  <tbody>\n",
       "    <tr>\n",
       "      <td>0</td>\n",
       "      <td>722.868347</td>\n",
       "      <td>1514.678589</td>\n",
       "      <td>38.918873</td>\n",
       "      <td>25.813643</td>\n",
       "      <td>7.728534</td>\n",
       "      <td>5.126089</td>\n",
       "      <td>26.539154</td>\n",
       "      <td>0.833566</td>\n",
       "      <td>00:00</td>\n",
       "    </tr>\n",
       "    <tr>\n",
       "      <td>1</td>\n",
       "      <td>797.213440</td>\n",
       "      <td>1437.955566</td>\n",
       "      <td>37.920383</td>\n",
       "      <td>25.151375</td>\n",
       "      <td>8.506023</td>\n",
       "      <td>5.641773</td>\n",
       "      <td>26.415222</td>\n",
       "      <td>0.841997</td>\n",
       "      <td>00:00</td>\n",
       "    </tr>\n",
       "    <tr>\n",
       "      <td>2</td>\n",
       "      <td>817.364197</td>\n",
       "      <td>2038.768188</td>\n",
       "      <td>45.152721</td>\n",
       "      <td>29.948353</td>\n",
       "      <td>18.701193</td>\n",
       "      <td>12.403902</td>\n",
       "      <td>30.496374</td>\n",
       "      <td>0.775979</td>\n",
       "      <td>00:00</td>\n",
       "    </tr>\n",
       "    <tr>\n",
       "      <td>3</td>\n",
       "      <td>962.673157</td>\n",
       "      <td>2091.004639</td>\n",
       "      <td>45.727505</td>\n",
       "      <td>30.329588</td>\n",
       "      <td>-3.978646</td>\n",
       "      <td>-2.638908</td>\n",
       "      <td>30.751137</td>\n",
       "      <td>0.770240</td>\n",
       "      <td>00:00</td>\n",
       "    </tr>\n",
       "    <tr>\n",
       "      <td>4</td>\n",
       "      <td>967.000244</td>\n",
       "      <td>1520.521606</td>\n",
       "      <td>38.993866</td>\n",
       "      <td>25.863382</td>\n",
       "      <td>2.351977</td>\n",
       "      <td>1.559991</td>\n",
       "      <td>26.867878</td>\n",
       "      <td>0.832924</td>\n",
       "      <td>00:00</td>\n",
       "    </tr>\n",
       "    <tr>\n",
       "      <td>5</td>\n",
       "      <td>881.042053</td>\n",
       "      <td>1566.415649</td>\n",
       "      <td>39.577969</td>\n",
       "      <td>26.250797</td>\n",
       "      <td>7.822575</td>\n",
       "      <td>5.188463</td>\n",
       "      <td>27.020096</td>\n",
       "      <td>0.827882</td>\n",
       "      <td>00:00</td>\n",
       "    </tr>\n",
       "    <tr>\n",
       "      <td>6</td>\n",
       "      <td>878.921570</td>\n",
       "      <td>1540.322510</td>\n",
       "      <td>39.246941</td>\n",
       "      <td>26.031239</td>\n",
       "      <td>11.821696</td>\n",
       "      <td>7.840952</td>\n",
       "      <td>26.992058</td>\n",
       "      <td>0.830749</td>\n",
       "      <td>00:00</td>\n",
       "    </tr>\n",
       "    <tr>\n",
       "      <td>7</td>\n",
       "      <td>843.075195</td>\n",
       "      <td>1636.175659</td>\n",
       "      <td>40.449665</td>\n",
       "      <td>26.828966</td>\n",
       "      <td>-2.820441</td>\n",
       "      <td>-1.870708</td>\n",
       "      <td>27.601677</td>\n",
       "      <td>0.820216</td>\n",
       "      <td>00:00</td>\n",
       "    </tr>\n",
       "    <tr>\n",
       "      <td>8</td>\n",
       "      <td>807.162659</td>\n",
       "      <td>1363.674438</td>\n",
       "      <td>36.927959</td>\n",
       "      <td>24.493132</td>\n",
       "      <td>-0.230941</td>\n",
       "      <td>-0.153176</td>\n",
       "      <td>25.394245</td>\n",
       "      <td>0.850159</td>\n",
       "      <td>00:00</td>\n",
       "    </tr>\n",
       "    <tr>\n",
       "      <td>9</td>\n",
       "      <td>737.769165</td>\n",
       "      <td>1359.296509</td>\n",
       "      <td>36.868637</td>\n",
       "      <td>24.453785</td>\n",
       "      <td>1.537286</td>\n",
       "      <td>1.019632</td>\n",
       "      <td>25.381962</td>\n",
       "      <td>0.850640</td>\n",
       "      <td>00:00</td>\n",
       "    </tr>\n",
       "  </tbody>\n",
       "</table>"
      ],
      "text/plain": [
       "<IPython.core.display.HTML object>"
      ]
     },
     "metadata": {},
     "output_type": "display_data"
    },
    {
     "data": {
      "text/html": [
       "<table border=\"1\" class=\"dataframe\">\n",
       "  <thead>\n",
       "    <tr style=\"text-align: left;\">\n",
       "      <th>epoch</th>\n",
       "      <th>train_loss</th>\n",
       "      <th>valid_loss</th>\n",
       "      <th>_rmse</th>\n",
       "      <th>_rrmse</th>\n",
       "      <th>_bias</th>\n",
       "      <th>_bias_pct</th>\n",
       "      <th>mae</th>\n",
       "      <th>r2_score</th>\n",
       "      <th>time</th>\n",
       "    </tr>\n",
       "  </thead>\n",
       "  <tbody>\n",
       "    <tr>\n",
       "      <td>0</td>\n",
       "      <td>719.491516</td>\n",
       "      <td>1331.415039</td>\n",
       "      <td>36.488560</td>\n",
       "      <td>24.201693</td>\n",
       "      <td>0.538931</td>\n",
       "      <td>0.357456</td>\n",
       "      <td>25.262024</td>\n",
       "      <td>0.853704</td>\n",
       "      <td>00:00</td>\n",
       "    </tr>\n",
       "    <tr>\n",
       "      <td>1</td>\n",
       "      <td>798.781433</td>\n",
       "      <td>1336.913696</td>\n",
       "      <td>36.563835</td>\n",
       "      <td>24.251621</td>\n",
       "      <td>5.294687</td>\n",
       "      <td>3.511796</td>\n",
       "      <td>25.340353</td>\n",
       "      <td>0.853099</td>\n",
       "      <td>00:00</td>\n",
       "    </tr>\n",
       "    <tr>\n",
       "      <td>2</td>\n",
       "      <td>828.352722</td>\n",
       "      <td>1464.902588</td>\n",
       "      <td>38.274048</td>\n",
       "      <td>25.385948</td>\n",
       "      <td>-0.016342</td>\n",
       "      <td>-0.010839</td>\n",
       "      <td>26.065414</td>\n",
       "      <td>0.839036</td>\n",
       "      <td>00:00</td>\n",
       "    </tr>\n",
       "    <tr>\n",
       "      <td>3</td>\n",
       "      <td>861.397522</td>\n",
       "      <td>1763.726196</td>\n",
       "      <td>41.996738</td>\n",
       "      <td>27.855089</td>\n",
       "      <td>-10.394792</td>\n",
       "      <td>-6.894532</td>\n",
       "      <td>28.223377</td>\n",
       "      <td>0.806201</td>\n",
       "      <td>00:00</td>\n",
       "    </tr>\n",
       "    <tr>\n",
       "      <td>4</td>\n",
       "      <td>876.386169</td>\n",
       "      <td>1368.559204</td>\n",
       "      <td>36.994041</td>\n",
       "      <td>24.536961</td>\n",
       "      <td>2.841912</td>\n",
       "      <td>1.884949</td>\n",
       "      <td>26.122585</td>\n",
       "      <td>0.849622</td>\n",
       "      <td>00:00</td>\n",
       "    </tr>\n",
       "    <tr>\n",
       "      <td>5</td>\n",
       "      <td>775.762024</td>\n",
       "      <td>1501.204346</td>\n",
       "      <td>38.745380</td>\n",
       "      <td>25.698570</td>\n",
       "      <td>5.445470</td>\n",
       "      <td>3.611806</td>\n",
       "      <td>26.725460</td>\n",
       "      <td>0.835047</td>\n",
       "      <td>00:00</td>\n",
       "    </tr>\n",
       "    <tr>\n",
       "      <td>6</td>\n",
       "      <td>723.812744</td>\n",
       "      <td>1454.110718</td>\n",
       "      <td>38.132805</td>\n",
       "      <td>25.292269</td>\n",
       "      <td>1.192578</td>\n",
       "      <td>0.790999</td>\n",
       "      <td>26.200825</td>\n",
       "      <td>0.840222</td>\n",
       "      <td>00:00</td>\n",
       "    </tr>\n",
       "    <tr>\n",
       "      <td>7</td>\n",
       "      <td>682.769531</td>\n",
       "      <td>1386.874390</td>\n",
       "      <td>37.240761</td>\n",
       "      <td>24.700603</td>\n",
       "      <td>3.553009</td>\n",
       "      <td>2.356597</td>\n",
       "      <td>25.809780</td>\n",
       "      <td>0.847610</td>\n",
       "      <td>00:00</td>\n",
       "    </tr>\n",
       "    <tr>\n",
       "      <td>8</td>\n",
       "      <td>636.112305</td>\n",
       "      <td>1309.844482</td>\n",
       "      <td>36.191776</td>\n",
       "      <td>24.004845</td>\n",
       "      <td>0.569287</td>\n",
       "      <td>0.377590</td>\n",
       "      <td>24.848181</td>\n",
       "      <td>0.856074</td>\n",
       "      <td>00:00</td>\n",
       "    </tr>\n",
       "    <tr>\n",
       "      <td>9</td>\n",
       "      <td>607.942322</td>\n",
       "      <td>1323.500854</td>\n",
       "      <td>36.379951</td>\n",
       "      <td>24.129656</td>\n",
       "      <td>3.401556</td>\n",
       "      <td>2.256143</td>\n",
       "      <td>25.135078</td>\n",
       "      <td>0.854573</td>\n",
       "      <td>00:00</td>\n",
       "    </tr>\n",
       "  </tbody>\n",
       "</table>"
      ],
      "text/plain": [
       "<IPython.core.display.HTML object>"
      ]
     },
     "metadata": {},
     "output_type": "display_data"
    },
    {
     "data": {
      "text/html": [
       "<table border=\"1\" class=\"dataframe\">\n",
       "  <thead>\n",
       "    <tr style=\"text-align: left;\">\n",
       "      <th>epoch</th>\n",
       "      <th>train_loss</th>\n",
       "      <th>valid_loss</th>\n",
       "      <th>_rmse</th>\n",
       "      <th>_rrmse</th>\n",
       "      <th>_bias</th>\n",
       "      <th>_bias_pct</th>\n",
       "      <th>mae</th>\n",
       "      <th>r2_score</th>\n",
       "      <th>time</th>\n",
       "    </tr>\n",
       "  </thead>\n",
       "  <tbody>\n",
       "    <tr>\n",
       "      <td>0</td>\n",
       "      <td>690.058655</td>\n",
       "      <td>1298.576782</td>\n",
       "      <td>36.035770</td>\n",
       "      <td>23.901371</td>\n",
       "      <td>5.139105</td>\n",
       "      <td>3.408604</td>\n",
       "      <td>25.071398</td>\n",
       "      <td>0.857312</td>\n",
       "      <td>00:00</td>\n",
       "    </tr>\n",
       "    <tr>\n",
       "      <td>1</td>\n",
       "      <td>642.541748</td>\n",
       "      <td>1512.680054</td>\n",
       "      <td>38.893185</td>\n",
       "      <td>25.796600</td>\n",
       "      <td>9.932153</td>\n",
       "      <td>6.587678</td>\n",
       "      <td>27.396889</td>\n",
       "      <td>0.833786</td>\n",
       "      <td>00:00</td>\n",
       "    </tr>\n",
       "    <tr>\n",
       "      <td>2</td>\n",
       "      <td>728.230530</td>\n",
       "      <td>2273.294189</td>\n",
       "      <td>47.679077</td>\n",
       "      <td>31.624004</td>\n",
       "      <td>-10.660221</td>\n",
       "      <td>-7.070583</td>\n",
       "      <td>30.549149</td>\n",
       "      <td>0.750209</td>\n",
       "      <td>00:00</td>\n",
       "    </tr>\n",
       "    <tr>\n",
       "      <td>3</td>\n",
       "      <td>708.484253</td>\n",
       "      <td>1396.737671</td>\n",
       "      <td>37.372955</td>\n",
       "      <td>24.788282</td>\n",
       "      <td>0.575952</td>\n",
       "      <td>0.382010</td>\n",
       "      <td>25.168108</td>\n",
       "      <td>0.846526</td>\n",
       "      <td>00:00</td>\n",
       "    </tr>\n",
       "    <tr>\n",
       "      <td>4</td>\n",
       "      <td>716.260254</td>\n",
       "      <td>1730.018799</td>\n",
       "      <td>41.593494</td>\n",
       "      <td>27.587631</td>\n",
       "      <td>7.261439</td>\n",
       "      <td>4.816279</td>\n",
       "      <td>28.389706</td>\n",
       "      <td>0.809905</td>\n",
       "      <td>00:00</td>\n",
       "    </tr>\n",
       "    <tr>\n",
       "      <td>5</td>\n",
       "      <td>733.203003</td>\n",
       "      <td>1378.893799</td>\n",
       "      <td>37.133457</td>\n",
       "      <td>24.629433</td>\n",
       "      <td>2.843293</td>\n",
       "      <td>1.885865</td>\n",
       "      <td>25.363997</td>\n",
       "      <td>0.848487</td>\n",
       "      <td>00:00</td>\n",
       "    </tr>\n",
       "    <tr>\n",
       "      <td>6</td>\n",
       "      <td>668.558411</td>\n",
       "      <td>1396.495605</td>\n",
       "      <td>37.369717</td>\n",
       "      <td>24.786135</td>\n",
       "      <td>1.016929</td>\n",
       "      <td>0.674497</td>\n",
       "      <td>25.562750</td>\n",
       "      <td>0.846552</td>\n",
       "      <td>00:00</td>\n",
       "    </tr>\n",
       "    <tr>\n",
       "      <td>7</td>\n",
       "      <td>612.826294</td>\n",
       "      <td>1480.559570</td>\n",
       "      <td>38.478039</td>\n",
       "      <td>25.521248</td>\n",
       "      <td>0.716932</td>\n",
       "      <td>0.475518</td>\n",
       "      <td>26.619188</td>\n",
       "      <td>0.837315</td>\n",
       "      <td>00:00</td>\n",
       "    </tr>\n",
       "    <tr>\n",
       "      <td>8</td>\n",
       "      <td>594.408691</td>\n",
       "      <td>1420.026001</td>\n",
       "      <td>37.683231</td>\n",
       "      <td>24.994080</td>\n",
       "      <td>4.380037</td>\n",
       "      <td>2.905138</td>\n",
       "      <td>26.304623</td>\n",
       "      <td>0.843967</td>\n",
       "      <td>00:00</td>\n",
       "    </tr>\n",
       "    <tr>\n",
       "      <td>9</td>\n",
       "      <td>548.277039</td>\n",
       "      <td>1386.350220</td>\n",
       "      <td>37.233730</td>\n",
       "      <td>24.695940</td>\n",
       "      <td>1.150163</td>\n",
       "      <td>0.762866</td>\n",
       "      <td>25.534573</td>\n",
       "      <td>0.847667</td>\n",
       "      <td>00:00</td>\n",
       "    </tr>\n",
       "  </tbody>\n",
       "</table>"
      ],
      "text/plain": [
       "<IPython.core.display.HTML object>"
      ]
     },
     "metadata": {},
     "output_type": "display_data"
    },
    {
     "data": {
      "text/html": [
       "<table border=\"1\" class=\"dataframe\">\n",
       "  <thead>\n",
       "    <tr style=\"text-align: left;\">\n",
       "      <th>epoch</th>\n",
       "      <th>train_loss</th>\n",
       "      <th>valid_loss</th>\n",
       "      <th>_rmse</th>\n",
       "      <th>_rrmse</th>\n",
       "      <th>_bias</th>\n",
       "      <th>_bias_pct</th>\n",
       "      <th>mae</th>\n",
       "      <th>r2_score</th>\n",
       "      <th>time</th>\n",
       "    </tr>\n",
       "  </thead>\n",
       "  <tbody>\n",
       "    <tr>\n",
       "      <td>0</td>\n",
       "      <td>488.189484</td>\n",
       "      <td>1400.300415</td>\n",
       "      <td>37.420586</td>\n",
       "      <td>24.819874</td>\n",
       "      <td>4.622324</td>\n",
       "      <td>3.065839</td>\n",
       "      <td>25.969517</td>\n",
       "      <td>0.846134</td>\n",
       "      <td>00:00</td>\n",
       "    </tr>\n",
       "    <tr>\n",
       "      <td>1</td>\n",
       "      <td>500.118439</td>\n",
       "      <td>1493.976929</td>\n",
       "      <td>38.651997</td>\n",
       "      <td>25.636631</td>\n",
       "      <td>6.585656</td>\n",
       "      <td>4.368054</td>\n",
       "      <td>26.726866</td>\n",
       "      <td>0.835841</td>\n",
       "      <td>00:00</td>\n",
       "    </tr>\n",
       "    <tr>\n",
       "      <td>2</td>\n",
       "      <td>534.764221</td>\n",
       "      <td>1924.528564</td>\n",
       "      <td>43.869450</td>\n",
       "      <td>29.097198</td>\n",
       "      <td>-6.399771</td>\n",
       "      <td>-4.244763</td>\n",
       "      <td>28.825726</td>\n",
       "      <td>0.788532</td>\n",
       "      <td>00:00</td>\n",
       "    </tr>\n",
       "    <tr>\n",
       "      <td>3</td>\n",
       "      <td>616.837280</td>\n",
       "      <td>1670.101196</td>\n",
       "      <td>40.866875</td>\n",
       "      <td>27.105690</td>\n",
       "      <td>6.550404</td>\n",
       "      <td>4.344673</td>\n",
       "      <td>28.113920</td>\n",
       "      <td>0.816489</td>\n",
       "      <td>00:00</td>\n",
       "    </tr>\n",
       "    <tr>\n",
       "      <td>4</td>\n",
       "      <td>613.263428</td>\n",
       "      <td>1249.709106</td>\n",
       "      <td>35.351227</td>\n",
       "      <td>23.447336</td>\n",
       "      <td>1.143423</td>\n",
       "      <td>0.758396</td>\n",
       "      <td>24.934845</td>\n",
       "      <td>0.862681</td>\n",
       "      <td>00:00</td>\n",
       "    </tr>\n",
       "    <tr>\n",
       "      <td>5</td>\n",
       "      <td>629.437073</td>\n",
       "      <td>2063.984619</td>\n",
       "      <td>45.431099</td>\n",
       "      <td>30.132992</td>\n",
       "      <td>-7.929991</td>\n",
       "      <td>-5.259709</td>\n",
       "      <td>30.549417</td>\n",
       "      <td>0.773208</td>\n",
       "      <td>00:00</td>\n",
       "    </tr>\n",
       "    <tr>\n",
       "      <td>6</td>\n",
       "      <td>661.794006</td>\n",
       "      <td>1454.061523</td>\n",
       "      <td>38.132156</td>\n",
       "      <td>25.291836</td>\n",
       "      <td>-2.940782</td>\n",
       "      <td>-1.950526</td>\n",
       "      <td>25.836348</td>\n",
       "      <td>0.840227</td>\n",
       "      <td>00:00</td>\n",
       "    </tr>\n",
       "    <tr>\n",
       "      <td>7</td>\n",
       "      <td>608.870728</td>\n",
       "      <td>1341.109497</td>\n",
       "      <td>36.621162</td>\n",
       "      <td>24.289644</td>\n",
       "      <td>4.095335</td>\n",
       "      <td>2.716305</td>\n",
       "      <td>25.880447</td>\n",
       "      <td>0.852638</td>\n",
       "      <td>00:00</td>\n",
       "    </tr>\n",
       "    <tr>\n",
       "      <td>8</td>\n",
       "      <td>563.586609</td>\n",
       "      <td>1414.234131</td>\n",
       "      <td>37.606304</td>\n",
       "      <td>24.943056</td>\n",
       "      <td>1.020747</td>\n",
       "      <td>0.677029</td>\n",
       "      <td>26.086145</td>\n",
       "      <td>0.844603</td>\n",
       "      <td>00:00</td>\n",
       "    </tr>\n",
       "    <tr>\n",
       "      <td>9</td>\n",
       "      <td>523.032043</td>\n",
       "      <td>1379.311890</td>\n",
       "      <td>37.139088</td>\n",
       "      <td>24.633165</td>\n",
       "      <td>0.699250</td>\n",
       "      <td>0.463790</td>\n",
       "      <td>25.717276</td>\n",
       "      <td>0.848441</td>\n",
       "      <td>00:00</td>\n",
       "    </tr>\n",
       "  </tbody>\n",
       "</table>"
      ],
      "text/plain": [
       "<IPython.core.display.HTML object>"
      ]
     },
     "metadata": {},
     "output_type": "display_data"
    },
    {
     "data": {
      "text/html": [
       "<table border=\"1\" class=\"dataframe\">\n",
       "  <thead>\n",
       "    <tr style=\"text-align: left;\">\n",
       "      <th>epoch</th>\n",
       "      <th>train_loss</th>\n",
       "      <th>valid_loss</th>\n",
       "      <th>_rmse</th>\n",
       "      <th>_rrmse</th>\n",
       "      <th>_bias</th>\n",
       "      <th>_bias_pct</th>\n",
       "      <th>mae</th>\n",
       "      <th>r2_score</th>\n",
       "      <th>time</th>\n",
       "    </tr>\n",
       "  </thead>\n",
       "  <tbody>\n",
       "    <tr>\n",
       "      <td>0</td>\n",
       "      <td>403.268890</td>\n",
       "      <td>1379.445923</td>\n",
       "      <td>37.140892</td>\n",
       "      <td>24.634363</td>\n",
       "      <td>-1.472785</td>\n",
       "      <td>-0.976851</td>\n",
       "      <td>25.210234</td>\n",
       "      <td>0.848426</td>\n",
       "      <td>00:00</td>\n",
       "    </tr>\n",
       "    <tr>\n",
       "      <td>1</td>\n",
       "      <td>414.617645</td>\n",
       "      <td>1357.891724</td>\n",
       "      <td>36.849586</td>\n",
       "      <td>24.441151</td>\n",
       "      <td>1.971533</td>\n",
       "      <td>1.307655</td>\n",
       "      <td>25.926712</td>\n",
       "      <td>0.850794</td>\n",
       "      <td>00:00</td>\n",
       "    </tr>\n",
       "    <tr>\n",
       "      <td>2</td>\n",
       "      <td>498.553864</td>\n",
       "      <td>1571.276123</td>\n",
       "      <td>39.639324</td>\n",
       "      <td>26.291492</td>\n",
       "      <td>10.030800</td>\n",
       "      <td>6.653108</td>\n",
       "      <td>28.190790</td>\n",
       "      <td>0.827348</td>\n",
       "      <td>00:00</td>\n",
       "    </tr>\n",
       "    <tr>\n",
       "      <td>3</td>\n",
       "      <td>494.435272</td>\n",
       "      <td>1591.373901</td>\n",
       "      <td>39.892029</td>\n",
       "      <td>26.459105</td>\n",
       "      <td>8.193417</td>\n",
       "      <td>5.434431</td>\n",
       "      <td>28.962667</td>\n",
       "      <td>0.825139</td>\n",
       "      <td>00:00</td>\n",
       "    </tr>\n",
       "    <tr>\n",
       "      <td>4</td>\n",
       "      <td>564.415955</td>\n",
       "      <td>1600.334351</td>\n",
       "      <td>40.004181</td>\n",
       "      <td>26.533491</td>\n",
       "      <td>10.002419</td>\n",
       "      <td>6.634284</td>\n",
       "      <td>28.723125</td>\n",
       "      <td>0.824155</td>\n",
       "      <td>00:00</td>\n",
       "    </tr>\n",
       "    <tr>\n",
       "      <td>5</td>\n",
       "      <td>620.891479</td>\n",
       "      <td>1688.584595</td>\n",
       "      <td>41.092392</td>\n",
       "      <td>27.255266</td>\n",
       "      <td>1.455118</td>\n",
       "      <td>0.965133</td>\n",
       "      <td>28.823832</td>\n",
       "      <td>0.814458</td>\n",
       "      <td>00:00</td>\n",
       "    </tr>\n",
       "    <tr>\n",
       "      <td>6</td>\n",
       "      <td>621.561157</td>\n",
       "      <td>1660.631714</td>\n",
       "      <td>40.750851</td>\n",
       "      <td>27.028734</td>\n",
       "      <td>4.761333</td>\n",
       "      <td>3.158040</td>\n",
       "      <td>28.518719</td>\n",
       "      <td>0.817529</td>\n",
       "      <td>00:00</td>\n",
       "    </tr>\n",
       "    <tr>\n",
       "      <td>7</td>\n",
       "      <td>580.519409</td>\n",
       "      <td>1630.427002</td>\n",
       "      <td>40.378548</td>\n",
       "      <td>26.781797</td>\n",
       "      <td>0.641317</td>\n",
       "      <td>0.425365</td>\n",
       "      <td>27.929224</td>\n",
       "      <td>0.820848</td>\n",
       "      <td>00:00</td>\n",
       "    </tr>\n",
       "    <tr>\n",
       "      <td>8</td>\n",
       "      <td>542.850037</td>\n",
       "      <td>1487.852173</td>\n",
       "      <td>38.572685</td>\n",
       "      <td>25.584024</td>\n",
       "      <td>-0.469879</td>\n",
       "      <td>-0.311655</td>\n",
       "      <td>26.159948</td>\n",
       "      <td>0.836514</td>\n",
       "      <td>00:00</td>\n",
       "    </tr>\n",
       "    <tr>\n",
       "      <td>9</td>\n",
       "      <td>498.091675</td>\n",
       "      <td>1495.036133</td>\n",
       "      <td>38.665699</td>\n",
       "      <td>25.645718</td>\n",
       "      <td>0.551495</td>\n",
       "      <td>0.365789</td>\n",
       "      <td>26.258169</td>\n",
       "      <td>0.835725</td>\n",
       "      <td>00:00</td>\n",
       "    </tr>\n",
       "  </tbody>\n",
       "</table>"
      ],
      "text/plain": [
       "<IPython.core.display.HTML object>"
      ]
     },
     "metadata": {},
     "output_type": "display_data"
    },
    {
     "data": {
      "text/html": [
       "<table border=\"1\" class=\"dataframe\">\n",
       "  <thead>\n",
       "    <tr style=\"text-align: left;\">\n",
       "      <th>epoch</th>\n",
       "      <th>train_loss</th>\n",
       "      <th>valid_loss</th>\n",
       "      <th>_rmse</th>\n",
       "      <th>_rrmse</th>\n",
       "      <th>_bias</th>\n",
       "      <th>_bias_pct</th>\n",
       "      <th>mae</th>\n",
       "      <th>r2_score</th>\n",
       "      <th>time</th>\n",
       "    </tr>\n",
       "  </thead>\n",
       "  <tbody>\n",
       "    <tr>\n",
       "      <td>0</td>\n",
       "      <td>501.399323</td>\n",
       "      <td>1635.369873</td>\n",
       "      <td>40.439709</td>\n",
       "      <td>26.822361</td>\n",
       "      <td>0.473661</td>\n",
       "      <td>0.314164</td>\n",
       "      <td>27.723068</td>\n",
       "      <td>0.820305</td>\n",
       "      <td>00:00</td>\n",
       "    </tr>\n",
       "    <tr>\n",
       "      <td>1</td>\n",
       "      <td>446.287567</td>\n",
       "      <td>1975.918091</td>\n",
       "      <td>44.451302</td>\n",
       "      <td>29.483124</td>\n",
       "      <td>-3.608853</td>\n",
       "      <td>-2.393637</td>\n",
       "      <td>29.696983</td>\n",
       "      <td>0.782885</td>\n",
       "      <td>00:00</td>\n",
       "    </tr>\n",
       "    <tr>\n",
       "      <td>2</td>\n",
       "      <td>482.176147</td>\n",
       "      <td>1688.427734</td>\n",
       "      <td>41.090485</td>\n",
       "      <td>27.254000</td>\n",
       "      <td>1.770888</td>\n",
       "      <td>1.174573</td>\n",
       "      <td>28.036381</td>\n",
       "      <td>0.814475</td>\n",
       "      <td>00:00</td>\n",
       "    </tr>\n",
       "    <tr>\n",
       "      <td>3</td>\n",
       "      <td>491.058411</td>\n",
       "      <td>1544.669312</td>\n",
       "      <td>39.302284</td>\n",
       "      <td>26.067945</td>\n",
       "      <td>2.937232</td>\n",
       "      <td>1.948172</td>\n",
       "      <td>27.916862</td>\n",
       "      <td>0.830271</td>\n",
       "      <td>00:00</td>\n",
       "    </tr>\n",
       "    <tr>\n",
       "      <td>4</td>\n",
       "      <td>495.494049</td>\n",
       "      <td>1633.745239</td>\n",
       "      <td>40.419613</td>\n",
       "      <td>26.809034</td>\n",
       "      <td>3.350405</td>\n",
       "      <td>2.222216</td>\n",
       "      <td>27.935883</td>\n",
       "      <td>0.820483</td>\n",
       "      <td>00:00</td>\n",
       "    </tr>\n",
       "    <tr>\n",
       "      <td>5</td>\n",
       "      <td>582.884521</td>\n",
       "      <td>1704.204956</td>\n",
       "      <td>41.282017</td>\n",
       "      <td>27.381039</td>\n",
       "      <td>3.181261</td>\n",
       "      <td>2.110028</td>\n",
       "      <td>29.088221</td>\n",
       "      <td>0.812741</td>\n",
       "      <td>00:00</td>\n",
       "    </tr>\n",
       "    <tr>\n",
       "      <td>6</td>\n",
       "      <td>564.525208</td>\n",
       "      <td>1554.080322</td>\n",
       "      <td>39.421825</td>\n",
       "      <td>26.147234</td>\n",
       "      <td>-0.537346</td>\n",
       "      <td>-0.356404</td>\n",
       "      <td>26.408792</td>\n",
       "      <td>0.829237</td>\n",
       "      <td>00:00</td>\n",
       "    </tr>\n",
       "    <tr>\n",
       "      <td>7</td>\n",
       "      <td>519.126282</td>\n",
       "      <td>1418.858521</td>\n",
       "      <td>37.667740</td>\n",
       "      <td>24.983805</td>\n",
       "      <td>0.522386</td>\n",
       "      <td>0.346482</td>\n",
       "      <td>25.654266</td>\n",
       "      <td>0.844095</td>\n",
       "      <td>00:00</td>\n",
       "    </tr>\n",
       "    <tr>\n",
       "      <td>8</td>\n",
       "      <td>483.399963</td>\n",
       "      <td>1412.870605</td>\n",
       "      <td>37.588169</td>\n",
       "      <td>24.931026</td>\n",
       "      <td>0.761446</td>\n",
       "      <td>0.505043</td>\n",
       "      <td>26.036921</td>\n",
       "      <td>0.844753</td>\n",
       "      <td>00:00</td>\n",
       "    </tr>\n",
       "    <tr>\n",
       "      <td>9</td>\n",
       "      <td>444.697235</td>\n",
       "      <td>1386.311768</td>\n",
       "      <td>37.233208</td>\n",
       "      <td>24.695593</td>\n",
       "      <td>1.820520</td>\n",
       "      <td>1.207493</td>\n",
       "      <td>25.812023</td>\n",
       "      <td>0.847671</td>\n",
       "      <td>00:00</td>\n",
       "    </tr>\n",
       "  </tbody>\n",
       "</table>"
      ],
      "text/plain": [
       "<IPython.core.display.HTML object>"
      ]
     },
     "metadata": {},
     "output_type": "display_data"
    },
    {
     "data": {
      "text/html": [
       "<table border=\"1\" class=\"dataframe\">\n",
       "  <thead>\n",
       "    <tr style=\"text-align: left;\">\n",
       "      <th>epoch</th>\n",
       "      <th>train_loss</th>\n",
       "      <th>valid_loss</th>\n",
       "      <th>_rmse</th>\n",
       "      <th>_rrmse</th>\n",
       "      <th>_bias</th>\n",
       "      <th>_bias_pct</th>\n",
       "      <th>mae</th>\n",
       "      <th>r2_score</th>\n",
       "      <th>time</th>\n",
       "    </tr>\n",
       "  </thead>\n",
       "  <tbody>\n",
       "    <tr>\n",
       "      <td>0</td>\n",
       "      <td>348.190552</td>\n",
       "      <td>1420.393311</td>\n",
       "      <td>37.688103</td>\n",
       "      <td>24.997311</td>\n",
       "      <td>3.113488</td>\n",
       "      <td>2.065077</td>\n",
       "      <td>25.952284</td>\n",
       "      <td>0.843927</td>\n",
       "      <td>00:00</td>\n",
       "    </tr>\n",
       "    <tr>\n",
       "      <td>1</td>\n",
       "      <td>375.015747</td>\n",
       "      <td>1500.038696</td>\n",
       "      <td>38.730331</td>\n",
       "      <td>25.688589</td>\n",
       "      <td>3.647112</td>\n",
       "      <td>2.419012</td>\n",
       "      <td>26.867193</td>\n",
       "      <td>0.835175</td>\n",
       "      <td>00:00</td>\n",
       "    </tr>\n",
       "    <tr>\n",
       "      <td>2</td>\n",
       "      <td>563.648560</td>\n",
       "      <td>1493.152100</td>\n",
       "      <td>38.641323</td>\n",
       "      <td>25.629551</td>\n",
       "      <td>-0.476348</td>\n",
       "      <td>-0.315946</td>\n",
       "      <td>27.540340</td>\n",
       "      <td>0.835932</td>\n",
       "      <td>00:00</td>\n",
       "    </tr>\n",
       "    <tr>\n",
       "      <td>3</td>\n",
       "      <td>540.027283</td>\n",
       "      <td>1472.171265</td>\n",
       "      <td>38.368885</td>\n",
       "      <td>25.448853</td>\n",
       "      <td>0.634125</td>\n",
       "      <td>0.420595</td>\n",
       "      <td>26.347561</td>\n",
       "      <td>0.838237</td>\n",
       "      <td>00:00</td>\n",
       "    </tr>\n",
       "    <tr>\n",
       "      <td>4</td>\n",
       "      <td>552.447205</td>\n",
       "      <td>1561.907959</td>\n",
       "      <td>39.520985</td>\n",
       "      <td>26.213001</td>\n",
       "      <td>8.037597</td>\n",
       "      <td>5.331080</td>\n",
       "      <td>27.344988</td>\n",
       "      <td>0.828377</td>\n",
       "      <td>00:00</td>\n",
       "    </tr>\n",
       "    <tr>\n",
       "      <td>5</td>\n",
       "      <td>570.610718</td>\n",
       "      <td>1493.570557</td>\n",
       "      <td>38.646740</td>\n",
       "      <td>25.633144</td>\n",
       "      <td>4.535589</td>\n",
       "      <td>3.008311</td>\n",
       "      <td>26.530657</td>\n",
       "      <td>0.835886</td>\n",
       "      <td>00:00</td>\n",
       "    </tr>\n",
       "    <tr>\n",
       "      <td>6</td>\n",
       "      <td>493.615875</td>\n",
       "      <td>1426.128662</td>\n",
       "      <td>37.764118</td>\n",
       "      <td>25.047728</td>\n",
       "      <td>1.339753</td>\n",
       "      <td>0.888615</td>\n",
       "      <td>25.858505</td>\n",
       "      <td>0.843296</td>\n",
       "      <td>00:00</td>\n",
       "    </tr>\n",
       "    <tr>\n",
       "      <td>7</td>\n",
       "      <td>475.176636</td>\n",
       "      <td>1539.600464</td>\n",
       "      <td>39.237740</td>\n",
       "      <td>26.025135</td>\n",
       "      <td>0.816368</td>\n",
       "      <td>0.541471</td>\n",
       "      <td>26.969473</td>\n",
       "      <td>0.830828</td>\n",
       "      <td>00:00</td>\n",
       "    </tr>\n",
       "    <tr>\n",
       "      <td>8</td>\n",
       "      <td>428.805359</td>\n",
       "      <td>1475.157959</td>\n",
       "      <td>38.407784</td>\n",
       "      <td>25.474653</td>\n",
       "      <td>-1.751448</td>\n",
       "      <td>-1.161679</td>\n",
       "      <td>26.164961</td>\n",
       "      <td>0.837909</td>\n",
       "      <td>00:00</td>\n",
       "    </tr>\n",
       "    <tr>\n",
       "      <td>9</td>\n",
       "      <td>410.534668</td>\n",
       "      <td>1425.433594</td>\n",
       "      <td>37.754913</td>\n",
       "      <td>25.041624</td>\n",
       "      <td>-0.780218</td>\n",
       "      <td>-0.517494</td>\n",
       "      <td>25.861107</td>\n",
       "      <td>0.843373</td>\n",
       "      <td>00:00</td>\n",
       "    </tr>\n",
       "  </tbody>\n",
       "</table>"
      ],
      "text/plain": [
       "<IPython.core.display.HTML object>"
      ]
     },
     "metadata": {},
     "output_type": "display_data"
    }
   ],
   "source": [
    "ensemble.fit_one_cycle(10, 1e-2)"
   ]
  },
  {
   "cell_type": "code",
   "execution_count": 66,
   "metadata": {
    "ExecuteTime": {
     "end_time": "2020-11-12T09:24:56.164884Z",
     "start_time": "2020-11-12T09:24:55.787608Z"
    }
   },
   "outputs": [
    {
     "data": {
      "text/html": [],
      "text/plain": [
       "<IPython.core.display.HTML object>"
      ]
     },
     "metadata": {},
     "output_type": "display_data"
    },
    {
     "data": {
      "text/html": [],
      "text/plain": [
       "<IPython.core.display.HTML object>"
      ]
     },
     "metadata": {},
     "output_type": "display_data"
    },
    {
     "data": {
      "text/html": [],
      "text/plain": [
       "<IPython.core.display.HTML object>"
      ]
     },
     "metadata": {},
     "output_type": "display_data"
    },
    {
     "data": {
      "text/html": [],
      "text/plain": [
       "<IPython.core.display.HTML object>"
      ]
     },
     "metadata": {},
     "output_type": "display_data"
    },
    {
     "data": {
      "text/html": [],
      "text/plain": [
       "<IPython.core.display.HTML object>"
      ]
     },
     "metadata": {},
     "output_type": "display_data"
    },
    {
     "data": {
      "text/html": [],
      "text/plain": [
       "<IPython.core.display.HTML object>"
      ]
     },
     "metadata": {},
     "output_type": "display_data"
    },
    {
     "data": {
      "text/html": [],
      "text/plain": [
       "<IPython.core.display.HTML object>"
      ]
     },
     "metadata": {},
     "output_type": "display_data"
    },
    {
     "data": {
      "text/html": [],
      "text/plain": [
       "<IPython.core.display.HTML object>"
      ]
     },
     "metadata": {},
     "output_type": "display_data"
    },
    {
     "data": {
      "text/html": [],
      "text/plain": [
       "<IPython.core.display.HTML object>"
      ]
     },
     "metadata": {},
     "output_type": "display_data"
    },
    {
     "data": {
      "text/html": [],
      "text/plain": [
       "<IPython.core.display.HTML object>"
      ]
     },
     "metadata": {},
     "output_type": "display_data"
    }
   ],
   "source": [
    "res = ensemble.validate()"
   ]
  },
  {
   "cell_type": "markdown",
   "metadata": {},
   "source": [
    "See ensemble validation results."
   ]
  },
  {
   "cell_type": "code",
   "execution_count": 67,
   "metadata": {
    "ExecuteTime": {
     "end_time": "2020-11-12T09:24:56.175322Z",
     "start_time": "2020-11-12T09:24:56.166059Z"
    }
   },
   "outputs": [
    {
     "data": {
      "text/html": [
       "<div>\n",
       "<style scoped>\n",
       "    .dataframe tbody tr th:only-of-type {\n",
       "        vertical-align: middle;\n",
       "    }\n",
       "\n",
       "    .dataframe tbody tr th {\n",
       "        vertical-align: top;\n",
       "    }\n",
       "\n",
       "    .dataframe thead th {\n",
       "        text-align: right;\n",
       "    }\n",
       "</style>\n",
       "<table border=\"1\" class=\"dataframe\">\n",
       "  <thead>\n",
       "    <tr style=\"text-align: right;\">\n",
       "      <th></th>\n",
       "      <th>model_identifier</th>\n",
       "      <th>_rmse</th>\n",
       "      <th>_rrmse</th>\n",
       "      <th>_bias</th>\n",
       "      <th>_bias_pct</th>\n",
       "      <th>mae</th>\n",
       "      <th>r2_score</th>\n",
       "    </tr>\n",
       "  </thead>\n",
       "  <tbody>\n",
       "    <tr>\n",
       "      <th>0</th>\n",
       "      <td>ensemble</td>\n",
       "      <td>37.754913</td>\n",
       "      <td>25.041624</td>\n",
       "      <td>-0.780217</td>\n",
       "      <td>-0.517493</td>\n",
       "      <td>25.861105</td>\n",
       "      <td>0.843373</td>\n",
       "    </tr>\n",
       "    <tr>\n",
       "      <th>1</th>\n",
       "      <td>0</td>\n",
       "      <td>37.754913</td>\n",
       "      <td>25.041624</td>\n",
       "      <td>-0.780218</td>\n",
       "      <td>-0.517494</td>\n",
       "      <td>25.861103</td>\n",
       "      <td>0.843373</td>\n",
       "    </tr>\n",
       "    <tr>\n",
       "      <th>2</th>\n",
       "      <td>1</td>\n",
       "      <td>37.754913</td>\n",
       "      <td>25.041624</td>\n",
       "      <td>-0.780218</td>\n",
       "      <td>-0.517494</td>\n",
       "      <td>25.861103</td>\n",
       "      <td>0.843373</td>\n",
       "    </tr>\n",
       "    <tr>\n",
       "      <th>3</th>\n",
       "      <td>2</td>\n",
       "      <td>37.754913</td>\n",
       "      <td>25.041624</td>\n",
       "      <td>-0.780218</td>\n",
       "      <td>-0.517494</td>\n",
       "      <td>25.861103</td>\n",
       "      <td>0.843373</td>\n",
       "    </tr>\n",
       "    <tr>\n",
       "      <th>4</th>\n",
       "      <td>3</td>\n",
       "      <td>37.754913</td>\n",
       "      <td>25.041624</td>\n",
       "      <td>-0.780218</td>\n",
       "      <td>-0.517494</td>\n",
       "      <td>25.861103</td>\n",
       "      <td>0.843373</td>\n",
       "    </tr>\n",
       "    <tr>\n",
       "      <th>5</th>\n",
       "      <td>4</td>\n",
       "      <td>37.754913</td>\n",
       "      <td>25.041624</td>\n",
       "      <td>-0.780218</td>\n",
       "      <td>-0.517494</td>\n",
       "      <td>25.861103</td>\n",
       "      <td>0.843373</td>\n",
       "    </tr>\n",
       "    <tr>\n",
       "      <th>6</th>\n",
       "      <td>5</td>\n",
       "      <td>37.754913</td>\n",
       "      <td>25.041624</td>\n",
       "      <td>-0.780218</td>\n",
       "      <td>-0.517494</td>\n",
       "      <td>25.861103</td>\n",
       "      <td>0.843373</td>\n",
       "    </tr>\n",
       "    <tr>\n",
       "      <th>7</th>\n",
       "      <td>6</td>\n",
       "      <td>37.754913</td>\n",
       "      <td>25.041624</td>\n",
       "      <td>-0.780218</td>\n",
       "      <td>-0.517494</td>\n",
       "      <td>25.861103</td>\n",
       "      <td>0.843373</td>\n",
       "    </tr>\n",
       "    <tr>\n",
       "      <th>8</th>\n",
       "      <td>7</td>\n",
       "      <td>37.754913</td>\n",
       "      <td>25.041624</td>\n",
       "      <td>-0.780218</td>\n",
       "      <td>-0.517494</td>\n",
       "      <td>25.861103</td>\n",
       "      <td>0.843373</td>\n",
       "    </tr>\n",
       "    <tr>\n",
       "      <th>9</th>\n",
       "      <td>8</td>\n",
       "      <td>37.754913</td>\n",
       "      <td>25.041624</td>\n",
       "      <td>-0.780218</td>\n",
       "      <td>-0.517494</td>\n",
       "      <td>25.861103</td>\n",
       "      <td>0.843373</td>\n",
       "    </tr>\n",
       "    <tr>\n",
       "      <th>10</th>\n",
       "      <td>9</td>\n",
       "      <td>37.754913</td>\n",
       "      <td>25.041624</td>\n",
       "      <td>-0.780218</td>\n",
       "      <td>-0.517494</td>\n",
       "      <td>25.861103</td>\n",
       "      <td>0.843373</td>\n",
       "    </tr>\n",
       "  </tbody>\n",
       "</table>\n",
       "</div>"
      ],
      "text/plain": [
       "   model_identifier      _rmse     _rrmse     _bias  _bias_pct        mae  \\\n",
       "0          ensemble  37.754913  25.041624 -0.780217  -0.517493  25.861105   \n",
       "1                 0  37.754913  25.041624 -0.780218  -0.517494  25.861103   \n",
       "2                 1  37.754913  25.041624 -0.780218  -0.517494  25.861103   \n",
       "3                 2  37.754913  25.041624 -0.780218  -0.517494  25.861103   \n",
       "4                 3  37.754913  25.041624 -0.780218  -0.517494  25.861103   \n",
       "5                 4  37.754913  25.041624 -0.780218  -0.517494  25.861103   \n",
       "6                 5  37.754913  25.041624 -0.780218  -0.517494  25.861103   \n",
       "7                 6  37.754913  25.041624 -0.780218  -0.517494  25.861103   \n",
       "8                 7  37.754913  25.041624 -0.780218  -0.517494  25.861103   \n",
       "9                 8  37.754913  25.041624 -0.780218  -0.517494  25.861103   \n",
       "10                9  37.754913  25.041624 -0.780218  -0.517494  25.861103   \n",
       "\n",
       "    r2_score  \n",
       "0   0.843373  \n",
       "1   0.843373  \n",
       "2   0.843373  \n",
       "3   0.843373  \n",
       "4   0.843373  \n",
       "5   0.843373  \n",
       "6   0.843373  \n",
       "7   0.843373  \n",
       "8   0.843373  \n",
       "9   0.843373  \n",
       "10  0.843373  "
      ]
     },
     "execution_count": 67,
     "metadata": {},
     "output_type": "execute_result"
    }
   ],
   "source": [
    "res"
   ]
  },
  {
   "cell_type": "code",
   "execution_count": 68,
   "metadata": {
    "ExecuteTime": {
     "end_time": "2020-11-12T09:24:56.564010Z",
     "start_time": "2020-11-12T09:24:56.176665Z"
    }
   },
   "outputs": [
    {
     "data": {
      "text/html": [],
      "text/plain": [
       "<IPython.core.display.HTML object>"
      ]
     },
     "metadata": {},
     "output_type": "display_data"
    },
    {
     "data": {
      "text/html": [],
      "text/plain": [
       "<IPython.core.display.HTML object>"
      ]
     },
     "metadata": {},
     "output_type": "display_data"
    },
    {
     "data": {
      "text/html": [],
      "text/plain": [
       "<IPython.core.display.HTML object>"
      ]
     },
     "metadata": {},
     "output_type": "display_data"
    },
    {
     "data": {
      "text/html": [],
      "text/plain": [
       "<IPython.core.display.HTML object>"
      ]
     },
     "metadata": {},
     "output_type": "display_data"
    },
    {
     "data": {
      "text/html": [],
      "text/plain": [
       "<IPython.core.display.HTML object>"
      ]
     },
     "metadata": {},
     "output_type": "display_data"
    },
    {
     "data": {
      "text/html": [],
      "text/plain": [
       "<IPython.core.display.HTML object>"
      ]
     },
     "metadata": {},
     "output_type": "display_data"
    },
    {
     "data": {
      "text/html": [],
      "text/plain": [
       "<IPython.core.display.HTML object>"
      ]
     },
     "metadata": {},
     "output_type": "display_data"
    },
    {
     "data": {
      "text/html": [],
      "text/plain": [
       "<IPython.core.display.HTML object>"
      ]
     },
     "metadata": {},
     "output_type": "display_data"
    },
    {
     "data": {
      "text/html": [],
      "text/plain": [
       "<IPython.core.display.HTML object>"
      ]
     },
     "metadata": {},
     "output_type": "display_data"
    },
    {
     "data": {
      "text/html": [],
      "text/plain": [
       "<IPython.core.display.HTML object>"
      ]
     },
     "metadata": {},
     "output_type": "display_data"
    }
   ],
   "source": [
    "ens_int = RegressionInterpretation.from_ensemble(ensemble)"
   ]
  },
  {
   "cell_type": "code",
   "execution_count": 69,
   "metadata": {
    "ExecuteTime": {
     "end_time": "2020-11-12T09:24:56.824961Z",
     "start_time": "2020-11-12T09:24:56.565381Z"
    }
   },
   "outputs": [
    {
     "data": {
      "image/png": "[encoded data removed]",
      "text/plain": [
       "<Figure size 504x432 with 2 Axes>"
      ]
     },
     "metadata": {
      "needs_background": "light"
     },
     "output_type": "display_data"
    }
   ],
   "source": [
    "ens_int.plot_results()\n",
    "plt.show()"
   ]
  },
  {
   "cell_type": "markdown",
   "metadata": {},
   "source": [
    "Run test set predictions."
   ]
  },
  {
   "cell_type": "code",
   "execution_count": 70,
   "metadata": {
    "ExecuteTime": {
     "end_time": "2020-11-12T09:24:57.217763Z",
     "start_time": "2020-11-12T09:24:56.826510Z"
    }
   },
   "outputs": [
    {
     "data": {
      "text/html": [],
      "text/plain": [
       "<IPython.core.display.HTML object>"
      ]
     },
     "metadata": {},
     "output_type": "display_data"
    },
    {
     "data": {
      "text/html": [],
      "text/plain": [
       "<IPython.core.display.HTML object>"
      ]
     },
     "metadata": {},
     "output_type": "display_data"
    },
    {
     "data": {
      "text/html": [],
      "text/plain": [
       "<IPython.core.display.HTML object>"
      ]
     },
     "metadata": {},
     "output_type": "display_data"
    },
    {
     "data": {
      "text/html": [],
      "text/plain": [
       "<IPython.core.display.HTML object>"
      ]
     },
     "metadata": {},
     "output_type": "display_data"
    },
    {
     "data": {
      "text/html": [],
      "text/plain": [
       "<IPython.core.display.HTML object>"
      ]
     },
     "metadata": {},
     "output_type": "display_data"
    },
    {
     "data": {
      "text/html": [],
      "text/plain": [
       "<IPython.core.display.HTML object>"
      ]
     },
     "metadata": {},
     "output_type": "display_data"
    },
    {
     "data": {
      "text/html": [],
      "text/plain": [
       "<IPython.core.display.HTML object>"
      ]
     },
     "metadata": {},
     "output_type": "display_data"
    },
    {
     "data": {
      "text/html": [],
      "text/plain": [
       "<IPython.core.display.HTML object>"
      ]
     },
     "metadata": {},
     "output_type": "display_data"
    },
    {
     "data": {
      "text/html": [],
      "text/plain": [
       "<IPython.core.display.HTML object>"
      ]
     },
     "metadata": {},
     "output_type": "display_data"
    },
    {
     "data": {
      "text/html": [],
      "text/plain": [
       "<IPython.core.display.HTML object>"
      ]
     },
     "metadata": {},
     "output_type": "display_data"
    },
    {
     "data": {
      "text/html": [
       "<div>\n",
       "<style scoped>\n",
       "    .dataframe tbody tr th:only-of-type {\n",
       "        vertical-align: middle;\n",
       "    }\n",
       "\n",
       "    .dataframe tbody tr th {\n",
       "        vertical-align: top;\n",
       "    }\n",
       "\n",
       "    .dataframe thead th {\n",
       "        text-align: right;\n",
       "    }\n",
       "</style>\n",
       "<table border=\"1\" class=\"dataframe\">\n",
       "  <thead>\n",
       "    <tr style=\"text-align: right;\">\n",
       "      <th></th>\n",
       "      <th>model_identifier</th>\n",
       "      <th>_rmse</th>\n",
       "      <th>_rrmse</th>\n",
       "      <th>_bias</th>\n",
       "      <th>_bias_pct</th>\n",
       "      <th>mae</th>\n",
       "      <th>r2_score</th>\n",
       "    </tr>\n",
       "  </thead>\n",
       "  <tbody>\n",
       "    <tr>\n",
       "      <th>0</th>\n",
       "      <td>ensemble</td>\n",
       "      <td>40.542042</td>\n",
       "      <td>26.670002</td>\n",
       "      <td>-1.599314</td>\n",
       "      <td>-1.052086</td>\n",
       "      <td>25.934576</td>\n",
       "      <td>0.825337</td>\n",
       "    </tr>\n",
       "    <tr>\n",
       "      <th>1</th>\n",
       "      <td>0</td>\n",
       "      <td>40.542042</td>\n",
       "      <td>26.670002</td>\n",
       "      <td>-1.599315</td>\n",
       "      <td>-1.052086</td>\n",
       "      <td>25.934576</td>\n",
       "      <td>0.825337</td>\n",
       "    </tr>\n",
       "    <tr>\n",
       "      <th>2</th>\n",
       "      <td>1</td>\n",
       "      <td>40.542042</td>\n",
       "      <td>26.670002</td>\n",
       "      <td>-1.599315</td>\n",
       "      <td>-1.052086</td>\n",
       "      <td>25.934576</td>\n",
       "      <td>0.825337</td>\n",
       "    </tr>\n",
       "    <tr>\n",
       "      <th>3</th>\n",
       "      <td>2</td>\n",
       "      <td>40.542042</td>\n",
       "      <td>26.670002</td>\n",
       "      <td>-1.599315</td>\n",
       "      <td>-1.052086</td>\n",
       "      <td>25.934576</td>\n",
       "      <td>0.825337</td>\n",
       "    </tr>\n",
       "    <tr>\n",
       "      <th>4</th>\n",
       "      <td>3</td>\n",
       "      <td>40.542042</td>\n",
       "      <td>26.670002</td>\n",
       "      <td>-1.599315</td>\n",
       "      <td>-1.052086</td>\n",
       "      <td>25.934576</td>\n",
       "      <td>0.825337</td>\n",
       "    </tr>\n",
       "    <tr>\n",
       "      <th>5</th>\n",
       "      <td>4</td>\n",
       "      <td>40.542042</td>\n",
       "      <td>26.670002</td>\n",
       "      <td>-1.599315</td>\n",
       "      <td>-1.052086</td>\n",
       "      <td>25.934576</td>\n",
       "      <td>0.825337</td>\n",
       "    </tr>\n",
       "    <tr>\n",
       "      <th>6</th>\n",
       "      <td>5</td>\n",
       "      <td>40.542042</td>\n",
       "      <td>26.670002</td>\n",
       "      <td>-1.599315</td>\n",
       "      <td>-1.052086</td>\n",
       "      <td>25.934576</td>\n",
       "      <td>0.825337</td>\n",
       "    </tr>\n",
       "    <tr>\n",
       "      <th>7</th>\n",
       "      <td>6</td>\n",
       "      <td>40.542042</td>\n",
       "      <td>26.670002</td>\n",
       "      <td>-1.599315</td>\n",
       "      <td>-1.052086</td>\n",
       "      <td>25.934576</td>\n",
       "      <td>0.825337</td>\n",
       "    </tr>\n",
       "    <tr>\n",
       "      <th>8</th>\n",
       "      <td>7</td>\n",
       "      <td>40.542042</td>\n",
       "      <td>26.670002</td>\n",
       "      <td>-1.599315</td>\n",
       "      <td>-1.052086</td>\n",
       "      <td>25.934576</td>\n",
       "      <td>0.825337</td>\n",
       "    </tr>\n",
       "    <tr>\n",
       "      <th>9</th>\n",
       "      <td>8</td>\n",
       "      <td>40.542042</td>\n",
       "      <td>26.670002</td>\n",
       "      <td>-1.599315</td>\n",
       "      <td>-1.052086</td>\n",
       "      <td>25.934576</td>\n",
       "      <td>0.825337</td>\n",
       "    </tr>\n",
       "    <tr>\n",
       "      <th>10</th>\n",
       "      <td>9</td>\n",
       "      <td>40.542042</td>\n",
       "      <td>26.670002</td>\n",
       "      <td>-1.599315</td>\n",
       "      <td>-1.052086</td>\n",
       "      <td>25.934576</td>\n",
       "      <td>0.825337</td>\n",
       "    </tr>\n",
       "  </tbody>\n",
       "</table>\n",
       "</div>"
      ],
      "text/plain": [
       "   model_identifier      _rmse     _rrmse     _bias  _bias_pct        mae  \\\n",
       "0          ensemble  40.542042  26.670002 -1.599314  -1.052086  25.934576   \n",
       "1                 0  40.542042  26.670002 -1.599315  -1.052086  25.934576   \n",
       "2                 1  40.542042  26.670002 -1.599315  -1.052086  25.934576   \n",
       "3                 2  40.542042  26.670002 -1.599315  -1.052086  25.934576   \n",
       "4                 3  40.542042  26.670002 -1.599315  -1.052086  25.934576   \n",
       "5                 4  40.542042  26.670002 -1.599315  -1.052086  25.934576   \n",
       "6                 5  40.542042  26.670002 -1.599315  -1.052086  25.934576   \n",
       "7                 6  40.542042  26.670002 -1.599315  -1.052086  25.934576   \n",
       "8                 7  40.542042  26.670002 -1.599315  -1.052086  25.934576   \n",
       "9                 8  40.542042  26.670002 -1.599315  -1.052086  25.934576   \n",
       "10                9  40.542042  26.670002 -1.599315  -1.052086  25.934576   \n",
       "\n",
       "    r2_score  \n",
       "0   0.825337  \n",
       "1   0.825337  \n",
       "2   0.825337  \n",
       "3   0.825337  \n",
       "4   0.825337  \n",
       "5   0.825337  \n",
       "6   0.825337  \n",
       "7   0.825337  \n",
       "8   0.825337  \n",
       "9   0.825337  \n",
       "10  0.825337  "
      ]
     },
     "execution_count": 70,
     "metadata": {},
     "output_type": "execute_result"
    }
   ],
   "source": [
    "test_res = ensemble.validate(dl=test_dls[0])\n",
    "test_res"
   ]
  },
  {
   "cell_type": "code",
   "execution_count": 71,
   "metadata": {
    "ExecuteTime": {
     "end_time": "2020-11-12T09:24:57.556710Z",
     "start_time": "2020-11-12T09:24:57.219248Z"
    }
   },
   "outputs": [
    {
     "data": {
      "text/html": [],
      "text/plain": [
       "<IPython.core.display.HTML object>"
      ]
     },
     "metadata": {},
     "output_type": "display_data"
    },
    {
     "data": {
      "text/html": [],
      "text/plain": [
       "<IPython.core.display.HTML object>"
      ]
     },
     "metadata": {},
     "output_type": "display_data"
    },
    {
     "data": {
      "text/html": [],
      "text/plain": [
       "<IPython.core.display.HTML object>"
      ]
     },
     "metadata": {},
     "output_type": "display_data"
    },
    {
     "data": {
      "text/html": [],
      "text/plain": [
       "<IPython.core.display.HTML object>"
      ]
     },
     "metadata": {},
     "output_type": "display_data"
    },
    {
     "data": {
      "text/html": [],
      "text/plain": [
       "<IPython.core.display.HTML object>"
      ]
     },
     "metadata": {},
     "output_type": "display_data"
    },
    {
     "data": {
      "text/html": [],
      "text/plain": [
       "<IPython.core.display.HTML object>"
      ]
     },
     "metadata": {},
     "output_type": "display_data"
    },
    {
     "data": {
      "text/html": [],
      "text/plain": [
       "<IPython.core.display.HTML object>"
      ]
     },
     "metadata": {},
     "output_type": "display_data"
    },
    {
     "data": {
      "text/html": [],
      "text/plain": [
       "<IPython.core.display.HTML object>"
      ]
     },
     "metadata": {},
     "output_type": "display_data"
    },
    {
     "data": {
      "text/html": [],
      "text/plain": [
       "<IPython.core.display.HTML object>"
      ]
     },
     "metadata": {},
     "output_type": "display_data"
    },
    {
     "data": {
      "text/html": [],
      "text/plain": [
       "<IPython.core.display.HTML object>"
      ]
     },
     "metadata": {},
     "output_type": "display_data"
    }
   ],
   "source": [
    "test_ens_interp = RegressionInterpretation.from_ensemble(ensemble, dl=test_dls[0])"
   ]
  },
  {
   "cell_type": "code",
   "execution_count": 72,
   "metadata": {
    "ExecuteTime": {
     "end_time": "2020-11-12T09:24:57.809445Z",
     "start_time": "2020-11-12T09:24:57.558157Z"
    }
   },
   "outputs": [
    {
     "data": {
      "image/png": "[encoded data removed]",
      "text/plain": [
       "<Figure size 504x432 with 2 Axes>"
      ]
     },
     "metadata": {
      "needs_background": "light"
     },
     "output_type": "display_data"
    }
   ],
   "source": [
    "test_ens_interp.plot_results()\n",
    "plt.show()"
   ]
  },
  {
   "cell_type": "markdown",
   "metadata": {},
   "source": [
    "# Comparison: Random forest"
   ]
  },
  {
   "cell_type": "markdown",
   "metadata": {},
   "source": [
    "`TabularPandas` makes it simple to use sklearn models with the same data and preprocessing."
   ]
  },
  {
   "cell_type": "code",
   "execution_count": 73,
   "metadata": {
    "ExecuteTime": {
     "end_time": "2020-11-12T09:24:57.813230Z",
     "start_time": "2020-11-12T09:24:57.810799Z"
    }
   },
   "outputs": [],
   "source": [
    "from sklearn.ensemble import RandomForestRegressor"
   ]
  },
  {
   "cell_type": "markdown",
   "metadata": {},
   "source": [
    "Below values for max_features and min_samples_leaf should generally work well."
   ]
  },
  {
   "cell_type": "code",
   "execution_count": 74,
   "metadata": {
    "ExecuteTime": {
     "end_time": "2020-11-12T09:24:57.826668Z",
     "start_time": "2020-11-12T09:24:57.815725Z"
    }
   },
   "outputs": [],
   "source": [
    "rf = RandomForestRegressor(n_estimators=500, max_features=0.5, min_samples_leaf=4, oob_score=True)"
   ]
  },
  {
   "cell_type": "code",
   "execution_count": 75,
   "metadata": {
    "ExecuteTime": {
     "end_time": "2020-11-12T09:25:02.091465Z",
     "start_time": "2020-11-12T09:24:57.828566Z"
    }
   },
   "outputs": [
    {
     "data": {
      "text/plain": [
       "RandomForestRegressor(max_features=0.5, min_samples_leaf=4, n_estimators=500,\n",
       "                      oob_score=True)"
      ]
     },
     "execution_count": 75,
     "metadata": {},
     "output_type": "execute_result"
    }
   ],
   "source": [
    "rf.fit(trainval_tb.train.xs, trainval_tb.train.ys.values.ravel())"
   ]
  },
  {
   "cell_type": "code",
   "execution_count": 76,
   "metadata": {
    "ExecuteTime": {
     "end_time": "2020-11-12T09:25:02.138081Z",
     "start_time": "2020-11-12T09:25:02.094321Z"
    }
   },
   "outputs": [],
   "source": [
    "rf_preds = rf.predict(trainval_tb.valid.xs)"
   ]
  },
  {
   "cell_type": "markdown",
   "metadata": {},
   "source": [
    "Validation results"
   ]
  },
  {
   "cell_type": "code",
   "execution_count": 77,
   "metadata": {
    "ExecuteTime": {
     "end_time": "2020-11-12T09:25:02.433959Z",
     "start_time": "2020-11-12T09:25:02.140244Z"
    }
   },
   "outputs": [
    {
     "data": {
      "image/png": "[encoded data removed]",
      "text/plain": [
       "<Figure size 504x432 with 2 Axes>"
      ]
     },
     "metadata": {
      "needs_background": "light"
     },
     "output_type": "display_data"
    }
   ],
   "source": [
    "plot_sklearn_regression(rf, trainval_tb.valid.xs, trainval_tb.valid.ys)\n",
    "plt.show()"
   ]
  },
  {
   "cell_type": "markdown",
   "metadata": {},
   "source": [
    "Test results"
   ]
  },
  {
   "cell_type": "code",
   "execution_count": 78,
   "metadata": {
    "ExecuteTime": {
     "end_time": "2020-11-12T09:25:02.726469Z",
     "start_time": "2020-11-12T09:25:02.435312Z"
    }
   },
   "outputs": [
    {
     "data": {
      "image/png": "[encoded data removed]",
      "text/plain": [
       "<Figure size 504x432 with 2 Axes>"
      ]
     },
     "metadata": {
      "needs_background": "light"
     },
     "output_type": "display_data"
    }
   ],
   "source": [
    "plot_sklearn_regression(rf, test_tb.train.xs, test_tb.train.ys)\n",
    "plt.show()"
   ]
  },
  {
   "cell_type": "code",
   "execution_count": null,
   "metadata": {},
   "outputs": [],
   "source": []
  }
 ],
 "metadata": {
  "_draft": {
   "nbviewer_url": "https://gist.github.com/dc7eb4d2965a6babe6ed2610b300f7b4"
  },
  "gist": {
   "data": {
    "description": "LiDAR predictions.ipynb",
    "public": true
   },
   "id": "dc7eb4d2965a6babe6ed2610b300f7b4"
  },
  "kernelspec": {
   "display_name": "Python 3",
   "language": "python",
   "name": "python3"
  },
  "language_info": {
   "codemirror_mode": {
    "name": "ipython",
    "version": 3
   },
   "file_extension": ".py",
   "mimetype": "text/x-python",
   "name": "python",
   "nbconvert_exporter": "python",
   "pygments_lexer": "ipython3",
   "version": "3.8.3"
  },
  "latex_envs": {
   "LaTeX_envs_menu_present": true,
   "autoclose": false,
   "autocomplete": true,
   "bibliofile": "biblio.bib",
   "cite_by": "apalike",
   "current_citInitial": 1,
   "eqLabelWithNumbers": true,
   "eqNumInitial": 1,
   "hotkeys": {
    "equation": "Ctrl-E",
    "itemize": "Ctrl-I"
   },
   "labels_anchors": false,
   "latex_user_defs": false,
   "report_style_numbering": false,
   "user_envs_cfg": false
  },
  "toc": {
   "base_numbering": 1,
   "nav_menu": {},
   "number_sections": true,
   "sideBar": true,
   "skip_h1_title": false,
   "title_cell": "Table of Contents",
   "title_sidebar": "Contents",
   "toc_cell": false,
   "toc_position": {
    "height": "calc(100% - 180px)",
    "left": "10px",
    "top": "150px",
    "width": "303px"
   },
   "toc_section_display": true,
   "toc_window_display": true
  }
 },
 "nbformat": 4,
 "nbformat_minor": 4
}
