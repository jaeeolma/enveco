{
 "cells": [
  {
   "cell_type": "code",
   "execution_count": null,
   "metadata": {},
   "outputs": [],
   "source": [
    "#default_exp interpretation"
   ]
  },
  {
   "cell_type": "markdown",
   "metadata": {},
   "source": [
    "# Interpretation\n",
    "\n",
    "`ClassificationInterpretation` style class for regression tasks."
   ]
  },
  {
   "cell_type": "code",
   "execution_count": null,
   "metadata": {},
   "outputs": [],
   "source": [
    "# export\n",
    "from fastai.vision.data import get_grid\n",
    "import matplotlib.pyplot as plt\n",
    "import matplotlib.patches as mpl_patches\n",
    "from fastai.tabular.all import *\n",
    "from fastai.interpret import *\n",
    "from fastai.metrics import *\n",
    "from enveco.metrics import *\n",
    "import torch"
   ]
  },
  {
   "cell_type": "code",
   "execution_count": null,
   "metadata": {},
   "outputs": [],
   "source": [
    "#export\n",
    "\n",
    "class RegressionInterpretation(Interpretation):\n",
    "    \"Interpretation for regression models\"\n",
    "    \n",
    "    def __init__(self, dl, inputs, preds, targs, decoded, losses):\n",
    "        super().__init__(dl, inputs, preds, targs, decoded, losses)\n",
    "        \n",
    "    def plot_results(self, title='Regression results', log_y:bool=False, **kwargs) -> plt.Axes:\n",
    "        \"Plot nice result image for regression tasks, code still need prettifying\"\n",
    "        axs = get_grid(self.dl.c, figsize=((6+1)*self.dl.c, (6)*self.dl.c)) # if we have multitarget\n",
    "        if log_y: \n",
    "            self.targs = torch.expm1(self.targs)\n",
    "            self.preds = torch.expm1(self.preds)\n",
    "        if len(self.targs.shape) == 1: self.targs = self.targs[:,None]\n",
    "        for i, a in enumerate(axs):\n",
    "            im = a.scatter(self.targs[:,i], self.preds[:,i], c=torch.abs(self.targs[:,i]-self.preds[:,i]))\n",
    "            a.set_xlabel('Real value')\n",
    "            a.set_ylabel('Predicted value')\n",
    "            if hasattr(self.dl, 'y_names'):\n",
    "                a.set_title(self.dl.y_names[i])\n",
    "            else:\n",
    "                a.set_title('Results')\n",
    "            a.grid()\n",
    "            x = np.linspace(0, max(self.preds[:,i].max(),self.targs[:,i].max()))\n",
    "            a.plot(x, x, color='orange')\n",
    "            cbar = plt.colorbar(im, ax=a)\n",
    "            cbar.ax.set_ylabel('Deviations', rotation=90)\n",
    "            res_mae = mae(self.targs[:,i], self.preds[:,i])\n",
    "            res_mse = mse(self.targs[:,i], self.preds[:,i])\n",
    "            res_rmse = rmse(self.targs[:,i], self.preds[:,i]) \n",
    "            res_rrmse = res_rmse / self.targs.mean() * 100\n",
    "            r2 = R2Score()(self.preds[:,i], self.targs[:,i])\n",
    "            adjusted_r2 = adjusted_R2Score(r2, self.inputs[1].shape[0], self.inputs[1].shape[1])\n",
    "            res_bias = bias(self.targs[:,i], self.preds[:,i])\n",
    "            res_pct_bias = bias_pct(self.targs[:,i], self.preds[:,i])\n",
    "\n",
    "            handles = [mpl_patches.Rectangle((0, 0), 1, 1, fc=\"white\", ec=\"white\", \n",
    "                       lw=0, alpha=0)] * 8\n",
    "            labels = [f'MSE: {res_mse:.2f}', f'RMSE: {res_rmse:.2f}', f'RRMSE: {res_rrmse:.2f}%',\n",
    "                      f'MAE: {res_mae:.2f}', f'R2: {r2:.2f}', f'Adj. R2: {adjusted_r2:.2f}',\n",
    "                      f'BIAS: {res_bias:.2f}', f'BIAS-%: {res_pct_bias:.2f}%']\n",
    "            a.legend(handles, labels, loc='best', fancybox=True, handlelength=0, handletextpad=0)\n",
    "        if log_y: \n",
    "            self.targs = torch.log1p(self.targs)\n",
    "            self.preds = torch.log1p(self.preds)\n",
    "        return axs\n",
    "    \n",
    "    @classmethod\n",
    "    def from_ensemble(cls, ensemble, ds_idx=1, dl=None, act=None):\n",
    "        \"Construct interpretation object from an ensemble of learners\"\n",
    "        if dl is None: dl = ensemble.dls[ds_idx]\n",
    "        return cls(dl, *ensemble.get_ensemble_preds(dl=dl, with_input=True, with_loss=True, with_decoded=True, act=act))"
   ]
  },
  {
   "cell_type": "code",
   "execution_count": null,
   "metadata": {},
   "outputs": [],
   "source": [
    "# export \n",
    "def plot_sklearn_regression(model, X:TabularPandas, y:TabularPandas, log_y:bool=False, **kwargs) -> plt.Axes:\n",
    "    \"Similar plotting utility than RegressionInterpretation for scikit-learn models\"\n",
    "    preds = model.predict(X)\n",
    "    if len(preds.shape) != 2: preds = preds[:,None]\n",
    "    cols = y.columns\n",
    "    y = y.values\n",
    "    if log_y: \n",
    "        preds = np.expm1(preds)\n",
    "        y = np.expm1(y)\n",
    "    axs = get_grid(y.shape[1], figsize=((6+1)*y.shape[1], (6)*y.shape[1])) # if we have multitarget\n",
    "    for i, a in enumerate(axs):\n",
    "        im = a.scatter(y[:,i], preds[:,i], c=np.abs(y[:,i]-preds[:,i]))\n",
    "        a.set_xlabel('Real value')\n",
    "        a.set_ylabel('Predicted value')\n",
    "        a.set_title(cols[i])\n",
    "        a.grid()\n",
    "        x = np.linspace(0, max(preds[:,i].max(),y[:,i].max()))\n",
    "        a.plot(x, x, color='orange')\n",
    "        cbar = plt.colorbar(im, ax=a)\n",
    "        cbar.ax.set_ylabel('Deviations', rotation=90)\n",
    "        res_mae = mae(Tensor(y[:,i]), Tensor(preds[:,i]))\n",
    "        res_mse = mse(Tensor(y[:,i]), Tensor(preds[:,i]))\n",
    "        res_rmse = rmse(Tensor(y[:,i]), Tensor(preds[:,i]))\n",
    "        res_rrmse = res_rmse / y.mean() * 100\n",
    "        r2 = R2Score()(Tensor(y[:,i]), Tensor(preds[:,i]))\n",
    "        adjusted_r2 = adjusted_R2Score(r2, X.shape[0], X.shape[1])\n",
    "        res_bias = bias(Tensor(y[:,i]), Tensor(preds[:,i]))\n",
    "        res_pct_bias = bias_pct(Tensor(y[:,i]), Tensor(preds[:,i]))\n",
    "        handles = [mpl_patches.Rectangle((0, 0), 1, 1, fc=\"white\", ec=\"white\", \n",
    "                   lw=0, alpha=0)] * 8\n",
    "        labels = [f'MSE: {res_mse:.2f}', f'RMSE: {res_rmse:.2f}', f'RRMSE: {res_rrmse:.2f}%',\n",
    "                  f'MAE: {res_mae:.2f}', f'R2: {r2:.2f}', f'Adj. R2: {adjusted_r2:.2f}',\n",
    "                  f'BIAS: {res_bias:.2f}', f'BIAS-%: {res_pct_bias:.2f}%']\n",
    "        a.legend(handles, labels, loc='best', fancybox=True, handlelength=0, handletextpad=0)\n",
    "    return axs"
   ]
  },
  {
   "cell_type": "code",
   "execution_count": null,
   "metadata": {},
   "outputs": [
    {
     "name": "stdout",
     "output_type": "stream",
     "text": [
      "Converted 00_data.image.ipynb.\n",
      "Converted 01_data.las.ipynb.\n",
      "Converted 02_tabular.preprocessing.ipynb.\n",
      "Converted 03_models.inception3dv3.ipynb.\n",
      "Converted 04_interpretation.ipynb.\n",
      "Converted 05_metrics.ipynb.\n",
      "Converted 06_models.ensemble.ipynb.\n",
      "Converted index.ipynb.\n",
      "converting: /mnt/d/Users/E1005164/enveco/nbs/04_interpretation.ipynb\n",
      "converting /mnt/d/Users/E1005164/enveco/nbs/index.ipynb to README.md\n"
     ]
    }
   ],
   "source": [
    "# hide\n",
    "\n",
    "from nbdev.export import notebook2script\n",
    "notebook2script()\n",
    "!nbdev_build_docs"
   ]
  },
  {
   "cell_type": "code",
   "execution_count": null,
   "metadata": {},
   "outputs": [],
   "source": []
  }
 ],
 "metadata": {
  "kernelspec": {
   "display_name": "Python 3",
   "language": "python",
   "name": "python3"
  }
 },
 "nbformat": 4,
 "nbformat_minor": 4
}
