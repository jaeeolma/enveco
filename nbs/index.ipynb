{
 "cells": [
  {
   "cell_type": "code",
   "execution_count": null,
   "metadata": {},
   "outputs": [],
   "source": [
    "#hide\n",
    "from enveco.core import *"
   ]
  },
  {
   "cell_type": "markdown",
   "metadata": {},
   "source": [
    "# Enveco\n",
    "\n",
    "> ENVECO is a one-year project financed by Eurostat grants led by Finnish Environment Institute (SYKE) in partnership with Natural Resources Institute Finland (Luke). The first aim of the project is to develop novel remote sensing and machine learning methods for accounting of forest-related ecosystem services in the SEEA-EEA (System of Environmental-Economic Accounting – Experimental Ecosystem Accounting) framework.\n",
    "\n",
    "This repository contains the code for WP3: Machine Learning and Remote Sensing in Supporting Ecosystem Accounting. The objectives for this WP are:\n",
    "\n",
    "1. To test provisioning of remote sensing based data for the indicators of forest-related ecosystem services based on the framework defined by Mononen et al (2016) and further linked with SEEA-EEA framework by LAI et al (2018).\n",
    "2. For the prediction of wall-to-wall maps, we will test if introducing deep learning methods and new temporal, spectral and spatial features will improve the prediction results compared to traditional RS modeling methods used in NFI\n",
    "3. To address the uncertainties of the produed wall-to-wall maps, we will assess specifically the accuracy of locating spots that are important for ecosystem services supply.\n",
    "4. To evaluate value of wooded land by utilizing ecosystem indicator data with uncertainty provided by previous tasks. Valuation methods suggested in SEEA-EEA are compared with the ones commonly applied for forest land."
   ]
  },
  {
   "cell_type": "markdown",
   "metadata": {},
   "source": [
    "## Install"
   ]
  },
  {
   "cell_type": "markdown",
   "metadata": {},
   "source": [
    "TODO"
   ]
  },
  {
   "cell_type": "markdown",
   "metadata": {},
   "source": [
    "## How to use"
   ]
  },
  {
   "cell_type": "markdown",
   "metadata": {},
   "source": [
    "Fill me in please! Don't forget code examples:"
   ]
  }
 ],
 "metadata": {
  "kernelspec": {
   "display_name": "Python 3",
   "language": "python",
   "name": "python3"
  }
 },
 "nbformat": 4,
 "nbformat_minor": 2
}
