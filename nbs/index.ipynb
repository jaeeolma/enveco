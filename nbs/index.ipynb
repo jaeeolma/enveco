{
 "cells": [
  {
   "cell_type": "code",
   "execution_count": null,
   "metadata": {},
   "outputs": [],
   "source": [
    "#hide"
   ]
  },
  {
   "cell_type": "markdown",
   "metadata": {},
   "source": [
    "# Enveco\n",
    "\n",
    "> ENVECO is a one-year project financed by Eurostat grants led by Finnish Environment Institute (SYKE) in partnership with Natural Resources Institute Finland (Luke). The first aim of the project is to develop novel remote sensing and machine learning methods for accounting of forest-related ecosystem services in the SEEA-EEA (System of Environmental-Economic Accounting – Experimental Ecosystem Accounting) framework."
   ]
  },
  {
   "cell_type": "markdown",
   "metadata": {},
   "source": [
    "This repository contains the code for WP3: Machine Learning and Remote Sensing in Supporting Ecosystem Accounting. "
   ]
  },
  {
   "cell_type": "markdown",
   "metadata": {},
   "source": [
    "## Install"
   ]
  },
  {
   "cell_type": "markdown",
   "metadata": {},
   "source": [
    "TODO add `requirements.txt` and `environment.yml`.\n",
    "\n",
    "First, clone the repository\n",
    "\n",
    "```bash\n",
    "git clone https://github.com/jaeeolma/enveco\n",
    "```\n",
    "\n",
    "Then install the requirements with \n",
    "\n",
    "```bash\n",
    "pip install -r requirements.txt\n",
    "```\n",
    "\n",
    "or with \n",
    "\n",
    "```bash\n",
    "conda env create -f environment.yml\n",
    "```\n",
    "\n",
    "Recommended way is with conda, because installing Gdal can be troublesome."
   ]
  },
  {
   "cell_type": "markdown",
   "metadata": {},
   "source": [
    "### With singularity containers in Puhti"
   ]
  },
  {
   "cell_type": "markdown",
   "metadata": {},
   "source": [
    "Easiest way to use and develop this library in Puhti is to use singularity container with all required libraries. \n",
    "\n",
    "Use instructions in [https://cloud.sylabs.io/builder](https://cloud.sylabs.io/builder) to set access tokens and then run \n",
    "\n",
    "```bash\n",
    "singularity build --remote enveco-container.sif enveco-container.def\n",
    "```\n",
    "\n",
    "Edit `enveco-container.def` to such that correct shared locations are used, and edit row `mkdir -p /projappl /scratch /users/mayrajan` to contain your own home directory."
   ]
  },
  {
   "cell_type": "markdown",
   "metadata": {},
   "source": [
    "To start working, run singularity shell with command \n",
    "\n",
    "```bash\n",
    "singularity shell -nv --writable-tmpfs --bind $PROJAPPL:/projappl --bind $SCRATCH:/scratch --bind $HOME:/users/<uid> enveco-container.sif\n",
    "```"
   ]
  },
  {
   "cell_type": "markdown",
   "metadata": {},
   "source": [
    "## Usage"
   ]
  },
  {
   "cell_type": "markdown",
   "metadata": {},
   "source": [
    "Example workflows are show in [Examples](https://github.com/jaeeolma/enveco/tree/master/examples). \n",
    "\n",
    "[Predict volume from LiDAR features](https://github.com/jaeeolma/enveco/tree/master/examples/Predict%20volume%20from%20LiDAR%20features.ipynb) shows how to use ANN and Random Forest for predictions, and [Voxelizations with 3DCnns](https://github.com/jaeeolma/enveco/blob/master/examples/Voxelizations%20with%203DCnns.ipynb) shows an example of predicting features from voxel grids."
   ]
  },
  {
   "cell_type": "markdown",
   "metadata": {},
   "source": [
    "## Authors"
   ]
  },
  {
   "cell_type": "markdown",
   "metadata": {},
   "source": [
    "Todo"
   ]
  }
 ],
 "metadata": {
  "kernelspec": {
   "display_name": "Python 3",
   "language": "python",
   "name": "python3"
  }
 },
 "nbformat": 4,
 "nbformat_minor": 2
}
