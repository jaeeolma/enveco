{
 "cells": [
  {
   "cell_type": "code",
   "execution_count": null,
   "metadata": {},
   "outputs": [],
   "source": [
    "# default_exp tabular_models"
   ]
  },
  {
   "cell_type": "code",
   "execution_count": null,
   "metadata": {},
   "outputs": [],
   "source": [
    "%load_ext autoreload\n",
    "%autoreload 2"
   ]
  },
  {
   "cell_type": "markdown",
   "metadata": {},
   "source": [
    "# Tabular models for enveco data\n",
    "\n",
    "Use TabularPandas"
   ]
  },
  {
   "cell_type": "code",
   "execution_count": null,
   "metadata": {},
   "outputs": [],
   "source": [
    "#export\n",
    "from fastai.tabular.all import *\n",
    "from fastai.data.all import *\n",
    "from enveco.las import *\n",
    "from enveco.image import *"
   ]
  },
  {
   "cell_type": "code",
   "execution_count": null,
   "metadata": {},
   "outputs": [],
   "source": [
    "#export\n",
    "\n",
    "def get_lidar_procs(row, path, mask_plot=True):\n",
    "    \"Function for LiDAR opening and processing steps\"\n",
    "    las_data = las_to_df(f'{path}/{row.sampleplotid}.las')\n",
    "    if mask_plot == True: las_data = mask_plot_from_lidar(las_data, row.x, row.y)\n",
    "    metrics = calc_lidar_metrics(las_data)\n",
    "    return metrics"
   ]
  },
  {
   "cell_type": "code",
   "execution_count": null,
   "metadata": {},
   "outputs": [],
   "source": [
    "#export\n",
    "\n",
    "def get_image_procs(row, path, mask_plot=True):\n",
    "    \"Function for tif opening and processing steps\"\n",
    "    image_data = open_geotiff(f'{path}/{row.sampleplotid}.tif')\n",
    "    if mask_plot == True: image_data = mask_plot_from_image(image_data, radius=31)\n",
    "    metrics = calc_image_metrics(image_data)\n",
    "    return metrics"
   ]
  },
  {
   "cell_type": "code",
   "execution_count": null,
   "metadata": {},
   "outputs": [
    {
     "data": {
      "text/plain": [
       "Index(['sampleplotid', 'x', 'y', 'measurementdate', 'g', 'd', 'h', 'v', 'v_ma',\n",
       "       'v_ku', 'v_lp', 'myear', 'filename_1', 'a_date_1', 'a_window_1',\n",
       "       'filename_2', 'a_date_2', 'a_window_2'],\n",
       "      dtype='object')"
      ]
     },
     "execution_count": null,
     "metadata": {},
     "output_type": "execute_result"
    }
   ],
   "source": [
    "import pandas as pd\n",
    "import re\n",
    "\n",
    "df = pd.read_csv('../../enveco_data/enveco/AV.leaf.on.csv')\n",
    "df = df.rename(columns = lambda x: re.sub('[\\.]+', '_', x))\n",
    "df.columns"
   ]
  },
  {
   "cell_type": "code",
   "execution_count": null,
   "metadata": {},
   "outputs": [],
   "source": [
    "df[get_las_metric_cols()] = df.apply(lambda row: get_lidar_procs(row, path='../../enveco_data/enveco/AV_las/', mask_plot=True), axis=1,\n",
    "                                                 result_type='expand')"
   ]
  },
  {
   "cell_type": "code",
   "execution_count": null,
   "metadata": {},
   "outputs": [],
   "source": [
    "df[get_image_metric_cols()] = df.apply(lambda row: get_image_procs(row, path='../../enveco_data/enveco/AV_tif/', mask_plot=True), axis=1,\n",
    "                                                 result_type='expand')"
   ]
  },
  {
   "cell_type": "code",
   "execution_count": null,
   "metadata": {},
   "outputs": [
    {
     "data": {
      "text/plain": [
       "<AxesSubplot:>"
      ]
     },
     "execution_count": null,
     "metadata": {},
     "output_type": "execute_result"
    },
    {
     "data": {
      "image/png": "[encoded data removed]",
      "text/plain": [
       "<Figure size 432x288 with 1 Axes>"
      ]
     },
     "metadata": {
      "needs_background": "light"
     },
     "output_type": "display_data"
    }
   ],
   "source": [
    "df.ndvi_mean.hist(bins='auto')"
   ]
  },
  {
   "cell_type": "code",
   "execution_count": null,
   "metadata": {},
   "outputs": [],
   "source": [
    "splits = RandomSplitter(valid_pct=0.2)(range_of(df))"
   ]
  },
  {
   "cell_type": "code",
   "execution_count": null,
   "metadata": {},
   "outputs": [],
   "source": [
    "to = TabularPandas(df, procs=['Normalize'],\n",
    "                   cont_names=get_las_metric_cols(), y_names=['g'],\n",
    "                   splits=splits)"
   ]
  },
  {
   "cell_type": "code",
   "execution_count": null,
   "metadata": {},
   "outputs": [],
   "source": [
    "dls = to.dataloaders(bs=64)"
   ]
  },
  {
   "cell_type": "code",
   "execution_count": null,
   "metadata": {},
   "outputs": [],
   "source": [
    "from fastai.callback.mixup import *\n",
    "mixup = MixUp(0.5)"
   ]
  },
  {
   "cell_type": "code",
   "execution_count": null,
   "metadata": {},
   "outputs": [
    {
     "data": {
      "text/html": [
       "<table border=\"1\" class=\"dataframe\">\n",
       "  <thead>\n",
       "    <tr style=\"text-align: left;\">\n",
       "      <th>epoch</th>\n",
       "      <th>train_loss</th>\n",
       "      <th>valid_loss</th>\n",
       "      <th>_rmse</th>\n",
       "      <th>mae</th>\n",
       "      <th>time</th>\n",
       "    </tr>\n",
       "  </thead>\n",
       "  <tbody>\n",
       "    <tr>\n",
       "      <td>0</td>\n",
       "      <td>None</td>\n",
       "      <td>None</td>\n",
       "      <td>None</td>\n",
       "      <td>00:00</td>\n",
       "    </tr>\n",
       "  </tbody>\n",
       "</table>"
      ],
      "text/plain": [
       "<IPython.core.display.HTML object>"
      ]
     },
     "metadata": {},
     "output_type": "display_data"
    },
    {
     "data": {
      "text/plain": [
       "TabularModel (Input shape: ['64 x 0', '64 x 33'])\n",
       "================================================================\n",
       "Layer (type)         Output Shape         Param #    Trainable \n",
       "================================================================\n",
       "BatchNorm1d          64 x 33              66         True      \n",
       "________________________________________________________________\n",
       "BatchNorm1d          64 x 33              66         True      \n",
       "________________________________________________________________\n",
       "Linear               64 x 200             6,600      True      \n",
       "________________________________________________________________\n",
       "ReLU                 64 x 100             0          False     \n",
       "________________________________________________________________\n",
       "BatchNorm1d          64 x 200             400        True      \n",
       "________________________________________________________________\n",
       "Linear               64 x 100             20,000     True      \n",
       "________________________________________________________________\n",
       "ReLU                 64 x 100             0          False     \n",
       "________________________________________________________________\n",
       "Linear               64 x 1               101        True      \n",
       "________________________________________________________________\n",
       "\n",
       "Total params: 27,233\n",
       "Total trainable params: 27,233\n",
       "Total non-trainable params: 0\n",
       "\n",
       "Optimizer used: <function Adam at 0x7fb5d507eca0>\n",
       "Loss function: FlattenedLoss of MSELoss()\n",
       "\n",
       "Callbacks:\n",
       "  - TrainEvalCallback\n",
       "  - Recorder\n",
       "  - ProgressCallback"
      ]
     },
     "execution_count": null,
     "metadata": {},
     "output_type": "execute_result"
    }
   ],
   "source": [
    "learn = tabular_learner(dls, metrics=[rmse, mae], callbacks=mixup)\n",
    "learn.summary()"
   ]
  },
  {
   "cell_type": "code",
   "execution_count": null,
   "metadata": {},
   "outputs": [
    {
     "data": {
      "text/html": [
       "<table border=\"1\" class=\"dataframe\">\n",
       "  <thead>\n",
       "    <tr style=\"text-align: left;\">\n",
       "      <th>epoch</th>\n",
       "      <th>train_loss</th>\n",
       "      <th>valid_loss</th>\n",
       "      <th>_rmse</th>\n",
       "      <th>mae</th>\n",
       "      <th>time</th>\n",
       "    </tr>\n",
       "  </thead>\n",
       "  <tbody>\n",
       "    <tr>\n",
       "      <td>0</td>\n",
       "      <td>441.826050</td>\n",
       "      <td>428.917480</td>\n",
       "      <td>20.710323</td>\n",
       "      <td>19.115854</td>\n",
       "      <td>00:00</td>\n",
       "    </tr>\n",
       "    <tr>\n",
       "      <td>1</td>\n",
       "      <td>437.174744</td>\n",
       "      <td>421.981812</td>\n",
       "      <td>20.542194</td>\n",
       "      <td>18.966660</td>\n",
       "      <td>00:00</td>\n",
       "    </tr>\n",
       "    <tr>\n",
       "      <td>2</td>\n",
       "      <td>428.906952</td>\n",
       "      <td>406.917877</td>\n",
       "      <td>20.172205</td>\n",
       "      <td>18.648882</td>\n",
       "      <td>00:00</td>\n",
       "    </tr>\n",
       "    <tr>\n",
       "      <td>3</td>\n",
       "      <td>418.686676</td>\n",
       "      <td>382.127960</td>\n",
       "      <td>19.548096</td>\n",
       "      <td>18.105986</td>\n",
       "      <td>00:00</td>\n",
       "    </tr>\n",
       "    <tr>\n",
       "      <td>4</td>\n",
       "      <td>400.941498</td>\n",
       "      <td>332.061707</td>\n",
       "      <td>18.222559</td>\n",
       "      <td>16.919434</td>\n",
       "      <td>00:00</td>\n",
       "    </tr>\n",
       "    <tr>\n",
       "      <td>5</td>\n",
       "      <td>369.040436</td>\n",
       "      <td>244.713791</td>\n",
       "      <td>15.643332</td>\n",
       "      <td>14.408136</td>\n",
       "      <td>00:00</td>\n",
       "    </tr>\n",
       "    <tr>\n",
       "      <td>6</td>\n",
       "      <td>318.294647</td>\n",
       "      <td>154.234604</td>\n",
       "      <td>12.419123</td>\n",
       "      <td>10.798675</td>\n",
       "      <td>00:00</td>\n",
       "    </tr>\n",
       "    <tr>\n",
       "      <td>7</td>\n",
       "      <td>257.055450</td>\n",
       "      <td>89.067772</td>\n",
       "      <td>9.437572</td>\n",
       "      <td>7.919921</td>\n",
       "      <td>00:00</td>\n",
       "    </tr>\n",
       "    <tr>\n",
       "      <td>8</td>\n",
       "      <td>196.710678</td>\n",
       "      <td>43.326771</td>\n",
       "      <td>6.582307</td>\n",
       "      <td>5.314987</td>\n",
       "      <td>00:00</td>\n",
       "    </tr>\n",
       "    <tr>\n",
       "      <td>9</td>\n",
       "      <td>147.243011</td>\n",
       "      <td>27.951687</td>\n",
       "      <td>5.286935</td>\n",
       "      <td>4.235329</td>\n",
       "      <td>00:00</td>\n",
       "    </tr>\n",
       "    <tr>\n",
       "      <td>10</td>\n",
       "      <td>110.317070</td>\n",
       "      <td>20.247082</td>\n",
       "      <td>4.499676</td>\n",
       "      <td>3.574738</td>\n",
       "      <td>00:00</td>\n",
       "    </tr>\n",
       "    <tr>\n",
       "      <td>11</td>\n",
       "      <td>83.318520</td>\n",
       "      <td>17.885433</td>\n",
       "      <td>4.229117</td>\n",
       "      <td>3.290215</td>\n",
       "      <td>00:00</td>\n",
       "    </tr>\n",
       "    <tr>\n",
       "      <td>12</td>\n",
       "      <td>63.936981</td>\n",
       "      <td>16.889458</td>\n",
       "      <td>4.109679</td>\n",
       "      <td>3.180343</td>\n",
       "      <td>00:00</td>\n",
       "    </tr>\n",
       "    <tr>\n",
       "      <td>13</td>\n",
       "      <td>49.992050</td>\n",
       "      <td>16.802042</td>\n",
       "      <td>4.099030</td>\n",
       "      <td>3.162076</td>\n",
       "      <td>00:00</td>\n",
       "    </tr>\n",
       "    <tr>\n",
       "      <td>14</td>\n",
       "      <td>40.891968</td>\n",
       "      <td>17.256580</td>\n",
       "      <td>4.154104</td>\n",
       "      <td>3.204876</td>\n",
       "      <td>00:00</td>\n",
       "    </tr>\n",
       "    <tr>\n",
       "      <td>15</td>\n",
       "      <td>34.341160</td>\n",
       "      <td>16.244013</td>\n",
       "      <td>4.030386</td>\n",
       "      <td>3.110040</td>\n",
       "      <td>00:00</td>\n",
       "    </tr>\n",
       "    <tr>\n",
       "      <td>16</td>\n",
       "      <td>29.609934</td>\n",
       "      <td>16.228245</td>\n",
       "      <td>4.028430</td>\n",
       "      <td>3.100649</td>\n",
       "      <td>00:00</td>\n",
       "    </tr>\n",
       "    <tr>\n",
       "      <td>17</td>\n",
       "      <td>26.478182</td>\n",
       "      <td>15.462076</td>\n",
       "      <td>3.932184</td>\n",
       "      <td>3.013558</td>\n",
       "      <td>00:00</td>\n",
       "    </tr>\n",
       "    <tr>\n",
       "      <td>18</td>\n",
       "      <td>24.065166</td>\n",
       "      <td>15.815002</td>\n",
       "      <td>3.976808</td>\n",
       "      <td>3.038909</td>\n",
       "      <td>00:00</td>\n",
       "    </tr>\n",
       "    <tr>\n",
       "      <td>19</td>\n",
       "      <td>22.683327</td>\n",
       "      <td>16.271622</td>\n",
       "      <td>4.033810</td>\n",
       "      <td>3.076782</td>\n",
       "      <td>00:00</td>\n",
       "    </tr>\n",
       "    <tr>\n",
       "      <td>20</td>\n",
       "      <td>21.550993</td>\n",
       "      <td>15.398357</td>\n",
       "      <td>3.924074</td>\n",
       "      <td>3.021914</td>\n",
       "      <td>00:00</td>\n",
       "    </tr>\n",
       "    <tr>\n",
       "      <td>21</td>\n",
       "      <td>20.519520</td>\n",
       "      <td>15.669466</td>\n",
       "      <td>3.958467</td>\n",
       "      <td>3.035287</td>\n",
       "      <td>00:00</td>\n",
       "    </tr>\n",
       "    <tr>\n",
       "      <td>22</td>\n",
       "      <td>20.325504</td>\n",
       "      <td>15.555258</td>\n",
       "      <td>3.944016</td>\n",
       "      <td>3.035352</td>\n",
       "      <td>00:00</td>\n",
       "    </tr>\n",
       "    <tr>\n",
       "      <td>23</td>\n",
       "      <td>19.381979</td>\n",
       "      <td>15.667065</td>\n",
       "      <td>3.958164</td>\n",
       "      <td>3.032721</td>\n",
       "      <td>00:00</td>\n",
       "    </tr>\n",
       "    <tr>\n",
       "      <td>24</td>\n",
       "      <td>18.846666</td>\n",
       "      <td>15.219409</td>\n",
       "      <td>3.901206</td>\n",
       "      <td>3.011110</td>\n",
       "      <td>00:00</td>\n",
       "    </tr>\n",
       "    <tr>\n",
       "      <td>25</td>\n",
       "      <td>18.160450</td>\n",
       "      <td>15.633429</td>\n",
       "      <td>3.953913</td>\n",
       "      <td>3.030848</td>\n",
       "      <td>00:00</td>\n",
       "    </tr>\n",
       "    <tr>\n",
       "      <td>26</td>\n",
       "      <td>18.202063</td>\n",
       "      <td>15.474712</td>\n",
       "      <td>3.933791</td>\n",
       "      <td>3.042459</td>\n",
       "      <td>00:00</td>\n",
       "    </tr>\n",
       "    <tr>\n",
       "      <td>27</td>\n",
       "      <td>17.877056</td>\n",
       "      <td>15.395642</td>\n",
       "      <td>3.923728</td>\n",
       "      <td>3.014328</td>\n",
       "      <td>00:00</td>\n",
       "    </tr>\n",
       "    <tr>\n",
       "      <td>28</td>\n",
       "      <td>17.380421</td>\n",
       "      <td>15.005982</td>\n",
       "      <td>3.873755</td>\n",
       "      <td>2.972460</td>\n",
       "      <td>00:00</td>\n",
       "    </tr>\n",
       "    <tr>\n",
       "      <td>29</td>\n",
       "      <td>17.039240</td>\n",
       "      <td>14.880912</td>\n",
       "      <td>3.857579</td>\n",
       "      <td>2.951546</td>\n",
       "      <td>00:00</td>\n",
       "    </tr>\n",
       "    <tr>\n",
       "      <td>30</td>\n",
       "      <td>17.357462</td>\n",
       "      <td>15.384985</td>\n",
       "      <td>3.922370</td>\n",
       "      <td>2.998055</td>\n",
       "      <td>00:00</td>\n",
       "    </tr>\n",
       "    <tr>\n",
       "      <td>31</td>\n",
       "      <td>17.240709</td>\n",
       "      <td>14.913816</td>\n",
       "      <td>3.861842</td>\n",
       "      <td>2.962048</td>\n",
       "      <td>00:00</td>\n",
       "    </tr>\n",
       "    <tr>\n",
       "      <td>32</td>\n",
       "      <td>17.285721</td>\n",
       "      <td>14.685131</td>\n",
       "      <td>3.832118</td>\n",
       "      <td>2.937521</td>\n",
       "      <td>00:00</td>\n",
       "    </tr>\n",
       "    <tr>\n",
       "      <td>33</td>\n",
       "      <td>17.017067</td>\n",
       "      <td>15.018023</td>\n",
       "      <td>3.875309</td>\n",
       "      <td>2.973081</td>\n",
       "      <td>00:00</td>\n",
       "    </tr>\n",
       "    <tr>\n",
       "      <td>34</td>\n",
       "      <td>16.715981</td>\n",
       "      <td>14.956153</td>\n",
       "      <td>3.867318</td>\n",
       "      <td>2.975239</td>\n",
       "      <td>00:00</td>\n",
       "    </tr>\n",
       "    <tr>\n",
       "      <td>35</td>\n",
       "      <td>16.304312</td>\n",
       "      <td>14.812317</td>\n",
       "      <td>3.848677</td>\n",
       "      <td>2.946048</td>\n",
       "      <td>00:00</td>\n",
       "    </tr>\n",
       "    <tr>\n",
       "      <td>36</td>\n",
       "      <td>16.465557</td>\n",
       "      <td>15.171731</td>\n",
       "      <td>3.895091</td>\n",
       "      <td>2.976046</td>\n",
       "      <td>00:00</td>\n",
       "    </tr>\n",
       "    <tr>\n",
       "      <td>37</td>\n",
       "      <td>16.115913</td>\n",
       "      <td>15.208179</td>\n",
       "      <td>3.899767</td>\n",
       "      <td>2.991107</td>\n",
       "      <td>00:00</td>\n",
       "    </tr>\n",
       "    <tr>\n",
       "      <td>38</td>\n",
       "      <td>16.111471</td>\n",
       "      <td>14.935718</td>\n",
       "      <td>3.864676</td>\n",
       "      <td>2.960784</td>\n",
       "      <td>00:00</td>\n",
       "    </tr>\n",
       "    <tr>\n",
       "      <td>39</td>\n",
       "      <td>15.932273</td>\n",
       "      <td>15.031964</td>\n",
       "      <td>3.877108</td>\n",
       "      <td>2.965936</td>\n",
       "      <td>00:00</td>\n",
       "    </tr>\n",
       "    <tr>\n",
       "      <td>40</td>\n",
       "      <td>15.766012</td>\n",
       "      <td>15.048120</td>\n",
       "      <td>3.879190</td>\n",
       "      <td>2.958612</td>\n",
       "      <td>00:00</td>\n",
       "    </tr>\n",
       "    <tr>\n",
       "      <td>41</td>\n",
       "      <td>15.678741</td>\n",
       "      <td>15.048930</td>\n",
       "      <td>3.879295</td>\n",
       "      <td>2.962446</td>\n",
       "      <td>00:00</td>\n",
       "    </tr>\n",
       "    <tr>\n",
       "      <td>42</td>\n",
       "      <td>15.715038</td>\n",
       "      <td>14.967997</td>\n",
       "      <td>3.868850</td>\n",
       "      <td>2.969611</td>\n",
       "      <td>00:00</td>\n",
       "    </tr>\n",
       "    <tr>\n",
       "      <td>43</td>\n",
       "      <td>15.538821</td>\n",
       "      <td>14.920508</td>\n",
       "      <td>3.862708</td>\n",
       "      <td>2.954077</td>\n",
       "      <td>00:00</td>\n",
       "    </tr>\n",
       "    <tr>\n",
       "      <td>44</td>\n",
       "      <td>16.490528</td>\n",
       "      <td>14.857244</td>\n",
       "      <td>3.854510</td>\n",
       "      <td>2.956443</td>\n",
       "      <td>00:00</td>\n",
       "    </tr>\n",
       "    <tr>\n",
       "      <td>45</td>\n",
       "      <td>16.578831</td>\n",
       "      <td>14.922021</td>\n",
       "      <td>3.862904</td>\n",
       "      <td>2.958833</td>\n",
       "      <td>00:00</td>\n",
       "    </tr>\n",
       "    <tr>\n",
       "      <td>46</td>\n",
       "      <td>16.228456</td>\n",
       "      <td>15.063604</td>\n",
       "      <td>3.881186</td>\n",
       "      <td>2.958159</td>\n",
       "      <td>00:00</td>\n",
       "    </tr>\n",
       "    <tr>\n",
       "      <td>47</td>\n",
       "      <td>16.059946</td>\n",
       "      <td>14.911041</td>\n",
       "      <td>3.861481</td>\n",
       "      <td>2.948266</td>\n",
       "      <td>00:00</td>\n",
       "    </tr>\n",
       "    <tr>\n",
       "      <td>48</td>\n",
       "      <td>15.867268</td>\n",
       "      <td>15.028376</td>\n",
       "      <td>3.876645</td>\n",
       "      <td>2.964973</td>\n",
       "      <td>00:00</td>\n",
       "    </tr>\n",
       "    <tr>\n",
       "      <td>49</td>\n",
       "      <td>15.740931</td>\n",
       "      <td>14.958037</td>\n",
       "      <td>3.867562</td>\n",
       "      <td>2.961269</td>\n",
       "      <td>00:00</td>\n",
       "    </tr>\n",
       "  </tbody>\n",
       "</table>"
      ],
      "text/plain": [
       "<IPython.core.display.HTML object>"
      ]
     },
     "metadata": {},
     "output_type": "display_data"
    }
   ],
   "source": [
    "learn.fit_one_cycle(50)"
   ]
  },
  {
   "cell_type": "code",
   "execution_count": null,
   "metadata": {},
   "outputs": [
    {
     "data": {
      "text/html": [],
      "text/plain": [
       "<IPython.core.display.HTML object>"
      ]
     },
     "metadata": {},
     "output_type": "display_data"
    }
   ],
   "source": [
    "preds,y = learn.get_preds()"
   ]
  },
  {
   "cell_type": "code",
   "execution_count": null,
   "metadata": {},
   "outputs": [
    {
     "data": {
      "text/html": [],
      "text/plain": [
       "<IPython.core.display.HTML object>"
      ]
     },
     "metadata": {},
     "output_type": "display_data"
    },
    {
     "data": {
      "text/plain": [
       "(#3) [14.958037376403809,3.8675622940063477,2.9612691402435303]"
      ]
     },
     "execution_count": null,
     "metadata": {},
     "output_type": "execute_result"
    }
   ],
   "source": [
    "learn.validate()"
   ]
  },
  {
   "cell_type": "code",
   "execution_count": null,
   "metadata": {},
   "outputs": [
    {
     "data": {
      "image/png": "[encoded data removed]",
      "text/plain": [
       "<Figure size 432x432 with 1 Axes>"
      ]
     },
     "metadata": {
      "needs_background": "light"
     },
     "output_type": "display_data"
    }
   ],
   "source": [
    "from matplotlib import pyplot as plt\n",
    "fig = plt.figure(figsize=(6,6))\n",
    "plt.scatter(y, preds)\n",
    "plt.xlabel('correct')\n",
    "plt.ylabel('predictions')\n",
    "x = np.linspace(0, max(preds.max(),y.max()))\n",
    "plt.plot(x, x, color='orange')\n",
    "plt.grid()"
   ]
  },
  {
   "cell_type": "code",
   "execution_count": null,
   "metadata": {},
   "outputs": [],
   "source": [
    "from sklearn.ensemble import RandomForestRegressor"
   ]
  },
  {
   "cell_type": "code",
   "execution_count": null,
   "metadata": {},
   "outputs": [],
   "source": [
    "rf = RandomForestRegressor(n_estimators=500, max_features='log2')"
   ]
  },
  {
   "cell_type": "code",
   "execution_count": null,
   "metadata": {},
   "outputs": [
    {
     "data": {
      "text/plain": [
       "RandomForestRegressor(max_features='log2', n_estimators=500)"
      ]
     },
     "execution_count": null,
     "metadata": {},
     "output_type": "execute_result"
    }
   ],
   "source": [
    "rf.fit(to.train.xs, to.train.ys.values.ravel())"
   ]
  },
  {
   "cell_type": "code",
   "execution_count": null,
   "metadata": {},
   "outputs": [],
   "source": [
    "rf_preds = rf.predict(to.valid.xs)"
   ]
  },
  {
   "cell_type": "code",
   "execution_count": null,
   "metadata": {},
   "outputs": [
    {
     "data": {
      "image/png": "[encoded data removed]",
      "text/plain": [
       "<Figure size 432x432 with 1 Axes>"
      ]
     },
     "metadata": {
      "needs_background": "light"
     },
     "output_type": "display_data"
    }
   ],
   "source": [
    "from matplotlib import pyplot as plt\n",
    "fig = plt.figure(figsize=(6,6))\n",
    "plt.scatter(to.valid.ys.values.ravel(), rf_preds)\n",
    "plt.xlabel('correct')\n",
    "plt.ylabel('predictions')\n",
    "x = np.linspace(0, max(rf_preds.max(),y.max()))\n",
    "plt.plot(x, x, color='orange')\n",
    "plt.grid()"
   ]
  },
  {
   "cell_type": "code",
   "execution_count": null,
   "metadata": {},
   "outputs": [
    {
     "data": {
      "text/plain": [
       "(4.033682757670845, 3.0880443162710076)"
      ]
     },
     "execution_count": null,
     "metadata": {},
     "output_type": "execute_result"
    }
   ],
   "source": [
    "from sklearn.metrics import mean_absolute_error, mean_squared_error\n",
    "mean_squared_error(to.valid.ys.values.ravel(), rf_preds, squared=False), mean_absolute_error(to.valid.ys.values.ravel(), rf_preds)"
   ]
  },
  {
   "cell_type": "code",
   "execution_count": null,
   "metadata": {},
   "outputs": [],
   "source": []
  }
 ],
 "metadata": {
  "kernelspec": {
   "display_name": "Python 3",
   "language": "python",
   "name": "python3"
  }
 },
 "nbformat": 4,
 "nbformat_minor": 4
}
