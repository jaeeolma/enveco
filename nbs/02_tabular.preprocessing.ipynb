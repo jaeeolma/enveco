{
 "cells": [
  {
   "cell_type": "code",
   "execution_count": null,
   "metadata": {},
   "outputs": [],
   "source": [
    "# default_exp tabular.preprocessing"
   ]
  },
  {
   "cell_type": "code",
   "execution_count": null,
   "metadata": {},
   "outputs": [],
   "source": [
    "#hide\n",
    "from nbdev.showdoc import *"
   ]
  },
  {
   "cell_type": "markdown",
   "metadata": {},
   "source": [
    "# Preprocessor for tabular models"
   ]
  },
  {
   "cell_type": "code",
   "execution_count": null,
   "metadata": {},
   "outputs": [],
   "source": [
    "#export\n",
    "from fastai.tabular.all import *\n",
    "from fastai.data.all import *\n",
    "from fastai.vision.data import get_grid\n",
    "from enveco.data.las import *\n",
    "from enveco.data.image import *\n",
    "import matplotlib.patches as mpl_patches\n",
    "from typing import Tuple\n",
    "from fastai.metrics import *"
   ]
  },
  {
   "cell_type": "markdown",
   "metadata": {},
   "source": [
    "## Preprocessing"
   ]
  },
  {
   "cell_type": "markdown",
   "metadata": {},
   "source": [
    "Preprocess csv-files of our field plot data into `TabularPandas` to feed into models."
   ]
  },
  {
   "cell_type": "code",
   "execution_count": null,
   "metadata": {},
   "outputs": [],
   "source": [
    "#export\n",
    "\n",
    "def get_lidar_feature(row, path, feature_func, min_h:float=1.5, mask_plot=True):\n",
    "    \"Function for LiDAR opening and processing steps\"\n",
    "    las_data = las_to_df(f'{path}/{row.sampleplotid}.las')\n",
    "    if mask_plot == True: las_data = mask_plot_from_lidar(las_data, row.x, row.y)\n",
    "    features = feature_func(las_data, min_h)\n",
    "    return features"
   ]
  },
  {
   "cell_type": "code",
   "execution_count": null,
   "metadata": {},
   "outputs": [],
   "source": [
    "#export\n",
    "\n",
    "def get_image_procs(row, path, radius=31, mask_plot=True):\n",
    "    \"Function for tif opening and processing steps\"\n",
    "    image_data = open_geotiff(f'{path}/{row.sampleplotid}.tif')\n",
    "    if mask_plot == True: image_data = mask_plot_from_image(image_data, radius=radius)\n",
    "    metrics = calc_image_metrics(image_data)\n",
    "    return metrics"
   ]
  },
  {
   "cell_type": "code",
   "execution_count": null,
   "metadata": {},
   "outputs": [],
   "source": [
    "# export\n",
    "\n",
    "class EnvecoPreprocessor():\n",
    "    \n",
    "    def __init__(self, train_path, valid_path, test_path, **kwargs):\n",
    "        self.train_df = pd.read_csv(train_path)\n",
    "        self.train_df = self.train_df.rename(columns = lambda x: re.sub('[\\.]+', '_', x))\n",
    "        self.valid_df = pd.read_csv(valid_path)\n",
    "        self.valid_df = self.valid_df.rename(columns = lambda x: re.sub('[\\.]+', '_', x))\n",
    "        self.test_df = pd.read_csv(test_path)\n",
    "        self.test_df = self.test_df.rename(columns = lambda x: re.sub('[\\.]+', '_', x))\n",
    "        self.train_df['is_valid'] = 0\n",
    "        self.valid_df['is_valid'] = 1\n",
    "        self.train_val_df = pd.concat((self.train_df, self.valid_df))\n",
    "        \n",
    "        \n",
    "    def preprocess_lidar(self, target_col, path, min_h:float=1.5, mask_plot:bool=True, height_features:bool=True,\n",
    "                         point_features:bool=True, intensity_features:bool=True, height_quantiles:bool=True,\n",
    "                         point_proportions:bool=True, canopy_densities:bool=True, normalize:bool=True,\n",
    "                         log_y:bool=False) -> Tuple[TabularPandas, TabularPandas]:\n",
    "        \"Preprocess data and return (train_val, test) -tuple. Optionally log-transform target column with np.log1p\"\n",
    "        trainval = self.train_val_df.copy()\n",
    "        test = self.test_df.copy()\n",
    "        feature_cols = []\n",
    "        if height_features:\n",
    "            print('Adding height based features')\n",
    "            trainval[height_cols] = trainval.apply(lambda row: get_lidar_feature(row, path, calc_height_features, \n",
    "                                                                                 min_h, mask_plot), \n",
    "                                                   axis=1, result_type='expand')\n",
    "            test[height_cols] = test.apply(lambda row: get_lidar_feature(row, path, calc_height_features, \n",
    "                                                                         min_h, mask_plot), \n",
    "                                           axis=1, result_type='expand')\n",
    "            feature_cols.extend(height_cols)\n",
    "\n",
    "        if point_features:\n",
    "            print('Adding point distribution based features')\n",
    "            trainval[point_cols] = trainval.apply(lambda row: get_lidar_feature(row, path, calc_point_features, \n",
    "                                                                                min_h, mask_plot), \n",
    "                                                   axis=1, result_type='expand')\n",
    "            test[point_cols] = test.apply(lambda row: get_lidar_feature(row, path, calc_point_features, \n",
    "                                                                                 min_h, mask_plot), \n",
    "                                           axis=1, result_type='expand')\n",
    "            feature_cols.extend(point_cols)\n",
    "            \n",
    "        if intensity_features:\n",
    "            print('Adding intensity based features')\n",
    "            trainval[intensity_cols] = trainval.apply(lambda row: get_lidar_feature(row, path, calc_intensity_features, \n",
    "                                                                                    min_h, mask_plot), \n",
    "                                                   axis=1, result_type='expand')\n",
    "            test[intensity_cols] = test.apply(lambda row: get_lidar_feature(row, path, calc_intensity_features, \n",
    "                                                                            min_h, mask_plot), \n",
    "                                              axis=1, result_type='expand')\n",
    "            feature_cols.extend(intensity_cols)\n",
    "            \n",
    "        if height_quantiles:\n",
    "            print('Adding height quantiles')\n",
    "            trainval[quantile_cols] = trainval.apply(lambda row: get_lidar_feature(row, path, calc_height_quantiles, \n",
    "                                                                                  min_h, mask_plot), \n",
    "                                                   axis=1, result_type='expand')\n",
    "            test[quantile_cols] = test.apply(lambda row: get_lidar_feature(row, path, calc_height_quantiles,\n",
    "                                                                           min_h, mask_plot), \n",
    "                                             axis=1, result_type='expand')\n",
    "            feature_cols.extend(quantile_cols)\n",
    "            \n",
    "        if point_proportions:\n",
    "            print('Adding point proportions')\n",
    "            trainval[proportion_cols] = trainval.apply(lambda row: get_lidar_feature(row, path, calc_point_proportions, \n",
    "                                                                                    min_h, mask_plot), \n",
    "                                                       axis=1, result_type='expand')\n",
    "            test[proportion_cols] = test.apply(lambda row: get_lidar_feature(row, path, calc_point_proportions, \n",
    "                                                                                 min_h, mask_plot), \n",
    "                                               axis=1, result_type='expand')\n",
    "            feature_cols.extend(proportion_cols)\n",
    "            \n",
    "        if canopy_densities:\n",
    "            print('Adding canopy densities')\n",
    "            trainval[density_cols] = trainval.apply(lambda row: get_lidar_feature(row, path, calc_canopy_densities, \n",
    "                                                                                    min_h, mask_plot), \n",
    "                                                       axis=1, result_type='expand')\n",
    "            test[density_cols] = test.apply(lambda row: get_lidar_feature(row, path, calc_canopy_densities, \n",
    "                                                                                 min_h, mask_plot), \n",
    "                                               axis=1, result_type='expand')\n",
    "            feature_cols.extend(density_cols)   \n",
    "        \n",
    "        if log_y:\n",
    "            trainval[target_col] = np.log1p(trainval[target_col])\n",
    "            test[target_col] = np.log1p(test[target_col])\n",
    "        \n",
    "        means = []\n",
    "        stds = []\n",
    "        procs = None\n",
    "        if normalize:\n",
    "            procs = [Normalize]#.from_stats(*norm_stats)]\n",
    "        trainval_tb = TabularPandas(trainval, procs=procs,\n",
    "                                    cont_names=feature_cols, y_names=target_col,\n",
    "                                    splits=ColSplitter(col='is_valid')(trainval))\n",
    "        test_tb = TabularPandas(test, procs=procs,\n",
    "                                cont_names=feature_cols, y_names=target_col)\n",
    "        return trainval_tb, test_tb\n",
    "    \n",
    "    def preprocess_image(self, target_col, path, radius:int=31, mask_plot=True) -> Tuple[TabularPandas, TabularPandas]:\n",
    "        \"Preprocess dataframes and return (train_val, test) -tuple\"\n",
    "        # TODO\n",
    "        pass\n",
    "    \n",
    "    def preprocess(self, target_col, path, lidar:bool=True, image:bool=True, min_h:float=1.5, radius:int=31, \n",
    "                   mask_plot:bool=True) -> Tuple[TabularPandas, TabularPandas]:\n",
    "        \"Preprocess dataframes and return (train_val, test) -tuple\"\n",
    "        # TODO\n",
    "        pass"
   ]
  },
  {
   "cell_type": "code",
   "execution_count": null,
   "metadata": {},
   "outputs": [
    {
     "name": "stdout",
     "output_type": "stream",
     "text": [
      "Converted 00_data.image.ipynb.\n",
      "Converted 01_data.las.ipynb.\n",
      "Converted 02_tabular.preprocessing.ipynb.\n",
      "Converted 03_models.inception3dv3.ipynb.\n",
      "Converted 04_interpretation.ipynb.\n",
      "Converted 05_metrics.ipynb.\n",
      "Converted 06_models.ensemble.ipynb.\n",
      "Converted index.ipynb.\n",
      "converting: /mnt/d/Users/E1005164/enveco/nbs/02_tabular.preprocessing.ipynb\n",
      "converting /mnt/d/Users/E1005164/enveco/nbs/index.ipynb to README.md\n"
     ]
    }
   ],
   "source": [
    "# hide\n",
    "\n",
    "from nbdev.export import notebook2script\n",
    "notebook2script()\n",
    "!nbdev_build_docs"
   ]
  },
  {
   "cell_type": "code",
   "execution_count": null,
   "metadata": {},
   "outputs": [],
   "source": []
  }
 ],
 "metadata": {
  "kernelspec": {
   "display_name": "Python 3",
   "language": "python",
   "name": "python3"
  }
 },
 "nbformat": 4,
 "nbformat_minor": 4
}
